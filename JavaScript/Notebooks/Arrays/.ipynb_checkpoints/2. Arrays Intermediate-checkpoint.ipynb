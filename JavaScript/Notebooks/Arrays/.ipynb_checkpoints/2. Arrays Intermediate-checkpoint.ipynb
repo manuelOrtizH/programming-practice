{
 "cells": [
  {
   "cell_type": "markdown",
   "id": "ad95e307",
   "metadata": {},
   "source": [
    "# Arrays Intermediate"
   ]
  },
  {
   "cell_type": "markdown",
   "id": "d932cf9a",
   "metadata": {},
   "source": [
    "______\n",
    "## Insert elements in between elements\n",
    "<p style=\"font-style: italic;\"><b>splice()</b></p>"
   ]
  },
  {
   "cell_type": "code",
   "execution_count": 1,
   "id": "17e4f0f9",
   "metadata": {},
   "outputs": [
    {
     "data": {
      "text/plain": [
       "[ 1, 'ElementAddedBySplice', 3, 4, 5 ]"
      ]
     },
     "execution_count": 1,
     "metadata": {},
     "output_type": "execute_result"
    }
   ],
   "source": [
    "const numbers = [1,2,3,4,5];\n",
    "numbers.splice(1 /* The index where you want to start */  , \n",
    "               1 /* The element or elements you want to delete from the indicated index */ ,\n",
    "               'ElementAddedBySplice' /* The element or elements you want to add */);\n",
    "numbers;"
   ]
  },
  {
   "cell_type": "markdown",
   "id": "da47412c",
   "metadata": {},
   "source": [
    "You can add multiple values"
   ]
  },
  {
   "cell_type": "code",
   "execution_count": 19,
   "id": "63c12bfb",
   "metadata": {},
   "outputs": [
    {
     "data": {
      "text/plain": [
       "[\n",
       "  2,   10,  'A', 'B', 'C',\n",
       "  'D', 'E', 'F', 'G', 73,\n",
       "  1,   87\n",
       "]"
      ]
     },
     "execution_count": 19,
     "metadata": {},
     "output_type": "execute_result"
    }
   ],
   "source": [
    "let example1 = [2,10,9,100, 4, 73, 1, 87];\n",
    "example1.splice(2,3,'A', 'B', 'C', 'D', 'E', 'F', 'G');\n",
    "example1;"
   ]
  },
  {
   "cell_type": "markdown",
   "id": "1bddd99e",
   "metadata": {},
   "source": [
    "You can delete multiple values, and adding one or more elements."
   ]
  },
  {
   "cell_type": "code",
   "execution_count": 20,
   "id": "f2362f4f",
   "metadata": {},
   "outputs": [
    {
     "data": {
      "text/plain": [
       "[ 'A', 4, 73, 1, 87 ]"
      ]
     },
     "execution_count": 20,
     "metadata": {},
     "output_type": "execute_result"
    }
   ],
   "source": [
    "example1 = [2,10,9,100, 4, 73, 1, 87];\n",
    "example1.splice(0,4,'A');\n",
    "example1;"
   ]
  },
  {
   "cell_type": "markdown",
   "id": "f72f863d",
   "metadata": {},
   "source": [
    "You can just delete from a certain range and not adding any element"
   ]
  },
  {
   "cell_type": "code",
   "execution_count": 22,
   "id": "97a0951e",
   "metadata": {},
   "outputs": [
    {
     "data": {
      "text/plain": [
       "[ 4, 73, 1, 87 ]"
      ]
     },
     "execution_count": 22,
     "metadata": {},
     "output_type": "execute_result"
    }
   ],
   "source": [
    "example1 = [2,10,9,100, 4, 73, 1, 87];\n",
    "example1.splice(0,4);\n",
    "example1;"
   ]
  },
  {
   "cell_type": "markdown",
   "id": "a6915edb",
   "metadata": {},
   "source": [
    "Also, to get to the last element, you can use <b>-1</b> index. This is exclusive to <b><i>splice()</i></b> and other couple of methods."
   ]
  },
  {
   "cell_type": "code",
   "execution_count": 23,
   "id": "5cc73aae",
   "metadata": {},
   "outputs": [
    {
     "name": "stdout",
     "output_type": "stream",
     "text": [
      "[ 1, 'ElementAddedBySplice', 3, 4, 5 ]\n"
     ]
    },
    {
     "data": {
      "text/plain": [
       "[ 1, 'ElementAddedBySplice', 3, 4 ]"
      ]
     },
     "execution_count": 23,
     "metadata": {},
     "output_type": "execute_result"
    }
   ],
   "source": [
    "console.log(numbers);\n",
    "numbers.splice(-1,1);\n",
    "numbers;"
   ]
  },
  {
   "cell_type": "markdown",
   "id": "4f5282a3",
   "metadata": {},
   "source": [
    "____\n",
    "## Selecting ranges and creating copies\n",
    "<b><i>slice()</i></b>  <br>\n",
    "Returns and brand new array. This is a great way to copy an array.\n",
    "Also, arrays are a reference."
   ]
  },
  {
   "cell_type": "markdown",
   "id": "7d53c701",
   "metadata": {},
   "source": [
    "### Getting the reference of an array"
   ]
  },
  {
   "cell_type": "code",
   "execution_count": 24,
   "id": "69f99cc5",
   "metadata": {},
   "outputs": [],
   "source": [
    "const testResults = [1,5.3,4,0,10];\n",
    "const storedResults = testResults;"
   ]
  },
  {
   "cell_type": "markdown",
   "id": "f10f4ed7",
   "metadata": {},
   "source": [
    "<i>storedResults</i> points at the address in memory of <i>testResults</i>."
   ]
  },
  {
   "attachments": {
    "Screen%20Shot%202021-09-03%20at%2015.21.35.png": {
     "image/png": "[encoded data removed]"
    }
   },
   "cell_type": "markdown",
   "id": "97d6fdbc",
   "metadata": {},
   "source": [
    "![Screen%20Shot%202021-09-03%20at%2015.21.35.png](attachment:Screen%20Shot%202021-09-03%20at%2015.21.35.png)"
   ]
  },
  {
   "cell_type": "code",
   "execution_count": 25,
   "id": "b16a9872",
   "metadata": {},
   "outputs": [
    {
     "name": "stdout",
     "output_type": "stream",
     "text": [
      "TestResults after pushing an element 1,5.3,4,0,10,11\n",
      "StoredResults modified even though it wasnt directly modified 1,5.3,4,0,10,11\n"
     ]
    }
   ],
   "source": [
    "testResults.push(11);\n",
    "console.log('TestResults after pushing an element ' + testResults);\n",
    "console.log('StoredResults modified even though it wasnt directly modified ' + storedResults);"
   ]
  },
  {
   "cell_type": "markdown",
   "id": "2f563b7d",
   "metadata": {},
   "source": [
    "When applying the method <b><i>slice()</b></i> you get a copy of the stored values of an array in that moment."
   ]
  },
  {
   "cell_type": "code",
   "execution_count": null,
   "id": "13c6ee94",
   "metadata": {},
   "outputs": [],
   "source": []
  }
 ],
 "metadata": {
  "kernelspec": {
   "display_name": "Javascript (Node.js)",
   "language": "javascript",
   "name": "javascript"
  },
  "language_info": {
   "file_extension": ".js",
   "mimetype": "application/javascript",
   "name": "javascript",
   "version": "12.16.3"
  }
 },
 "nbformat": 4,
 "nbformat_minor": 5
}
