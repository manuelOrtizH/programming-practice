{
 "cells": [
  {
   "cell_type": "markdown",
   "id": "e94af38a",
   "metadata": {},
   "source": [
    "# Tuples as Data Structures and Named Tuples\n",
    "\n",
    "<br></br>\n",
    "\n",
    "read-only lists... at least that's how many introductions to Python will present tuples\n",
    "\n",
    "This isn't wrong, but there's a lot more going on with tuples...\n",
    "\n",
    "If you only thinh of tuples as read-only lists, you're going to miss out on some interesting ideas\n",
    "\n",
    "We really need to think of tuples also as data records **position of value has meaning**\n",
    "\n",
    "This is why we are going to start looking nat tuples before we even cover sequence types\n",
    "\n",
    "We are going to focus on tuples as **data records or structures** and **named tuples**"
   ]
  },
  {
   "cell_type": "markdown",
   "id": "fb973424",
   "metadata": {},
   "source": [
    "-----\n",
    "## Tuples as Data Structures\n",
    "\n",
    "**Tuples vs Lists vs Strings** (Sequence Types)\n",
    "\n",
    "- **all** are ***containers***\n",
    "\n",
    "- **all** ***order matters***\n",
    "\n",
    "- Tuples tend to be **Heterogeneous**, but are also Homogeneous\n",
    "\n",
    "- Lists tend to be **Homogeneous**, but are also Heterogeneous\n",
    "\n",
    "- Strings are only Homogeneous\n",
    "\n",
    "- **all** are ***indexable***\n",
    "\n",
    "- **all** are ***iterable***\n",
    "\n",
    "- Tuples/Strings are immutable, the length **cannot** be changed, the order **cannot** be changed, **cannot** do in-place sorts and **cannot** do in-place reversals\n",
    "\n",
    "- Lists are mutable, the length can be changed, the order can be changed, can do in-place sorts and can do in-place reversals\n",
    "\n"
   ]
  },
  {
   "cell_type": "markdown",
   "id": "aeb64b02",
   "metadata": {},
   "source": [
    "### Immutability of Tuples\n",
    "\n",
    "elements cannot be added or removed\n",
    "\n",
    "the order of elements cannot be changed\n",
    "\n",
    "works well for representing data structures:\n",
    "\n",
    "- Point(x,y)\n",
    "\n",
    "- Circle(x,y,r)\n",
    "\n",
    "Here, we gave meaning to the position of the elements in the tuple, of its fixed order characteristic\n",
    "\n",
    "\n",
    "\n",
    "### Tuples as Data Records\n",
    "\n",
    "Think of a tuple as a data record where the position of the data has meaning\n",
    "\n",
    "    london = ('London', 'UK', 8_780_000)\n",
    "    new_york = ('New York', 'USA', 8_500_000)\n",
    "\n",
    "Because tuples, strings and integers are immutable, we are guaranteed that the stored data won't change."
   ]
  },
  {
   "cell_type": "code",
   "execution_count": 1,
   "id": "6533902b",
   "metadata": {},
   "outputs": [],
   "source": [
    "def print_tuple(t):\n",
    "    for e in t:\n",
    "        print(e)"
   ]
  },
  {
   "cell_type": "code",
   "execution_count": 3,
   "id": "10178e64",
   "metadata": {},
   "outputs": [
    {
     "name": "stdout",
     "output_type": "stream",
     "text": [
      "1\n",
      "2\n",
      "3\n",
      "4\n"
     ]
    }
   ],
   "source": [
    "print_tuple((1,2,3,4))"
   ]
  },
  {
   "cell_type": "code",
   "execution_count": 4,
   "id": "bb68b8f9",
   "metadata": {},
   "outputs": [
    {
     "data": {
      "text/plain": [
       "'a'"
      ]
     },
     "execution_count": 4,
     "metadata": {},
     "output_type": "execute_result"
    }
   ],
   "source": [
    "a = 'a', 10, 200\n",
    "a[0]"
   ]
  },
  {
   "cell_type": "code",
   "execution_count": 5,
   "id": "72511b03",
   "metadata": {},
   "outputs": [
    {
     "data": {
      "text/plain": [
       "10"
      ]
     },
     "execution_count": 5,
     "metadata": {},
     "output_type": "execute_result"
    }
   ],
   "source": [
    "a[1]"
   ]
  },
  {
   "cell_type": "code",
   "execution_count": 6,
   "id": "0cf4e51d",
   "metadata": {},
   "outputs": [],
   "source": [
    "a = 1,2,3,4,5,6"
   ]
  },
  {
   "cell_type": "code",
   "execution_count": 7,
   "id": "33d14664",
   "metadata": {},
   "outputs": [
    {
     "data": {
      "text/plain": [
       "(3, 4, 5)"
      ]
     },
     "execution_count": 7,
     "metadata": {},
     "output_type": "execute_result"
    }
   ],
   "source": [
    "a[2:5]"
   ]
  },
  {
   "cell_type": "code",
   "execution_count": 10,
   "id": "0cefe775",
   "metadata": {},
   "outputs": [
    {
     "data": {
      "text/plain": [
       "('a', 10, 200)"
      ]
     },
     "execution_count": 10,
     "metadata": {},
     "output_type": "execute_result"
    }
   ],
   "source": [
    "a = 'a', 10, 200\n",
    "x,y,z = a\n",
    "x,y,z"
   ]
  },
  {
   "cell_type": "code",
   "execution_count": 12,
   "id": "cf6d4861",
   "metadata": {},
   "outputs": [],
   "source": [
    "t = ('Manu', 'ITC', 22, 'Ortiz', 'CG', 'Hernandez')\n",
    "name, *_, last_name = t"
   ]
  },
  {
   "cell_type": "code",
   "execution_count": 13,
   "id": "55f34689",
   "metadata": {},
   "outputs": [
    {
     "data": {
      "text/plain": [
       "('Manu', 'Hernandez')"
      ]
     },
     "execution_count": 13,
     "metadata": {},
     "output_type": "execute_result"
    }
   ],
   "source": [
    "name, last_name"
   ]
  },
  {
   "cell_type": "code",
   "execution_count": 14,
   "id": "c34d02a5",
   "metadata": {},
   "outputs": [],
   "source": [
    "class Point2D:\n",
    "    def __init__(self, x,y):\n",
    "        self.x = x\n",
    "        self.y = y\n",
    "    \n",
    "    def __repr__(self):\n",
    "        return f'{self.__class__.__name__}: x={self.x}, y={self.y}'"
   ]
  },
  {
   "cell_type": "code",
   "execution_count": 15,
   "id": "577ea7ec",
   "metadata": {},
   "outputs": [
    {
     "data": {
      "text/plain": [
       "Point2D: x=10, y=20"
      ]
     },
     "execution_count": 15,
     "metadata": {},
     "output_type": "execute_result"
    }
   ],
   "source": [
    "pt = Point2D(10,20)\n",
    "pt"
   ]
  },
  {
   "cell_type": "code",
   "execution_count": 16,
   "id": "3c499ab3",
   "metadata": {},
   "outputs": [],
   "source": [
    "pt.x = 100"
   ]
  },
  {
   "cell_type": "code",
   "execution_count": 17,
   "id": "6dd1bf9c",
   "metadata": {},
   "outputs": [
    {
     "data": {
      "text/plain": [
       "4430760880"
      ]
     },
     "execution_count": 17,
     "metadata": {},
     "output_type": "execute_result"
    }
   ],
   "source": [
    "id(pt)"
   ]
  },
  {
   "cell_type": "code",
   "execution_count": 18,
   "id": "89001641",
   "metadata": {},
   "outputs": [
    {
     "data": {
      "text/plain": [
       "100"
      ]
     },
     "execution_count": 18,
     "metadata": {},
     "output_type": "execute_result"
    }
   ],
   "source": [
    "pt.x"
   ]
  },
  {
   "cell_type": "code",
   "execution_count": 19,
   "id": "c80861ea",
   "metadata": {},
   "outputs": [
    {
     "data": {
      "text/plain": [
       "20"
      ]
     },
     "execution_count": 19,
     "metadata": {},
     "output_type": "execute_result"
    }
   ],
   "source": [
    "pt.y"
   ]
  },
  {
   "cell_type": "code",
   "execution_count": 20,
   "id": "ea23eb4a",
   "metadata": {},
   "outputs": [],
   "source": [
    "a = Point2D(0,0), Point2D(10,20)"
   ]
  },
  {
   "cell_type": "code",
   "execution_count": 21,
   "id": "9e1d0e2d",
   "metadata": {},
   "outputs": [
    {
     "data": {
      "text/plain": [
       "(Point2D: x=0, y=0, Point2D: x=10, y=20)"
      ]
     },
     "execution_count": 21,
     "metadata": {},
     "output_type": "execute_result"
    }
   ],
   "source": [
    "a"
   ]
  },
  {
   "cell_type": "code",
   "execution_count": 22,
   "id": "3184ec86",
   "metadata": {},
   "outputs": [
    {
     "data": {
      "text/plain": [
       "4430759392"
      ]
     },
     "execution_count": 22,
     "metadata": {},
     "output_type": "execute_result"
    }
   ],
   "source": [
    "id(a[0])"
   ]
  },
  {
   "cell_type": "code",
   "execution_count": 23,
   "id": "44c68171",
   "metadata": {},
   "outputs": [],
   "source": [
    "a[0].x = 100"
   ]
  },
  {
   "cell_type": "code",
   "execution_count": 24,
   "id": "15852ffe",
   "metadata": {},
   "outputs": [
    {
     "data": {
      "text/plain": [
       "(Point2D: x=100, y=0, Point2D: x=10, y=20)"
      ]
     },
     "execution_count": 24,
     "metadata": {},
     "output_type": "execute_result"
    }
   ],
   "source": [
    "a"
   ]
  },
  {
   "cell_type": "code",
   "execution_count": 28,
   "id": "a3ecbd39",
   "metadata": {},
   "outputs": [],
   "source": [
    "s = 'python'"
   ]
  },
  {
   "cell_type": "code",
   "execution_count": 29,
   "id": "bd3f986a",
   "metadata": {},
   "outputs": [
    {
     "data": {
      "text/plain": [
       "4401869936"
      ]
     },
     "execution_count": 29,
     "metadata": {},
     "output_type": "execute_result"
    }
   ],
   "source": [
    "id(s)"
   ]
  },
  {
   "cell_type": "code",
   "execution_count": 30,
   "id": "68443221",
   "metadata": {},
   "outputs": [],
   "source": [
    "s = 'python ' + ' rocks!'"
   ]
  },
  {
   "cell_type": "code",
   "execution_count": 31,
   "id": "36e4c896",
   "metadata": {},
   "outputs": [
    {
     "data": {
      "text/plain": [
       "4430788272"
      ]
     },
     "execution_count": 31,
     "metadata": {},
     "output_type": "execute_result"
    }
   ],
   "source": [
    "id(s)"
   ]
  },
  {
   "cell_type": "markdown",
   "id": "547584c4",
   "metadata": {},
   "source": [
    "Just as we can see with strings, that a new reference is created when concatenating, the same happens with tuples."
   ]
  },
  {
   "cell_type": "code",
   "execution_count": 32,
   "id": "f1fad990",
   "metadata": {},
   "outputs": [],
   "source": [
    "a = 1,2,3"
   ]
  },
  {
   "cell_type": "code",
   "execution_count": 33,
   "id": "2b8bd5e1",
   "metadata": {},
   "outputs": [
    {
     "data": {
      "text/plain": [
       "4430218048"
      ]
     },
     "execution_count": 33,
     "metadata": {},
     "output_type": "execute_result"
    }
   ],
   "source": [
    "id(a)"
   ]
  },
  {
   "cell_type": "code",
   "execution_count": 34,
   "id": "258592a6",
   "metadata": {},
   "outputs": [],
   "source": [
    "a += (4,5)"
   ]
  },
  {
   "cell_type": "code",
   "execution_count": 35,
   "id": "380bab60",
   "metadata": {},
   "outputs": [
    {
     "data": {
      "text/plain": [
       "4430065152"
      ]
     },
     "execution_count": 35,
     "metadata": {},
     "output_type": "execute_result"
    }
   ],
   "source": [
    "id(a)"
   ]
  },
  {
   "cell_type": "code",
   "execution_count": 36,
   "id": "a18abf09",
   "metadata": {},
   "outputs": [],
   "source": [
    "a = a + (4,5)"
   ]
  },
  {
   "cell_type": "markdown",
   "id": "08f76aa2",
   "metadata": {},
   "source": [
    "Maybe we can summarize our class with tuples as a data structure. As we now a tuple is immutable, we can know that the position of the elements is the same as the coordenates of a point. Is just a convention we can agree to."
   ]
  },
  {
   "cell_type": "code",
   "execution_count": 39,
   "id": "b7338203",
   "metadata": {},
   "outputs": [],
   "source": [
    "pt1 = (0,0)\n",
    "pt2 = (10,20)\n",
    "# pt[0] = pt.x ..."
   ]
  },
  {
   "cell_type": "markdown",
   "id": "b958a449",
   "metadata": {},
   "source": [
    "Let's use the tuples as an example of cities information:"
   ]
  },
  {
   "cell_type": "code",
   "execution_count": 41,
   "id": "ab9848c9",
   "metadata": {},
   "outputs": [],
   "source": [
    "london = 'London', 'UK', 8_780_000\n",
    "new_york = 'New York', 'USA', 8_500_000\n",
    "beijing = 'Beijing', 'China', 21_000_000"
   ]
  },
  {
   "cell_type": "code",
   "execution_count": 42,
   "id": "d227b897",
   "metadata": {},
   "outputs": [],
   "source": [
    "cities = [london, new_york, beijing]"
   ]
  },
  {
   "cell_type": "markdown",
   "id": "af93a810",
   "metadata": {},
   "source": [
    "Let's retrieve the total population of all the cities"
   ]
  },
  {
   "cell_type": "code",
   "execution_count": 44,
   "id": "bb1c874c",
   "metadata": {},
   "outputs": [],
   "source": [
    "total = sum([city[2] for city in cities])"
   ]
  },
  {
   "cell_type": "code",
   "execution_count": 45,
   "id": "22f419bd",
   "metadata": {},
   "outputs": [
    {
     "data": {
      "text/plain": [
       "38280000"
      ]
     },
     "execution_count": 45,
     "metadata": {},
     "output_type": "execute_result"
    }
   ],
   "source": [
    "total"
   ]
  },
  {
   "cell_type": "markdown",
   "id": "280a0bc1",
   "metadata": {},
   "source": [
    "Examples of unpacking"
   ]
  },
  {
   "cell_type": "code",
   "execution_count": 46,
   "id": "1d9c85f9",
   "metadata": {},
   "outputs": [],
   "source": [
    "record = 'DJIA', 2018, 1, 19, 25_987, 26_072, 25_941, 26_072"
   ]
  },
  {
   "cell_type": "code",
   "execution_count": 47,
   "id": "e6dbf9cd",
   "metadata": {},
   "outputs": [],
   "source": [
    "symbol, *_, close = record"
   ]
  },
  {
   "cell_type": "code",
   "execution_count": 50,
   "id": "f89ae72b",
   "metadata": {},
   "outputs": [
    {
     "data": {
      "text/plain": [
       "('DJIA', 26072)"
      ]
     },
     "execution_count": 50,
     "metadata": {},
     "output_type": "execute_result"
    }
   ],
   "source": [
    "symbol, close"
   ]
  },
  {
   "cell_type": "code",
   "execution_count": 51,
   "id": "65a8d40f",
   "metadata": {},
   "outputs": [
    {
     "name": "stdout",
     "output_type": "stream",
     "text": [
      "We are ignoring this: [2018, 1, 19, 25987, 26072, 25941]\n"
     ]
    }
   ],
   "source": [
    "print(f'We are ignoring this: {_}')"
   ]
  },
  {
   "cell_type": "markdown",
   "id": "e3c52624",
   "metadata": {},
   "source": [
    "We can unpack in the loop itself"
   ]
  },
  {
   "cell_type": "code",
   "execution_count": 52,
   "id": "8783db8a",
   "metadata": {},
   "outputs": [
    {
     "name": "stdout",
     "output_type": "stream",
     "text": [
      "London UK 8780000\n",
      "New York USA 8500000\n",
      "Beijing China 21000000\n"
     ]
    }
   ],
   "source": [
    "for city, country, population in cities:\n",
    "    print(city, country, population)"
   ]
  },
  {
   "cell_type": "markdown",
   "id": "af65816d",
   "metadata": {},
   "source": [
    "Let's calculate an approx. value for PI"
   ]
  },
  {
   "cell_type": "code",
   "execution_count": 53,
   "id": "71caa7f9",
   "metadata": {},
   "outputs": [],
   "source": [
    "from random import uniform\n",
    "from math import sqrt\n",
    "\n",
    "def random_shot(radius):\n",
    "    random_x = uniform(-radius, radius)\n",
    "    random_y = uniform(-radius, radius)\n",
    "    \n",
    "    if sqrt(random_x **2 + random_y ** 2) <= radius:\n",
    "        is_in_circle = True\n",
    "    else:\n",
    "        is_in_circle = False\n",
    "        \n",
    "    return random_x, random_y, is_in_circle"
   ]
  },
  {
   "cell_type": "code",
   "execution_count": 57,
   "id": "dabe86cc",
   "metadata": {},
   "outputs": [
    {
     "name": "stdout",
     "output_type": "stream",
     "text": [
      " PI is approx: 3.04\n"
     ]
    }
   ],
   "source": [
    "num_attempts = 100\n",
    "count_inside = 0\n",
    "\n",
    "for i in range(num_attempts):\n",
    "    *_, is_in_circle = random_shot(1)\n",
    "    if is_in_circle:\n",
    "        count_inside += 1\n",
    "\n",
    "print(f' PI is approx: {4 * count_inside / num_attempts}')"
   ]
  },
  {
   "cell_type": "markdown",
   "id": "43451708",
   "metadata": {},
   "source": [
    "----\n",
    "## Named Tuples\n",
    "\n",
    "As we saw in the example of the coordenates of a Point, there is no much clarity when using a tuple as a data structure, such as Point[0] instead of point.x.\n",
    "\n",
    "At this point, in order to make things clearer for the reader (not the compiler, the reader), we might want to approach this using a class instead.\n",
    "\n",
    "    class Point2D:\n",
    "        def __init__(self,x,y):\n",
    "            self.x,self.y = x,y\n",
    "                pt = Point2D(10,20)\n",
    "    distance = sqrt(pt.x ** 2 + pt.y ** 2)\n",
    "    \n",
    "But what happens when we have a class with more than two attributes?\n",
    "\n",
    "    class Stock:\n",
    "        def __init__(self,symbol,yerar,month,day,open,high,low,close):\n",
    "            self.symbnol = symbnole\n",
    "            .\n",
    "            .\n",
    "            .\n",
    "    Class Approach: \n",
    "        djia.symbol\n",
    "        djia.open\n",
    "        \n",
    "        djia.high - djia.low\n",
    "        \n",
    "    Tuple Approach:\n",
    "        djia[0]\n",
    "        djia[4]\n",
    "        \n",
    "        djia[5] - djia[6]\n",
    "        \n",
    "        \n",
    "As we can see, the class has more readibilty than the tuple approach.\n",
    "\n",
    "**Named Tuples to the rescue**\n",
    "\n",
    "There are other reasons to seek another approach. \n",
    "\n",
    "So what if we can combine these two approaches, essentially creating tuples where we can, in addition, give meaningful to the positions?\n",
    "\n",
    "That's waht **namedtuples** essentially do\n",
    "\n",
    "**namedtuple** is a functiopn which generates a new class - >  **class Factory**\n",
    "\n",
    "that new class **inherits** from tuple but aslo provides **named properties** to access elements of the tuple but an instance of that class is still a **tuple**\n",
    "\n",
    "**Generating Named Tuple Classes**\n",
    "\n",
    "We have to understand that **namedtuple** is a class factory.\n",
    "\n",
    "When we use it, we are essentially **creating a new class**, just as if we had used **class** ourselves\n",
    "\n",
    "**namedtuple** needs a few thing to generate this class:\n",
    "\n",
    "- the **class name** we want to use\n",
    "- a sequence of **field names (strings)** we want to assing, in the order of the elements in the tuple\n",
    "\n",
    "The **return** value of the call to **namedtuple** will be a **class**\n",
    "\n",
    "We need to assing that class to a variable name in our code so we can use it to construct instances.\n",
    "\n",
    "In general, we use the same name as the name of the class that was generated.\n",
    "\n",
    "**Generating Named Tuple Classes**\n",
    "\n",
    "    Point2D = namedtuple('Point2D', ['x','y'])\n",
    "    \n",
    "We can create **instances** of Point2D just as we would with any class (since it is a class)\n",
    "\n",
    "    pt = Point2D(10,20)\n",
    "    \n",
    "The variable name that we use to asssign to the class generated and returned by **namedtyuple** is arbitrary.\n",
    "\n",
    "    Pt2D = namedtuple('Point2D', ['x','y'])\n",
    "    pt = Pt2D(10,20)\n",
    "    \n",
    "What does Python do when creating a namedtuple?\n",
    "\n",
    "    1. Python creates an object of type class, but in addition, it creates a variable in our local scope\n",
    "       that points to that object.\n",
    "       \n",
    "           Variable: MyClass -> [Class:MyClass, 0xFF300]\n",
    "    \n",
    "    2. MyClassAlias = MyClass\n",
    "            \n",
    "            Variable: MyClass -> [Class:MyClass, 0xFF300]\n",
    "            Variable: MyClassAlias -> [Class:MyClass, 0xFF300]\n",
    "    \n",
    "Similarly \n",
    "\n",
    "    Pt2DAlias = namedtuple('Point2D', ['x','y'])\n",
    "    \n",
    "        Variable: Pt2DAlias -> [Class:Point2D, 0xFF900]\n",
    "    \n",
    "    This is the same concept as aliasing a function, or assigning a lambda fuinction to a variable name!\n",
    "    \n",
    "There are many ways we can provide the list of field names to the **namedtuple** function\n",
    "\n",
    "- a list of string\n",
    "- a tuple of strings\n",
    "- a single string with the field names separated by whitespaces or commas\n",
    "\n",
    "Per example:\n",
    "    \n",
    "    namedtuple('Point2D', 'x y') = namedtuple('Point2D', 'x', 'y') = namedtuple('Point2D', ['x', 'y'])\n",
    "\n",
    "**Instantiating a Named Tuples** \n",
    "\n",
    "After we have created a named tuple class, we can instantiate them just like an ordinary class\n",
    "\n",
    "In fact, the _new_ method of the generated class uses the **field names** we provided as param names\n",
    "\n",
    "    Point2D = namedtuple('Point2D', 'x y')\n",
    "    \n",
    "    We can use **positional** arguments:\n",
    "    \n",
    "    pt1 = Point2D(10,20) 10 -> x   20 -> y\n",
    "    \n",
    "    We can use **keyword** arguments:\n",
    "    \n",
    "    pt1 = Point2D(x=10,y=20) 10 -> x   20 -> y\n",
    "    \n",
    "**Accessing Data in a Named Tuple**\n",
    "\n",
    "Since named tuples are also regular tuples, we can still handle them just like any other tuple\n",
    "\n",
    "- by index\n",
    "- slice \n",
    "- iterate\n",
    "\n",
    "        Point2D = namedtuple('Point2D', 'x y')\n",
    "        \n",
    "        In addition, we can now access by field names:\n",
    "        \n",
    "        pt1 = Point2D(10,20)\n",
    "        \n",
    "        pt1.x = 10, pt2.y = 2-\n",
    "        \n",
    "        \n",
    "Since namedtuple generated classes inherit from tuple, we can do this:\n",
    "    \n",
    "        class Point2D(tuple):\n",
    "        ...\n",
    "\n",
    "Inherit from tuple\n",
    "\n",
    "\n",
    "But now, **pt1** is a tuple, and is therefore **immutable**\n",
    "\n",
    "pt1.x = 100 will not work!\n",
    "\n",
    "\n",
    "**The rename keyword-only argument for namedtuple**\n",
    "\n",
    "Remember that field names for named tuples must be valid identifiers, but cannot start with an underscore\n",
    "\n",
    "This would not work: \n",
    "\n",
    "    Person = namedtuple('Person', 'name age _ssn'), because of the underscore is not valid\n",
    "    \n",
    "**namedtuple** has a keyword-only argument, **rename** (defaults to False) that will automatically **rename** any invalid field name\n",
    "\n",
    "uses convention: \n",
    "\n",
    "        _{position in list of field names}\n",
    "\n",
    "This **will** now work:\n",
    "\n",
    "        Person = namedtuple('Person', 'name age _ssn', rename=True)\n",
    "        \n",
    "And the actual field names would be:\n",
    "\n",
    "        name age _2\n",
    "        \n",
    "        \n",
    "**Introspection**\n",
    "\n",
    "We can easily find out the field names in a named tuple generated class\n",
    "\n",
    "class property -> \n",
    "\n",
    "        _fields\n",
    "        \n",
    "        Person = namedtuple('Person', 'name age _ssn', rename = True)\n",
    "        \n",
    "        Person._fields -> ('name','age','_2')\n",
    "\n",
    "Remember that **namedtuple** is a **class factory**\n",
    "\n",
    "We can actually see what the code for that class is, using a class property:\n",
    "    \n",
    "    _source\n",
    "    \n",
    "    Point2D = namedtuple('Point2D', 'x y')\n",
    "    \n",
    "    Point2D._source\n",
    "    \n",
    "    It creates a class in memory that can be defined by this code:\n",
    "    \n",
    "    class Point2D(tuple):\n",
    "        'Point2D(x,y)'\n",
    "        \n"
   ]
  },
  {
   "cell_type": "markdown",
   "id": "cfaff59b",
   "metadata": {},
   "source": [
    "Let's make a class Point3D"
   ]
  },
  {
   "cell_type": "code",
   "execution_count": 1,
   "id": "b5b4d454",
   "metadata": {},
   "outputs": [],
   "source": [
    "class Point3D:\n",
    "    def __init__(self, x,y,z):\n",
    "        self.x,self.y,self.z = x,y,z"
   ]
  },
  {
   "cell_type": "markdown",
   "id": "faa6fc44",
   "metadata": {},
   "source": [
    "If you use a class for named attributes, take a step back, because a namedtuple is a way better option"
   ]
  },
  {
   "cell_type": "code",
   "execution_count": 2,
   "id": "78c68b10",
   "metadata": {},
   "outputs": [],
   "source": [
    "from collections import namedtuple"
   ]
  },
  {
   "cell_type": "markdown",
   "id": "04e758ac",
   "metadata": {},
   "source": [
    "**namedtuple** is a class factory. Remember!!!"
   ]
  },
  {
   "cell_type": "code",
   "execution_count": 5,
   "id": "52532ef4",
   "metadata": {},
   "outputs": [],
   "source": [
    "#Valid for namedtuple\n",
    "Point2D = namedtuple('Point2D', ['x', 'y'])"
   ]
  },
  {
   "cell_type": "code",
   "execution_count": 6,
   "id": "ed7c5542",
   "metadata": {},
   "outputs": [
    {
     "data": {
      "text/plain": [
       "Point2D(x=10, y=20)"
      ]
     },
     "execution_count": 6,
     "metadata": {},
     "output_type": "execute_result"
    }
   ],
   "source": [
    "pt1 = Point2D(10,20)\n",
    "pt1"
   ]
  },
  {
   "cell_type": "markdown",
   "id": "d3d3d3c5",
   "metadata": {},
   "source": [
    "In order to get the representation above, it is necessary for us to use the repr built in function in our class.\n",
    "\n",
    "**namedtuple** makes it easier for us"
   ]
  },
  {
   "cell_type": "code",
   "execution_count": 7,
   "id": "1a3d83bb",
   "metadata": {},
   "outputs": [],
   "source": [
    "Pt2D = namedtuple('Point2D', ('x', 'y'))"
   ]
  },
  {
   "cell_type": "code",
   "execution_count": 8,
   "id": "2eb87816",
   "metadata": {},
   "outputs": [],
   "source": [
    "pt2 = Pt2D(100,200)"
   ]
  },
  {
   "cell_type": "code",
   "execution_count": 9,
   "id": "cc06bae0",
   "metadata": {},
   "outputs": [
    {
     "data": {
      "text/plain": [
       "Point2D(x=100, y=200)"
      ]
     },
     "execution_count": 9,
     "metadata": {},
     "output_type": "execute_result"
    }
   ],
   "source": [
    "pt2"
   ]
  },
  {
   "cell_type": "markdown",
   "id": "88fdd6e9",
   "metadata": {},
   "source": [
    "The name is still 'Point2D', the variable name is not involved in the namedtuple"
   ]
  },
  {
   "cell_type": "code",
   "execution_count": null,
   "id": "b6de0566",
   "metadata": {},
   "outputs": [],
   "source": []
  }
 ],
 "metadata": {
  "kernelspec": {
   "display_name": "Python 3",
   "language": "python",
   "name": "python3"
  },
  "language_info": {
   "codemirror_mode": {
    "name": "ipython",
    "version": 3
   },
   "file_extension": ".py",
   "mimetype": "text/x-python",
   "name": "python",
   "nbconvert_exporter": "python",
   "pygments_lexer": "ipython3",
   "version": "3.9.7"
  }
 },
 "nbformat": 4,
 "nbformat_minor": 5
}
