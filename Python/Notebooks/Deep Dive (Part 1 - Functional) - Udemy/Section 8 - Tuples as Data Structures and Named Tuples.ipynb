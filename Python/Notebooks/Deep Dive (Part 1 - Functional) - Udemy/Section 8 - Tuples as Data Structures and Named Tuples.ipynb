{
 "cells": [
  {
   "cell_type": "markdown",
   "id": "e94af38a",
   "metadata": {},
   "source": [
    "# Tuples as Data Structures and Named Tuples\n",
    "\n",
    "<br></br>\n",
    "\n",
    "read-only lists... at least that's how many introductions to Python will present tuples\n",
    "\n",
    "This isn't wrong, but there's a lot more going on with tuples...\n",
    "\n",
    "If you only thinh of tuples as read-only lists, you're going to miss out on some interesting ideas\n",
    "\n",
    "We really need to think of tuples also as data records **position of value has meaning**\n",
    "\n",
    "This is why we are going to start looking nat tuples before we even cover sequence types\n",
    "\n",
    "We are going to focus on tuples as **data records or structures** and **named tuples**"
   ]
  },
  {
   "cell_type": "markdown",
   "id": "fb973424",
   "metadata": {},
   "source": [
    "-----\n",
    "## Tuples as Data Structures\n",
    "\n",
    "**Tuples vs Lists vs Strings** (Sequence Types)\n",
    "\n",
    "- **all** are ***containers***\n",
    "\n",
    "- **all** ***order matters***\n",
    "\n",
    "- Tuples tend to be **Heterogeneous**, but are also Homogeneous\n",
    "\n",
    "- Lists tend to be **Homogeneous**, but are also Heterogeneous\n",
    "\n",
    "- Strings are only Homogeneous\n",
    "\n",
    "- **all** are ***indexable***\n",
    "\n",
    "- **all** are ***iterable***\n",
    "\n",
    "- Tuples/Strings are immutable, the length **cannot** be changed, the order **cannot** be changed, **cannot** do in-place sorts and **cannot** do in-place reversals\n",
    "\n",
    "- Lists are mutable, the length can be changed, the order can be changed, can do in-place sorts and can do in-place reversals\n",
    "\n"
   ]
  },
  {
   "cell_type": "markdown",
   "id": "aeb64b02",
   "metadata": {},
   "source": [
    "### Immutability of Tuples\n",
    "\n",
    "elements cannot be added or removed\n",
    "\n",
    "the order of elements cannot be changed\n",
    "\n",
    "works well for representing data structures:\n",
    "\n",
    "- Point(x,y)\n",
    "\n",
    "- Circle(x,y,r)\n",
    "\n",
    "Here, we gave meaning to the position of the elements in the tuple, of its fixed order characteristic\n",
    "\n",
    "\n",
    "\n",
    "### Tuples as Data Records\n",
    "\n",
    "Think of a tuple as a data record where the position of the data has meaning\n",
    "\n",
    "    london = ('London', 'UK', 8_780_000)\n",
    "    new_york = ('New York', 'USA', 8_500_000)\n",
    "\n",
    "Because tuples, strings and integers are immutable, we are guaranteed that the stored data won't change."
   ]
  },
  {
   "cell_type": "code",
   "execution_count": 1,
   "id": "6533902b",
   "metadata": {},
   "outputs": [],
   "source": [
    "def print_tuple(t):\n",
    "    for e in t:\n",
    "        print(e)"
   ]
  },
  {
   "cell_type": "code",
   "execution_count": 3,
   "id": "10178e64",
   "metadata": {},
   "outputs": [
    {
     "name": "stdout",
     "output_type": "stream",
     "text": [
      "1\n",
      "2\n",
      "3\n",
      "4\n"
     ]
    }
   ],
   "source": [
    "print_tuple((1,2,3,4))"
   ]
  },
  {
   "cell_type": "code",
   "execution_count": 4,
   "id": "bb68b8f9",
   "metadata": {},
   "outputs": [
    {
     "data": {
      "text/plain": [
       "'a'"
      ]
     },
     "execution_count": 4,
     "metadata": {},
     "output_type": "execute_result"
    }
   ],
   "source": [
    "a = 'a', 10, 200\n",
    "a[0]"
   ]
  },
  {
   "cell_type": "code",
   "execution_count": 5,
   "id": "72511b03",
   "metadata": {},
   "outputs": [
    {
     "data": {
      "text/plain": [
       "10"
      ]
     },
     "execution_count": 5,
     "metadata": {},
     "output_type": "execute_result"
    }
   ],
   "source": [
    "a[1]"
   ]
  },
  {
   "cell_type": "code",
   "execution_count": 6,
   "id": "0cf4e51d",
   "metadata": {},
   "outputs": [],
   "source": [
    "a = 1,2,3,4,5,6"
   ]
  },
  {
   "cell_type": "code",
   "execution_count": 7,
   "id": "33d14664",
   "metadata": {},
   "outputs": [
    {
     "data": {
      "text/plain": [
       "(3, 4, 5)"
      ]
     },
     "execution_count": 7,
     "metadata": {},
     "output_type": "execute_result"
    }
   ],
   "source": [
    "a[2:5]"
   ]
  },
  {
   "cell_type": "code",
   "execution_count": 10,
   "id": "0cefe775",
   "metadata": {},
   "outputs": [
    {
     "data": {
      "text/plain": [
       "('a', 10, 200)"
      ]
     },
     "execution_count": 10,
     "metadata": {},
     "output_type": "execute_result"
    }
   ],
   "source": [
    "a = 'a', 10, 200\n",
    "x,y,z = a\n",
    "x,y,z"
   ]
  },
  {
   "cell_type": "code",
   "execution_count": 12,
   "id": "cf6d4861",
   "metadata": {},
   "outputs": [],
   "source": [
    "t = ('Manu', 'ITC', 22, 'Ortiz', 'CG', 'Hernandez')\n",
    "name, *_, last_name = t"
   ]
  },
  {
   "cell_type": "code",
   "execution_count": 13,
   "id": "55f34689",
   "metadata": {},
   "outputs": [
    {
     "data": {
      "text/plain": [
       "('Manu', 'Hernandez')"
      ]
     },
     "execution_count": 13,
     "metadata": {},
     "output_type": "execute_result"
    }
   ],
   "source": [
    "name, last_name"
   ]
  },
  {
   "cell_type": "code",
   "execution_count": 14,
   "id": "c34d02a5",
   "metadata": {},
   "outputs": [],
   "source": [
    "class Point2D:\n",
    "    def __init__(self, x,y):\n",
    "        self.x = x\n",
    "        self.y = y\n",
    "    \n",
    "    def __repr__(self):\n",
    "        return f'{self.__class__.__name__}: x={self.x}, y={self.y}'"
   ]
  },
  {
   "cell_type": "code",
   "execution_count": 15,
   "id": "577ea7ec",
   "metadata": {},
   "outputs": [
    {
     "data": {
      "text/plain": [
       "Point2D: x=10, y=20"
      ]
     },
     "execution_count": 15,
     "metadata": {},
     "output_type": "execute_result"
    }
   ],
   "source": [
    "pt = Point2D(10,20)\n",
    "pt"
   ]
  },
  {
   "cell_type": "code",
   "execution_count": 16,
   "id": "3c499ab3",
   "metadata": {},
   "outputs": [],
   "source": [
    "pt.x = 100"
   ]
  },
  {
   "cell_type": "code",
   "execution_count": 17,
   "id": "6dd1bf9c",
   "metadata": {},
   "outputs": [
    {
     "data": {
      "text/plain": [
       "4430760880"
      ]
     },
     "execution_count": 17,
     "metadata": {},
     "output_type": "execute_result"
    }
   ],
   "source": [
    "id(pt)"
   ]
  },
  {
   "cell_type": "code",
   "execution_count": 18,
   "id": "89001641",
   "metadata": {},
   "outputs": [
    {
     "data": {
      "text/plain": [
       "100"
      ]
     },
     "execution_count": 18,
     "metadata": {},
     "output_type": "execute_result"
    }
   ],
   "source": [
    "pt.x"
   ]
  },
  {
   "cell_type": "code",
   "execution_count": 19,
   "id": "c80861ea",
   "metadata": {},
   "outputs": [
    {
     "data": {
      "text/plain": [
       "20"
      ]
     },
     "execution_count": 19,
     "metadata": {},
     "output_type": "execute_result"
    }
   ],
   "source": [
    "pt.y"
   ]
  },
  {
   "cell_type": "code",
   "execution_count": 20,
   "id": "ea23eb4a",
   "metadata": {},
   "outputs": [],
   "source": [
    "a = Point2D(0,0), Point2D(10,20)"
   ]
  },
  {
   "cell_type": "code",
   "execution_count": 21,
   "id": "9e1d0e2d",
   "metadata": {},
   "outputs": [
    {
     "data": {
      "text/plain": [
       "(Point2D: x=0, y=0, Point2D: x=10, y=20)"
      ]
     },
     "execution_count": 21,
     "metadata": {},
     "output_type": "execute_result"
    }
   ],
   "source": [
    "a"
   ]
  },
  {
   "cell_type": "code",
   "execution_count": 22,
   "id": "3184ec86",
   "metadata": {},
   "outputs": [
    {
     "data": {
      "text/plain": [
       "4430759392"
      ]
     },
     "execution_count": 22,
     "metadata": {},
     "output_type": "execute_result"
    }
   ],
   "source": [
    "id(a[0])"
   ]
  },
  {
   "cell_type": "code",
   "execution_count": 23,
   "id": "44c68171",
   "metadata": {},
   "outputs": [],
   "source": [
    "a[0].x = 100"
   ]
  },
  {
   "cell_type": "code",
   "execution_count": 24,
   "id": "15852ffe",
   "metadata": {},
   "outputs": [
    {
     "data": {
      "text/plain": [
       "(Point2D: x=100, y=0, Point2D: x=10, y=20)"
      ]
     },
     "execution_count": 24,
     "metadata": {},
     "output_type": "execute_result"
    }
   ],
   "source": [
    "a"
   ]
  },
  {
   "cell_type": "code",
   "execution_count": 28,
   "id": "a3ecbd39",
   "metadata": {},
   "outputs": [],
   "source": [
    "s = 'python'"
   ]
  },
  {
   "cell_type": "code",
   "execution_count": 29,
   "id": "bd3f986a",
   "metadata": {},
   "outputs": [
    {
     "data": {
      "text/plain": [
       "4401869936"
      ]
     },
     "execution_count": 29,
     "metadata": {},
     "output_type": "execute_result"
    }
   ],
   "source": [
    "id(s)"
   ]
  },
  {
   "cell_type": "code",
   "execution_count": 30,
   "id": "68443221",
   "metadata": {},
   "outputs": [],
   "source": [
    "s = 'python ' + ' rocks!'"
   ]
  },
  {
   "cell_type": "code",
   "execution_count": 31,
   "id": "36e4c896",
   "metadata": {},
   "outputs": [
    {
     "data": {
      "text/plain": [
       "4430788272"
      ]
     },
     "execution_count": 31,
     "metadata": {},
     "output_type": "execute_result"
    }
   ],
   "source": [
    "id(s)"
   ]
  },
  {
   "cell_type": "markdown",
   "id": "547584c4",
   "metadata": {},
   "source": [
    "Just as we can see with strings, that a new reference is created when concatenating, the same happens with tuples."
   ]
  },
  {
   "cell_type": "code",
   "execution_count": 32,
   "id": "f1fad990",
   "metadata": {},
   "outputs": [],
   "source": [
    "a = 1,2,3"
   ]
  },
  {
   "cell_type": "code",
   "execution_count": 33,
   "id": "2b8bd5e1",
   "metadata": {},
   "outputs": [
    {
     "data": {
      "text/plain": [
       "4430218048"
      ]
     },
     "execution_count": 33,
     "metadata": {},
     "output_type": "execute_result"
    }
   ],
   "source": [
    "id(a)"
   ]
  },
  {
   "cell_type": "code",
   "execution_count": 34,
   "id": "258592a6",
   "metadata": {},
   "outputs": [],
   "source": [
    "a += (4,5)"
   ]
  },
  {
   "cell_type": "code",
   "execution_count": 35,
   "id": "380bab60",
   "metadata": {},
   "outputs": [
    {
     "data": {
      "text/plain": [
       "4430065152"
      ]
     },
     "execution_count": 35,
     "metadata": {},
     "output_type": "execute_result"
    }
   ],
   "source": [
    "id(a)"
   ]
  },
  {
   "cell_type": "code",
   "execution_count": 36,
   "id": "a18abf09",
   "metadata": {},
   "outputs": [],
   "source": [
    "a = a + (4,5)"
   ]
  },
  {
   "cell_type": "markdown",
   "id": "08f76aa2",
   "metadata": {},
   "source": [
    "Maybe we can summarize our class with tuples as a data structure. As we now a tuple is immutable, we can know that the position of the elements is the same as the coordenates of a point. Is just a convention we can agree to."
   ]
  },
  {
   "cell_type": "code",
   "execution_count": 39,
   "id": "b7338203",
   "metadata": {},
   "outputs": [],
   "source": [
    "pt1 = (0,0)\n",
    "pt2 = (10,20)\n",
    "# pt[0] = pt.x ..."
   ]
  },
  {
   "cell_type": "markdown",
   "id": "b958a449",
   "metadata": {},
   "source": [
    "Let's use the tuples as an example of cities information:"
   ]
  },
  {
   "cell_type": "code",
   "execution_count": 41,
   "id": "ab9848c9",
   "metadata": {},
   "outputs": [],
   "source": [
    "london = 'London', 'UK', 8_780_000\n",
    "new_york = 'New York', 'USA', 8_500_000\n",
    "beijing = 'Beijing', 'China', 21_000_000"
   ]
  },
  {
   "cell_type": "code",
   "execution_count": 42,
   "id": "d227b897",
   "metadata": {},
   "outputs": [],
   "source": [
    "cities = [london, new_york, beijing]"
   ]
  },
  {
   "cell_type": "markdown",
   "id": "af93a810",
   "metadata": {},
   "source": [
    "Let's retrieve the total population of all the cities"
   ]
  },
  {
   "cell_type": "code",
   "execution_count": 44,
   "id": "bb1c874c",
   "metadata": {},
   "outputs": [],
   "source": [
    "total = sum([city[2] for city in cities])"
   ]
  },
  {
   "cell_type": "code",
   "execution_count": 45,
   "id": "22f419bd",
   "metadata": {},
   "outputs": [
    {
     "data": {
      "text/plain": [
       "38280000"
      ]
     },
     "execution_count": 45,
     "metadata": {},
     "output_type": "execute_result"
    }
   ],
   "source": [
    "total"
   ]
  },
  {
   "cell_type": "markdown",
   "id": "280a0bc1",
   "metadata": {},
   "source": [
    "Examples of unpacking"
   ]
  },
  {
   "cell_type": "code",
   "execution_count": 46,
   "id": "1d9c85f9",
   "metadata": {},
   "outputs": [],
   "source": [
    "record = 'DJIA', 2018, 1, 19, 25_987, 26_072, 25_941, 26_072"
   ]
  },
  {
   "cell_type": "code",
   "execution_count": 47,
   "id": "e6dbf9cd",
   "metadata": {},
   "outputs": [],
   "source": [
    "symbol, *_, close = record"
   ]
  },
  {
   "cell_type": "code",
   "execution_count": 50,
   "id": "f89ae72b",
   "metadata": {},
   "outputs": [
    {
     "data": {
      "text/plain": [
       "('DJIA', 26072)"
      ]
     },
     "execution_count": 50,
     "metadata": {},
     "output_type": "execute_result"
    }
   ],
   "source": [
    "symbol, close"
   ]
  },
  {
   "cell_type": "code",
   "execution_count": 51,
   "id": "65a8d40f",
   "metadata": {},
   "outputs": [
    {
     "name": "stdout",
     "output_type": "stream",
     "text": [
      "We are ignoring this: [2018, 1, 19, 25987, 26072, 25941]\n"
     ]
    }
   ],
   "source": [
    "print(f'We are ignoring this: {_}')"
   ]
  },
  {
   "cell_type": "markdown",
   "id": "e3c52624",
   "metadata": {},
   "source": [
    "We can unpack in the loop itself"
   ]
  },
  {
   "cell_type": "code",
   "execution_count": 52,
   "id": "8783db8a",
   "metadata": {},
   "outputs": [
    {
     "name": "stdout",
     "output_type": "stream",
     "text": [
      "London UK 8780000\n",
      "New York USA 8500000\n",
      "Beijing China 21000000\n"
     ]
    }
   ],
   "source": [
    "for city, country, population in cities:\n",
    "    print(city, country, population)"
   ]
  },
  {
   "cell_type": "markdown",
   "id": "af65816d",
   "metadata": {},
   "source": [
    "Let's calculate an approx. value for PI"
   ]
  },
  {
   "cell_type": "code",
   "execution_count": 53,
   "id": "71caa7f9",
   "metadata": {},
   "outputs": [],
   "source": [
    "from random import uniform\n",
    "from math import sqrt\n",
    "\n",
    "def random_shot(radius):\n",
    "    random_x = uniform(-radius, radius)\n",
    "    random_y = uniform(-radius, radius)\n",
    "    \n",
    "    if sqrt(random_x **2 + random_y ** 2) <= radius:\n",
    "        is_in_circle = True\n",
    "    else:\n",
    "        is_in_circle = False\n",
    "        \n",
    "    return random_x, random_y, is_in_circle"
   ]
  },
  {
   "cell_type": "code",
   "execution_count": 57,
   "id": "dabe86cc",
   "metadata": {},
   "outputs": [
    {
     "name": "stdout",
     "output_type": "stream",
     "text": [
      " PI is approx: 3.04\n"
     ]
    }
   ],
   "source": [
    "num_attempts = 100\n",
    "count_inside = 0\n",
    "\n",
    "for i in range(num_attempts):\n",
    "    *_, is_in_circle = random_shot(1)\n",
    "    if is_in_circle:\n",
    "        count_inside += 1\n",
    "\n",
    "print(f' PI is approx: {4 * count_inside / num_attempts}')"
   ]
  },
  {
   "cell_type": "markdown",
   "id": "43451708",
   "metadata": {},
   "source": [
    "----\n",
    "## Named Tuples\n",
    "\n",
    "As we saw in the example of the coordenates of a Point, there is no much clarity when using a tuple as a data structure, such as Point[0] instead of point.x.\n",
    "\n",
    "At this point, in order to make things clearer for the reader (not the compiler, the reader), we might want to approach this using a class instead.\n",
    "\n",
    "    class Point2D:\n",
    "        def __init__(self,x,y):\n",
    "            self.x,self.y = x,y\n",
    "                pt = Point2D(10,20)\n",
    "    distance = sqrt(pt.x ** 2 + pt.y ** 2)\n",
    "    \n",
    "But what happens when we have a class with more than two attributes?\n",
    "\n",
    "    class Stock:\n",
    "        def __init__(self,symbol,yerar,month,day,open,high,low,close):\n",
    "            self.symbnol = symbnole\n",
    "            .\n",
    "            .\n",
    "            .\n",
    "    Class Approach: \n",
    "        djia.symbol\n",
    "        djia.open\n",
    "        \n",
    "        djia.high - djia.low\n",
    "        \n",
    "    Tuple Approach:\n",
    "        djia[0]\n",
    "        djia[4]\n",
    "        \n",
    "        djia[5] - djia[6]\n",
    "        \n",
    "        \n",
    "As we can see, the class has more readibilty than the tuple approach.\n",
    "\n",
    "**Named Tuples to the rescue**\n",
    "\n",
    "There are other reasons to seek another approach. \n",
    "\n",
    "So what if we can combine these two approaches, essentially creating tuples where we can, in addition, give meaningful to the positions?\n",
    "\n",
    "That's waht **namedtuples** essentially do\n",
    "\n",
    "**namedtuple** is a functiopn which generates a new class - >  **class Factory**\n",
    "\n",
    "that new class **inherits** from tuple but aslo provides **named properties** to access elements of the tuple but an instance of that class is still a **tuple**\n",
    "\n",
    "**Generating Named Tuple Classes**\n",
    "\n",
    "We have to understand that **namedtuple** is a class factory.\n",
    "\n",
    "When we use it, we are essentially **creating a new class**, just as if we had used **class** ourselves\n",
    "\n",
    "**namedtuple** needs a few thing to generate this class:\n",
    "\n",
    "- the **class name** we want to use\n",
    "- a sequence of **field names (strings)** we want to assing, in the order of the elements in the tuple\n",
    "\n",
    "The **return** value of the call to **namedtuple** will be a **class**\n",
    "\n",
    "We need to assing that class to a variable name in our code so we can use it to construct instances.\n",
    "\n",
    "In general, we use the same name as the name of the class that was generated.\n",
    "\n",
    "**Generating Named Tuple Classes**\n",
    "\n",
    "    Point2D = namedtuple('Point2D', ['x','y'])\n",
    "    \n",
    "We can create **instances** of Point2D just as we would with any class (since it is a class)\n",
    "\n",
    "    pt = Point2D(10,20)\n",
    "    \n",
    "The variable name that we use to asssign to the class generated and returned by **namedtyuple** is arbitrary.\n",
    "\n",
    "    Pt2D = namedtuple('Point2D', ['x','y'])\n",
    "    pt = Pt2D(10,20)\n",
    "    \n",
    "What does Python do when creating a namedtuple?\n",
    "\n",
    "    1. Python creates an object of type class, but in addition, it creates a variable in our local scope\n",
    "       that points to that object.\n",
    "       \n",
    "           Variable: MyClass -> [Class:MyClass, 0xFF300]\n",
    "    \n",
    "    2. MyClassAlias = MyClass\n",
    "            \n",
    "            Variable: MyClass -> [Class:MyClass, 0xFF300]\n",
    "            Variable: MyClassAlias -> [Class:MyClass, 0xFF300]\n",
    "    \n",
    "Similarly \n",
    "\n",
    "    Pt2DAlias = namedtuple('Point2D', ['x','y'])\n",
    "    \n",
    "        Variable: Pt2DAlias -> [Class:Point2D, 0xFF900]\n",
    "    \n",
    "    This is the same concept as aliasing a function, or assigning a lambda fuinction to a variable name!\n",
    "    \n",
    "There are many ways we can provide the list of field names to the **namedtuple** function\n",
    "\n",
    "- a list of string\n",
    "- a tuple of strings\n",
    "- a single string with the field names separated by whitespaces or commas\n",
    "\n",
    "Per example:\n",
    "    \n",
    "    namedtuple('Point2D', 'x y') = namedtuple('Point2D', 'x', 'y') = namedtuple('Point2D', ['x', 'y'])\n",
    "\n",
    "**Instantiating a Named Tuples** \n",
    "\n",
    "After we have created a named tuple class, we can instantiate them just like an ordinary class\n",
    "\n",
    "In fact, the _new_ method of the generated class uses the **field names** we provided as param names\n",
    "\n",
    "    Point2D = namedtuple('Point2D', 'x y')\n",
    "    \n",
    "    We can use **positional** arguments:\n",
    "    \n",
    "    pt1 = Point2D(10,20) 10 -> x   20 -> y\n",
    "    \n",
    "    We can use **keyword** arguments:\n",
    "    \n",
    "    pt1 = Point2D(x=10,y=20) 10 -> x   20 -> y\n",
    "    \n",
    "**Accessing Data in a Named Tuple**\n",
    "\n",
    "Since named tuples are also regular tuples, we can still handle them just like any other tuple\n",
    "\n",
    "- by index\n",
    "- slice \n",
    "- iterate\n",
    "\n",
    "        Point2D = namedtuple('Point2D', 'x y')\n",
    "        \n",
    "        In addition, we can now access by field names:\n",
    "        \n",
    "        pt1 = Point2D(10,20)\n",
    "        \n",
    "        pt1.x = 10, pt2.y = 2-\n",
    "        \n",
    "        \n",
    "Since namedtuple generated classes inherit from tuple, we can do this:\n",
    "    \n",
    "        class Point2D(tuple):\n",
    "        ...\n",
    "\n",
    "Inherit from tuple\n",
    "\n",
    "\n",
    "But now, **pt1** is a tuple, and is therefore **immutable**\n",
    "\n",
    "pt1.x = 100 will not work!\n",
    "\n",
    "\n",
    "**The rename keyword-only argument for namedtuple**\n",
    "\n",
    "Remember that field names for named tuples must be valid identifiers, but cannot start with an underscore\n",
    "\n",
    "This would not work: \n",
    "\n",
    "    Person = namedtuple('Person', 'name age _ssn'), because of the underscore is not valid\n",
    "    \n",
    "**namedtuple** has a keyword-only argument, **rename** (defaults to False) that will automatically **rename** any invalid field name\n",
    "\n",
    "uses convention: \n",
    "\n",
    "        _{position in list of field names}\n",
    "\n",
    "This **will** now work:\n",
    "\n",
    "        Person = namedtuple('Person', 'name age _ssn', rename=True)\n",
    "        \n",
    "And the actual field names would be:\n",
    "\n",
    "        name age _2\n",
    "        \n",
    "        \n",
    "**Introspection**\n",
    "\n",
    "We can easily find out the field names in a named tuple generated class\n",
    "\n",
    "class property -> \n",
    "\n",
    "        _fields\n",
    "        \n",
    "        Person = namedtuple('Person', 'name age _ssn', rename = True)\n",
    "        \n",
    "        Person._fields -> ('name','age','_2')\n",
    "\n",
    "Remember that **namedtuple** is a **class factory**\n",
    "\n",
    "We can actually see what the code for that class is, using a class property:\n",
    "    \n",
    "    _source\n",
    "    \n",
    "    Point2D = namedtuple('Point2D', 'x y')\n",
    "    \n",
    "    Point2D._source\n",
    "    \n",
    "    It creates a class in memory that can be defined by this code:\n",
    "    \n",
    "    class Point2D(tuple):\n",
    "        'Point2D(x,y)'\n",
    "        \n"
   ]
  },
  {
   "cell_type": "markdown",
   "id": "cfaff59b",
   "metadata": {},
   "source": [
    "Let's make a class Point3D"
   ]
  },
  {
   "cell_type": "code",
   "execution_count": 3,
   "id": "b5b4d454",
   "metadata": {},
   "outputs": [],
   "source": [
    "class Point3D:\n",
    "    def __init__(self, x,y,z):\n",
    "        self.x,self.y,self.z = x,y,z"
   ]
  },
  {
   "cell_type": "markdown",
   "id": "faa6fc44",
   "metadata": {},
   "source": [
    "If you use a class for named attributes, take a step back, because a namedtuple is a way better option"
   ]
  },
  {
   "cell_type": "code",
   "execution_count": 4,
   "id": "78c68b10",
   "metadata": {},
   "outputs": [],
   "source": [
    "from collections import namedtuple"
   ]
  },
  {
   "cell_type": "markdown",
   "id": "04e758ac",
   "metadata": {},
   "source": [
    "**namedtuple** is a class factory. Remember!!!"
   ]
  },
  {
   "cell_type": "code",
   "execution_count": 5,
   "id": "52532ef4",
   "metadata": {},
   "outputs": [],
   "source": [
    "#Valid for namedtuple\n",
    "Point2D = namedtuple('Point2D', ['x', 'y'])"
   ]
  },
  {
   "cell_type": "code",
   "execution_count": 6,
   "id": "ed7c5542",
   "metadata": {},
   "outputs": [
    {
     "data": {
      "text/plain": [
       "Point2D(x=10, y=20)"
      ]
     },
     "execution_count": 6,
     "metadata": {},
     "output_type": "execute_result"
    }
   ],
   "source": [
    "pt1 = Point2D(10,20)\n",
    "pt1"
   ]
  },
  {
   "cell_type": "markdown",
   "id": "d3d3d3c5",
   "metadata": {},
   "source": [
    "In order to get the representation above, it is necessary for us to use the repr built in function in our class.\n",
    "\n",
    "**namedtuple** makes it easier for us"
   ]
  },
  {
   "cell_type": "code",
   "execution_count": 7,
   "id": "1a3d83bb",
   "metadata": {},
   "outputs": [],
   "source": [
    "Pt2D = namedtuple('Point2D', ('x', 'y'))"
   ]
  },
  {
   "cell_type": "code",
   "execution_count": 8,
   "id": "2eb87816",
   "metadata": {},
   "outputs": [],
   "source": [
    "pt2 = Pt2D(100,200)"
   ]
  },
  {
   "cell_type": "code",
   "execution_count": 9,
   "id": "cc06bae0",
   "metadata": {},
   "outputs": [
    {
     "data": {
      "text/plain": [
       "Point2D(x=100, y=200)"
      ]
     },
     "execution_count": 9,
     "metadata": {},
     "output_type": "execute_result"
    }
   ],
   "source": [
    "pt2"
   ]
  },
  {
   "cell_type": "markdown",
   "id": "88fdd6e9",
   "metadata": {},
   "source": [
    "The name is still 'Point2D', the variable name is not involved in the namedtuple object "
   ]
  },
  {
   "cell_type": "code",
   "execution_count": 11,
   "id": "b6de0566",
   "metadata": {},
   "outputs": [
    {
     "data": {
      "text/plain": [
       "True"
      ]
     },
     "execution_count": 11,
     "metadata": {},
     "output_type": "execute_result"
    }
   ],
   "source": [
    "isinstance(pt2,tuple)"
   ]
  },
  {
   "cell_type": "code",
   "execution_count": 12,
   "id": "26692efb",
   "metadata": {},
   "outputs": [],
   "source": [
    "a = (10,20)\n",
    "b = (10,20)"
   ]
  },
  {
   "cell_type": "code",
   "execution_count": 13,
   "id": "ebb28701",
   "metadata": {},
   "outputs": [
    {
     "data": {
      "text/plain": [
       "False"
      ]
     },
     "execution_count": 13,
     "metadata": {},
     "output_type": "execute_result"
    }
   ],
   "source": [
    "a is b"
   ]
  },
  {
   "cell_type": "code",
   "execution_count": 14,
   "id": "850f6e74",
   "metadata": {},
   "outputs": [
    {
     "data": {
      "text/plain": [
       "True"
      ]
     },
     "execution_count": 14,
     "metadata": {},
     "output_type": "execute_result"
    }
   ],
   "source": [
    "a == b"
   ]
  },
  {
   "cell_type": "code",
   "execution_count": 15,
   "id": "84feb5ff",
   "metadata": {},
   "outputs": [],
   "source": [
    "pt1 = Point2D(10,20)\n",
    "pt2 = Point2D(10,20)"
   ]
  },
  {
   "cell_type": "code",
   "execution_count": 16,
   "id": "5fc52994",
   "metadata": {},
   "outputs": [
    {
     "data": {
      "text/plain": [
       "False"
      ]
     },
     "execution_count": 16,
     "metadata": {},
     "output_type": "execute_result"
    }
   ],
   "source": [
    "pt1 is pt2"
   ]
  },
  {
   "cell_type": "code",
   "execution_count": 17,
   "id": "0186c0c1",
   "metadata": {},
   "outputs": [
    {
     "data": {
      "text/plain": [
       "True"
      ]
     },
     "execution_count": 17,
     "metadata": {},
     "output_type": "execute_result"
    }
   ],
   "source": [
    "pt1 == pt2"
   ]
  },
  {
   "cell_type": "markdown",
   "id": "e0a448fb",
   "metadata": {},
   "source": [
    "This will not be the case with our class"
   ]
  },
  {
   "cell_type": "code",
   "execution_count": 18,
   "id": "385e450c",
   "metadata": {},
   "outputs": [],
   "source": [
    "pt1 = Point3D(10,20,30)\n",
    "pt2 = Point3D(10,20,30)"
   ]
  },
  {
   "cell_type": "code",
   "execution_count": 19,
   "id": "d4e4dbcf",
   "metadata": {},
   "outputs": [
    {
     "data": {
      "text/plain": [
       "False"
      ]
     },
     "execution_count": 19,
     "metadata": {},
     "output_type": "execute_result"
    }
   ],
   "source": [
    "pt1 is pt2"
   ]
  },
  {
   "cell_type": "code",
   "execution_count": 20,
   "id": "87c15001",
   "metadata": {},
   "outputs": [
    {
     "data": {
      "text/plain": [
       "False"
      ]
     },
     "execution_count": 20,
     "metadata": {},
     "output_type": "execute_result"
    }
   ],
   "source": [
    "pt1 == pt2"
   ]
  },
  {
   "cell_type": "markdown",
   "id": "5482101a",
   "metadata": {},
   "source": [
    "For that, we would have to implement the equals built-in function"
   ]
  },
  {
   "cell_type": "code",
   "execution_count": 21,
   "id": "da2a8b34",
   "metadata": {},
   "outputs": [],
   "source": [
    "class Point3D:\n",
    "    def __init__(self, x,y,z):\n",
    "        self.x,self.y,self.z = x,y,z\n",
    "    \n",
    "    def __repr__(self):\n",
    "        return f'{self.__class__.__name__} (x={self.x}, y={self.y}, z={self.z})'\n",
    "    \n",
    "    def __eq__(self,other):\n",
    "        if isinstance(other, Point3D):\n",
    "            return self.x == other.x and self.y == other.y and self.z == other.z\n",
    "        else:\n",
    "            return False\n",
    "    "
   ]
  },
  {
   "cell_type": "code",
   "execution_count": 22,
   "id": "1eb01743",
   "metadata": {},
   "outputs": [],
   "source": [
    "pt1 = Point3D(10,20,30)\n",
    "pt2 = Point3D(10,20,30)"
   ]
  },
  {
   "cell_type": "code",
   "execution_count": 23,
   "id": "9bfcad69",
   "metadata": {},
   "outputs": [
    {
     "data": {
      "text/plain": [
       "False"
      ]
     },
     "execution_count": 23,
     "metadata": {},
     "output_type": "execute_result"
    }
   ],
   "source": [
    "pt1 is pt2"
   ]
  },
  {
   "cell_type": "code",
   "execution_count": 24,
   "id": "c1ac10af",
   "metadata": {},
   "outputs": [
    {
     "data": {
      "text/plain": [
       "True"
      ]
     },
     "execution_count": 24,
     "metadata": {},
     "output_type": "execute_result"
    }
   ],
   "source": [
    "pt1 == pt2"
   ]
  },
  {
   "cell_type": "markdown",
   "id": "295dfad1",
   "metadata": {},
   "source": [
    "With namedtuples, we do not have to add all this extra code"
   ]
  },
  {
   "cell_type": "markdown",
   "id": "6a80a98b",
   "metadata": {},
   "source": [
    "Other thing we get for 'free' is the ***max*** function"
   ]
  },
  {
   "cell_type": "code",
   "execution_count": 25,
   "id": "72e6ba98",
   "metadata": {},
   "outputs": [],
   "source": [
    "pt1 = Point2D(10,20)\n",
    "pt2 = Point3D(10,20,30)"
   ]
  },
  {
   "cell_type": "code",
   "execution_count": 26,
   "id": "b2e49c31",
   "metadata": {},
   "outputs": [
    {
     "data": {
      "text/plain": [
       "20"
      ]
     },
     "execution_count": 26,
     "metadata": {},
     "output_type": "execute_result"
    }
   ],
   "source": [
    "max(pt1)"
   ]
  },
  {
   "cell_type": "code",
   "execution_count": 27,
   "id": "723bd683",
   "metadata": {},
   "outputs": [
    {
     "ename": "TypeError",
     "evalue": "'Point3D' object is not iterable",
     "output_type": "error",
     "traceback": [
      "\u001b[0;31m---------------------------------------------------------------------------\u001b[0m",
      "\u001b[0;31mTypeError\u001b[0m                                 Traceback (most recent call last)",
      "\u001b[0;32m<ipython-input-27-1443a90c064b>\u001b[0m in \u001b[0;36m<module>\u001b[0;34m\u001b[0m\n\u001b[0;32m----> 1\u001b[0;31m \u001b[0mmax\u001b[0m\u001b[0;34m(\u001b[0m\u001b[0mpt2\u001b[0m\u001b[0;34m)\u001b[0m\u001b[0;34m\u001b[0m\u001b[0;34m\u001b[0m\u001b[0m\n\u001b[0m",
      "\u001b[0;31mTypeError\u001b[0m: 'Point3D' object is not iterable"
     ]
    }
   ],
   "source": [
    "max(pt2)"
   ]
  },
  {
   "cell_type": "markdown",
   "id": "50163fe8",
   "metadata": {},
   "source": [
    "What happens if we want to calculate the dot product of two vectors. Let's say we have this two vectors:\n",
    "\n",
    "    a = a.x, a.y\n",
    "    b = b.x, b.y\n",
    "    \n",
    "    a.b = a.x * b.x + a.y * b.y"
   ]
  },
  {
   "cell_type": "code",
   "execution_count": 34,
   "id": "3efc8761",
   "metadata": {},
   "outputs": [],
   "source": [
    "def dot_product_3d(a,b):\n",
    "    return a.x * b.x + a.y * b.y + a.z * b.z"
   ]
  },
  {
   "cell_type": "code",
   "execution_count": 35,
   "id": "a83b357e",
   "metadata": {},
   "outputs": [],
   "source": [
    "pt1 = Point3D(1,2,3)\n",
    "pt2 = Point3D(1,1,1)"
   ]
  },
  {
   "cell_type": "code",
   "execution_count": 36,
   "id": "4155ff30",
   "metadata": {},
   "outputs": [
    {
     "data": {
      "text/plain": [
       "6"
      ]
     },
     "execution_count": 36,
     "metadata": {},
     "output_type": "execute_result"
    }
   ],
   "source": [
    "dot_product_3d(pt1,pt2)"
   ]
  },
  {
   "cell_type": "markdown",
   "id": "88366b34",
   "metadata": {},
   "source": [
    "Now, how we are going to get in a 2d and with a tuple"
   ]
  },
  {
   "cell_type": "code",
   "execution_count": 48,
   "id": "2ed28799",
   "metadata": {},
   "outputs": [
    {
     "data": {
      "text/plain": [
       "[(1, 1), (2, 1)]"
      ]
     },
     "execution_count": 48,
     "metadata": {},
     "output_type": "execute_result"
    }
   ],
   "source": [
    "a = (1,2)\n",
    "b = (1,1)\n",
    "\n",
    "list(zip(a,b))"
   ]
  },
  {
   "cell_type": "code",
   "execution_count": 51,
   "id": "700b0011",
   "metadata": {},
   "outputs": [],
   "source": [
    "import operator"
   ]
  },
  {
   "cell_type": "code",
   "execution_count": 52,
   "id": "86316a4a",
   "metadata": {},
   "outputs": [],
   "source": [
    "def dot_product(a,b):    \n",
    "    return sum([operator.mul(*e) for e in zip(a,b)])"
   ]
  },
  {
   "cell_type": "code",
   "execution_count": 53,
   "id": "97d97868",
   "metadata": {},
   "outputs": [
    {
     "data": {
      "text/plain": [
       "3"
      ]
     },
     "execution_count": 53,
     "metadata": {},
     "output_type": "execute_result"
    }
   ],
   "source": [
    "dot_product(a,b)"
   ]
  },
  {
   "cell_type": "code",
   "execution_count": 54,
   "id": "d8a5fdfc",
   "metadata": {},
   "outputs": [],
   "source": [
    "pt1 = Point2D(1,2)\n",
    "pt2 = Point2D(1,1)"
   ]
  },
  {
   "cell_type": "markdown",
   "id": "0ac5a60e",
   "metadata": {},
   "source": [
    "Let's access to this namedtuple in different ways"
   ]
  },
  {
   "cell_type": "code",
   "execution_count": 55,
   "id": "9a1e853f",
   "metadata": {},
   "outputs": [],
   "source": [
    "Vector3D = namedtuple('Vector3D', 'x y z')"
   ]
  },
  {
   "cell_type": "code",
   "execution_count": 56,
   "id": "c097a37e",
   "metadata": {},
   "outputs": [],
   "source": [
    "v1 = Vector3D(1,2,3)\n",
    "v2 = Vector3D(1,1,1)"
   ]
  },
  {
   "cell_type": "code",
   "execution_count": 57,
   "id": "94147919",
   "metadata": {},
   "outputs": [
    {
     "data": {
      "text/plain": [
       "Vector3D(x=1, y=2, z=3)"
      ]
     },
     "execution_count": 57,
     "metadata": {},
     "output_type": "execute_result"
    }
   ],
   "source": [
    "v1"
   ]
  },
  {
   "cell_type": "code",
   "execution_count": 58,
   "id": "9c625c59",
   "metadata": {},
   "outputs": [
    {
     "data": {
      "text/plain": [
       "Vector3D(x=1, y=1, z=1)"
      ]
     },
     "execution_count": 58,
     "metadata": {},
     "output_type": "execute_result"
    }
   ],
   "source": [
    "v2"
   ]
  },
  {
   "cell_type": "code",
   "execution_count": 59,
   "id": "e8a7644f",
   "metadata": {},
   "outputs": [
    {
     "data": {
      "text/plain": [
       "(1, 2, 3)"
      ]
     },
     "execution_count": 59,
     "metadata": {},
     "output_type": "execute_result"
    }
   ],
   "source": [
    "tuple(v1)"
   ]
  },
  {
   "cell_type": "code",
   "execution_count": 60,
   "id": "5b77790d",
   "metadata": {},
   "outputs": [
    {
     "data": {
      "text/plain": [
       "1"
      ]
     },
     "execution_count": 60,
     "metadata": {},
     "output_type": "execute_result"
    }
   ],
   "source": [
    "v1[0]"
   ]
  },
  {
   "cell_type": "code",
   "execution_count": 61,
   "id": "50f207ba",
   "metadata": {},
   "outputs": [
    {
     "data": {
      "text/plain": [
       "(1, 2)"
      ]
     },
     "execution_count": 61,
     "metadata": {},
     "output_type": "execute_result"
    }
   ],
   "source": [
    "v1[0:2]"
   ]
  },
  {
   "cell_type": "code",
   "execution_count": 62,
   "id": "d1c79f42",
   "metadata": {},
   "outputs": [
    {
     "data": {
      "text/plain": [
       "Vector3D(x=1, y=2, z=3)"
      ]
     },
     "execution_count": 62,
     "metadata": {},
     "output_type": "execute_result"
    }
   ],
   "source": [
    "v1"
   ]
  },
  {
   "cell_type": "code",
   "execution_count": 63,
   "id": "be34e9b4",
   "metadata": {},
   "outputs": [
    {
     "data": {
      "text/plain": [
       "1"
      ]
     },
     "execution_count": 63,
     "metadata": {},
     "output_type": "execute_result"
    }
   ],
   "source": [
    "v1.x"
   ]
  },
  {
   "cell_type": "code",
   "execution_count": 65,
   "id": "f11ea2b6",
   "metadata": {},
   "outputs": [
    {
     "data": {
      "text/plain": [
       "2"
      ]
     },
     "execution_count": 65,
     "metadata": {},
     "output_type": "execute_result"
    }
   ],
   "source": [
    "v1.y"
   ]
  },
  {
   "cell_type": "code",
   "execution_count": 66,
   "id": "aa03e7c8",
   "metadata": {},
   "outputs": [],
   "source": [
    "Circle = namedtuple('Circle', 'center_x center_y radius')"
   ]
  },
  {
   "cell_type": "code",
   "execution_count": 67,
   "id": "00036bd9",
   "metadata": {},
   "outputs": [],
   "source": [
    "c = Circle(0,0,10)"
   ]
  },
  {
   "cell_type": "code",
   "execution_count": 68,
   "id": "de9678a3",
   "metadata": {},
   "outputs": [
    {
     "data": {
      "text/plain": [
       "Circle(center_x=0, center_y=0, radius=10)"
      ]
     },
     "execution_count": 68,
     "metadata": {},
     "output_type": "execute_result"
    }
   ],
   "source": [
    "c"
   ]
  },
  {
   "cell_type": "code",
   "execution_count": 69,
   "id": "021e1cc4",
   "metadata": {},
   "outputs": [
    {
     "data": {
      "text/plain": [
       "10"
      ]
     },
     "execution_count": 69,
     "metadata": {},
     "output_type": "execute_result"
    }
   ],
   "source": [
    "c.radius"
   ]
  },
  {
   "cell_type": "code",
   "execution_count": 70,
   "id": "0e111773",
   "metadata": {},
   "outputs": [],
   "source": [
    "Stock = namedtuple('Stock', '''symbol year month \n",
    "                               day open high low close''')"
   ]
  },
  {
   "cell_type": "code",
   "execution_count": 71,
   "id": "15ebcd83",
   "metadata": {},
   "outputs": [],
   "source": [
    "djia = Stock('DJIA', 2018, 1, 25, 26_313, 26_458, 26_220, 26_383)"
   ]
  },
  {
   "cell_type": "code",
   "execution_count": 72,
   "id": "b2297d26",
   "metadata": {},
   "outputs": [
    {
     "data": {
      "text/plain": [
       "Stock(symbol='DJIA', year=2018, month=1, day=25, open=26313, high=26458, low=26220, close=26383)"
      ]
     },
     "execution_count": 72,
     "metadata": {},
     "output_type": "execute_result"
    }
   ],
   "source": [
    "djia"
   ]
  },
  {
   "cell_type": "code",
   "execution_count": 73,
   "id": "2e8974b6",
   "metadata": {},
   "outputs": [
    {
     "data": {
      "text/plain": [
       "26383"
      ]
     },
     "execution_count": 73,
     "metadata": {},
     "output_type": "execute_result"
    }
   ],
   "source": [
    "djia.close"
   ]
  },
  {
   "cell_type": "code",
   "execution_count": 74,
   "id": "ab21a460",
   "metadata": {},
   "outputs": [],
   "source": [
    "symbol, *_, close = djia"
   ]
  },
  {
   "cell_type": "code",
   "execution_count": 75,
   "id": "9b520ded",
   "metadata": {},
   "outputs": [
    {
     "data": {
      "text/plain": [
       "'DJIA'"
      ]
     },
     "execution_count": 75,
     "metadata": {},
     "output_type": "execute_result"
    }
   ],
   "source": [
    "symbol"
   ]
  },
  {
   "cell_type": "code",
   "execution_count": 76,
   "id": "17e5d1ac",
   "metadata": {},
   "outputs": [
    {
     "data": {
      "text/plain": [
       "26383"
      ]
     },
     "execution_count": 76,
     "metadata": {},
     "output_type": "execute_result"
    }
   ],
   "source": [
    "close"
   ]
  },
  {
   "cell_type": "markdown",
   "id": "d6bc06a4",
   "metadata": {},
   "source": [
    "Remember that you cannot use the underscore ( _ ) for the namedtuples"
   ]
  },
  {
   "cell_type": "code",
   "execution_count": 77,
   "id": "c869789a",
   "metadata": {},
   "outputs": [
    {
     "ename": "ValueError",
     "evalue": "Field names cannot start with an underscore: '_age'",
     "output_type": "error",
     "traceback": [
      "\u001b[0;31m---------------------------------------------------------------------------\u001b[0m",
      "\u001b[0;31mValueError\u001b[0m                                Traceback (most recent call last)",
      "\u001b[0;32m<ipython-input-77-18ccd972aa6b>\u001b[0m in \u001b[0;36m<module>\u001b[0;34m\u001b[0m\n\u001b[0;32m----> 1\u001b[0;31m \u001b[0mPerson\u001b[0m \u001b[0;34m=\u001b[0m \u001b[0mnamedtuple\u001b[0m\u001b[0;34m(\u001b[0m\u001b[0;34m'Person'\u001b[0m\u001b[0;34m,\u001b[0m \u001b[0;34m'name _age'\u001b[0m\u001b[0;34m)\u001b[0m\u001b[0;34m\u001b[0m\u001b[0;34m\u001b[0m\u001b[0m\n\u001b[0m",
      "\u001b[0;32m/usr/local/Cellar/python@3.9/3.9.7/Frameworks/Python.framework/Versions/3.9/lib/python3.9/collections/__init__.py\u001b[0m in \u001b[0;36mnamedtuple\u001b[0;34m(typename, field_names, rename, defaults, module)\u001b[0m\n\u001b[1;32m    397\u001b[0m     \u001b[0;32mfor\u001b[0m \u001b[0mname\u001b[0m \u001b[0;32min\u001b[0m \u001b[0mfield_names\u001b[0m\u001b[0;34m:\u001b[0m\u001b[0;34m\u001b[0m\u001b[0;34m\u001b[0m\u001b[0m\n\u001b[1;32m    398\u001b[0m         \u001b[0;32mif\u001b[0m \u001b[0mname\u001b[0m\u001b[0;34m.\u001b[0m\u001b[0mstartswith\u001b[0m\u001b[0;34m(\u001b[0m\u001b[0;34m'_'\u001b[0m\u001b[0;34m)\u001b[0m \u001b[0;32mand\u001b[0m \u001b[0;32mnot\u001b[0m \u001b[0mrename\u001b[0m\u001b[0;34m:\u001b[0m\u001b[0;34m\u001b[0m\u001b[0;34m\u001b[0m\u001b[0m\n\u001b[0;32m--> 399\u001b[0;31m             raise ValueError('Field names cannot start with an underscore: '\n\u001b[0m\u001b[1;32m    400\u001b[0m                              f'{name!r}')\n\u001b[1;32m    401\u001b[0m         \u001b[0;32mif\u001b[0m \u001b[0mname\u001b[0m \u001b[0;32min\u001b[0m \u001b[0mseen\u001b[0m\u001b[0;34m:\u001b[0m\u001b[0;34m\u001b[0m\u001b[0;34m\u001b[0m\u001b[0m\n",
      "\u001b[0;31mValueError\u001b[0m: Field names cannot start with an underscore: '_age'"
     ]
    }
   ],
   "source": [
    "Person = namedtuple('Person', 'name _age')"
   ]
  },
  {
   "cell_type": "markdown",
   "id": "bd746f63",
   "metadata": {},
   "source": [
    "Let's use the keyword ***rename***\n",
    "\n",
    "It will replace the underscore with the position in the tuple"
   ]
  },
  {
   "cell_type": "code",
   "execution_count": 78,
   "id": "969ebafc",
   "metadata": {},
   "outputs": [],
   "source": [
    "Person = namedtuple('Person', 'name _age', rename=True)"
   ]
  },
  {
   "cell_type": "code",
   "execution_count": 80,
   "id": "91d6cf97",
   "metadata": {},
   "outputs": [],
   "source": [
    "p = Person('Manolito', 23)"
   ]
  },
  {
   "cell_type": "code",
   "execution_count": 81,
   "id": "dd7c0e49",
   "metadata": {},
   "outputs": [
    {
     "data": {
      "text/plain": [
       "Person(name='Manolito', _1=23)"
      ]
     },
     "execution_count": 81,
     "metadata": {},
     "output_type": "execute_result"
    }
   ],
   "source": [
    "p"
   ]
  },
  {
   "cell_type": "markdown",
   "id": "b2037aa0",
   "metadata": {},
   "source": [
    "Why? Because when you use the underscore, you use keywords to access to this object"
   ]
  },
  {
   "cell_type": "code",
   "execution_count": 86,
   "id": "1e59c824",
   "metadata": {},
   "outputs": [
    {
     "data": {
      "text/plain": [
       "('name', '_1')"
      ]
     },
     "execution_count": 86,
     "metadata": {},
     "output_type": "execute_result"
    }
   ],
   "source": [
    "Person._fields"
   ]
  },
  {
   "cell_type": "markdown",
   "id": "9722dc8d",
   "metadata": {},
   "source": [
    "The instance of the namedtuple can be read as a dictionary"
   ]
  },
  {
   "cell_type": "code",
   "execution_count": 91,
   "id": "745a9d70",
   "metadata": {},
   "outputs": [
    {
     "data": {
      "text/plain": [
       "{'name': 'Manolito', '_1': 23}"
      ]
     },
     "execution_count": 91,
     "metadata": {},
     "output_type": "execute_result"
    }
   ],
   "source": [
    "p._asdict()"
   ]
  },
  {
   "cell_type": "code",
   "execution_count": 93,
   "id": "386797cd",
   "metadata": {},
   "outputs": [
    {
     "data": {
      "text/plain": [
       "{'symbol': 'DJIA',\n",
       " 'year': 2018,\n",
       " 'month': 1,\n",
       " 'day': 25,\n",
       " 'open': 26313,\n",
       " 'high': 26458,\n",
       " 'low': 26220,\n",
       " 'close': 26383}"
      ]
     },
     "execution_count": 93,
     "metadata": {},
     "output_type": "execute_result"
    }
   ],
   "source": [
    "djia._asdict()"
   ]
  },
  {
   "cell_type": "markdown",
   "id": "6ae7d407",
   "metadata": {},
   "source": [
    "----\n",
    "## Named tuples : Modifying and Extending\n",
    "\n",
    "**Named tuples are immutable**\n",
    "\n",
    "So how can we 'change' one or more values inside the tuple?\n",
    "\n",
    "Just like with strings, we have to create a **new** tuple, with the modified values\n",
    "\n",
    "    Point2D = namedtuple('Point2D, 'x y')\n",
    "    pt = Point2D(0,0)\n",
    "    \n",
    "    Suppose we need to change the value of x\n",
    "    \n",
    "    Simple approach:\n",
    "    \n",
    "    pt = Point2D(100,pt.y)\n",
    "    \n",
    "    Note that the memory address of pt has now changed\n",
    "    \n",
    "**Drawback**\n",
    "\n",
    "The simple approach can work well, but it has a major drawback\n",
    "\n",
    "From a namedtuple with multiple values, it is a challenge to rewrite every single value just to change ONE value!\n",
    "\n",
    "We can apply unpacking to solve this major issue:\n",
    "\n",
    "    djioa = Stock('DJIA', 2018, 1, 25, 252, 255, 2355, 25)\n",
    "    \n",
    "    current = djia[:7]\n",
    "    \n",
    "    *current, _ = djia\n",
    "    \n",
    "    djia = Stock(*current, 26423)\n",
    "    \n",
    "We can also use the _make class method - but we need to create an iterable that contains all the values first:\n",
    "\n",
    "    new_values = current + (26423,)\n",
    "    \n",
    "    djia = Stock._make(new_values) *which, _make, takes any iterable\n",
    "    \n",
    "**This still has drawbacks**\n",
    "\n",
    "What if we wanted to change a value somewhere in the middle and not the end?\n",
    "\n",
    "Cannot use extended unpacking (only one starred value in extending unpacking)\n",
    "\n",
    "    *pre, day, *post = makes not sense!\n",
    "    \n",
    "Slicing will work\n",
    "\n",
    "    pre = djia[:3]\n",
    "    post = djia[4:]\n",
    "    \n",
    "    new_values = pre + (26,) + post\n",
    "    \n",
    "    djia = Stock._make(new_values)\n",
    "    \n",
    "**Still... has it drawbacks**\n",
    "\n",
    "How about modifying two values in the middle, but seprated\n",
    "\n",
    "It would be a huge mess with all the slicing stuff, is just unreadable and extremely error prone\n",
    "\n",
    "There has to be a better way!!\n",
    "\n",
    "**The replace instance method**\n",
    "\n",
    "Named tuples have a very handy instance method:\n",
    "    \n",
    "    _replace\n",
    "    \n",
    "It will copy the named tuple into a new one, replacing any value from keyword arguments\n",
    "\n",
    "The keyword arguments are simple the field names in the tuple and the new value\n",
    "\n",
    "The keyword name must match an existing field name\n",
    "\n",
    "\n",
    "**Extending a Named Tuple**\n",
    "\n",
    "Sometimes we want to create named tuple that extend another named tuple, appending one or more fields\n",
    "\n",
    "When dealing with classes, this is sometime done by ussing subclasses/\n",
    "\n",
    "But this not easy to do with named tuples\n",
    "\n",
    "    Point2D = namedtuple('Point2D', 'x y')\n",
    "    \n",
    "Let's say we want to create a **Point3D** namedtuple that has an extra parameter\n",
    "\n",
    "\n",
    "    Point2D._fields = 'x','y'\n",
    "    \n",
    "We can then create a new named tuple by 'extending' the fields tuple\n",
    "\n",
    "    new_fields = Point2D._fields + ('z',)\n",
    "    \n",
    "    Point3D = namedtuple('Point3D', new_fields)\n",
    "    \n"
   ]
  },
  {
   "cell_type": "code",
   "execution_count": 94,
   "id": "98f1c89a",
   "metadata": {},
   "outputs": [],
   "source": [
    "from collections import namedtuple\n",
    "\n",
    "Point2D = namedtuple('Point2D', 'x y')"
   ]
  },
  {
   "cell_type": "code",
   "execution_count": 102,
   "id": "9d570beb",
   "metadata": {},
   "outputs": [],
   "source": [
    "pt = Point2D(10,20)"
   ]
  },
  {
   "cell_type": "code",
   "execution_count": 103,
   "id": "b3913f3f",
   "metadata": {},
   "outputs": [
    {
     "data": {
      "text/plain": [
       "4586447424"
      ]
     },
     "execution_count": 103,
     "metadata": {},
     "output_type": "execute_result"
    }
   ],
   "source": [
    "id(pt)"
   ]
  },
  {
   "cell_type": "code",
   "execution_count": 104,
   "id": "82bace1f",
   "metadata": {},
   "outputs": [
    {
     "name": "stdout",
     "output_type": "stream",
     "text": [
      "10\n",
      "20\n"
     ]
    }
   ],
   "source": [
    "print(pt.x)\n",
    "print(pt.y)"
   ]
  },
  {
   "cell_type": "markdown",
   "id": "784f769d",
   "metadata": {},
   "source": [
    "Of course, we cannot modify directly a value"
   ]
  },
  {
   "cell_type": "code",
   "execution_count": 105,
   "id": "e32f0f8b",
   "metadata": {},
   "outputs": [
    {
     "ename": "AttributeError",
     "evalue": "can't set attribute",
     "output_type": "error",
     "traceback": [
      "\u001b[0;31m---------------------------------------------------------------------------\u001b[0m",
      "\u001b[0;31mAttributeError\u001b[0m                            Traceback (most recent call last)",
      "\u001b[0;32m<ipython-input-105-f597262db83f>\u001b[0m in \u001b[0;36m<module>\u001b[0;34m\u001b[0m\n\u001b[0;32m----> 1\u001b[0;31m \u001b[0mpt\u001b[0m\u001b[0;34m.\u001b[0m\u001b[0mx\u001b[0m \u001b[0;34m=\u001b[0m \u001b[0;36m100\u001b[0m\u001b[0;34m\u001b[0m\u001b[0;34m\u001b[0m\u001b[0m\n\u001b[0m",
      "\u001b[0;31mAttributeError\u001b[0m: can't set attribute"
     ]
    }
   ],
   "source": [
    "pt.x = 100"
   ]
  },
  {
   "cell_type": "code",
   "execution_count": 106,
   "id": "d976176b",
   "metadata": {},
   "outputs": [],
   "source": [
    "pt = Point2D(100,pt.y)"
   ]
  },
  {
   "cell_type": "code",
   "execution_count": 107,
   "id": "f1582734",
   "metadata": {},
   "outputs": [
    {
     "data": {
      "text/plain": [
       "Point2D(x=100, y=20)"
      ]
     },
     "execution_count": 107,
     "metadata": {},
     "output_type": "execute_result"
    }
   ],
   "source": [
    "pt"
   ]
  },
  {
   "cell_type": "code",
   "execution_count": 108,
   "id": "0b8f5f4b",
   "metadata": {},
   "outputs": [
    {
     "data": {
      "text/plain": [
       "4586657472"
      ]
     },
     "execution_count": 108,
     "metadata": {},
     "output_type": "execute_result"
    }
   ],
   "source": [
    "id(pt)"
   ]
  },
  {
   "cell_type": "markdown",
   "id": "495fd8f0",
   "metadata": {},
   "source": [
    "    _make"
   ]
  },
  {
   "cell_type": "code",
   "execution_count": 115,
   "id": "d4b33289",
   "metadata": {},
   "outputs": [],
   "source": [
    "new_values = (10,200)\n",
    "pt = Point2D._make(new_values)"
   ]
  },
  {
   "cell_type": "code",
   "execution_count": 116,
   "id": "248b48f6",
   "metadata": {},
   "outputs": [
    {
     "data": {
      "text/plain": [
       "Point2D(x=10, y=200)"
      ]
     },
     "execution_count": 116,
     "metadata": {},
     "output_type": "execute_result"
    }
   ],
   "source": [
    "pt"
   ]
  },
  {
   "cell_type": "code",
   "execution_count": 117,
   "id": "76f9f63d",
   "metadata": {
    "scrolled": true
   },
   "outputs": [
    {
     "data": {
      "text/plain": [
       "4586691712"
      ]
     },
     "execution_count": 117,
     "metadata": {},
     "output_type": "execute_result"
    }
   ],
   "source": [
    "id(pt)"
   ]
  },
  {
   "cell_type": "code",
   "execution_count": 118,
   "id": "93c15362",
   "metadata": {},
   "outputs": [],
   "source": [
    "Stock = namedtuple('Stock', '''symbol year month \n",
    "                               day open high low close''')\n",
    "djia = Stock('DJIA', 2018, 1, 25, 26_313, 26_458, 26_220, 26_383)"
   ]
  },
  {
   "cell_type": "code",
   "execution_count": 119,
   "id": "a4ef9bd7",
   "metadata": {},
   "outputs": [
    {
     "data": {
      "text/plain": [
       "Stock(symbol='DJIA', year=2018, month=1, day=25, open=26313, high=26458, low=26220, close=26383)"
      ]
     },
     "execution_count": 119,
     "metadata": {},
     "output_type": "execute_result"
    }
   ],
   "source": [
    "djia"
   ]
  },
  {
   "cell_type": "code",
   "execution_count": 123,
   "id": "95b16712",
   "metadata": {},
   "outputs": [],
   "source": [
    "new_values = djia[:7] + (26_443,)\n",
    "djia = Stock._make(new_values)"
   ]
  },
  {
   "cell_type": "code",
   "execution_count": 124,
   "id": "2e10e868",
   "metadata": {},
   "outputs": [
    {
     "data": {
      "text/plain": [
       "Stock(symbol='DJIA', year=2018, month=1, day=25, open=26313, high=26458, low=26220, close=26443)"
      ]
     },
     "execution_count": 124,
     "metadata": {},
     "output_type": "execute_result"
    }
   ],
   "source": [
    "djia"
   ]
  },
  {
   "cell_type": "code",
   "execution_count": 127,
   "id": "3bc3cd3c",
   "metadata": {},
   "outputs": [],
   "source": [
    "new_values = djia[:5] + (24676,) + djia[6:7] + (16_443,)\n",
    "new_values\n",
    "djia = Stock._make(new_values)"
   ]
  },
  {
   "cell_type": "code",
   "execution_count": 128,
   "id": "a396fff5",
   "metadata": {},
   "outputs": [
    {
     "data": {
      "text/plain": [
       "Stock(symbol='DJIA', year=2018, month=1, day=25, open=26313, high=24676, low=26220, close=16443)"
      ]
     },
     "execution_count": 128,
     "metadata": {},
     "output_type": "execute_result"
    }
   ],
   "source": [
    "djia"
   ]
  },
  {
   "cell_type": "markdown",
   "id": "e2e0b953",
   "metadata": {},
   "source": [
    "    _replace"
   ]
  },
  {
   "cell_type": "code",
   "execution_count": 129,
   "id": "ceefa3ef",
   "metadata": {},
   "outputs": [
    {
     "data": {
      "text/plain": [
       "4586700352"
      ]
     },
     "execution_count": 129,
     "metadata": {},
     "output_type": "execute_result"
    }
   ],
   "source": [
    "id(djia)"
   ]
  },
  {
   "cell_type": "code",
   "execution_count": 130,
   "id": "fa88c3f6",
   "metadata": {},
   "outputs": [],
   "source": [
    "djia = djia._replace(year=2020, open=10_000)"
   ]
  },
  {
   "cell_type": "code",
   "execution_count": 131,
   "id": "ec6c1c6e",
   "metadata": {},
   "outputs": [
    {
     "data": {
      "text/plain": [
       "Stock(symbol='DJIA', year=2020, month=1, day=25, open=10000, high=24676, low=26220, close=16443)"
      ]
     },
     "execution_count": 131,
     "metadata": {},
     "output_type": "execute_result"
    }
   ],
   "source": [
    "djia"
   ]
  },
  {
   "cell_type": "code",
   "execution_count": 132,
   "id": "e3a3f6f2",
   "metadata": {},
   "outputs": [
    {
     "data": {
      "text/plain": [
       "4586730432"
      ]
     },
     "execution_count": 132,
     "metadata": {},
     "output_type": "execute_result"
    }
   ],
   "source": [
    "id(djia)"
   ]
  },
  {
   "cell_type": "markdown",
   "id": "7545b1fa",
   "metadata": {},
   "source": [
    "Remember! Tuples being immutable, always is created a new tuple in new memory address"
   ]
  },
  {
   "cell_type": "markdown",
   "id": "2093f74c",
   "metadata": {},
   "source": [
    "    Extend our tuple"
   ]
  },
  {
   "cell_type": "code",
   "execution_count": 133,
   "id": "de612fbb",
   "metadata": {},
   "outputs": [
    {
     "data": {
      "text/plain": [
       "__main__.Point2D"
      ]
     },
     "execution_count": 133,
     "metadata": {},
     "output_type": "execute_result"
    }
   ],
   "source": [
    "Point2D "
   ]
  },
  {
   "cell_type": "code",
   "execution_count": 134,
   "id": "d6b649c9",
   "metadata": {},
   "outputs": [
    {
     "data": {
      "text/plain": [
       "('x', 'y')"
      ]
     },
     "execution_count": 134,
     "metadata": {},
     "output_type": "execute_result"
    }
   ],
   "source": [
    "Point2D._fields"
   ]
  },
  {
   "cell_type": "code",
   "execution_count": 139,
   "id": "47beed1f",
   "metadata": {},
   "outputs": [],
   "source": [
    "Point3D = namedtuple('Point3D', Point2D._fields + ('z',))"
   ]
  },
  {
   "cell_type": "code",
   "execution_count": 141,
   "id": "410eb81c",
   "metadata": {},
   "outputs": [],
   "source": [
    "pt = Point3D(0,0,0)"
   ]
  },
  {
   "cell_type": "code",
   "execution_count": 142,
   "id": "44f626ad",
   "metadata": {},
   "outputs": [
    {
     "data": {
      "text/plain": [
       "Point3D(x=0, y=0, z=0)"
      ]
     },
     "execution_count": 142,
     "metadata": {},
     "output_type": "execute_result"
    }
   ],
   "source": [
    "pt"
   ]
  },
  {
   "cell_type": "code",
   "execution_count": 143,
   "id": "f29a165a",
   "metadata": {},
   "outputs": [],
   "source": [
    "StockExt = namedtuple('StockExt', Stock._fields + ('previous_field',))"
   ]
  },
  {
   "cell_type": "code",
   "execution_count": 144,
   "id": "922807d8",
   "metadata": {},
   "outputs": [
    {
     "data": {
      "text/plain": [
       "('symbol',\n",
       " 'year',\n",
       " 'month',\n",
       " 'day',\n",
       " 'open',\n",
       " 'high',\n",
       " 'low',\n",
       " 'close',\n",
       " 'previous_field')"
      ]
     },
     "execution_count": 144,
     "metadata": {},
     "output_type": "execute_result"
    }
   ],
   "source": [
    "StockExt._fields"
   ]
  },
  {
   "cell_type": "markdown",
   "id": "2dd9881b",
   "metadata": {},
   "source": [
    "What about retrieveing the values also and not the attributes?"
   ]
  },
  {
   "cell_type": "code",
   "execution_count": 145,
   "id": "8694a97e",
   "metadata": {},
   "outputs": [
    {
     "data": {
      "text/plain": [
       "Point2D(x=10, y=10)"
      ]
     },
     "execution_count": 145,
     "metadata": {},
     "output_type": "execute_result"
    }
   ],
   "source": [
    "pt = Point2D(10,10)\n",
    "pt"
   ]
  },
  {
   "cell_type": "code",
   "execution_count": 146,
   "id": "6354da47",
   "metadata": {},
   "outputs": [],
   "source": [
    "pt3d = Point3D(*pt,100)"
   ]
  },
  {
   "cell_type": "code",
   "execution_count": 147,
   "id": "664dfd76",
   "metadata": {},
   "outputs": [
    {
     "data": {
      "text/plain": [
       "Point3D(x=10, y=10, z=100)"
      ]
     },
     "execution_count": 147,
     "metadata": {},
     "output_type": "execute_result"
    }
   ],
   "source": [
    "pt3d"
   ]
  },
  {
   "cell_type": "markdown",
   "id": "8c87da2a",
   "metadata": {},
   "source": [
    "Of course, it would better to implement this when there are a lot of fields and values we want to retrieve"
   ]
  },
  {
   "cell_type": "markdown",
   "id": "4152980c",
   "metadata": {},
   "source": [
    "---\n",
    "## Named tuples : Docstrings and Default Values\n",
    "\n",
    "When we create a named tuple class, default docstrings are created\n",
    "\n",
    "    Point2D.__doc__\n",
    "    Point2D.x.__doc__ -> Alias for field number 0\n",
    "    \n",
    "**Default values**\n",
    "\n",
    "The **namedtuple** function does not provide us a way to define default values for each field\n",
    "\n",
    "Two approaches to this:\n",
    "\n",
    "**Using a Prototype**\n",
    "\n",
    "Create an instance of the named tuple with **default** values\n",
    "\n",
    "Create any additional instances of the named tuple uising the protoype._replace method\n",
    "\n",
    "You will need to supply a default for every field (can be None)\n",
    "\n",
    "**Using the defaults property**\n",
    "\n",
    "Directly set the defaults of the named tuple constructor (the new method)\n",
    "\n",
    "You do not need to specify a default for every field\n",
    "\n",
    "**remember that you cannot have non-defaulted parameters after the first defaulted parameter**\n",
    "\n",
    "The defaults property is **writable**\n",
    "\n",
    "So we can set it to a tuple of our choice\n",
    "\n",
    "Just do not provide more defaults than parameters (extras are ignored)\n",
    "\n",
    "\n",
    "We need to provide defaults to the constructor of our named tuple class with\n",
    "    \n",
    "    __new__"
   ]
  },
  {
   "cell_type": "code",
   "execution_count": null,
   "id": "064b986b",
   "metadata": {},
   "outputs": [],
   "source": []
  }
 ],
 "metadata": {
  "kernelspec": {
   "display_name": "Python 3",
   "language": "python",
   "name": "python3"
  },
  "language_info": {
   "codemirror_mode": {
    "name": "ipython",
    "version": 3
   },
   "file_extension": ".py",
   "mimetype": "text/x-python",
   "name": "python",
   "nbconvert_exporter": "python",
   "pygments_lexer": "ipython3",
   "version": "3.9.7"
  }
 },
 "nbformat": 4,
 "nbformat_minor": 5
}
