{
 "cells": [
  {
   "cell_type": "markdown",
   "id": "75c19b38",
   "metadata": {},
   "source": [
    "# Scopes, Closures and Decorators"
   ]
  },
  {
   "cell_type": "markdown",
   "id": "83556732",
   "metadata": {},
   "source": [
    "----\n",
    "## Global and Local Scopes"
   ]
  },
  {
   "cell_type": "markdown",
   "id": "f3d87fc8",
   "metadata": {},
   "source": [
    "**Scopes and Namespaces**\n",
    "\n",
    "When an object is assigned to a variable, that variable points to some object and we say the variable (name) is *bound(**references**)* to that object.\n",
    "\n",
    "That object can be accessed using that name in various part of our code.\n",
    "\n",
    "*But not just anywhere!*\n",
    "\n",
    "**Accesing the global scopre from a local scope**\n",
    "\n",
    "When *retrieving* the value of a global variable from inside a function, Python automatically searches the local scope's namespace, and up the chain of all enclosing scope namespaces\n",
    "\n",
    "local -> global -> built-in\n",
    "\n",
    "What about modifying a gloabla variables value from inside the function?\n",
    "\n",
    "    a = 0\n",
    "    def my_func():\n",
    "        a = 100\n",
    "        print(a)\n",
    "\n",
    "assignment -> Python interprets this as a local variable (at compile-time)\n",
    "          \n",
    "-> the local variable **a** masks the global variable **a**\n",
    "\n",
    "\n",
    "**The global keyword**\n",
    "\n",
    "We can tell Python that a variable is meant to be scoped in the global scope by using the **global** keyword\n",
    "\n",
    "    a = 0\n",
    "    def my_func():\n",
    "        global a\n",
    "        a = 100\n",
    "    \n",
    "    built-in = Global(a->0, my_func)\n",
    "    local scope = (global a = Global(a->100))\n",
    "    "
   ]
  },
  {
   "cell_type": "markdown",
   "id": "f348ef17",
   "metadata": {},
   "source": [
    "Global variable:"
   ]
  },
  {
   "cell_type": "code",
   "execution_count": 1,
   "id": "d1912e0f",
   "metadata": {},
   "outputs": [],
   "source": [
    "a = 10"
   ]
  },
  {
   "cell_type": "code",
   "execution_count": 2,
   "id": "fa598c8f",
   "metadata": {},
   "outputs": [],
   "source": [
    "def my_func(n):\n",
    "    c = n ** 2\n",
    "    return c"
   ]
  },
  {
   "cell_type": "code",
   "execution_count": 5,
   "id": "483ad739",
   "metadata": {},
   "outputs": [],
   "source": [
    "def my_func(n):\n",
    "    print('global a: ', a)\n",
    "    c = a ** n\n",
    "    return c"
   ]
  },
  {
   "cell_type": "markdown",
   "id": "dda8bd2e",
   "metadata": {},
   "source": [
    "My_func retrieves the global variable, because it does not count with a local variable named 'a'"
   ]
  },
  {
   "cell_type": "code",
   "execution_count": 6,
   "id": "614b2e00",
   "metadata": {},
   "outputs": [
    {
     "name": "stdout",
     "output_type": "stream",
     "text": [
      "global a:  10\n"
     ]
    },
    {
     "data": {
      "text/plain": [
       "10000000000"
      ]
     },
     "execution_count": 6,
     "metadata": {},
     "output_type": "execute_result"
    }
   ],
   "source": [
    "my_func(10)"
   ]
  },
  {
   "cell_type": "code",
   "execution_count": 7,
   "id": "03057e41",
   "metadata": {},
   "outputs": [],
   "source": [
    "def my_func(n):\n",
    "    a = 20\n",
    "    c = a ** n\n",
    "    return c"
   ]
  },
  {
   "cell_type": "code",
   "execution_count": 8,
   "id": "69319bd3",
   "metadata": {},
   "outputs": [
    {
     "name": "stdout",
     "output_type": "stream",
     "text": [
      "10\n"
     ]
    }
   ],
   "source": [
    "print(a)"
   ]
  },
  {
   "cell_type": "code",
   "execution_count": 9,
   "id": "0eab81b2",
   "metadata": {},
   "outputs": [
    {
     "data": {
      "text/plain": [
       "400"
      ]
     },
     "execution_count": 9,
     "metadata": {},
     "output_type": "execute_result"
    }
   ],
   "source": [
    "my_func(2)"
   ]
  },
  {
   "cell_type": "code",
   "execution_count": 10,
   "id": "94c8563d",
   "metadata": {},
   "outputs": [
    {
     "name": "stdout",
     "output_type": "stream",
     "text": [
      "10\n"
     ]
    }
   ],
   "source": [
    "print(a)"
   ]
  },
  {
   "cell_type": "code",
   "execution_count": 11,
   "id": "f7a197be",
   "metadata": {},
   "outputs": [],
   "source": [
    "def my_func(n):\n",
    "    global a\n",
    "    a = 20\n",
    "    c = a ** n\n",
    "    return c"
   ]
  },
  {
   "cell_type": "code",
   "execution_count": 12,
   "id": "cda6b4f2",
   "metadata": {},
   "outputs": [
    {
     "name": "stdout",
     "output_type": "stream",
     "text": [
      "10\n"
     ]
    }
   ],
   "source": [
    "print(a)"
   ]
  },
  {
   "cell_type": "code",
   "execution_count": 13,
   "id": "5b376996",
   "metadata": {},
   "outputs": [
    {
     "data": {
      "text/plain": [
       "400"
      ]
     },
     "execution_count": 13,
     "metadata": {},
     "output_type": "execute_result"
    }
   ],
   "source": [
    "my_func(2)"
   ]
  },
  {
   "cell_type": "code",
   "execution_count": 14,
   "id": "57cc711d",
   "metadata": {},
   "outputs": [
    {
     "name": "stdout",
     "output_type": "stream",
     "text": [
      "20\n"
     ]
    }
   ],
   "source": [
    "print(a)"
   ]
  },
  {
   "cell_type": "markdown",
   "id": "2675c92f",
   "metadata": {},
   "source": [
    "Now with the global keyword, we can see that the global variable changed.\n",
    "\n",
    "But, we don't need to have a global variable declared when using the keyword:"
   ]
  },
  {
   "cell_type": "code",
   "execution_count": 25,
   "id": "8af2f830",
   "metadata": {},
   "outputs": [],
   "source": [
    "def my_func():\n",
    "    global var\n",
    "    var = 'hello world'\n",
    "    return"
   ]
  },
  {
   "cell_type": "code",
   "execution_count": 26,
   "id": "8059e8fa",
   "metadata": {},
   "outputs": [
    {
     "name": "stdout",
     "output_type": "stream",
     "text": [
      "hello world\n"
     ]
    }
   ],
   "source": [
    "print(var)"
   ]
  },
  {
   "cell_type": "code",
   "execution_count": 29,
   "id": "9fb21a6b",
   "metadata": {},
   "outputs": [],
   "source": [
    "my_func()"
   ]
  },
  {
   "cell_type": "code",
   "execution_count": 28,
   "id": "1028c586",
   "metadata": {},
   "outputs": [
    {
     "name": "stdout",
     "output_type": "stream",
     "text": [
      "hello world\n"
     ]
    }
   ],
   "source": [
    "print(var)"
   ]
  },
  {
   "cell_type": "code",
   "execution_count": 30,
   "id": "9ec26fb1",
   "metadata": {},
   "outputs": [],
   "source": [
    "def my_func():\n",
    "    print('global a: ', a)\n",
    "    "
   ]
  },
  {
   "cell_type": "code",
   "execution_count": 31,
   "id": "b2bdb214",
   "metadata": {},
   "outputs": [
    {
     "name": "stdout",
     "output_type": "stream",
     "text": [
      "global a:  20\n"
     ]
    }
   ],
   "source": [
    "my_func()"
   ]
  },
  {
   "cell_type": "code",
   "execution_count": 32,
   "id": "47568114",
   "metadata": {},
   "outputs": [],
   "source": [
    "def my_func():\n",
    "    global a\n",
    "    a = 'hello'\n",
    "    print('global a: ', a)\n",
    "    "
   ]
  },
  {
   "cell_type": "code",
   "execution_count": 33,
   "id": "51889ed2",
   "metadata": {},
   "outputs": [
    {
     "name": "stdout",
     "output_type": "stream",
     "text": [
      "global a:  hello\n"
     ]
    }
   ],
   "source": [
    "my_func()"
   ]
  },
  {
   "cell_type": "code",
   "execution_count": 34,
   "id": "d9049348",
   "metadata": {},
   "outputs": [
    {
     "name": "stdout",
     "output_type": "stream",
     "text": [
      "hello\n"
     ]
    }
   ],
   "source": [
    "print(a)"
   ]
  },
  {
   "cell_type": "code",
   "execution_count": 35,
   "id": "1135c2db",
   "metadata": {},
   "outputs": [],
   "source": [
    "a = 10"
   ]
  },
  {
   "cell_type": "code",
   "execution_count": 36,
   "id": "fa375f8a",
   "metadata": {},
   "outputs": [],
   "source": [
    "def my_func():\n",
    "    print('global a: ', a)\n",
    "    a = 'hello world'\n",
    "    print(a)"
   ]
  },
  {
   "cell_type": "code",
   "execution_count": 37,
   "id": "cbff9e90",
   "metadata": {},
   "outputs": [
    {
     "ename": "UnboundLocalError",
     "evalue": "local variable 'a' referenced before assignment",
     "output_type": "error",
     "traceback": [
      "\u001b[0;31m---------------------------------------------------------------------------\u001b[0m",
      "\u001b[0;31mUnboundLocalError\u001b[0m                         Traceback (most recent call last)",
      "\u001b[0;32m<ipython-input-37-db3ada79940f>\u001b[0m in \u001b[0;36m<module>\u001b[0;34m\u001b[0m\n\u001b[0;32m----> 1\u001b[0;31m \u001b[0mmy_func\u001b[0m\u001b[0;34m(\u001b[0m\u001b[0;34m)\u001b[0m\u001b[0;34m\u001b[0m\u001b[0;34m\u001b[0m\u001b[0m\n\u001b[0m",
      "\u001b[0;32m<ipython-input-36-090a208a2e7d>\u001b[0m in \u001b[0;36mmy_func\u001b[0;34m()\u001b[0m\n\u001b[1;32m      1\u001b[0m \u001b[0;32mdef\u001b[0m \u001b[0mmy_func\u001b[0m\u001b[0;34m(\u001b[0m\u001b[0;34m)\u001b[0m\u001b[0;34m:\u001b[0m\u001b[0;34m\u001b[0m\u001b[0;34m\u001b[0m\u001b[0m\n\u001b[0;32m----> 2\u001b[0;31m     \u001b[0mprint\u001b[0m\u001b[0;34m(\u001b[0m\u001b[0;34m'global a: '\u001b[0m\u001b[0;34m,\u001b[0m \u001b[0ma\u001b[0m\u001b[0;34m)\u001b[0m\u001b[0;34m\u001b[0m\u001b[0;34m\u001b[0m\u001b[0m\n\u001b[0m\u001b[1;32m      3\u001b[0m     \u001b[0ma\u001b[0m \u001b[0;34m=\u001b[0m \u001b[0;34m'hello world'\u001b[0m\u001b[0;34m\u001b[0m\u001b[0;34m\u001b[0m\u001b[0m\n\u001b[1;32m      4\u001b[0m     \u001b[0mprint\u001b[0m\u001b[0;34m(\u001b[0m\u001b[0ma\u001b[0m\u001b[0;34m)\u001b[0m\u001b[0;34m\u001b[0m\u001b[0;34m\u001b[0m\u001b[0m\n",
      "\u001b[0;31mUnboundLocalError\u001b[0m: local variable 'a' referenced before assignment"
     ]
    }
   ],
   "source": [
    "my_func()"
   ]
  },
  {
   "cell_type": "markdown",
   "id": "2ef47911",
   "metadata": {},
   "source": [
    "Python determines at compile time, it looks for 'a' in the local scope."
   ]
  },
  {
   "cell_type": "code",
   "execution_count": null,
   "id": "f314d1a4",
   "metadata": {},
   "outputs": [],
   "source": []
  },
  {
   "cell_type": "code",
   "execution_count": 40,
   "id": "0c1f3190",
   "metadata": {},
   "outputs": [],
   "source": [
    "f = lambda n: print(a**n)"
   ]
  },
  {
   "cell_type": "code",
   "execution_count": 41,
   "id": "eede7ce7",
   "metadata": {},
   "outputs": [
    {
     "name": "stdout",
     "output_type": "stream",
     "text": [
      "100\n"
     ]
    }
   ],
   "source": [
    "f(2)"
   ]
  },
  {
   "cell_type": "code",
   "execution_count": 42,
   "id": "2fb443fe",
   "metadata": {},
   "outputs": [
    {
     "name": "stdout",
     "output_type": "stream",
     "text": [
      "True\n"
     ]
    }
   ],
   "source": [
    "print(True)"
   ]
  },
  {
   "cell_type": "code",
   "execution_count": 43,
   "id": "a6ceebd2",
   "metadata": {},
   "outputs": [],
   "source": [
    "print = lambda x: f'hello {x}'"
   ]
  },
  {
   "cell_type": "code",
   "execution_count": 44,
   "id": "18666805",
   "metadata": {},
   "outputs": [
    {
     "data": {
      "text/plain": [
       "'hello world'"
      ]
     },
     "execution_count": 44,
     "metadata": {},
     "output_type": "execute_result"
    }
   ],
   "source": [
    "print('world')"
   ]
  },
  {
   "cell_type": "markdown",
   "id": "9cd8e6a3",
   "metadata": {},
   "source": [
    "Be careful of reusing built-in function names"
   ]
  },
  {
   "cell_type": "code",
   "execution_count": 46,
   "id": "c2409352",
   "metadata": {},
   "outputs": [],
   "source": [
    "del print"
   ]
  },
  {
   "cell_type": "code",
   "execution_count": 47,
   "id": "35d26b11",
   "metadata": {},
   "outputs": [
    {
     "name": "stdout",
     "output_type": "stream",
     "text": [
      "back to normal\n"
     ]
    }
   ],
   "source": [
    "print('back to normal')"
   ]
  },
  {
   "cell_type": "code",
   "execution_count": 48,
   "id": "131630e6",
   "metadata": {},
   "outputs": [],
   "source": [
    "for i in range(10):\n",
    "    x = 2 * i"
   ]
  },
  {
   "cell_type": "code",
   "execution_count": 49,
   "id": "82613b8e",
   "metadata": {},
   "outputs": [
    {
     "name": "stdout",
     "output_type": "stream",
     "text": [
      "18\n"
     ]
    }
   ],
   "source": [
    "print(x)"
   ]
  },
  {
   "cell_type": "markdown",
   "id": "59c48de7",
   "metadata": {},
   "source": [
    "Difference with other languages, like Java:\n",
    "\n",
    "    for (int i = 0; i < 10; i++){\n",
    "        int x = 2 * i\n",
    "    \n",
    "    }\n",
    "    System.out.println(x) = ERROR, x not defined"
   ]
  },
  {
   "cell_type": "markdown",
   "id": "1d5a24be",
   "metadata": {},
   "source": [
    "---\n",
    "## Nonlocal Scopes"
   ]
  },
  {
   "cell_type": "markdown",
   "id": "df61d298",
   "metadata": {},
   "source": [
    "**Inner Functions**\n",
    "\n",
    "We can define functions from inside another funtion:\n",
    "\n",
    "    def outer_func()::\n",
    "        #some code\n",
    "        def inner_func():\n",
    "            #some code\n",
    "        inner_func()\n",
    "        \n",
    "    outer_func()\n",
    "    \n",
    "    \n",
    "    GLOBAL = {'local': (outer_func), {'local': inner_func )} -> Nested local scopes\n",
    "    \n",
    "Both functions have access to the global and built-in scopes as well as their respective local scopes.\n",
    "\n",
    "But the **inner** function also has access to its enclosing scope - the scope of the **outer** function\n",
    "\n",
    "That scope is neither local (to **inner_func**) nor global - it is called a **nonlocal** scope\n",
    "\n",
    "\n"
   ]
  },
  {
   "cell_type": "markdown",
   "id": "f7f1071b",
   "metadata": {},
   "source": [
    "**Referencing variables from the enclosing scope**\n",
    "\n",
    "    module1.py\n",
    "    \n",
    "        a = 10\n",
    "        \n",
    "        def outer_func():\n",
    "            print(a)\n",
    "           \n",
    "        outer_func()\n",
    "        \n",
    "When we call **outer_func**, Python sees the reference to **a**\n",
    "\n",
    "Since **a** is not in the local scope, Python looks in the **enclosing** (global) scope\n",
    "\n",
    "    module1.py\n",
    "    \n",
    "        def outer_func()::\n",
    "            a = 10\n",
    "            def inner_func():\n",
    "                print(a)\n",
    "                \n",
    "            inner_func()\n",
    "        outer_func()\n",
    "\n",
    "When we call **outer_func**, **inner_func** is created and called.\n",
    "\n",
    "When looking for **a**, it looks for it first, in the local scope, then in the global scope\n",
    "\n",
    "\n"
   ]
  },
  {
   "cell_type": "code",
   "execution_count": 50,
   "id": "7c25fe0a",
   "metadata": {},
   "outputs": [],
   "source": [
    "def outer_func():\n",
    "    x = 'hello'\n",
    "    def inner_func():\n",
    "        print(x)\n",
    "    inner_func()"
   ]
  },
  {
   "cell_type": "code",
   "execution_count": 51,
   "id": "e53b7b29",
   "metadata": {},
   "outputs": [
    {
     "name": "stdout",
     "output_type": "stream",
     "text": [
      "hello\n"
     ]
    }
   ],
   "source": [
    "outer_func()"
   ]
  },
  {
   "cell_type": "markdown",
   "id": "39b47e04",
   "metadata": {},
   "source": [
    "**Modifying global variables**\n",
    "\n",
    "We saw how to use the **global** keyword in order to modify a global variable within a nested scope\n",
    "\n",
    "\n",
    "    a = 10\n",
    "    def outer_func1()\n",
    "        global a\n",
    "        a = 1000\n",
    "    outer_func1()\n",
    "    print(a) = 1000\n",
    "    \n",
    "    def outer_func2():\n",
    "        def inner_func():\n",
    "            global a\n",
    "            a = 'hello'\n",
    "        inner_func()\n",
    "    outer_func2()\n",
    "    print(a) = 'hello'"
   ]
  },
  {
   "cell_type": "code",
   "execution_count": 54,
   "id": "e0d91b55",
   "metadata": {},
   "outputs": [],
   "source": [
    "def outer_func():\n",
    "    x = 'hello'\n",
    "    def inner():\n",
    "        x = 'python'\n",
    "        print('inner: ', x)\n",
    "    inner()\n",
    "    print('outer: ', x)"
   ]
  },
  {
   "cell_type": "code",
   "execution_count": 55,
   "id": "0d88abbc",
   "metadata": {},
   "outputs": [
    {
     "name": "stdout",
     "output_type": "stream",
     "text": [
      "inner:  python\n",
      "outer:  hello\n"
     ]
    }
   ],
   "source": [
    "outer_func()"
   ]
  },
  {
   "cell_type": "code",
   "execution_count": 52,
   "id": "09825305",
   "metadata": {},
   "outputs": [],
   "source": [
    "def outer_func():\n",
    "    x = 'hello'\n",
    "    def inner1():\n",
    "        def inner2():\n",
    "            print(x)\n",
    "        inner2()\n",
    "    inner1()"
   ]
  },
  {
   "cell_type": "code",
   "execution_count": 53,
   "id": "458ad073",
   "metadata": {},
   "outputs": [
    {
     "name": "stdout",
     "output_type": "stream",
     "text": [
      "hello\n"
     ]
    }
   ],
   "source": [
    "outer_func()"
   ]
  },
  {
   "cell_type": "markdown",
   "id": "a20d373d",
   "metadata": {},
   "source": [
    "**Modifying nonlocal variables**\n",
    "\n",
    "Can we modify variables defined in the outer nonlocal scope?\n",
    "\n",
    "    def outer_func():\n",
    "        x = 'hello'\n",
    "        \n",
    "        def inner_func():\n",
    "            x = 'python'\n",
    "            \n",
    "        inner_func()\n",
    "        print(x)\n",
    "    oute_func() -> hello\n",
    "    \n",
    "When **inner_func** is compiled, Python sees an *assignment* to **x**\n",
    "\n",
    "So, it determines that **x** is a **local** variable to **inner_func**\n",
    "\n",
    "The variable **x** in **inner_func** masks the variable **x** in **outer_func**\n",
    "\n",
    "\n",
    "Just as with global variables, we have to explicitly tell Python we are modifying a nonlocal variable.\n",
    "\n",
    "We can do taht using the **nonlocal** keyword\n",
    "\n",
    "    def outer_func():\n",
    "        x = 'hello'\n",
    "        \n",
    "        def inner_func():\n",
    "            nonlocal x\n",
    "            x = 'python'\n",
    "            \n",
    "        inner_func()\n",
    "        print(x)\n",
    "    oute_func() -> python\n",
    "    \n"
   ]
  },
  {
   "cell_type": "code",
   "execution_count": 56,
   "id": "a0104870",
   "metadata": {},
   "outputs": [],
   "source": [
    "def outer_func():\n",
    "    x = 'hello'\n",
    "    def inner1():\n",
    "        nonlocal x\n",
    "        x = 'python'\n",
    "        print('inner: ', x)\n",
    "    print('outer(before) : ', x)\n",
    "    inner1()\n",
    "    print('outer(after) :', x)"
   ]
  },
  {
   "cell_type": "code",
   "execution_count": 57,
   "id": "183031f9",
   "metadata": {},
   "outputs": [
    {
     "name": "stdout",
     "output_type": "stream",
     "text": [
      "outer(before) :  hello\n",
      "inner:  python\n",
      "outer(after) : python\n"
     ]
    }
   ],
   "source": [
    "outer_func()"
   ]
  },
  {
   "cell_type": "markdown",
   "id": "bb061692",
   "metadata": {},
   "source": [
    "**Nonlocal Variables**\n",
    "\n",
    "Whenever Python is told that a variable is **nonlocal** it will look for it in the **enclosing local scopes** chain until it **first** enconter the specified variable name\n",
    "\n",
    "**Beware:** it will only look in the local scopes, it will **not** look in the **global** scope\n",
    "\n",
    "    def outer_func():\n",
    "        x = 'hello'\n",
    "        \n",
    "        def inner1():\n",
    "            def inner2():\n",
    "                nonlocal x\n",
    "                x = 'python'\n",
    "            inner2()\n",
    "\n",
    "        inner1()\n",
    "        print(x)\n",
    "        \n",
    "    \n",
    "    \n",
    "    Global = {local= outer_func, {local: inner1, {local: inner2}}  }\n",
    "\n",
    "The **nonlocal** in this example, points to the firs x in encounters in the nested scopes\n",
    "    "
   ]
  },
  {
   "cell_type": "code",
   "execution_count": 58,
   "id": "b7531634",
   "metadata": {},
   "outputs": [],
   "source": [
    "def outer():\n",
    "    x = 'hello'\n",
    "    def inner1():\n",
    "        def inner2():\n",
    "            nonlocal x\n",
    "            x = 'python'\n",
    "        inner2()\n",
    "    inner1()\n",
    "    print(x)\n",
    "        "
   ]
  },
  {
   "cell_type": "code",
   "execution_count": 59,
   "id": "109e2121",
   "metadata": {},
   "outputs": [
    {
     "name": "stdout",
     "output_type": "stream",
     "text": [
      "python\n"
     ]
    }
   ],
   "source": [
    "outer()"
   ]
  },
  {
   "cell_type": "code",
   "execution_count": 60,
   "id": "8be30360",
   "metadata": {},
   "outputs": [],
   "source": [
    "def outer():\n",
    "    x = 'hello'\n",
    "    def inner1():\n",
    "        nonlocal x\n",
    "        x = 'python'\n",
    "        def inner2():\n",
    "            nonlocal x\n",
    "            x = 'monty'\n",
    "        inner2()\n",
    "    inner1()\n",
    "    print(x)\n",
    "        "
   ]
  },
  {
   "cell_type": "code",
   "execution_count": 61,
   "id": "c7648cab",
   "metadata": {
    "scrolled": true
   },
   "outputs": [
    {
     "name": "stdout",
     "output_type": "stream",
     "text": [
      "monty\n"
     ]
    }
   ],
   "source": [
    "outer()"
   ]
  },
  {
   "cell_type": "markdown",
   "id": "3993c7f0",
   "metadata": {},
   "source": [
    "**Nonlocal and Global Variables**"
   ]
  },
  {
   "cell_type": "code",
   "execution_count": 64,
   "id": "b4e5f5f7",
   "metadata": {},
   "outputs": [
    {
     "name": "stdout",
     "output_type": "stream",
     "text": [
      "python\n"
     ]
    }
   ],
   "source": [
    "x = 'python'\n",
    "print(x)"
   ]
  },
  {
   "cell_type": "code",
   "execution_count": 65,
   "id": "6dcfa0f1",
   "metadata": {},
   "outputs": [
    {
     "ename": "SyntaxError",
     "evalue": "no binding for nonlocal 'x' found (<ipython-input-65-1be28f02a1ba>, line 6)",
     "output_type": "error",
     "traceback": [
      "\u001b[0;36m  File \u001b[0;32m\"<ipython-input-65-1be28f02a1ba>\"\u001b[0;36m, line \u001b[0;32m6\u001b[0m\n\u001b[0;31m    nonlocal x\u001b[0m\n\u001b[0m    ^\u001b[0m\n\u001b[0;31mSyntaxError\u001b[0m\u001b[0;31m:\u001b[0m no binding for nonlocal 'x' found\n"
     ]
    }
   ],
   "source": [
    "def outer():\n",
    "    global x\n",
    "    x = 'monty'\n",
    "    \n",
    "    def inner():\n",
    "        nonlocal x\n",
    "        x = 'hello'\n",
    "    print(x)"
   ]
  },
  {
   "cell_type": "code",
   "execution_count": 69,
   "id": "a7dd5ff8",
   "metadata": {},
   "outputs": [],
   "source": [
    "def outer():\n",
    "    x = 'monty'\n",
    "    \n",
    "    def inner():\n",
    "        nonlocal x\n",
    "        x = 'hello'\n",
    "    inner()\n",
    "    print(x)"
   ]
  },
  {
   "cell_type": "code",
   "execution_count": 70,
   "id": "a0906e68",
   "metadata": {},
   "outputs": [
    {
     "name": "stdout",
     "output_type": "stream",
     "text": [
      "hello\n"
     ]
    }
   ],
   "source": [
    "outer()"
   ]
  },
  {
   "cell_type": "code",
   "execution_count": 71,
   "id": "ddf3c709",
   "metadata": {},
   "outputs": [],
   "source": [
    "def outer():\n",
    "    global x\n",
    "    x = 'monty'\n",
    "    \n",
    "    def inner():\n",
    "        global x\n",
    "        x = 'hello'\n",
    "    inner()\n",
    "    print(x)"
   ]
  },
  {
   "cell_type": "code",
   "execution_count": 72,
   "id": "d2e2a177",
   "metadata": {},
   "outputs": [
    {
     "name": "stdout",
     "output_type": "stream",
     "text": [
      "hello\n"
     ]
    }
   ],
   "source": [
    "outer()"
   ]
  },
  {
   "cell_type": "code",
   "execution_count": 73,
   "id": "e8438523",
   "metadata": {},
   "outputs": [
    {
     "data": {
      "text/plain": [
       "'hello'"
      ]
     },
     "execution_count": 73,
     "metadata": {},
     "output_type": "execute_result"
    }
   ],
   "source": [
    "x"
   ]
  },
  {
   "cell_type": "code",
   "execution_count": null,
   "id": "b4cc3baf",
   "metadata": {},
   "outputs": [],
   "source": []
  }
 ],
 "metadata": {
  "kernelspec": {
   "display_name": "Python 3",
   "language": "python",
   "name": "python3"
  },
  "language_info": {
   "codemirror_mode": {
    "name": "ipython",
    "version": 3
   },
   "file_extension": ".py",
   "mimetype": "text/x-python",
   "name": "python",
   "nbconvert_exporter": "python",
   "pygments_lexer": "ipython3",
   "version": "3.9.7"
  }
 },
 "nbformat": 4,
 "nbformat_minor": 5
}
