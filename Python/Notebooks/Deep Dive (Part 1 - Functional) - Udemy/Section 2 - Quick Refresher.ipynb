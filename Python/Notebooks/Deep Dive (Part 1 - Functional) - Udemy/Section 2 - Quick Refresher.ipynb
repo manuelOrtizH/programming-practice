{
 "cells": [
  {
   "cell_type": "markdown",
   "id": "d7ed36a7",
   "metadata": {},
   "source": [
    "# Functions"
   ]
  },
  {
   "cell_type": "code",
   "execution_count": 5,
   "id": "083858e3",
   "metadata": {},
   "outputs": [],
   "source": [
    "def func_1():\n",
    "    return func_2()\n",
    "\n",
    "\n",
    "def func_2():\n",
    "    print('Running func_2')"
   ]
  },
  {
   "cell_type": "code",
   "execution_count": 3,
   "id": "45c8e43a",
   "metadata": {},
   "outputs": [
    {
     "data": {
      "text/plain": [
       "function"
      ]
     },
     "execution_count": 3,
     "metadata": {},
     "output_type": "execute_result"
    }
   ],
   "source": [
    "type(func_1)"
   ]
  },
  {
   "cell_type": "code",
   "execution_count": 6,
   "id": "a6be00d6",
   "metadata": {},
   "outputs": [],
   "source": [
    "my_func = func_1"
   ]
  },
  {
   "cell_type": "code",
   "execution_count": 8,
   "id": "5d0bf7d0",
   "metadata": {},
   "outputs": [
    {
     "name": "stdout",
     "output_type": "stream",
     "text": [
      "Running func_2\n"
     ]
    }
   ],
   "source": [
    "my_func()"
   ]
  },
  {
   "cell_type": "markdown",
   "id": "f214a67f",
   "metadata": {},
   "source": [
    "We can assign to a variable a function"
   ]
  },
  {
   "cell_type": "markdown",
   "id": "06c76506",
   "metadata": {},
   "source": [
    "Lambda is just a function also"
   ]
  },
  {
   "cell_type": "code",
   "execution_count": 9,
   "id": "0c80bbfd",
   "metadata": {},
   "outputs": [
    {
     "data": {
      "text/plain": [
       "<function __main__.<lambda>(x)>"
      ]
     },
     "execution_count": 9,
     "metadata": {},
     "output_type": "execute_result"
    }
   ],
   "source": [
    "lambda x: x**2"
   ]
  },
  {
   "cell_type": "code",
   "execution_count": 10,
   "id": "bfb05bbd",
   "metadata": {},
   "outputs": [],
   "source": [
    "fn1 = lambda x: x**2"
   ]
  },
  {
   "cell_type": "code",
   "execution_count": 12,
   "id": "b1b3ad1d",
   "metadata": {},
   "outputs": [
    {
     "data": {
      "text/plain": [
       "4"
      ]
     },
     "execution_count": 12,
     "metadata": {},
     "output_type": "execute_result"
    }
   ],
   "source": [
    "fn1(2)"
   ]
  },
  {
   "cell_type": "markdown",
   "id": "1980b264",
   "metadata": {},
   "source": [
    "# Break, Continue and the Try Statement"
   ]
  },
  {
   "cell_type": "code",
   "execution_count": 14,
   "id": "252be245",
   "metadata": {},
   "outputs": [
    {
     "name": "stdout",
     "output_type": "stream",
     "text": [
      "Division by 0\n",
      "This always executes\n"
     ]
    }
   ],
   "source": [
    "a = 10\n",
    "b = 0\n",
    "try:\n",
    "    a/b\n",
    "except ZeroDivisionError:\n",
    "    print('Division by 0')\n",
    "finally:\n",
    "    print('This always executes')"
   ]
  },
  {
   "cell_type": "code",
   "execution_count": 16,
   "id": "246fab22",
   "metadata": {},
   "outputs": [
    {
     "name": "stdout",
     "output_type": "stream",
     "text": [
      "------------\n",
      "1 / 1 this always executes\n",
      "1 / 1 main loop\n",
      "------------\n",
      "2 / 0 division by 0\n",
      "2 / 0 this always executes\n",
      "------------\n",
      "3 / -1 this always executes\n",
      "3 / -1 main loop\n",
      "------------\n",
      "4 / -2 this always executes\n",
      "4 / -2 main loop\n"
     ]
    }
   ],
   "source": [
    "a = 0\n",
    "b = 2\n",
    "\n",
    "while a < 4:\n",
    "    print('------------')\n",
    "    a += 1\n",
    "    b -= 1\n",
    "    \n",
    "    try:\n",
    "        a / b\n",
    "    except ZeroDivisionError:\n",
    "        print(f'{a} / {b} division by 0')\n",
    "        continue\n",
    "    finally:\n",
    "        print(f'{a} / {b} this always executes' )\n",
    "    \n",
    "    print(f'{a} / {b} main loop')"
   ]
  },
  {
   "cell_type": "markdown",
   "id": "2985fea5",
   "metadata": {},
   "source": [
    "<i>finally</i> will always run. It is useful whenever you want to close a file, or a database issue."
   ]
  },
  {
   "cell_type": "code",
   "execution_count": 21,
   "id": "29939be5",
   "metadata": {},
   "outputs": [
    {
     "name": "stdout",
     "output_type": "stream",
     "text": [
      "------------\n",
      "1 / 9 this always executes\n",
      "1 / 9 main loop\n",
      "------------\n",
      "2 / 8 this always executes\n",
      "2 / 8 main loop\n",
      "------------\n",
      "3 / 7 this always executes\n",
      "3 / 7 main loop\n",
      "------------\n",
      "4 / 6 this always executes\n",
      "4 / 6 main loop\n",
      "Code exectued without a zero division error\n"
     ]
    }
   ],
   "source": [
    "a = 0\n",
    "b = 10\n",
    "\n",
    "while a < 4:\n",
    "    print('------------')\n",
    "    a += 1\n",
    "    b -= 1\n",
    "    \n",
    "    try:\n",
    "        a / b\n",
    "    except ZeroDivisionError:\n",
    "        print(f'{a} / {b} division by 0')\n",
    "        break\n",
    "    finally:\n",
    "        print(f'{a} / {b} this always executes' )\n",
    "    \n",
    "    print(f'{a} / {b} main loop')\n",
    "    \n",
    "else:\n",
    "    print('Code exectued without a zero division error')"
   ]
  },
  {
   "cell_type": "markdown",
   "id": "e98bd45b",
   "metadata": {},
   "source": [
    "# Classes"
   ]
  },
  {
   "cell_type": "markdown",
   "id": "ba206a76",
   "metadata": {},
   "source": [
    "        __repr__\n",
    "        \n",
    "        This means, in simple terms: almost every object you implement should have a functional __repr__ that’s usable for understanding the object. Implementing __str__ is optional: do that if you need a “pretty print” functionality (for example, used by a report generator).\n",
    "\n",
    "        The goal of __repr__ is to be unambiguous\n",
    "\n",
    "        Let me come right out and say it — I do not believe in debuggers. I don’t really know how to use any debugger, and have never used one seriously. Furthermore, I believe that the big fault in debuggers is their basic nature — most failures I debug happened a long long time ago, in a galaxy far far away. This means that I do believe, with religious fervor, in logging. Logging is the lifeblood of any decent fire-and-forget server system. \n",
    "        \n",
    "        \n",
    "        \n",
    "        My rule of thumb: __repr__ is for developers, __str__ is for customers.\n",
    "        \n",
    "        \n",
    "from:        https://stackoverflow.com/questions/1436703/what-is-the-difference-between-str-and-repr"
   ]
  },
  {
   "cell_type": "code",
   "execution_count": 39,
   "id": "ef31be1b",
   "metadata": {},
   "outputs": [],
   "source": [
    "class Rectangle:\n",
    "    def __init__(self, width, height):\n",
    "        self.width = width\n",
    "        self.height = height\n",
    "    \n",
    "    def area(self):\n",
    "        return self.width * self.height\n",
    "    \n",
    "    def perimeter(self):\n",
    "        return 2 * (self.width * self.height)\n",
    "    \n",
    "    def __str__(self):\n",
    "        return f'Rectangle: width = {self.width}, height = {self.height}'\n",
    "    \n",
    "    def __repr__(self):\n",
    "        return f'Rectangle{self.width, self.height}'\n",
    "    \n",
    "    \n",
    "    "
   ]
  },
  {
   "cell_type": "code",
   "execution_count": 40,
   "id": "e3b186c9",
   "metadata": {},
   "outputs": [],
   "source": [
    "r1 = Rectangle(10,20)"
   ]
  },
  {
   "cell_type": "code",
   "execution_count": 41,
   "id": "e8cbeb7b",
   "metadata": {},
   "outputs": [
    {
     "data": {
      "text/plain": [
       "'Rectangle(10, 20)'"
      ]
     },
     "execution_count": 41,
     "metadata": {},
     "output_type": "execute_result"
    }
   ],
   "source": [
    "repr(r1)"
   ]
  },
  {
   "cell_type": "code",
   "execution_count": 28,
   "id": "b9eda7ea",
   "metadata": {},
   "outputs": [
    {
     "data": {
      "text/plain": [
       "'Rectangle: width = 10, height = 20'"
      ]
     },
     "execution_count": 28,
     "metadata": {},
     "output_type": "execute_result"
    }
   ],
   "source": [
    "str(r1)"
   ]
  },
  {
   "cell_type": "markdown",
   "id": "2af63824",
   "metadata": {},
   "source": [
    "_____"
   ]
  },
  {
   "cell_type": "markdown",
   "id": "6f77b136",
   "metadata": {},
   "source": [
    "        __eq__"
   ]
  },
  {
   "cell_type": "code",
   "execution_count": 29,
   "id": "4286f24f",
   "metadata": {},
   "outputs": [],
   "source": [
    "r2 = Rectangle(10,20)"
   ]
  },
  {
   "cell_type": "code",
   "execution_count": 30,
   "id": "d8d6458a",
   "metadata": {},
   "outputs": [
    {
     "data": {
      "text/plain": [
       "True"
      ]
     },
     "execution_count": 30,
     "metadata": {},
     "output_type": "execute_result"
    }
   ],
   "source": [
    "r1 is not r2"
   ]
  },
  {
   "cell_type": "code",
   "execution_count": 31,
   "id": "edede25d",
   "metadata": {},
   "outputs": [
    {
     "data": {
      "text/plain": [
       "False"
      ]
     },
     "execution_count": 31,
     "metadata": {},
     "output_type": "execute_result"
    }
   ],
   "source": [
    "r1 == r2"
   ]
  },
  {
   "cell_type": "code",
   "execution_count": 42,
   "id": "a1672a74",
   "metadata": {},
   "outputs": [],
   "source": [
    "class Rectangle:\n",
    "    def __init__(self, width, height):\n",
    "        self.width = width\n",
    "        self.height = height\n",
    "    \n",
    "    def area(self):\n",
    "        return self.width * self.height\n",
    "    \n",
    "    def perimeter(self):\n",
    "        return 2 * (self.width * self.height)\n",
    "    \n",
    "    def __str__(self):\n",
    "        return f'Rectangle: width = {self.width}, height = {self.height}'\n",
    "    \n",
    "    def __repr__(self):\n",
    "        return f'Rectangle{self.width, self.height}'\n",
    "    \n",
    "    def __eq__(self, other):\n",
    "        #we want to know if two objects of rectangles are the same\n",
    "        return (self.width, self.height) == (other.width, other.height)\n",
    "    "
   ]
  },
  {
   "cell_type": "code",
   "execution_count": 43,
   "id": "f52c784d",
   "metadata": {},
   "outputs": [],
   "source": [
    "r1 = Rectangle(10,20)\n",
    "r2 = Rectangle(10,20)"
   ]
  },
  {
   "cell_type": "code",
   "execution_count": 47,
   "id": "8980fa59",
   "metadata": {},
   "outputs": [
    {
     "data": {
      "text/plain": [
       "True"
      ]
     },
     "execution_count": 47,
     "metadata": {},
     "output_type": "execute_result"
    }
   ],
   "source": [
    "r1 is not r2"
   ]
  },
  {
   "cell_type": "code",
   "execution_count": 46,
   "id": "9af936a9",
   "metadata": {},
   "outputs": [
    {
     "data": {
      "text/plain": [
       "True"
      ]
     },
     "execution_count": 46,
     "metadata": {},
     "output_type": "execute_result"
    }
   ],
   "source": [
    "r1 == r2"
   ]
  },
  {
   "cell_type": "code",
   "execution_count": 48,
   "id": "e7696d46",
   "metadata": {},
   "outputs": [],
   "source": [
    "class Rectangle:\n",
    "    def __init__(self, width, height):\n",
    "        self.width = width\n",
    "        self.height = height\n",
    "    \n",
    "    def area(self):\n",
    "        return self.width * self.height\n",
    "    \n",
    "    def perimeter(self):\n",
    "        return 2 * (self.width * self.height)\n",
    "    \n",
    "    def __str__(self):\n",
    "        return f'Rectangle: width = {self.width}, height = {self.height}'\n",
    "    \n",
    "    def __repr__(self):\n",
    "        return f'Rectangle{self.width, self.height}'\n",
    "    \n",
    "    def __eq__(self, other):\n",
    "        #we want to know if two other is an instance of rectangle\n",
    "        if isinstance(other, Rectangle):\n",
    "            return (self.width, self.height) == (other.width, other.height)\n",
    "        else:\n",
    "            return False\n",
    "    \n",
    "    "
   ]
  },
  {
   "cell_type": "code",
   "execution_count": 49,
   "id": "cd88bea4",
   "metadata": {},
   "outputs": [],
   "source": [
    "r1 = Rectangle(10,20)\n",
    "r2 = Rectangle(10,20)"
   ]
  },
  {
   "cell_type": "code",
   "execution_count": 50,
   "id": "d4f8df38",
   "metadata": {},
   "outputs": [
    {
     "data": {
      "text/plain": [
       "True"
      ]
     },
     "execution_count": 50,
     "metadata": {},
     "output_type": "execute_result"
    }
   ],
   "source": [
    "r1 == r2"
   ]
  },
  {
   "cell_type": "code",
   "execution_count": 51,
   "id": "60b22c07",
   "metadata": {},
   "outputs": [
    {
     "data": {
      "text/plain": [
       "False"
      ]
     },
     "execution_count": 51,
     "metadata": {},
     "output_type": "execute_result"
    }
   ],
   "source": [
    "r1 == 100"
   ]
  },
  {
   "cell_type": "markdown",
   "id": "6f84e71e",
   "metadata": {},
   "source": [
    "____"
   ]
  },
  {
   "cell_type": "markdown",
   "id": "a7e43c79",
   "metadata": {},
   "source": [
    "        __lt__"
   ]
  },
  {
   "cell_type": "code",
   "execution_count": 60,
   "id": "efd56cd4",
   "metadata": {},
   "outputs": [],
   "source": [
    "class Rectangle:\n",
    "    def __init__(self, width, height):\n",
    "        self.width = width\n",
    "        self.height = height\n",
    "    \n",
    "    def area(self):\n",
    "        return self.width * self.height\n",
    "    \n",
    "    def perimeter(self):\n",
    "        return 2 * (self.width * self.height)\n",
    "    \n",
    "    def __str__(self):\n",
    "        return f'Rectangle: width = {self.width}, height = {self.height}'\n",
    "    \n",
    "    def __repr__(self):\n",
    "        return f'Rectangle{self.width, self.height}'\n",
    "    \n",
    "    def __eq__(self, other):\n",
    "\n",
    "        if isinstance(other, Rectangle):\n",
    "            return (self.width, self.height) == (other.width, other.height)\n",
    "        else:\n",
    "            return False\n",
    "    \n",
    "    def __lt__(self, other):\n",
    "        if isinstance(other, Rectangle):\n",
    "            return self.area() < other.area()\n",
    "        else:\n",
    "            return NotImplemented"
   ]
  },
  {
   "cell_type": "code",
   "execution_count": 61,
   "id": "c9b64d80",
   "metadata": {},
   "outputs": [],
   "source": [
    "r1 = Rectangle(10,20)\n",
    "r2 = Rectangle(100,200)"
   ]
  },
  {
   "cell_type": "code",
   "execution_count": 62,
   "id": "48190b6d",
   "metadata": {},
   "outputs": [
    {
     "data": {
      "text/plain": [
       "True"
      ]
     },
     "execution_count": 62,
     "metadata": {},
     "output_type": "execute_result"
    }
   ],
   "source": [
    "r1 < r2"
   ]
  },
  {
   "cell_type": "code",
   "execution_count": 63,
   "id": "7c17b9b8",
   "metadata": {},
   "outputs": [
    {
     "data": {
      "text/plain": [
       "False"
      ]
     },
     "execution_count": 63,
     "metadata": {},
     "output_type": "execute_result"
    }
   ],
   "source": [
    "r2 < r1"
   ]
  },
  {
   "cell_type": "code",
   "execution_count": 64,
   "id": "ccaf74ba",
   "metadata": {},
   "outputs": [
    {
     "data": {
      "text/plain": [
       "True"
      ]
     },
     "execution_count": 64,
     "metadata": {},
     "output_type": "execute_result"
    }
   ],
   "source": [
    "r2 > r1"
   ]
  },
  {
   "cell_type": "markdown",
   "id": "066cb6b7",
   "metadata": {},
   "source": [
    "with r2 python called the gt method, it wasnt implemented, and so, python changes the method to lt"
   ]
  },
  {
   "cell_type": "code",
   "execution_count": 65,
   "id": "07c04a96",
   "metadata": {},
   "outputs": [
    {
     "ename": "TypeError",
     "evalue": "'>=' not supported between instances of 'Rectangle' and 'Rectangle'",
     "output_type": "error",
     "traceback": [
      "\u001b[0;31m---------------------------------------------------------------------------\u001b[0m",
      "\u001b[0;31mTypeError\u001b[0m                                 Traceback (most recent call last)",
      "\u001b[0;32m<ipython-input-65-0548862bbd6d>\u001b[0m in \u001b[0;36m<module>\u001b[0;34m\u001b[0m\n\u001b[0;32m----> 1\u001b[0;31m \u001b[0mr1\u001b[0m \u001b[0;34m>=\u001b[0m \u001b[0mr2\u001b[0m\u001b[0;34m\u001b[0m\u001b[0;34m\u001b[0m\u001b[0m\n\u001b[0m",
      "\u001b[0;31mTypeError\u001b[0m: '>=' not supported between instances of 'Rectangle' and 'Rectangle'"
     ]
    }
   ],
   "source": [
    "r1 >= r2"
   ]
  },
  {
   "cell_type": "code",
   "execution_count": null,
   "id": "b25de01c",
   "metadata": {},
   "outputs": [],
   "source": [
    "class Rectangle:\n",
    "    def __init__(self, width, height):\n",
    "        self.width = width\n",
    "        self.height = height\n",
    "\n",
    "    def __str__(self):\n",
    "        return f'Rectangle: width = {self.width}, height = {self.height}'\n",
    "    \n",
    "    def __repr__(self):\n",
    "        return f'Rectangle{self.width, self.height}'\n",
    "    \n",
    "    def __eq__(self, other):\n",
    "\n",
    "        if isinstance(other, Rectangle):\n",
    "            return (self.width, self.height) == (other.width, other.height)\n",
    "        else:\n",
    "            return False\n"
   ]
  },
  {
   "cell_type": "markdown",
   "id": "90a0c4f6",
   "metadata": {},
   "source": [
    "_____\n",
    "\n",
    "\n",
    "        Private attributes with convention name _var"
   ]
  },
  {
   "cell_type": "code",
   "execution_count": 66,
   "id": "c2319d28",
   "metadata": {},
   "outputs": [],
   "source": [
    "r1 = Rectangle(10,20)"
   ]
  },
  {
   "cell_type": "code",
   "execution_count": 67,
   "id": "753a6209",
   "metadata": {},
   "outputs": [
    {
     "data": {
      "text/plain": [
       "10"
      ]
     },
     "execution_count": 67,
     "metadata": {},
     "output_type": "execute_result"
    }
   ],
   "source": [
    "r1.width"
   ]
  },
  {
   "cell_type": "code",
   "execution_count": 68,
   "id": "b3b550ac",
   "metadata": {},
   "outputs": [],
   "source": [
    "r1.width = -100"
   ]
  },
  {
   "cell_type": "code",
   "execution_count": 69,
   "id": "c746291f",
   "metadata": {},
   "outputs": [
    {
     "data": {
      "text/plain": [
       "-100"
      ]
     },
     "execution_count": 69,
     "metadata": {},
     "output_type": "execute_result"
    }
   ],
   "source": [
    "r1.width"
   ]
  },
  {
   "cell_type": "markdown",
   "id": "5096f1cb",
   "metadata": {},
   "source": [
    "We are having direct acces to the attribute"
   ]
  },
  {
   "cell_type": "code",
   "execution_count": 70,
   "id": "73df13d5",
   "metadata": {},
   "outputs": [],
   "source": [
    "class Rectangle:\n",
    "    def __init__(self, width, height):\n",
    "        self._width = width\n",
    "        self._height = height\n",
    "\n",
    "    def get_width(self):\n",
    "        return self._width\n",
    "    \n",
    "    def set_width(self, width):\n",
    "        if width <= 0:\n",
    "            raise ValueError('Width must be positive')\n",
    "        else:\n",
    "            self._width = width\n",
    "            \n",
    "    def get_height(self):\n",
    "        return self._height\n",
    "    \n",
    "    def set_height(self, height):\n",
    "        if height <= 0:\n",
    "            raise ValueError('Height must be positive')\n",
    "        else:\n",
    "            self._height = height\n",
    "        \n",
    "    def __str__(self):\n",
    "        return f'Rectangle: width = {self._width}, height = {self._height}'\n",
    "    \n",
    "    def __repr__(self):\n",
    "        return f'Rectangle{self._width, self._height}'\n",
    "    \n",
    "    def __eq__(self, other):\n",
    "\n",
    "        if isinstance(other, Rectangle):\n",
    "            return (self._width, self._height) == (other._width, other._height)\n",
    "        else:\n",
    "            return False\n"
   ]
  },
  {
   "cell_type": "markdown",
   "id": "69bb23c8",
   "metadata": {},
   "source": [
    "## Pythonic way to add private attributes"
   ]
  },
  {
   "cell_type": "code",
   "execution_count": 89,
   "id": "f1e302e5",
   "metadata": {},
   "outputs": [],
   "source": [
    "class Rectangle:\n",
    "    def __init__(self, width, height):\n",
    "        #without the _ you call the setters, so it is validated the necessary values\n",
    "        self.width = width\n",
    "        self.height = height\n",
    "    \n",
    "    #decorator\n",
    "    @property\n",
    "    def width(self):\n",
    "        return self._width\n",
    "    \n",
    "    @width.setter\n",
    "    def width(self, width):\n",
    "        if width <= 0:\n",
    "            raise ValueError('Width must be positive')\n",
    "        else:\n",
    "            self._width = width\n",
    "        \n",
    "    \n",
    "    @property\n",
    "    def height(self):\n",
    "        return self._height\n",
    "    \n",
    "    @height.setter\n",
    "    def height(self, height):\n",
    "        if height <= 0:\n",
    "            raise ValueError('height must be positive')\n",
    "        else:\n",
    "            self._height = height\n",
    "    \n",
    "\n",
    "    \n",
    "    \n",
    "    def __str__(self):\n",
    "        return f'Rectangle: width = {self.width}, height = {self.height}'\n",
    "    \n",
    "    def __repr__(self):\n",
    "        return f'Rectangle{self.width, self.height}'\n",
    "    \n",
    "    def __eq__(self, other):\n",
    "\n",
    "        if isinstance(other, Rectangle):\n",
    "            return (self.width, self.height) == (other.width, other.height)\n",
    "        else:\n",
    "            return False\n"
   ]
  },
  {
   "cell_type": "code",
   "execution_count": 90,
   "id": "4eb1e787",
   "metadata": {},
   "outputs": [],
   "source": [
    "r1 = Rectangle(10,20)"
   ]
  },
  {
   "cell_type": "code",
   "execution_count": 91,
   "id": "2b404d02",
   "metadata": {},
   "outputs": [
    {
     "data": {
      "text/plain": [
       "10"
      ]
     },
     "execution_count": 91,
     "metadata": {},
     "output_type": "execute_result"
    }
   ],
   "source": [
    "r1.width"
   ]
  },
  {
   "cell_type": "code",
   "execution_count": 92,
   "id": "b76d8ea1",
   "metadata": {},
   "outputs": [],
   "source": [
    "r1.width = 100"
   ]
  },
  {
   "cell_type": "code",
   "execution_count": 93,
   "id": "3469615a",
   "metadata": {},
   "outputs": [
    {
     "data": {
      "text/plain": [
       "Rectangle(100, 20)"
      ]
     },
     "execution_count": 93,
     "metadata": {},
     "output_type": "execute_result"
    }
   ],
   "source": [
    "r1"
   ]
  },
  {
   "cell_type": "code",
   "execution_count": 94,
   "id": "bc9548ac",
   "metadata": {},
   "outputs": [
    {
     "ename": "TypeError",
     "evalue": "'Rectangle' object is not callable",
     "output_type": "error",
     "traceback": [
      "\u001b[0;31m---------------------------------------------------------------------------\u001b[0m",
      "\u001b[0;31mTypeError\u001b[0m                                 Traceback (most recent call last)",
      "\u001b[0;32m<ipython-input-94-da6e618103d1>\u001b[0m in \u001b[0;36m<module>\u001b[0;34m\u001b[0m\n\u001b[0;32m----> 1\u001b[0;31m \u001b[0mr1\u001b[0m\u001b[0;34m(\u001b[0m\u001b[0;34m-\u001b[0m\u001b[0;36m100\u001b[0m\u001b[0;34m,\u001b[0m\u001b[0;36m20\u001b[0m\u001b[0;34m)\u001b[0m\u001b[0;34m\u001b[0m\u001b[0;34m\u001b[0m\u001b[0m\n\u001b[0m",
      "\u001b[0;31mTypeError\u001b[0m: 'Rectangle' object is not callable"
     ]
    }
   ],
   "source": [
    "r1(-100,20)"
   ]
  },
  {
   "cell_type": "code",
   "execution_count": null,
   "id": "8b3fc7fa",
   "metadata": {},
   "outputs": [],
   "source": []
  }
 ],
 "metadata": {
  "kernelspec": {
   "display_name": "Python 3",
   "language": "python",
   "name": "python3"
  },
  "language_info": {
   "codemirror_mode": {
    "name": "ipython",
    "version": 3
   },
   "file_extension": ".py",
   "mimetype": "text/x-python",
   "name": "python",
   "nbconvert_exporter": "python",
   "pygments_lexer": "ipython3",
   "version": "3.9.7"
  }
 },
 "nbformat": 4,
 "nbformat_minor": 5
}
