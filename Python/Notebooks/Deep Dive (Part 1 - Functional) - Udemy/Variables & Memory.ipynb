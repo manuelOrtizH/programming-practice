{
 "cells": [
  {
   "cell_type": "markdown",
   "id": "c1cdf986",
   "metadata": {},
   "source": [
    "# Dynamic Typing vs Static Typing"
   ]
  },
  {
   "cell_type": "markdown",
   "id": "be283749",
   "metadata": {},
   "source": [
    "Some languages (Java, C++, Swift) are <b>statically</b> typed"
   ]
  },
  {
   "cell_type": "markdown",
   "id": "f2774bfc",
   "metadata": {},
   "source": [
    "<b>String</b> myVar = \"hello\";"
   ]
  },
  {
   "cell_type": "markdown",
   "id": "fba29363",
   "metadata": {},
   "source": [
    "Python, in contrast, is <b>dynamically</b> typed"
   ]
  },
  {
   "cell_type": "code",
   "execution_count": 27,
   "id": "32a5fce1",
   "metadata": {},
   "outputs": [],
   "source": [
    "my_var = 'hello'"
   ]
  },
  {
   "cell_type": "markdown",
   "id": "85ae6579",
   "metadata": {},
   "source": [
    "The variable my_var is purely a reference to a string object with value 'hello'.\n",
    "No type is 'attached' to my_var"
   ]
  },
  {
   "cell_type": "code",
   "execution_count": 28,
   "id": "5643ea58",
   "metadata": {},
   "outputs": [],
   "source": [
    "my_var = 10"
   ]
  },
  {
   "cell_type": "markdown",
   "id": "f38edef9",
   "metadata": {},
   "source": [
    "The variable my_var is now pointing to an integer object with value 10"
   ]
  },
  {
   "cell_type": "code",
   "execution_count": 29,
   "id": "7ed3a148",
   "metadata": {},
   "outputs": [
    {
     "data": {
      "text/plain": [
       "int"
      ]
     },
     "execution_count": 29,
     "metadata": {},
     "output_type": "execute_result"
    }
   ],
   "source": [
    "type(my_var)"
   ]
  },
  {
   "cell_type": "markdown",
   "id": "efb1a4f9",
   "metadata": {},
   "source": [
    "Python looks up the object my_var is referencing (pointing to), and returns the type of the object at that memory location"
   ]
  },
  {
   "cell_type": "code",
   "execution_count": 30,
   "id": "1223ebe5",
   "metadata": {},
   "outputs": [],
   "source": [
    "my_var = lambda x: x**2"
   ]
  },
  {
   "cell_type": "code",
   "execution_count": 31,
   "id": "00de521a",
   "metadata": {},
   "outputs": [
    {
     "data": {
      "text/plain": [
       "4"
      ]
     },
     "execution_count": 31,
     "metadata": {},
     "output_type": "execute_result"
    }
   ],
   "source": [
    "my_var(2)"
   ]
  },
  {
   "cell_type": "code",
   "execution_count": 32,
   "id": "c541de5e",
   "metadata": {},
   "outputs": [
    {
     "data": {
      "text/plain": [
       "function"
      ]
     },
     "execution_count": 32,
     "metadata": {},
     "output_type": "execute_result"
    }
   ],
   "source": [
    "type(my_var)"
   ]
  },
  {
   "cell_type": "code",
   "execution_count": 33,
   "id": "bfd0b4ec",
   "metadata": {},
   "outputs": [],
   "source": [
    "my_var = 3+4j"
   ]
  },
  {
   "cell_type": "code",
   "execution_count": 34,
   "id": "a63a1113",
   "metadata": {},
   "outputs": [
    {
     "data": {
      "text/plain": [
       "complex"
      ]
     },
     "execution_count": 34,
     "metadata": {},
     "output_type": "execute_result"
    }
   ],
   "source": [
    "type(my_var)"
   ]
  },
  {
   "cell_type": "markdown",
   "id": "1e924d1c",
   "metadata": {},
   "source": [
    "----\n",
    "# Variable re-assignment"
   ]
  },
  {
   "cell_type": "code",
   "execution_count": 35,
   "id": "64c21aa1",
   "metadata": {},
   "outputs": [],
   "source": [
    "my_var = 10"
   ]
  },
  {
   "cell_type": "code",
   "execution_count": 36,
   "id": "86239c35",
   "metadata": {},
   "outputs": [],
   "source": [
    "my_var = 15"
   ]
  },
  {
   "cell_type": "markdown",
   "id": "09cc2cfe",
   "metadata": {},
   "source": [
    "When assigning a new value, a new object is created. So my reference now points to the new object created.\n",
    "In fact, the value inside the <i>int</i> objects, can never be changed"
   ]
  },
  {
   "cell_type": "code",
   "execution_count": 37,
   "id": "05ca35a5",
   "metadata": {},
   "outputs": [],
   "source": [
    "a = 10"
   ]
  },
  {
   "cell_type": "code",
   "execution_count": 38,
   "id": "13594f7b",
   "metadata": {},
   "outputs": [
    {
     "data": {
      "text/plain": [
       "'0x10529ca50'"
      ]
     },
     "execution_count": 38,
     "metadata": {},
     "output_type": "execute_result"
    }
   ],
   "source": [
    "hex(id(a))"
   ]
  },
  {
   "cell_type": "code",
   "execution_count": 39,
   "id": "8addd0b8",
   "metadata": {},
   "outputs": [
    {
     "data": {
      "text/plain": [
       "int"
      ]
     },
     "execution_count": 39,
     "metadata": {},
     "output_type": "execute_result"
    }
   ],
   "source": [
    "type(a)"
   ]
  },
  {
   "cell_type": "code",
   "execution_count": 40,
   "id": "172a8a03",
   "metadata": {},
   "outputs": [],
   "source": [
    "a = 15"
   ]
  },
  {
   "cell_type": "code",
   "execution_count": 41,
   "id": "6b95fbbf",
   "metadata": {},
   "outputs": [
    {
     "data": {
      "text/plain": [
       "'0x10529caf0'"
      ]
     },
     "execution_count": 41,
     "metadata": {},
     "output_type": "execute_result"
    }
   ],
   "source": [
    "hex(id(a))"
   ]
  },
  {
   "cell_type": "markdown",
   "id": "d32be86c",
   "metadata": {},
   "source": [
    "The memory address of <i>a</i> has changed"
   ]
  },
  {
   "cell_type": "code",
   "execution_count": 42,
   "id": "1660685e",
   "metadata": {},
   "outputs": [],
   "source": [
    "a = a + 1"
   ]
  },
  {
   "cell_type": "code",
   "execution_count": 43,
   "id": "a695fc76",
   "metadata": {},
   "outputs": [
    {
     "data": {
      "text/plain": [
       "'0x10529cb10'"
      ]
     },
     "execution_count": 43,
     "metadata": {},
     "output_type": "execute_result"
    }
   ],
   "source": [
    "hex(id(a))"
   ]
  },
  {
   "cell_type": "code",
   "execution_count": 44,
   "id": "f415fe5c",
   "metadata": {},
   "outputs": [
    {
     "data": {
      "text/plain": [
       "16"
      ]
     },
     "execution_count": 44,
     "metadata": {},
     "output_type": "execute_result"
    }
   ],
   "source": [
    "a"
   ]
  },
  {
   "cell_type": "code",
   "execution_count": 45,
   "id": "53fe404a",
   "metadata": {},
   "outputs": [],
   "source": [
    "a = 10\n",
    "b = 10"
   ]
  },
  {
   "cell_type": "code",
   "execution_count": 46,
   "id": "97e37a84",
   "metadata": {},
   "outputs": [
    {
     "data": {
      "text/plain": [
       "'0x10529ca50'"
      ]
     },
     "execution_count": 46,
     "metadata": {},
     "output_type": "execute_result"
    }
   ],
   "source": [
    "hex(id(a))"
   ]
  },
  {
   "cell_type": "code",
   "execution_count": 47,
   "id": "7b14652a",
   "metadata": {},
   "outputs": [
    {
     "data": {
      "text/plain": [
       "'0x10529ca50'"
      ]
     },
     "execution_count": 47,
     "metadata": {},
     "output_type": "execute_result"
    }
   ],
   "source": [
    "hex(id(b))"
   ]
  },
  {
   "cell_type": "markdown",
   "id": "40f04363",
   "metadata": {},
   "source": [
    "The memory address of <i>a</i> and <i>b</i> are te same. <i>a</i> and <i>b</i> are pointing the same object."
   ]
  },
  {
   "cell_type": "markdown",
   "id": "729c3ee3",
   "metadata": {},
   "source": [
    "----\n",
    "# Object Mutability and Inmutability"
   ]
  },
  {
   "cell_type": "markdown",
   "id": "4e2a3840",
   "metadata": {},
   "source": [
    "Consider an object in memory"
   ]
  },
  {
   "cell_type": "markdown",
   "id": "9d6119d3",
   "metadata": {},
   "source": [
    "Changing the data inside the object is called modifying the internal state of the object"
   ]
  },
  {
   "cell_type": "markdown",
   "id": "eedfe242",
   "metadata": {},
   "source": [
    "An object whose internal state can be changed, is called <b>Mutable</b>\n",
    "<br>\n",
    "An object whose internal state can be changed, is called <b>Immutable</b>"
   ]
  },
  {
   "cell_type": "markdown",
   "id": "983d7061",
   "metadata": {},
   "source": [
    "- Immutable:\n",
    "    <br>\n",
    "    - Numbers(int,float,Booleans,etc)\n",
    "    <br>\n",
    "    - Strings\n",
    "    <br>\n",
    "    - Tuples\n",
    "    <br>\n",
    "    - Frozen Sets\n",
    "    <br>\n",
    "    - User-Defined Classes\n",
    "    \n",
    "<br>\n",
    "\n",
    "- Mutable:\n",
    "    <br>\n",
    "    - Lists\n",
    "    <br>\n",
    "    - Sets\n",
    "    <br>\n",
    "    - Dictionaries\n",
    "    <br>\n",
    "    - User-Defined Classes\n",
    "    <br>\n",
    "    \n",
    "    \n",
    "    "
   ]
  },
  {
   "cell_type": "code",
   "execution_count": 48,
   "id": "6c79bf50",
   "metadata": {},
   "outputs": [],
   "source": [
    "t = (1,2,3) "
   ]
  },
  {
   "cell_type": "markdown",
   "id": "63bb4150",
   "metadata": {},
   "source": [
    "Tuples are inmutable: elements cannot be deleted, inserted, or replaced in this case, both the container (tuple), and all its elements (ints) are immutable"
   ]
  },
  {
   "cell_type": "code",
   "execution_count": 49,
   "id": "fff58b41",
   "metadata": {},
   "outputs": [
    {
     "data": {
      "text/plain": [
       "1"
      ]
     },
     "execution_count": 49,
     "metadata": {},
     "output_type": "execute_result"
    }
   ],
   "source": [
    "t[0]"
   ]
  },
  {
   "cell_type": "code",
   "execution_count": 50,
   "id": "1712a2b0",
   "metadata": {},
   "outputs": [
    {
     "ename": "TypeError",
     "evalue": "'tuple' object does not support item assignment",
     "output_type": "error",
     "traceback": [
      "\u001b[0;31m---------------------------------------------------------------------------\u001b[0m",
      "\u001b[0;31mTypeError\u001b[0m                                 Traceback (most recent call last)",
      "\u001b[0;32m<ipython-input-50-0c6697a06bab>\u001b[0m in \u001b[0;36m<module>\u001b[0;34m\u001b[0m\n\u001b[0;32m----> 1\u001b[0;31m \u001b[0mt\u001b[0m\u001b[0;34m[\u001b[0m\u001b[0;36m0\u001b[0m\u001b[0;34m]\u001b[0m \u001b[0;34m=\u001b[0m \u001b[0;36m2\u001b[0m\u001b[0;34m\u001b[0m\u001b[0;34m\u001b[0m\u001b[0m\n\u001b[0m",
      "\u001b[0;31mTypeError\u001b[0m: 'tuple' object does not support item assignment"
     ]
    }
   ],
   "source": [
    "t[0] = 2"
   ]
  },
  {
   "cell_type": "code",
   "execution_count": null,
   "id": "5bcd1c3c",
   "metadata": {},
   "outputs": [],
   "source": [
    "a = [1,2]\n",
    "b = [3,4]"
   ]
  },
  {
   "cell_type": "markdown",
   "id": "094606ed",
   "metadata": {},
   "source": [
    "Lists are mutable: elements can be deleted, inserted or replaced"
   ]
  },
  {
   "cell_type": "code",
   "execution_count": null,
   "id": "eb34a1d9",
   "metadata": {},
   "outputs": [],
   "source": [
    "t = (a,b)"
   ]
  },
  {
   "cell_type": "code",
   "execution_count": null,
   "id": "76fe2d8e",
   "metadata": {},
   "outputs": [],
   "source": [
    "t"
   ]
  },
  {
   "cell_type": "code",
   "execution_count": null,
   "id": "d6523983",
   "metadata": {},
   "outputs": [],
   "source": [
    "a.append(3)\n",
    "b.append(5)"
   ]
  },
  {
   "cell_type": "code",
   "execution_count": null,
   "id": "0ad68d1c",
   "metadata": {},
   "outputs": [],
   "source": [
    "t"
   ]
  },
  {
   "cell_type": "markdown",
   "id": "6ef8e056",
   "metadata": {},
   "source": [
    "The tuple is inmutable, we did not change the elemetns tahta are referenced into the position. The store the same memory address, which is the list."
   ]
  },
  {
   "cell_type": "code",
   "execution_count": null,
   "id": "4980fcc6",
   "metadata": {},
   "outputs": [],
   "source": [
    "t[1]"
   ]
  },
  {
   "cell_type": "code",
   "execution_count": null,
   "id": "d8d8ba3f",
   "metadata": {},
   "outputs": [],
   "source": [
    "t[1] = [1,2]"
   ]
  },
  {
   "cell_type": "code",
   "execution_count": null,
   "id": "b546b9f7",
   "metadata": {},
   "outputs": [],
   "source": [
    "t[1].append(10)"
   ]
  },
  {
   "cell_type": "code",
   "execution_count": null,
   "id": "c4bed2ba",
   "metadata": {},
   "outputs": [],
   "source": [
    "t"
   ]
  },
  {
   "cell_type": "markdown",
   "id": "1fdce877",
   "metadata": {},
   "source": [
    "In this case, although the tuple is immutable, its <b>elements are not.</b>\n",
    "The object references in the tuple <b>did not</b> change but the <b>referenced objects did mutate.</b>"
   ]
  },
  {
   "cell_type": "code",
   "execution_count": null,
   "id": "f20bbb3d",
   "metadata": {},
   "outputs": [],
   "source": [
    "my_list = [1,2,3]"
   ]
  },
  {
   "cell_type": "code",
   "execution_count": null,
   "id": "2b345dc1",
   "metadata": {},
   "outputs": [],
   "source": [
    "type(my_list)"
   ]
  },
  {
   "cell_type": "code",
   "execution_count": null,
   "id": "fb36f735",
   "metadata": {},
   "outputs": [],
   "source": [
    "id(my_list)"
   ]
  },
  {
   "cell_type": "code",
   "execution_count": null,
   "id": "4ca201f4",
   "metadata": {},
   "outputs": [],
   "source": [
    "my_list.append(4)"
   ]
  },
  {
   "cell_type": "code",
   "execution_count": null,
   "id": "8b92e3ac",
   "metadata": {},
   "outputs": [],
   "source": [
    "my_list"
   ]
  },
  {
   "cell_type": "code",
   "execution_count": null,
   "id": "65032fad",
   "metadata": {},
   "outputs": [],
   "source": [
    "id(my_list)"
   ]
  },
  {
   "cell_type": "code",
   "execution_count": null,
   "id": "358afaea",
   "metadata": {},
   "outputs": [],
   "source": [
    "my_list_1 = [1,2,3]"
   ]
  },
  {
   "cell_type": "code",
   "execution_count": null,
   "id": "cc4a6b20",
   "metadata": {},
   "outputs": [],
   "source": [
    "id(my_list_1)"
   ]
  },
  {
   "cell_type": "code",
   "execution_count": null,
   "id": "ea1de396",
   "metadata": {},
   "outputs": [],
   "source": [
    "my_list_1 = my_list_1 + [4]"
   ]
  },
  {
   "cell_type": "code",
   "execution_count": null,
   "id": "0d88c839",
   "metadata": {},
   "outputs": [],
   "source": [
    "my_list_1"
   ]
  },
  {
   "cell_type": "code",
   "execution_count": null,
   "id": "12a78169",
   "metadata": {},
   "outputs": [],
   "source": [
    "id(my_list_1)"
   ]
  },
  {
   "cell_type": "markdown",
   "id": "091fa640",
   "metadata": {},
   "source": [
    "When concatenating, the memory address will change. As you can see, the id of my_list_1 will change.\n",
    "Because Python creates a new object when concatenating"
   ]
  },
  {
   "cell_type": "code",
   "execution_count": null,
   "id": "081f38b7",
   "metadata": {},
   "outputs": [],
   "source": [
    "my_dict = dict(key1=1, key2='a')"
   ]
  },
  {
   "cell_type": "code",
   "execution_count": null,
   "id": "4b944e53",
   "metadata": {},
   "outputs": [],
   "source": [
    "my_dict"
   ]
  },
  {
   "cell_type": "code",
   "execution_count": null,
   "id": "2bca83e0",
   "metadata": {},
   "outputs": [],
   "source": [
    "id(my_dict)"
   ]
  },
  {
   "cell_type": "code",
   "execution_count": null,
   "id": "9b6c4c63",
   "metadata": {},
   "outputs": [],
   "source": [
    "my_dict['key3'] = 10.5"
   ]
  },
  {
   "cell_type": "code",
   "execution_count": null,
   "id": "dd8cbff9",
   "metadata": {},
   "outputs": [],
   "source": [
    "my_dict"
   ]
  },
  {
   "cell_type": "code",
   "execution_count": null,
   "id": "ecfaec09",
   "metadata": {},
   "outputs": [],
   "source": [
    "id(my_dict)"
   ]
  },
  {
   "cell_type": "markdown",
   "id": "8b1d97a2",
   "metadata": {},
   "source": [
    "The id of my_dict has not changed"
   ]
  },
  {
   "cell_type": "markdown",
   "id": "4a98f145",
   "metadata": {},
   "source": [
    "----\n",
    "# Function Arguments and Mutability"
   ]
  },
  {
   "cell_type": "markdown",
   "id": "3ee4d813",
   "metadata": {},
   "source": [
    "In Python, Strings(str) are immutable objects\n",
    "Once a string has been created, the contents of object can never be changed"
   ]
  },
  {
   "cell_type": "markdown",
   "id": "f0f70fe1",
   "metadata": {},
   "source": [
    "Immutable objects are safe from unintended side-effects"
   ]
  },
  {
   "cell_type": "code",
   "execution_count": 51,
   "id": "41a6d26b",
   "metadata": {},
   "outputs": [
    {
     "data": {
      "text/plain": [
       "'hello world'"
      ]
     },
     "execution_count": 51,
     "metadata": {},
     "output_type": "execute_result"
    }
   ],
   "source": [
    "def proccess(s):\n",
    "    s = s + ' world'\n",
    "    return s\n",
    "\n",
    "my_var = 'hello'\n",
    "proccess(my_var)"
   ]
  },
  {
   "cell_type": "markdown",
   "id": "4e4f5159",
   "metadata": {},
   "source": [
    "We have two <b>scopes</b>, one from the module and the other from the function.\n",
    "Initially, in my module scope, <b>my_var</b> points to a memory address where 'hello' is stored.\n",
    "Then, my function scope, the <b>proccess() scope</b> takes an argument <b>s</b>.\n",
    "So, when I call my function, the argument will now point to the same object that <b>my_var</b> points. So, we have either my variable <b>my_var</b> and my argument <b>s</b> pointing to the same memory address.\n",
    "<br>\n",
    "Inside the function, we create a new object, which is a new memory address, where now s will point to the new value created <b>'hello world'</b>"
   ]
  },
  {
   "cell_type": "code",
   "execution_count": 52,
   "id": "eaa2b5c9",
   "metadata": {},
   "outputs": [
    {
     "name": "stdout",
     "output_type": "stream",
     "text": [
      "[1, 2, 3, 100]\n"
     ]
    }
   ],
   "source": [
    "def proccess(lst):\n",
    "    lst.append(100)\n",
    "\n",
    "my_list = [1,2,3]\n",
    "proccess(my_list)\n",
    "print(my_list)"
   ]
  },
  {
   "cell_type": "markdown",
   "id": "56b59c0a",
   "metadata": {},
   "source": [
    "A list is a mutable object, so <b>lst</b> points to the same memory address as <b>my_list</b>, so, it will append the value to the original list"
   ]
  },
  {
   "cell_type": "markdown",
   "id": "9a04908e",
   "metadata": {},
   "source": [
    "Immutable collection objects that contain mutable objects"
   ]
  },
  {
   "cell_type": "code",
   "execution_count": 53,
   "id": "ab78f3df",
   "metadata": {},
   "outputs": [
    {
     "name": "stdout",
     "output_type": "stream",
     "text": [
      "([1, 2, 3], 'a')\n"
     ]
    }
   ],
   "source": [
    "def process(t):\n",
    "    t[0].append(3)\n",
    "\n",
    "my_tuple = ([1,2], 'a')\n",
    "process(my_tuple)\n",
    "print(my_tuple)"
   ]
  },
  {
   "cell_type": "markdown",
   "id": "4066dcd0",
   "metadata": {},
   "source": [
    "So, the element of the tuple is mutable object, a list, which is the reason we see a change in the tuple, even if a tuple is immutable"
   ]
  },
  {
   "cell_type": "code",
   "execution_count": 54,
   "id": "ed3b4a6f",
   "metadata": {},
   "outputs": [],
   "source": [
    "def process(s):\n",
    "    print(f'Initial s # = {id(s)}')\n",
    "    s = s + ' world'\n",
    "    print(f'Final s # = {id(s)}')"
   ]
  },
  {
   "cell_type": "code",
   "execution_count": 55,
   "id": "9923f287",
   "metadata": {},
   "outputs": [
    {
     "name": "stdout",
     "output_type": "stream",
     "text": [
      "my_var # = 4421595504\n"
     ]
    }
   ],
   "source": [
    "my_var = 'hello'\n",
    "print(f'my_var # = {id(my_var)}')"
   ]
  },
  {
   "cell_type": "code",
   "execution_count": 56,
   "id": "85cde58e",
   "metadata": {},
   "outputs": [
    {
     "name": "stdout",
     "output_type": "stream",
     "text": [
      "Initial s # = 4421595504\n",
      "Final s # = 4421522928\n"
     ]
    }
   ],
   "source": [
    "process(my_var)"
   ]
  },
  {
   "cell_type": "code",
   "execution_count": 57,
   "id": "7ecc4a90",
   "metadata": {},
   "outputs": [
    {
     "data": {
      "text/plain": [
       "4421595504"
      ]
     },
     "execution_count": 57,
     "metadata": {},
     "output_type": "execute_result"
    }
   ],
   "source": [
    "id(my_var)"
   ]
  },
  {
   "cell_type": "code",
   "execution_count": 58,
   "id": "4968096f",
   "metadata": {},
   "outputs": [
    {
     "data": {
      "text/plain": [
       "'hello'"
      ]
     },
     "execution_count": 58,
     "metadata": {},
     "output_type": "execute_result"
    }
   ],
   "source": [
    "my_var"
   ]
  },
  {
   "cell_type": "code",
   "execution_count": 65,
   "id": "ff17dac1",
   "metadata": {},
   "outputs": [],
   "source": [
    "def modify_list(lst):\n",
    "    print(f'Initial lst  # = {id(lst)}')\n",
    "    lst.append(100)\n",
    "    print(f'Final lst # = {id(lst)}')"
   ]
  },
  {
   "cell_type": "code",
   "execution_count": 66,
   "id": "46b2a89f",
   "metadata": {},
   "outputs": [
    {
     "data": {
      "text/plain": [
       "4421524160"
      ]
     },
     "execution_count": 66,
     "metadata": {},
     "output_type": "execute_result"
    }
   ],
   "source": [
    "my_list = [1,2,3]\n",
    "id(my_list)"
   ]
  },
  {
   "cell_type": "code",
   "execution_count": 67,
   "id": "0bd3307e",
   "metadata": {},
   "outputs": [
    {
     "name": "stdout",
     "output_type": "stream",
     "text": [
      "Initial lst  # = 4421524160\n",
      "Final lst # = 4421524160\n"
     ]
    }
   ],
   "source": [
    "modify_list(my_list)"
   ]
  },
  {
   "cell_type": "code",
   "execution_count": 68,
   "id": "3ececd37",
   "metadata": {},
   "outputs": [
    {
     "data": {
      "text/plain": [
       "[1, 2, 3, 100]"
      ]
     },
     "execution_count": 68,
     "metadata": {},
     "output_type": "execute_result"
    }
   ],
   "source": [
    "my_list"
   ]
  },
  {
   "cell_type": "code",
   "execution_count": 69,
   "id": "87fb765a",
   "metadata": {},
   "outputs": [
    {
     "data": {
      "text/plain": [
       "4421524160"
      ]
     },
     "execution_count": 69,
     "metadata": {},
     "output_type": "execute_result"
    }
   ],
   "source": [
    "id(my_list)"
   ]
  },
  {
   "cell_type": "code",
   "execution_count": 70,
   "id": "d7ab861b",
   "metadata": {},
   "outputs": [],
   "source": [
    "def modify_tuple(t):\n",
    "    print(f'Initial t  # = {id(t)}')\n",
    "    t[0].append(100)\n",
    "    print(f'Final t # = {id(t)}')"
   ]
  },
  {
   "cell_type": "code",
   "execution_count": 71,
   "id": "3abf399b",
   "metadata": {},
   "outputs": [],
   "source": [
    "my_tuple = ([1,2], 'a')"
   ]
  },
  {
   "cell_type": "code",
   "execution_count": 72,
   "id": "0076c7b6",
   "metadata": {},
   "outputs": [
    {
     "data": {
      "text/plain": [
       "4420120512"
      ]
     },
     "execution_count": 72,
     "metadata": {},
     "output_type": "execute_result"
    }
   ],
   "source": [
    "id(my_tuple)"
   ]
  },
  {
   "cell_type": "code",
   "execution_count": 73,
   "id": "634ef6e2",
   "metadata": {},
   "outputs": [
    {
     "data": {
      "text/plain": [
       "4420991744"
      ]
     },
     "execution_count": 73,
     "metadata": {},
     "output_type": "execute_result"
    }
   ],
   "source": [
    "id(my_tuple[0])"
   ]
  },
  {
   "cell_type": "code",
   "execution_count": 74,
   "id": "2d0ec2ab",
   "metadata": {},
   "outputs": [
    {
     "name": "stdout",
     "output_type": "stream",
     "text": [
      "Initial t  # = 4420120512\n",
      "Final t # = 4420120512\n"
     ]
    }
   ],
   "source": [
    "modify_tuple(my_tuple)"
   ]
  },
  {
   "cell_type": "code",
   "execution_count": 75,
   "id": "c2140c3c",
   "metadata": {},
   "outputs": [
    {
     "data": {
      "text/plain": [
       "([1, 2, 100], 'a')"
      ]
     },
     "execution_count": 75,
     "metadata": {},
     "output_type": "execute_result"
    }
   ],
   "source": [
    "my_tuple"
   ]
  },
  {
   "cell_type": "code",
   "execution_count": 76,
   "id": "b3e8ad2f",
   "metadata": {},
   "outputs": [
    {
     "data": {
      "text/plain": [
       "4420991744"
      ]
     },
     "execution_count": 76,
     "metadata": {},
     "output_type": "execute_result"
    }
   ],
   "source": [
    "id(my_tuple[0])"
   ]
  },
  {
   "cell_type": "code",
   "execution_count": 94,
   "id": "e4a175c8",
   "metadata": {},
   "outputs": [],
   "source": [
    "def modify_tuple_s(t):\n",
    "    print(f'Initial t # = {id(t)}')\n",
    "    new_tuple = (t[1] + 'b', [1,2,3])\n",
    "    print(f'Final t # = {id(t)}')\n",
    "    print('Assign it to a new tuple')\n",
    "    print(new_tuple)\n",
    "    print(id(new_tuple))"
   ]
  },
  {
   "cell_type": "code",
   "execution_count": 95,
   "id": "815d1605",
   "metadata": {},
   "outputs": [
    {
     "data": {
      "text/plain": [
       "'a'"
      ]
     },
     "execution_count": 95,
     "metadata": {},
     "output_type": "execute_result"
    }
   ],
   "source": [
    "my_tuple[1]"
   ]
  },
  {
   "cell_type": "code",
   "execution_count": 96,
   "id": "f415c01e",
   "metadata": {},
   "outputs": [
    {
     "name": "stdout",
     "output_type": "stream",
     "text": [
      "Initial t # = 4420120512\n",
      "Final t # = 4420120512\n",
      "Assign it to a new tuple\n",
      "('ab', [1, 2, 3])\n",
      "4420115072\n"
     ]
    }
   ],
   "source": [
    "modify_tuple_s(my_tuple)"
   ]
  },
  {
   "cell_type": "markdown",
   "id": "0b4908d0",
   "metadata": {},
   "source": [
    "----\n",
    "# Shared References and Mutability"
   ]
  },
  {
   "cell_type": "markdown",
   "id": "041d423b",
   "metadata": {},
   "source": [
    "The term of <b>shared reference</b> is the concept of two variables referencing the <b>same</b> object in memory (having the same memory addressm)"
   ]
  },
  {
   "cell_type": "code",
   "execution_count": 98,
   "id": "4b8ed6f3",
   "metadata": {},
   "outputs": [],
   "source": [
    "a = 10\n",
    "b = a"
   ]
  },
  {
   "cell_type": "markdown",
   "id": "a9a0c2a5",
   "metadata": {},
   "source": [
    "<b>b</b> point to the same object as <b>a</b>"
   ]
  },
  {
   "cell_type": "code",
   "execution_count": 100,
   "id": "7e28ed6d",
   "metadata": {},
   "outputs": [],
   "source": [
    "def my_func(v):\n",
    "    return\n",
    "\n",
    "t = 20\n",
    "my_func(t)"
   ]
  },
  {
   "cell_type": "markdown",
   "id": "bb73bf1d",
   "metadata": {},
   "source": [
    "The argument <b>v</b> and the variable <b>t</b> points to same memory address"
   ]
  },
  {
   "cell_type": "code",
   "execution_count": 102,
   "id": "f06b960b",
   "metadata": {},
   "outputs": [],
   "source": [
    "a = 10\n",
    "b = 10\n",
    "\n",
    "s1 = 'hello'\n",
    "s2 = 'hello'"
   ]
  },
  {
   "cell_type": "markdown",
   "id": "1e426790",
   "metadata": {},
   "source": [
    "We expect to <b>b</b> and <b>a</b> or <b>s1</b> and <b>s2</b> point to a different memory addresses.\n",
    "But, is not the case. Python's memory manager decides to automatically re-use the memory references"
   ]
  },
  {
   "cell_type": "markdown",
   "id": "c64db722",
   "metadata": {},
   "source": [
    "When working with <b>mutable</b> objects we have to be more careful"
   ]
  },
  {
   "cell_type": "code",
   "execution_count": 103,
   "id": "602d6d5a",
   "metadata": {},
   "outputs": [
    {
     "data": {
      "text/plain": [
       "[1, 2, 3, 100]"
      ]
     },
     "execution_count": 103,
     "metadata": {},
     "output_type": "execute_result"
    }
   ],
   "source": [
    "a = [1,2,3]\n",
    "b = a\n",
    "\n",
    "b.append(100)\n",
    "a"
   ]
  },
  {
   "cell_type": "markdown",
   "id": "fc4d23b2",
   "metadata": {},
   "source": [
    "Now that they point to the same memory address, the changes we make in any list, will be reflect on the other one.\n",
    "As we can see in the example above, we only append a value to <b>b</b> and the result of that was the initial list in <b>a</b> also being modified."
   ]
  },
  {
   "cell_type": "code",
   "execution_count": 113,
   "id": "af135183",
   "metadata": {},
   "outputs": [],
   "source": [
    "a = 'hello'\n",
    "b = a"
   ]
  },
  {
   "cell_type": "code",
   "execution_count": 114,
   "id": "6c4655b8",
   "metadata": {},
   "outputs": [
    {
     "data": {
      "text/plain": [
       "'0x1078c3170'"
      ]
     },
     "execution_count": 114,
     "metadata": {},
     "output_type": "execute_result"
    }
   ],
   "source": [
    "hex(id(a))"
   ]
  },
  {
   "cell_type": "code",
   "execution_count": 115,
   "id": "11ff0094",
   "metadata": {},
   "outputs": [
    {
     "data": {
      "text/plain": [
       "'0x1078c3170'"
      ]
     },
     "execution_count": 115,
     "metadata": {},
     "output_type": "execute_result"
    }
   ],
   "source": [
    "hex(id(b))"
   ]
  },
  {
   "cell_type": "code",
   "execution_count": 116,
   "id": "afb30cce",
   "metadata": {},
   "outputs": [],
   "source": [
    "a = 'hello'"
   ]
  },
  {
   "cell_type": "code",
   "execution_count": 117,
   "id": "1630f69d",
   "metadata": {},
   "outputs": [],
   "source": [
    "b = 'hello'"
   ]
  },
  {
   "cell_type": "code",
   "execution_count": 118,
   "id": "af173604",
   "metadata": {},
   "outputs": [
    {
     "data": {
      "text/plain": [
       "'0x1078c3170'"
      ]
     },
     "execution_count": 118,
     "metadata": {},
     "output_type": "execute_result"
    }
   ],
   "source": [
    "hex(id(a))"
   ]
  },
  {
   "cell_type": "code",
   "execution_count": 119,
   "id": "20a02d6f",
   "metadata": {},
   "outputs": [
    {
     "data": {
      "text/plain": [
       "'0x1078c3170'"
      ]
     },
     "execution_count": 119,
     "metadata": {},
     "output_type": "execute_result"
    }
   ],
   "source": [
    "hex(id(b))"
   ]
  },
  {
   "cell_type": "code",
   "execution_count": 120,
   "id": "a5ff3bb9",
   "metadata": {},
   "outputs": [],
   "source": [
    "b = 'hello world'"
   ]
  },
  {
   "cell_type": "code",
   "execution_count": 121,
   "id": "b97b7c35",
   "metadata": {},
   "outputs": [
    {
     "data": {
      "text/plain": [
       "'0x1078bf630'"
      ]
     },
     "execution_count": 121,
     "metadata": {},
     "output_type": "execute_result"
    }
   ],
   "source": [
    "hex(id(b))"
   ]
  },
  {
   "cell_type": "code",
   "execution_count": 122,
   "id": "000c5be3",
   "metadata": {},
   "outputs": [
    {
     "data": {
      "text/plain": [
       "'hello'"
      ]
     },
     "execution_count": 122,
     "metadata": {},
     "output_type": "execute_result"
    }
   ],
   "source": [
    "a"
   ]
  },
  {
   "cell_type": "code",
   "execution_count": 123,
   "id": "16536893",
   "metadata": {},
   "outputs": [
    {
     "data": {
      "text/plain": [
       "'hello world'"
      ]
     },
     "execution_count": 123,
     "metadata": {},
     "output_type": "execute_result"
    }
   ],
   "source": [
    "b"
   ]
  },
  {
   "cell_type": "markdown",
   "id": "b9ff2c5f",
   "metadata": {},
   "source": [
    "It's not quite the same when we deal with a mutable object"
   ]
  },
  {
   "cell_type": "code",
   "execution_count": 124,
   "id": "7f5aa5ca",
   "metadata": {},
   "outputs": [],
   "source": [
    "a = [1,2,3]\n",
    "b = a"
   ]
  },
  {
   "cell_type": "code",
   "execution_count": 125,
   "id": "595c9223",
   "metadata": {},
   "outputs": [
    {
     "data": {
      "text/plain": [
       "'0x1078c9dc0'"
      ]
     },
     "execution_count": 125,
     "metadata": {},
     "output_type": "execute_result"
    }
   ],
   "source": [
    "hex(id(a))"
   ]
  },
  {
   "cell_type": "code",
   "execution_count": 126,
   "id": "d506583e",
   "metadata": {},
   "outputs": [
    {
     "data": {
      "text/plain": [
       "'0x1078c9dc0'"
      ]
     },
     "execution_count": 126,
     "metadata": {},
     "output_type": "execute_result"
    }
   ],
   "source": [
    "hex(id(b))"
   ]
  },
  {
   "cell_type": "code",
   "execution_count": 127,
   "id": "0f6da135",
   "metadata": {},
   "outputs": [],
   "source": [
    "b.append(100)"
   ]
  },
  {
   "cell_type": "code",
   "execution_count": 128,
   "id": "e7f1d77d",
   "metadata": {},
   "outputs": [
    {
     "data": {
      "text/plain": [
       "[1, 2, 3, 100]"
      ]
     },
     "execution_count": 128,
     "metadata": {},
     "output_type": "execute_result"
    }
   ],
   "source": [
    "a"
   ]
  },
  {
   "cell_type": "code",
   "execution_count": 129,
   "id": "bb338359",
   "metadata": {},
   "outputs": [
    {
     "data": {
      "text/plain": [
       "[1, 2, 3, 100]"
      ]
     },
     "execution_count": 129,
     "metadata": {},
     "output_type": "execute_result"
    }
   ],
   "source": [
    "b"
   ]
  },
  {
   "cell_type": "code",
   "execution_count": 130,
   "id": "9d5833e3",
   "metadata": {},
   "outputs": [
    {
     "data": {
      "text/plain": [
       "'0x1078c9dc0'"
      ]
     },
     "execution_count": 130,
     "metadata": {},
     "output_type": "execute_result"
    }
   ],
   "source": [
    "hex(id(a))"
   ]
  },
  {
   "cell_type": "code",
   "execution_count": 131,
   "id": "cced3cf0",
   "metadata": {},
   "outputs": [
    {
     "data": {
      "text/plain": [
       "'0x1078c9dc0'"
      ]
     },
     "execution_count": 131,
     "metadata": {},
     "output_type": "execute_result"
    }
   ],
   "source": [
    "hex(id(b))"
   ]
  },
  {
   "cell_type": "code",
   "execution_count": 132,
   "id": "4a9a102a",
   "metadata": {},
   "outputs": [],
   "source": [
    "a = 10\n",
    "b = 10"
   ]
  },
  {
   "cell_type": "code",
   "execution_count": 133,
   "id": "125a27fe",
   "metadata": {},
   "outputs": [
    {
     "data": {
      "text/plain": [
       "'0x10529ca50'"
      ]
     },
     "execution_count": 133,
     "metadata": {},
     "output_type": "execute_result"
    }
   ],
   "source": [
    "hex(id(a))"
   ]
  },
  {
   "cell_type": "code",
   "execution_count": 134,
   "id": "afed9fed",
   "metadata": {},
   "outputs": [
    {
     "data": {
      "text/plain": [
       "'0x10529ca50'"
      ]
     },
     "execution_count": 134,
     "metadata": {},
     "output_type": "execute_result"
    }
   ],
   "source": [
    "hex(id(b))"
   ]
  },
  {
   "cell_type": "markdown",
   "id": "94e63262",
   "metadata": {},
   "source": [
    "In some cases, the re-use of the memory reference won't happen"
   ]
  },
  {
   "cell_type": "code",
   "execution_count": 136,
   "id": "80af0e7d",
   "metadata": {},
   "outputs": [],
   "source": [
    "a = 500\n",
    "b = 500"
   ]
  },
  {
   "cell_type": "code",
   "execution_count": 137,
   "id": "f1515853",
   "metadata": {},
   "outputs": [
    {
     "data": {
      "text/plain": [
       "'0x1078c7e70'"
      ]
     },
     "execution_count": 137,
     "metadata": {},
     "output_type": "execute_result"
    }
   ],
   "source": [
    "hex(id(a))"
   ]
  },
  {
   "cell_type": "code",
   "execution_count": 138,
   "id": "5375a152",
   "metadata": {},
   "outputs": [
    {
     "data": {
      "text/plain": [
       "'0x1078c7d90'"
      ]
     },
     "execution_count": 138,
     "metadata": {},
     "output_type": "execute_result"
    }
   ],
   "source": [
    "hex(id(b))"
   ]
  },
  {
   "cell_type": "markdown",
   "id": "1d849a26",
   "metadata": {},
   "source": [
    "----\n",
    "# Variable Equality"
   ]
  },
  {
   "cell_type": "markdown",
   "id": "7a11d6b3",
   "metadata": {},
   "source": [
    "We can think of variable equality in two fundamental ways:"
   ]
  },
  {
   "cell_type": "markdown",
   "id": "f7d3f911",
   "metadata": {},
   "source": [
    "To compare the memory address we use an <b>identity operator</b>, whis is: <b>is or is not</b>\n",
    "<br>\n",
    "var_1 is var_2\n",
    "<br>\n",
    "var_1 is not var_2\n",
    "<br>\n",
    "not(var_1 is var_2)"
   ]
  },
  {
   "cell_type": "markdown",
   "id": "ec0504a4",
   "metadata": {},
   "source": [
    "If we want to compare the <b>internal state</b> of the object we use the <b>equality operator</b>, which is: <b>== or !=</b>\n",
    "<br>\n",
    "var_1 == var_2\n",
    "<br>\n",
    "var_1 != var_2"
   ]
  },
  {
   "cell_type": "code",
   "execution_count": 147,
   "id": "23faccb2",
   "metadata": {},
   "outputs": [],
   "source": [
    "a = 10\n",
    "b = a"
   ]
  },
  {
   "cell_type": "code",
   "execution_count": 148,
   "id": "b3ab0006",
   "metadata": {},
   "outputs": [
    {
     "data": {
      "text/plain": [
       "True"
      ]
     },
     "execution_count": 148,
     "metadata": {},
     "output_type": "execute_result"
    }
   ],
   "source": [
    "a is b"
   ]
  },
  {
   "cell_type": "code",
   "execution_count": 149,
   "id": "448ae799",
   "metadata": {},
   "outputs": [
    {
     "data": {
      "text/plain": [
       "'0x10529ca50'"
      ]
     },
     "execution_count": 149,
     "metadata": {},
     "output_type": "execute_result"
    }
   ],
   "source": [
    "hex(id(a))"
   ]
  },
  {
   "cell_type": "code",
   "execution_count": 150,
   "id": "7699efa9",
   "metadata": {},
   "outputs": [
    {
     "data": {
      "text/plain": [
       "'0x10529ca50'"
      ]
     },
     "execution_count": 150,
     "metadata": {},
     "output_type": "execute_result"
    }
   ],
   "source": [
    "hex(id(b))"
   ]
  },
  {
   "cell_type": "markdown",
   "id": "97a2950e",
   "metadata": {},
   "source": [
    "It is a shared reference, it has the same memory address"
   ]
  },
  {
   "cell_type": "code",
   "execution_count": 151,
   "id": "a1ed0c45",
   "metadata": {},
   "outputs": [
    {
     "data": {
      "text/plain": [
       "True"
      ]
     },
     "execution_count": 151,
     "metadata": {},
     "output_type": "execute_result"
    }
   ],
   "source": [
    "a == b"
   ]
  },
  {
   "cell_type": "code",
   "execution_count": 152,
   "id": "1a6bb2b9",
   "metadata": {},
   "outputs": [
    {
     "data": {
      "text/plain": [
       "10"
      ]
     },
     "execution_count": 152,
     "metadata": {},
     "output_type": "execute_result"
    }
   ],
   "source": [
    "a"
   ]
  },
  {
   "cell_type": "code",
   "execution_count": 153,
   "id": "a8b17ed2",
   "metadata": {},
   "outputs": [
    {
     "data": {
      "text/plain": [
       "10"
      ]
     },
     "execution_count": 153,
     "metadata": {},
     "output_type": "execute_result"
    }
   ],
   "source": [
    "b"
   ]
  },
  {
   "cell_type": "markdown",
   "id": "9dc1de55",
   "metadata": {},
   "source": [
    "They have the same integer, the same internal state"
   ]
  },
  {
   "cell_type": "code",
   "execution_count": 155,
   "id": "5c56f600",
   "metadata": {},
   "outputs": [],
   "source": [
    "a = 'hello'\n",
    "b = 'hello'"
   ]
  },
  {
   "cell_type": "code",
   "execution_count": 156,
   "id": "b661671f",
   "metadata": {
    "scrolled": true
   },
   "outputs": [
    {
     "data": {
      "text/plain": [
       "True"
      ]
     },
     "execution_count": 156,
     "metadata": {},
     "output_type": "execute_result"
    }
   ],
   "source": [
    "a is b"
   ]
  },
  {
   "cell_type": "code",
   "execution_count": 160,
   "id": "9d961d46",
   "metadata": {},
   "outputs": [
    {
     "data": {
      "text/plain": [
       "'0x1078c3170'"
      ]
     },
     "execution_count": 160,
     "metadata": {},
     "output_type": "execute_result"
    }
   ],
   "source": [
    "hex(id(a))"
   ]
  },
  {
   "cell_type": "code",
   "execution_count": 161,
   "id": "8717552d",
   "metadata": {},
   "outputs": [
    {
     "data": {
      "text/plain": [
       "'0x1078c3170'"
      ]
     },
     "execution_count": 161,
     "metadata": {},
     "output_type": "execute_result"
    }
   ],
   "source": [
    "hex(id(b))"
   ]
  },
  {
   "cell_type": "markdown",
   "id": "1432bb7a",
   "metadata": {},
   "source": [
    "This is True, but as we'll se later, don't count on it!"
   ]
  },
  {
   "cell_type": "code",
   "execution_count": 157,
   "id": "ef6055dd",
   "metadata": {},
   "outputs": [
    {
     "data": {
      "text/plain": [
       "True"
      ]
     },
     "execution_count": 157,
     "metadata": {},
     "output_type": "execute_result"
    }
   ],
   "source": [
    "a == b"
   ]
  },
  {
   "cell_type": "code",
   "execution_count": 158,
   "id": "815a75dd",
   "metadata": {},
   "outputs": [
    {
     "data": {
      "text/plain": [
       "'hello'"
      ]
     },
     "execution_count": 158,
     "metadata": {},
     "output_type": "execute_result"
    }
   ],
   "source": [
    "a"
   ]
  },
  {
   "cell_type": "code",
   "execution_count": 159,
   "id": "0b746fd2",
   "metadata": {},
   "outputs": [
    {
     "data": {
      "text/plain": [
       "'hello'"
      ]
     },
     "execution_count": 159,
     "metadata": {},
     "output_type": "execute_result"
    }
   ],
   "source": [
    "b"
   ]
  },
  {
   "cell_type": "code",
   "execution_count": 162,
   "id": "c16a169d",
   "metadata": {},
   "outputs": [],
   "source": [
    "a = [1,2,3]\n",
    "b = [1,2,3]"
   ]
  },
  {
   "cell_type": "code",
   "execution_count": 163,
   "id": "28ac0955",
   "metadata": {},
   "outputs": [
    {
     "data": {
      "text/plain": [
       "False"
      ]
     },
     "execution_count": 163,
     "metadata": {},
     "output_type": "execute_result"
    }
   ],
   "source": [
    "a is b"
   ]
  },
  {
   "cell_type": "markdown",
   "id": "b184f1fc",
   "metadata": {},
   "source": [
    "They do not share the same memory address"
   ]
  },
  {
   "cell_type": "code",
   "execution_count": 164,
   "id": "94a4e700",
   "metadata": {},
   "outputs": [
    {
     "data": {
      "text/plain": [
       "True"
      ]
     },
     "execution_count": 164,
     "metadata": {},
     "output_type": "execute_result"
    }
   ],
   "source": [
    "a == b"
   ]
  },
  {
   "cell_type": "code",
   "execution_count": 165,
   "id": "a5843db7",
   "metadata": {},
   "outputs": [],
   "source": [
    "a = 10\n",
    "b = 10.0"
   ]
  },
  {
   "cell_type": "code",
   "execution_count": 166,
   "id": "a47f4238",
   "metadata": {},
   "outputs": [
    {
     "data": {
      "text/plain": [
       "False"
      ]
     },
     "execution_count": 166,
     "metadata": {},
     "output_type": "execute_result"
    }
   ],
   "source": [
    "a is b"
   ]
  },
  {
   "cell_type": "markdown",
   "id": "7c9ef6a3",
   "metadata": {},
   "source": [
    "Python do not create a shared reference, one is an integer, the other a float"
   ]
  },
  {
   "cell_type": "code",
   "execution_count": 167,
   "id": "27ff7e64",
   "metadata": {},
   "outputs": [
    {
     "data": {
      "text/plain": [
       "True"
      ]
     },
     "execution_count": 167,
     "metadata": {},
     "output_type": "execute_result"
    }
   ],
   "source": [
    "a == b"
   ]
  },
  {
   "cell_type": "markdown",
   "id": "ee110b08",
   "metadata": {},
   "source": [
    "Python figures out that is a number, so it gets the same value"
   ]
  },
  {
   "cell_type": "markdown",
   "id": "2e0bd151",
   "metadata": {},
   "source": [
    "### The None Object"
   ]
  },
  {
   "cell_type": "markdown",
   "id": "2a299246",
   "metadata": {},
   "source": [
    "The <b>None</b> object can be assigned to variables to indicate that they are not set (in the way we would expect them to be), i.e. an 'empty' value (or null pointer)"
   ]
  },
  {
   "cell_type": "markdown",
   "id": "0133fff0",
   "metadata": {},
   "source": [
    "But the <b>None</b> object is a real object that is managed by the Python memory manager.\n",
    "Furthermore, the memory manager will always use a <b>shared reference</b> when assigning a variable to <b>None</b>"
   ]
  },
  {
   "cell_type": "code",
   "execution_count": 169,
   "id": "7337aecf",
   "metadata": {},
   "outputs": [],
   "source": [
    "a = None\n",
    "b = None\n",
    "c = None"
   ]
  },
  {
   "cell_type": "code",
   "execution_count": 170,
   "id": "2e08a77f",
   "metadata": {},
   "outputs": [
    {
     "name": "stdout",
     "output_type": "stream",
     "text": [
      "0x1058c35b0\n",
      "0x1058c35b0\n",
      "0x1058c35b0\n"
     ]
    }
   ],
   "source": [
    "print(hex(id(a)))\n",
    "print(hex(id(b)))\n",
    "print(hex(id(c)))"
   ]
  },
  {
   "cell_type": "markdown",
   "id": "2dfa4bb7",
   "metadata": {},
   "source": [
    "So we can test if a variable is 'not set' or 'empty' by comparing it's memory address to the memory address of <b>None</b> using the <b>is</b> operator"
   ]
  },
  {
   "cell_type": "code",
   "execution_count": 171,
   "id": "fb5bf46b",
   "metadata": {},
   "outputs": [
    {
     "data": {
      "text/plain": [
       "True"
      ]
     },
     "execution_count": 171,
     "metadata": {},
     "output_type": "execute_result"
    }
   ],
   "source": [
    "a is None"
   ]
  },
  {
   "cell_type": "code",
   "execution_count": 172,
   "id": "f17adc29",
   "metadata": {},
   "outputs": [],
   "source": [
    "x = 10"
   ]
  },
  {
   "cell_type": "code",
   "execution_count": 173,
   "id": "097a89d1",
   "metadata": {},
   "outputs": [
    {
     "data": {
      "text/plain": [
       "False"
      ]
     },
     "execution_count": 173,
     "metadata": {},
     "output_type": "execute_result"
    }
   ],
   "source": [
    "x is None"
   ]
  },
  {
   "cell_type": "code",
   "execution_count": 174,
   "id": "ddf6b366",
   "metadata": {},
   "outputs": [
    {
     "data": {
      "text/plain": [
       "True"
      ]
     },
     "execution_count": 174,
     "metadata": {},
     "output_type": "execute_result"
    }
   ],
   "source": [
    "x is not None"
   ]
  },
  {
   "cell_type": "code",
   "execution_count": 181,
   "id": "87e1237a",
   "metadata": {},
   "outputs": [],
   "source": [
    "a = 10"
   ]
  },
  {
   "cell_type": "code",
   "execution_count": 182,
   "id": "e7f501b3",
   "metadata": {},
   "outputs": [],
   "source": [
    "b = 10"
   ]
  },
  {
   "cell_type": "code",
   "execution_count": 183,
   "id": "85c53053",
   "metadata": {},
   "outputs": [
    {
     "data": {
      "text/plain": [
       "4381592144"
      ]
     },
     "execution_count": 183,
     "metadata": {},
     "output_type": "execute_result"
    }
   ],
   "source": [
    "id(a)"
   ]
  },
  {
   "cell_type": "code",
   "execution_count": 184,
   "id": "5c5838fb",
   "metadata": {},
   "outputs": [
    {
     "data": {
      "text/plain": [
       "4381592144"
      ]
     },
     "execution_count": 184,
     "metadata": {},
     "output_type": "execute_result"
    }
   ],
   "source": [
    "id(b)"
   ]
  },
  {
   "cell_type": "markdown",
   "id": "72408067",
   "metadata": {},
   "source": [
    "We have a shared reference and the same internal state"
   ]
  },
  {
   "cell_type": "code",
   "execution_count": 185,
   "id": "fc56c6d1",
   "metadata": {},
   "outputs": [
    {
     "name": "stdout",
     "output_type": "stream",
     "text": [
      "a is b True\n"
     ]
    }
   ],
   "source": [
    "print('a is b', a is b)"
   ]
  },
  {
   "cell_type": "code",
   "execution_count": 186,
   "id": "75018237",
   "metadata": {},
   "outputs": [
    {
     "name": "stdout",
     "output_type": "stream",
     "text": [
      "a == b True\n"
     ]
    }
   ],
   "source": [
    "print('a == b', a == b)"
   ]
  },
  {
   "cell_type": "code",
   "execution_count": 188,
   "id": "876a2a85",
   "metadata": {},
   "outputs": [],
   "source": [
    "a = 500\n",
    "b = 500"
   ]
  },
  {
   "cell_type": "code",
   "execution_count": 189,
   "id": "fd9cd850",
   "metadata": {},
   "outputs": [
    {
     "data": {
      "text/plain": [
       "4421692848"
      ]
     },
     "execution_count": 189,
     "metadata": {},
     "output_type": "execute_result"
    }
   ],
   "source": [
    "id(a)"
   ]
  },
  {
   "cell_type": "code",
   "execution_count": 190,
   "id": "b6349979",
   "metadata": {},
   "outputs": [
    {
     "data": {
      "text/plain": [
       "4421692560"
      ]
     },
     "execution_count": 190,
     "metadata": {},
     "output_type": "execute_result"
    }
   ],
   "source": [
    "id(b)"
   ]
  },
  {
   "cell_type": "code",
   "execution_count": 191,
   "id": "177d9b2e",
   "metadata": {},
   "outputs": [
    {
     "name": "stdout",
     "output_type": "stream",
     "text": [
      "a is b False\n"
     ]
    }
   ],
   "source": [
    "print('a is b', a is b)"
   ]
  },
  {
   "cell_type": "code",
   "execution_count": 193,
   "id": "3041b091",
   "metadata": {},
   "outputs": [
    {
     "name": "stdout",
     "output_type": "stream",
     "text": [
      "a == b True\n"
     ]
    }
   ],
   "source": [
    "print('a == b', a == b)"
   ]
  },
  {
   "cell_type": "code",
   "execution_count": 194,
   "id": "5f5c7e4c",
   "metadata": {},
   "outputs": [],
   "source": [
    "a = [1,2,3]\n",
    "b = [1,2,3]"
   ]
  },
  {
   "cell_type": "code",
   "execution_count": 195,
   "id": "5ba60fd7",
   "metadata": {},
   "outputs": [
    {
     "data": {
      "text/plain": [
       "4421728960"
      ]
     },
     "execution_count": 195,
     "metadata": {},
     "output_type": "execute_result"
    }
   ],
   "source": [
    "id(a)"
   ]
  },
  {
   "cell_type": "code",
   "execution_count": 196,
   "id": "aaf11464",
   "metadata": {},
   "outputs": [
    {
     "data": {
      "text/plain": [
       "4421666112"
      ]
     },
     "execution_count": 196,
     "metadata": {},
     "output_type": "execute_result"
    }
   ],
   "source": [
    "id(b)"
   ]
  },
  {
   "cell_type": "code",
   "execution_count": 197,
   "id": "3fff6122",
   "metadata": {},
   "outputs": [
    {
     "name": "stdout",
     "output_type": "stream",
     "text": [
      "a is b False\n"
     ]
    }
   ],
   "source": [
    "print('a is b', a is b)"
   ]
  },
  {
   "cell_type": "code",
   "execution_count": 198,
   "id": "cf206616",
   "metadata": {},
   "outputs": [
    {
     "name": "stdout",
     "output_type": "stream",
     "text": [
      "a == b True\n"
     ]
    }
   ],
   "source": [
    "print('a == b', a == b)"
   ]
  },
  {
   "cell_type": "code",
   "execution_count": 199,
   "id": "665a0aad",
   "metadata": {},
   "outputs": [],
   "source": [
    "a = 10\n",
    "b = 10.0"
   ]
  },
  {
   "cell_type": "code",
   "execution_count": 200,
   "id": "11cdfb53",
   "metadata": {},
   "outputs": [
    {
     "data": {
      "text/plain": [
       "4381592144"
      ]
     },
     "execution_count": 200,
     "metadata": {},
     "output_type": "execute_result"
    }
   ],
   "source": [
    "id(a)"
   ]
  },
  {
   "cell_type": "code",
   "execution_count": 201,
   "id": "d91b3e27",
   "metadata": {},
   "outputs": [
    {
     "data": {
      "text/plain": [
       "4421691504"
      ]
     },
     "execution_count": 201,
     "metadata": {},
     "output_type": "execute_result"
    }
   ],
   "source": [
    "id(b)"
   ]
  },
  {
   "cell_type": "code",
   "execution_count": 202,
   "id": "b9188261",
   "metadata": {},
   "outputs": [
    {
     "name": "stdout",
     "output_type": "stream",
     "text": [
      "a is b False\n"
     ]
    }
   ],
   "source": [
    "print('a is b', a is b)"
   ]
  },
  {
   "cell_type": "code",
   "execution_count": 203,
   "id": "eff7b395",
   "metadata": {},
   "outputs": [
    {
     "name": "stdout",
     "output_type": "stream",
     "text": [
      "a == b True\n"
     ]
    }
   ],
   "source": [
    "print('a == b', a == b)"
   ]
  },
  {
   "cell_type": "code",
   "execution_count": 204,
   "id": "4aeb7abb",
   "metadata": {},
   "outputs": [],
   "source": [
    "a = 10 + 0j"
   ]
  },
  {
   "cell_type": "code",
   "execution_count": 205,
   "id": "02789c4a",
   "metadata": {},
   "outputs": [
    {
     "data": {
      "text/plain": [
       "complex"
      ]
     },
     "execution_count": 205,
     "metadata": {},
     "output_type": "execute_result"
    }
   ],
   "source": [
    "type(a)"
   ]
  },
  {
   "cell_type": "code",
   "execution_count": 206,
   "id": "81cb6df3",
   "metadata": {},
   "outputs": [
    {
     "data": {
      "text/plain": [
       "float"
      ]
     },
     "execution_count": 206,
     "metadata": {},
     "output_type": "execute_result"
    }
   ],
   "source": [
    "type(b)"
   ]
  },
  {
   "cell_type": "code",
   "execution_count": 207,
   "id": "948c23b4",
   "metadata": {},
   "outputs": [
    {
     "name": "stdout",
     "output_type": "stream",
     "text": [
      "a is b False\n"
     ]
    }
   ],
   "source": [
    "print('a is b', a is b)"
   ]
  },
  {
   "cell_type": "code",
   "execution_count": 208,
   "id": "0f842a8d",
   "metadata": {},
   "outputs": [
    {
     "name": "stdout",
     "output_type": "stream",
     "text": [
      "a == b True\n"
     ]
    }
   ],
   "source": [
    "print('a == b', a == b)"
   ]
  },
  {
   "cell_type": "code",
   "execution_count": 209,
   "id": "4bf3f18c",
   "metadata": {},
   "outputs": [
    {
     "data": {
      "text/plain": [
       "4388042160"
      ]
     },
     "execution_count": 209,
     "metadata": {},
     "output_type": "execute_result"
    }
   ],
   "source": [
    "id(None)"
   ]
  },
  {
   "cell_type": "code",
   "execution_count": 210,
   "id": "c10fd6ae",
   "metadata": {},
   "outputs": [
    {
     "data": {
      "text/plain": [
       "NoneType"
      ]
     },
     "execution_count": 210,
     "metadata": {},
     "output_type": "execute_result"
    }
   ],
   "source": [
    "type(None)"
   ]
  },
  {
   "cell_type": "code",
   "execution_count": 211,
   "id": "3dee45af",
   "metadata": {},
   "outputs": [],
   "source": [
    "a = None\n",
    "b = None\n",
    "c = None"
   ]
  },
  {
   "cell_type": "code",
   "execution_count": 212,
   "id": "746aac00",
   "metadata": {},
   "outputs": [
    {
     "data": {
      "text/plain": [
       "True"
      ]
     },
     "execution_count": 212,
     "metadata": {},
     "output_type": "execute_result"
    }
   ],
   "source": [
    "a is b"
   ]
  },
  {
   "cell_type": "code",
   "execution_count": 213,
   "id": "0fc032cd",
   "metadata": {},
   "outputs": [
    {
     "data": {
      "text/plain": [
       "True"
      ]
     },
     "execution_count": 213,
     "metadata": {},
     "output_type": "execute_result"
    }
   ],
   "source": [
    "b is c"
   ]
  },
  {
   "cell_type": "code",
   "execution_count": 214,
   "id": "aa765f45",
   "metadata": {},
   "outputs": [
    {
     "data": {
      "text/plain": [
       "True"
      ]
     },
     "execution_count": 214,
     "metadata": {},
     "output_type": "execute_result"
    }
   ],
   "source": [
    "a is c"
   ]
  },
  {
   "cell_type": "code",
   "execution_count": 215,
   "id": "304c7bbf",
   "metadata": {},
   "outputs": [
    {
     "data": {
      "text/plain": [
       "True"
      ]
     },
     "execution_count": 215,
     "metadata": {},
     "output_type": "execute_result"
    }
   ],
   "source": [
    "a is None"
   ]
  },
  {
   "cell_type": "code",
   "execution_count": 216,
   "id": "c5be21d5",
   "metadata": {},
   "outputs": [
    {
     "data": {
      "text/plain": [
       "True"
      ]
     },
     "execution_count": 216,
     "metadata": {},
     "output_type": "execute_result"
    }
   ],
   "source": [
    "b is None"
   ]
  },
  {
   "cell_type": "code",
   "execution_count": 217,
   "id": "1be436f5",
   "metadata": {},
   "outputs": [
    {
     "data": {
      "text/plain": [
       "True"
      ]
     },
     "execution_count": 217,
     "metadata": {},
     "output_type": "execute_result"
    }
   ],
   "source": [
    "c is None"
   ]
  },
  {
   "cell_type": "markdown",
   "id": "691dca2e",
   "metadata": {},
   "source": [
    "----\n",
    "# Everything is an Object"
   ]
  },
  {
   "cell_type": "code",
   "execution_count": 231,
   "id": "a445d77f",
   "metadata": {},
   "outputs": [
    {
     "name": "stdout",
     "output_type": "stream",
     "text": [
      "type:  <class 'function'>\n",
      "id:  4421768240\n"
     ]
    }
   ],
   "source": [
    "def my_func():\n",
    "    return\n",
    "\n",
    "print('type: ', type(my_func))\n",
    "print('id: ', id(my_func))"
   ]
  },
  {
   "cell_type": "code",
   "execution_count": 232,
   "id": "9d745266",
   "metadata": {},
   "outputs": [
    {
     "name": "stdout",
     "output_type": "stream",
     "text": [
      "type:  <class 'type'>\n",
      "id:  140152955967072\n"
     ]
    }
   ],
   "source": [
    "class MyClass:\n",
    "    def __init__(self):\n",
    "        return\n",
    "    \n",
    "print('type: ', type(MyClass))\n",
    "print('id: ', id(MyClass))"
   ]
  },
  {
   "cell_type": "markdown",
   "id": "bcbf85b8",
   "metadata": {},
   "source": [
    "All theses things are all objects(instances of classes)\n",
    "    <br>\n",
    "    - Functions(function)\n",
    "    <br>\n",
    "    - Classes(class)\n",
    "    <br>\n",
    "    - Types(type)\n",
    "    \n",
    "    <br>\n",
    "This means they all have a memory address!\n",
    "<br>\n",
    "As a consequence:\n",
    "<br>\n",
    "    - Any object can be assigned to a variable including functions\n",
    "    <br>\n",
    "    - Any object can be passed to a function including functions\n",
    "    <br>\n",
    "    - Any object can be returned from a function including functions"
   ]
  },
  {
   "cell_type": "markdown",
   "id": "2139659f",
   "metadata": {},
   "source": [
    "<b>my_func</b> without the parenthesis is the name of the function\n",
    "    <br>\n",
    "<b>my_func()</b> invokes the function"
   ]
  },
  {
   "cell_type": "code",
   "execution_count": 233,
   "id": "f107dc21",
   "metadata": {},
   "outputs": [],
   "source": [
    "a = 10"
   ]
  },
  {
   "cell_type": "code",
   "execution_count": 236,
   "id": "619ec334",
   "metadata": {},
   "outputs": [
    {
     "name": "stdout",
     "output_type": "stream",
     "text": [
      "type a:  <class 'int'>\n"
     ]
    }
   ],
   "source": [
    "print('type a: ' , type(a))"
   ]
  },
  {
   "cell_type": "markdown",
   "id": "12d298fc",
   "metadata": {},
   "source": [
    "If a is a int instance, we should be able to create new object given a int class"
   ]
  },
  {
   "cell_type": "code",
   "execution_count": 237,
   "id": "1c7dcaac",
   "metadata": {},
   "outputs": [],
   "source": [
    "b = int(10)"
   ]
  },
  {
   "cell_type": "code",
   "execution_count": 239,
   "id": "a4e52167",
   "metadata": {},
   "outputs": [
    {
     "name": "stdout",
     "output_type": "stream",
     "text": [
      "type b:  <class 'int'>\n"
     ]
    }
   ],
   "source": [
    "print('type b: ' , type(b))"
   ]
  },
  {
   "cell_type": "code",
   "execution_count": 240,
   "id": "9774f7e3",
   "metadata": {},
   "outputs": [
    {
     "name": "stdout",
     "output_type": "stream",
     "text": [
      "Help on class int in module builtins:\n",
      "\n",
      "class int(object)\n",
      " |  int([x]) -> integer\n",
      " |  int(x, base=10) -> integer\n",
      " |  \n",
      " |  Convert a number or string to an integer, or return 0 if no arguments\n",
      " |  are given.  If x is a number, return x.__int__().  For floating point\n",
      " |  numbers, this truncates towards zero.\n",
      " |  \n",
      " |  If x is not a number or if base is given, then x must be a string,\n",
      " |  bytes, or bytearray instance representing an integer literal in the\n",
      " |  given base.  The literal can be preceded by '+' or '-' and be surrounded\n",
      " |  by whitespace.  The base defaults to 10.  Valid bases are 0 and 2-36.\n",
      " |  Base 0 means to interpret the base from the string as an integer literal.\n",
      " |  >>> int('0b100', base=0)\n",
      " |  4\n",
      " |  \n",
      " |  Built-in subclasses:\n",
      " |      bool\n",
      " |  \n",
      " |  Methods defined here:\n",
      " |  \n",
      " |  __abs__(self, /)\n",
      " |      abs(self)\n",
      " |  \n",
      " |  __add__(self, value, /)\n",
      " |      Return self+value.\n",
      " |  \n",
      " |  __and__(self, value, /)\n",
      " |      Return self&value.\n",
      " |  \n",
      " |  __bool__(self, /)\n",
      " |      self != 0\n",
      " |  \n",
      " |  __ceil__(...)\n",
      " |      Ceiling of an Integral returns itself.\n",
      " |  \n",
      " |  __divmod__(self, value, /)\n",
      " |      Return divmod(self, value).\n",
      " |  \n",
      " |  __eq__(self, value, /)\n",
      " |      Return self==value.\n",
      " |  \n",
      " |  __float__(self, /)\n",
      " |      float(self)\n",
      " |  \n",
      " |  __floor__(...)\n",
      " |      Flooring an Integral returns itself.\n",
      " |  \n",
      " |  __floordiv__(self, value, /)\n",
      " |      Return self//value.\n",
      " |  \n",
      " |  __format__(self, format_spec, /)\n",
      " |      Default object formatter.\n",
      " |  \n",
      " |  __ge__(self, value, /)\n",
      " |      Return self>=value.\n",
      " |  \n",
      " |  __getattribute__(self, name, /)\n",
      " |      Return getattr(self, name).\n",
      " |  \n",
      " |  __getnewargs__(self, /)\n",
      " |  \n",
      " |  __gt__(self, value, /)\n",
      " |      Return self>value.\n",
      " |  \n",
      " |  __hash__(self, /)\n",
      " |      Return hash(self).\n",
      " |  \n",
      " |  __index__(self, /)\n",
      " |      Return self converted to an integer, if self is suitable for use as an index into a list.\n",
      " |  \n",
      " |  __int__(self, /)\n",
      " |      int(self)\n",
      " |  \n",
      " |  __invert__(self, /)\n",
      " |      ~self\n",
      " |  \n",
      " |  __le__(self, value, /)\n",
      " |      Return self<=value.\n",
      " |  \n",
      " |  __lshift__(self, value, /)\n",
      " |      Return self<<value.\n",
      " |  \n",
      " |  __lt__(self, value, /)\n",
      " |      Return self<value.\n",
      " |  \n",
      " |  __mod__(self, value, /)\n",
      " |      Return self%value.\n",
      " |  \n",
      " |  __mul__(self, value, /)\n",
      " |      Return self*value.\n",
      " |  \n",
      " |  __ne__(self, value, /)\n",
      " |      Return self!=value.\n",
      " |  \n",
      " |  __neg__(self, /)\n",
      " |      -self\n",
      " |  \n",
      " |  __or__(self, value, /)\n",
      " |      Return self|value.\n",
      " |  \n",
      " |  __pos__(self, /)\n",
      " |      +self\n",
      " |  \n",
      " |  __pow__(self, value, mod=None, /)\n",
      " |      Return pow(self, value, mod).\n",
      " |  \n",
      " |  __radd__(self, value, /)\n",
      " |      Return value+self.\n",
      " |  \n",
      " |  __rand__(self, value, /)\n",
      " |      Return value&self.\n",
      " |  \n",
      " |  __rdivmod__(self, value, /)\n",
      " |      Return divmod(value, self).\n",
      " |  \n",
      " |  __repr__(self, /)\n",
      " |      Return repr(self).\n",
      " |  \n",
      " |  __rfloordiv__(self, value, /)\n",
      " |      Return value//self.\n",
      " |  \n",
      " |  __rlshift__(self, value, /)\n",
      " |      Return value<<self.\n",
      " |  \n",
      " |  __rmod__(self, value, /)\n",
      " |      Return value%self.\n",
      " |  \n",
      " |  __rmul__(self, value, /)\n",
      " |      Return value*self.\n",
      " |  \n",
      " |  __ror__(self, value, /)\n",
      " |      Return value|self.\n",
      " |  \n",
      " |  __round__(...)\n",
      " |      Rounding an Integral returns itself.\n",
      " |      Rounding with an ndigits argument also returns an integer.\n",
      " |  \n",
      " |  __rpow__(self, value, mod=None, /)\n",
      " |      Return pow(value, self, mod).\n",
      " |  \n",
      " |  __rrshift__(self, value, /)\n",
      " |      Return value>>self.\n",
      " |  \n",
      " |  __rshift__(self, value, /)\n",
      " |      Return self>>value.\n",
      " |  \n",
      " |  __rsub__(self, value, /)\n",
      " |      Return value-self.\n",
      " |  \n",
      " |  __rtruediv__(self, value, /)\n",
      " |      Return value/self.\n",
      " |  \n",
      " |  __rxor__(self, value, /)\n",
      " |      Return value^self.\n",
      " |  \n",
      " |  __sizeof__(self, /)\n",
      " |      Returns size in memory, in bytes.\n",
      " |  \n",
      " |  __sub__(self, value, /)\n",
      " |      Return self-value.\n",
      " |  \n",
      " |  __truediv__(self, value, /)\n",
      " |      Return self/value.\n",
      " |  \n",
      " |  __trunc__(...)\n",
      " |      Truncating an Integral returns itself.\n",
      " |  \n",
      " |  __xor__(self, value, /)\n",
      " |      Return self^value.\n",
      " |  \n",
      " |  as_integer_ratio(self, /)\n",
      " |      Return integer ratio.\n",
      " |      \n",
      " |      Return a pair of integers, whose ratio is exactly equal to the original int\n",
      " |      and with a positive denominator.\n",
      " |      \n",
      " |      >>> (10).as_integer_ratio()\n",
      " |      (10, 1)\n",
      " |      >>> (-10).as_integer_ratio()\n",
      " |      (-10, 1)\n",
      " |      >>> (0).as_integer_ratio()\n",
      " |      (0, 1)\n",
      " |  \n",
      " |  bit_length(self, /)\n",
      " |      Number of bits necessary to represent self in binary.\n",
      " |      \n",
      " |      >>> bin(37)\n",
      " |      '0b100101'\n",
      " |      >>> (37).bit_length()\n",
      " |      6\n",
      " |  \n",
      " |  conjugate(...)\n",
      " |      Returns self, the complex conjugate of any int.\n",
      " |  \n",
      " |  to_bytes(self, /, length, byteorder, *, signed=False)\n",
      " |      Return an array of bytes representing an integer.\n",
      " |      \n",
      " |      length\n",
      " |        Length of bytes object to use.  An OverflowError is raised if the\n",
      " |        integer is not representable with the given number of bytes.\n",
      " |      byteorder\n",
      " |        The byte order used to represent the integer.  If byteorder is 'big',\n",
      " |        the most significant byte is at the beginning of the byte array.  If\n",
      " |        byteorder is 'little', the most significant byte is at the end of the\n",
      " |        byte array.  To request the native byte order of the host system, use\n",
      " |        `sys.byteorder' as the byte order value.\n",
      " |      signed\n",
      " |        Determines whether two's complement is used to represent the integer.\n",
      " |        If signed is False and a negative integer is given, an OverflowError\n",
      " |        is raised.\n",
      " |  \n",
      " |  ----------------------------------------------------------------------\n",
      " |  Class methods defined here:\n",
      " |  \n",
      " |  from_bytes(bytes, byteorder, *, signed=False) from builtins.type\n",
      " |      Return the integer represented by the given array of bytes.\n",
      " |      \n",
      " |      bytes\n",
      " |        Holds the array of bytes to convert.  The argument must either\n",
      " |        support the buffer protocol or be an iterable object producing bytes.\n",
      " |        Bytes and bytearray are examples of built-in objects that support the\n",
      " |        buffer protocol.\n",
      " |      byteorder\n",
      " |        The byte order used to represent the integer.  If byteorder is 'big',\n",
      " |        the most significant byte is at the beginning of the byte array.  If\n",
      " |        byteorder is 'little', the most significant byte is at the end of the\n",
      " |        byte array.  To request the native byte order of the host system, use\n",
      " |        `sys.byteorder' as the byte order value.\n",
      " |      signed\n",
      " |        Indicates whether two's complement is used to represent the integer.\n",
      " |  \n",
      " |  ----------------------------------------------------------------------\n",
      " |  Static methods defined here:\n",
      " |  \n",
      " |  __new__(*args, **kwargs) from builtins.type\n",
      " |      Create and return a new object.  See help(type) for accurate signature.\n",
      " |  \n",
      " |  ----------------------------------------------------------------------\n",
      " |  Data descriptors defined here:\n",
      " |  \n",
      " |  denominator\n",
      " |      the denominator of a rational number in lowest terms\n",
      " |  \n",
      " |  imag\n",
      " |      the imaginary part of a complex number\n",
      " |  \n",
      " |  numerator\n",
      " |      the numerator of a rational number in lowest terms\n",
      " |  \n",
      " |  real\n",
      " |      the real part of a complex number\n",
      "\n"
     ]
    }
   ],
   "source": [
    "help(int)"
   ]
  },
  {
   "cell_type": "code",
   "execution_count": 241,
   "id": "5ef80b7b",
   "metadata": {},
   "outputs": [],
   "source": [
    "c = int()"
   ]
  },
  {
   "cell_type": "code",
   "execution_count": 242,
   "id": "322cd175",
   "metadata": {},
   "outputs": [
    {
     "data": {
      "text/plain": [
       "0"
      ]
     },
     "execution_count": 242,
     "metadata": {},
     "output_type": "execute_result"
    }
   ],
   "source": [
    "c"
   ]
  },
  {
   "cell_type": "markdown",
   "id": "3e092d26",
   "metadata": {},
   "source": [
    "By binary notation"
   ]
  },
  {
   "cell_type": "code",
   "execution_count": 243,
   "id": "2f7cdf3f",
   "metadata": {},
   "outputs": [],
   "source": [
    "c = int('101', base = 2)"
   ]
  },
  {
   "cell_type": "code",
   "execution_count": 244,
   "id": "d910cbb6",
   "metadata": {},
   "outputs": [
    {
     "data": {
      "text/plain": [
       "5"
      ]
     },
     "execution_count": 244,
     "metadata": {},
     "output_type": "execute_result"
    }
   ],
   "source": [
    "c"
   ]
  },
  {
   "cell_type": "code",
   "execution_count": 245,
   "id": "628845c3",
   "metadata": {},
   "outputs": [],
   "source": [
    "def square(a):\n",
    "    return a ** 2"
   ]
  },
  {
   "cell_type": "code",
   "execution_count": 247,
   "id": "2c8bf21d",
   "metadata": {},
   "outputs": [
    {
     "name": "stdout",
     "output_type": "stream",
     "text": [
      "type square:  <class 'function'>\n"
     ]
    }
   ],
   "source": [
    "print('type square: ', type(square))"
   ]
  },
  {
   "cell_type": "code",
   "execution_count": 248,
   "id": "bf0f3120",
   "metadata": {},
   "outputs": [],
   "source": [
    "f = square"
   ]
  },
  {
   "cell_type": "code",
   "execution_count": 249,
   "id": "abc4416a",
   "metadata": {},
   "outputs": [
    {
     "data": {
      "text/plain": [
       "4421832128"
      ]
     },
     "execution_count": 249,
     "metadata": {},
     "output_type": "execute_result"
    }
   ],
   "source": [
    "id(square)"
   ]
  },
  {
   "cell_type": "code",
   "execution_count": 250,
   "id": "82ac07cb",
   "metadata": {},
   "outputs": [
    {
     "data": {
      "text/plain": [
       "4421832128"
      ]
     },
     "execution_count": 250,
     "metadata": {},
     "output_type": "execute_result"
    }
   ],
   "source": [
    "id(f)"
   ]
  },
  {
   "cell_type": "code",
   "execution_count": 251,
   "id": "cd801f51",
   "metadata": {},
   "outputs": [
    {
     "name": "stdout",
     "output_type": "stream",
     "text": [
      "type f:  <class 'function'>\n"
     ]
    }
   ],
   "source": [
    "print('type f: ', type(f))"
   ]
  },
  {
   "cell_type": "code",
   "execution_count": 252,
   "id": "d373cc9c",
   "metadata": {},
   "outputs": [
    {
     "data": {
      "text/plain": [
       "True"
      ]
     },
     "execution_count": 252,
     "metadata": {},
     "output_type": "execute_result"
    }
   ],
   "source": [
    "f is square"
   ]
  },
  {
   "cell_type": "markdown",
   "id": "afc20a61",
   "metadata": {},
   "source": [
    "We can invoke our function as we normally do"
   ]
  },
  {
   "cell_type": "code",
   "execution_count": 253,
   "id": "337b694e",
   "metadata": {},
   "outputs": [
    {
     "data": {
      "text/plain": [
       "4"
      ]
     },
     "execution_count": 253,
     "metadata": {},
     "output_type": "execute_result"
    }
   ],
   "source": [
    "square(2)"
   ]
  },
  {
   "cell_type": "markdown",
   "id": "b9a58908",
   "metadata": {},
   "source": [
    "But also, by getting the <b>f</b> pointing to the same memeory reference as our function, we can now use that variable to invoke the function <b>square()</b>"
   ]
  },
  {
   "cell_type": "code",
   "execution_count": 254,
   "id": "c1efc663",
   "metadata": {},
   "outputs": [
    {
     "data": {
      "text/plain": [
       "4"
      ]
     },
     "execution_count": 254,
     "metadata": {},
     "output_type": "execute_result"
    }
   ],
   "source": [
    "f(2)"
   ]
  },
  {
   "cell_type": "markdown",
   "id": "b9deab72",
   "metadata": {},
   "source": [
    "A function can also return a function"
   ]
  },
  {
   "cell_type": "code",
   "execution_count": 255,
   "id": "87938aed",
   "metadata": {},
   "outputs": [],
   "source": [
    "def cube(a):\n",
    "    return a ** 3"
   ]
  },
  {
   "cell_type": "code",
   "execution_count": 257,
   "id": "731c6fbf",
   "metadata": {},
   "outputs": [],
   "source": [
    "def select_function(fn_id):\n",
    "    if fn_id == 1:\n",
    "        return square\n",
    "    else: \n",
    "        return cube"
   ]
  },
  {
   "cell_type": "code",
   "execution_count": 258,
   "id": "3b296c99",
   "metadata": {},
   "outputs": [],
   "source": [
    "f = select_function(1)"
   ]
  },
  {
   "cell_type": "code",
   "execution_count": 259,
   "id": "d47a4efb",
   "metadata": {},
   "outputs": [
    {
     "data": {
      "text/plain": [
       "True"
      ]
     },
     "execution_count": 259,
     "metadata": {},
     "output_type": "execute_result"
    }
   ],
   "source": [
    "f is square"
   ]
  },
  {
   "cell_type": "code",
   "execution_count": 260,
   "id": "e4b048b4",
   "metadata": {},
   "outputs": [
    {
     "data": {
      "text/plain": [
       "False"
      ]
     },
     "execution_count": 260,
     "metadata": {},
     "output_type": "execute_result"
    }
   ],
   "source": [
    "f is cube"
   ]
  },
  {
   "cell_type": "code",
   "execution_count": 261,
   "id": "81181cbc",
   "metadata": {},
   "outputs": [
    {
     "data": {
      "text/plain": [
       "4"
      ]
     },
     "execution_count": 261,
     "metadata": {},
     "output_type": "execute_result"
    }
   ],
   "source": [
    "f(2)"
   ]
  },
  {
   "cell_type": "code",
   "execution_count": 262,
   "id": "e692e0b7",
   "metadata": {},
   "outputs": [],
   "source": [
    "f = select_function(2)"
   ]
  },
  {
   "cell_type": "code",
   "execution_count": 263,
   "id": "8a162a1f",
   "metadata": {},
   "outputs": [
    {
     "data": {
      "text/plain": [
       "True"
      ]
     },
     "execution_count": 263,
     "metadata": {},
     "output_type": "execute_result"
    }
   ],
   "source": [
    "f is cube"
   ]
  },
  {
   "cell_type": "code",
   "execution_count": 264,
   "id": "5da5122e",
   "metadata": {},
   "outputs": [
    {
     "data": {
      "text/plain": [
       "False"
      ]
     },
     "execution_count": 264,
     "metadata": {},
     "output_type": "execute_result"
    }
   ],
   "source": [
    "f is square"
   ]
  },
  {
   "cell_type": "code",
   "execution_count": 265,
   "id": "c38c45f4",
   "metadata": {},
   "outputs": [
    {
     "data": {
      "text/plain": [
       "8"
      ]
     },
     "execution_count": 265,
     "metadata": {},
     "output_type": "execute_result"
    }
   ],
   "source": [
    "f(2)"
   ]
  },
  {
   "cell_type": "code",
   "execution_count": 266,
   "id": "b749a031",
   "metadata": {},
   "outputs": [
    {
     "data": {
      "text/plain": [
       "27"
      ]
     },
     "execution_count": 266,
     "metadata": {},
     "output_type": "execute_result"
    }
   ],
   "source": [
    "select_function(2)(3)"
   ]
  },
  {
   "cell_type": "code",
   "execution_count": 267,
   "id": "c2aa27c7",
   "metadata": {},
   "outputs": [],
   "source": [
    "def exec_function(fn,n):\n",
    "    return fn(n)"
   ]
  },
  {
   "cell_type": "code",
   "execution_count": 268,
   "id": "23d7812c",
   "metadata": {},
   "outputs": [
    {
     "data": {
      "text/plain": [
       "27"
      ]
     },
     "execution_count": 268,
     "metadata": {},
     "output_type": "execute_result"
    }
   ],
   "source": [
    "exec_function(cube,3)"
   ]
  },
  {
   "cell_type": "code",
   "execution_count": 269,
   "id": "09f15cd9",
   "metadata": {},
   "outputs": [
    {
     "data": {
      "text/plain": [
       "9"
      ]
     },
     "execution_count": 269,
     "metadata": {},
     "output_type": "execute_result"
    }
   ],
   "source": [
    "exec_function(square,3)"
   ]
  },
  {
   "cell_type": "markdown",
   "id": "83e337f6",
   "metadata": {},
   "source": [
    "----\n",
    "# Python Optimizations: Interning"
   ]
  },
  {
   "cell_type": "code",
   "execution_count": 270,
   "id": "d65f266c",
   "metadata": {},
   "outputs": [],
   "source": [
    "a = 10\n",
    "b = 10"
   ]
  },
  {
   "cell_type": "markdown",
   "id": "e71d082d",
   "metadata": {},
   "source": [
    "We earlier saw that in the example above, <b>a</b> and <b>b</b> have a shared reference."
   ]
  },
  {
   "cell_type": "markdown",
   "id": "4936cda1",
   "metadata": {},
   "source": [
    "But look at this:"
   ]
  },
  {
   "cell_type": "code",
   "execution_count": 271,
   "id": "ad615fd1",
   "metadata": {},
   "outputs": [],
   "source": [
    "a = 500\n",
    "b = 500"
   ]
  },
  {
   "cell_type": "markdown",
   "id": "59c7a7c4",
   "metadata": {},
   "source": [
    "Python does not create a shared reference in this example, it has a different memory address, unlike the example where <b>a,b = 10</b>"
   ]
  },
  {
   "cell_type": "markdown",
   "id": "169b22f6",
   "metadata": {},
   "source": [
    "What's going on?\n",
    "<br>\n",
    "<b>Interning:</b> reusing objects on-demand\n",
    "<br>\n",
    "At startup, Python (CPython), pre-loads (caches) a global list of integers in the range [-5, 256]\n",
    "<br>\n",
    "Any time an integer is referenfced in that range, Python will use the cached version of that object\n",
    "<br>\n",
    "Esencially, the integers in the range are <b>Singletons</b> objects\n",
    "<br>\n",
    "Why do Singletons? Optimization strategy - small integers show up often\n",
    "\n",
    "<br>\n",
    "<br>\n",
    "When we write a = 10, Python just has to point to the existing reference for 10\n",
    "\n",
    "But if we write a = 257, Python does no use that global list and a new object is created all the time"
   ]
  },
  {
   "cell_type": "code",
   "execution_count": 278,
   "id": "c55f00b2",
   "metadata": {},
   "outputs": [
    {
     "data": {
      "text/plain": [
       "[-5, 256]"
      ]
     },
     "execution_count": 278,
     "metadata": {},
     "output_type": "execute_result"
    }
   ],
   "source": [
    "[-5, 256]"
   ]
  },
  {
   "cell_type": "code",
   "execution_count": 279,
   "id": "38183094",
   "metadata": {},
   "outputs": [],
   "source": [
    "a = 10\n",
    "b = 10"
   ]
  },
  {
   "cell_type": "code",
   "execution_count": 280,
   "id": "0c923c29",
   "metadata": {},
   "outputs": [
    {
     "data": {
      "text/plain": [
       "True"
      ]
     },
     "execution_count": 280,
     "metadata": {},
     "output_type": "execute_result"
    }
   ],
   "source": [
    "a is b"
   ]
  },
  {
   "cell_type": "markdown",
   "id": "08e64fe7",
   "metadata": {},
   "source": [
    "The python memory manager will point to the shared reference."
   ]
  },
  {
   "cell_type": "code",
   "execution_count": 282,
   "id": "83393340",
   "metadata": {},
   "outputs": [],
   "source": [
    "a = -5\n",
    "b = -5"
   ]
  },
  {
   "cell_type": "code",
   "execution_count": 283,
   "id": "29e4052e",
   "metadata": {},
   "outputs": [
    {
     "data": {
      "text/plain": [
       "True"
      ]
     },
     "execution_count": 283,
     "metadata": {},
     "output_type": "execute_result"
    }
   ],
   "source": [
    "a is b"
   ]
  },
  {
   "cell_type": "code",
   "execution_count": 284,
   "id": "bd4d2c06",
   "metadata": {},
   "outputs": [],
   "source": [
    "a = 256\n",
    "b = 256"
   ]
  },
  {
   "cell_type": "code",
   "execution_count": 285,
   "id": "4e4b9b80",
   "metadata": {},
   "outputs": [
    {
     "data": {
      "text/plain": [
       "True"
      ]
     },
     "execution_count": 285,
     "metadata": {},
     "output_type": "execute_result"
    }
   ],
   "source": [
    "a is b"
   ]
  },
  {
   "cell_type": "code",
   "execution_count": 286,
   "id": "9052a937",
   "metadata": {},
   "outputs": [],
   "source": [
    "a = 257\n",
    "b = 257"
   ]
  },
  {
   "cell_type": "code",
   "execution_count": 287,
   "id": "3981902d",
   "metadata": {},
   "outputs": [
    {
     "data": {
      "text/plain": [
       "False"
      ]
     },
     "execution_count": 287,
     "metadata": {},
     "output_type": "execute_result"
    }
   ],
   "source": [
    "a is b"
   ]
  },
  {
   "cell_type": "markdown",
   "id": "eb5c98d9",
   "metadata": {},
   "source": [
    "When the value is above the range, we are no longer using this Singleton collection"
   ]
  },
  {
   "cell_type": "code",
   "execution_count": 290,
   "id": "38200b0a",
   "metadata": {},
   "outputs": [],
   "source": [
    "a = 10\n",
    "b = int(10)\n",
    "c = int('10')\n",
    "d = int('1010', base = 2)"
   ]
  },
  {
   "cell_type": "code",
   "execution_count": 291,
   "id": "ca6da3a2",
   "metadata": {},
   "outputs": [
    {
     "name": "stdout",
     "output_type": "stream",
     "text": [
      "10 10 10 10\n"
     ]
    }
   ],
   "source": [
    "print(a,b,c,d)"
   ]
  },
  {
   "cell_type": "code",
   "execution_count": 292,
   "id": "571fdfe2",
   "metadata": {},
   "outputs": [
    {
     "name": "stdout",
     "output_type": "stream",
     "text": [
      "4381592144 4381592144 4381592144 4381592144\n"
     ]
    }
   ],
   "source": [
    "print(id(a), id(b), id(c), id(d))"
   ]
  },
  {
   "cell_type": "markdown",
   "id": "e90d8ada",
   "metadata": {},
   "source": [
    "The memory address of the variables are the same"
   ]
  },
  {
   "cell_type": "markdown",
   "id": "3a4fb61f",
   "metadata": {},
   "source": [
    "----\n",
    "# Python Optimizations: String Interning"
   ]
  },
  {
   "cell_type": "markdown",
   "id": "e07ec7f7",
   "metadata": {},
   "source": [
    "Some string are also automatically interned - but not all!"
   ]
  },
  {
   "cell_type": "markdown",
   "id": "b4cc5962",
   "metadata": {},
   "source": [
    "As the Python code is compiled, <b>identifiers</b> are interned\n",
    "<br>\n",
    "    - variable names\n",
    "    <br>\n",
    "    - function names\n",
    "    <br>\n",
    "    - class names\n",
    "    <br>\n",
    "    - etc.\n",
    "    <br>\n",
    "    <br>\n",
    "<b>    Identifiers:</b>\n",
    "<br>\n",
    "    - must start with _ or a letter\n",
    "    <br>\n",
    "    - can only contain _ letters and numbers\n",
    "    \n",
    "<br>\n",
    "Some strings literals may also be automatically intened:\n",
    "<br>\n",
    "    - string literals that look like identifiers(e.g. 'hello_world')\n",
    "    <br>\n",
    "    - although if it starts with a digit, even though tat is not a valid identifier, it may still get interned.\n",
    "    \n",
    "<br>\n",
    "<br>\n",
    "But don't count on it"
   ]
  },
  {
   "cell_type": "markdown",
   "id": "70ee2e44",
   "metadata": {},
   "source": [
    "Why do this?\n",
    "It's all about (speed and, possibly, memory) optimization.\n",
    "Python, both internally, and in the code you write, deals with lots and lots of dictionary type lookups, on string keys, which means a lot of string equality testing.\n",
    "<br>\n",
    "<br>\n",
    "Let's say we want to see if two string are equal:\n",
    "<br>\n",
    "<br>\n",
    "a = 'some_long_string',  b = 'some_long_string'\n",
    "<br>\n",
    "<br>\n",
    "Using <b>a == b</b>, we need to compare the two strings <b>char by char</b>\n",
    "<br>\n",
    "<br>\n",
    "But if we know that 'some_long_string' has been <b>interned</b>, then <b>a</b> and <b>b</b> are the same srting if they both point to the <b>same memory address</b>.\n",
    "<br>\n",
    "<br>\n",
    "In which case we can use <b>a is b</b> instead - which compares two <b>integers</b> (memory address)\n",
    "\n",
    "<br>\n",
    "<br>\n",
    "This is much faster than comparing char by char"
   ]
  },
  {
   "cell_type": "markdown",
   "id": "8ad1b31c",
   "metadata": {},
   "source": [
    "Not all strings are automatically interned by Python.\n",
    "<br>\n",
    "<br>\n",
    "But you can force strings to be interned by using the <b>sys.intern()</b> method.\n"
   ]
  },
  {
   "cell_type": "code",
   "execution_count": 294,
   "id": "7908f15b",
   "metadata": {},
   "outputs": [
    {
     "data": {
      "text/plain": [
       "True"
      ]
     },
     "execution_count": 294,
     "metadata": {},
     "output_type": "execute_result"
    }
   ],
   "source": [
    "import sys\n",
    "a = sys.intern('the_quick_brown_fox')\n",
    "b = sys.intern('the_quick_brown_fox')\n",
    "\n",
    "a is b"
   ]
  },
  {
   "cell_type": "markdown",
   "id": "d8ca3ac7",
   "metadata": {},
   "source": [
    "In general, do not do it"
   ]
  },
  {
   "cell_type": "markdown",
   "id": "82aba4a6",
   "metadata": {},
   "source": [
    "When should you do this?\n",
    "<br>\n",
    "    - dealing with a large number of strings that could have high repetition e.g. tokenizing a large corpus of text(NLP)\n",
    "    <br>\n",
    "    - lots of string comparisons"
   ]
  },
  {
   "cell_type": "code",
   "execution_count": 1,
   "id": "346155e1",
   "metadata": {},
   "outputs": [],
   "source": [
    "a = 'hello'\n",
    "b = 'hello'"
   ]
  },
  {
   "cell_type": "code",
   "execution_count": 2,
   "id": "997699e9",
   "metadata": {},
   "outputs": [
    {
     "data": {
      "text/plain": [
       "True"
      ]
     },
     "execution_count": 2,
     "metadata": {},
     "output_type": "execute_result"
    }
   ],
   "source": [
    "a is b"
   ]
  },
  {
   "cell_type": "code",
   "execution_count": 4,
   "id": "290b8944",
   "metadata": {},
   "outputs": [],
   "source": [
    "a = 'hello world'\n",
    "b = 'hello world'"
   ]
  },
  {
   "cell_type": "code",
   "execution_count": 5,
   "id": "87b2fdec",
   "metadata": {},
   "outputs": [
    {
     "data": {
      "text/plain": [
       "False"
      ]
     },
     "execution_count": 5,
     "metadata": {},
     "output_type": "execute_result"
    }
   ],
   "source": [
    "a is b"
   ]
  },
  {
   "cell_type": "markdown",
   "id": "b5466974",
   "metadata": {},
   "source": [
    "a and b dont look like an identifier, so they don't intern"
   ]
  },
  {
   "cell_type": "code",
   "execution_count": 8,
   "id": "9bcb05fc",
   "metadata": {},
   "outputs": [
    {
     "data": {
      "text/plain": [
       "True"
      ]
     },
     "execution_count": 8,
     "metadata": {},
     "output_type": "execute_result"
    }
   ],
   "source": [
    "a == b"
   ]
  },
  {
   "cell_type": "code",
   "execution_count": 10,
   "id": "bb0ab62f",
   "metadata": {},
   "outputs": [],
   "source": [
    "a = '_this_is_a_long_string_that_could_be_used_as_an_identifier'\n",
    "b = '_this_is_a_long_string_that_could_be_used_as_an_identifier'"
   ]
  },
  {
   "cell_type": "code",
   "execution_count": 11,
   "id": "52bfe7dd",
   "metadata": {},
   "outputs": [
    {
     "data": {
      "text/plain": [
       "True"
      ]
     },
     "execution_count": 11,
     "metadata": {},
     "output_type": "execute_result"
    }
   ],
   "source": [
    "a is b"
   ]
  },
  {
   "cell_type": "markdown",
   "id": "6e4cdea1",
   "metadata": {},
   "source": [
    "As long as it looks like an identifier, it will get interned."
   ]
  },
  {
   "cell_type": "code",
   "execution_count": 12,
   "id": "8850840b",
   "metadata": {},
   "outputs": [],
   "source": [
    "import sys\n",
    "a = sys.intern('the quick brown fox')\n",
    "b = sys.intern('the quick brown fox')\n",
    "c = 'the quick brown fox'"
   ]
  },
  {
   "cell_type": "markdown",
   "id": "db36a3ca",
   "metadata": {},
   "source": [
    "Since two variables are interned, we can now use the identifier <b>is</b> to compare the strings with blank spaces."
   ]
  },
  {
   "cell_type": "code",
   "execution_count": 13,
   "id": "3cbd6859",
   "metadata": {},
   "outputs": [
    {
     "data": {
      "text/plain": [
       "True"
      ]
     },
     "execution_count": 13,
     "metadata": {},
     "output_type": "execute_result"
    }
   ],
   "source": [
    "a is b"
   ]
  },
  {
   "cell_type": "code",
   "execution_count": 14,
   "id": "92c7fe41",
   "metadata": {},
   "outputs": [
    {
     "data": {
      "text/plain": [
       "False"
      ]
     },
     "execution_count": 14,
     "metadata": {},
     "output_type": "execute_result"
    }
   ],
   "source": [
    "b is c"
   ]
  },
  {
   "cell_type": "code",
   "execution_count": 15,
   "id": "d1e98929",
   "metadata": {},
   "outputs": [
    {
     "data": {
      "text/plain": [
       "False"
      ]
     },
     "execution_count": 15,
     "metadata": {},
     "output_type": "execute_result"
    }
   ],
   "source": [
    "a is c"
   ]
  },
  {
   "cell_type": "code",
   "execution_count": 16,
   "id": "10f322b4",
   "metadata": {},
   "outputs": [
    {
     "data": {
      "text/plain": [
       "True"
      ]
     },
     "execution_count": 16,
     "metadata": {},
     "output_type": "execute_result"
    }
   ],
   "source": [
    "a == b"
   ]
  },
  {
   "cell_type": "code",
   "execution_count": 17,
   "id": "784753d0",
   "metadata": {},
   "outputs": [
    {
     "data": {
      "text/plain": [
       "True"
      ]
     },
     "execution_count": 17,
     "metadata": {},
     "output_type": "execute_result"
    }
   ],
   "source": [
    "a == c"
   ]
  },
  {
   "cell_type": "code",
   "execution_count": 18,
   "id": "e8c96d33",
   "metadata": {},
   "outputs": [
    {
     "data": {
      "text/plain": [
       "True"
      ]
     },
     "execution_count": 18,
     "metadata": {},
     "output_type": "execute_result"
    }
   ],
   "source": [
    "c == b"
   ]
  },
  {
   "cell_type": "code",
   "execution_count": 20,
   "id": "24176c76",
   "metadata": {},
   "outputs": [],
   "source": [
    "def compare_using_equals(n):\n",
    "    a = 'a long string that is not interned' * 200\n",
    "    b = 'a long string that is not interned' * 200\n",
    "    for i in range(n):\n",
    "        if a == b: pass\n"
   ]
  },
  {
   "cell_type": "code",
   "execution_count": 21,
   "id": "bbd1de2e",
   "metadata": {},
   "outputs": [],
   "source": [
    "def compare_using_interning(n):\n",
    "    a = sys.intern('a long string that is not interned' * 200)\n",
    "    b = sys.intern('a long string that is not interned' * 200)\n",
    "    for i in range(n):\n",
    "        if a is b: pass"
   ]
  },
  {
   "cell_type": "code",
   "execution_count": 22,
   "id": "8d605e98",
   "metadata": {},
   "outputs": [
    {
     "name": "stdout",
     "output_type": "stream",
     "text": [
      "compare_using_equals:  3.793197652999993\n"
     ]
    }
   ],
   "source": [
    "import time\n",
    "start = time.perf_counter()\n",
    "compare_using_equals(10000000)\n",
    "end = time.perf_counter()\n",
    "print('compare_using_equals: ', end-start)"
   ]
  },
  {
   "cell_type": "code",
   "execution_count": 23,
   "id": "9eb6fd44",
   "metadata": {},
   "outputs": [
    {
     "name": "stdout",
     "output_type": "stream",
     "text": [
      "compare_using_interning:  0.5455031899999767\n"
     ]
    }
   ],
   "source": [
    "start = time.perf_counter()\n",
    "compare_using_interning(10000000)\n",
    "end = time.perf_counter()\n",
    "print('compare_using_interning: ', end-start)"
   ]
  },
  {
   "cell_type": "markdown",
   "id": "37a8eec7",
   "metadata": {},
   "source": [
    "----\n",
    "# Python Optimizations: Peephole\n",
    "*Python 3.6"
   ]
  },
  {
   "cell_type": "markdown",
   "id": "f9bca8e8",
   "metadata": {},
   "source": [
    "This is another variety of optimizations that can occur at compile time"
   ]
  },
  {
   "cell_type": "markdown",
   "id": "1e38ebad",
   "metadata": {},
   "source": [
    "<b>Constant expressions</b>\n",
    "<br>\n",
    "numeric calculations: 24 * 60, Python will actually pre-calculate -> 1440\n",
    "<br>\n",
    "short sequences length < 20: (1,2) * 5 -> (1,2,1,2,1,2,1,2,1,2), 'abc'* -> 3 abcabcabc\n",
    "<br>\n",
    "but not 'the quick brown fox * 10 (more than 20 chars)"
   ]
  },
  {
   "cell_type": "markdown",
   "id": "f89344fe",
   "metadata": {},
   "source": [
    "<b>Membership Tests: Mutables are replaced by immutables</b>\n",
    "<br>\n",
    "When membership tests such as:\n",
    "    <br>\n",
    "        if e in [1,2,3]:\n",
    "    <br>\n",
    "are encountered, the [1,2,3] constant is replaced by its immutable counterpart\n",
    "<br>\n",
    "(1,2,3) tuple\n",
    "<br>\n",
    "    - lists -> tuples\n",
    "    <br>\n",
    "    - sets -> frozensets\n",
    "<br>\n",
    "Set membership is much faster than list or tuple membership (sets are basically dicitoonaries)\n",
    "<br>\n",
    "So, instead of writing:\n",
    "    if e in [1,2,3]: or if e in (1,2,3):\n",
    "    <br>\n",
    "    write if e in {1,2,3}_\n"
   ]
  },
  {
   "cell_type": "code",
   "execution_count": 24,
   "id": "af5bd4aa",
   "metadata": {},
   "outputs": [],
   "source": [
    "def my_func():\n",
    "    a = 24 * 69\n",
    "    b = (1,2) * 5\n",
    "    c = 'abc' * 3\n",
    "    d = 'ab' * 11\n",
    "    e = 'the quick brown fox' * 5\n",
    "    f = ['a', 'b'] * 3"
   ]
  },
  {
   "cell_type": "markdown",
   "id": "e85e5795",
   "metadata": {},
   "source": [
    "Let's access all the constants that are asociated with the function at the time is being compiled"
   ]
  },
  {
   "cell_type": "code",
   "execution_count": 25,
   "id": "c78d2c9c",
   "metadata": {},
   "outputs": [
    {
     "data": {
      "text/plain": [
       "(None,\n",
       " 1656,\n",
       " (1, 2, 1, 2, 1, 2, 1, 2, 1, 2),\n",
       " 'abcabcabc',\n",
       " 'ababababababababababab',\n",
       " 'the quick brown foxthe quick brown foxthe quick brown foxthe quick brown foxthe quick brown fox',\n",
       " 'a',\n",
       " 'b',\n",
       " 3)"
      ]
     },
     "execution_count": 25,
     "metadata": {},
     "output_type": "execute_result"
    }
   ],
   "source": [
    "my_func.__code__.co_consts"
   ]
  },
  {
   "cell_type": "code",
   "execution_count": 26,
   "id": "a8d5a7ab",
   "metadata": {},
   "outputs": [],
   "source": [
    "def my_func(e):\n",
    "    if e in [1,2,3]:\n",
    "        pass"
   ]
  },
  {
   "cell_type": "code",
   "execution_count": 27,
   "id": "a2489431",
   "metadata": {},
   "outputs": [
    {
     "data": {
      "text/plain": [
       "(None, (1, 2, 3))"
      ]
     },
     "execution_count": 27,
     "metadata": {},
     "output_type": "execute_result"
    }
   ],
   "source": [
    "my_func.__code__.co_consts"
   ]
  },
  {
   "cell_type": "code",
   "execution_count": 28,
   "id": "9d09380b",
   "metadata": {},
   "outputs": [],
   "source": [
    "def my_func(e):\n",
    "    if e in {1,2,3}:\n",
    "        pass"
   ]
  },
  {
   "cell_type": "code",
   "execution_count": 29,
   "id": "17d9d26a",
   "metadata": {},
   "outputs": [
    {
     "data": {
      "text/plain": [
       "(None, frozenset({1, 2, 3}))"
      ]
     },
     "execution_count": 29,
     "metadata": {},
     "output_type": "execute_result"
    }
   ],
   "source": [
    "my_func.__code__.co_consts"
   ]
  },
  {
   "cell_type": "code",
   "execution_count": 30,
   "id": "25bc959f",
   "metadata": {},
   "outputs": [],
   "source": [
    "import string\n",
    "import time"
   ]
  },
  {
   "cell_type": "code",
   "execution_count": 33,
   "id": "20d08bdf",
   "metadata": {},
   "outputs": [
    {
     "data": {
      "text/plain": [
       "'abcdefghijklmnopqrstuvwxyzABCDEFGHIJKLMNOPQRSTUVWXYZ'"
      ]
     },
     "execution_count": 33,
     "metadata": {},
     "output_type": "execute_result"
    }
   ],
   "source": [
    "string.ascii_letters"
   ]
  },
  {
   "cell_type": "code",
   "execution_count": 42,
   "id": "3388b36a",
   "metadata": {},
   "outputs": [
    {
     "name": "stdout",
     "output_type": "stream",
     "text": [
      "['a', 'b', 'c', 'd', 'e', 'f', 'g', 'h', 'i', 'j', 'k', 'l', 'm', 'n', 'o', 'p', 'q', 'r', 's', 't', 'u', 'v', 'w', 'x', 'y', 'z', 'A', 'B', 'C', 'D', 'E', 'F', 'G', 'H', 'I', 'J', 'K', 'L', 'M', 'N', 'O', 'P', 'Q', 'R', 'S', 'T', 'U', 'V', 'W', 'X', 'Y', 'Z']\n"
     ]
    }
   ],
   "source": [
    "char_list = list(string.ascii_letters)\n",
    "print(char_list)"
   ]
  },
  {
   "cell_type": "code",
   "execution_count": 43,
   "id": "729b5c58",
   "metadata": {},
   "outputs": [
    {
     "name": "stdout",
     "output_type": "stream",
     "text": [
      "('a', 'b', 'c', 'd', 'e', 'f', 'g', 'h', 'i', 'j', 'k', 'l', 'm', 'n', 'o', 'p', 'q', 'r', 's', 't', 'u', 'v', 'w', 'x', 'y', 'z', 'A', 'B', 'C', 'D', 'E', 'F', 'G', 'H', 'I', 'J', 'K', 'L', 'M', 'N', 'O', 'P', 'Q', 'R', 'S', 'T', 'U', 'V', 'W', 'X', 'Y', 'Z')\n"
     ]
    }
   ],
   "source": [
    "char_tuple = tuple(string.ascii_letters)\n",
    "print(char_tuple)"
   ]
  },
  {
   "cell_type": "code",
   "execution_count": 44,
   "id": "c4bcc431",
   "metadata": {},
   "outputs": [
    {
     "name": "stdout",
     "output_type": "stream",
     "text": [
      "{'j', 'i', 'o', 'q', 'S', 'z', 'n', 'E', 'R', 'c', 'd', 'W', 'k', 'X', 'm', 'y', 'O', 'g', 'K', 'r', 'l', 'x', 'I', 'D', 'f', 'v', 'L', 'w', 'u', 'e', 'G', 'U', 's', 'A', 'a', 'Z', 'p', 'J', 'M', 'b', 'F', 't', 'H', 'N', 'T', 'P', 'Q', 'B', 'h', 'C', 'V', 'Y'}\n"
     ]
    }
   ],
   "source": [
    "char_set = set(string.ascii_letters)\n",
    "print(char_set)"
   ]
  },
  {
   "cell_type": "markdown",
   "id": "79eb6e7a",
   "metadata": {},
   "source": [
    "In set there is not guaranteed of order in the elements. There is no particular order"
   ]
  },
  {
   "cell_type": "code",
   "execution_count": 47,
   "id": "ae7db233",
   "metadata": {},
   "outputs": [],
   "source": [
    "def membership_test(n, container):\n",
    "    for i in range(n):\n",
    "        if 'z' in container:\n",
    "            pass"
   ]
  },
  {
   "cell_type": "code",
   "execution_count": 48,
   "id": "cdcfaeac",
   "metadata": {},
   "outputs": [
    {
     "name": "stdout",
     "output_type": "stream",
     "text": [
      "list:  5.540202876999956\n"
     ]
    }
   ],
   "source": [
    "start = time.perf_counter()\n",
    "membership_test(10000000, char_list)\n",
    "end = time.perf_counter()\n",
    "print('list: ', end-start)"
   ]
  },
  {
   "cell_type": "code",
   "execution_count": 49,
   "id": "22e2ad37",
   "metadata": {},
   "outputs": [
    {
     "name": "stdout",
     "output_type": "stream",
     "text": [
      "tuple:  5.0700585359995785\n"
     ]
    }
   ],
   "source": [
    "start = time.perf_counter()\n",
    "membership_test(10000000, char_tuple)\n",
    "end = time.perf_counter()\n",
    "print('tuple: ', end-start)"
   ]
  },
  {
   "cell_type": "code",
   "execution_count": 51,
   "id": "1dff3749",
   "metadata": {},
   "outputs": [
    {
     "name": "stdout",
     "output_type": "stream",
     "text": [
      "set:  0.5337646819998554\n"
     ]
    }
   ],
   "source": [
    "start = time.perf_counter()\n",
    "membership_test(10000000, char_set)\n",
    "end = time.perf_counter()\n",
    "print('set: ', end-start)"
   ]
  },
  {
   "cell_type": "code",
   "execution_count": null,
   "id": "d55ed481",
   "metadata": {},
   "outputs": [],
   "source": []
  }
 ],
 "metadata": {
  "kernelspec": {
   "display_name": "Python 3",
   "language": "python",
   "name": "python3"
  },
  "language_info": {
   "codemirror_mode": {
    "name": "ipython",
    "version": 3
   },
   "file_extension": ".py",
   "mimetype": "text/x-python",
   "name": "python",
   "nbconvert_exporter": "python",
   "pygments_lexer": "ipython3",
   "version": "3.9.7"
  }
 },
 "nbformat": 4,
 "nbformat_minor": 5
}
