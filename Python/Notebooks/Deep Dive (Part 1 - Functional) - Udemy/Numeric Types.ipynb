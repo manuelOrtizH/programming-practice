{
 "cells": [
  {
   "cell_type": "markdown",
   "id": "bdc67a90",
   "metadata": {},
   "source": [
    "# Numeric Types "
   ]
  },
  {
   "cell_type": "markdown",
   "id": "65f1a47b",
   "metadata": {},
   "source": [
    "----\n",
    "## Numbers"
   ]
  },
  {
   "cell_type": "markdown",
   "id": "d0eaa606",
   "metadata": {},
   "source": [
    "Integer Numbers. Python Type: int\n",
    "<br>\n",
    "Rational Numbers. Python Type: fractions.Fraction\n",
    "<br>\n",
    "Real Numbers. Python Type: float decimal.Decimal\n",
    "<br>\n",
    "Complex Numbers. Python Type: complex\n",
    "<br>\n",
    "Boolean. "
   ]
  },
  {
   "cell_type": "markdown",
   "id": "f1e05dc9",
   "metadata": {},
   "source": [
    "----\n",
    "## Integer: Data Types"
   ]
  },
  {
   "cell_type": "markdown",
   "id": "76628540",
   "metadata": {},
   "source": [
    "Integers are represented internally using base-2 (binary) digits, not decimal."
   ]
  },
  {
   "cell_type": "markdown",
   "id": "c5a5633f",
   "metadata": {},
   "source": [
    "The int object uses a variable number of bits.\n",
    "<br>\n",
    "Can use 4 bytes (32 bits), 8 bytes (64 bits), 12 bytes (96 bits), etc.\n",
    "<br>\n",
    "Since ints are actually objects, there is a further fixed overhead per integer\n",
    "<br>\n",
    "Theoretically limited only by the amount of memeory available."
   ]
  },
  {
   "cell_type": "code",
   "execution_count": 2,
   "id": "a5823474",
   "metadata": {},
   "outputs": [
    {
     "name": "stdout",
     "output_type": "stream",
     "text": [
      "<class 'int'>\n"
     ]
    }
   ],
   "source": [
    "print(type(100))"
   ]
  },
  {
   "cell_type": "code",
   "execution_count": 3,
   "id": "789d216e",
   "metadata": {},
   "outputs": [],
   "source": [
    "import sys"
   ]
  },
  {
   "cell_type": "code",
   "execution_count": 4,
   "id": "8774b23f",
   "metadata": {},
   "outputs": [
    {
     "data": {
      "text/plain": [
       "24"
      ]
     },
     "execution_count": 4,
     "metadata": {},
     "output_type": "execute_result"
    }
   ],
   "source": [
    "sys.getsizeof(0)"
   ]
  },
  {
   "cell_type": "markdown",
   "id": "2ec67446",
   "metadata": {},
   "source": [
    "Allow us to find out how much memory is used to store a particular value.\n",
    "<br>\n",
    "The result is 24 bytes."
   ]
  },
  {
   "cell_type": "code",
   "execution_count": 5,
   "id": "9e6d42bd",
   "metadata": {},
   "outputs": [
    {
     "data": {
      "text/plain": [
       "28"
      ]
     },
     "execution_count": 5,
     "metadata": {},
     "output_type": "execute_result"
    }
   ],
   "source": [
    "sys.getsizeof(1)"
   ]
  },
  {
   "cell_type": "code",
   "execution_count": 6,
   "id": "3f6f7ed2",
   "metadata": {},
   "outputs": [
    {
     "data": {
      "text/plain": [
       "160"
      ]
     },
     "execution_count": 6,
     "metadata": {},
     "output_type": "execute_result"
    }
   ],
   "source": [
    "sys.getsizeof(2**1000)"
   ]
  },
  {
   "cell_type": "code",
   "execution_count": 7,
   "id": "17ec6589",
   "metadata": {},
   "outputs": [
    {
     "data": {
      "text/plain": [
       "1088"
      ]
     },
     "execution_count": 7,
     "metadata": {},
     "output_type": "execute_result"
    }
   ],
   "source": [
    "(160 - 24) * 8"
   ]
  },
  {
   "cell_type": "markdown",
   "id": "361678cd",
   "metadata": {},
   "source": [
    "We used 1088 bits to store 160 bytes"
   ]
  },
  {
   "cell_type": "code",
   "execution_count": 8,
   "id": "447e7afb",
   "metadata": {},
   "outputs": [],
   "source": [
    "import time"
   ]
  },
  {
   "cell_type": "code",
   "execution_count": 9,
   "id": "c8a4bab3",
   "metadata": {},
   "outputs": [],
   "source": [
    "def calc(a):\n",
    "    for i in range(10000000):\n",
    "        a * 2"
   ]
  },
  {
   "cell_type": "code",
   "execution_count": 10,
   "id": "fa572fb6",
   "metadata": {},
   "outputs": [
    {
     "name": "stdout",
     "output_type": "stream",
     "text": [
      "0.5089969329999349\n"
     ]
    }
   ],
   "source": [
    "start = time.perf_counter()\n",
    "calc(10)\n",
    "end = time.perf_counter()\n",
    "print(end - start)"
   ]
  },
  {
   "cell_type": "code",
   "execution_count": 12,
   "id": "51ae30b2",
   "metadata": {},
   "outputs": [
    {
     "name": "stdout",
     "output_type": "stream",
     "text": [
      "0.8276703349999934\n"
     ]
    }
   ],
   "source": [
    "start = time.perf_counter()\n",
    "calc(2**100)\n",
    "end = time.perf_counter()\n",
    "print(end - start)"
   ]
  },
  {
   "cell_type": "code",
   "execution_count": 13,
   "id": "29ea638c",
   "metadata": {},
   "outputs": [
    {
     "name": "stdout",
     "output_type": "stream",
     "text": [
      "5.805058163000012\n"
     ]
    }
   ],
   "source": [
    "start = time.perf_counter()\n",
    "calc(2**10000)\n",
    "end = time.perf_counter()\n",
    "print(end - start)"
   ]
  },
  {
   "cell_type": "markdown",
   "id": "77fc9cc2",
   "metadata": {},
   "source": [
    "## Integers: Operations"
   ]
  },
  {
   "cell_type": "markdown",
   "id": "71f0889d",
   "metadata": {},
   "source": [
    "First, let's revisit long integer division\n",
    "<br>\n",
    "155 = numerator\n",
    "<br>\n",
    "////\n",
    "<br>\n",
    "4 = denominator\n",
    "<br>\n",
    "155 / 4 = 38 with remainder 3"
   ]
  },
  {
   "cell_type": "markdown",
   "id": "e8db041b",
   "metadata": {},
   "source": [
    "Put another way:\n",
    "<br>\n",
    "155 = 4 * 38 + 3"
   ]
  },
  {
   "cell_type": "code",
   "execution_count": 16,
   "id": "6ccef49f",
   "metadata": {},
   "outputs": [
    {
     "data": {
      "text/plain": [
       "38"
      ]
     },
     "execution_count": 16,
     "metadata": {},
     "output_type": "execute_result"
    }
   ],
   "source": [
    "155 // 4"
   ]
  },
  {
   "cell_type": "markdown",
   "id": "9a6d42c9",
   "metadata": {},
   "source": [
    "Is called the floor division"
   ]
  },
  {
   "cell_type": "code",
   "execution_count": 17,
   "id": "fabc6898",
   "metadata": {},
   "outputs": [
    {
     "data": {
      "text/plain": [
       "3"
      ]
     },
     "execution_count": 17,
     "metadata": {},
     "output_type": "execute_result"
    }
   ],
   "source": [
    "155 % 4"
   ]
  },
  {
   "cell_type": "markdown",
   "id": "e314445b",
   "metadata": {},
   "source": [
    "Is called the modulo operator (mod)"
   ]
  },
  {
   "cell_type": "markdown",
   "id": "32487a40",
   "metadata": {},
   "source": [
    "155 = 4 * (155 // 4) + (155 % 4)"
   ]
  },
  {
   "cell_type": "markdown",
   "id": "b327a308",
   "metadata": {},
   "source": [
    "These operators always satisfy the operation above, which is the next equation:"
   ]
  },
  {
   "cell_type": "markdown",
   "id": "083344e7",
   "metadata": {},
   "source": [
    "n = d * (n // d) + (n % d)"
   ]
  },
  {
   "cell_type": "markdown",
   "id": "d6130463",
   "metadata": {},
   "source": [
    "Let's see the floor division with negative numbers"
   ]
  },
  {
   "cell_type": "markdown",
   "id": "31b89efc",
   "metadata": {},
   "source": [
    "The floor of a real number <b>a</b> is the largest (in the standard number order) integer <= <b>a</b>"
   ]
  },
  {
   "cell_type": "markdown",
   "id": "8ecae864",
   "metadata": {},
   "source": [
    "------O------o----O\n",
    "<br>\n",
    "---- -4 --- -3.1 -3\n",
    "<br>\n",
    "Tip: Floor, in a line where we go from 0 to 100 and 0 to -100, floor will always go for the integer number from the left."
   ]
  },
  {
   "cell_type": "code",
   "execution_count": 23,
   "id": "ed7d66f0",
   "metadata": {},
   "outputs": [
    {
     "data": {
      "text/plain": [
       "-4.0"
      ]
     },
     "execution_count": 23,
     "metadata": {},
     "output_type": "execute_result"
    }
   ],
   "source": [
    "-3.1//1"
   ]
  },
  {
   "cell_type": "markdown",
   "id": "11d9491b",
   "metadata": {},
   "source": [
    "So, floor iis not quite the same as truncation"
   ]
  },
  {
   "cell_type": "code",
   "execution_count": 24,
   "id": "2cfa267c",
   "metadata": {},
   "outputs": [],
   "source": [
    "a = 135\n",
    "b = 4"
   ]
  },
  {
   "cell_type": "code",
   "execution_count": 25,
   "id": "1796a889",
   "metadata": {},
   "outputs": [
    {
     "data": {
      "text/plain": [
       "33.75"
      ]
     },
     "execution_count": 25,
     "metadata": {},
     "output_type": "execute_result"
    }
   ],
   "source": [
    "135 / 4"
   ]
  },
  {
   "cell_type": "code",
   "execution_count": 26,
   "id": "4a8f7aaf",
   "metadata": {},
   "outputs": [
    {
     "data": {
      "text/plain": [
       "33"
      ]
     },
     "execution_count": 26,
     "metadata": {},
     "output_type": "execute_result"
    }
   ],
   "source": [
    "135 // 4 "
   ]
  },
  {
   "cell_type": "code",
   "execution_count": 29,
   "id": "3f602306",
   "metadata": {},
   "outputs": [
    {
     "data": {
      "text/plain": [
       "-34"
      ]
     },
     "execution_count": 29,
     "metadata": {},
     "output_type": "execute_result"
    }
   ],
   "source": [
    "-135 // 4"
   ]
  },
  {
   "cell_type": "code",
   "execution_count": 27,
   "id": "dbebaa19",
   "metadata": {},
   "outputs": [
    {
     "data": {
      "text/plain": [
       "3"
      ]
     },
     "execution_count": 27,
     "metadata": {},
     "output_type": "execute_result"
    }
   ],
   "source": [
    "135 % 4"
   ]
  },
  {
   "cell_type": "code",
   "execution_count": 30,
   "id": "fd22c2b1",
   "metadata": {},
   "outputs": [
    {
     "data": {
      "text/plain": [
       "1"
      ]
     },
     "execution_count": 30,
     "metadata": {},
     "output_type": "execute_result"
    }
   ],
   "source": [
    "-135 % 4"
   ]
  },
  {
   "cell_type": "markdown",
   "id": "94716a89",
   "metadata": {},
   "source": [
    "With the equation:"
   ]
  },
  {
   "cell_type": "code",
   "execution_count": 28,
   "id": "d1b41c4c",
   "metadata": {},
   "outputs": [
    {
     "data": {
      "text/plain": [
       "135"
      ]
     },
     "execution_count": 28,
     "metadata": {},
     "output_type": "execute_result"
    }
   ],
   "source": [
    "4 * (135 // 4) + (135 % 4)"
   ]
  },
  {
   "cell_type": "code",
   "execution_count": 31,
   "id": "4ec87caf",
   "metadata": {},
   "outputs": [
    {
     "data": {
      "text/plain": [
       "-135"
      ]
     },
     "execution_count": 31,
     "metadata": {},
     "output_type": "execute_result"
    }
   ],
   "source": [
    "4 * (-135 // 4) + (-135 % 4)"
   ]
  },
  {
   "cell_type": "code",
   "execution_count": 37,
   "id": "6941c0d5",
   "metadata": {},
   "outputs": [
    {
     "data": {
      "text/plain": [
       "int"
      ]
     },
     "execution_count": 37,
     "metadata": {},
     "output_type": "execute_result"
    }
   ],
   "source": [
    "type(1 + 1)"
   ]
  },
  {
   "cell_type": "code",
   "execution_count": 38,
   "id": "03784c31",
   "metadata": {},
   "outputs": [
    {
     "data": {
      "text/plain": [
       "int"
      ]
     },
     "execution_count": 38,
     "metadata": {},
     "output_type": "execute_result"
    }
   ],
   "source": [
    "type(2 * 4)"
   ]
  },
  {
   "cell_type": "code",
   "execution_count": 39,
   "id": "5395f1da",
   "metadata": {},
   "outputs": [
    {
     "data": {
      "text/plain": [
       "int"
      ]
     },
     "execution_count": 39,
     "metadata": {},
     "output_type": "execute_result"
    }
   ],
   "source": [
    "type(4 - 10)"
   ]
  },
  {
   "cell_type": "code",
   "execution_count": 40,
   "id": "3cb78402",
   "metadata": {},
   "outputs": [
    {
     "data": {
      "text/plain": [
       "int"
      ]
     },
     "execution_count": 40,
     "metadata": {},
     "output_type": "execute_result"
    }
   ],
   "source": [
    "type(3 ** 6)"
   ]
  },
  {
   "cell_type": "code",
   "execution_count": 41,
   "id": "544b0ce7",
   "metadata": {},
   "outputs": [
    {
     "data": {
      "text/plain": [
       "float"
      ]
     },
     "execution_count": 41,
     "metadata": {},
     "output_type": "execute_result"
    }
   ],
   "source": [
    "type(2 / 3)"
   ]
  },
  {
   "cell_type": "code",
   "execution_count": 42,
   "id": "bcba7f14",
   "metadata": {},
   "outputs": [
    {
     "data": {
      "text/plain": [
       "int"
      ]
     },
     "execution_count": 42,
     "metadata": {},
     "output_type": "execute_result"
    }
   ],
   "source": [
    "type( 2 // 3)"
   ]
  },
  {
   "cell_type": "code",
   "execution_count": 43,
   "id": "73ef09be",
   "metadata": {},
   "outputs": [
    {
     "data": {
      "text/plain": [
       "float"
      ]
     },
     "execution_count": 43,
     "metadata": {},
     "output_type": "execute_result"
    }
   ],
   "source": [
    "type(10/2)"
   ]
  },
  {
   "cell_type": "code",
   "execution_count": 53,
   "id": "d1814155",
   "metadata": {},
   "outputs": [],
   "source": [
    "import math"
   ]
  },
  {
   "cell_type": "code",
   "execution_count": 54,
   "id": "3b48bac4",
   "metadata": {},
   "outputs": [
    {
     "data": {
      "text/plain": [
       "3"
      ]
     },
     "execution_count": 54,
     "metadata": {},
     "output_type": "execute_result"
    }
   ],
   "source": [
    "math.floor(3.15)"
   ]
  },
  {
   "cell_type": "code",
   "execution_count": 55,
   "id": "673db6ec",
   "metadata": {},
   "outputs": [
    {
     "data": {
      "text/plain": [
       "3"
      ]
     },
     "execution_count": 55,
     "metadata": {},
     "output_type": "execute_result"
    }
   ],
   "source": [
    "math.floor(3.99999)"
   ]
  },
  {
   "cell_type": "code",
   "execution_count": 65,
   "id": "62710704",
   "metadata": {},
   "outputs": [
    {
     "data": {
      "text/plain": [
       "-145"
      ]
     },
     "execution_count": 65,
     "metadata": {},
     "output_type": "execute_result"
    }
   ],
   "source": [
    "math.floor(-144.41)"
   ]
  },
  {
   "cell_type": "code",
   "execution_count": 68,
   "id": "9f9177e3",
   "metadata": {},
   "outputs": [
    {
     "data": {
      "text/plain": [
       "-3"
      ]
     },
     "execution_count": 68,
     "metadata": {},
     "output_type": "execute_result"
    }
   ],
   "source": [
    "math.floor(-3.0000000000000001)"
   ]
  },
  {
   "cell_type": "markdown",
   "id": "2401543b",
   "metadata": {},
   "source": [
    "Float has a limited position in Python"
   ]
  },
  {
   "cell_type": "code",
   "execution_count": 69,
   "id": "579459c5",
   "metadata": {},
   "outputs": [],
   "source": [
    "a = 33\n",
    "b = 16"
   ]
  },
  {
   "cell_type": "code",
   "execution_count": 72,
   "id": "803f8b52",
   "metadata": {},
   "outputs": [
    {
     "name": "stdout",
     "output_type": "stream",
     "text": [
      "2.0625\n",
      "2\n",
      "2\n"
     ]
    }
   ],
   "source": [
    "print(a/b)\n",
    "print(a // b)\n",
    "print(math.floor(a/b))"
   ]
  },
  {
   "cell_type": "code",
   "execution_count": 73,
   "id": "6a0f0068",
   "metadata": {},
   "outputs": [],
   "source": [
    "a = -33\n",
    "b = 16"
   ]
  },
  {
   "cell_type": "code",
   "execution_count": 74,
   "id": "896a27a0",
   "metadata": {},
   "outputs": [
    {
     "name": "stdout",
     "output_type": "stream",
     "text": [
      "-2.0625\n",
      "-3\n",
      "-3\n"
     ]
    }
   ],
   "source": [
    "print(a/b)\n",
    "print(a // b)\n",
    "print(math.floor(a/b))"
   ]
  },
  {
   "cell_type": "code",
   "execution_count": 75,
   "id": "f7217516",
   "metadata": {},
   "outputs": [
    {
     "name": "stdout",
     "output_type": "stream",
     "text": [
      "-2.0625\n",
      "-3\n",
      "-3\n",
      "-2\n"
     ]
    }
   ],
   "source": [
    "a = -33\n",
    "b = 16\n",
    "print(a/b)\n",
    "print(a // b)\n",
    "print(math.floor(a/b))\n",
    "print(math.trunc(a/b))"
   ]
  },
  {
   "cell_type": "code",
   "execution_count": 76,
   "id": "8d5a8b5e",
   "metadata": {},
   "outputs": [],
   "source": [
    "a = b * (a//b) + (a%b)"
   ]
  },
  {
   "cell_type": "code",
   "execution_count": 78,
   "id": "d86efa8b",
   "metadata": {},
   "outputs": [
    {
     "name": "stdout",
     "output_type": "stream",
     "text": [
      "13/4 = 3.25\n",
      "13//4 = 3\n",
      "13%4 = 1\n",
      "True\n"
     ]
    }
   ],
   "source": [
    "a = 13\n",
    "b = 4\n",
    "print(f'{a}/{b} = {a/b}')\n",
    "print(f'{a}//{b} = {a//b}')\n",
    "print(f'{a}%{b} = {a%b}')\n",
    "print(a == b * (a//b) + (a%b))"
   ]
  },
  {
   "cell_type": "code",
   "execution_count": 79,
   "id": "953a0407",
   "metadata": {},
   "outputs": [
    {
     "name": "stdout",
     "output_type": "stream",
     "text": [
      "-13/4 = -3.25\n",
      "-13//4 = -4\n",
      "-13%4 = 3\n",
      "True\n"
     ]
    }
   ],
   "source": [
    "a = -13\n",
    "b = 4\n",
    "print(f'{a}/{b} = {a/b}')\n",
    "print(f'{a}//{b} = {a//b}')\n",
    "print(f'{a}%{b} = {a%b}')\n",
    "print(a == b * (a//b) + (a%b))"
   ]
  },
  {
   "cell_type": "code",
   "execution_count": 80,
   "id": "0dfa3425",
   "metadata": {},
   "outputs": [
    {
     "name": "stdout",
     "output_type": "stream",
     "text": [
      "13/-4 = -3.25\n",
      "13//-4 = -4\n",
      "13%-4 = -3\n",
      "True\n"
     ]
    }
   ],
   "source": [
    "a = 13\n",
    "b = -4\n",
    "print(f'{a}/{b} = {a/b}')\n",
    "print(f'{a}//{b} = {a//b}')\n",
    "print(f'{a}%{b} = {a%b}')\n",
    "print(a == b * (a//b) + (a%b))"
   ]
  },
  {
   "cell_type": "code",
   "execution_count": 81,
   "id": "5b5c6c99",
   "metadata": {},
   "outputs": [
    {
     "name": "stdout",
     "output_type": "stream",
     "text": [
      "-13/-4 = 3.25\n",
      "-13//-4 = 3\n",
      "-13%-4 = -1\n",
      "True\n"
     ]
    }
   ],
   "source": [
    "a = -13\n",
    "b = -4\n",
    "print(f'{a}/{b} = {a/b}')\n",
    "print(f'{a}//{b} = {a//b}')\n",
    "print(f'{a}%{b} = {a%b}')\n",
    "print(a == b * (a//b) + (a%b))"
   ]
  },
  {
   "cell_type": "code",
   "execution_count": null,
   "id": "7c557d13",
   "metadata": {},
   "outputs": [],
   "source": []
  }
 ],
 "metadata": {
  "kernelspec": {
   "display_name": "Python 3",
   "language": "python",
   "name": "python3"
  },
  "language_info": {
   "codemirror_mode": {
    "name": "ipython",
    "version": 3
   },
   "file_extension": ".py",
   "mimetype": "text/x-python",
   "name": "python",
   "nbconvert_exporter": "python",
   "pygments_lexer": "ipython3",
   "version": "3.9.7"
  }
 },
 "nbformat": 4,
 "nbformat_minor": 5
}
