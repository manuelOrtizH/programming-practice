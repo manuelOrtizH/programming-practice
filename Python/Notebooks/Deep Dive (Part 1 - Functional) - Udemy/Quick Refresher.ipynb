{
 "cells": [
  {
   "cell_type": "markdown",
   "id": "923d75f0",
   "metadata": {},
   "source": [
    "# Functions"
   ]
  },
  {
   "cell_type": "code",
   "execution_count": 5,
   "id": "160e148c",
   "metadata": {},
   "outputs": [],
   "source": [
    "def func_1():\n",
    "    return func_2()\n",
    "\n",
    "\n",
    "def func_2():\n",
    "    print('Running func_2')"
   ]
  },
  {
   "cell_type": "code",
   "execution_count": 3,
   "id": "f6c0491d",
   "metadata": {},
   "outputs": [
    {
     "data": {
      "text/plain": [
       "function"
      ]
     },
     "execution_count": 3,
     "metadata": {},
     "output_type": "execute_result"
    }
   ],
   "source": [
    "type(func_1)"
   ]
  },
  {
   "cell_type": "code",
   "execution_count": 6,
   "id": "f68f661f",
   "metadata": {},
   "outputs": [],
   "source": [
    "my_func = func_1"
   ]
  },
  {
   "cell_type": "code",
   "execution_count": 8,
   "id": "1e634e12",
   "metadata": {},
   "outputs": [
    {
     "name": "stdout",
     "output_type": "stream",
     "text": [
      "Running func_2\n"
     ]
    }
   ],
   "source": [
    "my_func()"
   ]
  },
  {
   "cell_type": "markdown",
   "id": "c29ed067",
   "metadata": {},
   "source": [
    "We can assign to a variable a function"
   ]
  },
  {
   "cell_type": "markdown",
   "id": "1e14f2f7",
   "metadata": {},
   "source": [
    "Lambda is just a function also"
   ]
  },
  {
   "cell_type": "code",
   "execution_count": 9,
   "id": "822aa147",
   "metadata": {},
   "outputs": [
    {
     "data": {
      "text/plain": [
       "<function __main__.<lambda>(x)>"
      ]
     },
     "execution_count": 9,
     "metadata": {},
     "output_type": "execute_result"
    }
   ],
   "source": [
    "lambda x: x**2"
   ]
  },
  {
   "cell_type": "code",
   "execution_count": 10,
   "id": "f48ece76",
   "metadata": {},
   "outputs": [],
   "source": [
    "fn1 = lambda x: x**2"
   ]
  },
  {
   "cell_type": "code",
   "execution_count": 12,
   "id": "f5b1c18c",
   "metadata": {},
   "outputs": [
    {
     "data": {
      "text/plain": [
       "4"
      ]
     },
     "execution_count": 12,
     "metadata": {},
     "output_type": "execute_result"
    }
   ],
   "source": [
    "fn1(2)"
   ]
  },
  {
   "cell_type": "markdown",
   "id": "dd3f4c49",
   "metadata": {},
   "source": [
    "# Break, Continue and the Try Statement"
   ]
  },
  {
   "cell_type": "code",
   "execution_count": 14,
   "id": "11c4d3ee",
   "metadata": {},
   "outputs": [
    {
     "name": "stdout",
     "output_type": "stream",
     "text": [
      "Division by 0\n",
      "This always executes\n"
     ]
    }
   ],
   "source": [
    "a = 10\n",
    "b = 0\n",
    "try:\n",
    "    a/b\n",
    "except ZeroDivisionError:\n",
    "    print('Division by 0')\n",
    "finally:\n",
    "    print('This always executes')"
   ]
  },
  {
   "cell_type": "code",
   "execution_count": 16,
   "id": "825397d0",
   "metadata": {},
   "outputs": [
    {
     "name": "stdout",
     "output_type": "stream",
     "text": [
      "------------\n",
      "1 / 1 this always executes\n",
      "1 / 1 main loop\n",
      "------------\n",
      "2 / 0 division by 0\n",
      "2 / 0 this always executes\n",
      "------------\n",
      "3 / -1 this always executes\n",
      "3 / -1 main loop\n",
      "------------\n",
      "4 / -2 this always executes\n",
      "4 / -2 main loop\n"
     ]
    }
   ],
   "source": [
    "a = 0\n",
    "b = 2\n",
    "\n",
    "while a < 4:\n",
    "    print('------------')\n",
    "    a += 1\n",
    "    b -= 1\n",
    "    \n",
    "    try:\n",
    "        a / b\n",
    "    except ZeroDivisionError:\n",
    "        print(f'{a} / {b} division by 0')\n",
    "        continue\n",
    "    finally:\n",
    "        print(f'{a} / {b} this always executes' )\n",
    "    \n",
    "    print(f'{a} / {b} main loop')"
   ]
  },
  {
   "cell_type": "markdown",
   "id": "b57a3db5",
   "metadata": {},
   "source": [
    "<i>finally</i> will always run. It is useful whenever you want to close a file, or a database issue."
   ]
  },
  {
   "cell_type": "code",
   "execution_count": 21,
   "id": "a95d69d4",
   "metadata": {},
   "outputs": [
    {
     "name": "stdout",
     "output_type": "stream",
     "text": [
      "------------\n",
      "1 / 9 this always executes\n",
      "1 / 9 main loop\n",
      "------------\n",
      "2 / 8 this always executes\n",
      "2 / 8 main loop\n",
      "------------\n",
      "3 / 7 this always executes\n",
      "3 / 7 main loop\n",
      "------------\n",
      "4 / 6 this always executes\n",
      "4 / 6 main loop\n",
      "Code exectued without a zero division error\n"
     ]
    }
   ],
   "source": [
    "a = 0\n",
    "b = 10\n",
    "\n",
    "while a < 4:\n",
    "    print('------------')\n",
    "    a += 1\n",
    "    b -= 1\n",
    "    \n",
    "    try:\n",
    "        a / b\n",
    "    except ZeroDivisionError:\n",
    "        print(f'{a} / {b} division by 0')\n",
    "        break\n",
    "    finally:\n",
    "        print(f'{a} / {b} this always executes' )\n",
    "    \n",
    "    print(f'{a} / {b} main loop')\n",
    "    \n",
    "else:\n",
    "    print('Code exectued without a zero division error')"
   ]
  },
  {
   "cell_type": "markdown",
   "id": "32a16ed5",
   "metadata": {},
   "source": [
    "# Classes"
   ]
  },
  {
   "cell_type": "markdown",
   "id": "627039ce",
   "metadata": {},
   "source": [
    "        __repr__\n",
    "        \n",
    "        This means, in simple terms: almost every object you implement should have a functional __repr__ that’s usable for understanding the object. Implementing __str__ is optional: do that if you need a “pretty print” functionality (for example, used by a report generator).\n",
    "\n",
    "        The goal of __repr__ is to be unambiguous\n",
    "\n",
    "        Let me come right out and say it — I do not believe in debuggers. I don’t really know how to use any debugger, and have never used one seriously. Furthermore, I believe that the big fault in debuggers is their basic nature — most failures I debug happened a long long time ago, in a galaxy far far away. This means that I do believe, with religious fervor, in logging. Logging is the lifeblood of any decent fire-and-forget server system. \n",
    "        \n",
    "        \n",
    "        \n",
    "        My rule of thumb: __repr__ is for developers, __str__ is for customers.\n",
    "        \n",
    "        \n",
    "from:        https://stackoverflow.com/questions/1436703/what-is-the-difference-between-str-and-repr"
   ]
  },
  {
   "cell_type": "code",
   "execution_count": 39,
   "id": "343d1b56",
   "metadata": {},
   "outputs": [],
   "source": [
    "class Rectangle:\n",
    "    def __init__(self, width, height):\n",
    "        self.width = width\n",
    "        self.height = height\n",
    "    \n",
    "    def area(self):\n",
    "        return self.width * self.height\n",
    "    \n",
    "    def perimeter(self):\n",
    "        return 2 * (self.width * self.height)\n",
    "    \n",
    "    def __str__(self):\n",
    "        return f'Rectangle: width = {self.width}, height = {self.height}'\n",
    "    \n",
    "    def __repr__(self):\n",
    "        return f'Rectangle{self.width, self.height}'\n",
    "    \n",
    "    \n",
    "    "
   ]
  },
  {
   "cell_type": "code",
   "execution_count": 40,
   "id": "7cfcbc44",
   "metadata": {},
   "outputs": [],
   "source": [
    "r1 = Rectangle(10,20)"
   ]
  },
  {
   "cell_type": "code",
   "execution_count": 41,
   "id": "01553157",
   "metadata": {},
   "outputs": [
    {
     "data": {
      "text/plain": [
       "'Rectangle(10, 20)'"
      ]
     },
     "execution_count": 41,
     "metadata": {},
     "output_type": "execute_result"
    }
   ],
   "source": [
    "repr(r1)"
   ]
  },
  {
   "cell_type": "code",
   "execution_count": 28,
   "id": "534a7990",
   "metadata": {},
   "outputs": [
    {
     "data": {
      "text/plain": [
       "'Rectangle: width = 10, height = 20'"
      ]
     },
     "execution_count": 28,
     "metadata": {},
     "output_type": "execute_result"
    }
   ],
   "source": [
    "str(r1)"
   ]
  },
  {
   "cell_type": "markdown",
   "id": "375e98b8",
   "metadata": {},
   "source": [
    "_____"
   ]
  },
  {
   "cell_type": "markdown",
   "id": "79e69eab",
   "metadata": {},
   "source": [
    "        __eq__"
   ]
  },
  {
   "cell_type": "code",
   "execution_count": 29,
   "id": "a5ad6b2f",
   "metadata": {},
   "outputs": [],
   "source": [
    "r2 = Rectangle(10,20)"
   ]
  },
  {
   "cell_type": "code",
   "execution_count": 30,
   "id": "8fd8d145",
   "metadata": {},
   "outputs": [
    {
     "data": {
      "text/plain": [
       "True"
      ]
     },
     "execution_count": 30,
     "metadata": {},
     "output_type": "execute_result"
    }
   ],
   "source": [
    "r1 is not r2"
   ]
  },
  {
   "cell_type": "code",
   "execution_count": 31,
   "id": "f3fd7583",
   "metadata": {},
   "outputs": [
    {
     "data": {
      "text/plain": [
       "False"
      ]
     },
     "execution_count": 31,
     "metadata": {},
     "output_type": "execute_result"
    }
   ],
   "source": [
    "r1 == r2"
   ]
  },
  {
   "cell_type": "code",
   "execution_count": 42,
   "id": "bbf82170",
   "metadata": {},
   "outputs": [],
   "source": [
    "class Rectangle:\n",
    "    def __init__(self, width, height):\n",
    "        self.width = width\n",
    "        self.height = height\n",
    "    \n",
    "    def area(self):\n",
    "        return self.width * self.height\n",
    "    \n",
    "    def perimeter(self):\n",
    "        return 2 * (self.width * self.height)\n",
    "    \n",
    "    def __str__(self):\n",
    "        return f'Rectangle: width = {self.width}, height = {self.height}'\n",
    "    \n",
    "    def __repr__(self):\n",
    "        return f'Rectangle{self.width, self.height}'\n",
    "    \n",
    "    def __eq__(self, other):\n",
    "        #we want to know if two objects of rectangles are the same\n",
    "        return (self.width, self.height) == (other.width, other.height)\n",
    "    "
   ]
  },
  {
   "cell_type": "code",
   "execution_count": 43,
   "id": "794bcbed",
   "metadata": {},
   "outputs": [],
   "source": [
    "r1 = Rectangle(10,20)\n",
    "r2 = Rectangle(10,20)"
   ]
  },
  {
   "cell_type": "code",
   "execution_count": 47,
   "id": "f814fcc9",
   "metadata": {},
   "outputs": [
    {
     "data": {
      "text/plain": [
       "True"
      ]
     },
     "execution_count": 47,
     "metadata": {},
     "output_type": "execute_result"
    }
   ],
   "source": [
    "r1 is not r2"
   ]
  },
  {
   "cell_type": "code",
   "execution_count": 46,
   "id": "46af880c",
   "metadata": {},
   "outputs": [
    {
     "data": {
      "text/plain": [
       "True"
      ]
     },
     "execution_count": 46,
     "metadata": {},
     "output_type": "execute_result"
    }
   ],
   "source": [
    "r1 == r2"
   ]
  },
  {
   "cell_type": "code",
   "execution_count": 48,
   "id": "cfc8e8e7",
   "metadata": {},
   "outputs": [],
   "source": [
    "class Rectangle:\n",
    "    def __init__(self, width, height):\n",
    "        self.width = width\n",
    "        self.height = height\n",
    "    \n",
    "    def area(self):\n",
    "        return self.width * self.height\n",
    "    \n",
    "    def perimeter(self):\n",
    "        return 2 * (self.width * self.height)\n",
    "    \n",
    "    def __str__(self):\n",
    "        return f'Rectangle: width = {self.width}, height = {self.height}'\n",
    "    \n",
    "    def __repr__(self):\n",
    "        return f'Rectangle{self.width, self.height}'\n",
    "    \n",
    "    def __eq__(self, other):\n",
    "        #we want to know if two other is an instance of rectangle\n",
    "        if isinstance(other, Rectangle):\n",
    "            return (self.width, self.height) == (other.width, other.height)\n",
    "        else:\n",
    "            return False\n",
    "    \n",
    "    "
   ]
  },
  {
   "cell_type": "code",
   "execution_count": 49,
   "id": "9a434a89",
   "metadata": {},
   "outputs": [],
   "source": [
    "r1 = Rectangle(10,20)\n",
    "r2 = Rectangle(10,20)"
   ]
  },
  {
   "cell_type": "code",
   "execution_count": 50,
   "id": "6c5b03fe",
   "metadata": {},
   "outputs": [
    {
     "data": {
      "text/plain": [
       "True"
      ]
     },
     "execution_count": 50,
     "metadata": {},
     "output_type": "execute_result"
    }
   ],
   "source": [
    "r1 == r2"
   ]
  },
  {
   "cell_type": "code",
   "execution_count": 51,
   "id": "6d1e5ea8",
   "metadata": {},
   "outputs": [
    {
     "data": {
      "text/plain": [
       "False"
      ]
     },
     "execution_count": 51,
     "metadata": {},
     "output_type": "execute_result"
    }
   ],
   "source": [
    "r1 == 100"
   ]
  },
  {
   "cell_type": "markdown",
   "id": "b990542b",
   "metadata": {},
   "source": [
    "____"
   ]
  },
  {
   "cell_type": "markdown",
   "id": "e20237c9",
   "metadata": {},
   "source": [
    "        __lt__"
   ]
  },
  {
   "cell_type": "code",
   "execution_count": 60,
   "id": "080b7dd6",
   "metadata": {},
   "outputs": [],
   "source": [
    "class Rectangle:\n",
    "    def __init__(self, width, height):\n",
    "        self.width = width\n",
    "        self.height = height\n",
    "    \n",
    "    def area(self):\n",
    "        return self.width * self.height\n",
    "    \n",
    "    def perimeter(self):\n",
    "        return 2 * (self.width * self.height)\n",
    "    \n",
    "    def __str__(self):\n",
    "        return f'Rectangle: width = {self.width}, height = {self.height}'\n",
    "    \n",
    "    def __repr__(self):\n",
    "        return f'Rectangle{self.width, self.height}'\n",
    "    \n",
    "    def __eq__(self, other):\n",
    "\n",
    "        if isinstance(other, Rectangle):\n",
    "            return (self.width, self.height) == (other.width, other.height)\n",
    "        else:\n",
    "            return False\n",
    "    \n",
    "    def __lt__(self, other):\n",
    "        if isinstance(other, Rectangle):\n",
    "            return self.area() < other.area()\n",
    "        else:\n",
    "            return NotImplemented"
   ]
  },
  {
   "cell_type": "code",
   "execution_count": 61,
   "id": "66c53d63",
   "metadata": {},
   "outputs": [],
   "source": [
    "r1 = Rectangle(10,20)\n",
    "r2 = Rectangle(100,200)"
   ]
  },
  {
   "cell_type": "code",
   "execution_count": 62,
   "id": "ffd57138",
   "metadata": {},
   "outputs": [
    {
     "data": {
      "text/plain": [
       "True"
      ]
     },
     "execution_count": 62,
     "metadata": {},
     "output_type": "execute_result"
    }
   ],
   "source": [
    "r1 < r2"
   ]
  },
  {
   "cell_type": "code",
   "execution_count": 63,
   "id": "95f7780a",
   "metadata": {},
   "outputs": [
    {
     "data": {
      "text/plain": [
       "False"
      ]
     },
     "execution_count": 63,
     "metadata": {},
     "output_type": "execute_result"
    }
   ],
   "source": [
    "r2 < r1"
   ]
  },
  {
   "cell_type": "code",
   "execution_count": 64,
   "id": "d2962365",
   "metadata": {},
   "outputs": [
    {
     "data": {
      "text/plain": [
       "True"
      ]
     },
     "execution_count": 64,
     "metadata": {},
     "output_type": "execute_result"
    }
   ],
   "source": [
    "r2 > r1"
   ]
  },
  {
   "cell_type": "markdown",
   "id": "d2d403a4",
   "metadata": {},
   "source": [
    "with r2 python called the gt method, it wasnt implemented, and so, python changes the method to lt"
   ]
  },
  {
   "cell_type": "code",
   "execution_count": 65,
   "id": "7a85309a",
   "metadata": {},
   "outputs": [
    {
     "ename": "TypeError",
     "evalue": "'>=' not supported between instances of 'Rectangle' and 'Rectangle'",
     "output_type": "error",
     "traceback": [
      "\u001b[0;31m---------------------------------------------------------------------------\u001b[0m",
      "\u001b[0;31mTypeError\u001b[0m                                 Traceback (most recent call last)",
      "\u001b[0;32m<ipython-input-65-0548862bbd6d>\u001b[0m in \u001b[0;36m<module>\u001b[0;34m\u001b[0m\n\u001b[0;32m----> 1\u001b[0;31m \u001b[0mr1\u001b[0m \u001b[0;34m>=\u001b[0m \u001b[0mr2\u001b[0m\u001b[0;34m\u001b[0m\u001b[0;34m\u001b[0m\u001b[0m\n\u001b[0m",
      "\u001b[0;31mTypeError\u001b[0m: '>=' not supported between instances of 'Rectangle' and 'Rectangle'"
     ]
    }
   ],
   "source": [
    "r1 >= r2"
   ]
  },
  {
   "cell_type": "code",
   "execution_count": null,
   "id": "3a119b6a",
   "metadata": {},
   "outputs": [],
   "source": [
    "class Rectangle:\n",
    "    def __init__(self, width, height):\n",
    "        self.width = width\n",
    "        self.height = height\n",
    "\n",
    "    def __str__(self):\n",
    "        return f'Rectangle: width = {self.width}, height = {self.height}'\n",
    "    \n",
    "    def __repr__(self):\n",
    "        return f'Rectangle{self.width, self.height}'\n",
    "    \n",
    "    def __eq__(self, other):\n",
    "\n",
    "        if isinstance(other, Rectangle):\n",
    "            return (self.width, self.height) == (other.width, other.height)\n",
    "        else:\n",
    "            return False\n"
   ]
  },
  {
   "cell_type": "markdown",
   "id": "3df78828",
   "metadata": {},
   "source": [
    "_____\n",
    "\n",
    "\n",
    "        Private attributes with convention name _var"
   ]
  },
  {
   "cell_type": "code",
   "execution_count": 66,
   "id": "9838f99c",
   "metadata": {},
   "outputs": [],
   "source": [
    "r1 = Rectangle(10,20)"
   ]
  },
  {
   "cell_type": "code",
   "execution_count": 67,
   "id": "8fc4fa8e",
   "metadata": {},
   "outputs": [
    {
     "data": {
      "text/plain": [
       "10"
      ]
     },
     "execution_count": 67,
     "metadata": {},
     "output_type": "execute_result"
    }
   ],
   "source": [
    "r1.width"
   ]
  },
  {
   "cell_type": "code",
   "execution_count": 68,
   "id": "7bf27e1a",
   "metadata": {},
   "outputs": [],
   "source": [
    "r1.width = -100"
   ]
  },
  {
   "cell_type": "code",
   "execution_count": 69,
   "id": "56dfd3eb",
   "metadata": {},
   "outputs": [
    {
     "data": {
      "text/plain": [
       "-100"
      ]
     },
     "execution_count": 69,
     "metadata": {},
     "output_type": "execute_result"
    }
   ],
   "source": [
    "r1.width"
   ]
  },
  {
   "cell_type": "markdown",
   "id": "ab8ea67c",
   "metadata": {},
   "source": [
    "We are having direct acces to the attribute"
   ]
  },
  {
   "cell_type": "code",
   "execution_count": 70,
   "id": "e23fbfc9",
   "metadata": {},
   "outputs": [],
   "source": [
    "class Rectangle:\n",
    "    def __init__(self, width, height):\n",
    "        self._width = width\n",
    "        self._height = height\n",
    "\n",
    "    def get_width(self):\n",
    "        return self._width\n",
    "    \n",
    "    def set_width(self, width):\n",
    "        if width <= 0:\n",
    "            raise ValueError('Width must be positive')\n",
    "        else:\n",
    "            self._width = width\n",
    "            \n",
    "    def get_height(self):\n",
    "        return self._height\n",
    "    \n",
    "    def set_height(self, height):\n",
    "        if height <= 0:\n",
    "            raise ValueError('Height must be positive')\n",
    "        else:\n",
    "            self._height = height\n",
    "        \n",
    "    def __str__(self):\n",
    "        return f'Rectangle: width = {self._width}, height = {self._height}'\n",
    "    \n",
    "    def __repr__(self):\n",
    "        return f'Rectangle{self._width, self._height}'\n",
    "    \n",
    "    def __eq__(self, other):\n",
    "\n",
    "        if isinstance(other, Rectangle):\n",
    "            return (self._width, self._height) == (other._width, other._height)\n",
    "        else:\n",
    "            return False\n"
   ]
  },
  {
   "cell_type": "markdown",
   "id": "3af41235",
   "metadata": {},
   "source": [
    "## Pythonic way to add private attributes"
   ]
  },
  {
   "cell_type": "code",
   "execution_count": 84,
   "id": "89c9a733",
   "metadata": {},
   "outputs": [],
   "source": [
    "class Rectangle:\n",
    "    def __init__(self, width, height):\n",
    "        #without the _ you call the setters, so it is validated \n",
    "        self.width = width\n",
    "        self.height = height\n",
    "    \n",
    "    #decorator\n",
    "    @property\n",
    "    def width(self):\n",
    "        return self._width\n",
    "    \n",
    "    @width.setter\n",
    "    def width(self, width):\n",
    "        if width <= 0:\n",
    "            raise ValueError('Width must be positive')\n",
    "        else:\n",
    "            self._width = width\n",
    "        \n",
    "    \n",
    "    @property\n",
    "    def height(self):\n",
    "        return self._height\n",
    "    \n",
    "    @height.setter\n",
    "    def height(self, height):\n",
    "        if height <= 0:\n",
    "            raise ValueError('height must be positive')\n",
    "        else:\n",
    "            self._height = height\n",
    "    \n",
    "\n",
    "    \n",
    "    \n",
    "    def __str__(self):\n",
    "        return f'Rectangle: width = {self.width}, height = {self.height}'\n",
    "    \n",
    "    def __repr__(self):\n",
    "        return f'Rectangle{self.width, self.height}'\n",
    "    \n",
    "    def __eq__(self, other):\n",
    "\n",
    "        if isinstance(other, Rectangle):\n",
    "            return (self.width, self.height) == (other.width, other.height)\n",
    "        else:\n",
    "            return False\n"
   ]
  },
  {
   "cell_type": "code",
   "execution_count": 85,
   "id": "5456963b",
   "metadata": {},
   "outputs": [],
   "source": [
    "r1 = Rectangle(10,20)"
   ]
  },
  {
   "cell_type": "code",
   "execution_count": 86,
   "id": "dfd43568",
   "metadata": {},
   "outputs": [
    {
     "data": {
      "text/plain": [
       "10"
      ]
     },
     "execution_count": 86,
     "metadata": {},
     "output_type": "execute_result"
    }
   ],
   "source": [
    "r1.width"
   ]
  },
  {
   "cell_type": "code",
   "execution_count": 87,
   "id": "fb809e3a",
   "metadata": {},
   "outputs": [],
   "source": [
    "r1.width = 100"
   ]
  },
  {
   "cell_type": "code",
   "execution_count": 88,
   "id": "95a68159",
   "metadata": {},
   "outputs": [
    {
     "data": {
      "text/plain": [
       "Rectangle(100, 20)"
      ]
     },
     "execution_count": 88,
     "metadata": {},
     "output_type": "execute_result"
    }
   ],
   "source": [
    "r1"
   ]
  },
  {
   "cell_type": "code",
   "execution_count": null,
   "id": "671c92ec",
   "metadata": {},
   "outputs": [],
   "source": []
  }
 ],
 "metadata": {
  "kernelspec": {
   "display_name": "Python 3",
   "language": "python",
   "name": "python3"
  },
  "language_info": {
   "codemirror_mode": {
    "name": "ipython",
    "version": 3
   },
   "file_extension": ".py",
   "mimetype": "text/x-python",
   "name": "python",
   "nbconvert_exporter": "python",
   "pygments_lexer": "ipython3",
   "version": "3.9.7"
  }
 },
 "nbformat": 4,
 "nbformat_minor": 5
}
