{
 "cells": [
  {
   "cell_type": "markdown",
   "id": "a0cc20d6",
   "metadata": {},
   "source": [
    "# First-Class Functions"
   ]
  },
  {
   "cell_type": "markdown",
   "id": "580321ba",
   "metadata": {},
   "source": [
    "### First-Class Objects\n",
    "\n",
    "can be passed to a function as an argument\n",
    "\n",
    "can be returned from a function\n",
    "\n",
    "can be assigned to a variable\n",
    "\n",
    "can be stored in a data structure \n",
    "\n",
    "Types such as **int,float,string,tuple,list** and many more are first-class objects.\n",
    "\n",
    "Functions(**function**) are also first-class objects\n",
    "\n",
    "\n",
    "### High-Order Functions\n",
    "\n",
    "Higher-order functions are functions that:\n",
    "\n",
    "take a function as an argument (e.g. the simple timer we wrote in the last section)\n",
    "\n",
    "and/or\n",
    "\n",
    "**return** a function"
   ]
  },
  {
   "cell_type": "markdown",
   "id": "dcb244e7",
   "metadata": {},
   "source": [
    "----\n",
    "## Docstrings and Annotations"
   ]
  },
  {
   "cell_type": "markdown",
   "id": "2769feec",
   "metadata": {},
   "source": [
    "We have seen the **help(x)** function before, it returns some documentation (if available)\n",
    "\n",
    "We can ocument our functions (and modules, classes, etc) to achieve the same result using **docstrings**\n",
    "\n",
    "If the first line in the function body is a string (not an assignmen, not a comment, just a string by itself), it will be interpreted as a **docstring**\n",
    "\n",
    "def my_func(a):\n",
    "    \"documentation for my_func\"\n",
    "    return a\n",
    "    \n",
    "help(my_func) - > \"documentation for my_func\"\n",
    "\n",
    "Multi-line docstring are achieved using... **multi-line strings!**\n",
    "\n",
    "**Where are docstrings stored?**\n",
    "\n",
    "    In the function's __doc__ property\n",
    "\n",
    "    def fact(n):\n",
    "        ''' Calculates...'''\n",
    "    \n",
    "    fact.__doc__ ->  'Calculates...'\n",
    "\n",
    "\n",
    "**Function Annotations**\n",
    "\n",
    "Function annotations give us an additional way to document our functions\n",
    "\n",
    "\n",
    "def my_func(a: <expression>, b: <expression>) -> <expression>:\n",
    "    \n",
    "    pass\n",
    "\n",
    "**note: -> return expression\n",
    "    \n",
    "    \n",
    "Example:\n",
    "    \n",
    "    \n",
    " "
   ]
  },
  {
   "cell_type": "code",
   "execution_count": 1,
   "id": "cc689e90",
   "metadata": {},
   "outputs": [],
   "source": [
    "def my_func(a: 'a string', b: 'a positive integer') -> 'a string':\n",
    "    return a * b"
   ]
  },
  {
   "cell_type": "code",
   "execution_count": 2,
   "id": "c6e52b2c",
   "metadata": {},
   "outputs": [
    {
     "name": "stdout",
     "output_type": "stream",
     "text": [
      "Help on function my_func in module __main__:\n",
      "\n",
      "my_func(a: 'a string', b: 'a positive integer') -> 'a string'\n",
      "\n"
     ]
    }
   ],
   "source": [
    "help(my_func)"
   ]
  },
  {
   "cell_type": "markdown",
   "id": "bb053198",
   "metadata": {},
   "source": [
    "    This annotation don't get stored in **__doc__**"
   ]
  },
  {
   "cell_type": "code",
   "execution_count": 3,
   "id": "f5272b7b",
   "metadata": {},
   "outputs": [],
   "source": [
    "my_func.__doc__"
   ]
  },
  {
   "cell_type": "markdown",
   "id": "5e19a29d",
   "metadata": {},
   "source": [
    "**Annotations can be any expression**\n",
    "\n",
    "(a: str, b:'int>0') -> str:\n",
    "\n",
    "(a: str, b: [1,2,3]) -> str:\n",
    "\n",
    "(a: str) -> 'a repeated' + str(max(x,y)) + 'times ':\n",
    "    return a * max(x,y)\n",
    "    \n",
    "Jusst like default values, where calculated and evaluated when the function was defined, so do annotations expressions\n",
    "\n",
    "So, the ***max*** expression may change and will not get evaluated"
   ]
  },
  {
   "cell_type": "markdown",
   "id": "312f0497",
   "metadata": {},
   "source": [
    "### Default values  **args, ***kwargs\n",
    "\n",
    "def my_func(a: str = 'xyz)\n",
    "\n",
    "        def my_func(a: str = 'xyz', *args: 'additional parameters', b: int =1, **kwargs: 'additional keywords arguments"
   ]
  },
  {
   "cell_type": "markdown",
   "id": "4d6ab564",
   "metadata": {},
   "source": [
    "**Where are annotations stored?**\n",
    "\n",
    "    In the __annotations__ property of the function\n",
    "    \n",
    "-> dictionary    \n",
    "\n",
    "**keys** are the parameters names for a return annotation, the key is **return**\n",
    "\n",
    "**values** are the annotations"
   ]
  },
  {
   "cell_type": "markdown",
   "id": "5577c924",
   "metadata": {},
   "source": [
    "**Where does Python use docstrings and annotation?**\n",
    "\n",
    "It doesn't\n",
    "\n",
    "Mainly used by external tools and modules\n",
    "\n",
    "Example: apps that generate documentation from our code"
   ]
  },
  {
   "cell_type": "code",
   "execution_count": 4,
   "id": "aad4d26f",
   "metadata": {},
   "outputs": [],
   "source": [
    "def my_func(a, b=1):\n",
    "    #This comment is not in the docs\n",
    "    '''returns a * b\n",
    "    some addiontal docs here\n",
    "    \n",
    "    Inputs:\n",
    "    \n",
    "    Outputs:\n",
    "    \n",
    "    \n",
    "    '''\n",
    "    return a * b"
   ]
  },
  {
   "cell_type": "markdown",
   "id": "d6c3c74f",
   "metadata": {},
   "source": [
    "**This is not a comment**, when using comments, it does not get documentated"
   ]
  },
  {
   "cell_type": "code",
   "execution_count": 5,
   "id": "435e3c20",
   "metadata": {},
   "outputs": [
    {
     "name": "stdout",
     "output_type": "stream",
     "text": [
      "Help on function my_func in module __main__:\n",
      "\n",
      "my_func(a, b=1)\n",
      "    returns a * b\n",
      "    some addiontal docs here\n",
      "    \n",
      "    Inputs:\n",
      "    \n",
      "    Outputs:\n",
      "\n"
     ]
    }
   ],
   "source": [
    "help(my_func)"
   ]
  },
  {
   "cell_type": "code",
   "execution_count": 6,
   "id": "bdfd84d3",
   "metadata": {},
   "outputs": [
    {
     "data": {
      "text/plain": [
       "'returns a * b\\n    some addiontal docs here\\n    \\n    Inputs:\\n    \\n    Outputs:\\n    \\n    \\n    '"
      ]
     },
     "execution_count": 6,
     "metadata": {},
     "output_type": "execute_result"
    }
   ],
   "source": [
    "my_func.__doc__"
   ]
  },
  {
   "cell_type": "code",
   "execution_count": 7,
   "id": "6093d2af",
   "metadata": {},
   "outputs": [],
   "source": [
    "def my_func(a: 'annotation for a',\n",
    "            b: 'annotation for b' = 1) -> 'something with a long annotation':\n",
    "    \n",
    "    return a * b"
   ]
  },
  {
   "cell_type": "code",
   "execution_count": 8,
   "id": "e8321d49",
   "metadata": {},
   "outputs": [
    {
     "name": "stdout",
     "output_type": "stream",
     "text": [
      "Help on function my_func in module __main__:\n",
      "\n",
      "my_func(a: 'annotation for a', b: 'annotation for b' = 1) -> 'something with a long annotation'\n",
      "\n"
     ]
    }
   ],
   "source": [
    "help(my_func)"
   ]
  },
  {
   "cell_type": "code",
   "execution_count": 9,
   "id": "a5d4860a",
   "metadata": {},
   "outputs": [],
   "source": [
    "my_func.__doc__"
   ]
  },
  {
   "cell_type": "code",
   "execution_count": 10,
   "id": "b7233707",
   "metadata": {},
   "outputs": [
    {
     "data": {
      "text/plain": [
       "{'a': 'annotation for a',\n",
       " 'b': 'annotation for b',\n",
       " 'return': 'something with a long annotation'}"
      ]
     },
     "execution_count": 10,
     "metadata": {},
     "output_type": "execute_result"
    }
   ],
   "source": [
    "my_func.__annotations__"
   ]
  },
  {
   "cell_type": "code",
   "execution_count": 11,
   "id": "4464938b",
   "metadata": {},
   "outputs": [],
   "source": [
    "def my_func(a: 'annotation for a',\n",
    "            b: 'annotation for b' = 1) -> 'something with a long annotation':\n",
    "    '''Some documentation'''\n",
    "    return a * b"
   ]
  },
  {
   "cell_type": "code",
   "execution_count": 12,
   "id": "a0867976",
   "metadata": {},
   "outputs": [
    {
     "data": {
      "text/plain": [
       "'Some documentation'"
      ]
     },
     "execution_count": 12,
     "metadata": {},
     "output_type": "execute_result"
    }
   ],
   "source": [
    "my_func.__doc__"
   ]
  },
  {
   "cell_type": "code",
   "execution_count": 13,
   "id": "9fc40ac9",
   "metadata": {},
   "outputs": [],
   "source": [
    "x = 3\n",
    "y = 5\n",
    "\n",
    "def my_func(a: 'some character',\n",
    "            b = max(x,y)) -> 'character a repeated ' + str(max(x,y)) + ' times':\n",
    "    print(b)\n",
    "    return a * max(x,y)"
   ]
  },
  {
   "cell_type": "code",
   "execution_count": 14,
   "id": "e1d69c3a",
   "metadata": {},
   "outputs": [
    {
     "name": "stdout",
     "output_type": "stream",
     "text": [
      "5\n"
     ]
    },
    {
     "data": {
      "text/plain": [
       "'aaaaa'"
      ]
     },
     "execution_count": 14,
     "metadata": {},
     "output_type": "execute_result"
    }
   ],
   "source": [
    "my_func('a')"
   ]
  },
  {
   "cell_type": "code",
   "execution_count": 15,
   "id": "87a198f3",
   "metadata": {},
   "outputs": [
    {
     "data": {
      "text/plain": [
       "{'a': 'some character', 'return': 'character a repeated 5 times'}"
      ]
     },
     "execution_count": 15,
     "metadata": {},
     "output_type": "execute_result"
    }
   ],
   "source": [
    "my_func.__annotations__"
   ]
  },
  {
   "cell_type": "markdown",
   "id": "966b5c8f",
   "metadata": {},
   "source": [
    "It actually calcualted the max. But let's be **careful**. At the time when the function is created, the **max** is calculated. Which means if I make a change in a variable, it some cases it won't get revaluated"
   ]
  },
  {
   "cell_type": "code",
   "execution_count": 16,
   "id": "5656567a",
   "metadata": {},
   "outputs": [
    {
     "name": "stdout",
     "output_type": "stream",
     "text": [
      "5\n"
     ]
    },
    {
     "data": {
      "text/plain": [
       "100"
      ]
     },
     "execution_count": 16,
     "metadata": {},
     "output_type": "execute_result"
    }
   ],
   "source": [
    "x = 10\n",
    "my_func(x)"
   ]
  },
  {
   "cell_type": "markdown",
   "id": "df10d760",
   "metadata": {},
   "source": [
    "As we see in this example, we still get printing 5 as max value, because this value did not get updated"
   ]
  },
  {
   "cell_type": "code",
   "execution_count": 17,
   "id": "fb1a0afd",
   "metadata": {},
   "outputs": [],
   "source": [
    "def my_func(a: str,\n",
    "            b: 'int > 0' = 1,\n",
    "            *args: 'some extra positional args',\n",
    "            k1: 'kw-only arg 1',\n",
    "            k2: 'kw-only arg 2' = 100,\n",
    "            **kwargs: 'some extra kw-only args') -> 'something':\n",
    "    print(a,b,args,k1,k2,kwargs)"
   ]
  },
  {
   "cell_type": "code",
   "execution_count": 18,
   "id": "487b81f2",
   "metadata": {},
   "outputs": [
    {
     "name": "stdout",
     "output_type": "stream",
     "text": [
      "Help on function my_func in module __main__:\n",
      "\n",
      "my_func(a: str, b: 'int > 0' = 1, *args: 'some extra positional args', k1: 'kw-only arg 1', k2: 'kw-only arg 2' = 100, **kwargs: 'some extra kw-only args') -> 'something'\n",
      "\n"
     ]
    }
   ],
   "source": [
    "help(my_func)"
   ]
  },
  {
   "cell_type": "code",
   "execution_count": 19,
   "id": "6e0a184f",
   "metadata": {},
   "outputs": [
    {
     "data": {
      "text/plain": [
       "{'a': str,\n",
       " 'b': 'int > 0',\n",
       " 'args': 'some extra positional args',\n",
       " 'k1': 'kw-only arg 1',\n",
       " 'k2': 'kw-only arg 2',\n",
       " 'kwargs': 'some extra kw-only args',\n",
       " 'return': 'something'}"
      ]
     },
     "execution_count": 19,
     "metadata": {},
     "output_type": "execute_result"
    }
   ],
   "source": [
    "my_func.__annotations__"
   ]
  },
  {
   "cell_type": "code",
   "execution_count": 20,
   "id": "6c004cc7",
   "metadata": {},
   "outputs": [
    {
     "name": "stdout",
     "output_type": "stream",
     "text": [
      "1 2 (3, 4, 5) 10 100 {'k3': 300, 'k4': 400}\n"
     ]
    }
   ],
   "source": [
    "my_func(1,2,3,4,5, k1 = 10, k3=300, k4 = 400)"
   ]
  },
  {
   "cell_type": "markdown",
   "id": "154b2315",
   "metadata": {},
   "source": [
    "----\n",
    "## Lambda Expressions\n",
    "\n",
    "Lambda expressions are simply another way to create **functions** ***anonymous functions***\n",
    "\n",
    "keyword -> lambda\n",
    "\n",
    "paramter list (optional) - > []\n",
    "\n",
    "expressions (this expression is evaluated and returned when the lambda functions is **called**\n",
    "\n",
    "The expression **returns a function object**\n",
    "\n",
    "    lambda [parameter list]: expression\n",
    "    \n",
    "the expression can be assigned to a variable\n",
    "\n",
    "passed as an argument to another function\n",
    "\n",
    "it is a **function**"
   ]
  },
  {
   "cell_type": "code",
   "execution_count": 21,
   "id": "bb292520",
   "metadata": {},
   "outputs": [
    {
     "data": {
      "text/plain": [
       "function"
      ]
     },
     "execution_count": 21,
     "metadata": {},
     "output_type": "execute_result"
    }
   ],
   "source": [
    "lambda x: x**2\n",
    "lambda x,y: x + y\n",
    "lambda: 'hello'\n",
    "lambda s: s[::-1].upper()\n",
    "type(lambda x: x**2) "
   ]
  },
  {
   "cell_type": "markdown",
   "id": "ce26aad0",
   "metadata": {},
   "source": [
    "Lambdas, or anonymous functions, are NOT equivalent to closures"
   ]
  },
  {
   "cell_type": "markdown",
   "id": "8380e33a",
   "metadata": {},
   "source": [
    "**Assigning a Lambda to a Variable Name**\n",
    "\n",
    "    my_func = lambda x: x**2\n",
    "\n",
    "    type(my_func)\n",
    "\n",
    "    my_func(3)"
   ]
  },
  {
   "cell_type": "markdown",
   "id": "703da6e7",
   "metadata": {},
   "source": [
    "**identical to:**\n",
    "\n",
    "    def my_func(x):\n",
    "        return x**2"
   ]
  },
  {
   "cell_type": "markdown",
   "id": "fe61ccc1",
   "metadata": {},
   "source": [
    "**Passins as an Argument to another Function**\n",
    "\n",
    "    def apply_func(x, fn):\n",
    "        return fn(x)\n",
    "        \n",
    "    apply_func(3, lambda x: x**2) -> 9\n",
    "     \n",
    "    apply_func(2, lambda x: x + 5)  -> 7\n",
    "    \n",
    "    apply_func('abc', lambda x: x[1:] * 3) -> bcbcbc\n",
    "    \n",
    "    \n",
    "equivalently:\n",
    "\n",
    "    def fn_1(x):\n",
    "        return x[1:] * 3\n",
    "        \n",
    "    apply_func('abc')\n",
    "    \n",
    "**Limitations**\n",
    "\n",
    "The \"body\" of a **lambda** is limited to a single expression\n",
    "\n",
    "no assignments \n",
    "\n",
    "    lambda x: x = 5  **incorrect**\n",
    "    \n",
    "no annotations\n",
    "\n",
    "    def func(x: int):  **correct\n",
    "        return x ** 2\n",
    "        \n",
    "        \n",
    "single **logical** line of code -> line-continuation is OK, but is still just **one** expression\n",
    "\n",
    "    lambda x: x * \\ \n",
    "        3"
   ]
  },
  {
   "cell_type": "code",
   "execution_count": 22,
   "id": "6cc6281e",
   "metadata": {},
   "outputs": [],
   "source": [
    "def sq(x):\n",
    "    return x**2"
   ]
  },
  {
   "cell_type": "code",
   "execution_count": 23,
   "id": "39216200",
   "metadata": {},
   "outputs": [
    {
     "data": {
      "text/plain": [
       "function"
      ]
     },
     "execution_count": 23,
     "metadata": {},
     "output_type": "execute_result"
    }
   ],
   "source": [
    "type(sq)"
   ]
  },
  {
   "cell_type": "code",
   "execution_count": 24,
   "id": "2cc9e837",
   "metadata": {},
   "outputs": [
    {
     "data": {
      "text/plain": [
       "<function __main__.sq(x)>"
      ]
     },
     "execution_count": 24,
     "metadata": {},
     "output_type": "execute_result"
    }
   ],
   "source": [
    "sq"
   ]
  },
  {
   "cell_type": "code",
   "execution_count": 25,
   "id": "d97295cf",
   "metadata": {},
   "outputs": [
    {
     "data": {
      "text/plain": [
       "<function __main__.<lambda>(x)>"
      ]
     },
     "execution_count": 25,
     "metadata": {},
     "output_type": "execute_result"
    }
   ],
   "source": [
    "lambda x: x**2"
   ]
  },
  {
   "cell_type": "code",
   "execution_count": 26,
   "id": "20f7bd3a",
   "metadata": {},
   "outputs": [],
   "source": [
    "f = sq"
   ]
  },
  {
   "cell_type": "code",
   "execution_count": 27,
   "id": "0a181564",
   "metadata": {},
   "outputs": [
    {
     "data": {
      "text/plain": [
       "(4504861712, 4504861712)"
      ]
     },
     "execution_count": 27,
     "metadata": {},
     "output_type": "execute_result"
    }
   ],
   "source": [
    "id(f), id(sq)"
   ]
  },
  {
   "cell_type": "code",
   "execution_count": 28,
   "id": "edafefdd",
   "metadata": {},
   "outputs": [
    {
     "data": {
      "text/plain": [
       "9"
      ]
     },
     "execution_count": 28,
     "metadata": {},
     "output_type": "execute_result"
    }
   ],
   "source": [
    "f(3)"
   ]
  },
  {
   "cell_type": "code",
   "execution_count": 29,
   "id": "da2748b6",
   "metadata": {},
   "outputs": [
    {
     "data": {
      "text/plain": [
       "9"
      ]
     },
     "execution_count": 29,
     "metadata": {},
     "output_type": "execute_result"
    }
   ],
   "source": [
    "sq(3)"
   ]
  },
  {
   "cell_type": "code",
   "execution_count": 30,
   "id": "69733aed",
   "metadata": {},
   "outputs": [
    {
     "data": {
      "text/plain": [
       "<function __main__.sq(x)>"
      ]
     },
     "execution_count": 30,
     "metadata": {},
     "output_type": "execute_result"
    }
   ],
   "source": [
    "f"
   ]
  },
  {
   "cell_type": "code",
   "execution_count": 31,
   "id": "fe57cde7",
   "metadata": {},
   "outputs": [],
   "source": [
    "f = lambda x: x**2"
   ]
  },
  {
   "cell_type": "code",
   "execution_count": 32,
   "id": "a6313dd1",
   "metadata": {},
   "outputs": [
    {
     "data": {
      "text/plain": [
       "<function __main__.<lambda>(x)>"
      ]
     },
     "execution_count": 32,
     "metadata": {},
     "output_type": "execute_result"
    }
   ],
   "source": [
    "f"
   ]
  },
  {
   "cell_type": "code",
   "execution_count": 33,
   "id": "7e8b2a9e",
   "metadata": {},
   "outputs": [
    {
     "data": {
      "text/plain": [
       "9"
      ]
     },
     "execution_count": 33,
     "metadata": {},
     "output_type": "execute_result"
    }
   ],
   "source": [
    "f(3)"
   ]
  },
  {
   "cell_type": "code",
   "execution_count": 34,
   "id": "4e5049bc",
   "metadata": {},
   "outputs": [],
   "source": [
    "g = lambda x, y=10: x+y"
   ]
  },
  {
   "cell_type": "markdown",
   "id": "cb46fd62",
   "metadata": {},
   "source": [
    "We can define default values in a lambda expression"
   ]
  },
  {
   "cell_type": "code",
   "execution_count": 35,
   "id": "94dbac60",
   "metadata": {},
   "outputs": [
    {
     "data": {
      "text/plain": [
       "<function __main__.<lambda>(x, y=10)>"
      ]
     },
     "execution_count": 35,
     "metadata": {},
     "output_type": "execute_result"
    }
   ],
   "source": [
    "g"
   ]
  },
  {
   "cell_type": "code",
   "execution_count": 36,
   "id": "431bd393",
   "metadata": {},
   "outputs": [
    {
     "data": {
      "text/plain": [
       "3"
      ]
     },
     "execution_count": 36,
     "metadata": {},
     "output_type": "execute_result"
    }
   ],
   "source": [
    "g(1,2)"
   ]
  },
  {
   "cell_type": "code",
   "execution_count": 37,
   "id": "c253d489",
   "metadata": {},
   "outputs": [
    {
     "data": {
      "text/plain": [
       "11"
      ]
     },
     "execution_count": 37,
     "metadata": {},
     "output_type": "execute_result"
    }
   ],
   "source": [
    "g(1)"
   ]
  },
  {
   "cell_type": "code",
   "execution_count": 38,
   "id": "ccc918a8",
   "metadata": {},
   "outputs": [],
   "source": [
    "f = lambda x, *args, y, **kwargs: (x, args, y, kwargs)"
   ]
  },
  {
   "cell_type": "code",
   "execution_count": 39,
   "id": "64be5f7d",
   "metadata": {},
   "outputs": [
    {
     "data": {
      "text/plain": [
       "(1, ('a', 'b'), 100, {'a': 1, 'b': 2})"
      ]
     },
     "execution_count": 39,
     "metadata": {},
     "output_type": "execute_result"
    }
   ],
   "source": [
    "f(1, 'a', 'b', y=100, a=1, b=2)"
   ]
  },
  {
   "cell_type": "code",
   "execution_count": 40,
   "id": "e66bebaa",
   "metadata": {},
   "outputs": [],
   "source": [
    "def apply_func(x,fn):\n",
    "    return fn(x)"
   ]
  },
  {
   "cell_type": "code",
   "execution_count": 41,
   "id": "36b03200",
   "metadata": {},
   "outputs": [
    {
     "data": {
      "text/plain": [
       "9"
      ]
     },
     "execution_count": 41,
     "metadata": {},
     "output_type": "execute_result"
    }
   ],
   "source": [
    "apply_func(3, sq)"
   ]
  },
  {
   "cell_type": "code",
   "execution_count": 42,
   "id": "dd546753",
   "metadata": {},
   "outputs": [],
   "source": [
    "def apply_lambda(x,l):\n",
    "    return l(x)"
   ]
  },
  {
   "cell_type": "code",
   "execution_count": 43,
   "id": "3f4a51b7",
   "metadata": {},
   "outputs": [
    {
     "data": {
      "text/plain": [
       "11"
      ]
     },
     "execution_count": 43,
     "metadata": {},
     "output_type": "execute_result"
    }
   ],
   "source": [
    "apply_lambda(x, lambda x: x+1)"
   ]
  },
  {
   "cell_type": "code",
   "execution_count": 44,
   "id": "9edef163",
   "metadata": {},
   "outputs": [],
   "source": [
    "def apply_func(fn, *args, **kwargs):\n",
    "    return fn(*args, **kwargs)"
   ]
  },
  {
   "cell_type": "code",
   "execution_count": 45,
   "id": "03255fca",
   "metadata": {},
   "outputs": [
    {
     "data": {
      "text/plain": [
       "9"
      ]
     },
     "execution_count": 45,
     "metadata": {},
     "output_type": "execute_result"
    }
   ],
   "source": [
    "apply_func(sq, 3)"
   ]
  },
  {
   "cell_type": "code",
   "execution_count": 46,
   "id": "f3a12623",
   "metadata": {},
   "outputs": [
    {
     "data": {
      "text/plain": [
       "9"
      ]
     },
     "execution_count": 46,
     "metadata": {},
     "output_type": "execute_result"
    }
   ],
   "source": [
    "apply_func(lambda x: x**2, 3)"
   ]
  },
  {
   "cell_type": "code",
   "execution_count": 47,
   "id": "3de76166",
   "metadata": {},
   "outputs": [
    {
     "data": {
      "text/plain": [
       "4"
      ]
     },
     "execution_count": 47,
     "metadata": {},
     "output_type": "execute_result"
    }
   ],
   "source": [
    "apply_func(lambda x, y: x+y, 2,2)"
   ]
  },
  {
   "cell_type": "code",
   "execution_count": 48,
   "id": "9493a569",
   "metadata": {},
   "outputs": [
    {
     "data": {
      "text/plain": [
       "6"
      ]
     },
     "execution_count": 48,
     "metadata": {},
     "output_type": "execute_result"
    }
   ],
   "source": [
    "apply_func(lambda x, y, z: x+y+z, 2,2, z = 2)"
   ]
  },
  {
   "cell_type": "code",
   "execution_count": 49,
   "id": "25093a11",
   "metadata": {},
   "outputs": [
    {
     "data": {
      "text/plain": [
       "21"
      ]
     },
     "execution_count": 49,
     "metadata": {},
     "output_type": "execute_result"
    }
   ],
   "source": [
    "apply_func(lambda x, *, y: x+y, 1, y = 20)"
   ]
  },
  {
   "cell_type": "code",
   "execution_count": 50,
   "id": "b8ffb475",
   "metadata": {},
   "outputs": [
    {
     "data": {
      "text/plain": [
       "36"
      ]
     },
     "execution_count": 50,
     "metadata": {},
     "output_type": "execute_result"
    }
   ],
   "source": [
    "apply_func(lambda *args: sum(args), 1,2,3,4,5,6,7,8)"
   ]
  },
  {
   "cell_type": "code",
   "execution_count": 51,
   "id": "b5b211e3",
   "metadata": {},
   "outputs": [
    {
     "data": {
      "text/plain": [
       "23"
      ]
     },
     "execution_count": 51,
     "metadata": {},
     "output_type": "execute_result"
    }
   ],
   "source": [
    "apply_func(sum, (1,2,3,4,6,7))"
   ]
  },
  {
   "cell_type": "markdown",
   "id": "c16e65b9",
   "metadata": {},
   "source": [
    "---\n",
    "## Lambdas and Sorting "
   ]
  },
  {
   "cell_type": "code",
   "execution_count": 52,
   "id": "0b1e5055",
   "metadata": {},
   "outputs": [
    {
     "name": "stdout",
     "output_type": "stream",
     "text": [
      "Help on built-in function sorted in module builtins:\n",
      "\n",
      "sorted(iterable, /, *, key=None, reverse=False)\n",
      "    Return a new list containing all items from the iterable in ascending order.\n",
      "    \n",
      "    A custom key function can be supplied to customize the sort order, and the\n",
      "    reverse flag can be set to request the result in descending order.\n",
      "\n"
     ]
    }
   ],
   "source": [
    "help(sorted)"
   ]
  },
  {
   "cell_type": "code",
   "execution_count": 53,
   "id": "1f12025e",
   "metadata": {},
   "outputs": [],
   "source": [
    "l = [1,5,6,20,2,4]"
   ]
  },
  {
   "cell_type": "code",
   "execution_count": 54,
   "id": "8178fa3f",
   "metadata": {},
   "outputs": [
    {
     "data": {
      "text/plain": [
       "[1, 2, 4, 5, 6, 20]"
      ]
     },
     "execution_count": 54,
     "metadata": {},
     "output_type": "execute_result"
    }
   ],
   "source": [
    "sorted(l)"
   ]
  },
  {
   "cell_type": "code",
   "execution_count": 55,
   "id": "dd3ab702",
   "metadata": {},
   "outputs": [],
   "source": [
    "l = ['c', 'B', 'D', 'a']"
   ]
  },
  {
   "cell_type": "code",
   "execution_count": 56,
   "id": "9bf058ea",
   "metadata": {},
   "outputs": [
    {
     "data": {
      "text/plain": [
       "['B', 'D', 'a', 'c']"
      ]
     },
     "execution_count": 56,
     "metadata": {},
     "output_type": "execute_result"
    }
   ],
   "source": [
    "sorted(l)"
   ]
  },
  {
   "cell_type": "code",
   "execution_count": 57,
   "id": "5373a304",
   "metadata": {},
   "outputs": [
    {
     "data": {
      "text/plain": [
       "97"
      ]
     },
     "execution_count": 57,
     "metadata": {},
     "output_type": "execute_result"
    }
   ],
   "source": [
    "ord('a')"
   ]
  },
  {
   "cell_type": "code",
   "execution_count": 58,
   "id": "747434cc",
   "metadata": {},
   "outputs": [
    {
     "data": {
      "text/plain": [
       "66"
      ]
     },
     "execution_count": 58,
     "metadata": {},
     "output_type": "execute_result"
    }
   ],
   "source": [
    "ord('B')"
   ]
  },
  {
   "cell_type": "code",
   "execution_count": 59,
   "id": "31a93a81",
   "metadata": {},
   "outputs": [
    {
     "data": {
      "text/plain": [
       "['a', 'B', 'c', 'D']"
      ]
     },
     "execution_count": 59,
     "metadata": {},
     "output_type": "execute_result"
    }
   ],
   "source": [
    "sorted(l, key=lambda s: s.upper())"
   ]
  },
  {
   "cell_type": "code",
   "execution_count": 60,
   "id": "b67a2280",
   "metadata": {},
   "outputs": [],
   "source": [
    "d = {'def': 300, 'abc': 200, 'ghi': 100}"
   ]
  },
  {
   "cell_type": "code",
   "execution_count": 61,
   "id": "96ff005a",
   "metadata": {},
   "outputs": [
    {
     "name": "stdout",
     "output_type": "stream",
     "text": [
      "def\n",
      "abc\n",
      "ghi\n"
     ]
    }
   ],
   "source": [
    "for e in d:\n",
    "    print(e)"
   ]
  },
  {
   "cell_type": "code",
   "execution_count": 62,
   "id": "35900989",
   "metadata": {},
   "outputs": [
    {
     "data": {
      "text/plain": [
       "['ghi', 'abc', 'def']"
      ]
     },
     "execution_count": 62,
     "metadata": {},
     "output_type": "execute_result"
    }
   ],
   "source": [
    "sorted(d, key=lambda e: d[e])"
   ]
  },
  {
   "cell_type": "code",
   "execution_count": 63,
   "id": "1af334e9",
   "metadata": {},
   "outputs": [],
   "source": [
    "def dist_sq(x):\n",
    "    return (x.real)**2 + (x.imag)**2"
   ]
  },
  {
   "cell_type": "code",
   "execution_count": 64,
   "id": "a8a3ddb3",
   "metadata": {},
   "outputs": [
    {
     "data": {
      "text/plain": [
       "2.0"
      ]
     },
     "execution_count": 64,
     "metadata": {},
     "output_type": "execute_result"
    }
   ],
   "source": [
    "dist_sq(1+1j)"
   ]
  },
  {
   "cell_type": "code",
   "execution_count": 65,
   "id": "778fd8d1",
   "metadata": {},
   "outputs": [],
   "source": [
    "l = [3+3j, 1-1j, 0, 3+0j]"
   ]
  },
  {
   "cell_type": "code",
   "execution_count": 66,
   "id": "15f5b6cc",
   "metadata": {},
   "outputs": [
    {
     "ename": "TypeError",
     "evalue": "'<' not supported between instances of 'complex' and 'complex'",
     "output_type": "error",
     "traceback": [
      "\u001b[0;31m---------------------------------------------------------------------------\u001b[0m",
      "\u001b[0;31mTypeError\u001b[0m                                 Traceback (most recent call last)",
      "\u001b[0;32m<ipython-input-66-04dc31ea0310>\u001b[0m in \u001b[0;36m<module>\u001b[0;34m\u001b[0m\n\u001b[0;32m----> 1\u001b[0;31m \u001b[0msorted\u001b[0m\u001b[0;34m(\u001b[0m\u001b[0ml\u001b[0m\u001b[0;34m)\u001b[0m\u001b[0;34m\u001b[0m\u001b[0;34m\u001b[0m\u001b[0m\n\u001b[0m",
      "\u001b[0;31mTypeError\u001b[0m: '<' not supported between instances of 'complex' and 'complex'"
     ]
    }
   ],
   "source": [
    "sorted(l)"
   ]
  },
  {
   "cell_type": "code",
   "execution_count": 67,
   "id": "fa01e6bf",
   "metadata": {},
   "outputs": [
    {
     "data": {
      "text/plain": [
       "[0, (1-1j), (3+0j), (3+3j)]"
      ]
     },
     "execution_count": 67,
     "metadata": {},
     "output_type": "execute_result"
    }
   ],
   "source": [
    "sorted(l,key=dist_sq)"
   ]
  },
  {
   "cell_type": "code",
   "execution_count": 68,
   "id": "f44897be",
   "metadata": {},
   "outputs": [
    {
     "data": {
      "text/plain": [
       "[0, (1-1j), (3+0j), (3+3j)]"
      ]
     },
     "execution_count": 68,
     "metadata": {},
     "output_type": "execute_result"
    }
   ],
   "source": [
    "sorted(l, key=lambda x: (x.real)**2 + (x.imag)**2)"
   ]
  },
  {
   "cell_type": "code",
   "execution_count": 69,
   "id": "2149bf3f",
   "metadata": {},
   "outputs": [],
   "source": [
    "l = ['Cleese', 'Idle', 'Palin','Chapman', ' Gilliam', 'Jones']"
   ]
  },
  {
   "cell_type": "code",
   "execution_count": 70,
   "id": "488e00f7",
   "metadata": {},
   "outputs": [
    {
     "data": {
      "text/plain": [
       "[' Gilliam', 'Chapman', 'Cleese', 'Idle', 'Jones', 'Palin']"
      ]
     },
     "execution_count": 70,
     "metadata": {},
     "output_type": "execute_result"
    }
   ],
   "source": [
    "sorted(l)"
   ]
  },
  {
   "cell_type": "code",
   "execution_count": 71,
   "id": "6f168012",
   "metadata": {},
   "outputs": [
    {
     "data": {
      "text/plain": [
       "['Cleese', 'Idle', ' Gilliam', 'Palin', 'Chapman', 'Jones']"
      ]
     },
     "execution_count": 71,
     "metadata": {},
     "output_type": "execute_result"
    }
   ],
   "source": [
    "sorted(l, key=lambda c: c[-1])"
   ]
  },
  {
   "cell_type": "markdown",
   "id": "93b4f317",
   "metadata": {},
   "source": [
    "-----\n",
    "## Challenge: Randomizing an Iterable using Sorted"
   ]
  },
  {
   "cell_type": "code",
   "execution_count": 72,
   "id": "19217648",
   "metadata": {},
   "outputs": [],
   "source": [
    "import random"
   ]
  },
  {
   "cell_type": "code",
   "execution_count": 73,
   "id": "bafe1a44",
   "metadata": {},
   "outputs": [
    {
     "name": "stdout",
     "output_type": "stream",
     "text": [
      "Help on built-in function random:\n",
      "\n",
      "random() method of random.Random instance\n",
      "    random() -> x in the interval [0, 1).\n",
      "\n"
     ]
    }
   ],
   "source": [
    "help(random.random)"
   ]
  },
  {
   "cell_type": "code",
   "execution_count": 74,
   "id": "657fba55",
   "metadata": {},
   "outputs": [
    {
     "data": {
      "text/plain": [
       "0.1597535132628941"
      ]
     },
     "execution_count": 74,
     "metadata": {},
     "output_type": "execute_result"
    }
   ],
   "source": [
    "random.random()"
   ]
  },
  {
   "cell_type": "code",
   "execution_count": 75,
   "id": "222d5c4e",
   "metadata": {},
   "outputs": [],
   "source": [
    "l = [1,2,3,4,5,6,7,8,9,10]"
   ]
  },
  {
   "cell_type": "markdown",
   "id": "8fd1fd35",
   "metadata": {},
   "source": [
    "Write a piece of code that will randomize a list"
   ]
  },
  {
   "cell_type": "code",
   "execution_count": 76,
   "id": "f21ec5bf",
   "metadata": {},
   "outputs": [
    {
     "data": {
      "text/plain": [
       "[6, 8, 9, 4, 1, 2, 3, 7, 5, 10]"
      ]
     },
     "execution_count": 76,
     "metadata": {},
     "output_type": "execute_result"
    }
   ],
   "source": [
    "sorted(l, key= lambda e: random.random())"
   ]
  },
  {
   "cell_type": "markdown",
   "id": "5c4ec9fb",
   "metadata": {},
   "source": [
    "----\n",
    "## Functions Introspection\n",
    "\n",
    "**Functions are first-class objects**\n",
    "\n",
    "They have attributes \n",
    "\n",
    "We can attach our own attributes\n",
    "\n",
    "The **dir()** function\n",
    "\n",
    "**dir()** is a built-in fucntion that, given an object as an argument, wiil return a list of valid attributes for that object\n",
    "\n",
    "**dir(my_func)**\n",
    "\n"
   ]
  },
  {
   "cell_type": "code",
   "execution_count": 77,
   "id": "dece4930",
   "metadata": {},
   "outputs": [],
   "source": [
    "def my_func(a: 'mandatory positional',\n",
    "            b: 'optional positional' = 1,\n",
    "            c=2,\n",
    "            *args: 'add extra positional here',\n",
    "            kw1,\n",
    "            kw2=100,\n",
    "            kw3=200,\n",
    "            **kwargs: 'provide extra kw-only here') -> 'does nothing':\n",
    "    '''\n",
    "    This function does nothing but does have various parameteres and annotations.\n",
    "    '''\n",
    "    i = 10\n",
    "    j = 20"
   ]
  },
  {
   "cell_type": "code",
   "execution_count": 78,
   "id": "8d6fb6b3",
   "metadata": {},
   "outputs": [
    {
     "data": {
      "text/plain": [
       "'\\n    This function does nothing but does have various parameteres and annotations.\\n    '"
      ]
     },
     "execution_count": 78,
     "metadata": {},
     "output_type": "execute_result"
    }
   ],
   "source": [
    "my_func.__doc__"
   ]
  },
  {
   "cell_type": "code",
   "execution_count": 79,
   "id": "8ffdd181",
   "metadata": {},
   "outputs": [
    {
     "data": {
      "text/plain": [
       "['__annotations__',\n",
       " '__call__',\n",
       " '__class__',\n",
       " '__closure__',\n",
       " '__code__',\n",
       " '__defaults__',\n",
       " '__delattr__',\n",
       " '__dict__',\n",
       " '__dir__',\n",
       " '__doc__',\n",
       " '__eq__',\n",
       " '__format__',\n",
       " '__ge__',\n",
       " '__get__',\n",
       " '__getattribute__',\n",
       " '__globals__',\n",
       " '__gt__',\n",
       " '__hash__',\n",
       " '__init__',\n",
       " '__init_subclass__',\n",
       " '__kwdefaults__',\n",
       " '__le__',\n",
       " '__lt__',\n",
       " '__module__',\n",
       " '__name__',\n",
       " '__ne__',\n",
       " '__new__',\n",
       " '__qualname__',\n",
       " '__reduce__',\n",
       " '__reduce_ex__',\n",
       " '__repr__',\n",
       " '__setattr__',\n",
       " '__sizeof__',\n",
       " '__str__',\n",
       " '__subclasshook__']"
      ]
     },
     "execution_count": 79,
     "metadata": {},
     "output_type": "execute_result"
    }
   ],
   "source": [
    "dir(my_func)"
   ]
  },
  {
   "cell_type": "code",
   "execution_count": 80,
   "id": "b77b21b5",
   "metadata": {},
   "outputs": [
    {
     "data": {
      "text/plain": [
       "'my_func'"
      ]
     },
     "execution_count": 80,
     "metadata": {},
     "output_type": "execute_result"
    }
   ],
   "source": [
    "my_func.__name__"
   ]
  },
  {
   "cell_type": "code",
   "execution_count": 81,
   "id": "2308a3bf",
   "metadata": {},
   "outputs": [
    {
     "data": {
      "text/plain": [
       "4505628528"
      ]
     },
     "execution_count": 81,
     "metadata": {},
     "output_type": "execute_result"
    }
   ],
   "source": [
    "id(my_func)"
   ]
  },
  {
   "cell_type": "code",
   "execution_count": 82,
   "id": "7766dbf4",
   "metadata": {},
   "outputs": [],
   "source": [
    "def func_call(f):\n",
    "    print(id(f))\n",
    "    print(f.__name__)"
   ]
  },
  {
   "cell_type": "code",
   "execution_count": 83,
   "id": "79ba6c29",
   "metadata": {},
   "outputs": [
    {
     "name": "stdout",
     "output_type": "stream",
     "text": [
      "4505628528\n",
      "my_func\n"
     ]
    }
   ],
   "source": [
    "func_call(my_func)"
   ]
  },
  {
   "cell_type": "code",
   "execution_count": 84,
   "id": "6d114374",
   "metadata": {},
   "outputs": [
    {
     "data": {
      "text/plain": [
       "(1, 2)"
      ]
     },
     "execution_count": 84,
     "metadata": {},
     "output_type": "execute_result"
    }
   ],
   "source": [
    "my_func.__defaults__"
   ]
  },
  {
   "cell_type": "code",
   "execution_count": 85,
   "id": "47cd0212",
   "metadata": {},
   "outputs": [
    {
     "data": {
      "text/plain": [
       "{'kw2': 100, 'kw3': 200}"
      ]
     },
     "execution_count": 85,
     "metadata": {},
     "output_type": "execute_result"
    }
   ],
   "source": [
    "my_func.__kwdefaults__"
   ]
  },
  {
   "cell_type": "markdown",
   "id": "9b76e772",
   "metadata": {},
   "source": [
    "----\n",
    "## Callables\n",
    "\n",
    "Any object that can be called using **()** operator, callables always return a value like **functions** and **methods** but it goes beyond just those two...\n",
    "\n",
    "many other objects in Python are also callable\n",
    "\n",
    "To see if an object is callable, we can use the built-in function: **callable**"
   ]
  },
  {
   "cell_type": "code",
   "execution_count": 86,
   "id": "1c73b87a",
   "metadata": {},
   "outputs": [
    {
     "data": {
      "text/plain": [
       "True"
      ]
     },
     "execution_count": 86,
     "metadata": {},
     "output_type": "execute_result"
    }
   ],
   "source": [
    "callable(print)"
   ]
  },
  {
   "cell_type": "code",
   "execution_count": 87,
   "id": "bd78894e",
   "metadata": {},
   "outputs": [
    {
     "data": {
      "text/plain": [
       "True"
      ]
     },
     "execution_count": 87,
     "metadata": {},
     "output_type": "execute_result"
    }
   ],
   "source": [
    "l = [1,2,3]\n",
    "callable(l.append)"
   ]
  },
  {
   "cell_type": "code",
   "execution_count": 88,
   "id": "fb9cb780",
   "metadata": {},
   "outputs": [
    {
     "name": "stdout",
     "output_type": "stream",
     "text": [
      "[1, 2, 3, 4]\n",
      "None\n"
     ]
    }
   ],
   "source": [
    "result = l.append(4)\n",
    "print(l)\n",
    "print(result)"
   ]
  },
  {
   "cell_type": "code",
   "execution_count": 89,
   "id": "3d8745be",
   "metadata": {},
   "outputs": [
    {
     "data": {
      "text/plain": [
       "True"
      ]
     },
     "execution_count": 89,
     "metadata": {},
     "output_type": "execute_result"
    }
   ],
   "source": [
    "s = 'abc'\n",
    "callable(s.upper)"
   ]
  },
  {
   "cell_type": "code",
   "execution_count": 90,
   "id": "2b032158",
   "metadata": {},
   "outputs": [],
   "source": [
    "from decimal import Decimal"
   ]
  },
  {
   "cell_type": "code",
   "execution_count": 91,
   "id": "5b2f5879",
   "metadata": {},
   "outputs": [
    {
     "data": {
      "text/plain": [
       "True"
      ]
     },
     "execution_count": 91,
     "metadata": {},
     "output_type": "execute_result"
    }
   ],
   "source": [
    "callable(Decimal)"
   ]
  },
  {
   "cell_type": "code",
   "execution_count": 92,
   "id": "a7211dbc",
   "metadata": {},
   "outputs": [],
   "source": [
    "class MyClass:\n",
    "    def __init__(self,x=0):\n",
    "        print('initializing')\n",
    "        self.counter = x\n",
    "        \n",
    "    def __call__(self, x=1):\n",
    "        print('updating counter...')\n",
    "        self.counter += x"
   ]
  },
  {
   "cell_type": "code",
   "execution_count": 93,
   "id": "9f3d672d",
   "metadata": {},
   "outputs": [
    {
     "name": "stdout",
     "output_type": "stream",
     "text": [
      "initializing\n"
     ]
    }
   ],
   "source": [
    "b = MyClass()"
   ]
  },
  {
   "cell_type": "code",
   "execution_count": 94,
   "id": "9a3b4212",
   "metadata": {},
   "outputs": [
    {
     "name": "stdout",
     "output_type": "stream",
     "text": [
      "updating counter...\n"
     ]
    }
   ],
   "source": [
    "MyClass.__call__(b,10)"
   ]
  },
  {
   "cell_type": "code",
   "execution_count": 95,
   "id": "789e9683",
   "metadata": {},
   "outputs": [
    {
     "data": {
      "text/plain": [
       "10"
      ]
     },
     "execution_count": 95,
     "metadata": {},
     "output_type": "execute_result"
    }
   ],
   "source": [
    "b.counter"
   ]
  },
  {
   "cell_type": "code",
   "execution_count": 96,
   "id": "a0d7406c",
   "metadata": {},
   "outputs": [
    {
     "data": {
      "text/plain": [
       "True"
      ]
     },
     "execution_count": 96,
     "metadata": {},
     "output_type": "execute_result"
    }
   ],
   "source": [
    "callable(b)"
   ]
  },
  {
   "cell_type": "code",
   "execution_count": 97,
   "id": "7c6d66fb",
   "metadata": {},
   "outputs": [
    {
     "name": "stdout",
     "output_type": "stream",
     "text": [
      "updating counter...\n"
     ]
    }
   ],
   "source": [
    "b()"
   ]
  },
  {
   "cell_type": "code",
   "execution_count": 98,
   "id": "85497a2f",
   "metadata": {},
   "outputs": [
    {
     "data": {
      "text/plain": [
       "11"
      ]
     },
     "execution_count": 98,
     "metadata": {},
     "output_type": "execute_result"
    }
   ],
   "source": [
    "b.counter"
   ]
  },
  {
   "cell_type": "code",
   "execution_count": 99,
   "id": "04aea3b8",
   "metadata": {},
   "outputs": [
    {
     "name": "stdout",
     "output_type": "stream",
     "text": [
      "updating counter...\n"
     ]
    }
   ],
   "source": [
    "b(100)"
   ]
  },
  {
   "cell_type": "code",
   "execution_count": 100,
   "id": "d992ba0e",
   "metadata": {},
   "outputs": [
    {
     "data": {
      "text/plain": [
       "111"
      ]
     },
     "execution_count": 100,
     "metadata": {},
     "output_type": "execute_result"
    }
   ],
   "source": [
    "b.counter"
   ]
  },
  {
   "cell_type": "code",
   "execution_count": 101,
   "id": "ce41c97e",
   "metadata": {},
   "outputs": [
    {
     "data": {
      "text/plain": [
       "type"
      ]
     },
     "execution_count": 101,
     "metadata": {},
     "output_type": "execute_result"
    }
   ],
   "source": [
    "type(MyClass)"
   ]
  },
  {
   "cell_type": "markdown",
   "id": "fa0b21c6",
   "metadata": {},
   "source": [
    "---\n",
    "## Map, Filter, Zip and List Comprehensions\n",
    "\n",
    "**map(func, *iterables)**\n",
    "\n",
    "it will return an iterator that calculates the function applied to each element of the iterables\n",
    "\n",
    "**filter(func, iterable)**\n",
    "\n",
    "it will return an iterator that contains all the elements of the iterable for which the function called on it is Truthy\n",
    "\n",
    "If the function is **None**, it simply returns the elements of **iterable** that are Thruthy\n",
    "\n",
    "**zip(*iterables)**\n",
    "\n",
    "it will return one iterable. COmbines each element of the iterables.\n",
    "\n",
    "[1,2,3,4].\n",
    "\n",
    "              -> (1,10), (2,20)...\n",
    "\n",
    "[10,20,30,40]. "
   ]
  },
  {
   "cell_type": "code",
   "execution_count": 102,
   "id": "a704b404",
   "metadata": {},
   "outputs": [],
   "source": [
    "def fact(n):\n",
    "    return 1 if n<2 else n*fact(n-1)"
   ]
  },
  {
   "cell_type": "code",
   "execution_count": 103,
   "id": "00f51716",
   "metadata": {},
   "outputs": [
    {
     "data": {
      "text/plain": [
       "6"
      ]
     },
     "execution_count": 103,
     "metadata": {},
     "output_type": "execute_result"
    }
   ],
   "source": [
    "fact(3)"
   ]
  },
  {
   "cell_type": "code",
   "execution_count": 104,
   "id": "e115523a",
   "metadata": {},
   "outputs": [
    {
     "data": {
      "text/plain": [
       "24"
      ]
     },
     "execution_count": 104,
     "metadata": {},
     "output_type": "execute_result"
    }
   ],
   "source": [
    "fact(4)"
   ]
  },
  {
   "cell_type": "code",
   "execution_count": 105,
   "id": "82347263",
   "metadata": {},
   "outputs": [
    {
     "data": {
      "text/plain": [
       "[1, 1, 2, 6, 24]"
      ]
     },
     "execution_count": 105,
     "metadata": {},
     "output_type": "execute_result"
    }
   ],
   "source": [
    "list(map(fact, range(5)))"
   ]
  },
  {
   "cell_type": "code",
   "execution_count": 106,
   "id": "a82c4795",
   "metadata": {},
   "outputs": [
    {
     "data": {
      "text/plain": [
       "[11, 22, 33]"
      ]
     },
     "execution_count": 106,
     "metadata": {},
     "output_type": "execute_result"
    }
   ],
   "source": [
    "l1 = [1,2,3,4,5]\n",
    "l2 = [10,20,30]\n",
    "list(map(lambda x,y: x+y, l1,l2))"
   ]
  },
  {
   "cell_type": "code",
   "execution_count": 107,
   "id": "3619fc27",
   "metadata": {},
   "outputs": [
    {
     "data": {
      "text/plain": [
       "range(0, 25)"
      ]
     },
     "execution_count": 107,
     "metadata": {},
     "output_type": "execute_result"
    }
   ],
   "source": [
    "x = range(25)\n",
    "x"
   ]
  },
  {
   "cell_type": "code",
   "execution_count": 108,
   "id": "9492b10b",
   "metadata": {},
   "outputs": [
    {
     "data": {
      "text/plain": [
       "[0, 3, 6, 9, 12, 15, 18, 21, 24]"
      ]
     },
     "execution_count": 108,
     "metadata": {},
     "output_type": "execute_result"
    }
   ],
   "source": [
    "list(filter(lambda e: e%3==0, x))"
   ]
  },
  {
   "cell_type": "code",
   "execution_count": 109,
   "id": "68c2f1c5",
   "metadata": {},
   "outputs": [
    {
     "data": {
      "text/plain": [
       "[1, 4, 'a', True, 13]"
      ]
     },
     "execution_count": 109,
     "metadata": {},
     "output_type": "execute_result"
    }
   ],
   "source": [
    "list(filter(None, [1,0,4,'a', '', True, None, False, 13 or 0]))"
   ]
  },
  {
   "cell_type": "code",
   "execution_count": 110,
   "id": "42885634",
   "metadata": {},
   "outputs": [],
   "source": [
    "l1 = [1,2,3,4]\n",
    "l2 = [10,20,30,40]\n",
    "l3 = 'python'"
   ]
  },
  {
   "cell_type": "code",
   "execution_count": 111,
   "id": "4403363a",
   "metadata": {},
   "outputs": [
    {
     "data": {
      "text/plain": [
       "[(1, 10, 'p'), (2, 20, 'y'), (3, 30, 't'), (4, 40, 'h')]"
      ]
     },
     "execution_count": 111,
     "metadata": {},
     "output_type": "execute_result"
    }
   ],
   "source": [
    "list(zip(l1,l2,l3))"
   ]
  },
  {
   "cell_type": "code",
   "execution_count": 112,
   "id": "aec58044",
   "metadata": {},
   "outputs": [
    {
     "data": {
      "text/plain": [
       "[(0, 'p'), (1, 'y'), (2, 't'), (3, 'h'), (4, 'o'), (5, 'n')]"
      ]
     },
     "execution_count": 112,
     "metadata": {},
     "output_type": "execute_result"
    }
   ],
   "source": [
    "list(zip(range(10000), 'python'))"
   ]
  },
  {
   "cell_type": "code",
   "execution_count": 113,
   "id": "6e8ed3a7",
   "metadata": {},
   "outputs": [
    {
     "data": {
      "text/plain": [
       "[0, 1, 2, 3, 4, 5, 6, 7, 8, 9]"
      ]
     },
     "execution_count": 113,
     "metadata": {},
     "output_type": "execute_result"
    }
   ],
   "source": [
    "l = range(10)\n",
    "list(l)"
   ]
  },
  {
   "cell_type": "code",
   "execution_count": 114,
   "id": "ce77d866",
   "metadata": {},
   "outputs": [
    {
     "data": {
      "text/plain": [
       "[1, 1, 2, 6, 24, 120, 720, 5040, 40320, 362880]"
      ]
     },
     "execution_count": 114,
     "metadata": {},
     "output_type": "execute_result"
    }
   ],
   "source": [
    "list(map(fact,l))"
   ]
  },
  {
   "cell_type": "code",
   "execution_count": 115,
   "id": "89721c05",
   "metadata": {},
   "outputs": [
    {
     "data": {
      "text/plain": [
       "[1, 1, 2, 6, 24, 120, 720, 5040, 40320, 362880]"
      ]
     },
     "execution_count": 115,
     "metadata": {},
     "output_type": "execute_result"
    }
   ],
   "source": [
    "[fact(x) for x in l]"
   ]
  },
  {
   "cell_type": "code",
   "execution_count": 116,
   "id": "f9058c9c",
   "metadata": {},
   "outputs": [
    {
     "data": {
      "text/plain": [
       "<generator object <genexpr> at 0x10c854c10>"
      ]
     },
     "execution_count": 116,
     "metadata": {},
     "output_type": "execute_result"
    }
   ],
   "source": [
    "(fact(x) for x in l)"
   ]
  },
  {
   "cell_type": "markdown",
   "id": "9eb1cf13",
   "metadata": {},
   "source": [
    "**Generator** is similar to map, filter and zip. It doesn't actually calcualte everything"
   ]
  },
  {
   "cell_type": "code",
   "execution_count": 117,
   "id": "64282b51",
   "metadata": {},
   "outputs": [],
   "source": [
    "l1 = [1,2,3,4,5,6]\n",
    "l2 = [10,20,30,40]"
   ]
  },
  {
   "cell_type": "code",
   "execution_count": 118,
   "id": "2a1a5e34",
   "metadata": {},
   "outputs": [
    {
     "data": {
      "text/plain": [
       "[11, 22, 33, 44]"
      ]
     },
     "execution_count": 118,
     "metadata": {},
     "output_type": "execute_result"
    }
   ],
   "source": [
    "list(map(lambda x,y: x+y, l1,l2))"
   ]
  },
  {
   "cell_type": "code",
   "execution_count": 119,
   "id": "3e53d23e",
   "metadata": {},
   "outputs": [
    {
     "data": {
      "text/plain": [
       "[11, 22, 33, 44]"
      ]
     },
     "execution_count": 119,
     "metadata": {},
     "output_type": "execute_result"
    }
   ],
   "source": [
    "[x+y for x,y in zip(l1,l2)]"
   ]
  },
  {
   "cell_type": "code",
   "execution_count": 120,
   "id": "fc8677a5",
   "metadata": {},
   "outputs": [
    {
     "data": {
      "text/plain": [
       "[22, 44]"
      ]
     },
     "execution_count": 120,
     "metadata": {},
     "output_type": "execute_result"
    }
   ],
   "source": [
    "list(filter(lambda x: x%2 == 0, map(lambda x,y: x+y, l1,l2)))"
   ]
  },
  {
   "cell_type": "code",
   "execution_count": 121,
   "id": "4002e210",
   "metadata": {},
   "outputs": [
    {
     "data": {
      "text/plain": [
       "[22, 44]"
      ]
     },
     "execution_count": 121,
     "metadata": {},
     "output_type": "execute_result"
    }
   ],
   "source": [
    "[x+y for x,y in zip(l1,l2) if (x+y)%2 == 0]"
   ]
  },
  {
   "cell_type": "markdown",
   "id": "312a83a3",
   "metadata": {},
   "source": [
    "-----\n",
    "## Reducing Function"
   ]
  },
  {
   "cell_type": "markdown",
   "id": "b6430caa",
   "metadata": {},
   "source": [
    "These are funtions that recombine an iterable recursively, ending up with a single return value.\n",
    "\n",
    "Also called **accumulators**, **aggregators**, or **folding functions**\n",
    "\n",
    "**The functools module**\n",
    "\n",
    "Python implements to a **reduce** function that will handle any iterable.\n",
    "\n",
    "***from functool import reduce*** "
   ]
  },
  {
   "cell_type": "markdown",
   "id": "e6155df5",
   "metadata": {},
   "source": [
    "**Built-in Reducing Functions**\n",
    "\n",
    "Python provides several common reducing functions:\n",
    "\n",
    "- min\n",
    "\n",
    "- max\n",
    "\n",
    "- sum\n",
    "\n",
    "- any(l) -> True if any element in l is truthy, False otherwhise\n",
    "\n",
    "- all(l) -> True if every element in l is truthy"
   ]
  },
  {
   "cell_type": "code",
   "execution_count": 147,
   "id": "e90d75d7",
   "metadata": {},
   "outputs": [
    {
     "data": {
      "text/plain": [
       "False"
      ]
     },
     "execution_count": 147,
     "metadata": {},
     "output_type": "execute_result"
    }
   ],
   "source": [
    "s = {1,2,0,'None', False, None}\n",
    "all(s)"
   ]
  },
  {
   "cell_type": "code",
   "execution_count": 148,
   "id": "69be63ae",
   "metadata": {},
   "outputs": [
    {
     "data": {
      "text/plain": [
       "True"
      ]
     },
     "execution_count": 148,
     "metadata": {},
     "output_type": "execute_result"
    }
   ],
   "source": [
    "s = {1,2,0,'None', False, None}\n",
    "any(s)"
   ]
  },
  {
   "cell_type": "code",
   "execution_count": 127,
   "id": "f035d3e1",
   "metadata": {},
   "outputs": [],
   "source": [
    "from functools import reduce"
   ]
  },
  {
   "cell_type": "code",
   "execution_count": 131,
   "id": "556e6269",
   "metadata": {},
   "outputs": [],
   "source": [
    "def _reduce(fn, sequence):\n",
    "    result = sequence[0]\n",
    "    for e in sequence[1:]:\n",
    "        result = fn(result, e)\n",
    "    return result"
   ]
  },
  {
   "cell_type": "code",
   "execution_count": 132,
   "id": "afcac1ff",
   "metadata": {},
   "outputs": [
    {
     "data": {
      "text/plain": [
       "15"
      ]
     },
     "execution_count": 132,
     "metadata": {},
     "output_type": "execute_result"
    }
   ],
   "source": [
    "_reduce(lambda a,b: a+b, [1,2,3,4,5])"
   ]
  },
  {
   "cell_type": "code",
   "execution_count": 137,
   "id": "3c5566d6",
   "metadata": {},
   "outputs": [
    {
     "data": {
      "text/plain": [
       "15"
      ]
     },
     "execution_count": 137,
     "metadata": {},
     "output_type": "execute_result"
    }
   ],
   "source": [
    "reduce(lambda a,b: a+b, [1,2,3,4,5])"
   ]
  },
  {
   "cell_type": "markdown",
   "id": "25d91f4e",
   "metadata": {},
   "source": [
    "**Reduce intializer**\n",
    "\n",
    "The **reduce** function has a third (optional) parameter: **initializer**\n",
    "\n",
    "If it is specified, it is essentially like ading it to the front of the iterable\n",
    "\n",
    "It is often used to provide some kind of default in case the iterable is empty"
   ]
  },
  {
   "cell_type": "code",
   "execution_count": 139,
   "id": "22c41dc3",
   "metadata": {},
   "outputs": [
    {
     "data": {
      "text/plain": [
       "1"
      ]
     },
     "execution_count": 139,
     "metadata": {},
     "output_type": "execute_result"
    }
   ],
   "source": [
    "l = []\n",
    "reduce(lambda x,y: x+y, l, 1)"
   ]
  },
  {
   "cell_type": "code",
   "execution_count": 140,
   "id": "09af68b8",
   "metadata": {},
   "outputs": [
    {
     "data": {
      "text/plain": [
       "7"
      ]
     },
     "execution_count": 140,
     "metadata": {},
     "output_type": "execute_result"
    }
   ],
   "source": [
    "l = [1,2,3]\n",
    "reduce(lambda x,y: x+y, l, 1)"
   ]
  },
  {
   "cell_type": "code",
   "execution_count": 146,
   "id": "a4d050c4",
   "metadata": {},
   "outputs": [
    {
     "data": {
      "text/plain": [
       "6"
      ]
     },
     "execution_count": 146,
     "metadata": {},
     "output_type": "execute_result"
    }
   ],
   "source": [
    "l = [1,2,3]\n",
    "reduce(lambda x,y: x+y, l, 0)"
   ]
  },
  {
   "cell_type": "code",
   "execution_count": 149,
   "id": "7ba4ad4f",
   "metadata": {},
   "outputs": [
    {
     "data": {
      "text/plain": [
       "24"
      ]
     },
     "execution_count": 149,
     "metadata": {},
     "output_type": "execute_result"
    }
   ],
   "source": [
    "l = [1,2,3,4]\n",
    "reduce(lambda a,b: a*b, l)"
   ]
  },
  {
   "cell_type": "markdown",
   "id": "e0fadcac",
   "metadata": {},
   "source": [
    "We can calculate factorial with reduce function"
   ]
  },
  {
   "cell_type": "code",
   "execution_count": 150,
   "id": "8a6223ae",
   "metadata": {},
   "outputs": [],
   "source": [
    "# n! = 1 * 2 * 3 * ... * n"
   ]
  },
  {
   "cell_type": "code",
   "execution_count": 152,
   "id": "67427418",
   "metadata": {},
   "outputs": [
    {
     "data": {
      "text/plain": [
       "[0, 1, 2, 3, 4]"
      ]
     },
     "execution_count": 152,
     "metadata": {},
     "output_type": "execute_result"
    }
   ],
   "source": [
    "list(range(5))"
   ]
  },
  {
   "cell_type": "code",
   "execution_count": 155,
   "id": "bbc333e7",
   "metadata": {},
   "outputs": [
    {
     "data": {
      "text/plain": [
       "[0, 1, 2, 3, 4, 5]"
      ]
     },
     "execution_count": 155,
     "metadata": {},
     "output_type": "execute_result"
    }
   ],
   "source": [
    "list(range(5+1))"
   ]
  },
  {
   "cell_type": "code",
   "execution_count": 156,
   "id": "f1bd7069",
   "metadata": {},
   "outputs": [
    {
     "data": {
      "text/plain": [
       "120"
      ]
     },
     "execution_count": 156,
     "metadata": {},
     "output_type": "execute_result"
    }
   ],
   "source": [
    "reduce(lambda a,b: a*b, range(1,5+1))"
   ]
  },
  {
   "cell_type": "code",
   "execution_count": 157,
   "id": "c718b0c4",
   "metadata": {},
   "outputs": [],
   "source": [
    "def fact(n):\n",
    "    return 1 if n < 2 else n * fact(n-1)"
   ]
  },
  {
   "cell_type": "code",
   "execution_count": 158,
   "id": "74e9c6cc",
   "metadata": {},
   "outputs": [
    {
     "data": {
      "text/plain": [
       "120"
      ]
     },
     "execution_count": 158,
     "metadata": {},
     "output_type": "execute_result"
    }
   ],
   "source": [
    "fact(5)"
   ]
  },
  {
   "cell_type": "code",
   "execution_count": 159,
   "id": "15e4e782",
   "metadata": {},
   "outputs": [],
   "source": [
    "def fact(n):\n",
    "    return reduce(lambda a,b: a*b, range(1,n+1))"
   ]
  },
  {
   "cell_type": "code",
   "execution_count": 161,
   "id": "b5443d50",
   "metadata": {},
   "outputs": [
    {
     "data": {
      "text/plain": [
       "120"
      ]
     },
     "execution_count": 161,
     "metadata": {},
     "output_type": "execute_result"
    }
   ],
   "source": [
    "fact(5)"
   ]
  },
  {
   "cell_type": "code",
   "execution_count": 162,
   "id": "4dc85b8e",
   "metadata": {},
   "outputs": [],
   "source": [
    "def _reduce(fn, sequence, initial):\n",
    "    result = initial\n",
    "    for e in sequence:\n",
    "        result = fn(result, e)\n",
    "    return result"
   ]
  },
  {
   "cell_type": "code",
   "execution_count": 163,
   "id": "d1d33a01",
   "metadata": {},
   "outputs": [
    {
     "data": {
      "text/plain": [
       "[1, 2, 3, 4]"
      ]
     },
     "execution_count": 163,
     "metadata": {},
     "output_type": "execute_result"
    }
   ],
   "source": [
    "l"
   ]
  },
  {
   "cell_type": "code",
   "execution_count": 165,
   "id": "0da6ee66",
   "metadata": {},
   "outputs": [
    {
     "data": {
      "text/plain": [
       "110"
      ]
     },
     "execution_count": 165,
     "metadata": {},
     "output_type": "execute_result"
    }
   ],
   "source": [
    "_reduce(lambda a,b: a+b, l, 100)"
   ]
  },
  {
   "cell_type": "code",
   "execution_count": 166,
   "id": "a572e143",
   "metadata": {},
   "outputs": [
    {
     "data": {
      "text/plain": [
       "110"
      ]
     },
     "execution_count": 166,
     "metadata": {},
     "output_type": "execute_result"
    }
   ],
   "source": [
    "reduce(lambda a,b: a+b, l, 100)"
   ]
  },
  {
   "cell_type": "code",
   "execution_count": 167,
   "id": "e3cdfaab",
   "metadata": {},
   "outputs": [
    {
     "data": {
      "text/plain": [
       "['1', '2']"
      ]
     },
     "execution_count": 167,
     "metadata": {},
     "output_type": "execute_result"
    }
   ],
   "source": [
    "string = '1-2'\n",
    "l = string.split('-')\n",
    "l"
   ]
  },
  {
   "cell_type": "code",
   "execution_count": 5,
   "id": "e2507c49",
   "metadata": {},
   "outputs": [
    {
     "data": {
      "text/plain": [
       "Fraction(5, 8)"
      ]
     },
     "execution_count": 5,
     "metadata": {},
     "output_type": "execute_result"
    }
   ],
   "source": [
    "from functools import reduce\n",
    "from fractions import Fraction\n",
    "\n",
    "a = Fraction(1,2)\n",
    "\n",
    "l_fracs = [Fraction(1,2), Fraction(3,4), Fraction(10,6)]\n",
    "\n",
    "l_fracs\n",
    "\n",
    "reduce(lambda x,y: x*y, l_fracs)"
   ]
  },
  {
   "cell_type": "markdown",
   "id": "20cea265",
   "metadata": {},
   "source": [
    "---\n",
    "## Partial Functions\n",
    "\n",
    "**Reducing Function Arguments**\n",
    "\n",
    "***from functools import partial**\n",
    "\n",
    "    f = partial(my_func,10)\n",
    "    \n",
    "    10 being the first positional argument of 'my_func'\n",
    "    \n",
    "    f(20,30)\n",
    "    \n",
    "    20,30 being the second positional argument of 'my_func'\n",
    "    \n",
    "**Handling complex arguments**\n",
    "\n",
    "    def my_func(a,b, *args, k1, k2, **kwargs):\n",
    "        print(a,b,args,k1,k2,kwargs)\n",
    "        \n",
    "    def f(b, *args, k2, **kwargs):\n",
    "        return my_func(10,b,*args, k1='a', k2=k2, **kwargs)\n",
    "        \n",
    "    Here we reduced it by two arguments: a & k1\n",
    "    \n",
    "    f = partial(my_func, 10, k1='a')\n",
    "    \n",
    "    With partial it gets simpler, here we specify reducing the two arguments mentioned\n",
    "    \n",
    "   \n",
    "**Handling more complex arguments**\n",
    "\n",
    "    def pow(base, exponent):\n",
    "        return base ** exponent\n",
    "        \n",
    "    square = partial(pow, exponent = 2)\n",
    "    cube = partial(pow, exponent = 3)\n",
    "    \n",
    "    square(5) - >  25\n",
    "     \n",
    "    cube(5) - >  125\n",
    "    \n",
    "    cube(base=5)\n",
    "    \n",
    "    !! square(5, exponent=3)\n",
    "    \n",
    "    With this, you override the values!\n",
    "    \n",
    "**Beware**\n",
    "\n",
    "You can use variables when creating partials, but there arises a similar issue to argument default values\n",
    "\n",
    "\n",
    "    def my_func(a,b,c):\n",
    "        print(a,b,c)\n",
    "        \n",
    "    a = 10\n",
    "    f = partial(my_func, a)\n",
    "    \n",
    "    The memory address of 10 is baked in to the partial\n",
    "    \n",
    "    a = 100\n",
    "    \n",
    "    Now a is pointing to 100 but the partial still points to the original object(10)\n",
    "    \n",
    "    f(20,30) - > 10,20,30\n",
    "    \n",
    "If **a** is mutable, then it's contents can be changed"
   ]
  },
  {
   "cell_type": "code",
   "execution_count": 176,
   "id": "fbc3d5c5",
   "metadata": {},
   "outputs": [],
   "source": [
    "from functools import partial"
   ]
  },
  {
   "cell_type": "code",
   "execution_count": 177,
   "id": "16c356f2",
   "metadata": {},
   "outputs": [],
   "source": [
    "def my_func(a,b,c):\n",
    "    print(a,b,c)"
   ]
  },
  {
   "cell_type": "code",
   "execution_count": 178,
   "id": "ab99984e",
   "metadata": {},
   "outputs": [
    {
     "name": "stdout",
     "output_type": "stream",
     "text": [
      "10 20 30\n"
     ]
    }
   ],
   "source": [
    "my_func(10,20,30)"
   ]
  },
  {
   "cell_type": "markdown",
   "id": "025a3b85",
   "metadata": {},
   "source": [
    "We can reduce the arguments "
   ]
  },
  {
   "cell_type": "code",
   "execution_count": 179,
   "id": "373b0a2e",
   "metadata": {},
   "outputs": [],
   "source": [
    "def f(x,y):\n",
    "    return my_func(10,x,y)"
   ]
  },
  {
   "cell_type": "code",
   "execution_count": 180,
   "id": "7e3dc99b",
   "metadata": {},
   "outputs": [
    {
     "name": "stdout",
     "output_type": "stream",
     "text": [
      "10 20 30\n"
     ]
    }
   ],
   "source": [
    "f(20,30)"
   ]
  },
  {
   "cell_type": "code",
   "execution_count": 181,
   "id": "891b2e6a",
   "metadata": {},
   "outputs": [
    {
     "name": "stdout",
     "output_type": "stream",
     "text": [
      "10 100 200\n"
     ]
    }
   ],
   "source": [
    "f(100,200)"
   ]
  },
  {
   "cell_type": "code",
   "execution_count": 182,
   "id": "8d230cbc",
   "metadata": {},
   "outputs": [
    {
     "name": "stdout",
     "output_type": "stream",
     "text": [
      "10 100 200\n"
     ]
    }
   ],
   "source": [
    "f = lambda x,y: my_func(10,x,y)\n",
    "f(100,200)"
   ]
  },
  {
   "cell_type": "code",
   "execution_count": 183,
   "id": "301818ca",
   "metadata": {},
   "outputs": [],
   "source": [
    "f = partial(my_func, 10)"
   ]
  },
  {
   "cell_type": "code",
   "execution_count": 184,
   "id": "ed88ef65",
   "metadata": {},
   "outputs": [
    {
     "name": "stdout",
     "output_type": "stream",
     "text": [
      "10 20 30\n"
     ]
    }
   ],
   "source": [
    "f(20,30)"
   ]
  },
  {
   "cell_type": "code",
   "execution_count": 186,
   "id": "4bb88027",
   "metadata": {},
   "outputs": [],
   "source": [
    "f = partial(my_func, 10, 20)"
   ]
  },
  {
   "cell_type": "code",
   "execution_count": 187,
   "id": "ac799f6b",
   "metadata": {},
   "outputs": [
    {
     "name": "stdout",
     "output_type": "stream",
     "text": [
      "10 20 30\n"
     ]
    }
   ],
   "source": [
    "f(30)"
   ]
  },
  {
   "cell_type": "code",
   "execution_count": 188,
   "id": "d2f34e0f",
   "metadata": {},
   "outputs": [
    {
     "ename": "TypeError",
     "evalue": "my_func() takes 3 positional arguments but 4 were given",
     "output_type": "error",
     "traceback": [
      "\u001b[0;31m---------------------------------------------------------------------------\u001b[0m",
      "\u001b[0;31mTypeError\u001b[0m                                 Traceback (most recent call last)",
      "\u001b[0;32m<ipython-input-188-13dc1c190c91>\u001b[0m in \u001b[0;36m<module>\u001b[0;34m\u001b[0m\n\u001b[0;32m----> 1\u001b[0;31m \u001b[0mf\u001b[0m\u001b[0;34m(\u001b[0m\u001b[0;36m10\u001b[0m\u001b[0;34m,\u001b[0m\u001b[0;36m20\u001b[0m\u001b[0;34m)\u001b[0m\u001b[0;34m\u001b[0m\u001b[0;34m\u001b[0m\u001b[0m\n\u001b[0m",
      "\u001b[0;31mTypeError\u001b[0m: my_func() takes 3 positional arguments but 4 were given"
     ]
    }
   ],
   "source": [
    "f(10,20)"
   ]
  },
  {
   "cell_type": "code",
   "execution_count": 189,
   "id": "1b952266",
   "metadata": {},
   "outputs": [],
   "source": [
    "def my_func(a,b,*args,k1,k2, **kwargs):\n",
    "    print(a,b,args,k1,k2,kwargs)"
   ]
  },
  {
   "cell_type": "code",
   "execution_count": 200,
   "id": "700b5b38",
   "metadata": {},
   "outputs": [
    {
     "name": "stdout",
     "output_type": "stream",
     "text": [
      "10 20 (100, 200) a b {'k3': 'c', 'k4': None}\n"
     ]
    }
   ],
   "source": [
    "my_func(10,20,100,200, k1='a', k2='b', k3='c', k4=None)"
   ]
  },
  {
   "cell_type": "code",
   "execution_count": 196,
   "id": "00bc8d83",
   "metadata": {},
   "outputs": [],
   "source": [
    "f = partial(my_func, 10, k2 = 'b')"
   ]
  },
  {
   "cell_type": "code",
   "execution_count": 197,
   "id": "c32c31ad",
   "metadata": {},
   "outputs": [
    {
     "name": "stdout",
     "output_type": "stream",
     "text": [
      "10 20 (100, 200) a b {'k3': 'c', 'k4': None}\n"
     ]
    }
   ],
   "source": [
    "f(20,100,200, k1='a', k3='c', k4=None)"
   ]
  },
  {
   "cell_type": "code",
   "execution_count": 201,
   "id": "fb8b8675",
   "metadata": {},
   "outputs": [],
   "source": [
    "def pow(base,exponent):\n",
    "    return base ** exponent\n"
   ]
  },
  {
   "cell_type": "markdown",
   "id": "373d054f",
   "metadata": {},
   "source": [
    "You can specify with a keyword argument which value you want to set in partial function"
   ]
  },
  {
   "cell_type": "code",
   "execution_count": 206,
   "id": "aa979bed",
   "metadata": {},
   "outputs": [],
   "source": [
    "sq = partial(pow,exponent = 2)"
   ]
  },
  {
   "cell_type": "code",
   "execution_count": 207,
   "id": "309847ef",
   "metadata": {},
   "outputs": [
    {
     "data": {
      "text/plain": [
       "100"
      ]
     },
     "execution_count": 207,
     "metadata": {},
     "output_type": "execute_result"
    }
   ],
   "source": [
    "sq(10)"
   ]
  },
  {
   "cell_type": "code",
   "execution_count": 208,
   "id": "d3fb330d",
   "metadata": {},
   "outputs": [],
   "source": [
    "cube = partial(pow, exponent = 3)"
   ]
  },
  {
   "cell_type": "code",
   "execution_count": 211,
   "id": "32f3a4f0",
   "metadata": {},
   "outputs": [
    {
     "data": {
      "text/plain": [
       "8"
      ]
     },
     "execution_count": 211,
     "metadata": {},
     "output_type": "execute_result"
    }
   ],
   "source": [
    "cube(2)"
   ]
  },
  {
   "cell_type": "code",
   "execution_count": 212,
   "id": "9c39a74a",
   "metadata": {},
   "outputs": [
    {
     "data": {
      "text/plain": [
       "125"
      ]
     },
     "execution_count": 212,
     "metadata": {},
     "output_type": "execute_result"
    }
   ],
   "source": [
    "cube(base=5)"
   ]
  },
  {
   "cell_type": "code",
   "execution_count": 213,
   "id": "9304f363",
   "metadata": {},
   "outputs": [
    {
     "data": {
      "text/plain": [
       "25"
      ]
     },
     "execution_count": 213,
     "metadata": {},
     "output_type": "execute_result"
    }
   ],
   "source": [
    "cube(5,exponent=2)"
   ]
  },
  {
   "cell_type": "code",
   "execution_count": 218,
   "id": "6f1b5d54",
   "metadata": {},
   "outputs": [],
   "source": [
    "a = 2\n",
    "sq = partial(pow, exponent=a)"
   ]
  },
  {
   "cell_type": "code",
   "execution_count": 219,
   "id": "c96bd64b",
   "metadata": {},
   "outputs": [
    {
     "data": {
      "text/plain": [
       "25"
      ]
     },
     "execution_count": 219,
     "metadata": {},
     "output_type": "execute_result"
    }
   ],
   "source": [
    "sq(5)"
   ]
  },
  {
   "cell_type": "code",
   "execution_count": 220,
   "id": "1f36fd6c",
   "metadata": {},
   "outputs": [],
   "source": [
    "a = 3"
   ]
  },
  {
   "cell_type": "code",
   "execution_count": 221,
   "id": "17e08d70",
   "metadata": {},
   "outputs": [
    {
     "data": {
      "text/plain": [
       "25"
      ]
     },
     "execution_count": 221,
     "metadata": {},
     "output_type": "execute_result"
    }
   ],
   "source": [
    "sq(5)"
   ]
  },
  {
   "cell_type": "code",
   "execution_count": 222,
   "id": "dd4f0d08",
   "metadata": {},
   "outputs": [],
   "source": [
    "def my_func(a,b):\n",
    "    print(a,b)"
   ]
  },
  {
   "cell_type": "code",
   "execution_count": 223,
   "id": "83e79c23",
   "metadata": {},
   "outputs": [],
   "source": [
    "a = [1,2]\n",
    "f = partial(my_func,a)"
   ]
  },
  {
   "cell_type": "code",
   "execution_count": 224,
   "id": "fdd10641",
   "metadata": {},
   "outputs": [],
   "source": [
    "a.append(3)"
   ]
  },
  {
   "cell_type": "code",
   "execution_count": 225,
   "id": "08b47366",
   "metadata": {},
   "outputs": [
    {
     "data": {
      "text/plain": [
       "[1, 2, 3]"
      ]
     },
     "execution_count": 225,
     "metadata": {},
     "output_type": "execute_result"
    }
   ],
   "source": [
    "a "
   ]
  },
  {
   "cell_type": "code",
   "execution_count": 226,
   "id": "febda06f",
   "metadata": {},
   "outputs": [
    {
     "name": "stdout",
     "output_type": "stream",
     "text": [
      "[1, 2, 3] not a list\n"
     ]
    }
   ],
   "source": [
    "f('not a list')"
   ]
  },
  {
   "cell_type": "markdown",
   "id": "e1f74e45",
   "metadata": {},
   "source": [
    "**Applications of partial function**"
   ]
  },
  {
   "cell_type": "code",
   "execution_count": 240,
   "id": "acfc41d6",
   "metadata": {},
   "outputs": [],
   "source": [
    "origin = (0,0)"
   ]
  },
  {
   "cell_type": "code",
   "execution_count": 241,
   "id": "8ca826b0",
   "metadata": {},
   "outputs": [],
   "source": [
    "l = [(1,1), (0,2), (-3,2), (0,0), (10,10)]"
   ]
  },
  {
   "cell_type": "code",
   "execution_count": 248,
   "id": "7739d32d",
   "metadata": {},
   "outputs": [],
   "source": [
    "dist_square = lambda a,b: (a[0] - b[0])**2 + (a[1] - b[1]) **2"
   ]
  },
  {
   "cell_type": "code",
   "execution_count": 249,
   "id": "4077bd71",
   "metadata": {},
   "outputs": [
    {
     "data": {
      "text/plain": [
       "2"
      ]
     },
     "execution_count": 249,
     "metadata": {},
     "output_type": "execute_result"
    }
   ],
   "source": [
    "dist_square((1,1), origin)"
   ]
  },
  {
   "cell_type": "code",
   "execution_count": 250,
   "id": "7449f719",
   "metadata": {},
   "outputs": [],
   "source": [
    "f = partial(dist_square, origin)"
   ]
  },
  {
   "cell_type": "code",
   "execution_count": 251,
   "id": "cbb58d02",
   "metadata": {},
   "outputs": [
    {
     "data": {
      "text/plain": [
       "2"
      ]
     },
     "execution_count": 251,
     "metadata": {},
     "output_type": "execute_result"
    }
   ],
   "source": [
    "f((1,1))"
   ]
  },
  {
   "cell_type": "code",
   "execution_count": 256,
   "id": "8c28246a",
   "metadata": {},
   "outputs": [
    {
     "data": {
      "text/plain": [
       "[(0, 0), (1, 1), (0, 2), (-3, 2), (10, 10)]"
      ]
     },
     "execution_count": 256,
     "metadata": {},
     "output_type": "execute_result"
    }
   ],
   "source": [
    "sorted(l, key=f)"
   ]
  },
  {
   "cell_type": "code",
   "execution_count": 258,
   "id": "bfa6c641",
   "metadata": {},
   "outputs": [
    {
     "data": {
      "text/plain": [
       "[(0, 0), (1, 1), (0, 2), (-3, 2), (10, 10)]"
      ]
     },
     "execution_count": 258,
     "metadata": {},
     "output_type": "execute_result"
    }
   ],
   "source": [
    "sorted(l, key=partial(dist_square, origin))"
   ]
  },
  {
   "cell_type": "markdown",
   "id": "27231d10",
   "metadata": {},
   "source": [
    "---\n",
    "## The Operator Module "
   ]
  },
  {
   "cell_type": "markdown",
   "id": "51b5d30b",
   "metadata": {},
   "source": [
    "This module is a convenience module\n",
    "\n",
    "**- Arithmetic Functions**\n",
    "    \n",
    "    add(a,b)\n",
    "    mul(a,b)\n",
    "    pow(a,b)\n",
    "    mod(a,b)\n",
    "    floordiv(a,b)\n",
    "    neg(a)\n",
    "    and many more...\n",
    "    \n",
    "**-Comparison and Boolean Operators**\n",
    "\n",
    "    lt(a,b)   gt(a,b)   eq(a,b)\n",
    "    le(a,b)   ge(a,b)   ne(a,b)\n",
    "    is_(a,b)\n",
    "    and_(a,b)\n",
    "    or_(a,b)\n",
    "    not_(a,b)\n",
    "    \n",
    "**-Sequence/Mapping Operators**\n",
    "\n",
    "    concat(s1,s2)\n",
    "    contains(s,val)\n",
    "    countOf(s,val)\n",
    "    geitem(s,i) -> Variants use slices\n",
    "    setitem(s,i,val) -> Mutable objects ->Variants use slices\n",
    "    delitem(s,i) -> Mutable objects"
   ]
  },
  {
   "cell_type": "markdown",
   "id": "778ee62f",
   "metadata": {},
   "source": [
    "**Item Getters**\n",
    "\n",
    "The **itemgetter** function returns a **callable**\n",
    "\n",
    "**getitem(s,i)** takes two parameters, and returns a value: s[i]\n",
    "\n",
    "    s = [1,2,3]\n",
    "    getitem(s,1) = 2\n",
    "\n",
    "**itemgetter(i)** returns a callable which takes one parameter: a saquence object\n",
    "\n",
    "    f = itemgetter(1)\n",
    "    \n",
    "    s = [1,2,3]\n",
    "    f(s)  =  2\n",
    "    \n",
    "    \n",
    "    s = 'python'\n",
    "    f(s) = 'y'\n",
    "    \n",
    "We can pass more than one index to **itemgetter**:\n",
    "\n",
    "    l = [1,2,3,4,5,6]\n",
    "    s = 'python'\n",
    "    \n",
    "    f = itemgetter(1,3,4)\n",
    "    f(l) -> (2,4,5)\n",
    "    \n",
    "    f(s) -> ('y','h','o')\n",
    "    \n",
    "**Attribute Getters**\n",
    "\n",
    "The **attrgetter** function is similar to **itemgetter**, but is used to retrieve **object attributes**\n",
    "\n",
    "It also returns a **callable**, that takes the object as an argument.\n",
    "\n",
    "Suppose **my_obj** is an object with three properties:\n",
    "\n",
    "    my_obj.a -> 10\n",
    "    my_obj.b -> 20\n",
    "    \n",
    "    f = attrgetter('a')\n",
    "    f(my_obj) = 10\n",
    "    \n",
    "    f = attrgetter('a','c')\n",
    "    f(my_obj) = (10,20)\n",
    "    \n",
    "    attrgetter('a','b')(my_obj)\n",
    "    \n",
    "**Calling another Callable**\n",
    "\n",
    "Consider the **str** class that provides the **upper()** method:\n",
    "\n",
    "    s = 'python'  s.upper() = 'PYTHON'\n",
    "    f = attrgetter('upper')\n",
    "    f('python') = returns the upper method of s it is callable, and can be called using()\n",
    "    f(s)() = 'PYTHON'\n",
    "    attrgetter('upper')(s)() = 'PYTHON'\n",
    "    \n",
    "Or, we can use the slightly simpler **methodcaller** function\n",
    "\n",
    "    methodcaller('upper')('python')\n"
   ]
  },
  {
   "cell_type": "code",
   "execution_count": 16,
   "id": "672d9847",
   "metadata": {},
   "outputs": [],
   "source": [
    "import operator"
   ]
  },
  {
   "cell_type": "code",
   "execution_count": 17,
   "id": "fada0719",
   "metadata": {},
   "outputs": [
    {
     "data": {
      "text/plain": [
       "2"
      ]
     },
     "execution_count": 17,
     "metadata": {},
     "output_type": "execute_result"
    }
   ],
   "source": [
    "1+1"
   ]
  },
  {
   "cell_type": "code",
   "execution_count": 19,
   "id": "69197b68",
   "metadata": {},
   "outputs": [
    {
     "data": {
      "text/plain": [
       "2"
      ]
     },
     "execution_count": 19,
     "metadata": {},
     "output_type": "execute_result"
    }
   ],
   "source": [
    "operator.add(1,1)"
   ]
  },
  {
   "cell_type": "code",
   "execution_count": 22,
   "id": "6e12c384",
   "metadata": {},
   "outputs": [
    {
     "data": {
      "text/plain": [
       "2"
      ]
     },
     "execution_count": 22,
     "metadata": {},
     "output_type": "execute_result"
    }
   ],
   "source": [
    "operator.mul(1,2)"
   ]
  },
  {
   "cell_type": "code",
   "execution_count": 23,
   "id": "05e88957",
   "metadata": {},
   "outputs": [],
   "source": [
    "from functools import reduce"
   ]
  },
  {
   "cell_type": "code",
   "execution_count": 26,
   "id": "5a3f1404",
   "metadata": {},
   "outputs": [
    {
     "data": {
      "text/plain": [
       "24"
      ]
     },
     "execution_count": 26,
     "metadata": {},
     "output_type": "execute_result"
    }
   ],
   "source": [
    "reduce(lambda x,y: x*y, [1,2,3,4])"
   ]
  },
  {
   "cell_type": "code",
   "execution_count": 27,
   "id": "352e3d2e",
   "metadata": {},
   "outputs": [
    {
     "data": {
      "text/plain": [
       "24"
      ]
     },
     "execution_count": 27,
     "metadata": {},
     "output_type": "execute_result"
    }
   ],
   "source": [
    "reduce(operator.mul, [1,2,3,4])"
   ]
  },
  {
   "cell_type": "code",
   "execution_count": 28,
   "id": "a369971a",
   "metadata": {},
   "outputs": [
    {
     "data": {
      "text/plain": [
       "False"
      ]
     },
     "execution_count": 28,
     "metadata": {},
     "output_type": "execute_result"
    }
   ],
   "source": [
    "operator.is_('abc', 'not abc')"
   ]
  },
  {
   "cell_type": "markdown",
   "id": "7f3df45f",
   "metadata": {},
   "source": [
    "Interning the string with is_"
   ]
  },
  {
   "cell_type": "code",
   "execution_count": 29,
   "id": "f1984cf5",
   "metadata": {},
   "outputs": [
    {
     "data": {
      "text/plain": [
       "True"
      ]
     },
     "execution_count": 29,
     "metadata": {},
     "output_type": "execute_result"
    }
   ],
   "source": [
    "operator.is_('sad asda as', 'sad asda as')"
   ]
  },
  {
   "cell_type": "code",
   "execution_count": 30,
   "id": "5a876966",
   "metadata": {},
   "outputs": [],
   "source": [
    "my_list = [1,2,3,4]"
   ]
  },
  {
   "cell_type": "code",
   "execution_count": 31,
   "id": "4b1c2906",
   "metadata": {},
   "outputs": [
    {
     "data": {
      "text/plain": [
       "2"
      ]
     },
     "execution_count": 31,
     "metadata": {},
     "output_type": "execute_result"
    }
   ],
   "source": [
    "my_list[1]"
   ]
  },
  {
   "cell_type": "code",
   "execution_count": 32,
   "id": "ea595e99",
   "metadata": {},
   "outputs": [
    {
     "data": {
      "text/plain": [
       "2"
      ]
     },
     "execution_count": 32,
     "metadata": {},
     "output_type": "execute_result"
    }
   ],
   "source": [
    "operator.getitem(my_list, 1)"
   ]
  },
  {
   "cell_type": "code",
   "execution_count": 33,
   "id": "97c44579",
   "metadata": {},
   "outputs": [],
   "source": [
    "my_list[1] = 100"
   ]
  },
  {
   "cell_type": "code",
   "execution_count": 34,
   "id": "93969593",
   "metadata": {},
   "outputs": [
    {
     "data": {
      "text/plain": [
       "[1, 100, 3, 4]"
      ]
     },
     "execution_count": 34,
     "metadata": {},
     "output_type": "execute_result"
    }
   ],
   "source": [
    "my_list"
   ]
  },
  {
   "cell_type": "code",
   "execution_count": 35,
   "id": "21608a36",
   "metadata": {},
   "outputs": [],
   "source": [
    "del my_list[3]"
   ]
  },
  {
   "cell_type": "code",
   "execution_count": 36,
   "id": "abad6554",
   "metadata": {},
   "outputs": [
    {
     "data": {
      "text/plain": [
       "[1, 100, 3]"
      ]
     },
     "execution_count": 36,
     "metadata": {},
     "output_type": "execute_result"
    }
   ],
   "source": [
    "my_list"
   ]
  },
  {
   "cell_type": "code",
   "execution_count": 39,
   "id": "1ed4484f",
   "metadata": {},
   "outputs": [],
   "source": [
    "operator.setitem(my_list, 0, 100)"
   ]
  },
  {
   "cell_type": "code",
   "execution_count": 40,
   "id": "75852053",
   "metadata": {},
   "outputs": [
    {
     "data": {
      "text/plain": [
       "[100, 100, 3]"
      ]
     },
     "execution_count": 40,
     "metadata": {},
     "output_type": "execute_result"
    }
   ],
   "source": [
    "my_list"
   ]
  },
  {
   "cell_type": "code",
   "execution_count": 41,
   "id": "f7a135b0",
   "metadata": {},
   "outputs": [],
   "source": [
    "operator.delitem(my_list, -1)"
   ]
  },
  {
   "cell_type": "code",
   "execution_count": 42,
   "id": "7fc7f315",
   "metadata": {
    "scrolled": true
   },
   "outputs": [
    {
     "data": {
      "text/plain": [
       "[100, 100]"
      ]
     },
     "execution_count": 42,
     "metadata": {},
     "output_type": "execute_result"
    }
   ],
   "source": [
    "my_list"
   ]
  },
  {
   "cell_type": "code",
   "execution_count": 45,
   "id": "d12f569b",
   "metadata": {},
   "outputs": [],
   "source": [
    "my_list = [1,2,3,4,5]"
   ]
  },
  {
   "cell_type": "code",
   "execution_count": 46,
   "id": "b2a2d011",
   "metadata": {},
   "outputs": [],
   "source": [
    "f = operator.itemgetter(2)"
   ]
  },
  {
   "cell_type": "code",
   "execution_count": 48,
   "id": "c45c3493",
   "metadata": {},
   "outputs": [
    {
     "data": {
      "text/plain": [
       "operator.itemgetter"
      ]
     },
     "execution_count": 48,
     "metadata": {},
     "output_type": "execute_result"
    }
   ],
   "source": [
    "type(f)"
   ]
  },
  {
   "cell_type": "code",
   "execution_count": 47,
   "id": "819a12b0",
   "metadata": {},
   "outputs": [
    {
     "data": {
      "text/plain": [
       "3"
      ]
     },
     "execution_count": 47,
     "metadata": {},
     "output_type": "execute_result"
    }
   ],
   "source": [
    "f(my_list)"
   ]
  },
  {
   "cell_type": "code",
   "execution_count": 49,
   "id": "7dd9eb0f",
   "metadata": {},
   "outputs": [
    {
     "data": {
      "text/plain": [
       "'t'"
      ]
     },
     "execution_count": 49,
     "metadata": {},
     "output_type": "execute_result"
    }
   ],
   "source": [
    "s = 'python'\n",
    "f(s)"
   ]
  },
  {
   "cell_type": "code",
   "execution_count": 50,
   "id": "fe95cc4f",
   "metadata": {},
   "outputs": [],
   "source": [
    "f = operator.itemgetter(2,3)"
   ]
  },
  {
   "cell_type": "code",
   "execution_count": 51,
   "id": "ad9ed165",
   "metadata": {},
   "outputs": [
    {
     "data": {
      "text/plain": [
       "(3, 4)"
      ]
     },
     "execution_count": 51,
     "metadata": {},
     "output_type": "execute_result"
    }
   ],
   "source": [
    "f(my_list)"
   ]
  },
  {
   "cell_type": "code",
   "execution_count": 52,
   "id": "332c67e0",
   "metadata": {},
   "outputs": [],
   "source": [
    "f = operator.itemgetter(2,3)(my_list)"
   ]
  },
  {
   "cell_type": "code",
   "execution_count": 54,
   "id": "c3b33d18",
   "metadata": {},
   "outputs": [
    {
     "data": {
      "text/plain": [
       "(3, 4)"
      ]
     },
     "execution_count": 54,
     "metadata": {},
     "output_type": "execute_result"
    }
   ],
   "source": [
    "f"
   ]
  },
  {
   "cell_type": "code",
   "execution_count": 65,
   "id": "1a5cb9bf",
   "metadata": {},
   "outputs": [],
   "source": [
    "class MyClass:\n",
    "    def __init__(self):\n",
    "        self.a = 10\n",
    "        self.b = 20\n",
    "        self.c = 30\n",
    "    \n",
    "    def test(self):\n",
    "        print('test method running')\n",
    "        \n",
    "    def __call__(self):\n",
    "        print('ring ring')"
   ]
  },
  {
   "cell_type": "code",
   "execution_count": 70,
   "id": "a2143214",
   "metadata": {},
   "outputs": [],
   "source": [
    "obj = MyClass()"
   ]
  },
  {
   "cell_type": "code",
   "execution_count": 71,
   "id": "a324cd2a",
   "metadata": {},
   "outputs": [
    {
     "data": {
      "text/plain": [
       "10"
      ]
     },
     "execution_count": 71,
     "metadata": {},
     "output_type": "execute_result"
    }
   ],
   "source": [
    "obj.a"
   ]
  },
  {
   "cell_type": "code",
   "execution_count": 72,
   "id": "567f6a3a",
   "metadata": {},
   "outputs": [
    {
     "data": {
      "text/plain": [
       "20"
      ]
     },
     "execution_count": 72,
     "metadata": {},
     "output_type": "execute_result"
    }
   ],
   "source": [
    "obj.b"
   ]
  },
  {
   "cell_type": "code",
   "execution_count": 73,
   "id": "8c5d17e6",
   "metadata": {},
   "outputs": [
    {
     "name": "stdout",
     "output_type": "stream",
     "text": [
      "test method running\n"
     ]
    }
   ],
   "source": [
    "obj.test()"
   ]
  },
  {
   "cell_type": "code",
   "execution_count": 80,
   "id": "e62ab044",
   "metadata": {},
   "outputs": [],
   "source": [
    "prop_a = operator.attrgetter('a')"
   ]
  },
  {
   "cell_type": "code",
   "execution_count": 81,
   "id": "240737ce",
   "metadata": {},
   "outputs": [
    {
     "data": {
      "text/plain": [
       "10"
      ]
     },
     "execution_count": 81,
     "metadata": {},
     "output_type": "execute_result"
    }
   ],
   "source": [
    "prop_a(obj)"
   ]
  },
  {
   "cell_type": "code",
   "execution_count": 84,
   "id": "1f6fc48c",
   "metadata": {},
   "outputs": [],
   "source": [
    "my_var = 'b'"
   ]
  },
  {
   "cell_type": "code",
   "execution_count": 85,
   "id": "678df738",
   "metadata": {},
   "outputs": [
    {
     "ename": "AttributeError",
     "evalue": "'MyClass' object has no attribute 'my_var'",
     "output_type": "error",
     "traceback": [
      "\u001b[0;31m---------------------------------------------------------------------------\u001b[0m",
      "\u001b[0;31mAttributeError\u001b[0m                            Traceback (most recent call last)",
      "\u001b[0;32m<ipython-input-85-78ca44bc5d66>\u001b[0m in \u001b[0;36m<module>\u001b[0;34m\u001b[0m\n\u001b[0;32m----> 1\u001b[0;31m \u001b[0mobj\u001b[0m\u001b[0;34m.\u001b[0m\u001b[0mmy_var\u001b[0m\u001b[0;34m\u001b[0m\u001b[0;34m\u001b[0m\u001b[0m\n\u001b[0m",
      "\u001b[0;31mAttributeError\u001b[0m: 'MyClass' object has no attribute 'my_var'"
     ]
    }
   ],
   "source": [
    "obj.my_var"
   ]
  },
  {
   "cell_type": "code",
   "execution_count": 86,
   "id": "285c08bc",
   "metadata": {},
   "outputs": [
    {
     "data": {
      "text/plain": [
       "operator.attrgetter('b')"
      ]
     },
     "execution_count": 86,
     "metadata": {},
     "output_type": "execute_result"
    }
   ],
   "source": [
    "operator.attrgetter(my_var)"
   ]
  },
  {
   "cell_type": "code",
   "execution_count": 87,
   "id": "4da735d4",
   "metadata": {},
   "outputs": [
    {
     "data": {
      "text/plain": [
       "20"
      ]
     },
     "execution_count": 87,
     "metadata": {},
     "output_type": "execute_result"
    }
   ],
   "source": [
    "operator.attrgetter(my_var)(obj)"
   ]
  },
  {
   "cell_type": "code",
   "execution_count": 88,
   "id": "57a6d4d0",
   "metadata": {},
   "outputs": [
    {
     "data": {
      "text/plain": [
       "20"
      ]
     },
     "execution_count": 88,
     "metadata": {},
     "output_type": "execute_result"
    }
   ],
   "source": [
    "prop_b = operator.attrgetter(my_var)\n",
    "prop_b(obj)"
   ]
  },
  {
   "cell_type": "code",
   "execution_count": 90,
   "id": "ba52cc43",
   "metadata": {},
   "outputs": [
    {
     "data": {
      "text/plain": [
       "(10,\n",
       " 20,\n",
       " <bound method MyClass.test of <__main__.MyClass object at 0x10902a7f0>>)"
      ]
     },
     "execution_count": 90,
     "metadata": {},
     "output_type": "execute_result"
    }
   ],
   "source": [
    "operator.attrgetter('a', 'b', 'test')(obj)"
   ]
  },
  {
   "cell_type": "code",
   "execution_count": 91,
   "id": "06947b86",
   "metadata": {},
   "outputs": [
    {
     "data": {
      "text/plain": [
       "10"
      ]
     },
     "execution_count": 91,
     "metadata": {},
     "output_type": "execute_result"
    }
   ],
   "source": [
    "f = lambda x: x.a\n",
    "f(obj)"
   ]
  },
  {
   "cell_type": "code",
   "execution_count": 92,
   "id": "b1f1d4a6",
   "metadata": {},
   "outputs": [],
   "source": [
    "f = lambda x: x[2]"
   ]
  },
  {
   "cell_type": "code",
   "execution_count": 93,
   "id": "15e7af86",
   "metadata": {},
   "outputs": [],
   "source": [
    "x = [1,2,3,4]"
   ]
  },
  {
   "cell_type": "code",
   "execution_count": 94,
   "id": "5ab95643",
   "metadata": {},
   "outputs": [
    {
     "data": {
      "text/plain": [
       "3"
      ]
     },
     "execution_count": 94,
     "metadata": {},
     "output_type": "execute_result"
    }
   ],
   "source": [
    "f(x)"
   ]
  },
  {
   "cell_type": "code",
   "execution_count": 95,
   "id": "4c79c7f1",
   "metadata": {},
   "outputs": [
    {
     "data": {
      "text/plain": [
       "(5+10j)"
      ]
     },
     "execution_count": 95,
     "metadata": {},
     "output_type": "execute_result"
    }
   ],
   "source": [
    "a = 5+10j\n",
    "a"
   ]
  },
  {
   "cell_type": "code",
   "execution_count": 96,
   "id": "8f993b09",
   "metadata": {},
   "outputs": [
    {
     "data": {
      "text/plain": [
       "5.0"
      ]
     },
     "execution_count": 96,
     "metadata": {},
     "output_type": "execute_result"
    }
   ],
   "source": [
    "a.real"
   ]
  },
  {
   "cell_type": "code",
   "execution_count": 97,
   "id": "351e71e5",
   "metadata": {},
   "outputs": [],
   "source": [
    "l = [5-10j, 3+3j, 2-100j]"
   ]
  },
  {
   "cell_type": "code",
   "execution_count": 98,
   "id": "2e521d34",
   "metadata": {},
   "outputs": [
    {
     "data": {
      "text/plain": [
       "[(2-100j), (3+3j), (5-10j)]"
      ]
     },
     "execution_count": 98,
     "metadata": {},
     "output_type": "execute_result"
    }
   ],
   "source": [
    "sorted(l, key=operator.attrgetter('real'))"
   ]
  },
  {
   "cell_type": "code",
   "execution_count": 99,
   "id": "837be8a5",
   "metadata": {},
   "outputs": [],
   "source": [
    "l = [(2,3,4), (1,3,5), (6,), (4,100)]"
   ]
  },
  {
   "cell_type": "code",
   "execution_count": 100,
   "id": "a4510b75",
   "metadata": {},
   "outputs": [
    {
     "data": {
      "text/plain": [
       "[(1, 3, 5), (2, 3, 4), (4, 100), (6,)]"
      ]
     },
     "execution_count": 100,
     "metadata": {},
     "output_type": "execute_result"
    }
   ],
   "source": [
    "sorted(l, key=lambda x: x[0])"
   ]
  },
  {
   "cell_type": "code",
   "execution_count": 101,
   "id": "ea85806d",
   "metadata": {},
   "outputs": [
    {
     "data": {
      "text/plain": [
       "[(1, 3, 5), (2, 3, 4), (4, 100), (6,)]"
      ]
     },
     "execution_count": 101,
     "metadata": {},
     "output_type": "execute_result"
    }
   ],
   "source": [
    "sorted(l, key = operator.itemgetter(0))"
   ]
  },
  {
   "cell_type": "code",
   "execution_count": 114,
   "id": "3ffddcd3",
   "metadata": {},
   "outputs": [],
   "source": [
    "class MyClass:\n",
    "    def __init__(self):\n",
    "        self.a = 10\n",
    "        self.b = 20\n",
    "        self.c = 30\n",
    "    \n",
    "    def test(self,n):\n",
    "        print('test method running', n)\n",
    "        \n",
    "    def __call__(self):\n",
    "        print('ring ring')"
   ]
  },
  {
   "cell_type": "code",
   "execution_count": 115,
   "id": "567f52e0",
   "metadata": {},
   "outputs": [],
   "source": [
    "obj = MyClass()"
   ]
  },
  {
   "cell_type": "code",
   "execution_count": 116,
   "id": "c57ca862",
   "metadata": {},
   "outputs": [],
   "source": [
    "f = operator.attrgetter('test')"
   ]
  },
  {
   "cell_type": "code",
   "execution_count": 118,
   "id": "4ddb94df",
   "metadata": {},
   "outputs": [
    {
     "name": "stdout",
     "output_type": "stream",
     "text": [
      "test method running 2\n"
     ]
    }
   ],
   "source": [
    "f(obj)(2)"
   ]
  },
  {
   "cell_type": "code",
   "execution_count": 112,
   "id": "ed59c262",
   "metadata": {},
   "outputs": [],
   "source": [
    "f = operator.methodcaller('test')"
   ]
  },
  {
   "cell_type": "code",
   "execution_count": 121,
   "id": "215eeed5",
   "metadata": {},
   "outputs": [
    {
     "name": "stdout",
     "output_type": "stream",
     "text": [
      "test method running 2\n"
     ]
    }
   ],
   "source": [
    "f(obj)(2)"
   ]
  },
  {
   "cell_type": "code",
   "execution_count": 122,
   "id": "46b1b146",
   "metadata": {},
   "outputs": [],
   "source": [
    "class MyClass:\n",
    "    def __init__(self):\n",
    "        self.a = 10\n",
    "        self.b = 20\n",
    "        self.c = 30\n",
    "    \n",
    "    def test(self,c,d,*,e):\n",
    "        print(f'c={c},d={d}, e={e}')\n",
    "        \n",
    "    def __call__(self):\n",
    "        print('ring ring')"
   ]
  },
  {
   "cell_type": "code",
   "execution_count": 123,
   "id": "98a8eb05",
   "metadata": {},
   "outputs": [],
   "source": [
    "obj = MyClass()"
   ]
  },
  {
   "cell_type": "code",
   "execution_count": 124,
   "id": "68b3aab5",
   "metadata": {},
   "outputs": [],
   "source": [
    "f = operator.methodcaller('test', 100, 200, e=300)"
   ]
  },
  {
   "cell_type": "code",
   "execution_count": 125,
   "id": "037d014b",
   "metadata": {},
   "outputs": [
    {
     "name": "stdout",
     "output_type": "stream",
     "text": [
      "c=100,d=200, e=300\n"
     ]
    }
   ],
   "source": [
    "f(obj)"
   ]
  },
  {
   "cell_type": "code",
   "execution_count": 128,
   "id": "e576d39a",
   "metadata": {},
   "outputs": [],
   "source": [
    "f = operator.attrgetter('test')"
   ]
  },
  {
   "cell_type": "code",
   "execution_count": 129,
   "id": "67ddf4a9",
   "metadata": {},
   "outputs": [
    {
     "name": "stdout",
     "output_type": "stream",
     "text": [
      "c=100,d=200, e=300\n"
     ]
    }
   ],
   "source": [
    "f(obj)(100,200,e=300)"
   ]
  },
  {
   "cell_type": "code",
   "execution_count": null,
   "id": "f48c1bd3",
   "metadata": {},
   "outputs": [],
   "source": []
  }
 ],
 "metadata": {
  "kernelspec": {
   "display_name": "Python 3",
   "language": "python",
   "name": "python3"
  },
  "language_info": {
   "codemirror_mode": {
    "name": "ipython",
    "version": 3
   },
   "file_extension": ".py",
   "mimetype": "text/x-python",
   "name": "python",
   "nbconvert_exporter": "python",
   "pygments_lexer": "ipython3",
   "version": "3.9.7"
  }
 },
 "nbformat": 4,
 "nbformat_minor": 5
}
