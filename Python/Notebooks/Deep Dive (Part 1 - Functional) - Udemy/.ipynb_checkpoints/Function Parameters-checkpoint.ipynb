{
 "cells": [
  {
   "cell_type": "markdown",
   "id": "b1aab04f",
   "metadata": {},
   "source": [
    "# Function Parameters"
   ]
  },
  {
   "cell_type": "markdown",
   "id": "15a59a96",
   "metadata": {},
   "source": [
    "----\n",
    "## Arguments vs Parameters"
   ]
  },
  {
   "cell_type": "code",
   "execution_count": 2,
   "id": "65c00eda",
   "metadata": {},
   "outputs": [],
   "source": [
    "def my_func(a,b):\n",
    "    #code"
   ]
  },
  {
   "cell_type": "markdown",
   "id": "46710e37",
   "metadata": {},
   "source": [
    "In this context, **a** and **b** are called **parameteres** of ***my_func***\n",
    "\n",
    "Also note that **a** and **b** are **variables**, local to ***my_func***"
   ]
  },
  {
   "cell_type": "markdown",
   "id": "f0d2e51e",
   "metadata": {},
   "source": [
    "When we call the function:"
   ]
  },
  {
   "cell_type": "code",
   "execution_count": 4,
   "id": "e6c65ecd",
   "metadata": {},
   "outputs": [],
   "source": [
    "x = 10\n",
    "y = 'a'\n",
    "\n",
    "my_func(x,y)"
   ]
  },
  {
   "cell_type": "markdown",
   "id": "748c8c7c",
   "metadata": {},
   "source": [
    "**x** and **y** are called the **arguments** of ***my_func***\n",
    "\n",
    "Also note that **x** and **y** are passed by reference"
   ]
  },
  {
   "cell_type": "markdown",
   "id": "f7d46635",
   "metadata": {},
   "source": [
    "In the **Module Scope** and in the **Function Scope**, the variables will point to the same memory address"
   ]
  },
  {
   "cell_type": "markdown",
   "id": "0890b195",
   "metadata": {},
   "source": [
    "----\n",
    "## Positional and Keyword Arguments"
   ]
  },
  {
   "cell_type": "markdown",
   "id": "6e38f5de",
   "metadata": {},
   "source": [
    "**Positional Arguments**\n",
    "\n",
    "Most common way of assigning arguments to parameters: via the order in which they are passed i.e. their position"
   ]
  },
  {
   "cell_type": "markdown",
   "id": "d0889217",
   "metadata": {},
   "source": [
    "**Default Values**\n",
    "\n",
    "A positional arguments can be made optional by specifying a default value for the correspondig parameter.\n",
    "\n",
    "If a positional parameter is defined with a default value, every positional parameter after it must also be given a default value.\n",
    "\n",
    "But what if we want to specify the 1st and 3rd arguments, but omit the 2nd arguments? i.e. we want to specify values for **a** and **c**, but let **b** take on its default value:\n",
    "\n",
    "- **Keyword Arguments** (named arguments)\n",
    "\n",
    "def my_func(a, b=5, c=10):\n",
    "    #code\n",
    "    \n",
    "\n",
    "my_func(a=1, c=2)  ->   a = 1, b = 5, c = 2\n",
    "\n",
    "or\n",
    "\n",
    "my_func(1, c=2)    ->   a = 1, b = 5, c = 2\n",
    "\n",
    "Positional arguments can, optionally, be specified by using the parameter name whether or not the parameters have default values.\n",
    "\n",
    "***def my_func(a,b,c)***\n",
    "\n",
    "***my_func(1,2,3)***\n",
    "\n",
    "***my_func(1,2, c=3)*** (you may want to do it for readability, to specify the exact value)\n",
    "\n",
    "***my_func(a=1,b=2,c=3)***\n",
    "\n",
    "***my_func(c=3, a=1, b=2)***\n",
    "\n",
    "Python will read this keyword arguments even if it is not sorted, even if there are no default values.\n",
    "\n",
    "But once you use a named argument, all arguments thereafter must be named too\n",
    "\n",
    "***my_func(c=1, 2, 3) Incorrect***\n",
    "\n",
    "***my_func(1, b=2, 3) Incorrect*** (too ambigous)\n",
    "\n",
    "You must use keyword arguments before using it once. \n",
    "\n",
    "***my_func(1, b=2, c=3) Correct***\n",
    "\n",
    "Default arguments may still be omitted.\n",
    "\n",
    "\n",
    "***def my_func(a, b=2, c=3)***\n",
    "\n",
    "***my_func(1)***\n",
    "\n",
    "***my_func(a=1,b=5)***\n",
    "\n"
   ]
  },
  {
   "cell_type": "code",
   "execution_count": 6,
   "id": "5d06f39d",
   "metadata": {},
   "outputs": [],
   "source": [
    "def my_func(a,b,c):\n",
    "    print(f'a={a}, b={b}, c={c}')"
   ]
  },
  {
   "cell_type": "code",
   "execution_count": 7,
   "id": "95af4500",
   "metadata": {},
   "outputs": [
    {
     "name": "stdout",
     "output_type": "stream",
     "text": [
      "a=1, b=2, c=3\n"
     ]
    }
   ],
   "source": [
    "my_func(1,2,3)"
   ]
  },
  {
   "cell_type": "markdown",
   "id": "441e7734",
   "metadata": {},
   "source": [
    "This was determined by the position of the arguments.\n",
    "\n",
    "You cannot avoid a single parameter."
   ]
  },
  {
   "cell_type": "code",
   "execution_count": 8,
   "id": "14cc66bb",
   "metadata": {},
   "outputs": [
    {
     "ename": "TypeError",
     "evalue": "my_func() missing 1 required positional argument: 'c'",
     "output_type": "error",
     "traceback": [
      "\u001b[0;31m---------------------------------------------------------------------------\u001b[0m",
      "\u001b[0;31mTypeError\u001b[0m                                 Traceback (most recent call last)",
      "\u001b[0;32m<ipython-input-8-e2e1b89bea64>\u001b[0m in \u001b[0;36m<module>\u001b[0;34m\u001b[0m\n\u001b[0;32m----> 1\u001b[0;31m \u001b[0mmy_func\u001b[0m\u001b[0;34m(\u001b[0m\u001b[0;36m1\u001b[0m\u001b[0;34m,\u001b[0m\u001b[0;36m2\u001b[0m\u001b[0;34m)\u001b[0m\u001b[0;34m\u001b[0m\u001b[0;34m\u001b[0m\u001b[0m\n\u001b[0m",
      "\u001b[0;31mTypeError\u001b[0m: my_func() missing 1 required positional argument: 'c'"
     ]
    }
   ],
   "source": [
    "my_func(1,2)"
   ]
  },
  {
   "cell_type": "code",
   "execution_count": 12,
   "id": "bdfc17f1",
   "metadata": {},
   "outputs": [],
   "source": [
    "def my_func(a,b=2,c=3):\n",
    "    print(f'a={a}, b={b}, c={c}')"
   ]
  },
  {
   "cell_type": "code",
   "execution_count": 13,
   "id": "6d24c048",
   "metadata": {},
   "outputs": [
    {
     "name": "stdout",
     "output_type": "stream",
     "text": [
      "a=10, b=20, c=30\n"
     ]
    }
   ],
   "source": [
    "my_func(10,20,30)"
   ]
  },
  {
   "cell_type": "markdown",
   "id": "b35e9283",
   "metadata": {},
   "source": [
    "But without specifying the third argument, we get this output:"
   ]
  },
  {
   "cell_type": "code",
   "execution_count": 14,
   "id": "391f5cf2",
   "metadata": {},
   "outputs": [
    {
     "name": "stdout",
     "output_type": "stream",
     "text": [
      "a=10, b=20, c=3\n"
     ]
    }
   ],
   "source": [
    "my_func(10,20)"
   ]
  },
  {
   "cell_type": "markdown",
   "id": "41ee345f",
   "metadata": {},
   "source": [
    "You can always make every parameter default"
   ]
  },
  {
   "cell_type": "code",
   "execution_count": 15,
   "id": "10e76da3",
   "metadata": {},
   "outputs": [],
   "source": [
    "def my_func(a=1,b=2,c=3):\n",
    "    print(f'a={a}, b={b}, c={c}')"
   ]
  },
  {
   "cell_type": "code",
   "execution_count": 16,
   "id": "b9227977",
   "metadata": {},
   "outputs": [
    {
     "name": "stdout",
     "output_type": "stream",
     "text": [
      "a=1, b=2, c=3\n"
     ]
    }
   ],
   "source": [
    "my_func()"
   ]
  },
  {
   "cell_type": "code",
   "execution_count": 17,
   "id": "6f87b961",
   "metadata": {},
   "outputs": [],
   "source": [
    "def my_func(a,b=2,c=3):\n",
    "    print(f'a={a}, b={b}, c={c}')"
   ]
  },
  {
   "cell_type": "code",
   "execution_count": 18,
   "id": "c83cc78f",
   "metadata": {},
   "outputs": [
    {
     "name": "stdout",
     "output_type": "stream",
     "text": [
      "a=10, b=20, c=30\n"
     ]
    }
   ],
   "source": [
    "my_func(c=30, b=20, a=10)"
   ]
  },
  {
   "cell_type": "markdown",
   "id": "172bde05",
   "metadata": {},
   "source": [
    "The names that we used in this keywords arguments must match the arguments of the function"
   ]
  },
  {
   "cell_type": "code",
   "execution_count": 19,
   "id": "21ae503d",
   "metadata": {},
   "outputs": [
    {
     "name": "stdout",
     "output_type": "stream",
     "text": [
      "a=10, b=20, c=30\n"
     ]
    }
   ],
   "source": [
    "my_func(10, c=30, b=20)"
   ]
  },
  {
   "cell_type": "markdown",
   "id": "3980f204",
   "metadata": {},
   "source": [
    "We do not have to specified all the default values:"
   ]
  },
  {
   "cell_type": "code",
   "execution_count": 21,
   "id": "4a7fb67b",
   "metadata": {},
   "outputs": [
    {
     "name": "stdout",
     "output_type": "stream",
     "text": [
      "a=100, b=2, c=3\n"
     ]
    }
   ],
   "source": [
    "my_func(100)"
   ]
  },
  {
   "cell_type": "markdown",
   "id": "9b5d202e",
   "metadata": {},
   "source": [
    "----\n",
    "## Unpacking iterables"
   ]
  },
  {
   "cell_type": "markdown",
   "id": "7020d14d",
   "metadata": {},
   "source": [
    "**Packed Values**\n",
    "\n",
    "Packed values refers to values that are bundled together in some way.\n",
    "\n",
    "Tuples and Lists are obvious.\n",
    "\n",
    "Even a string is considered to be a packed value.\n",
    "\n",
    "Sets and dictionaries are also packed values.\n",
    "\n",
    "In fact, any **iterable** can be considered a packed value."
   ]
  },
  {
   "cell_type": "markdown",
   "id": "0f276f34",
   "metadata": {},
   "source": [
    "**Unpacking Packed Values**\n",
    "\n",
    "Unpacking is the act of **splitting** packed values into **individual variables** contained in a list or tuple.\n",
    "\n",
    "a,b,c = [1,2,3]   3 elements in [1,2,3]  ->   need 3 variables to unpack\n",
    "\n",
    "This is actually a tuple of 3 variables: **a**, **b** and **c**\n",
    "\n",
    "a = 1, b = 2, c = 3\n",
    "\n",
    "The unpacking into individual variables is based on the relative positions of each element.\n",
    "\n"
   ]
  },
  {
   "cell_type": "markdown",
   "id": "c1f9a3f1",
   "metadata": {},
   "source": [
    "**Unpacking other iterables**\n",
    "\n",
    "a,b,c = 10,20, 'hello'\n",
    "\n",
    "a,b,c = 'XYZ'\n",
    "\n",
    "a = 'X', b = 'Y', c = 'Z'\n",
    "\n",
    "In fact, unpacking works with any **iterable** type\n",
    "\n",
    "**Simple Application of Unpacking**\n",
    "\n",
    "Swapping values of two variables\n",
    "\n",
    "'traditional' approach:\n",
    "\n",
    "a, b = 10,20\n",
    "\n",
    "temp = a\n",
    " \n",
    "a = b\n",
    "\n",
    "\n",
    "using unpacking:\n",
    "\n",
    "a,b = b,a\n"
   ]
  },
  {
   "cell_type": "markdown",
   "id": "6f082b1d",
   "metadata": {},
   "source": [
    "**Unpacking Sets and Dictionaries**\n",
    "\n",
    "d = {'k1':1, 'k2': 2, 'k3': 3}\n",
    "\n",
    "for e in d -> **e** iterates through the **keys**: 'k1', 'k2', 'k3'\n",
    "\n",
    "so, when unpacking **d**, we are actually unpacking the **keys** of **d**, but in an unordered way\n",
    "\n",
    "a,b,c = d\n",
    "\n",
    "For sets:\n",
    "\n",
    "s={'p', 'y', 't', 'h', 'o', 'n'}\n",
    "\n",
    "a,b,c,d,e,f = s"
   ]
  },
  {
   "cell_type": "code",
   "execution_count": 10,
   "id": "44052c93",
   "metadata": {},
   "outputs": [
    {
     "name": "stdout",
     "output_type": "stream",
     "text": [
      "(1, 2, 3)\n"
     ]
    },
    {
     "data": {
      "text/plain": [
       "tuple"
      ]
     },
     "execution_count": 10,
     "metadata": {},
     "output_type": "execute_result"
    }
   ],
   "source": [
    "a = (1,2,3)\n",
    "print(a)\n",
    "type(a)"
   ]
  },
  {
   "cell_type": "code",
   "execution_count": 9,
   "id": "7540ce6b",
   "metadata": {},
   "outputs": [
    {
     "name": "stdout",
     "output_type": "stream",
     "text": [
      "(1, 2, 3)\n"
     ]
    },
    {
     "data": {
      "text/plain": [
       "tuple"
      ]
     },
     "execution_count": 9,
     "metadata": {},
     "output_type": "execute_result"
    }
   ],
   "source": [
    "a = 1,2,3\n",
    "print(a)\n",
    "type(a)"
   ]
  },
  {
   "cell_type": "code",
   "execution_count": 8,
   "id": "52f75546",
   "metadata": {},
   "outputs": [
    {
     "name": "stdout",
     "output_type": "stream",
     "text": [
      "1\n"
     ]
    },
    {
     "data": {
      "text/plain": [
       "int"
      ]
     },
     "execution_count": 8,
     "metadata": {},
     "output_type": "execute_result"
    }
   ],
   "source": [
    "a = (1)\n",
    "print(a)\n",
    "type(a)"
   ]
  },
  {
   "cell_type": "code",
   "execution_count": 7,
   "id": "3b1b4ded",
   "metadata": {},
   "outputs": [
    {
     "name": "stdout",
     "output_type": "stream",
     "text": [
      "(1,)\n"
     ]
    },
    {
     "data": {
      "text/plain": [
       "tuple"
      ]
     },
     "execution_count": 7,
     "metadata": {},
     "output_type": "execute_result"
    }
   ],
   "source": [
    "a = (1,)\n",
    "print(a)\n",
    "type(a)"
   ]
  },
  {
   "cell_type": "code",
   "execution_count": 6,
   "id": "c4c21012",
   "metadata": {},
   "outputs": [
    {
     "name": "stdout",
     "output_type": "stream",
     "text": [
      "(100,)\n"
     ]
    },
    {
     "data": {
      "text/plain": [
       "tuple"
      ]
     },
     "execution_count": 6,
     "metadata": {},
     "output_type": "execute_result"
    }
   ],
   "source": [
    "a = 100,\n",
    "print(a)\n",
    "type(a)"
   ]
  },
  {
   "cell_type": "code",
   "execution_count": 12,
   "id": "2c54cb5b",
   "metadata": {},
   "outputs": [
    {
     "data": {
      "text/plain": [
       "(1, 'a', True)"
      ]
     },
     "execution_count": 12,
     "metadata": {},
     "output_type": "execute_result"
    }
   ],
   "source": [
    "a,b,c = [1,'a',True]\n",
    "a,b,c"
   ]
  },
  {
   "cell_type": "code",
   "execution_count": 14,
   "id": "7a19835f",
   "metadata": {},
   "outputs": [
    {
     "data": {
      "text/plain": [
       "(10, {1, 2}, ['a', 'b'])"
      ]
     },
     "execution_count": 14,
     "metadata": {},
     "output_type": "execute_result"
    }
   ],
   "source": [
    "a,b,c = 10, {1,2}, ['a', 'b']\n",
    "a,b,c"
   ]
  },
  {
   "cell_type": "code",
   "execution_count": 20,
   "id": "ad0f7a15",
   "metadata": {},
   "outputs": [
    {
     "name": "stdout",
     "output_type": "stream",
     "text": [
      "10 20\n"
     ]
    }
   ],
   "source": [
    "a, b = 10, 20\n",
    "print(a,b)"
   ]
  },
  {
   "cell_type": "code",
   "execution_count": 21,
   "id": "8882d4e6",
   "metadata": {},
   "outputs": [
    {
     "name": "stdout",
     "output_type": "stream",
     "text": [
      "20 10\n"
     ]
    }
   ],
   "source": [
    "a,b = b,a\n",
    "print(a,b)"
   ]
  },
  {
   "cell_type": "code",
   "execution_count": 22,
   "id": "755fa2e6",
   "metadata": {},
   "outputs": [
    {
     "data": {
      "text/plain": [
       "(4299922000, 4299922320)"
      ]
     },
     "execution_count": 22,
     "metadata": {},
     "output_type": "execute_result"
    }
   ],
   "source": [
    "#what is doing 'kind of':\n",
    "c = (id(b), id(a))\n",
    "c"
   ]
  },
  {
   "cell_type": "code",
   "execution_count": 27,
   "id": "59377d00",
   "metadata": {},
   "outputs": [
    {
     "name": "stdout",
     "output_type": "stream",
     "text": [
      "X\n",
      "Y\n",
      "Z\n"
     ]
    }
   ],
   "source": [
    "for e in 'XYZ':\n",
    "    print(e)"
   ]
  },
  {
   "cell_type": "code",
   "execution_count": 29,
   "id": "34560e29",
   "metadata": {},
   "outputs": [
    {
     "data": {
      "text/plain": [
       "('X', 'Y', 'Z')"
      ]
     },
     "execution_count": 29,
     "metadata": {},
     "output_type": "execute_result"
    }
   ],
   "source": [
    "a,b,c = 'XYZ'\n",
    "a,b,c"
   ]
  },
  {
   "cell_type": "code",
   "execution_count": 30,
   "id": "8df2d36f",
   "metadata": {},
   "outputs": [],
   "source": [
    "s = {1,2,3}"
   ]
  },
  {
   "cell_type": "code",
   "execution_count": 34,
   "id": "59cce353",
   "metadata": {},
   "outputs": [
    {
     "name": "stdout",
     "output_type": "stream",
     "text": [
      "{'p', 'n', 'y', 'h', 't', 'o'}\n"
     ]
    }
   ],
   "source": [
    "s = {'p', 'y', 't', 'h', 'o', 'n'}\n",
    "print(s)"
   ]
  },
  {
   "cell_type": "code",
   "execution_count": 50,
   "id": "65bafd6d",
   "metadata": {},
   "outputs": [
    {
     "name": "stdout",
     "output_type": "stream",
     "text": [
      "p\n",
      "n\n",
      "y\n",
      "h\n",
      "t\n",
      "o\n"
     ]
    }
   ],
   "source": [
    "for e in s:\n",
    "    print(e)"
   ]
  },
  {
   "cell_type": "code",
   "execution_count": 37,
   "id": "1dd32693",
   "metadata": {},
   "outputs": [
    {
     "data": {
      "text/plain": [
       "('p', 'n', 'y', 'h', 't', 'o')"
      ]
     },
     "execution_count": 37,
     "metadata": {},
     "output_type": "execute_result"
    }
   ],
   "source": [
    "p,y,t,h,o,n = s\n",
    "p,y,t,h,o,n"
   ]
  },
  {
   "cell_type": "code",
   "execution_count": 44,
   "id": "5cc1f4a6",
   "metadata": {},
   "outputs": [
    {
     "name": "stdout",
     "output_type": "stream",
     "text": [
      "a\n",
      "b\n",
      "c\n"
     ]
    }
   ],
   "source": [
    "d = {'a': 1, 'b': 2, 'c': 3}\n",
    "for e in d:\n",
    "    print(e)"
   ]
  },
  {
   "cell_type": "code",
   "execution_count": 45,
   "id": "44ffa668",
   "metadata": {},
   "outputs": [
    {
     "data": {
      "text/plain": [
       "('a', 'b', 'c')"
      ]
     },
     "execution_count": 45,
     "metadata": {},
     "output_type": "execute_result"
    }
   ],
   "source": [
    "a,b,c = d\n",
    "a,b,c"
   ]
  },
  {
   "cell_type": "code",
   "execution_count": 47,
   "id": "a2e00587",
   "metadata": {},
   "outputs": [
    {
     "data": {
      "text/plain": [
       "('a', 'b', 'c', 'd')"
      ]
     },
     "execution_count": 47,
     "metadata": {},
     "output_type": "execute_result"
    }
   ],
   "source": [
    "d = {'a': 1, 'b': 2, 'c': 3, 'd': 4}\n",
    "a,b,c,d = d\n",
    "a,b,c,d"
   ]
  },
  {
   "cell_type": "code",
   "execution_count": 52,
   "id": "7df3ce86",
   "metadata": {},
   "outputs": [
    {
     "name": "stdout",
     "output_type": "stream",
     "text": [
      "1\n",
      "2\n",
      "3\n",
      "4\n"
     ]
    }
   ],
   "source": [
    "d = {'a': 1, 'b': 2, 'c': 3, 'd': 4}\n",
    "for e in d.values():\n",
    "    print(e)"
   ]
  },
  {
   "cell_type": "code",
   "execution_count": 53,
   "id": "522579be",
   "metadata": {},
   "outputs": [
    {
     "data": {
      "text/plain": [
       "(1, 2, 3, 4)"
      ]
     },
     "execution_count": 53,
     "metadata": {},
     "output_type": "execute_result"
    }
   ],
   "source": [
    "a,b,c,d = d.values()\n",
    "a,b,c,d"
   ]
  },
  {
   "cell_type": "code",
   "execution_count": 61,
   "id": "e1a4ad9b",
   "metadata": {},
   "outputs": [
    {
     "name": "stdout",
     "output_type": "stream",
     "text": [
      "('a', 1)\n",
      "('b', 2)\n",
      "('c', 3)\n",
      "('d', 4)\n",
      "a 1\n",
      "b 2\n",
      "c 3\n",
      "d 4\n"
     ]
    },
    {
     "data": {
      "text/plain": [
       "(('a', 1), ('b', 2), ('c', 3), ('d', 4))"
      ]
     },
     "execution_count": 61,
     "metadata": {},
     "output_type": "execute_result"
    }
   ],
   "source": [
    "#Unpack keys and values\n",
    "d = {'a': 1, 'b': 2, 'c': 3, 'd': 4}\n",
    "for e in d.items():\n",
    "    print(e)\n",
    "for a,b in d.items():\n",
    "    print(a,b)\n",
    "a,b,c,d = d.items()\n",
    "a,b,c,d"
   ]
  },
  {
   "cell_type": "markdown",
   "id": "4b8a6e35",
   "metadata": {},
   "source": [
    "----\n",
    "## Extended Unpacking - Using the * and ** Operators"
   ]
  },
  {
   "cell_type": "markdown",
   "id": "f48daecb",
   "metadata": {},
   "source": [
    "**The use case for ***\n",
    "\n",
    "We don't alwats want to unpack every single item in an iterable\n",
    "\n",
    "We may, for example, want to unpack the first value, and then unpack the remaining values into another variable\n",
    "\n",
    "l = [1,2,3,4,5,6]\n",
    "\n",
    "We can achieve this using slicing:  a = l[1:] or l[0]\n",
    "\n",
    "or, using simple unpacking.    a,b = l[0], l[1:]\n",
    "\n",
    "We can also use the * operator:   a, *b = l\n",
    "\n",
    "Apart from cleaner syntax, it also works with any iterable type.\n",
    "\n",
    "The * operator can only be used once in the LHS an unpacking assignment\n",
    "\n",
    "**Usage with ordered types**\n",
    "\n",
    "We have seen how to use the * operator in the LHS of an assignment to unpack the RHS\n",
    "\n",
    "a, *b, c = {1,2,3,4,5}\n",
    "\n",
    "However, we can also use it this way:\n",
    "\n",
    "l1 = [1,2,3,4]\n",
    "\n",
    "l2 = [5,6,7,8]\n",
    "\n",
    "l = [*l1, *l2]"
   ]
  },
  {
   "cell_type": "markdown",
   "id": "d103c848",
   "metadata": {},
   "source": [
    "**Usage with unordered types**\n",
    "\n",
    "Tpes such as sets and dictionaries have **no ordering**\n",
    "\n",
    "s = {10, -99, 3, 'd'}\n",
    "\n",
    "Sets and dictionary keys are stille iterable, but iterating has no guarantee of preserving the order in which the elements were created/added\n",
    "\n",
    "But, the * operator still works, since it works with any iterable\n",
    "\n",
    "It is useful though in a situation where you might want to create single collection containing all the items of multiple sets, or all the keys of multiple dictionaries"
   ]
  },
  {
   "cell_type": "markdown",
   "id": "a10a406f",
   "metadata": {},
   "source": [
    "**The ** unpacking operator**\n",
    "\n",
    "When working with dictionaries, we saw that * esentially iterated the **keys**\n",
    "\n",
    "Is a quickly way to obtain the key and the value of a dictionary\n"
   ]
  },
  {
   "cell_type": "markdown",
   "id": "5f875772",
   "metadata": {},
   "source": [
    "**Nested unpacking**\n",
    "\n",
    "Python will support **nested** unpacking as well\n",
    "\n",
    "l = [1,2,[3,4]]\n",
    "\n",
    "We can certainly unpack it this way: a,b,c = l ->  a = 1, b = 2, c = [3,4]\n",
    "\n",
    "We could then unpack **c** into **d** and **e** as follows: d, e = c   ->   d = 3, e = 4\n",
    "\n",
    "Or, we could simply do it this way:  a,b, (c,d) = [1,2, [3,4]]  ->  a = 1, b = 2, c = 3, d = 4\n",
    "\n",
    "Since strings are iterables too:  a, *b, (c,d,e) = [1,2,3, 'XYZ'] -> a = 1, b = [2,3], c = 'X', d = 'Y', e = 'Z'"
   ]
  },
  {
   "cell_type": "markdown",
   "id": "b42acf1f",
   "metadata": {},
   "source": [
    "**The * operator can only be used once in the LHS unpacking assignment**\n",
    "\n",
    "How about something like this then?\n",
    "\n",
    "a, *b, (c, *d) = [1,2,3, 'python']\n",
    "\n",
    "Although this looks like we are using * twice in the same expression, the second * is actually in a nested unpacking - so that's OK"
   ]
  },
  {
   "cell_type": "code",
   "execution_count": 80,
   "id": "441a1ea4",
   "metadata": {},
   "outputs": [],
   "source": [
    "l = [1,2,3,4,5,6]"
   ]
  },
  {
   "cell_type": "code",
   "execution_count": 81,
   "id": "20ba6244",
   "metadata": {},
   "outputs": [
    {
     "data": {
      "text/plain": [
       "(1, [2, 3, 4, 5, 6])"
      ]
     },
     "execution_count": 81,
     "metadata": {},
     "output_type": "execute_result"
    }
   ],
   "source": [
    "a,b = l[0], l[1:]\n",
    "a,b"
   ]
  },
  {
   "cell_type": "code",
   "execution_count": 85,
   "id": "306a41c6",
   "metadata": {},
   "outputs": [
    {
     "data": {
      "text/plain": [
       "(1, [2, 3, 4, 5, 6])"
      ]
     },
     "execution_count": 85,
     "metadata": {},
     "output_type": "execute_result"
    }
   ],
   "source": [
    "a, *b = l\n",
    "a,b"
   ]
  },
  {
   "cell_type": "markdown",
   "id": "66e9ea07",
   "metadata": {},
   "source": [
    "Unpacking is used with iterable objects, such as slicing, but slicing needs indexing to accomplish it's objective"
   ]
  },
  {
   "cell_type": "code",
   "execution_count": 86,
   "id": "1640aacd",
   "metadata": {},
   "outputs": [
    {
     "ename": "TypeError",
     "evalue": "'set' object is not subscriptable",
     "output_type": "error",
     "traceback": [
      "\u001b[0;31m---------------------------------------------------------------------------\u001b[0m",
      "\u001b[0;31mTypeError\u001b[0m                                 Traceback (most recent call last)",
      "\u001b[0;32m<ipython-input-86-3acd5bac4b7b>\u001b[0m in \u001b[0;36m<module>\u001b[0;34m\u001b[0m\n\u001b[1;32m      1\u001b[0m \u001b[0ms\u001b[0m \u001b[0;34m=\u001b[0m \u001b[0;34m{\u001b[0m\u001b[0;36m1\u001b[0m\u001b[0;34m,\u001b[0m\u001b[0;36m2\u001b[0m\u001b[0;34m,\u001b[0m\u001b[0;36m3\u001b[0m\u001b[0;34m}\u001b[0m\u001b[0;34m\u001b[0m\u001b[0;34m\u001b[0m\u001b[0m\n\u001b[1;32m      2\u001b[0m \u001b[0ma\u001b[0m \u001b[0;34m=\u001b[0m \u001b[0;34m[\u001b[0m\u001b[0;36m0\u001b[0m\u001b[0;34m]\u001b[0m\u001b[0;34m\u001b[0m\u001b[0;34m\u001b[0m\u001b[0m\n\u001b[0;32m----> 3\u001b[0;31m \u001b[0mb\u001b[0m \u001b[0;34m=\u001b[0m \u001b[0ms\u001b[0m\u001b[0;34m[\u001b[0m\u001b[0;36m1\u001b[0m\u001b[0;34m:\u001b[0m\u001b[0;34m]\u001b[0m\u001b[0;34m\u001b[0m\u001b[0;34m\u001b[0m\u001b[0m\n\u001b[0m",
      "\u001b[0;31mTypeError\u001b[0m: 'set' object is not subscriptable"
     ]
    }
   ],
   "source": [
    "s = {1,2,3}\n",
    "a = [0]\n",
    "b = s[1:]"
   ]
  },
  {
   "cell_type": "code",
   "execution_count": 88,
   "id": "093f8460",
   "metadata": {},
   "outputs": [
    {
     "data": {
      "text/plain": [
       "('p', ['y', 't', 'h', 'o', 'n'])"
      ]
     },
     "execution_count": 88,
     "metadata": {},
     "output_type": "execute_result"
    }
   ],
   "source": [
    "s = 'python'\n",
    "a, *b = s\n",
    "a,b"
   ]
  },
  {
   "cell_type": "code",
   "execution_count": 89,
   "id": "e0048188",
   "metadata": {},
   "outputs": [
    {
     "data": {
      "text/plain": [
       "('a', ['b', 'c'])"
      ]
     },
     "execution_count": 89,
     "metadata": {},
     "output_type": "execute_result"
    }
   ],
   "source": [
    "t = ('a', 'b', 'c')\n",
    "a, *b = t\n",
    "a,b"
   ]
  },
  {
   "cell_type": "code",
   "execution_count": 95,
   "id": "5048abca",
   "metadata": {},
   "outputs": [
    {
     "data": {
      "text/plain": [
       "('X', 'Y', 'Z')"
      ]
     },
     "execution_count": 95,
     "metadata": {},
     "output_type": "execute_result"
    }
   ],
   "source": [
    "[a,b, c] = 'XYZ'\n",
    "a,b,c"
   ]
  },
  {
   "cell_type": "code",
   "execution_count": 96,
   "id": "48461c6d",
   "metadata": {},
   "outputs": [
    {
     "data": {
      "text/plain": [
       "('p', 'y', ['t', 'h', 'o', 'n'])"
      ]
     },
     "execution_count": 96,
     "metadata": {},
     "output_type": "execute_result"
    }
   ],
   "source": [
    "a,b,*c = 'python'\n",
    "a,b,c"
   ]
  },
  {
   "cell_type": "code",
   "execution_count": 97,
   "id": "c8df9287",
   "metadata": {},
   "outputs": [
    {
     "data": {
      "text/plain": [
       "('p', 'y', ['t', 'h', 'o'], 'n')"
      ]
     },
     "execution_count": 97,
     "metadata": {},
     "output_type": "execute_result"
    }
   ],
   "source": [
    "a,b,*c,d = 'python'\n",
    "a,b,c,d"
   ]
  },
  {
   "cell_type": "code",
   "execution_count": 100,
   "id": "42df252f",
   "metadata": {},
   "outputs": [
    {
     "data": {
      "text/plain": [
       "('p', 'n', ['t', 'h', 'o'], 'n')"
      ]
     },
     "execution_count": 100,
     "metadata": {},
     "output_type": "execute_result"
    }
   ],
   "source": [
    "s = 'python'\n",
    "\n",
    "a,b,c,d = s[0], s[1], s[2:-1], s[-1]\n",
    "a,d,list(c),d"
   ]
  },
  {
   "cell_type": "code",
   "execution_count": 105,
   "id": "3d0d0fe3",
   "metadata": {},
   "outputs": [
    {
     "name": "stdout",
     "output_type": "stream",
     "text": [
      "[1, 2, 3, 4, 5, 6]\n",
      "[1, 2, 3, 4, 5, 6]\n"
     ]
    }
   ],
   "source": [
    "l1 = [1,2,3]\n",
    "l2 = [4,5,6]\n",
    "l_u = [*l1, *l2]\n",
    "l_c = l1 + l2\n",
    "print(l_u)\n",
    "print(l_c)"
   ]
  },
  {
   "cell_type": "code",
   "execution_count": 106,
   "id": "6d9ca448",
   "metadata": {},
   "outputs": [
    {
     "data": {
      "text/plain": [
       "[1, 2, 3, 'a', 'b', 'c']"
      ]
     },
     "execution_count": 106,
     "metadata": {},
     "output_type": "execute_result"
    }
   ],
   "source": [
    "l1 = [1,2,3]\n",
    "s = 'abc'\n",
    "[*l1, *s]"
   ]
  },
  {
   "cell_type": "code",
   "execution_count": 107,
   "id": "00447b30",
   "metadata": {},
   "outputs": [
    {
     "data": {
      "text/plain": [
       "[1, 2, 3, 'x', 'y', 'z']"
      ]
     },
     "execution_count": 107,
     "metadata": {},
     "output_type": "execute_result"
    }
   ],
   "source": [
    "l1 = [1,2,3]\n",
    "s1 = {'x', 'y', 'z'}\n",
    "[*l1, *s1]"
   ]
  },
  {
   "cell_type": "code",
   "execution_count": 109,
   "id": "0c334d01",
   "metadata": {},
   "outputs": [
    {
     "data": {
      "text/plain": [
       "['a', 'b', 'c', 'c', 'd', 'e']"
      ]
     },
     "execution_count": 109,
     "metadata": {},
     "output_type": "execute_result"
    }
   ],
   "source": [
    "s1 = 'abc'\n",
    "s2 = 'cde'\n",
    "[*s1, *s2]"
   ]
  },
  {
   "cell_type": "markdown",
   "id": "666101b9",
   "metadata": {},
   "source": [
    "When we want to create a sequence without repeated elements, we create a set"
   ]
  },
  {
   "cell_type": "code",
   "execution_count": 110,
   "id": "ea7a028b",
   "metadata": {},
   "outputs": [
    {
     "data": {
      "text/plain": [
       "{'a', 'b', 'c', 'd', 'e'}"
      ]
     },
     "execution_count": 110,
     "metadata": {},
     "output_type": "execute_result"
    }
   ],
   "source": [
    "{*s1, *s2}"
   ]
  },
  {
   "cell_type": "code",
   "execution_count": 111,
   "id": "c46c874e",
   "metadata": {},
   "outputs": [
    {
     "name": "stdout",
     "output_type": "stream",
     "text": [
      "10\n",
      "3\n",
      "d\n",
      "-99\n"
     ]
    }
   ],
   "source": [
    "s = {10, -99, 3, 'd'}\n",
    "for c in s:\n",
    "    print(c)"
   ]
  },
  {
   "cell_type": "code",
   "execution_count": 116,
   "id": "1c1c8908",
   "metadata": {},
   "outputs": [
    {
     "data": {
      "text/plain": [
       "(10, 3, ['d', -99])"
      ]
     },
     "execution_count": 116,
     "metadata": {},
     "output_type": "execute_result"
    }
   ],
   "source": [
    "a,b, *c = s\n",
    "a,b,c"
   ]
  },
  {
   "cell_type": "code",
   "execution_count": 117,
   "id": "b3221d9e",
   "metadata": {},
   "outputs": [
    {
     "data": {
      "text/plain": [
       "{1, 2, 3, 4, 5}"
      ]
     },
     "execution_count": 117,
     "metadata": {},
     "output_type": "execute_result"
    }
   ],
   "source": [
    "s1 = {1,2,3}\n",
    "s2 = {3,4,5}\n",
    "s = {*s1, *s2}\n",
    "s"
   ]
  },
  {
   "cell_type": "code",
   "execution_count": 118,
   "id": "11276f23",
   "metadata": {},
   "outputs": [
    {
     "data": {
      "text/plain": [
       "{1, 2, 3, 4, 5}"
      ]
     },
     "execution_count": 118,
     "metadata": {},
     "output_type": "execute_result"
    }
   ],
   "source": [
    "#Antoher predetermined option\n",
    "s1.union(s2)"
   ]
  },
  {
   "cell_type": "code",
   "execution_count": 119,
   "id": "865eb294",
   "metadata": {},
   "outputs": [
    {
     "data": {
      "text/plain": [
       "{1, 2, 3, 4, 5, 6, 7, 8, 9, 10}"
      ]
     },
     "execution_count": 119,
     "metadata": {},
     "output_type": "execute_result"
    }
   ],
   "source": [
    "s1 = {1,2,3}\n",
    "s2 = {3,4,5}\n",
    "s3 = {5,6,7}\n",
    "s4 = {8,9,10}\n",
    "s1.union(s2,s3,s4)"
   ]
  },
  {
   "cell_type": "markdown",
   "id": "564c1373",
   "metadata": {},
   "source": [
    "A cleaner way, is unpacking:"
   ]
  },
  {
   "cell_type": "code",
   "execution_count": 120,
   "id": "c2405d27",
   "metadata": {},
   "outputs": [
    {
     "name": "stdout",
     "output_type": "stream",
     "text": [
      "{1, 2, 3, 4, 5, 6, 7, 8, 9, 10}\n",
      "We can unpack it in a list, if we want\n",
      "[1, 2, 3, 3, 4, 5, 5, 6, 7, 8, 9, 10]\n"
     ]
    }
   ],
   "source": [
    "print({*s1, *s2, *s3, *s4})\n",
    "print('We can unpack it in a list, if we want')\n",
    "print([*s1, *s2, *s3, *s4])"
   ]
  },
  {
   "cell_type": "code",
   "execution_count": 121,
   "id": "48570b3d",
   "metadata": {},
   "outputs": [
    {
     "data": {
      "text/plain": [
       "{'k1': 1, 'k2': 3, 'k4': 4}"
      ]
     },
     "execution_count": 121,
     "metadata": {},
     "output_type": "execute_result"
    }
   ],
   "source": [
    "d1 = {'k1': 1, 'k2': 2}\n",
    "d2 = {'k2': 3, 'k4': 4}\n",
    "d = {**d1, **d2}\n",
    "d"
   ]
  },
  {
   "cell_type": "code",
   "execution_count": 122,
   "id": "bea17304",
   "metadata": {},
   "outputs": [
    {
     "data": {
      "text/plain": [
       "{'a': 1, 'b': 2, 'k1': 1, 'k2': 2, 'c': 3}"
      ]
     },
     "execution_count": 122,
     "metadata": {},
     "output_type": "execute_result"
    }
   ],
   "source": [
    "{'a': 1, 'b': 2, **d1, 'c':3}"
   ]
  },
  {
   "cell_type": "code",
   "execution_count": 124,
   "id": "d6d5eb32",
   "metadata": {},
   "outputs": [
    {
     "data": {
      "text/plain": [
       "(1, 2, 'XY')"
      ]
     },
     "execution_count": 124,
     "metadata": {},
     "output_type": "execute_result"
    }
   ],
   "source": [
    "a,b,e = [1,2,'XY']\n",
    "a,b,e"
   ]
  },
  {
   "cell_type": "markdown",
   "id": "6fde1894",
   "metadata": {},
   "source": [
    "Strings are also iterable"
   ]
  },
  {
   "cell_type": "code",
   "execution_count": 126,
   "id": "b04160b5",
   "metadata": {},
   "outputs": [
    {
     "data": {
      "text/plain": [
       "('X', 'Y')"
      ]
     },
     "execution_count": 126,
     "metadata": {},
     "output_type": "execute_result"
    }
   ],
   "source": [
    "c, d = e\n",
    "c,d"
   ]
  },
  {
   "cell_type": "markdown",
   "id": "a3cd1082",
   "metadata": {},
   "source": [
    "So, we can use nested unpacking"
   ]
  },
  {
   "cell_type": "code",
   "execution_count": 127,
   "id": "708c2132",
   "metadata": {},
   "outputs": [
    {
     "data": {
      "text/plain": [
       "(1, 2, 'X', 'Y')"
      ]
     },
     "execution_count": 127,
     "metadata": {},
     "output_type": "execute_result"
    }
   ],
   "source": [
    "a,b,(c,d) = [1,2,'XY']\n",
    "a,b,c,d"
   ]
  },
  {
   "cell_type": "code",
   "execution_count": 133,
   "id": "41fb3f28",
   "metadata": {},
   "outputs": [
    {
     "data": {
      "text/plain": [
       "(1, [2, 3, 4], 'p', 'y', ['t', 'h', 'o', 'n'])"
      ]
     },
     "execution_count": 133,
     "metadata": {},
     "output_type": "execute_result"
    }
   ],
   "source": [
    "a,*b,(c,d,*e) = [1,2,3,4,'python']\n",
    "a,b,c,d,e"
   ]
  },
  {
   "cell_type": "code",
   "execution_count": 140,
   "id": "f78e6b8d",
   "metadata": {},
   "outputs": [
    {
     "data": {
      "text/plain": [
       "(1, [2, 3, 4], 'p', 'y', ['thon'])"
      ]
     },
     "execution_count": 140,
     "metadata": {},
     "output_type": "execute_result"
    }
   ],
   "source": [
    "l = [1,2,3,4,'python']\n",
    "a,b,c,d,e = l[0], l[1:-1], l[-1][0], l[-1][1], [l[-1][2:]]\n",
    "a,b,c,d,e"
   ]
  },
  {
   "cell_type": "markdown",
   "id": "be5f56b6",
   "metadata": {},
   "source": [
    "----\n",
    "## *args"
   ]
  },
  {
   "cell_type": "markdown",
   "id": "d887c9a3",
   "metadata": {},
   "source": [
    "Something similar as unpacking happens when positional arguments are passed to a function:\n",
    "\n",
    "Recall also: a,b,*c = 10,20,'a','b'  ->  a = 10, b = 20, c = ['a', 'b']\n",
    "\n",
    "Something similar happens when positional arguments are passed to a function:\n",
    "\n",
    "def func1(a,b,*c):\n",
    "\n",
    "func1(10,20,'a','b') -> a = 10, b = 20, c = ('a','b'), c is a tuple, different to the unpacking that returns a list\n",
    "\n",
    "The * parameter name is arbitrary -- ypu can make it whatever you want\n",
    "\n",
    "It is customary (but not required) to name it *args\n",
    "\n",
    "def func1(a,b,*args)\n",
    "\n",
    "You cannot add more positional arguments after *args\n",
    "\n",
    "***def func1(a,b,*args,d) Incorrect***\n",
    "\n"
   ]
  },
  {
   "cell_type": "markdown",
   "id": "bb40aa4a",
   "metadata": {},
   "source": [
    "**Unpacking arguments**\n",
    "\n",
    "def func1(a,b,c):\n",
    "\n",
    "l = [10,20,30]\n",
    "\n",
    "this will **not** work:  func(l)\n",
    "\n",
    "But we can unpack the list first and then pass it to the function\n",
    "\n",
    "func(*l)  ->  a = 10, b = 20, c = 30"
   ]
  },
  {
   "cell_type": "code",
   "execution_count": 147,
   "id": "7b140ff2",
   "metadata": {},
   "outputs": [],
   "source": [
    "def func1(a,b, *args):\n",
    "    print(a)\n",
    "    print(b)\n",
    "    print(args)"
   ]
  },
  {
   "cell_type": "code",
   "execution_count": 148,
   "id": "dc9d4a4e",
   "metadata": {},
   "outputs": [
    {
     "name": "stdout",
     "output_type": "stream",
     "text": [
      "10\n",
      "20\n",
      "()\n"
     ]
    }
   ],
   "source": [
    "func1(10,20)"
   ]
  },
  {
   "cell_type": "code",
   "execution_count": 149,
   "id": "96f68b1f",
   "metadata": {},
   "outputs": [
    {
     "name": "stdout",
     "output_type": "stream",
     "text": [
      "10\n",
      "20\n",
      "(1, 2, 3)\n"
     ]
    }
   ],
   "source": [
    "func1(10,20, 1,2,3)"
   ]
  },
  {
   "cell_type": "code",
   "execution_count": 163,
   "id": "b7950efd",
   "metadata": {},
   "outputs": [],
   "source": [
    "def avg(*args):\n",
    "    count = len(args)\n",
    "    total = sum(args)\n",
    "    return count and total/count"
   ]
  },
  {
   "cell_type": "code",
   "execution_count": null,
   "id": "1ea5ea40",
   "metadata": {},
   "outputs": [],
   "source": []
  },
  {
   "cell_type": "code",
   "execution_count": 172,
   "id": "97abdd87",
   "metadata": {},
   "outputs": [
    {
     "data": {
      "text/plain": [
       "3"
      ]
     },
     "execution_count": 172,
     "metadata": {},
     "output_type": "execute_result"
    }
   ],
   "source": [
    "avg(2,2,4,5,6,4)"
   ]
  },
  {
   "cell_type": "code",
   "execution_count": 173,
   "id": "bd70da13",
   "metadata": {},
   "outputs": [
    {
     "ename": "ZeroDivisionError",
     "evalue": "integer division or modulo by zero",
     "output_type": "error",
     "traceback": [
      "\u001b[0;31m---------------------------------------------------------------------------\u001b[0m",
      "\u001b[0;31mZeroDivisionError\u001b[0m                         Traceback (most recent call last)",
      "\u001b[0;32m<ipython-input-173-f5d909301850>\u001b[0m in \u001b[0;36m<module>\u001b[0;34m\u001b[0m\n\u001b[0;32m----> 1\u001b[0;31m \u001b[0mavg\u001b[0m\u001b[0;34m(\u001b[0m\u001b[0;34m)\u001b[0m\u001b[0;34m\u001b[0m\u001b[0;34m\u001b[0m\u001b[0m\n\u001b[0m",
      "\u001b[0;32m<ipython-input-171-171594c7d247>\u001b[0m in \u001b[0;36mavg\u001b[0;34m(*args)\u001b[0m\n\u001b[1;32m      2\u001b[0m     \u001b[0mcount\u001b[0m \u001b[0;34m=\u001b[0m \u001b[0mlen\u001b[0m\u001b[0;34m(\u001b[0m\u001b[0margs\u001b[0m\u001b[0;34m)\u001b[0m\u001b[0;34m\u001b[0m\u001b[0;34m\u001b[0m\u001b[0m\n\u001b[1;32m      3\u001b[0m     \u001b[0mtotal\u001b[0m \u001b[0;34m=\u001b[0m \u001b[0msum\u001b[0m\u001b[0;34m(\u001b[0m\u001b[0margs\u001b[0m\u001b[0;34m)\u001b[0m\u001b[0;34m\u001b[0m\u001b[0;34m\u001b[0m\u001b[0m\n\u001b[0;32m----> 4\u001b[0;31m     \u001b[0;32mreturn\u001b[0m \u001b[0mtotal\u001b[0m\u001b[0;34m//\u001b[0m\u001b[0mcount\u001b[0m \u001b[0;32mor\u001b[0m \u001b[0mcount\u001b[0m\u001b[0;34m\u001b[0m\u001b[0;34m\u001b[0m\u001b[0m\n\u001b[0m",
      "\u001b[0;31mZeroDivisionError\u001b[0m: integer division or modulo by zero"
     ]
    }
   ],
   "source": [
    "avg()"
   ]
  },
  {
   "cell_type": "code",
   "execution_count": 164,
   "id": "c4b9c0e2",
   "metadata": {},
   "outputs": [],
   "source": [
    "def avg(a, *args):\n",
    "    count = len(args) + 1\n",
    "    total = sum(args) + a\n",
    "    return total/count"
   ]
  },
  {
   "cell_type": "code",
   "execution_count": 165,
   "id": "b2fdd51e",
   "metadata": {},
   "outputs": [
    {
     "data": {
      "text/plain": [
       "3.8333333333333335"
      ]
     },
     "execution_count": 165,
     "metadata": {},
     "output_type": "execute_result"
    }
   ],
   "source": [
    "avg(2,2,4,5,6,4)"
   ]
  },
  {
   "cell_type": "code",
   "execution_count": 166,
   "id": "87e6eb76",
   "metadata": {},
   "outputs": [
    {
     "ename": "TypeError",
     "evalue": "avg() missing 1 required positional argument: 'a'",
     "output_type": "error",
     "traceback": [
      "\u001b[0;31m---------------------------------------------------------------------------\u001b[0m",
      "\u001b[0;31mTypeError\u001b[0m                                 Traceback (most recent call last)",
      "\u001b[0;32m<ipython-input-166-f5d909301850>\u001b[0m in \u001b[0;36m<module>\u001b[0;34m\u001b[0m\n\u001b[0;32m----> 1\u001b[0;31m \u001b[0mavg\u001b[0m\u001b[0;34m(\u001b[0m\u001b[0;34m)\u001b[0m\u001b[0;34m\u001b[0m\u001b[0;34m\u001b[0m\u001b[0m\n\u001b[0m",
      "\u001b[0;31mTypeError\u001b[0m: avg() missing 1 required positional argument: 'a'"
     ]
    }
   ],
   "source": [
    "avg()"
   ]
  },
  {
   "cell_type": "code",
   "execution_count": 167,
   "id": "982770ac",
   "metadata": {},
   "outputs": [],
   "source": [
    "def func1(a,b,c):\n",
    "    print(a)\n",
    "    print(b)\n",
    "    print(c)"
   ]
  },
  {
   "cell_type": "code",
   "execution_count": 175,
   "id": "a04f8e42",
   "metadata": {},
   "outputs": [
    {
     "name": "stdout",
     "output_type": "stream",
     "text": [
      "[10, 20, 30]\n",
      "x\n",
      "y\n"
     ]
    }
   ],
   "source": [
    "l = [10,20,30]\n",
    "func1(l, 'x', 'y')"
   ]
  },
  {
   "cell_type": "code",
   "execution_count": 176,
   "id": "bc31c532",
   "metadata": {},
   "outputs": [
    {
     "name": "stdout",
     "output_type": "stream",
     "text": [
      "10\n",
      "20\n",
      "30\n"
     ]
    }
   ],
   "source": [
    "func1(*l)"
   ]
  },
  {
   "cell_type": "code",
   "execution_count": 181,
   "id": "613fe155",
   "metadata": {},
   "outputs": [],
   "source": [
    "def func1(a,b,c, *args):\n",
    "    print(a)\n",
    "    print(b)\n",
    "    print(c)\n",
    "    print(args)"
   ]
  },
  {
   "cell_type": "code",
   "execution_count": 182,
   "id": "63ad92da",
   "metadata": {},
   "outputs": [
    {
     "name": "stdout",
     "output_type": "stream",
     "text": [
      "10\n",
      "20\n",
      "30\n",
      "(40, 50)\n"
     ]
    }
   ],
   "source": [
    "l = [10,20,30,40,50]\n",
    "func1(*l)"
   ]
  },
  {
   "cell_type": "markdown",
   "id": "d0d4d0d9",
   "metadata": {},
   "source": [
    "----\n",
    "## Keyword Arguments\n",
    "\n",
    "**Mandatory keyword arguments**\n",
    "\n",
    "We can make keyword arguments mandatory\n",
    "\n",
    "To do so, we create parameters after the **positional** parameters have been **exhausted**\n",
    "\n",
    "def func(a,b, *args, d):\n",
    "code\n",
    "\n",
    "In this case, *args effectively exhausts all positional arguments and **d** must be passed as **keywrod** (named) argument\n",
    "\n",
    "func(1,2,'x', 'y', d = 100) this will work\n",
    "\n",
    "We can even omit any mandayory positional arguments\n",
    "\n",
    "In fact we can force **no positional arguments** at all\n",
    "\n",
    "def func(*, d):\n",
    "\n",
    "*indicates the 'end' of positional arguments.\n",
    "\n",
    "***func1(1,2,3,d=100) Incorrect***\n",
    "\n",
    "***func1(d=100) Correct***"
   ]
  },
  {
   "cell_type": "code",
   "execution_count": 195,
   "id": "a9ed3135",
   "metadata": {},
   "outputs": [],
   "source": [
    "def func(a,b,*args,d):\n",
    "    print(f'a={a},b={b},args={args},d={d}')"
   ]
  },
  {
   "cell_type": "code",
   "execution_count": 196,
   "id": "4f0e848b",
   "metadata": {},
   "outputs": [
    {
     "ename": "TypeError",
     "evalue": "func() missing 1 required keyword-only argument: 'd'",
     "output_type": "error",
     "traceback": [
      "\u001b[0;31m---------------------------------------------------------------------------\u001b[0m",
      "\u001b[0;31mTypeError\u001b[0m                                 Traceback (most recent call last)",
      "\u001b[0;32m<ipython-input-196-9a77683b4345>\u001b[0m in \u001b[0;36m<module>\u001b[0;34m\u001b[0m\n\u001b[0;32m----> 1\u001b[0;31m \u001b[0mfunc\u001b[0m\u001b[0;34m(\u001b[0m\u001b[0;36m1\u001b[0m\u001b[0;34m,\u001b[0m\u001b[0;36m2\u001b[0m\u001b[0;34m,\u001b[0m\u001b[0;36m3\u001b[0m\u001b[0;34m,\u001b[0m\u001b[0;36m4\u001b[0m\u001b[0;34m,\u001b[0m\u001b[0;36m5\u001b[0m\u001b[0;34m)\u001b[0m\u001b[0;34m\u001b[0m\u001b[0;34m\u001b[0m\u001b[0m\n\u001b[0m",
      "\u001b[0;31mTypeError\u001b[0m: func() missing 1 required keyword-only argument: 'd'"
     ]
    }
   ],
   "source": [
    "func(1,2,3,4,5)"
   ]
  },
  {
   "cell_type": "markdown",
   "id": "56b48909",
   "metadata": {},
   "source": [
    "The error is becuase *args took all the remaining parameters"
   ]
  },
  {
   "cell_type": "code",
   "execution_count": 197,
   "id": "0e599e07",
   "metadata": {},
   "outputs": [
    {
     "name": "stdout",
     "output_type": "stream",
     "text": [
      "a=1,b=2,args=(3, 4),d=5\n"
     ]
    }
   ],
   "source": [
    "func(1,2,3,4,d=5)"
   ]
  },
  {
   "cell_type": "code",
   "execution_count": 198,
   "id": "28a72a00",
   "metadata": {},
   "outputs": [],
   "source": [
    "def func(*args,d):\n",
    "    print(f'args={args},d={d}')"
   ]
  },
  {
   "cell_type": "code",
   "execution_count": 200,
   "id": "a9a21ce7",
   "metadata": {},
   "outputs": [
    {
     "name": "stdout",
     "output_type": "stream",
     "text": [
      "args=(1, 2, 3),d=a\n"
     ]
    }
   ],
   "source": [
    "func(1,2,3,d='a')"
   ]
  },
  {
   "cell_type": "code",
   "execution_count": 201,
   "id": "8f940c5e",
   "metadata": {},
   "outputs": [
    {
     "name": "stdout",
     "output_type": "stream",
     "text": [
      "args=(),d=a\n"
     ]
    }
   ],
   "source": [
    "func(d='a')"
   ]
  },
  {
   "cell_type": "markdown",
   "id": "9cca6428",
   "metadata": {},
   "source": [
    "When we do not want this to happen, to have empty args, we use the * only, without the args. The star says this is the end of all positional parameters, after that, everything will be keyword"
   ]
  },
  {
   "cell_type": "code",
   "execution_count": 202,
   "id": "dbc6d769",
   "metadata": {},
   "outputs": [],
   "source": [
    "def func(*,d):\n",
    "    print(f'd={d}')"
   ]
  },
  {
   "cell_type": "code",
   "execution_count": 203,
   "id": "f7dd7d98",
   "metadata": {},
   "outputs": [
    {
     "ename": "TypeError",
     "evalue": "func() takes 0 positional arguments but 2 positional arguments (and 1 keyword-only argument) were given",
     "output_type": "error",
     "traceback": [
      "\u001b[0;31m---------------------------------------------------------------------------\u001b[0m",
      "\u001b[0;31mTypeError\u001b[0m                                 Traceback (most recent call last)",
      "\u001b[0;32m<ipython-input-203-e88fdc29f2e2>\u001b[0m in \u001b[0;36m<module>\u001b[0;34m\u001b[0m\n\u001b[0;32m----> 1\u001b[0;31m \u001b[0mfunc\u001b[0m\u001b[0;34m(\u001b[0m\u001b[0;36m1\u001b[0m\u001b[0;34m,\u001b[0m\u001b[0;36m2\u001b[0m\u001b[0;34m,\u001b[0m\u001b[0md\u001b[0m\u001b[0;34m=\u001b[0m\u001b[0;36m100\u001b[0m\u001b[0;34m)\u001b[0m\u001b[0;34m\u001b[0m\u001b[0;34m\u001b[0m\u001b[0m\n\u001b[0m",
      "\u001b[0;31mTypeError\u001b[0m: func() takes 0 positional arguments but 2 positional arguments (and 1 keyword-only argument) were given"
     ]
    }
   ],
   "source": [
    "func(1,2,d=100)"
   ]
  },
  {
   "cell_type": "markdown",
   "id": "fa3d7172",
   "metadata": {},
   "source": [
    "So, we have to provide 0 positional arguments"
   ]
  },
  {
   "cell_type": "code",
   "execution_count": 204,
   "id": "ed80e4d8",
   "metadata": {},
   "outputs": [
    {
     "name": "stdout",
     "output_type": "stream",
     "text": [
      "d=100\n"
     ]
    }
   ],
   "source": [
    "func(d=100)"
   ]
  },
  {
   "cell_type": "code",
   "execution_count": 205,
   "id": "de13d619",
   "metadata": {},
   "outputs": [],
   "source": [
    "def func(a,b,*,d):\n",
    "    print(f'a={a}, b={b}, d={d}')"
   ]
  },
  {
   "cell_type": "code",
   "execution_count": 206,
   "id": "8dbb1246",
   "metadata": {},
   "outputs": [
    {
     "ename": "TypeError",
     "evalue": "func() takes 2 positional arguments but 3 positional arguments (and 1 keyword-only argument) were given",
     "output_type": "error",
     "traceback": [
      "\u001b[0;31m---------------------------------------------------------------------------\u001b[0m",
      "\u001b[0;31mTypeError\u001b[0m                                 Traceback (most recent call last)",
      "\u001b[0;32m<ipython-input-206-5ab6d5970b6c>\u001b[0m in \u001b[0;36m<module>\u001b[0;34m\u001b[0m\n\u001b[0;32m----> 1\u001b[0;31m \u001b[0mfunc\u001b[0m\u001b[0;34m(\u001b[0m\u001b[0;36m1\u001b[0m\u001b[0;34m,\u001b[0m\u001b[0;36m2\u001b[0m\u001b[0;34m,\u001b[0m\u001b[0;36m3\u001b[0m\u001b[0;34m,\u001b[0m\u001b[0md\u001b[0m\u001b[0;34m=\u001b[0m\u001b[0;36m4\u001b[0m\u001b[0;34m)\u001b[0m\u001b[0;34m\u001b[0m\u001b[0;34m\u001b[0m\u001b[0m\n\u001b[0m",
      "\u001b[0;31mTypeError\u001b[0m: func() takes 2 positional arguments but 3 positional arguments (and 1 keyword-only argument) were given"
     ]
    }
   ],
   "source": [
    "func(1,2,3,d=4)"
   ]
  },
  {
   "cell_type": "code",
   "execution_count": 207,
   "id": "eb6a3fe0",
   "metadata": {},
   "outputs": [
    {
     "name": "stdout",
     "output_type": "stream",
     "text": [
      "a=1, b=2, d=4\n"
     ]
    }
   ],
   "source": [
    "func(1,2,d=4)"
   ]
  },
  {
   "cell_type": "code",
   "execution_count": 210,
   "id": "8aa9f92d",
   "metadata": {},
   "outputs": [],
   "source": [
    "def func(a,b=2,*args,d):\n",
    "    print(f'a={a},b={b},args={args},d={d}')"
   ]
  },
  {
   "cell_type": "code",
   "execution_count": 211,
   "id": "ddb57108",
   "metadata": {},
   "outputs": [
    {
     "name": "stdout",
     "output_type": "stream",
     "text": [
      "a=1,b=5,args=(3, 4),d=a\n"
     ]
    }
   ],
   "source": [
    "func(1,5,3,4,d='a')"
   ]
  },
  {
   "cell_type": "code",
   "execution_count": 212,
   "id": "479d0cbe",
   "metadata": {},
   "outputs": [],
   "source": [
    "def func(a, b = 20, *args, d=0, e):\n",
    "    print(f'a={a},b={b},args={args},d={d}, e={e}')"
   ]
  },
  {
   "cell_type": "code",
   "execution_count": 220,
   "id": "5ca55d9a",
   "metadata": {},
   "outputs": [
    {
     "name": "stdout",
     "output_type": "stream",
     "text": [
      "a=5,b=4,args=(3, 2, 1, 10),d=0, e=all engines are running\n"
     ]
    }
   ],
   "source": [
    "func(5,4,3,2,1,10,e='all engines are running')"
   ]
  },
  {
   "cell_type": "code",
   "execution_count": 223,
   "id": "6f46c1a3",
   "metadata": {},
   "outputs": [
    {
     "name": "stdout",
     "output_type": "stream",
     "text": [
      "a=0,b=600,args=(),d=yello, e=-1\n"
     ]
    }
   ],
   "source": [
    "func(0,600,d='yello',e=-1)"
   ]
  },
  {
   "cell_type": "code",
   "execution_count": 224,
   "id": "5049393a",
   "metadata": {},
   "outputs": [
    {
     "name": "stdout",
     "output_type": "stream",
     "text": [
      "a=11,b=m/s,args=(24, 'mph'),d=unladden, e=swallow\n"
     ]
    }
   ],
   "source": [
    "func(11,'m/s', 24, 'mph', d='unladden', e='swallow')"
   ]
  },
  {
   "cell_type": "code",
   "execution_count": 235,
   "id": "4d7b7501",
   "metadata": {},
   "outputs": [],
   "source": []
  },
  {
   "cell_type": "code",
   "execution_count": 243,
   "id": "fd21202d",
   "metadata": {},
   "outputs": [],
   "source": [
    "def func(a, b, *args, d, e):\n",
    "    print(f'a={a},b={b},args={args},d={d}, e={e}')"
   ]
  },
  {
   "cell_type": "code",
   "execution_count": 244,
   "id": "9b09f27e",
   "metadata": {},
   "outputs": [
    {
     "ename": "TypeError",
     "evalue": "func() missing 2 required keyword-only arguments: 'd' and 'e'",
     "output_type": "error",
     "traceback": [
      "\u001b[0;31m---------------------------------------------------------------------------\u001b[0m",
      "\u001b[0;31mTypeError\u001b[0m                                 Traceback (most recent call last)",
      "\u001b[0;32m<ipython-input-244-726c90215270>\u001b[0m in \u001b[0;36m<module>\u001b[0;34m\u001b[0m\n\u001b[1;32m      4\u001b[0m     \u001b[0;32mreturn\u001b[0m \u001b[0mfn\u001b[0m\u001b[0;34m\u001b[0m\u001b[0;34m\u001b[0m\u001b[0m\n\u001b[1;32m      5\u001b[0m \u001b[0;34m\u001b[0m\u001b[0m\n\u001b[0;32m----> 6\u001b[0;31m \u001b[0mprint_func\u001b[0m\u001b[0;34m(\u001b[0m\u001b[0mf\u001b[0m\u001b[0;34m(\u001b[0m\u001b[0;36m100\u001b[0m\u001b[0;34m,\u001b[0m \u001b[0;34m'b de burro'\u001b[0m\u001b[0;34m,\u001b[0m \u001b[0;36m10\u001b[0m\u001b[0;34m,\u001b[0m\u001b[0;36m20\u001b[0m\u001b[0;34m,\u001b[0m\u001b[0;36m30\u001b[0m\u001b[0;34m,\u001b[0m\u001b[0;36m40\u001b[0m\u001b[0;34m,\u001b[0m \u001b[0;34m'jejej'\u001b[0m\u001b[0;34m,\u001b[0m \u001b[0;34m'zzz'\u001b[0m\u001b[0;34m)\u001b[0m\u001b[0;34m)\u001b[0m\u001b[0;34m\u001b[0m\u001b[0;34m\u001b[0m\u001b[0m\n\u001b[0m",
      "\u001b[0;31mTypeError\u001b[0m: func() missing 2 required keyword-only arguments: 'd' and 'e'"
     ]
    }
   ],
   "source": [
    "f = func\n",
    "\n",
    "def print_func(fn):\n",
    "    return fn\n",
    "\n",
    "print_func(f(100, 'b de burro', 10,20,30,40, 'jejej', 'zzz'))"
   ]
  },
  {
   "cell_type": "markdown",
   "id": "9f5c91c4",
   "metadata": {},
   "source": [
    "-----\n",
    "## **kwargs"
   ]
  },
  {
   "cell_type": "markdown",
   "id": "8648292e",
   "metadata": {},
   "source": [
    "***args** is used to scoop up variable amount of remaining positional arguments -> tuple\n",
    "\n",
    "****kwargs** is used to scoop up a variable amount of remaining keyword arguments -> dictionary\n",
    "Can be specified even if the positional arguments have not been exhausted (unlike keyword-only arguments)\n",
    "\n",
    "No parameters can come after ****kwargs**"
   ]
  },
  {
   "cell_type": "code",
   "execution_count": 1,
   "id": "7901e2a3",
   "metadata": {},
   "outputs": [],
   "source": [
    "def func(**kwargs):\n",
    "    print(f'kwargs={kwargs}')"
   ]
  },
  {
   "cell_type": "code",
   "execution_count": 2,
   "id": "51df22fd",
   "metadata": {},
   "outputs": [
    {
     "name": "stdout",
     "output_type": "stream",
     "text": [
      "kwargs={'a': 1, 'b': 2, 'c': 3}\n"
     ]
    }
   ],
   "source": [
    "func(a=1,b=2,c=3)"
   ]
  },
  {
   "cell_type": "code",
   "execution_count": 3,
   "id": "66da23aa",
   "metadata": {},
   "outputs": [
    {
     "ename": "SyntaxError",
     "evalue": "invalid syntax (<ipython-input-3-796510d51ca8>, line 1)",
     "output_type": "error",
     "traceback": [
      "\u001b[0;36m  File \u001b[0;32m\"<ipython-input-3-796510d51ca8>\"\u001b[0;36m, line \u001b[0;32m1\u001b[0m\n\u001b[0;31m    def func1(**kwargs, *args):\u001b[0m\n\u001b[0m                        ^\u001b[0m\n\u001b[0;31mSyntaxError\u001b[0m\u001b[0;31m:\u001b[0m invalid syntax\n"
     ]
    }
   ],
   "source": [
    "def func1(**kwargs, *args):\n",
    "    print(f'kwargs={kwargs}, args={args}')"
   ]
  },
  {
   "cell_type": "code",
   "execution_count": 4,
   "id": "c8de2f7f",
   "metadata": {},
   "outputs": [],
   "source": [
    "def func1(*args, **kwargs):\n",
    "    print(f'kwargs={kwargs}, args={args}')"
   ]
  },
  {
   "cell_type": "code",
   "execution_count": 5,
   "id": "9e8b688b",
   "metadata": {},
   "outputs": [
    {
     "name": "stdout",
     "output_type": "stream",
     "text": [
      "kwargs={'x': 100, 'y': 500, 'd': 'yei'}, args=(1, 2, 3, 4, 5, 6)\n"
     ]
    }
   ],
   "source": [
    "func1(1,2,3,4,5,6, x=100, y=500, d='yei')"
   ]
  },
  {
   "cell_type": "code",
   "execution_count": 6,
   "id": "bc6855d1",
   "metadata": {},
   "outputs": [],
   "source": [
    "def func(a,b, d=10, **kwargs):\n",
    "    print(f'a={a}, b={b}, d={d}, kwargs={kwargs}')"
   ]
  },
  {
   "cell_type": "code",
   "execution_count": 7,
   "id": "b7ffb79c",
   "metadata": {},
   "outputs": [
    {
     "name": "stdout",
     "output_type": "stream",
     "text": [
      "a=10, b=20, d=100, kwargs={'c': 10}\n"
     ]
    }
   ],
   "source": [
    "func(10,20,c=10, d=100)"
   ]
  },
  {
   "cell_type": "markdown",
   "id": "381048e6",
   "metadata": {},
   "source": [
    "---\n",
    "## A Simple Function Timer"
   ]
  },
  {
   "cell_type": "code",
   "execution_count": 8,
   "id": "88f77042",
   "metadata": {},
   "outputs": [],
   "source": [
    "import time"
   ]
  },
  {
   "cell_type": "code",
   "execution_count": 9,
   "id": "a71ed192",
   "metadata": {},
   "outputs": [],
   "source": [
    "def time_it(fn, *args, rep=1, **kwargs):\n",
    "    start = time.perf_counter()\n",
    "    for i in range(rep):\n",
    "        fn(*args, **kwargs)\n",
    "    end = time.perf_counter()\n",
    "    return (end-start) / rep"
   ]
  },
  {
   "cell_type": "code",
   "execution_count": 10,
   "id": "a6eae016",
   "metadata": {},
   "outputs": [
    {
     "name": "stdout",
     "output_type": "stream",
     "text": [
      "1 - 2 - 3 ***\n",
      "1 - 2 - 3 ***\n",
      "1 - 2 - 3 ***\n",
      "1 - 2 - 3 ***\n",
      "1 - 2 - 3 ***\n"
     ]
    },
    {
     "data": {
      "text/plain": [
       "0.00033752059998732876"
      ]
     },
     "execution_count": 10,
     "metadata": {},
     "output_type": "execute_result"
    }
   ],
   "source": [
    "time_it(print, 1,2,3, sep=' - ', end=' ***\\n', rep=5)"
   ]
  },
  {
   "cell_type": "code",
   "execution_count": 11,
   "id": "08c35572",
   "metadata": {},
   "outputs": [],
   "source": [
    "def compute_powers_1(n, *, start=1, end):\n",
    "    #using a for loop\n",
    "    results = []\n",
    "    for i in range(start,end):\n",
    "        results.append(n**i)\n",
    "    return results"
   ]
  },
  {
   "cell_type": "code",
   "execution_count": 12,
   "id": "9c10c96d",
   "metadata": {},
   "outputs": [
    {
     "data": {
      "text/plain": [
       "[2, 4, 8, 16]"
      ]
     },
     "execution_count": 12,
     "metadata": {},
     "output_type": "execute_result"
    }
   ],
   "source": [
    "compute_powers_1(2, end=5)"
   ]
  },
  {
   "cell_type": "code",
   "execution_count": 13,
   "id": "70eee535",
   "metadata": {},
   "outputs": [],
   "source": [
    "def compute_powers_2(n,*,start=1,end):\n",
    "    #using a list comprehension\n",
    "    return [n**i for i in range(start, end)]"
   ]
  },
  {
   "cell_type": "code",
   "execution_count": 14,
   "id": "325bf3aa",
   "metadata": {},
   "outputs": [
    {
     "data": {
      "text/plain": [
       "[2, 4, 8, 16]"
      ]
     },
     "execution_count": 14,
     "metadata": {},
     "output_type": "execute_result"
    }
   ],
   "source": [
    "compute_powers_2(2,end=5)"
   ]
  },
  {
   "cell_type": "code",
   "execution_count": 15,
   "id": "09cc6ad1",
   "metadata": {},
   "outputs": [],
   "source": [
    "def compute_powers_3(n,*,start=1,end):\n",
    "    #using generators expression\n",
    "    return (n**i for i in range(start, end))"
   ]
  },
  {
   "cell_type": "code",
   "execution_count": 16,
   "id": "763fca3c",
   "metadata": {},
   "outputs": [
    {
     "data": {
      "text/plain": [
       "[2, 4, 8, 16]"
      ]
     },
     "execution_count": 16,
     "metadata": {},
     "output_type": "execute_result"
    }
   ],
   "source": [
    "list(compute_powers_3(2,end=5))"
   ]
  },
  {
   "cell_type": "code",
   "execution_count": 17,
   "id": "b8b30dee",
   "metadata": {},
   "outputs": [
    {
     "data": {
      "text/plain": [
       "0.464735364399985"
      ]
     },
     "execution_count": 17,
     "metadata": {},
     "output_type": "execute_result"
    }
   ],
   "source": [
    "time_it(compute_powers_1, 2, start=0, rep=5,end=20000)"
   ]
  },
  {
   "cell_type": "code",
   "execution_count": 18,
   "id": "da4bbd1d",
   "metadata": {},
   "outputs": [
    {
     "data": {
      "text/plain": [
       "0.42529758519995087"
      ]
     },
     "execution_count": 18,
     "metadata": {},
     "output_type": "execute_result"
    }
   ],
   "source": [
    "time_it(compute_powers_2, n=2, start=0, rep=5,end=20000)"
   ]
  },
  {
   "cell_type": "code",
   "execution_count": 19,
   "id": "9a6fca05",
   "metadata": {},
   "outputs": [
    {
     "data": {
      "text/plain": [
       "1.7702000150165986e-06"
      ]
     },
     "execution_count": 19,
     "metadata": {},
     "output_type": "execute_result"
    }
   ],
   "source": [
    "time_it(compute_powers_3, n=2, start=0, rep=5,end=20000)"
   ]
  },
  {
   "cell_type": "markdown",
   "id": "65819349",
   "metadata": {},
   "source": [
    "---\n",
    "## Parameter Defaults - Beware"
   ]
  },
  {
   "cell_type": "markdown",
   "id": "e233093b",
   "metadata": {},
   "source": [
    "When a module is **loaded** : all code is **executed** immediately\n",
    "\n",
    "What about default values?\n",
    "\n",
    "The function object is created, and **func** references it.\n",
    "\n",
    "The integer object 10 is evaluated/created and is assigned as the default for **a**\n",
    "\n",
    "The function is **executed**\n",
    "\n",
    "by the time this happens, the default value for **a** has already been evaluated and assigned - it is not re-evaluated\n",
    "\n"
   ]
  },
  {
   "cell_type": "markdown",
   "id": "640750fd",
   "metadata": {},
   "source": [
    "Consider this:\n",
    "\n",
    "We wan to create a function that will write a log entry to the console with a user-specfied event date/time. If the user does not supply a date/time, we want to set it to the current date/time:"
   ]
  },
  {
   "cell_type": "code",
   "execution_count": 23,
   "id": "245f1553",
   "metadata": {},
   "outputs": [],
   "source": [
    "from datetime import datetime\n",
    "\n",
    "def log(msg, *, dt=datetime.utcnow()):\n",
    "    print('{0}: {1}'.format(dt,msg))"
   ]
  },
  {
   "cell_type": "code",
   "execution_count": 24,
   "id": "8f250480",
   "metadata": {},
   "outputs": [
    {
     "name": "stdout",
     "output_type": "stream",
     "text": [
      "2022-01-20 02:41:18.566688: message 1\n"
     ]
    }
   ],
   "source": [
    "log('message 1')"
   ]
  },
  {
   "cell_type": "markdown",
   "id": "e65b4a1c",
   "metadata": {},
   "source": [
    "Let's say sometime later, we call this log function again"
   ]
  },
  {
   "cell_type": "code",
   "execution_count": 25,
   "id": "de122a50",
   "metadata": {},
   "outputs": [
    {
     "name": "stdout",
     "output_type": "stream",
     "text": [
      "2022-01-20 02:41:18.566688: message 2\n"
     ]
    }
   ],
   "source": [
    "log('message 2')"
   ]
  },
  {
   "cell_type": "markdown",
   "id": "a45834f2",
   "metadata": {},
   "source": [
    "But it is identical. The reason for that is because it is assigned as a default value when the module was loaded."
   ]
  },
  {
   "cell_type": "markdown",
   "id": "0bf3171a",
   "metadata": {},
   "source": [
    "**Solution Pattern**\n",
    "\n",
    "We set a default for **dt** to **None**\n",
    "\n",
    "**Inside** the function, we test to see if **dt** is still **None**\n",
    "\n",
    "If **dt** is **None**, set it to the current date/time, otherwise, use what the caller specifiet for **dt**:"
   ]
  },
  {
   "cell_type": "code",
   "execution_count": 26,
   "id": "7f00d6b2",
   "metadata": {},
   "outputs": [],
   "source": [
    "from datetime import datetime\n",
    "\n",
    "def log(msg, *, dt=None):\n",
    "    dt = dt or datetime.utcnow()\n",
    "    print('{0}: {1}'.format(dt,msg))\n"
   ]
  },
  {
   "cell_type": "code",
   "execution_count": 27,
   "id": "efee0902",
   "metadata": {},
   "outputs": [
    {
     "name": "stdout",
     "output_type": "stream",
     "text": [
      "2022-01-20 02:44:59.178707: message 1\n"
     ]
    }
   ],
   "source": [
    "log('message 1')"
   ]
  },
  {
   "cell_type": "code",
   "execution_count": 28,
   "id": "77ac6e3e",
   "metadata": {},
   "outputs": [
    {
     "name": "stdout",
     "output_type": "stream",
     "text": [
      "2022-01-20 02:45:07.509645: message 2\n"
     ]
    }
   ],
   "source": [
    "log('message 2')"
   ]
  },
  {
   "cell_type": "markdown",
   "id": "b93d51ac",
   "metadata": {},
   "source": [
    "---\n",
    "## Parameter Defaults - Beware 2"
   ]
  },
  {
   "cell_type": "code",
   "execution_count": 29,
   "id": "34fde402",
   "metadata": {},
   "outputs": [],
   "source": [
    "def add_item(name, quantity, unit, grocery_list):\n",
    "    grocery_list.append(f'name:{name}, quantity:{quantity}, unit:{unit}')\n",
    "    return grocery_list"
   ]
  },
  {
   "cell_type": "code",
   "execution_count": 30,
   "id": "15f5599c",
   "metadata": {},
   "outputs": [
    {
     "data": {
      "text/plain": [
       "['name:milk, quantity:1, unit:liter']"
      ]
     },
     "execution_count": 30,
     "metadata": {},
     "output_type": "execute_result"
    }
   ],
   "source": [
    "store1 = []\n",
    "store2 = []\n",
    "\n",
    "add_item('bannana', 2, 'units', store1)\n",
    "add_item('milk', 1, 'liter', store2)"
   ]
  },
  {
   "cell_type": "code",
   "execution_count": 31,
   "id": "a676f4e1",
   "metadata": {},
   "outputs": [
    {
     "name": "stdout",
     "output_type": "stream",
     "text": [
      "store1: ['name:bannana, quantity:2, unit:units'], store2: ['name:milk, quantity:1, unit:liter']\n"
     ]
    }
   ],
   "source": [
    "print(f'store1: {store1}, store2: {store2}')"
   ]
  },
  {
   "cell_type": "markdown",
   "id": "5bd5c0f1",
   "metadata": {},
   "source": [
    "What we had to do was to create an empty list, but let's make it easier"
   ]
  },
  {
   "cell_type": "code",
   "execution_count": 43,
   "id": "0088abb3",
   "metadata": {},
   "outputs": [],
   "source": [
    "def add_item(name, quantity, unit, grocery_list=[]):\n",
    "    grocery_list.append(f'name:{name}, quantity:{quantity}, unit:{unit}')\n",
    "    return grocery_list"
   ]
  },
  {
   "cell_type": "code",
   "execution_count": 52,
   "id": "97cba68a",
   "metadata": {},
   "outputs": [],
   "source": [
    "del store1"
   ]
  },
  {
   "cell_type": "code",
   "execution_count": null,
   "id": "e6b75291",
   "metadata": {},
   "outputs": [],
   "source": []
  },
  {
   "cell_type": "code",
   "execution_count": 56,
   "id": "85f1315d",
   "metadata": {},
   "outputs": [
    {
     "data": {
      "text/plain": [
       "['name:bannana, quantity:2, unit:units',\n",
       " 'name:bannana, quantity:2, unit:units',\n",
       " 'name:milk, quantity:1, unit:liter',\n",
       " 'name:bannana, quantity:2, unit:units',\n",
       " 'name:milk, quantity:1, unit:liter',\n",
       " 'name:bannana, quantity:2, unit:units',\n",
       " 'name:milk, quantity:1, unit:liter',\n",
       " 'name:bannana, quantity:2, unit:units',\n",
       " 'name:milk, quantity:1, unit:liter']"
      ]
     },
     "execution_count": 56,
     "metadata": {},
     "output_type": "execute_result"
    }
   ],
   "source": [
    "s1 = add_item('bannana', 2, 'units')\n",
    "add_item('milk', 1, 'liter', s1)"
   ]
  },
  {
   "cell_type": "code",
   "execution_count": 57,
   "id": "b9d5de5a",
   "metadata": {},
   "outputs": [
    {
     "data": {
      "text/plain": [
       "['name:bannana, quantity:2, unit:units',\n",
       " 'name:bannana, quantity:2, unit:units',\n",
       " 'name:milk, quantity:1, unit:liter',\n",
       " 'name:bannana, quantity:2, unit:units',\n",
       " 'name:milk, quantity:1, unit:liter',\n",
       " 'name:bannana, quantity:2, unit:units',\n",
       " 'name:milk, quantity:1, unit:liter',\n",
       " 'name:bannana, quantity:2, unit:units',\n",
       " 'name:milk, quantity:1, unit:liter',\n",
       " 'name:bannana, quantity:2, unit:units',\n",
       " 'name:milk, quantity:1, unit:liter']"
      ]
     },
     "execution_count": 57,
     "metadata": {},
     "output_type": "execute_result"
    }
   ],
   "source": [
    "s2 = add_item('bannana', 2, 'units')\n",
    "add_item('milk', 1, 'liter', s2)"
   ]
  },
  {
   "cell_type": "markdown",
   "id": "a21bc3af",
   "metadata": {},
   "source": [
    "We got this shared instance of the grocery list.\n",
    "\n",
    "**DO NOT USE mutable default types**"
   ]
  },
  {
   "cell_type": "code",
   "execution_count": 58,
   "id": "be1cb437",
   "metadata": {},
   "outputs": [],
   "source": [
    "def add_item(name, quantity, unit, grocery_list=None):\n",
    "    grocery_list = grocery_list or []\n",
    "    grocery_list.append(f'name:{name}, quantity:{quantity}, unit:{unit}')\n",
    "    return grocery_list"
   ]
  },
  {
   "cell_type": "code",
   "execution_count": 61,
   "id": "daf82ea4",
   "metadata": {},
   "outputs": [
    {
     "data": {
      "text/plain": [
       "['name:bannana, quantity:2, unit:units', 'name:milk, quantity:1, unit:liter']"
      ]
     },
     "execution_count": 61,
     "metadata": {},
     "output_type": "execute_result"
    }
   ],
   "source": [
    "store1 = add_item('bannana', 2, 'units')\n",
    "add_item('milk', 1, 'liter', store1)"
   ]
  },
  {
   "cell_type": "code",
   "execution_count": 62,
   "id": "1ebbddc2",
   "metadata": {},
   "outputs": [
    {
     "data": {
      "text/plain": [
       "['name:bannana, quantity:2, unit:units', 'name:milk, quantity:1, unit:liter']"
      ]
     },
     "execution_count": 62,
     "metadata": {},
     "output_type": "execute_result"
    }
   ],
   "source": [
    "store1"
   ]
  },
  {
   "cell_type": "code",
   "execution_count": 63,
   "id": "97ef5dac",
   "metadata": {},
   "outputs": [],
   "source": [
    "store2 = add_item('python', 1, 'medium-rare')"
   ]
  },
  {
   "cell_type": "code",
   "execution_count": 64,
   "id": "d68fa6f9",
   "metadata": {},
   "outputs": [
    {
     "data": {
      "text/plain": [
       "['name:python, quantity:1, unit:medium-rare']"
      ]
     },
     "execution_count": 64,
     "metadata": {},
     "output_type": "execute_result"
    }
   ],
   "source": [
    "store2"
   ]
  },
  {
   "cell_type": "code",
   "execution_count": 66,
   "id": "e8337114",
   "metadata": {},
   "outputs": [
    {
     "data": {
      "text/plain": [
       "False"
      ]
     },
     "execution_count": 66,
     "metadata": {},
     "output_type": "execute_result"
    }
   ],
   "source": [
    "store1 is store2"
   ]
  },
  {
   "cell_type": "code",
   "execution_count": 67,
   "id": "83ed311b",
   "metadata": {},
   "outputs": [],
   "source": [
    "def factorial(n):\n",
    "    if n < 1:\n",
    "        return 1\n",
    "    else:\n",
    "        print(f'calculating {n}')\n",
    "        return n * factorial(n-1)"
   ]
  },
  {
   "cell_type": "code",
   "execution_count": 68,
   "id": "c9701dc3",
   "metadata": {},
   "outputs": [
    {
     "name": "stdout",
     "output_type": "stream",
     "text": [
      "calculating 3\n",
      "calculating 2\n",
      "calculating 1\n"
     ]
    },
    {
     "data": {
      "text/plain": [
       "6"
      ]
     },
     "execution_count": 68,
     "metadata": {},
     "output_type": "execute_result"
    }
   ],
   "source": [
    "factorial(3)"
   ]
  },
  {
   "cell_type": "code",
   "execution_count": 69,
   "id": "7df771e4",
   "metadata": {},
   "outputs": [
    {
     "name": "stdout",
     "output_type": "stream",
     "text": [
      "calculating 3\n",
      "calculating 2\n",
      "calculating 1\n"
     ]
    },
    {
     "data": {
      "text/plain": [
       "6"
      ]
     },
     "execution_count": 69,
     "metadata": {},
     "output_type": "execute_result"
    }
   ],
   "source": [
    "factorial(3)"
   ]
  },
  {
   "cell_type": "code",
   "execution_count": 70,
   "id": "7216f084",
   "metadata": {},
   "outputs": [],
   "source": [
    "def factorial(n, *, cache):\n",
    "    if n < 1:\n",
    "        return 1\n",
    "    elif n in cache:\n",
    "        return cache[n]\n",
    "    else:\n",
    "        print(f'calculating {n}')\n",
    "        result = n * factorial(n-1, cache=cache)\n",
    "        cache[n] = result\n",
    "        return result"
   ]
  },
  {
   "cell_type": "code",
   "execution_count": 73,
   "id": "c15c4fa5",
   "metadata": {},
   "outputs": [
    {
     "name": "stdout",
     "output_type": "stream",
     "text": [
      "calculating 3\n",
      "calculating 2\n",
      "calculating 1\n"
     ]
    },
    {
     "data": {
      "text/plain": [
       "6"
      ]
     },
     "execution_count": 73,
     "metadata": {},
     "output_type": "execute_result"
    }
   ],
   "source": [
    "cache={}\n",
    "factorial(3, cache=cache)"
   ]
  },
  {
   "cell_type": "code",
   "execution_count": 74,
   "id": "fe70e4c0",
   "metadata": {},
   "outputs": [
    {
     "data": {
      "text/plain": [
       "{1: 1, 2: 2, 3: 6}"
      ]
     },
     "execution_count": 74,
     "metadata": {},
     "output_type": "execute_result"
    }
   ],
   "source": [
    "cache"
   ]
  },
  {
   "cell_type": "code",
   "execution_count": 75,
   "id": "0455c3f3",
   "metadata": {},
   "outputs": [
    {
     "data": {
      "text/plain": [
       "6"
      ]
     },
     "execution_count": 75,
     "metadata": {},
     "output_type": "execute_result"
    }
   ],
   "source": [
    "factorial(3, cache=cache)"
   ]
  },
  {
   "cell_type": "code",
   "execution_count": 76,
   "id": "4c4b6832",
   "metadata": {},
   "outputs": [
    {
     "name": "stdout",
     "output_type": "stream",
     "text": [
      "calculating 4\n"
     ]
    },
    {
     "data": {
      "text/plain": [
       "24"
      ]
     },
     "execution_count": 76,
     "metadata": {},
     "output_type": "execute_result"
    }
   ],
   "source": [
    "factorial(4, cache=cache)"
   ]
  },
  {
   "cell_type": "code",
   "execution_count": 77,
   "id": "2f12f714",
   "metadata": {},
   "outputs": [],
   "source": [
    "def factorial(n, cache={}):\n",
    "    if n < 1:\n",
    "        return 1\n",
    "    elif n in cache:\n",
    "        return cache[n]\n",
    "    else:\n",
    "        print(f'calculating {n}')\n",
    "        result = n * factorial(n-1)\n",
    "        cache[n] = result\n",
    "        return result"
   ]
  },
  {
   "cell_type": "code",
   "execution_count": 78,
   "id": "b3950c1d",
   "metadata": {},
   "outputs": [
    {
     "name": "stdout",
     "output_type": "stream",
     "text": [
      "calculating 3\n",
      "calculating 2\n",
      "calculating 1\n"
     ]
    },
    {
     "data": {
      "text/plain": [
       "6"
      ]
     },
     "execution_count": 78,
     "metadata": {},
     "output_type": "execute_result"
    }
   ],
   "source": [
    "factorial(3)"
   ]
  },
  {
   "cell_type": "code",
   "execution_count": 80,
   "id": "b92630ca",
   "metadata": {},
   "outputs": [
    {
     "data": {
      "text/plain": [
       "6"
      ]
     },
     "execution_count": 80,
     "metadata": {},
     "output_type": "execute_result"
    }
   ],
   "source": [
    "factorial(3)"
   ]
  },
  {
   "cell_type": "code",
   "execution_count": null,
   "id": "11a75906",
   "metadata": {},
   "outputs": [],
   "source": []
  }
 ],
 "metadata": {
  "kernelspec": {
   "display_name": "Python 3",
   "language": "python",
   "name": "python3"
  },
  "language_info": {
   "codemirror_mode": {
    "name": "ipython",
    "version": 3
   },
   "file_extension": ".py",
   "mimetype": "text/x-python",
   "name": "python",
   "nbconvert_exporter": "python",
   "pygments_lexer": "ipython3",
   "version": "3.9.7"
  }
 },
 "nbformat": 4,
 "nbformat_minor": 5
}
