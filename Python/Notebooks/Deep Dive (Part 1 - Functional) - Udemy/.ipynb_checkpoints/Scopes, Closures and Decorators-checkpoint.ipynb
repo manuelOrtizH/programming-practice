{
 "cells": [
  {
   "cell_type": "markdown",
   "id": "13c9277a",
   "metadata": {},
   "source": [
    "# Scopes, Closures and Decorators"
   ]
  },
  {
   "cell_type": "markdown",
   "id": "be55d060",
   "metadata": {},
   "source": [
    "----\n",
    "## Global and Local Scopes"
   ]
  },
  {
   "cell_type": "markdown",
   "id": "39254597",
   "metadata": {},
   "source": [
    "**Scopes and Namespaces**\n",
    "\n",
    "When an object is assigned to a variable, that variable points to some object and we say the variable (name) is *bound(**references**)* to that object.\n",
    "\n",
    "That object can be accessed using that name in various part of our code.\n",
    "\n",
    "*But not just anywhere!*\n",
    "\n",
    "**Accesing the global scopre from a local scope**\n",
    "\n",
    "When *retrieving* the value of a global variable from inside a function, Python automatically searches the local scope's namespace, and up the chain of all enclosing scope namespaces\n",
    "\n",
    "local -> global -> built-in\n",
    "\n",
    "What about modifying a gloabla variables value from inside the function?\n",
    "\n",
    "    a = 0\n",
    "    def my_func():\n",
    "        a = 100\n",
    "        print(a)\n",
    "\n",
    "assignment -> Python interprets this as a local variable (at compile-time)\n",
    "          \n",
    "-> the local variable **a** masks the global variable **a**\n",
    "\n",
    "\n",
    "**The global keyword**\n",
    "\n",
    "We can tell Python that a variable is meant to be scoped in the global scope by using the **global** keyword\n",
    "\n",
    "    a = 0\n",
    "    def my_func():\n",
    "        global a\n",
    "        a = 100\n",
    "    \n",
    "    built-in = Global(a->0, my_func)\n",
    "    local scope = (global a = Global(a->100))\n",
    "    "
   ]
  },
  {
   "cell_type": "markdown",
   "id": "cd15b736",
   "metadata": {},
   "source": [
    "Global variable:"
   ]
  },
  {
   "cell_type": "code",
   "execution_count": 1,
   "id": "146ec18c",
   "metadata": {},
   "outputs": [],
   "source": [
    "a = 10"
   ]
  },
  {
   "cell_type": "code",
   "execution_count": 2,
   "id": "970d7f4c",
   "metadata": {},
   "outputs": [],
   "source": [
    "def my_func(n):\n",
    "    c = n ** 2\n",
    "    return c"
   ]
  },
  {
   "cell_type": "code",
   "execution_count": 5,
   "id": "2bd031e4",
   "metadata": {},
   "outputs": [],
   "source": [
    "def my_func(n):\n",
    "    print('global a: ', a)\n",
    "    c = a ** n\n",
    "    return c"
   ]
  },
  {
   "cell_type": "markdown",
   "id": "30ced272",
   "metadata": {},
   "source": [
    "My_func retrieves the global variable, because it does not count with a local variable named 'a'"
   ]
  },
  {
   "cell_type": "code",
   "execution_count": 6,
   "id": "a59a5943",
   "metadata": {},
   "outputs": [
    {
     "name": "stdout",
     "output_type": "stream",
     "text": [
      "global a:  10\n"
     ]
    },
    {
     "data": {
      "text/plain": [
       "10000000000"
      ]
     },
     "execution_count": 6,
     "metadata": {},
     "output_type": "execute_result"
    }
   ],
   "source": [
    "my_func(10)"
   ]
  },
  {
   "cell_type": "code",
   "execution_count": 7,
   "id": "60244301",
   "metadata": {},
   "outputs": [],
   "source": [
    "def my_func(n):\n",
    "    a = 20\n",
    "    c = a ** n\n",
    "    return c"
   ]
  },
  {
   "cell_type": "code",
   "execution_count": 8,
   "id": "bed1fe34",
   "metadata": {},
   "outputs": [
    {
     "name": "stdout",
     "output_type": "stream",
     "text": [
      "10\n"
     ]
    }
   ],
   "source": [
    "print(a)"
   ]
  },
  {
   "cell_type": "code",
   "execution_count": 9,
   "id": "8a58d007",
   "metadata": {},
   "outputs": [
    {
     "data": {
      "text/plain": [
       "400"
      ]
     },
     "execution_count": 9,
     "metadata": {},
     "output_type": "execute_result"
    }
   ],
   "source": [
    "my_func(2)"
   ]
  },
  {
   "cell_type": "code",
   "execution_count": 10,
   "id": "01eaac2d",
   "metadata": {},
   "outputs": [
    {
     "name": "stdout",
     "output_type": "stream",
     "text": [
      "10\n"
     ]
    }
   ],
   "source": [
    "print(a)"
   ]
  },
  {
   "cell_type": "code",
   "execution_count": 11,
   "id": "c2d33974",
   "metadata": {},
   "outputs": [],
   "source": [
    "def my_func(n):\n",
    "    global a\n",
    "    a = 20\n",
    "    c = a ** n\n",
    "    return c"
   ]
  },
  {
   "cell_type": "code",
   "execution_count": 12,
   "id": "b2969a35",
   "metadata": {},
   "outputs": [
    {
     "name": "stdout",
     "output_type": "stream",
     "text": [
      "10\n"
     ]
    }
   ],
   "source": [
    "print(a)"
   ]
  },
  {
   "cell_type": "code",
   "execution_count": 13,
   "id": "721b9405",
   "metadata": {},
   "outputs": [
    {
     "data": {
      "text/plain": [
       "400"
      ]
     },
     "execution_count": 13,
     "metadata": {},
     "output_type": "execute_result"
    }
   ],
   "source": [
    "my_func(2)"
   ]
  },
  {
   "cell_type": "code",
   "execution_count": 14,
   "id": "d734e926",
   "metadata": {},
   "outputs": [
    {
     "name": "stdout",
     "output_type": "stream",
     "text": [
      "20\n"
     ]
    }
   ],
   "source": [
    "print(a)"
   ]
  },
  {
   "cell_type": "markdown",
   "id": "96643cd0",
   "metadata": {},
   "source": [
    "Now with the global keyword, we can see that the global variable changed.\n",
    "\n",
    "But, we don't need to have a global variable declared when using the keyword:"
   ]
  },
  {
   "cell_type": "code",
   "execution_count": 25,
   "id": "c54a0f68",
   "metadata": {},
   "outputs": [],
   "source": [
    "def my_func():\n",
    "    global var\n",
    "    var = 'hello world'\n",
    "    return"
   ]
  },
  {
   "cell_type": "code",
   "execution_count": 26,
   "id": "a7de29d9",
   "metadata": {},
   "outputs": [
    {
     "name": "stdout",
     "output_type": "stream",
     "text": [
      "hello world\n"
     ]
    }
   ],
   "source": [
    "print(var)"
   ]
  },
  {
   "cell_type": "code",
   "execution_count": 29,
   "id": "7bb89580",
   "metadata": {},
   "outputs": [],
   "source": [
    "my_func()"
   ]
  },
  {
   "cell_type": "code",
   "execution_count": 28,
   "id": "897c2dce",
   "metadata": {},
   "outputs": [
    {
     "name": "stdout",
     "output_type": "stream",
     "text": [
      "hello world\n"
     ]
    }
   ],
   "source": [
    "print(var)"
   ]
  },
  {
   "cell_type": "code",
   "execution_count": 30,
   "id": "f21276d5",
   "metadata": {},
   "outputs": [],
   "source": [
    "def my_func():\n",
    "    print('global a: ', a)\n",
    "    "
   ]
  },
  {
   "cell_type": "code",
   "execution_count": 31,
   "id": "c233c9b6",
   "metadata": {},
   "outputs": [
    {
     "name": "stdout",
     "output_type": "stream",
     "text": [
      "global a:  20\n"
     ]
    }
   ],
   "source": [
    "my_func()"
   ]
  },
  {
   "cell_type": "code",
   "execution_count": 32,
   "id": "6b49a42d",
   "metadata": {},
   "outputs": [],
   "source": [
    "def my_func():\n",
    "    global a\n",
    "    a = 'hello'\n",
    "    print('global a: ', a)\n",
    "    "
   ]
  },
  {
   "cell_type": "code",
   "execution_count": 33,
   "id": "c84fab14",
   "metadata": {},
   "outputs": [
    {
     "name": "stdout",
     "output_type": "stream",
     "text": [
      "global a:  hello\n"
     ]
    }
   ],
   "source": [
    "my_func()"
   ]
  },
  {
   "cell_type": "code",
   "execution_count": 34,
   "id": "2535656d",
   "metadata": {},
   "outputs": [
    {
     "name": "stdout",
     "output_type": "stream",
     "text": [
      "hello\n"
     ]
    }
   ],
   "source": [
    "print(a)"
   ]
  },
  {
   "cell_type": "code",
   "execution_count": 35,
   "id": "f36ad55d",
   "metadata": {},
   "outputs": [],
   "source": [
    "a = 10"
   ]
  },
  {
   "cell_type": "code",
   "execution_count": 36,
   "id": "5cb41c77",
   "metadata": {},
   "outputs": [],
   "source": [
    "def my_func():\n",
    "    print('global a: ', a)\n",
    "    a = 'hello world'\n",
    "    print(a)"
   ]
  },
  {
   "cell_type": "code",
   "execution_count": 37,
   "id": "82789bac",
   "metadata": {},
   "outputs": [
    {
     "ename": "UnboundLocalError",
     "evalue": "local variable 'a' referenced before assignment",
     "output_type": "error",
     "traceback": [
      "\u001b[0;31m---------------------------------------------------------------------------\u001b[0m",
      "\u001b[0;31mUnboundLocalError\u001b[0m                         Traceback (most recent call last)",
      "\u001b[0;32m<ipython-input-37-db3ada79940f>\u001b[0m in \u001b[0;36m<module>\u001b[0;34m\u001b[0m\n\u001b[0;32m----> 1\u001b[0;31m \u001b[0mmy_func\u001b[0m\u001b[0;34m(\u001b[0m\u001b[0;34m)\u001b[0m\u001b[0;34m\u001b[0m\u001b[0;34m\u001b[0m\u001b[0m\n\u001b[0m",
      "\u001b[0;32m<ipython-input-36-090a208a2e7d>\u001b[0m in \u001b[0;36mmy_func\u001b[0;34m()\u001b[0m\n\u001b[1;32m      1\u001b[0m \u001b[0;32mdef\u001b[0m \u001b[0mmy_func\u001b[0m\u001b[0;34m(\u001b[0m\u001b[0;34m)\u001b[0m\u001b[0;34m:\u001b[0m\u001b[0;34m\u001b[0m\u001b[0;34m\u001b[0m\u001b[0m\n\u001b[0;32m----> 2\u001b[0;31m     \u001b[0mprint\u001b[0m\u001b[0;34m(\u001b[0m\u001b[0;34m'global a: '\u001b[0m\u001b[0;34m,\u001b[0m \u001b[0ma\u001b[0m\u001b[0;34m)\u001b[0m\u001b[0;34m\u001b[0m\u001b[0;34m\u001b[0m\u001b[0m\n\u001b[0m\u001b[1;32m      3\u001b[0m     \u001b[0ma\u001b[0m \u001b[0;34m=\u001b[0m \u001b[0;34m'hello world'\u001b[0m\u001b[0;34m\u001b[0m\u001b[0;34m\u001b[0m\u001b[0m\n\u001b[1;32m      4\u001b[0m     \u001b[0mprint\u001b[0m\u001b[0;34m(\u001b[0m\u001b[0ma\u001b[0m\u001b[0;34m)\u001b[0m\u001b[0;34m\u001b[0m\u001b[0;34m\u001b[0m\u001b[0m\n",
      "\u001b[0;31mUnboundLocalError\u001b[0m: local variable 'a' referenced before assignment"
     ]
    }
   ],
   "source": [
    "my_func()"
   ]
  },
  {
   "cell_type": "markdown",
   "id": "81727654",
   "metadata": {},
   "source": [
    "Python determines at compile time, it looks for 'a' in the local scope."
   ]
  },
  {
   "cell_type": "code",
   "execution_count": null,
   "id": "ce81ca8b",
   "metadata": {},
   "outputs": [],
   "source": []
  },
  {
   "cell_type": "code",
   "execution_count": 40,
   "id": "2194bff0",
   "metadata": {},
   "outputs": [],
   "source": [
    "f = lambda n: print(a**n)"
   ]
  },
  {
   "cell_type": "code",
   "execution_count": 41,
   "id": "fc2014f0",
   "metadata": {},
   "outputs": [
    {
     "name": "stdout",
     "output_type": "stream",
     "text": [
      "100\n"
     ]
    }
   ],
   "source": [
    "f(2)"
   ]
  },
  {
   "cell_type": "code",
   "execution_count": 42,
   "id": "a2ba6313",
   "metadata": {},
   "outputs": [
    {
     "name": "stdout",
     "output_type": "stream",
     "text": [
      "True\n"
     ]
    }
   ],
   "source": [
    "print(True)"
   ]
  },
  {
   "cell_type": "code",
   "execution_count": 43,
   "id": "a25063f3",
   "metadata": {},
   "outputs": [],
   "source": [
    "print = lambda x: f'hello {x}'"
   ]
  },
  {
   "cell_type": "code",
   "execution_count": 44,
   "id": "1eefae26",
   "metadata": {},
   "outputs": [
    {
     "data": {
      "text/plain": [
       "'hello world'"
      ]
     },
     "execution_count": 44,
     "metadata": {},
     "output_type": "execute_result"
    }
   ],
   "source": [
    "print('world')"
   ]
  },
  {
   "cell_type": "markdown",
   "id": "0e93727f",
   "metadata": {},
   "source": [
    "Be careful of reusing built-in function names"
   ]
  },
  {
   "cell_type": "code",
   "execution_count": 46,
   "id": "a0779958",
   "metadata": {},
   "outputs": [],
   "source": [
    "del print"
   ]
  },
  {
   "cell_type": "code",
   "execution_count": 47,
   "id": "ad4d1c22",
   "metadata": {},
   "outputs": [
    {
     "name": "stdout",
     "output_type": "stream",
     "text": [
      "back to normal\n"
     ]
    }
   ],
   "source": [
    "print('back to normal')"
   ]
  },
  {
   "cell_type": "code",
   "execution_count": 48,
   "id": "b28636b1",
   "metadata": {},
   "outputs": [],
   "source": [
    "for i in range(10):\n",
    "    x = 2 * i"
   ]
  },
  {
   "cell_type": "code",
   "execution_count": 49,
   "id": "6e9061b1",
   "metadata": {},
   "outputs": [
    {
     "name": "stdout",
     "output_type": "stream",
     "text": [
      "18\n"
     ]
    }
   ],
   "source": [
    "print(x)"
   ]
  },
  {
   "cell_type": "markdown",
   "id": "eea3af7c",
   "metadata": {},
   "source": [
    "Difference with other languages, like Java:\n",
    "\n",
    "    for (int i = 0; i < 10; i++){\n",
    "        int x = 2 * i\n",
    "    \n",
    "    }\n",
    "    System.out.println(x) = ERROR, x not defined"
   ]
  },
  {
   "cell_type": "markdown",
   "id": "7026c13b",
   "metadata": {},
   "source": [
    "---\n",
    "## Nonlocal Scopes"
   ]
  },
  {
   "cell_type": "markdown",
   "id": "f0237df3",
   "metadata": {},
   "source": [
    "**Inner Functions**\n",
    "\n",
    "We can define functions from inside another funtion:\n",
    "\n",
    "    def outer_func()::\n",
    "        #some code\n",
    "        def inner_func():\n",
    "            #some code\n",
    "        inner_func()\n",
    "        \n",
    "    outer_func()\n",
    "    \n",
    "    \n",
    "    GLOBAL = {'local': (outer_func), {'local': inner_func )} -> Nested local scopes\n",
    "    \n",
    "Both functions have access to the global and built-in scopes as well as their respective local scopes.\n",
    "\n",
    "But the **inner** function also has access to its enclosing scope - the scope of the **outer** function\n",
    "\n",
    "That scope is neither local (to **inner_func**) nor global - it is called a **nonlocal** scope\n",
    "\n",
    "\n"
   ]
  },
  {
   "cell_type": "markdown",
   "id": "5ec6d9b1",
   "metadata": {},
   "source": [
    "**Referencing variables from the enclosing scope**\n",
    "\n",
    "    module1.py\n",
    "    \n",
    "        a = 10\n",
    "        \n",
    "        def outer_func():\n",
    "            print(a)\n",
    "           \n",
    "        outer_func()\n",
    "        \n",
    "When we call **outer_func**, Python sees the reference to **a**\n",
    "\n",
    "Since **a** is not in the local scope, Python looks in the **enclosing** (global) scope\n",
    "\n",
    "    module1.py\n",
    "    \n",
    "        def outer_func()::\n",
    "            a = 10\n",
    "            def inner_func():\n",
    "                print(a)\n",
    "                \n",
    "            inner_func()\n",
    "        outer_func()\n",
    "\n",
    "When we call **outer_func**, **inner_func** is created and called.\n",
    "\n",
    "When looking for **a**, it looks for it first, in the local scope, then in the global scope\n",
    "\n",
    "\n"
   ]
  },
  {
   "cell_type": "code",
   "execution_count": 50,
   "id": "8e395149",
   "metadata": {},
   "outputs": [],
   "source": [
    "def outer_func():\n",
    "    x = 'hello'\n",
    "    def inner_func():\n",
    "        print(x)\n",
    "    inner_func()"
   ]
  },
  {
   "cell_type": "code",
   "execution_count": 51,
   "id": "3ea2ffca",
   "metadata": {},
   "outputs": [
    {
     "name": "stdout",
     "output_type": "stream",
     "text": [
      "hello\n"
     ]
    }
   ],
   "source": [
    "outer_func()"
   ]
  },
  {
   "cell_type": "markdown",
   "id": "75e7ab65",
   "metadata": {},
   "source": [
    "**Modifying global variables**\n",
    "\n",
    "We saw how to use the **global** keyword in order to modify a global variable within a nested scope\n",
    "\n",
    "\n",
    "    a = 10\n",
    "    def outer_func1()\n",
    "        global a\n",
    "        a = 1000\n",
    "    outer_func1()\n",
    "    print(a) = 1000\n",
    "    \n",
    "    def outer_func2():\n",
    "        def inner_func():\n",
    "            global a\n",
    "            a = 'hello'\n",
    "        inner_func()\n",
    "    outer_func2()\n",
    "    print(a) = 'hello'"
   ]
  },
  {
   "cell_type": "code",
   "execution_count": 54,
   "id": "2c6ec934",
   "metadata": {},
   "outputs": [],
   "source": [
    "def outer_func():\n",
    "    x = 'hello'\n",
    "    def inner():\n",
    "        x = 'python'\n",
    "        print('inner: ', x)\n",
    "    inner()\n",
    "    print('outer: ', x)"
   ]
  },
  {
   "cell_type": "code",
   "execution_count": 55,
   "id": "7ffbf410",
   "metadata": {},
   "outputs": [
    {
     "name": "stdout",
     "output_type": "stream",
     "text": [
      "inner:  python\n",
      "outer:  hello\n"
     ]
    }
   ],
   "source": [
    "outer_func()"
   ]
  },
  {
   "cell_type": "code",
   "execution_count": 52,
   "id": "5db6647f",
   "metadata": {},
   "outputs": [],
   "source": [
    "def outer_func():\n",
    "    x = 'hello'\n",
    "    def inner1():\n",
    "        def inner2():\n",
    "            print(x)\n",
    "        inner2()\n",
    "    inner1()"
   ]
  },
  {
   "cell_type": "code",
   "execution_count": 53,
   "id": "08399bcb",
   "metadata": {},
   "outputs": [
    {
     "name": "stdout",
     "output_type": "stream",
     "text": [
      "hello\n"
     ]
    }
   ],
   "source": [
    "outer_func()"
   ]
  },
  {
   "cell_type": "markdown",
   "id": "06a66d7b",
   "metadata": {},
   "source": [
    "**Modifying nonlocal variables**\n",
    "\n",
    "Can we modify variables defined in the outer nonlocal scope?\n",
    "\n",
    "    def outer_func():\n",
    "        x = 'hello'\n",
    "        \n",
    "        def inner_func():\n",
    "            x = 'python'\n",
    "            \n",
    "        inner_func()\n",
    "        print(x)\n",
    "    oute_func() -> hello\n",
    "    \n",
    "When **inner_func** is compiled, Python sees an *assignment* to **x**\n",
    "\n",
    "So, it determines that **x** is a **local** variable to **inner_func**\n",
    "\n",
    "The variable **x** in **inner_func** masks the variable **x** in **outer_func**\n",
    "\n",
    "\n",
    "Just as with global variables, we have to explicitly tell Python we are modifying a nonlocal variable.\n",
    "\n",
    "We can do taht using the **nonlocal** keyword\n",
    "\n",
    "    def outer_func():\n",
    "        x = 'hello'\n",
    "        \n",
    "        def inner_func():\n",
    "            nonlocal x\n",
    "            x = 'python'\n",
    "            \n",
    "        inner_func()\n",
    "        print(x)\n",
    "    oute_func() -> python\n",
    "    \n"
   ]
  },
  {
   "cell_type": "code",
   "execution_count": 56,
   "id": "49395dff",
   "metadata": {},
   "outputs": [],
   "source": [
    "def outer_func():\n",
    "    x = 'hello'\n",
    "    def inner1():\n",
    "        nonlocal x\n",
    "        x = 'python'\n",
    "        print('inner: ', x)\n",
    "    print('outer(before) : ', x)\n",
    "    inner1()\n",
    "    print('outer(after) :', x)"
   ]
  },
  {
   "cell_type": "code",
   "execution_count": 57,
   "id": "4289d8e8",
   "metadata": {},
   "outputs": [
    {
     "name": "stdout",
     "output_type": "stream",
     "text": [
      "outer(before) :  hello\n",
      "inner:  python\n",
      "outer(after) : python\n"
     ]
    }
   ],
   "source": [
    "outer_func()"
   ]
  },
  {
   "cell_type": "markdown",
   "id": "e227af27",
   "metadata": {},
   "source": [
    "**Nonlocal Variables**\n",
    "\n",
    "Whenever Python is told that a variable is **nonlocal** it will look for it in the **enclosing local scopes** chain until it **first** enconter the specified variable name\n",
    "\n",
    "**Beware:** it will only look in the local scopes, it will **not** look in the **global** scope\n",
    "\n",
    "    def outer_func():\n",
    "        x = 'hello'\n",
    "        \n",
    "        def inner1():\n",
    "            def inner2():\n",
    "                nonlocal x\n",
    "                x = 'python'\n",
    "            inner2()\n",
    "\n",
    "        inner1()\n",
    "        print(x)\n",
    "        \n",
    "    \n",
    "    \n",
    "    Global = {local= outer_func, {local: inner1, {local: inner2}}  }\n",
    "\n",
    "The **nonlocal** in this example, points to the firs x in encounters in the nested scopes\n",
    "    "
   ]
  },
  {
   "cell_type": "code",
   "execution_count": 58,
   "id": "af5ff93b",
   "metadata": {},
   "outputs": [],
   "source": [
    "def outer():\n",
    "    x = 'hello'\n",
    "    def inner1():\n",
    "        def inner2():\n",
    "            nonlocal x\n",
    "            x = 'python'\n",
    "        inner2()\n",
    "    inner1()\n",
    "    print(x)\n",
    "        "
   ]
  },
  {
   "cell_type": "code",
   "execution_count": 59,
   "id": "43286ade",
   "metadata": {},
   "outputs": [
    {
     "name": "stdout",
     "output_type": "stream",
     "text": [
      "python\n"
     ]
    }
   ],
   "source": [
    "outer()"
   ]
  },
  {
   "cell_type": "code",
   "execution_count": 60,
   "id": "dc4207f6",
   "metadata": {},
   "outputs": [],
   "source": [
    "def outer():\n",
    "    x = 'hello'\n",
    "    def inner1():\n",
    "        nonlocal x\n",
    "        x = 'python'\n",
    "        def inner2():\n",
    "            nonlocal x\n",
    "            x = 'monty'\n",
    "        inner2()\n",
    "    inner1()\n",
    "    print(x)\n",
    "        "
   ]
  },
  {
   "cell_type": "code",
   "execution_count": 61,
   "id": "87c287d6",
   "metadata": {
    "scrolled": true
   },
   "outputs": [
    {
     "name": "stdout",
     "output_type": "stream",
     "text": [
      "monty\n"
     ]
    }
   ],
   "source": [
    "outer()"
   ]
  },
  {
   "cell_type": "markdown",
   "id": "d01fe8c1",
   "metadata": {},
   "source": [
    "**Nonlocal and Global Variables**"
   ]
  },
  {
   "cell_type": "code",
   "execution_count": 64,
   "id": "18f5580d",
   "metadata": {},
   "outputs": [
    {
     "name": "stdout",
     "output_type": "stream",
     "text": [
      "python\n"
     ]
    }
   ],
   "source": [
    "x = 'python'\n",
    "print(x)"
   ]
  },
  {
   "cell_type": "code",
   "execution_count": 65,
   "id": "270a111d",
   "metadata": {},
   "outputs": [
    {
     "ename": "SyntaxError",
     "evalue": "no binding for nonlocal 'x' found (<ipython-input-65-1be28f02a1ba>, line 6)",
     "output_type": "error",
     "traceback": [
      "\u001b[0;36m  File \u001b[0;32m\"<ipython-input-65-1be28f02a1ba>\"\u001b[0;36m, line \u001b[0;32m6\u001b[0m\n\u001b[0;31m    nonlocal x\u001b[0m\n\u001b[0m    ^\u001b[0m\n\u001b[0;31mSyntaxError\u001b[0m\u001b[0;31m:\u001b[0m no binding for nonlocal 'x' found\n"
     ]
    }
   ],
   "source": [
    "def outer():\n",
    "    global x\n",
    "    x = 'monty'\n",
    "    \n",
    "    def inner():\n",
    "        nonlocal x\n",
    "        x = 'hello'\n",
    "    print(x)"
   ]
  },
  {
   "cell_type": "code",
   "execution_count": 69,
   "id": "8000fb61",
   "metadata": {},
   "outputs": [],
   "source": [
    "def outer():\n",
    "    x = 'monty'\n",
    "    \n",
    "    def inner():\n",
    "        nonlocal x\n",
    "        x = 'hello'\n",
    "    inner()\n",
    "    print(x)"
   ]
  },
  {
   "cell_type": "code",
   "execution_count": 70,
   "id": "962726a7",
   "metadata": {},
   "outputs": [
    {
     "name": "stdout",
     "output_type": "stream",
     "text": [
      "hello\n"
     ]
    }
   ],
   "source": [
    "outer()"
   ]
  },
  {
   "cell_type": "code",
   "execution_count": 71,
   "id": "92084f5c",
   "metadata": {},
   "outputs": [],
   "source": [
    "def outer():\n",
    "    global x\n",
    "    x = 'monty'\n",
    "    \n",
    "    def inner():\n",
    "        global x\n",
    "        x = 'hello'\n",
    "    inner()\n",
    "    print(x)"
   ]
  },
  {
   "cell_type": "code",
   "execution_count": 72,
   "id": "e9a71ecb",
   "metadata": {},
   "outputs": [
    {
     "name": "stdout",
     "output_type": "stream",
     "text": [
      "hello\n"
     ]
    }
   ],
   "source": [
    "outer()"
   ]
  },
  {
   "cell_type": "code",
   "execution_count": 73,
   "id": "b06a067f",
   "metadata": {},
   "outputs": [
    {
     "data": {
      "text/plain": [
       "'hello'"
      ]
     },
     "execution_count": 73,
     "metadata": {},
     "output_type": "execute_result"
    }
   ],
   "source": [
    "x"
   ]
  },
  {
   "cell_type": "markdown",
   "id": "5031f6c9",
   "metadata": {},
   "source": [
    "---\n",
    "## Closures"
   ]
  },
  {
   "cell_type": "markdown",
   "id": "49a0a3cb",
   "metadata": {},
   "source": [
    "**Python Cells and Multi-Scoped Variables**\n",
    "\n",
    "Multi-Scoped Variables is when a variable is shared between two scopes\n",
    "\n",
    "    def outer():\n",
    "    x = 'python'\n",
    "    def inner():\n",
    "        print(x)\n",
    "    return inner\n",
    "    \n",
    "The label x is in two different scopes but always reference the same 'value'\n",
    "\n",
    "Python does this by creating a cell as an intermediary object\n",
    "\n",
    "\n",
    "    outer.x ------>\n",
    "                    [CELL, addres-memory] ->   [INDIRECT REFERENCE, str, 'python', address-memory]\n",
    "    inner.x ------>\n",
    "    \n",
    "The cell points where 'python' is stored in memory address. It is called an indirect reference.\n",
    "\n",
    "In effect, both variables **x** (in **outer** and **inner**), point to the same cell\n",
    "\n",
    "When requesting the value of the variable,Python will 'double-hop' to get to the final value.\n",
    "\n"
   ]
  },
  {
   "cell_type": "markdown",
   "id": "51612a51",
   "metadata": {},
   "source": [
    "**Closures**\n",
    "\n",
    "You can thing of the closure as a function **plus** an extended scope that contains the **free variables**\n",
    "\n",
    "The free variable's value is the object the cell points to - so htat could change over time\n",
    "\n",
    "Every time the function in the closure is called and the free variable is referenced:\n",
    "\n",
    "- Python looks up the **cell** object, and then whatever the cell is **pointing** to\n",
    "\n",
    "        def outer():\n",
    "            a = 100\n",
    "            x = 'python'\n",
    "            \n",
    "            def inner():\n",
    "                a = 10 # local variable\n",
    "                print(x)\n",
    "                \n",
    "            return inner\n",
    "            \n",
    "            \n",
    "        In this case, outer.x and inner.x will point to the same cell, which generates an indirect reference to the object which points x to.\n",
    "        \n",
    "        Closure:\n",
    "        \n",
    "        .\n",
    "        .\n",
    "        .\n",
    "        x='python'\n",
    "        def inner():\n",
    "            a = 10\n",
    "            print(x)\n",
    "        .\n",
    "        .\n",
    "        .\n",
    "        \n",
    "        fn = outer()  - >  fn -> inner + extended scope ( it includes the variable x, which also points to the cell)\n",
    "        \n",
    "        \n",
    "**Introspection**\n",
    "\n",
    "    fn.__closure__  ->  (<cell at 0xA500: str object at 0xFF100>,)\n",
    "    It actually tells you. what is going on with the free variables"
   ]
  },
  {
   "cell_type": "markdown",
   "id": "c9f68327",
   "metadata": {},
   "source": [
    "**Modifying free variables**\n",
    "\n",
    "    def counter():\n",
    "        count = 0\n",
    "        def inc():\n",
    "            nonlocal count\n",
    "            count+= 1 \n",
    "            return count\n",
    "        return inc\n",
    "        \n",
    "        \n",
    "    fn = counter()\n",
    "    \n",
    "    fn() every call will increase the count variable"
   ]
  },
  {
   "cell_type": "markdown",
   "id": "e29fba4f",
   "metadata": {},
   "source": [
    "**Multiple Instances of Closures**\n",
    "\n",
    "Every time we run a function, a new scope is created.\n",
    "\n",
    "If that function generates a closure, a new closure is created every time as well\n",
    "\n",
    "    f1 = counter()\n",
    "\n",
    "    f2 = counter()\n",
    "\n",
    "So, we have two different closures that do not share the same cell and thus, the indirect reference\n",
    "\n",
    "    f1() - > 1\n",
    "    f1() - > 2\n",
    "    f1() - > 3\n",
    "    \n",
    "    f2() - > 1\n",
    "\n",
    "f1 and f2 do not have the same extended scope, they are different instances of the closure\n",
    "\n",
    "The cells are different"
   ]
  },
  {
   "cell_type": "markdown",
   "id": "be7e3a38",
   "metadata": {},
   "source": [
    "**Shared Extended Scopes**\n",
    "    \n",
    "    def outer():\n",
    "        count = 0\n",
    "        \n",
    "        def inc1():\n",
    "            nonlocal count\n",
    "            count+=1\n",
    "            return count\n",
    "        def inc2():\n",
    "            nonlocal count\n",
    "            count+=1\n",
    "            return count\n",
    "            \n",
    "        return inc1,inc2\n",
    "        \n",
    "     inc1.count is a free variable- bound to count in the extended scope\n",
    "     \n",
    "     inc2.count is a free variable - bound to the same count\n",
    "     \n",
    "     returns a tuple contatining both closures\n",
    "     \n",
    "     \n",
    "     f1, f2 = outer()\n",
    "     \n",
    "     f1() - > 1\n",
    "     f2() - > 2\n",
    "     \n"
   ]
  },
  {
   "cell_type": "markdown",
   "id": "f885fcce",
   "metadata": {},
   "source": [
    "**Nested Closures**"
   ]
  },
  {
   "cell_type": "code",
   "execution_count": null,
   "id": "da059f55",
   "metadata": {},
   "outputs": [],
   "source": []
  }
 ],
 "metadata": {
  "kernelspec": {
   "display_name": "Python 3",
   "language": "python",
   "name": "python3"
  },
  "language_info": {
   "codemirror_mode": {
    "name": "ipython",
    "version": 3
   },
   "file_extension": ".py",
   "mimetype": "text/x-python",
   "name": "python",
   "nbconvert_exporter": "python",
   "pygments_lexer": "ipython3",
   "version": "3.9.7"
  }
 },
 "nbformat": 4,
 "nbformat_minor": 5
}
