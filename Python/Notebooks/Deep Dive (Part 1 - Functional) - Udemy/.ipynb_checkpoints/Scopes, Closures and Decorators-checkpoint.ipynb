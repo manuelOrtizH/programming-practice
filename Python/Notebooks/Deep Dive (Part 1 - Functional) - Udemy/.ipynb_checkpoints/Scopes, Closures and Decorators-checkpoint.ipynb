{
 "cells": [
  {
   "cell_type": "markdown",
   "id": "13c9277a",
   "metadata": {},
   "source": [
    "# Scopes, Closures and Decorators"
   ]
  },
  {
   "cell_type": "markdown",
   "id": "be55d060",
   "metadata": {},
   "source": [
    "----\n",
    "## Global and Local Scopes"
   ]
  },
  {
   "cell_type": "markdown",
   "id": "39254597",
   "metadata": {},
   "source": [
    "**Scopes and Namespaces**\n",
    "\n",
    "When an object is assigned to a variable, that variable points to some object and we say the variable (name) is *bound(**references**)* to that object.\n",
    "\n",
    "That object can be accessed using that name in various part of our code.\n",
    "\n",
    "*But not just anywhere!*\n",
    "\n",
    "**Accesing the global scopre from a local scope**\n",
    "\n",
    "When *retrieving* the value of a global variable from inside a function, Python automatically searches the local scope's namespace, and up the chain of all enclosing scope namespaces\n",
    "\n",
    "local -> global -> built-in\n",
    "\n",
    "What about modifying a gloabla variables value from inside the function?\n",
    "\n",
    "    a = 0\n",
    "    def my_func():\n",
    "        a = 100\n",
    "        print(a)\n",
    "\n",
    "assignment -> Python interprets this as a local variable (at compile-time)\n",
    "          \n",
    "-> the local variable **a** masks the global variable **a**\n",
    "\n",
    "\n",
    "**The global keyword**\n",
    "\n",
    "We can tell Python that a variable is meant to be scoped in the global scope by using the **global** keyword\n",
    "\n",
    "    a = 0\n",
    "    def my_func():\n",
    "        global a\n",
    "        a = 100\n",
    "    \n",
    "    built-in = Global(a->0, my_func)\n",
    "    local scope = (global a = Global(a->100))\n",
    "    "
   ]
  },
  {
   "cell_type": "markdown",
   "id": "cd15b736",
   "metadata": {},
   "source": [
    "Global variable:"
   ]
  },
  {
   "cell_type": "code",
   "execution_count": 1,
   "id": "146ec18c",
   "metadata": {},
   "outputs": [],
   "source": [
    "a = 10"
   ]
  },
  {
   "cell_type": "code",
   "execution_count": 2,
   "id": "970d7f4c",
   "metadata": {},
   "outputs": [],
   "source": [
    "def my_func(n):\n",
    "    c = n ** 2\n",
    "    return c"
   ]
  },
  {
   "cell_type": "code",
   "execution_count": 5,
   "id": "2bd031e4",
   "metadata": {},
   "outputs": [],
   "source": [
    "def my_func(n):\n",
    "    print('global a: ', a)\n",
    "    c = a ** n\n",
    "    return c"
   ]
  },
  {
   "cell_type": "markdown",
   "id": "30ced272",
   "metadata": {},
   "source": [
    "My_func retrieves the global variable, because it does not count with a local variable named 'a'"
   ]
  },
  {
   "cell_type": "code",
   "execution_count": 6,
   "id": "a59a5943",
   "metadata": {},
   "outputs": [
    {
     "name": "stdout",
     "output_type": "stream",
     "text": [
      "global a:  10\n"
     ]
    },
    {
     "data": {
      "text/plain": [
       "10000000000"
      ]
     },
     "execution_count": 6,
     "metadata": {},
     "output_type": "execute_result"
    }
   ],
   "source": [
    "my_func(10)"
   ]
  },
  {
   "cell_type": "code",
   "execution_count": 7,
   "id": "60244301",
   "metadata": {},
   "outputs": [],
   "source": [
    "def my_func(n):\n",
    "    a = 20\n",
    "    c = a ** n\n",
    "    return c"
   ]
  },
  {
   "cell_type": "code",
   "execution_count": 8,
   "id": "bed1fe34",
   "metadata": {},
   "outputs": [
    {
     "name": "stdout",
     "output_type": "stream",
     "text": [
      "10\n"
     ]
    }
   ],
   "source": [
    "print(a)"
   ]
  },
  {
   "cell_type": "code",
   "execution_count": 9,
   "id": "8a58d007",
   "metadata": {},
   "outputs": [
    {
     "data": {
      "text/plain": [
       "400"
      ]
     },
     "execution_count": 9,
     "metadata": {},
     "output_type": "execute_result"
    }
   ],
   "source": [
    "my_func(2)"
   ]
  },
  {
   "cell_type": "code",
   "execution_count": 10,
   "id": "01eaac2d",
   "metadata": {},
   "outputs": [
    {
     "name": "stdout",
     "output_type": "stream",
     "text": [
      "10\n"
     ]
    }
   ],
   "source": [
    "print(a)"
   ]
  },
  {
   "cell_type": "code",
   "execution_count": 11,
   "id": "c2d33974",
   "metadata": {},
   "outputs": [],
   "source": [
    "def my_func(n):\n",
    "    global a\n",
    "    a = 20\n",
    "    c = a ** n\n",
    "    return c"
   ]
  },
  {
   "cell_type": "code",
   "execution_count": 12,
   "id": "b2969a35",
   "metadata": {},
   "outputs": [
    {
     "name": "stdout",
     "output_type": "stream",
     "text": [
      "10\n"
     ]
    }
   ],
   "source": [
    "print(a)"
   ]
  },
  {
   "cell_type": "code",
   "execution_count": 13,
   "id": "721b9405",
   "metadata": {},
   "outputs": [
    {
     "data": {
      "text/plain": [
       "400"
      ]
     },
     "execution_count": 13,
     "metadata": {},
     "output_type": "execute_result"
    }
   ],
   "source": [
    "my_func(2)"
   ]
  },
  {
   "cell_type": "code",
   "execution_count": 14,
   "id": "d734e926",
   "metadata": {},
   "outputs": [
    {
     "name": "stdout",
     "output_type": "stream",
     "text": [
      "20\n"
     ]
    }
   ],
   "source": [
    "print(a)"
   ]
  },
  {
   "cell_type": "markdown",
   "id": "96643cd0",
   "metadata": {},
   "source": [
    "Now with the global keyword, we can see that the global variable changed.\n",
    "\n",
    "But, we don't need to have a global variable declared when using the keyword:"
   ]
  },
  {
   "cell_type": "code",
   "execution_count": 25,
   "id": "c54a0f68",
   "metadata": {},
   "outputs": [],
   "source": [
    "def my_func():\n",
    "    global var\n",
    "    var = 'hello world'\n",
    "    return"
   ]
  },
  {
   "cell_type": "code",
   "execution_count": 26,
   "id": "a7de29d9",
   "metadata": {},
   "outputs": [
    {
     "name": "stdout",
     "output_type": "stream",
     "text": [
      "hello world\n"
     ]
    }
   ],
   "source": [
    "print(var)"
   ]
  },
  {
   "cell_type": "code",
   "execution_count": 29,
   "id": "7bb89580",
   "metadata": {},
   "outputs": [],
   "source": [
    "my_func()"
   ]
  },
  {
   "cell_type": "code",
   "execution_count": 28,
   "id": "897c2dce",
   "metadata": {},
   "outputs": [
    {
     "name": "stdout",
     "output_type": "stream",
     "text": [
      "hello world\n"
     ]
    }
   ],
   "source": [
    "print(var)"
   ]
  },
  {
   "cell_type": "code",
   "execution_count": 30,
   "id": "f21276d5",
   "metadata": {},
   "outputs": [],
   "source": [
    "def my_func():\n",
    "    print('global a: ', a)\n",
    "    "
   ]
  },
  {
   "cell_type": "code",
   "execution_count": 31,
   "id": "c233c9b6",
   "metadata": {},
   "outputs": [
    {
     "name": "stdout",
     "output_type": "stream",
     "text": [
      "global a:  20\n"
     ]
    }
   ],
   "source": [
    "my_func()"
   ]
  },
  {
   "cell_type": "code",
   "execution_count": 32,
   "id": "6b49a42d",
   "metadata": {},
   "outputs": [],
   "source": [
    "def my_func():\n",
    "    global a\n",
    "    a = 'hello'\n",
    "    print('global a: ', a)\n",
    "    "
   ]
  },
  {
   "cell_type": "code",
   "execution_count": 33,
   "id": "c84fab14",
   "metadata": {},
   "outputs": [
    {
     "name": "stdout",
     "output_type": "stream",
     "text": [
      "global a:  hello\n"
     ]
    }
   ],
   "source": [
    "my_func()"
   ]
  },
  {
   "cell_type": "code",
   "execution_count": 34,
   "id": "2535656d",
   "metadata": {},
   "outputs": [
    {
     "name": "stdout",
     "output_type": "stream",
     "text": [
      "hello\n"
     ]
    }
   ],
   "source": [
    "print(a)"
   ]
  },
  {
   "cell_type": "code",
   "execution_count": 35,
   "id": "f36ad55d",
   "metadata": {},
   "outputs": [],
   "source": [
    "a = 10"
   ]
  },
  {
   "cell_type": "code",
   "execution_count": 36,
   "id": "5cb41c77",
   "metadata": {},
   "outputs": [],
   "source": [
    "def my_func():\n",
    "    print('global a: ', a)\n",
    "    a = 'hello world'\n",
    "    print(a)"
   ]
  },
  {
   "cell_type": "code",
   "execution_count": 37,
   "id": "82789bac",
   "metadata": {},
   "outputs": [
    {
     "ename": "UnboundLocalError",
     "evalue": "local variable 'a' referenced before assignment",
     "output_type": "error",
     "traceback": [
      "\u001b[0;31m---------------------------------------------------------------------------\u001b[0m",
      "\u001b[0;31mUnboundLocalError\u001b[0m                         Traceback (most recent call last)",
      "\u001b[0;32m<ipython-input-37-db3ada79940f>\u001b[0m in \u001b[0;36m<module>\u001b[0;34m\u001b[0m\n\u001b[0;32m----> 1\u001b[0;31m \u001b[0mmy_func\u001b[0m\u001b[0;34m(\u001b[0m\u001b[0;34m)\u001b[0m\u001b[0;34m\u001b[0m\u001b[0;34m\u001b[0m\u001b[0m\n\u001b[0m",
      "\u001b[0;32m<ipython-input-36-090a208a2e7d>\u001b[0m in \u001b[0;36mmy_func\u001b[0;34m()\u001b[0m\n\u001b[1;32m      1\u001b[0m \u001b[0;32mdef\u001b[0m \u001b[0mmy_func\u001b[0m\u001b[0;34m(\u001b[0m\u001b[0;34m)\u001b[0m\u001b[0;34m:\u001b[0m\u001b[0;34m\u001b[0m\u001b[0;34m\u001b[0m\u001b[0m\n\u001b[0;32m----> 2\u001b[0;31m     \u001b[0mprint\u001b[0m\u001b[0;34m(\u001b[0m\u001b[0;34m'global a: '\u001b[0m\u001b[0;34m,\u001b[0m \u001b[0ma\u001b[0m\u001b[0;34m)\u001b[0m\u001b[0;34m\u001b[0m\u001b[0;34m\u001b[0m\u001b[0m\n\u001b[0m\u001b[1;32m      3\u001b[0m     \u001b[0ma\u001b[0m \u001b[0;34m=\u001b[0m \u001b[0;34m'hello world'\u001b[0m\u001b[0;34m\u001b[0m\u001b[0;34m\u001b[0m\u001b[0m\n\u001b[1;32m      4\u001b[0m     \u001b[0mprint\u001b[0m\u001b[0;34m(\u001b[0m\u001b[0ma\u001b[0m\u001b[0;34m)\u001b[0m\u001b[0;34m\u001b[0m\u001b[0;34m\u001b[0m\u001b[0m\n",
      "\u001b[0;31mUnboundLocalError\u001b[0m: local variable 'a' referenced before assignment"
     ]
    }
   ],
   "source": [
    "my_func()"
   ]
  },
  {
   "cell_type": "markdown",
   "id": "81727654",
   "metadata": {},
   "source": [
    "Python determines at compile time, it looks for 'a' in the local scope."
   ]
  },
  {
   "cell_type": "code",
   "execution_count": null,
   "id": "ce81ca8b",
   "metadata": {},
   "outputs": [],
   "source": []
  },
  {
   "cell_type": "code",
   "execution_count": 40,
   "id": "2194bff0",
   "metadata": {},
   "outputs": [],
   "source": [
    "f = lambda n: print(a**n)"
   ]
  },
  {
   "cell_type": "code",
   "execution_count": 41,
   "id": "fc2014f0",
   "metadata": {},
   "outputs": [
    {
     "name": "stdout",
     "output_type": "stream",
     "text": [
      "100\n"
     ]
    }
   ],
   "source": [
    "f(2)"
   ]
  },
  {
   "cell_type": "code",
   "execution_count": 42,
   "id": "a2ba6313",
   "metadata": {},
   "outputs": [
    {
     "name": "stdout",
     "output_type": "stream",
     "text": [
      "True\n"
     ]
    }
   ],
   "source": [
    "print(True)"
   ]
  },
  {
   "cell_type": "code",
   "execution_count": 43,
   "id": "a25063f3",
   "metadata": {},
   "outputs": [],
   "source": [
    "print = lambda x: f'hello {x}'"
   ]
  },
  {
   "cell_type": "code",
   "execution_count": 44,
   "id": "1eefae26",
   "metadata": {},
   "outputs": [
    {
     "data": {
      "text/plain": [
       "'hello world'"
      ]
     },
     "execution_count": 44,
     "metadata": {},
     "output_type": "execute_result"
    }
   ],
   "source": [
    "print('world')"
   ]
  },
  {
   "cell_type": "markdown",
   "id": "0e93727f",
   "metadata": {},
   "source": [
    "Be careful of reusing built-in function names"
   ]
  },
  {
   "cell_type": "code",
   "execution_count": 46,
   "id": "a0779958",
   "metadata": {},
   "outputs": [],
   "source": [
    "del print"
   ]
  },
  {
   "cell_type": "code",
   "execution_count": 47,
   "id": "ad4d1c22",
   "metadata": {},
   "outputs": [
    {
     "name": "stdout",
     "output_type": "stream",
     "text": [
      "back to normal\n"
     ]
    }
   ],
   "source": [
    "print('back to normal')"
   ]
  },
  {
   "cell_type": "code",
   "execution_count": 48,
   "id": "b28636b1",
   "metadata": {},
   "outputs": [],
   "source": [
    "for i in range(10):\n",
    "    x = 2 * i"
   ]
  },
  {
   "cell_type": "code",
   "execution_count": 49,
   "id": "6e9061b1",
   "metadata": {},
   "outputs": [
    {
     "name": "stdout",
     "output_type": "stream",
     "text": [
      "18\n"
     ]
    }
   ],
   "source": [
    "print(x)"
   ]
  },
  {
   "cell_type": "markdown",
   "id": "eea3af7c",
   "metadata": {},
   "source": [
    "Difference with other languages, like Java:\n",
    "\n",
    "    for (int i = 0; i < 10; i++){\n",
    "        int x = 2 * i\n",
    "    \n",
    "    }\n",
    "    System.out.println(x) = ERROR, x not defined"
   ]
  },
  {
   "cell_type": "markdown",
   "id": "7026c13b",
   "metadata": {},
   "source": [
    "---\n",
    "## Nonlocal Scopes"
   ]
  },
  {
   "cell_type": "markdown",
   "id": "f0237df3",
   "metadata": {},
   "source": [
    "**Inner Functions**\n",
    "\n",
    "We can define functions from inside another funtion:\n",
    "\n",
    "    def outer_func()::\n",
    "        #some code\n",
    "        def inner_func():\n",
    "            #some code\n",
    "        inner_func()\n",
    "        \n",
    "    outer_func()\n",
    "    \n",
    "    \n",
    "    GLOBAL = {'local': (outer_func), {'local': inner_func )} -> Nested local scopes\n",
    "    \n",
    "Both functions have access to the global and built-in scopes as well as their respective local scopes.\n",
    "\n",
    "But the **inner** function also has access to its enclosing scope - the scope of the **outer** function\n",
    "\n",
    "That scope is neither local (to **inner_func**) nor global - it is called a **nonlocal** scope\n",
    "\n",
    "\n"
   ]
  },
  {
   "cell_type": "markdown",
   "id": "5ec6d9b1",
   "metadata": {},
   "source": [
    "**Referencing variables from the enclosing scope**\n",
    "\n",
    "    module1.py\n",
    "    \n",
    "        a = 10\n",
    "        \n",
    "        def outer_func():\n",
    "            print(a)\n",
    "           \n",
    "        outer_func()\n",
    "        \n",
    "When we call **outer_func**, Python sees the reference to **a**\n",
    "\n",
    "Since **a** is not in the local scope, Python looks in the **enclosing** (global) scope\n",
    "\n",
    "    module1.py\n",
    "    \n",
    "        def outer_func()::\n",
    "            a = 10\n",
    "            def inner_func():\n",
    "                print(a)\n",
    "                \n",
    "            inner_func()\n",
    "        outer_func()\n",
    "\n",
    "When we call **outer_func**, **inner_func** is created and called.\n",
    "\n",
    "When looking for **a**, it looks for it first, in the local scope, then in the global scope\n",
    "\n",
    "\n"
   ]
  },
  {
   "cell_type": "code",
   "execution_count": 50,
   "id": "8e395149",
   "metadata": {},
   "outputs": [],
   "source": [
    "def outer_func():\n",
    "    x = 'hello'\n",
    "    def inner_func():\n",
    "        print(x)\n",
    "    inner_func()"
   ]
  },
  {
   "cell_type": "code",
   "execution_count": 51,
   "id": "3ea2ffca",
   "metadata": {},
   "outputs": [
    {
     "name": "stdout",
     "output_type": "stream",
     "text": [
      "hello\n"
     ]
    }
   ],
   "source": [
    "outer_func()"
   ]
  },
  {
   "cell_type": "markdown",
   "id": "75e7ab65",
   "metadata": {},
   "source": [
    "**Modifying global variables**\n",
    "\n",
    "We saw how to use the **global** keyword in order to modify a global variable within a nested scope\n",
    "\n",
    "\n",
    "    a = 10\n",
    "    def outer_func1()\n",
    "        global a\n",
    "        a = 1000\n",
    "    outer_func1()\n",
    "    print(a) = 1000\n",
    "    \n",
    "    def outer_func2():\n",
    "        def inner_func():\n",
    "            global a\n",
    "            a = 'hello'\n",
    "        inner_func()\n",
    "    outer_func2()\n",
    "    print(a) = 'hello'"
   ]
  },
  {
   "cell_type": "code",
   "execution_count": 54,
   "id": "2c6ec934",
   "metadata": {},
   "outputs": [],
   "source": [
    "def outer_func():\n",
    "    x = 'hello'\n",
    "    def inner():\n",
    "        x = 'python'\n",
    "        print('inner: ', x)\n",
    "    inner()\n",
    "    print('outer: ', x)"
   ]
  },
  {
   "cell_type": "code",
   "execution_count": 55,
   "id": "7ffbf410",
   "metadata": {},
   "outputs": [
    {
     "name": "stdout",
     "output_type": "stream",
     "text": [
      "inner:  python\n",
      "outer:  hello\n"
     ]
    }
   ],
   "source": [
    "outer_func()"
   ]
  },
  {
   "cell_type": "code",
   "execution_count": 52,
   "id": "5db6647f",
   "metadata": {},
   "outputs": [],
   "source": [
    "def outer_func():\n",
    "    x = 'hello'\n",
    "    def inner1():\n",
    "        def inner2():\n",
    "            print(x)\n",
    "        inner2()\n",
    "    inner1()"
   ]
  },
  {
   "cell_type": "code",
   "execution_count": 53,
   "id": "08399bcb",
   "metadata": {},
   "outputs": [
    {
     "name": "stdout",
     "output_type": "stream",
     "text": [
      "hello\n"
     ]
    }
   ],
   "source": [
    "outer_func()"
   ]
  },
  {
   "cell_type": "markdown",
   "id": "06a66d7b",
   "metadata": {},
   "source": [
    "**Modifying nonlocal variables**\n",
    "\n",
    "Can we modify variables defined in the outer nonlocal scope?\n",
    "\n",
    "    def outer_func():\n",
    "        x = 'hello'\n",
    "        \n",
    "        def inner_func():\n",
    "            x = 'python'\n",
    "            \n",
    "        inner_func()\n",
    "        print(x)\n",
    "    oute_func() -> hello\n",
    "    \n",
    "When **inner_func** is compiled, Python sees an *assignment* to **x**\n",
    "\n",
    "So, it determines that **x** is a **local** variable to **inner_func**\n",
    "\n",
    "The variable **x** in **inner_func** masks the variable **x** in **outer_func**\n",
    "\n",
    "\n",
    "Just as with global variables, we have to explicitly tell Python we are modifying a nonlocal variable.\n",
    "\n",
    "We can do taht using the **nonlocal** keyword\n",
    "\n",
    "    def outer_func():\n",
    "        x = 'hello'\n",
    "        \n",
    "        def inner_func():\n",
    "            nonlocal x\n",
    "            x = 'python'\n",
    "            \n",
    "        inner_func()\n",
    "        print(x)\n",
    "    oute_func() -> python\n",
    "    \n"
   ]
  },
  {
   "cell_type": "code",
   "execution_count": 56,
   "id": "49395dff",
   "metadata": {},
   "outputs": [],
   "source": [
    "def outer_func():\n",
    "    x = 'hello'\n",
    "    def inner1():\n",
    "        nonlocal x\n",
    "        x = 'python'\n",
    "        print('inner: ', x)\n",
    "    print('outer(before) : ', x)\n",
    "    inner1()\n",
    "    print('outer(after) :', x)"
   ]
  },
  {
   "cell_type": "code",
   "execution_count": 57,
   "id": "4289d8e8",
   "metadata": {},
   "outputs": [
    {
     "name": "stdout",
     "output_type": "stream",
     "text": [
      "outer(before) :  hello\n",
      "inner:  python\n",
      "outer(after) : python\n"
     ]
    }
   ],
   "source": [
    "outer_func()"
   ]
  },
  {
   "cell_type": "markdown",
   "id": "e227af27",
   "metadata": {},
   "source": [
    "**Nonlocal Variables**\n",
    "\n",
    "Whenever Python is told that a variable is **nonlocal** it will look for it in the **enclosing local scopes** chain until it **first** enconter the specified variable name\n",
    "\n",
    "**Beware:** it will only look in the local scopes, it will **not** look in the **global** scope\n",
    "\n",
    "    def outer_func():\n",
    "        x = 'hello'\n",
    "        \n",
    "        def inner1():\n",
    "            def inner2():\n",
    "                nonlocal x\n",
    "                x = 'python'\n",
    "            inner2()\n",
    "\n",
    "        inner1()\n",
    "        print(x)\n",
    "        \n",
    "    \n",
    "    \n",
    "    Global = {local= outer_func, {local: inner1, {local: inner2}}  }\n",
    "\n",
    "The **nonlocal** in this example, points to the firs x in encounters in the nested scopes\n",
    "    "
   ]
  },
  {
   "cell_type": "code",
   "execution_count": 58,
   "id": "af5ff93b",
   "metadata": {},
   "outputs": [],
   "source": [
    "def outer():\n",
    "    x = 'hello'\n",
    "    def inner1():\n",
    "        def inner2():\n",
    "            nonlocal x\n",
    "            x = 'python'\n",
    "        inner2()\n",
    "    inner1()\n",
    "    print(x)\n",
    "        "
   ]
  },
  {
   "cell_type": "code",
   "execution_count": 59,
   "id": "43286ade",
   "metadata": {},
   "outputs": [
    {
     "name": "stdout",
     "output_type": "stream",
     "text": [
      "python\n"
     ]
    }
   ],
   "source": [
    "outer()"
   ]
  },
  {
   "cell_type": "code",
   "execution_count": 60,
   "id": "dc4207f6",
   "metadata": {},
   "outputs": [],
   "source": [
    "def outer():\n",
    "    x = 'hello'\n",
    "    def inner1():\n",
    "        nonlocal x\n",
    "        x = 'python'\n",
    "        def inner2():\n",
    "            nonlocal x\n",
    "            x = 'monty'\n",
    "        inner2()\n",
    "    inner1()\n",
    "    print(x)\n",
    "        "
   ]
  },
  {
   "cell_type": "code",
   "execution_count": 61,
   "id": "87c287d6",
   "metadata": {
    "scrolled": true
   },
   "outputs": [
    {
     "name": "stdout",
     "output_type": "stream",
     "text": [
      "monty\n"
     ]
    }
   ],
   "source": [
    "outer()"
   ]
  },
  {
   "cell_type": "markdown",
   "id": "d01fe8c1",
   "metadata": {},
   "source": [
    "**Nonlocal and Global Variables**"
   ]
  },
  {
   "cell_type": "code",
   "execution_count": 64,
   "id": "18f5580d",
   "metadata": {},
   "outputs": [
    {
     "name": "stdout",
     "output_type": "stream",
     "text": [
      "python\n"
     ]
    }
   ],
   "source": [
    "x = 'python'\n",
    "print(x)"
   ]
  },
  {
   "cell_type": "code",
   "execution_count": 65,
   "id": "270a111d",
   "metadata": {},
   "outputs": [
    {
     "ename": "SyntaxError",
     "evalue": "no binding for nonlocal 'x' found (<ipython-input-65-1be28f02a1ba>, line 6)",
     "output_type": "error",
     "traceback": [
      "\u001b[0;36m  File \u001b[0;32m\"<ipython-input-65-1be28f02a1ba>\"\u001b[0;36m, line \u001b[0;32m6\u001b[0m\n\u001b[0;31m    nonlocal x\u001b[0m\n\u001b[0m    ^\u001b[0m\n\u001b[0;31mSyntaxError\u001b[0m\u001b[0;31m:\u001b[0m no binding for nonlocal 'x' found\n"
     ]
    }
   ],
   "source": [
    "def outer():\n",
    "    global x\n",
    "    x = 'monty'\n",
    "    \n",
    "    def inner():\n",
    "        nonlocal x\n",
    "        x = 'hello'\n",
    "    print(x)"
   ]
  },
  {
   "cell_type": "code",
   "execution_count": 69,
   "id": "8000fb61",
   "metadata": {},
   "outputs": [],
   "source": [
    "def outer():\n",
    "    x = 'monty'\n",
    "    \n",
    "    def inner():\n",
    "        nonlocal x\n",
    "        x = 'hello'\n",
    "    inner()\n",
    "    print(x)"
   ]
  },
  {
   "cell_type": "code",
   "execution_count": 70,
   "id": "962726a7",
   "metadata": {},
   "outputs": [
    {
     "name": "stdout",
     "output_type": "stream",
     "text": [
      "hello\n"
     ]
    }
   ],
   "source": [
    "outer()"
   ]
  },
  {
   "cell_type": "code",
   "execution_count": 71,
   "id": "92084f5c",
   "metadata": {},
   "outputs": [],
   "source": [
    "def outer():\n",
    "    global x\n",
    "    x = 'monty'\n",
    "    \n",
    "    def inner():\n",
    "        global x\n",
    "        x = 'hello'\n",
    "    inner()\n",
    "    print(x)"
   ]
  },
  {
   "cell_type": "code",
   "execution_count": 72,
   "id": "e9a71ecb",
   "metadata": {},
   "outputs": [
    {
     "name": "stdout",
     "output_type": "stream",
     "text": [
      "hello\n"
     ]
    }
   ],
   "source": [
    "outer()"
   ]
  },
  {
   "cell_type": "code",
   "execution_count": 73,
   "id": "b06a067f",
   "metadata": {},
   "outputs": [
    {
     "data": {
      "text/plain": [
       "'hello'"
      ]
     },
     "execution_count": 73,
     "metadata": {},
     "output_type": "execute_result"
    }
   ],
   "source": [
    "x"
   ]
  },
  {
   "cell_type": "markdown",
   "id": "5031f6c9",
   "metadata": {},
   "source": [
    "---\n",
    "## Closures"
   ]
  },
  {
   "cell_type": "markdown",
   "id": "79eea8ea",
   "metadata": {},
   "source": [
    "**Python Cells and Multi-Scoped Variables**\n",
    "\n",
    "Multi-Scoped Variables is when a variable is shared between two scopes\n",
    "\n",
    "    def outer():\n",
    "    x = 'python'\n",
    "    def inner():\n",
    "        print(x)\n",
    "    return inner\n",
    "    \n",
    "The label x is in two different scopes but always reference the same 'value'\n",
    "\n",
    "Python does this by creating a cell as an intermediary object\n",
    "\n",
    "\n",
    "    outer.x ------>\n",
    "                    [CELL, addres-memory] ->   [INDIRECT REFERENCE, str, 'python', address-memory]\n",
    "    inner.x ------>\n",
    "    \n",
    "The cell points where 'python' is stored in memory address. It is called an indirect reference.\n",
    "\n",
    "In effect, both variables **x** (in **outer** and **inner**), point to the same cell\n",
    "\n",
    "When requesting the value of the variable,Python will 'double-hop' to get to the final value.\n",
    "\n"
   ]
  },
  {
   "cell_type": "markdown",
   "id": "2aa53168",
   "metadata": {},
   "source": [
    "**Closures**\n",
    "\n",
    "You can thing of the closure as a function **plus** an extended scope that contains the **free variables**\n",
    "\n",
    "The free variable's value is the object the cell points to - so htat could change over time\n",
    "\n",
    "Every time the function in the closure is called and the free variable is referenced:\n",
    "\n",
    "- Python looks up the **cell** object, and then whatever the cell is **pointing** to\n",
    "\n",
    "        def outer():\n",
    "            a = 100\n",
    "            x = 'python'\n",
    "            \n",
    "            def inner():\n",
    "                a = 10 # local variable\n",
    "                print(x)\n",
    "                \n",
    "            return inner\n",
    "            \n",
    "            \n",
    "        In this case, outer.x and inner.x will point to the same cell, which generates an indirect reference to the object which points x to.\n",
    "        \n",
    "        Closure:\n",
    "        \n",
    "        .\n",
    "        .\n",
    "        .\n",
    "        x='python'\n",
    "        def inner():\n",
    "            a = 10\n",
    "            print(x)\n",
    "        .\n",
    "        .\n",
    "        .\n",
    "        \n",
    "        fn = outer()  - >  fn -> inner + extended scope ( it includes the variable x, which also points to the cell)\n",
    "        \n",
    "        \n",
    "**Introspection**\n",
    "\n",
    "    fn.__closure__  ->  (<cell at 0xA500: str object at 0xFF100>,)\n",
    "    It actually tells you. what is going on with the free variables"
   ]
  },
  {
   "cell_type": "markdown",
   "id": "67eaae95",
   "metadata": {},
   "source": [
    "**Modifying free variables**\n",
    "\n",
    "    def counter():\n",
    "        count = 0\n",
    "        def inc():\n",
    "            nonlocal count\n",
    "            count+= 1 \n",
    "            return count\n",
    "        return inc\n",
    "        \n",
    "        \n",
    "    fn = counter()\n",
    "    \n",
    "    fn() every call will increase the count variable"
   ]
  },
  {
   "cell_type": "markdown",
   "id": "16faddd8",
   "metadata": {},
   "source": [
    "**Multiple Instances of Closures**\n",
    "\n",
    "Every time we run a function, a new scope is created.\n",
    "\n",
    "If that function generates a closure, a new closure is created every time as well\n",
    "\n",
    "    f1 = counter()\n",
    "\n",
    "    f2 = counter()\n",
    "\n",
    "So, we have two different closures that do not share the same cell and thus, the indirect reference\n",
    "\n",
    "    f1() - > 1\n",
    "    f1() - > 2\n",
    "    f1() - > 3\n",
    "    \n",
    "    f2() - > 1\n",
    "\n",
    "f1 and f2 do not have the same extended scope, they are different instances of the closure\n",
    "\n",
    "The cells are different"
   ]
  },
  {
   "cell_type": "markdown",
   "id": "194fa330",
   "metadata": {},
   "source": [
    "**Shared Extended Scopes**\n",
    "    \n",
    "    def outer():\n",
    "        count = 0\n",
    "        \n",
    "        def inc1():\n",
    "            nonlocal count\n",
    "            count+=1\n",
    "            return count\n",
    "        def inc2():\n",
    "            nonlocal count\n",
    "            count+=1\n",
    "            return count\n",
    "            \n",
    "        return inc1,inc2\n",
    "        \n",
    "     inc1.count is a free variable- bound to count in the extended scope\n",
    "     \n",
    "     inc2.count is a free variable - bound to the same count\n",
    "     \n",
    "     returns a tuple contatining both closures\n",
    "     \n",
    "     \n",
    "     f1, f2 = outer()\n",
    "     \n",
    "     f1() - > 1\n",
    "     f2() - > 2\n",
    "     \n"
   ]
  },
  {
   "cell_type": "markdown",
   "id": "f309ccf8",
   "metadata": {},
   "source": [
    "**Nested Closures**"
   ]
  },
  {
   "cell_type": "code",
   "execution_count": 1,
   "id": "44c0ec0f",
   "metadata": {},
   "outputs": [],
   "source": [
    "def outer():\n",
    "    x = 'python'\n",
    "    def inner():\n",
    "        print(x)\n",
    "    return inner"
   ]
  },
  {
   "cell_type": "code",
   "execution_count": 2,
   "id": "e9c92b7b",
   "metadata": {},
   "outputs": [],
   "source": [
    "fn = outer()"
   ]
  },
  {
   "cell_type": "code",
   "execution_count": 3,
   "id": "2caabae7",
   "metadata": {},
   "outputs": [
    {
     "data": {
      "text/plain": [
       "('x',)"
      ]
     },
     "execution_count": 3,
     "metadata": {},
     "output_type": "execute_result"
    }
   ],
   "source": [
    "fn.__code__.co_freevars"
   ]
  },
  {
   "cell_type": "code",
   "execution_count": 4,
   "id": "53cc1089",
   "metadata": {},
   "outputs": [
    {
     "data": {
      "text/plain": [
       "(<cell at 0x1095837c0: str object at 0x107aa5230>,)"
      ]
     },
     "execution_count": 4,
     "metadata": {},
     "output_type": "execute_result"
    }
   ],
   "source": [
    "fn.__closure__"
   ]
  },
  {
   "cell_type": "code",
   "execution_count": 8,
   "id": "e8006366",
   "metadata": {},
   "outputs": [],
   "source": [
    "def outer():\n",
    "    x = [1,2,3]\n",
    "    print(hex(id(x)))\n",
    "    def inner():\n",
    "        x = [1,2,3]\n",
    "        print(hex(id(x)))\n",
    "    return inner"
   ]
  },
  {
   "cell_type": "code",
   "execution_count": 9,
   "id": "f5de8d5b",
   "metadata": {},
   "outputs": [
    {
     "name": "stdout",
     "output_type": "stream",
     "text": [
      "0x1095b74c0\n"
     ]
    }
   ],
   "source": [
    "fn = outer()"
   ]
  },
  {
   "cell_type": "code",
   "execution_count": 11,
   "id": "c07e6994",
   "metadata": {},
   "outputs": [
    {
     "data": {
      "text/plain": [
       "<function __main__.outer.<locals>.inner()>"
      ]
     },
     "execution_count": 11,
     "metadata": {},
     "output_type": "execute_result"
    }
   ],
   "source": [
    "fn"
   ]
  },
  {
   "cell_type": "code",
   "execution_count": 12,
   "id": "faf5fe64",
   "metadata": {},
   "outputs": [
    {
     "name": "stdout",
     "output_type": "stream",
     "text": [
      "0x109553100\n"
     ]
    }
   ],
   "source": [
    "fn()"
   ]
  },
  {
   "cell_type": "markdown",
   "id": "457fdd8a",
   "metadata": {},
   "source": [
    "We have two different memory addresses. Difference if we use strings, that will get interned, or integers, that are singletons"
   ]
  },
  {
   "cell_type": "code",
   "execution_count": 13,
   "id": "99123bf7",
   "metadata": {},
   "outputs": [],
   "source": [
    "def outer():\n",
    "    x = [1,2,3]\n",
    "    print(hex(id(x)))\n",
    "    def inner():\n",
    "        y = x\n",
    "        print(hex(id(y)))\n",
    "    return inner"
   ]
  },
  {
   "cell_type": "code",
   "execution_count": 14,
   "id": "c86a528f",
   "metadata": {},
   "outputs": [
    {
     "name": "stdout",
     "output_type": "stream",
     "text": [
      "0x1094cfa40\n"
     ]
    }
   ],
   "source": [
    "fn = outer()"
   ]
  },
  {
   "cell_type": "code",
   "execution_count": 15,
   "id": "9ac4b9d3",
   "metadata": {},
   "outputs": [
    {
     "name": "stdout",
     "output_type": "stream",
     "text": [
      "0x1094cfa40\n"
     ]
    }
   ],
   "source": [
    "fn()"
   ]
  },
  {
   "cell_type": "code",
   "execution_count": 19,
   "id": "c7300b30",
   "metadata": {},
   "outputs": [
    {
     "data": {
      "text/plain": [
       "(<cell at 0x109583f40: list object at 0x1094cfa40>,)"
      ]
     },
     "execution_count": 19,
     "metadata": {},
     "output_type": "execute_result"
    }
   ],
   "source": [
    "fn.__closure__"
   ]
  },
  {
   "cell_type": "markdown",
   "id": "5c4de587",
   "metadata": {},
   "source": [
    "They are pointing to the indirect reference"
   ]
  },
  {
   "cell_type": "code",
   "execution_count": 20,
   "id": "a91d6bf6",
   "metadata": {},
   "outputs": [],
   "source": [
    "def outer():\n",
    "    count = 0\n",
    "    def inc():\n",
    "        nonlocal count\n",
    "        count+=1\n",
    "        return count\n",
    "    return inc"
   ]
  },
  {
   "cell_type": "code",
   "execution_count": 21,
   "id": "f26cf672",
   "metadata": {},
   "outputs": [],
   "source": [
    "fn = outer()"
   ]
  },
  {
   "cell_type": "code",
   "execution_count": 22,
   "id": "d580e001",
   "metadata": {},
   "outputs": [
    {
     "data": {
      "text/plain": [
       "('count',)"
      ]
     },
     "execution_count": 22,
     "metadata": {},
     "output_type": "execute_result"
    }
   ],
   "source": [
    "fn.__code__.co_freevars"
   ]
  },
  {
   "cell_type": "code",
   "execution_count": 23,
   "id": "66abb5c1",
   "metadata": {},
   "outputs": [
    {
     "data": {
      "text/plain": [
       "(<cell at 0x1095c1c10: int object at 0x10702d910>,)"
      ]
     },
     "execution_count": 23,
     "metadata": {},
     "output_type": "execute_result"
    }
   ],
   "source": [
    "fn.__closure__"
   ]
  },
  {
   "cell_type": "markdown",
   "id": "346a531b",
   "metadata": {},
   "source": [
    "The indirect reference points to 0, as we know it is a singleton object, we get the same memory address"
   ]
  },
  {
   "cell_type": "code",
   "execution_count": 25,
   "id": "3dddfedb",
   "metadata": {},
   "outputs": [
    {
     "data": {
      "text/plain": [
       "'0x10702d910'"
      ]
     },
     "execution_count": 25,
     "metadata": {},
     "output_type": "execute_result"
    }
   ],
   "source": [
    "hex(id(0))"
   ]
  },
  {
   "cell_type": "code",
   "execution_count": 26,
   "id": "e8b42995",
   "metadata": {},
   "outputs": [
    {
     "data": {
      "text/plain": [
       "1"
      ]
     },
     "execution_count": 26,
     "metadata": {},
     "output_type": "execute_result"
    }
   ],
   "source": [
    "fn()"
   ]
  },
  {
   "cell_type": "code",
   "execution_count": 27,
   "id": "e899fb81",
   "metadata": {},
   "outputs": [
    {
     "data": {
      "text/plain": [
       "2"
      ]
     },
     "execution_count": 27,
     "metadata": {},
     "output_type": "execute_result"
    }
   ],
   "source": [
    "fn()"
   ]
  },
  {
   "cell_type": "code",
   "execution_count": 28,
   "id": "4ddd6a37",
   "metadata": {},
   "outputs": [
    {
     "data": {
      "text/plain": [
       "3"
      ]
     },
     "execution_count": 28,
     "metadata": {},
     "output_type": "execute_result"
    }
   ],
   "source": [
    "fn()"
   ]
  },
  {
   "cell_type": "code",
   "execution_count": 29,
   "id": "f3657a41",
   "metadata": {},
   "outputs": [
    {
     "data": {
      "text/plain": [
       "(<cell at 0x1095c1c10: int object at 0x10702d970>,)"
      ]
     },
     "execution_count": 29,
     "metadata": {},
     "output_type": "execute_result"
    }
   ],
   "source": [
    "fn.__closure__"
   ]
  },
  {
   "cell_type": "code",
   "execution_count": 30,
   "id": "9c6afe2b",
   "metadata": {},
   "outputs": [
    {
     "data": {
      "text/plain": [
       "'0x10702d970'"
      ]
     },
     "execution_count": 30,
     "metadata": {},
     "output_type": "execute_result"
    }
   ],
   "source": [
    "hex(id(3))"
   ]
  },
  {
   "cell_type": "code",
   "execution_count": 39,
   "id": "af941a05",
   "metadata": {},
   "outputs": [],
   "source": [
    "def outer():\n",
    "    count = 0\n",
    "    \n",
    "    def inc1():\n",
    "        nonlocal count\n",
    "        count += 1\n",
    "        return count\n",
    "    \n",
    "    def inc2():\n",
    "        nonlocal count\n",
    "        count += 1\n",
    "        return count\n",
    "    \n",
    "    return inc1,inc2"
   ]
  },
  {
   "cell_type": "code",
   "execution_count": 40,
   "id": "0265aa31",
   "metadata": {},
   "outputs": [],
   "source": [
    "fn1,fn2 = outer()"
   ]
  },
  {
   "cell_type": "code",
   "execution_count": 43,
   "id": "20f8f2ed",
   "metadata": {},
   "outputs": [
    {
     "data": {
      "text/plain": [
       "(('count',), ('count',))"
      ]
     },
     "execution_count": 43,
     "metadata": {},
     "output_type": "execute_result"
    }
   ],
   "source": [
    "fn1.__code__.co_freevars,fn2.__code__.co_freevars"
   ]
  },
  {
   "cell_type": "code",
   "execution_count": 44,
   "id": "9494a14f",
   "metadata": {},
   "outputs": [
    {
     "data": {
      "text/plain": [
       "((<cell at 0x10963c670: int object at 0x10702d910>,),\n",
       " (<cell at 0x10963c670: int object at 0x10702d910>,))"
      ]
     },
     "execution_count": 44,
     "metadata": {},
     "output_type": "execute_result"
    }
   ],
   "source": [
    "fn1.__closure__, fn2.__closure__"
   ]
  },
  {
   "cell_type": "markdown",
   "id": "af38c2f9",
   "metadata": {},
   "source": [
    "We have that both cells point to the same indirect reference"
   ]
  },
  {
   "cell_type": "code",
   "execution_count": 45,
   "id": "002145f1",
   "metadata": {},
   "outputs": [
    {
     "data": {
      "text/plain": [
       "1"
      ]
     },
     "execution_count": 45,
     "metadata": {},
     "output_type": "execute_result"
    }
   ],
   "source": [
    "fn1()"
   ]
  },
  {
   "cell_type": "code",
   "execution_count": 46,
   "id": "c214ef7d",
   "metadata": {
    "scrolled": true
   },
   "outputs": [
    {
     "data": {
      "text/plain": [
       "((<cell at 0x10963c670: int object at 0x10702d930>,),\n",
       " (<cell at 0x10963c670: int object at 0x10702d930>,))"
      ]
     },
     "execution_count": 46,
     "metadata": {},
     "output_type": "execute_result"
    }
   ],
   "source": [
    "fn1.__closure__, fn2.__closure__"
   ]
  },
  {
   "cell_type": "markdown",
   "id": "5e808180",
   "metadata": {},
   "source": [
    "They point to the same indirect reference, even if only one closure was called"
   ]
  },
  {
   "cell_type": "code",
   "execution_count": 3,
   "id": "efaf1291",
   "metadata": {},
   "outputs": [],
   "source": [
    "def pow(n):\n",
    "    def inner(x):\n",
    "        return x ** n\n",
    "    return inner\n",
    "    "
   ]
  },
  {
   "cell_type": "code",
   "execution_count": 4,
   "id": "21aa74f1",
   "metadata": {},
   "outputs": [],
   "source": [
    "square = pow(2)"
   ]
  },
  {
   "cell_type": "code",
   "execution_count": 5,
   "id": "8aa257ef",
   "metadata": {},
   "outputs": [
    {
     "data": {
      "text/plain": [
       "(<cell at 0x109a94b20: int object at 0x10751e950>,)"
      ]
     },
     "execution_count": 5,
     "metadata": {},
     "output_type": "execute_result"
    }
   ],
   "source": [
    "square.__closure__"
   ]
  },
  {
   "cell_type": "code",
   "execution_count": 12,
   "id": "3c4eab00",
   "metadata": {},
   "outputs": [
    {
     "data": {
      "text/plain": [
       "'0x10751e950'"
      ]
     },
     "execution_count": 12,
     "metadata": {},
     "output_type": "execute_result"
    }
   ],
   "source": [
    "hex(id(2))"
   ]
  },
  {
   "cell_type": "code",
   "execution_count": 13,
   "id": "cb959055",
   "metadata": {},
   "outputs": [
    {
     "data": {
      "text/plain": [
       "<function __main__.pow.<locals>.inner(x)>"
      ]
     },
     "execution_count": 13,
     "metadata": {},
     "output_type": "execute_result"
    }
   ],
   "source": [
    "square"
   ]
  },
  {
   "cell_type": "code",
   "execution_count": 14,
   "id": "53079957",
   "metadata": {},
   "outputs": [
    {
     "data": {
      "text/plain": [
       "25"
      ]
     },
     "execution_count": 14,
     "metadata": {},
     "output_type": "execute_result"
    }
   ],
   "source": [
    "square(5)"
   ]
  },
  {
   "cell_type": "code",
   "execution_count": 15,
   "id": "214497ea",
   "metadata": {},
   "outputs": [],
   "source": [
    "cube = pow(3)"
   ]
  },
  {
   "cell_type": "markdown",
   "id": "e5e06c72",
   "metadata": {},
   "source": [
    "Cube and Pow are in different addresses"
   ]
  },
  {
   "cell_type": "code",
   "execution_count": 16,
   "id": "d8a6a9af",
   "metadata": {},
   "outputs": [
    {
     "data": {
      "text/plain": [
       "((<cell at 0x109a94f40: int object at 0x10751e970>,),\n",
       " (<cell at 0x109a94b20: int object at 0x10751e950>,))"
      ]
     },
     "execution_count": 16,
     "metadata": {},
     "output_type": "execute_result"
    }
   ],
   "source": [
    "cube.__closure__, square.__closure__"
   ]
  },
  {
   "cell_type": "code",
   "execution_count": 20,
   "id": "2acccc46",
   "metadata": {},
   "outputs": [],
   "source": [
    "def adder(n):\n",
    "    def inner(x):\n",
    "        return x + n\n",
    "    return inner"
   ]
  },
  {
   "cell_type": "code",
   "execution_count": 21,
   "id": "dd3df5ad",
   "metadata": {},
   "outputs": [],
   "source": [
    "add_1 = adder(1)\n",
    "add_2 = adder(2)\n",
    "add_3 = adder(3)"
   ]
  },
  {
   "cell_type": "markdown",
   "id": "1c1f1c80",
   "metadata": {},
   "source": [
    "We have 3 different scopes"
   ]
  },
  {
   "cell_type": "code",
   "execution_count": 22,
   "id": "abf06c5a",
   "metadata": {},
   "outputs": [
    {
     "data": {
      "text/plain": [
       "((<cell at 0x109a94fd0: int object at 0x10751e930>,),\n",
       " (<cell at 0x109a94640: int object at 0x10751e950>,),\n",
       " (<cell at 0x109a94d60: int object at 0x10751e970>,))"
      ]
     },
     "execution_count": 22,
     "metadata": {},
     "output_type": "execute_result"
    }
   ],
   "source": [
    "add_1.__closure__, add_2.__closure__, add_3.__closure__"
   ]
  },
  {
   "cell_type": "code",
   "execution_count": 24,
   "id": "38580b36",
   "metadata": {},
   "outputs": [
    {
     "data": {
      "text/plain": [
       "6"
      ]
     },
     "execution_count": 24,
     "metadata": {},
     "output_type": "execute_result"
    }
   ],
   "source": [
    "add_1(5)"
   ]
  },
  {
   "cell_type": "code",
   "execution_count": 25,
   "id": "2d88a069",
   "metadata": {},
   "outputs": [
    {
     "data": {
      "text/plain": [
       "7"
      ]
     },
     "execution_count": 25,
     "metadata": {},
     "output_type": "execute_result"
    }
   ],
   "source": [
    "add_2(5)"
   ]
  },
  {
   "cell_type": "code",
   "execution_count": 26,
   "id": "bb93d1fb",
   "metadata": {},
   "outputs": [
    {
     "data": {
      "text/plain": [
       "8"
      ]
     },
     "execution_count": 26,
     "metadata": {},
     "output_type": "execute_result"
    }
   ],
   "source": [
    "add_3(5)"
   ]
  },
  {
   "cell_type": "code",
   "execution_count": 27,
   "id": "1a0c4e69",
   "metadata": {},
   "outputs": [],
   "source": [
    "adders = []\n",
    "for n in range(1,4):\n",
    "    adders.append(lambda x: x + n)\n",
    "    "
   ]
  },
  {
   "cell_type": "markdown",
   "id": "ac363b0e",
   "metadata": {},
   "source": [
    "The **n** from lambda, is the same **n** from the for, but in 2 different scopes"
   ]
  },
  {
   "cell_type": "code",
   "execution_count": 28,
   "id": "653a78da",
   "metadata": {},
   "outputs": [
    {
     "data": {
      "text/plain": [
       "[<function __main__.<lambda>(x)>,\n",
       " <function __main__.<lambda>(x)>,\n",
       " <function __main__.<lambda>(x)>]"
      ]
     },
     "execution_count": 28,
     "metadata": {},
     "output_type": "execute_result"
    }
   ],
   "source": [
    "adders"
   ]
  },
  {
   "cell_type": "code",
   "execution_count": 29,
   "id": "2864ff97",
   "metadata": {},
   "outputs": [
    {
     "data": {
      "text/plain": [
       "3"
      ]
     },
     "execution_count": 29,
     "metadata": {},
     "output_type": "execute_result"
    }
   ],
   "source": [
    "n"
   ]
  },
  {
   "cell_type": "markdown",
   "id": "d79abec0",
   "metadata": {},
   "source": [
    "Is not a closure"
   ]
  },
  {
   "cell_type": "code",
   "execution_count": 31,
   "id": "61db58e1",
   "metadata": {},
   "outputs": [],
   "source": [
    "adders[0].__closure__"
   ]
  },
  {
   "cell_type": "code",
   "execution_count": 32,
   "id": "ea1038bd",
   "metadata": {},
   "outputs": [
    {
     "data": {
      "text/plain": [
       "13"
      ]
     },
     "execution_count": 32,
     "metadata": {},
     "output_type": "execute_result"
    }
   ],
   "source": [
    "adders[0](10)"
   ]
  },
  {
   "cell_type": "code",
   "execution_count": 46,
   "id": "ba58a602",
   "metadata": {},
   "outputs": [],
   "source": [
    "def create_adders():\n",
    "    adders = []\n",
    "    for n in range(1,4):\n",
    "        \n",
    "        adders.append(lambda x: x + n)\n",
    "    return adders"
   ]
  },
  {
   "cell_type": "code",
   "execution_count": 47,
   "id": "2e63b8ac",
   "metadata": {},
   "outputs": [],
   "source": [
    "adders = create_adders()"
   ]
  },
  {
   "cell_type": "markdown",
   "id": "07f7a8f4",
   "metadata": {},
   "source": [
    "Now my adders list contains this lambdas that are closures"
   ]
  },
  {
   "cell_type": "code",
   "execution_count": 48,
   "id": "81d34823",
   "metadata": {
    "scrolled": true
   },
   "outputs": [
    {
     "data": {
      "text/plain": [
       "[<function __main__.create_adders.<locals>.<lambda>(x)>,\n",
       " <function __main__.create_adders.<locals>.<lambda>(x)>,\n",
       " <function __main__.create_adders.<locals>.<lambda>(x)>]"
      ]
     },
     "execution_count": 48,
     "metadata": {},
     "output_type": "execute_result"
    }
   ],
   "source": [
    "adders"
   ]
  },
  {
   "cell_type": "code",
   "execution_count": 49,
   "id": "b6a9a62c",
   "metadata": {},
   "outputs": [
    {
     "data": {
      "text/plain": [
       "(<cell at 0x109a94dc0: int object at 0x10751e970>,)"
      ]
     },
     "execution_count": 49,
     "metadata": {},
     "output_type": "execute_result"
    }
   ],
   "source": [
    "adders[0].__closure__"
   ]
  },
  {
   "cell_type": "code",
   "execution_count": 50,
   "id": "cff8cc71",
   "metadata": {},
   "outputs": [
    {
     "data": {
      "text/plain": [
       "(<cell at 0x109a94dc0: int object at 0x10751e970>,)"
      ]
     },
     "execution_count": 50,
     "metadata": {},
     "output_type": "execute_result"
    }
   ],
   "source": [
    "adders[1].__closure__"
   ]
  },
  {
   "cell_type": "code",
   "execution_count": 51,
   "id": "be6b91af",
   "metadata": {},
   "outputs": [
    {
     "data": {
      "text/plain": [
       "(<cell at 0x109a94dc0: int object at 0x10751e970>,)"
      ]
     },
     "execution_count": 51,
     "metadata": {},
     "output_type": "execute_result"
    }
   ],
   "source": [
    "adders[2].__closure__"
   ]
  },
  {
   "cell_type": "code",
   "execution_count": 52,
   "id": "3514870a",
   "metadata": {},
   "outputs": [
    {
     "data": {
      "text/plain": [
       "13"
      ]
     },
     "execution_count": 52,
     "metadata": {},
     "output_type": "execute_result"
    }
   ],
   "source": [
    "adders[0](10)"
   ]
  },
  {
   "cell_type": "markdown",
   "id": "d3aab039",
   "metadata": {},
   "source": [
    "Now, this time, is going to evaluate the function"
   ]
  },
  {
   "cell_type": "code",
   "execution_count": 42,
   "id": "c1c460e7",
   "metadata": {},
   "outputs": [
    {
     "data": {
      "text/plain": [
       "'0x10751e970'"
      ]
     },
     "execution_count": 42,
     "metadata": {},
     "output_type": "execute_result"
    }
   ],
   "source": [
    "hex(id(3))"
   ]
  },
  {
   "cell_type": "code",
   "execution_count": 53,
   "id": "be07ce44",
   "metadata": {},
   "outputs": [],
   "source": [
    "def create_adders():\n",
    "    adders = []\n",
    "    for n in range(1,4):\n",
    "        adders.append(lambda x, y = n: x + y)\n",
    "    return adders"
   ]
  },
  {
   "cell_type": "code",
   "execution_count": 54,
   "id": "f71827b7",
   "metadata": {},
   "outputs": [],
   "source": [
    "adders = create_adders()"
   ]
  },
  {
   "cell_type": "code",
   "execution_count": 57,
   "id": "416fea2f",
   "metadata": {},
   "outputs": [],
   "source": [
    "adders[0].__closure__"
   ]
  },
  {
   "cell_type": "markdown",
   "id": "1eef2293",
   "metadata": {},
   "source": [
    "There is no free variable, there is no closure"
   ]
  },
  {
   "cell_type": "code",
   "execution_count": 58,
   "id": "e6297a4a",
   "metadata": {},
   "outputs": [
    {
     "data": {
      "text/plain": [
       "101"
      ]
     },
     "execution_count": 58,
     "metadata": {},
     "output_type": "execute_result"
    }
   ],
   "source": [
    "adders[0](100)"
   ]
  },
  {
   "cell_type": "code",
   "execution_count": 12,
   "id": "893e4ec1",
   "metadata": {},
   "outputs": [],
   "source": [
    "def test():\n",
    "    x = 0\n",
    "    y = 0\n",
    "    def inner():\n",
    "        nonlocal x\n",
    "        x+=1\n",
    "        return x\n",
    "    def inner2():\n",
    "        nonlocal y\n",
    "        y+=1\n",
    "        return y\n",
    "    return inner, inner2"
   ]
  },
  {
   "cell_type": "code",
   "execution_count": 13,
   "id": "ce6e3f46",
   "metadata": {},
   "outputs": [],
   "source": [
    "f,f1 = test()"
   ]
  },
  {
   "cell_type": "code",
   "execution_count": 14,
   "id": "add6ed3a",
   "metadata": {},
   "outputs": [
    {
     "data": {
      "text/plain": [
       "(('x',), ('y',))"
      ]
     },
     "execution_count": 14,
     "metadata": {},
     "output_type": "execute_result"
    }
   ],
   "source": [
    "f.__code__.co_freevars, f1.__code__.co_freevars"
   ]
  },
  {
   "cell_type": "code",
   "execution_count": 15,
   "id": "8fd8727f",
   "metadata": {},
   "outputs": [
    {
     "data": {
      "text/plain": [
       "((<cell at 0x10ea3cd00: int object at 0x10c421910>,),\n",
       " (<cell at 0x10ea3c640: int object at 0x10c421910>,))"
      ]
     },
     "execution_count": 15,
     "metadata": {},
     "output_type": "execute_result"
    }
   ],
   "source": [
    "f.__closure__, f1.__closure__"
   ]
  },
  {
   "cell_type": "code",
   "execution_count": 16,
   "id": "d9ba0afd",
   "metadata": {},
   "outputs": [],
   "source": [
    "def test():\n",
    "    x = 0\n",
    "    y = 0\n",
    "    def inner():\n",
    "        nonlocal x,y\n",
    "        x+=1\n",
    "        y+=1\n",
    "        return x,y\n",
    "    return inner"
   ]
  },
  {
   "cell_type": "code",
   "execution_count": 17,
   "id": "bd9e4c21",
   "metadata": {},
   "outputs": [],
   "source": [
    "f = test()"
   ]
  },
  {
   "cell_type": "code",
   "execution_count": 18,
   "id": "075a9a02",
   "metadata": {},
   "outputs": [
    {
     "data": {
      "text/plain": [
       "('x', 'y')"
      ]
     },
     "execution_count": 18,
     "metadata": {},
     "output_type": "execute_result"
    }
   ],
   "source": [
    "f.__code__.co_freevars"
   ]
  },
  {
   "cell_type": "code",
   "execution_count": 19,
   "id": "cb18fb23",
   "metadata": {},
   "outputs": [
    {
     "data": {
      "text/plain": [
       "(<cell at 0x10ea3c280: int object at 0x10c421910>,\n",
       " <cell at 0x10ea3c5e0: int object at 0x10c421910>)"
      ]
     },
     "execution_count": 19,
     "metadata": {},
     "output_type": "execute_result"
    }
   ],
   "source": [
    "f.__closure__"
   ]
  },
  {
   "cell_type": "markdown",
   "id": "1712a8ad",
   "metadata": {},
   "source": [
    "---\n",
    "## Closure Applications (Part 1)"
   ]
  },
  {
   "cell_type": "code",
   "execution_count": 59,
   "id": "3efa49ec",
   "metadata": {},
   "outputs": [],
   "source": [
    "class Averager:\n",
    "    def __init__(self):\n",
    "        self.numbers = []\n",
    "        \n",
    "    def add(self, number):\n",
    "        self.numbers.append(number)\n",
    "        return f'The new average is: {sum(self.numbers) / len(self.numbers)}'"
   ]
  },
  {
   "cell_type": "code",
   "execution_count": 61,
   "id": "bdb72c2b",
   "metadata": {},
   "outputs": [],
   "source": [
    "a = Averager()"
   ]
  },
  {
   "cell_type": "code",
   "execution_count": 62,
   "id": "d810b80a",
   "metadata": {},
   "outputs": [
    {
     "data": {
      "text/plain": [
       "'The new average is: 10.0'"
      ]
     },
     "execution_count": 62,
     "metadata": {},
     "output_type": "execute_result"
    }
   ],
   "source": [
    "a.add(10)"
   ]
  },
  {
   "cell_type": "code",
   "execution_count": 63,
   "id": "8f4c7437",
   "metadata": {},
   "outputs": [
    {
     "data": {
      "text/plain": [
       "'The new average is: 15.0'"
      ]
     },
     "execution_count": 63,
     "metadata": {},
     "output_type": "execute_result"
    }
   ],
   "source": [
    "a.add(20)"
   ]
  },
  {
   "cell_type": "code",
   "execution_count": 64,
   "id": "79c7f0aa",
   "metadata": {},
   "outputs": [
    {
     "data": {
      "text/plain": [
       "'The new average is: 20.0'"
      ]
     },
     "execution_count": 64,
     "metadata": {},
     "output_type": "execute_result"
    }
   ],
   "source": [
    "a.add(30)"
   ]
  },
  {
   "cell_type": "code",
   "execution_count": 65,
   "id": "71d1a10a",
   "metadata": {},
   "outputs": [],
   "source": [
    "def averager():\n",
    "    numbers = []\n",
    "    def add(number):\n",
    "        numbers.append(number)\n",
    "        return f'The new average is: {sum(numbers) / len(numbers)}'\n",
    "    return add"
   ]
  },
  {
   "cell_type": "code",
   "execution_count": 66,
   "id": "40eebc8b",
   "metadata": {},
   "outputs": [],
   "source": [
    "a = averager()"
   ]
  },
  {
   "cell_type": "code",
   "execution_count": 67,
   "id": "cf84ce72",
   "metadata": {},
   "outputs": [
    {
     "data": {
      "text/plain": [
       "'The new average is: 10.0'"
      ]
     },
     "execution_count": 67,
     "metadata": {},
     "output_type": "execute_result"
    }
   ],
   "source": [
    "a(10)"
   ]
  },
  {
   "cell_type": "code",
   "execution_count": 68,
   "id": "86613854",
   "metadata": {},
   "outputs": [
    {
     "data": {
      "text/plain": [
       "'The new average is: 15.0'"
      ]
     },
     "execution_count": 68,
     "metadata": {},
     "output_type": "execute_result"
    }
   ],
   "source": [
    "a(20)"
   ]
  },
  {
   "cell_type": "code",
   "execution_count": 69,
   "id": "199a34d2",
   "metadata": {},
   "outputs": [
    {
     "data": {
      "text/plain": [
       "'The new average is: 20.0'"
      ]
     },
     "execution_count": 69,
     "metadata": {},
     "output_type": "execute_result"
    }
   ],
   "source": [
    "a(30)"
   ]
  },
  {
   "cell_type": "code",
   "execution_count": 70,
   "id": "e5d3d23c",
   "metadata": {},
   "outputs": [
    {
     "data": {
      "text/plain": [
       "(<cell at 0x109a77ac0: list object at 0x109b2c140>,)"
      ]
     },
     "execution_count": 70,
     "metadata": {},
     "output_type": "execute_result"
    }
   ],
   "source": [
    "a.__closure__"
   ]
  },
  {
   "cell_type": "code",
   "execution_count": 72,
   "id": "dbf2f013",
   "metadata": {},
   "outputs": [],
   "source": [
    "def averager():\n",
    "    total = 0\n",
    "    count = 0\n",
    "    def add(number):\n",
    "        nonlocal total, count\n",
    "        total += number\n",
    "        count += 1\n",
    "        return f'The new average is: {total / count}'\n",
    "    return add"
   ]
  },
  {
   "cell_type": "code",
   "execution_count": 73,
   "id": "9bfa0e63",
   "metadata": {},
   "outputs": [],
   "source": [
    "a = averager()"
   ]
  },
  {
   "cell_type": "code",
   "execution_count": 74,
   "id": "c0b946c8",
   "metadata": {},
   "outputs": [
    {
     "data": {
      "text/plain": [
       "'The new average is: 10.0'"
      ]
     },
     "execution_count": 74,
     "metadata": {},
     "output_type": "execute_result"
    }
   ],
   "source": [
    "a(10)"
   ]
  },
  {
   "cell_type": "code",
   "execution_count": 75,
   "id": "6cd52bb6",
   "metadata": {},
   "outputs": [
    {
     "data": {
      "text/plain": [
       "'The new average is: 15.0'"
      ]
     },
     "execution_count": 75,
     "metadata": {},
     "output_type": "execute_result"
    }
   ],
   "source": [
    "a(20)"
   ]
  },
  {
   "cell_type": "code",
   "execution_count": 76,
   "id": "731f2c40",
   "metadata": {},
   "outputs": [
    {
     "data": {
      "text/plain": [
       "'The new average is: 20.0'"
      ]
     },
     "execution_count": 76,
     "metadata": {},
     "output_type": "execute_result"
    }
   ],
   "source": [
    "a(30)"
   ]
  },
  {
   "cell_type": "code",
   "execution_count": 78,
   "id": "0f6c72e5",
   "metadata": {},
   "outputs": [
    {
     "data": {
      "text/plain": [
       "('count', 'total')"
      ]
     },
     "execution_count": 78,
     "metadata": {},
     "output_type": "execute_result"
    }
   ],
   "source": [
    "a.__code__.co_freevars"
   ]
  },
  {
   "cell_type": "code",
   "execution_count": 77,
   "id": "69256c08",
   "metadata": {},
   "outputs": [
    {
     "data": {
      "text/plain": [
       "(<cell at 0x109a94e50: int object at 0x10751e970>,\n",
       " <cell at 0x109a948e0: int object at 0x10754d0d0>)"
      ]
     },
     "execution_count": 77,
     "metadata": {},
     "output_type": "execute_result"
    }
   ],
   "source": [
    "a.__closure__"
   ]
  },
  {
   "cell_type": "markdown",
   "id": "381e2bd5",
   "metadata": {},
   "source": [
    "This last closure, we could have written as a class as this:"
   ]
  },
  {
   "cell_type": "code",
   "execution_count": 83,
   "id": "a55d87de",
   "metadata": {},
   "outputs": [],
   "source": [
    "class Averager:\n",
    "    def __init__(self):\n",
    "        self.total = 0\n",
    "        self.count = 0\n",
    "        \n",
    "    def add(self, number):\n",
    "        self.total += number\n",
    "        self.count += 1\n",
    "        return f'The new average is: {self.total / self.count}'"
   ]
  },
  {
   "cell_type": "markdown",
   "id": "6dadd485",
   "metadata": {},
   "source": [
    "We have the same thing"
   ]
  },
  {
   "cell_type": "code",
   "execution_count": 84,
   "id": "2067a4d5",
   "metadata": {},
   "outputs": [],
   "source": [
    "a = Averager()"
   ]
  },
  {
   "cell_type": "code",
   "execution_count": 86,
   "id": "3e423301",
   "metadata": {},
   "outputs": [
    {
     "data": {
      "text/plain": [
       "'The new average is: 10.0'"
      ]
     },
     "execution_count": 86,
     "metadata": {},
     "output_type": "execute_result"
    }
   ],
   "source": [
    "a.add(10)"
   ]
  },
  {
   "cell_type": "code",
   "execution_count": 87,
   "id": "6adb1d3d",
   "metadata": {},
   "outputs": [
    {
     "data": {
      "text/plain": [
       "'The new average is: 15.0'"
      ]
     },
     "execution_count": 87,
     "metadata": {},
     "output_type": "execute_result"
    }
   ],
   "source": [
    "a.add(20)"
   ]
  },
  {
   "cell_type": "code",
   "execution_count": 88,
   "id": "df5869ea",
   "metadata": {},
   "outputs": [
    {
     "data": {
      "text/plain": [
       "'The new average is: 20.0'"
      ]
     },
     "execution_count": 88,
     "metadata": {},
     "output_type": "execute_result"
    }
   ],
   "source": [
    "a.add(30)"
   ]
  },
  {
   "cell_type": "code",
   "execution_count": 89,
   "id": "3140f6f2",
   "metadata": {},
   "outputs": [],
   "source": [
    "from time import perf_counter"
   ]
  },
  {
   "cell_type": "code",
   "execution_count": 90,
   "id": "fd8c6df9",
   "metadata": {},
   "outputs": [
    {
     "data": {
      "text/plain": [
       "3043.09708274"
      ]
     },
     "execution_count": 90,
     "metadata": {},
     "output_type": "execute_result"
    }
   ],
   "source": [
    "perf_counter()"
   ]
  },
  {
   "cell_type": "code",
   "execution_count": 91,
   "id": "9f43b174",
   "metadata": {},
   "outputs": [
    {
     "data": {
      "text/plain": [
       "3050.450025806"
      ]
     },
     "execution_count": 91,
     "metadata": {},
     "output_type": "execute_result"
    }
   ],
   "source": [
    "perf_counter()"
   ]
  },
  {
   "cell_type": "code",
   "execution_count": 92,
   "id": "3d9be57a",
   "metadata": {},
   "outputs": [],
   "source": [
    "class Timer:\n",
    "    def __init__(self):\n",
    "        self.start = perf_counter()\n",
    "        \n",
    "        \n",
    "    def poll(self):\n",
    "        return perf_counter() - self.start"
   ]
  },
  {
   "cell_type": "code",
   "execution_count": 93,
   "id": "2812b804",
   "metadata": {},
   "outputs": [],
   "source": [
    "t1 = Timer()"
   ]
  },
  {
   "cell_type": "code",
   "execution_count": 94,
   "id": "8d0dd650",
   "metadata": {},
   "outputs": [
    {
     "data": {
      "text/plain": [
       "4.955344597000021"
      ]
     },
     "execution_count": 94,
     "metadata": {},
     "output_type": "execute_result"
    }
   ],
   "source": [
    "t1.poll()"
   ]
  },
  {
   "cell_type": "code",
   "execution_count": 96,
   "id": "3cb0ce09",
   "metadata": {},
   "outputs": [
    {
     "data": {
      "text/plain": [
       "17.09454084500021"
      ]
     },
     "execution_count": 96,
     "metadata": {},
     "output_type": "execute_result"
    }
   ],
   "source": [
    "t1.poll()"
   ]
  },
  {
   "cell_type": "code",
   "execution_count": 97,
   "id": "a5819cdc",
   "metadata": {},
   "outputs": [
    {
     "data": {
      "text/plain": [
       "23.316216089000136"
      ]
     },
     "execution_count": 97,
     "metadata": {},
     "output_type": "execute_result"
    }
   ],
   "source": [
    "t1.poll()"
   ]
  },
  {
   "cell_type": "code",
   "execution_count": 98,
   "id": "6c911be9",
   "metadata": {},
   "outputs": [
    {
     "data": {
      "text/plain": [
       "24.755129748999934"
      ]
     },
     "execution_count": 98,
     "metadata": {},
     "output_type": "execute_result"
    }
   ],
   "source": [
    "t1.poll()"
   ]
  },
  {
   "cell_type": "code",
   "execution_count": 99,
   "id": "f9112090",
   "metadata": {},
   "outputs": [],
   "source": [
    "class Timer:\n",
    "    def __init__(self):\n",
    "        self.start = perf_counter()\n",
    "        \n",
    "        \n",
    "    def __call__(self):\n",
    "        return perf_counter() - self.start"
   ]
  },
  {
   "cell_type": "code",
   "execution_count": 100,
   "id": "f412d6e5",
   "metadata": {},
   "outputs": [],
   "source": [
    "t2 = Timer()"
   ]
  },
  {
   "cell_type": "code",
   "execution_count": 101,
   "id": "2a7c1885",
   "metadata": {},
   "outputs": [
    {
     "data": {
      "text/plain": [
       "2.776937830999941"
      ]
     },
     "execution_count": 101,
     "metadata": {},
     "output_type": "execute_result"
    }
   ],
   "source": [
    "t2()"
   ]
  },
  {
   "cell_type": "code",
   "execution_count": 102,
   "id": "e3815f79",
   "metadata": {},
   "outputs": [],
   "source": [
    "def timer():\n",
    "    start = perf_counter()\n",
    "    def calculate():\n",
    "        nonlocal start\n",
    "        return perf_counter() - start\n",
    "    return calculate"
   ]
  },
  {
   "cell_type": "code",
   "execution_count": 103,
   "id": "45288663",
   "metadata": {},
   "outputs": [],
   "source": [
    "t3 = timer()"
   ]
  },
  {
   "cell_type": "code",
   "execution_count": 104,
   "id": "6b40e934",
   "metadata": {},
   "outputs": [
    {
     "data": {
      "text/plain": [
       "2.5418286570002238"
      ]
     },
     "execution_count": 104,
     "metadata": {},
     "output_type": "execute_result"
    }
   ],
   "source": [
    "t3()"
   ]
  },
  {
   "cell_type": "code",
   "execution_count": 105,
   "id": "44e644c5",
   "metadata": {},
   "outputs": [
    {
     "data": {
      "text/plain": [
       "6.298658611000064"
      ]
     },
     "execution_count": 105,
     "metadata": {},
     "output_type": "execute_result"
    }
   ],
   "source": [
    "t3()"
   ]
  },
  {
   "cell_type": "code",
   "execution_count": 106,
   "id": "3ea40b56",
   "metadata": {},
   "outputs": [
    {
     "data": {
      "text/plain": [
       "(<cell at 0x109b39bb0: float object at 0x109b3b610>,)"
      ]
     },
     "execution_count": 106,
     "metadata": {},
     "output_type": "execute_result"
    }
   ],
   "source": [
    "t3.__closure__"
   ]
  },
  {
   "cell_type": "code",
   "execution_count": 107,
   "id": "55592134",
   "metadata": {},
   "outputs": [],
   "source": [
    "def timer():\n",
    "    start = perf_counter()\n",
    "    def calculate():\n",
    "        return perf_counter() - start\n",
    "    return calculate"
   ]
  },
  {
   "cell_type": "code",
   "execution_count": 108,
   "id": "b8e88c01",
   "metadata": {},
   "outputs": [],
   "source": [
    "t4 = timer()"
   ]
  },
  {
   "cell_type": "code",
   "execution_count": 109,
   "id": "c64a14d0",
   "metadata": {},
   "outputs": [
    {
     "data": {
      "text/plain": [
       "2.0014690319999318"
      ]
     },
     "execution_count": 109,
     "metadata": {},
     "output_type": "execute_result"
    }
   ],
   "source": [
    "t4()"
   ]
  },
  {
   "cell_type": "code",
   "execution_count": 110,
   "id": "bc8ff153",
   "metadata": {},
   "outputs": [
    {
     "data": {
      "text/plain": [
       "4.451740593000068"
      ]
     },
     "execution_count": 110,
     "metadata": {},
     "output_type": "execute_result"
    }
   ],
   "source": [
    "t4()"
   ]
  },
  {
   "cell_type": "code",
   "execution_count": 111,
   "id": "4b3feb44",
   "metadata": {},
   "outputs": [
    {
     "data": {
      "text/plain": [
       "(<cell at 0x109b39070: float object at 0x109b3b070>,)"
      ]
     },
     "execution_count": 111,
     "metadata": {},
     "output_type": "execute_result"
    }
   ],
   "source": [
    "t4.__closure__"
   ]
  },
  {
   "cell_type": "markdown",
   "id": "aff01f27",
   "metadata": {},
   "source": [
    "---\n",
    "## Closure Applications (Part 2)"
   ]
  },
  {
   "cell_type": "code",
   "execution_count": 137,
   "id": "ae053b36",
   "metadata": {},
   "outputs": [],
   "source": [
    "def counter(initial_value=0):\n",
    "    def inc(increment=1):\n",
    "        nonlocal initial_value\n",
    "        initial_value += increment\n",
    "        return initial_value\n",
    "    return inc"
   ]
  },
  {
   "cell_type": "code",
   "execution_count": 138,
   "id": "2b90ba19",
   "metadata": {},
   "outputs": [],
   "source": [
    "counter1 = counter()"
   ]
  },
  {
   "cell_type": "code",
   "execution_count": 139,
   "id": "543ef0ea",
   "metadata": {},
   "outputs": [
    {
     "data": {
      "text/plain": [
       "1"
      ]
     },
     "execution_count": 139,
     "metadata": {},
     "output_type": "execute_result"
    }
   ],
   "source": [
    "counter1()"
   ]
  },
  {
   "cell_type": "code",
   "execution_count": 140,
   "id": "18a7614d",
   "metadata": {},
   "outputs": [
    {
     "data": {
      "text/plain": [
       "2"
      ]
     },
     "execution_count": 140,
     "metadata": {},
     "output_type": "execute_result"
    }
   ],
   "source": [
    "counter1()"
   ]
  },
  {
   "cell_type": "code",
   "execution_count": 142,
   "id": "454465f4",
   "metadata": {},
   "outputs": [],
   "source": [
    "def counter(fn):\n",
    "    cnt = 0\n",
    "    def inner(*args, **kwargs):\n",
    "        nonlocal cnt\n",
    "        cnt += 1\n",
    "        print(f'{fn.__name__} has been called {cnt} times')\n",
    "        return fn(*args, **kwargs)\n",
    "    return inner"
   ]
  },
  {
   "cell_type": "code",
   "execution_count": 143,
   "id": "862716dd",
   "metadata": {},
   "outputs": [],
   "source": [
    "def add(a,b):\n",
    "    return a + b"
   ]
  },
  {
   "cell_type": "code",
   "execution_count": 144,
   "id": "e3a28286",
   "metadata": {},
   "outputs": [],
   "source": [
    "def mult(a,b):\n",
    "    return a * b"
   ]
  },
  {
   "cell_type": "code",
   "execution_count": 145,
   "id": "b3d6e2bc",
   "metadata": {},
   "outputs": [],
   "source": [
    "counter_add = counter(add)"
   ]
  },
  {
   "cell_type": "code",
   "execution_count": 147,
   "id": "1d6d3f19",
   "metadata": {},
   "outputs": [
    {
     "data": {
      "text/plain": [
       "(<cell at 0x109b399a0: int object at 0x10751e930>,\n",
       " <cell at 0x109b39e80: function object at 0x109b40820>)"
      ]
     },
     "execution_count": 147,
     "metadata": {},
     "output_type": "execute_result"
    }
   ],
   "source": [
    "counter_add.__closure__"
   ]
  },
  {
   "cell_type": "code",
   "execution_count": 148,
   "id": "0ba9e16d",
   "metadata": {},
   "outputs": [
    {
     "data": {
      "text/plain": [
       "('cnt', 'fn')"
      ]
     },
     "execution_count": 148,
     "metadata": {},
     "output_type": "execute_result"
    }
   ],
   "source": [
    "counter_add.__code__.co_freevars"
   ]
  },
  {
   "cell_type": "code",
   "execution_count": 146,
   "id": "96e3d3e1",
   "metadata": {},
   "outputs": [
    {
     "name": "stdout",
     "output_type": "stream",
     "text": [
      "add has been called 1 times\n"
     ]
    },
    {
     "data": {
      "text/plain": [
       "30"
      ]
     },
     "execution_count": 146,
     "metadata": {},
     "output_type": "execute_result"
    }
   ],
   "source": [
    "counter_add(10, b=20)"
   ]
  },
  {
   "cell_type": "code",
   "execution_count": 149,
   "id": "a331942c",
   "metadata": {},
   "outputs": [
    {
     "name": "stdout",
     "output_type": "stream",
     "text": [
      "add has been called 2 times\n"
     ]
    },
    {
     "data": {
      "text/plain": [
       "60"
      ]
     },
     "execution_count": 149,
     "metadata": {},
     "output_type": "execute_result"
    }
   ],
   "source": [
    "counter_add(a = 10, b = 50)"
   ]
  },
  {
   "cell_type": "code",
   "execution_count": 150,
   "id": "f4d6ea23",
   "metadata": {},
   "outputs": [
    {
     "name": "stdout",
     "output_type": "stream",
     "text": [
      "add has been called 3 times\n"
     ]
    },
    {
     "data": {
      "text/plain": [
       "70"
      ]
     },
     "execution_count": 150,
     "metadata": {},
     "output_type": "execute_result"
    }
   ],
   "source": [
    "counter_add(30, 40)"
   ]
  },
  {
   "cell_type": "code",
   "execution_count": 151,
   "id": "c664d29c",
   "metadata": {},
   "outputs": [],
   "source": [
    "counter_mult = counter(mult)"
   ]
  },
  {
   "cell_type": "code",
   "execution_count": 152,
   "id": "7c33b1dd",
   "metadata": {},
   "outputs": [
    {
     "name": "stdout",
     "output_type": "stream",
     "text": [
      "mult has been called 1 times\n"
     ]
    },
    {
     "data": {
      "text/plain": [
       "200"
      ]
     },
     "execution_count": 152,
     "metadata": {},
     "output_type": "execute_result"
    }
   ],
   "source": [
    "counter_mult(2,100)"
   ]
  },
  {
   "cell_type": "code",
   "execution_count": 154,
   "id": "f03fb822",
   "metadata": {},
   "outputs": [],
   "source": [
    "counters = dict()"
   ]
  },
  {
   "cell_type": "code",
   "execution_count": 156,
   "id": "291edf19",
   "metadata": {},
   "outputs": [],
   "source": [
    "def counter(fn):\n",
    "    cnt = 0\n",
    "    def inner(*args, **kwargs):\n",
    "        nonlocal cnt\n",
    "        cnt += 1\n",
    "        counters[fn.__name__] = cnt\n",
    "        return fn(*args, **kwargs)\n",
    "    return inner"
   ]
  },
  {
   "cell_type": "code",
   "execution_count": 158,
   "id": "9195e2c8",
   "metadata": {},
   "outputs": [],
   "source": [
    "counted_add = counter(add)\n",
    "counted_mult = counter(mult)"
   ]
  },
  {
   "cell_type": "code",
   "execution_count": 159,
   "id": "d7562237",
   "metadata": {},
   "outputs": [
    {
     "data": {
      "text/plain": [
       "7"
      ]
     },
     "execution_count": 159,
     "metadata": {},
     "output_type": "execute_result"
    }
   ],
   "source": [
    "counted_add(2,5)"
   ]
  },
  {
   "cell_type": "code",
   "execution_count": 160,
   "id": "769fbb1f",
   "metadata": {},
   "outputs": [
    {
     "data": {
      "text/plain": [
       "6"
      ]
     },
     "execution_count": 160,
     "metadata": {},
     "output_type": "execute_result"
    }
   ],
   "source": [
    "counted_add(2,4)"
   ]
  },
  {
   "cell_type": "code",
   "execution_count": 162,
   "id": "a28a1028",
   "metadata": {},
   "outputs": [
    {
     "data": {
      "text/plain": [
       "{'add': 2}"
      ]
     },
     "execution_count": 162,
     "metadata": {},
     "output_type": "execute_result"
    }
   ],
   "source": [
    "counters"
   ]
  },
  {
   "cell_type": "code",
   "execution_count": 163,
   "id": "d9469eaa",
   "metadata": {},
   "outputs": [
    {
     "data": {
      "text/plain": [
       "6"
      ]
     },
     "execution_count": 163,
     "metadata": {},
     "output_type": "execute_result"
    }
   ],
   "source": [
    "counted_add(2,4)"
   ]
  },
  {
   "cell_type": "code",
   "execution_count": 164,
   "id": "bdbbb165",
   "metadata": {},
   "outputs": [
    {
     "data": {
      "text/plain": [
       "{'add': 3}"
      ]
     },
     "execution_count": 164,
     "metadata": {},
     "output_type": "execute_result"
    }
   ],
   "source": [
    "counters"
   ]
  },
  {
   "cell_type": "code",
   "execution_count": 167,
   "id": "9505ecc6",
   "metadata": {},
   "outputs": [
    {
     "data": {
      "text/plain": [
       "20"
      ]
     },
     "execution_count": 167,
     "metadata": {},
     "output_type": "execute_result"
    }
   ],
   "source": [
    "counted_mult(4,5)"
   ]
  },
  {
   "cell_type": "code",
   "execution_count": 168,
   "id": "1546acc7",
   "metadata": {},
   "outputs": [
    {
     "data": {
      "text/plain": [
       "{'add': 3, 'mult': 3}"
      ]
     },
     "execution_count": 168,
     "metadata": {},
     "output_type": "execute_result"
    }
   ],
   "source": [
    "counters"
   ]
  },
  {
   "cell_type": "code",
   "execution_count": 169,
   "id": "96062325",
   "metadata": {},
   "outputs": [
    {
     "data": {
      "text/plain": [
       "20"
      ]
     },
     "execution_count": 169,
     "metadata": {},
     "output_type": "execute_result"
    }
   ],
   "source": [
    "counted_mult(4,5)"
   ]
  },
  {
   "cell_type": "code",
   "execution_count": 170,
   "id": "b09e0563",
   "metadata": {},
   "outputs": [
    {
     "data": {
      "text/plain": [
       "20"
      ]
     },
     "execution_count": 170,
     "metadata": {},
     "output_type": "execute_result"
    }
   ],
   "source": [
    "counted_mult(4,5)"
   ]
  },
  {
   "cell_type": "code",
   "execution_count": 171,
   "id": "b5eedd17",
   "metadata": {},
   "outputs": [
    {
     "data": {
      "text/plain": [
       "{'add': 3, 'mult': 5}"
      ]
     },
     "execution_count": 171,
     "metadata": {},
     "output_type": "execute_result"
    }
   ],
   "source": [
    "counters"
   ]
  },
  {
   "cell_type": "code",
   "execution_count": 172,
   "id": "48578c7e",
   "metadata": {},
   "outputs": [
    {
     "data": {
      "text/plain": [
       "4"
      ]
     },
     "execution_count": 172,
     "metadata": {},
     "output_type": "execute_result"
    }
   ],
   "source": [
    "counted_add(2,2)"
   ]
  },
  {
   "cell_type": "code",
   "execution_count": 173,
   "id": "7fcb7e6d",
   "metadata": {},
   "outputs": [
    {
     "data": {
      "text/plain": [
       "{'add': 4, 'mult': 5}"
      ]
     },
     "execution_count": 173,
     "metadata": {},
     "output_type": "execute_result"
    }
   ],
   "source": [
    "counters"
   ]
  },
  {
   "cell_type": "markdown",
   "id": "24758c1e",
   "metadata": {},
   "source": [
    "We are going to pass the dictionary"
   ]
  },
  {
   "cell_type": "code",
   "execution_count": 174,
   "id": "2426cb55",
   "metadata": {},
   "outputs": [],
   "source": [
    "def counter(fn, counters):\n",
    "    cnt = 0\n",
    "    def inner(*args, **kwargs):\n",
    "        nonlocal cnt\n",
    "        cnt += 1\n",
    "        counters[fn.__name__] = cnt\n",
    "        return fn(*args, **kwargs)\n",
    "    return inner"
   ]
  },
  {
   "cell_type": "code",
   "execution_count": 175,
   "id": "261b522d",
   "metadata": {},
   "outputs": [],
   "source": [
    "c = dict()"
   ]
  },
  {
   "cell_type": "code",
   "execution_count": 178,
   "id": "40ca5a24",
   "metadata": {},
   "outputs": [],
   "source": [
    "counted_add = counter(add, c)"
   ]
  },
  {
   "cell_type": "code",
   "execution_count": 180,
   "id": "1019e772",
   "metadata": {},
   "outputs": [],
   "source": [
    "counted_mult = counter(mult,c)"
   ]
  },
  {
   "cell_type": "code",
   "execution_count": 181,
   "id": "e6561e7b",
   "metadata": {},
   "outputs": [
    {
     "data": {
      "text/plain": [
       "30"
      ]
     },
     "execution_count": 181,
     "metadata": {},
     "output_type": "execute_result"
    }
   ],
   "source": [
    "counted_add(10,20)"
   ]
  },
  {
   "cell_type": "code",
   "execution_count": 182,
   "id": "6e06a37d",
   "metadata": {},
   "outputs": [
    {
     "data": {
      "text/plain": [
       "10"
      ]
     },
     "execution_count": 182,
     "metadata": {},
     "output_type": "execute_result"
    }
   ],
   "source": [
    "counted_mult(2,5)"
   ]
  },
  {
   "cell_type": "code",
   "execution_count": 183,
   "id": "ffced2a6",
   "metadata": {},
   "outputs": [
    {
     "data": {
      "text/plain": [
       "18"
      ]
     },
     "execution_count": 183,
     "metadata": {},
     "output_type": "execute_result"
    }
   ],
   "source": [
    "counted_mult(3,6)"
   ]
  },
  {
   "cell_type": "code",
   "execution_count": 184,
   "id": "cd04e602",
   "metadata": {},
   "outputs": [
    {
     "data": {
      "text/plain": [
       "{'add': 1, 'mult': 2}"
      ]
     },
     "execution_count": 184,
     "metadata": {},
     "output_type": "execute_result"
    }
   ],
   "source": [
    "c"
   ]
  },
  {
   "cell_type": "code",
   "execution_count": 185,
   "id": "85ec6bb2",
   "metadata": {},
   "outputs": [],
   "source": [
    "def fact(n):\n",
    "    product = 1\n",
    "    for i in range(2,n+1):\n",
    "        product *= i\n",
    "    return product"
   ]
  },
  {
   "cell_type": "code",
   "execution_count": 186,
   "id": "e5b621be",
   "metadata": {},
   "outputs": [
    {
     "data": {
      "text/plain": [
       "120"
      ]
     },
     "execution_count": 186,
     "metadata": {},
     "output_type": "execute_result"
    }
   ],
   "source": [
    "fact(5)"
   ]
  },
  {
   "cell_type": "code",
   "execution_count": 187,
   "id": "db50c9cf",
   "metadata": {},
   "outputs": [],
   "source": [
    "counted_fact = counter(fact,c)"
   ]
  },
  {
   "cell_type": "code",
   "execution_count": 188,
   "id": "fe1d6017",
   "metadata": {},
   "outputs": [
    {
     "data": {
      "text/plain": [
       "120"
      ]
     },
     "execution_count": 188,
     "metadata": {},
     "output_type": "execute_result"
    }
   ],
   "source": [
    "counted_fact(5)"
   ]
  },
  {
   "cell_type": "code",
   "execution_count": 189,
   "id": "fc7a9857",
   "metadata": {},
   "outputs": [
    {
     "data": {
      "text/plain": [
       "{'add': 1, 'mult': 2, 'fact': 1}"
      ]
     },
     "execution_count": 189,
     "metadata": {},
     "output_type": "execute_result"
    }
   ],
   "source": [
    "c"
   ]
  },
  {
   "cell_type": "code",
   "execution_count": 190,
   "id": "73ae043e",
   "metadata": {},
   "outputs": [],
   "source": [
    "fact = counter(fact,c)"
   ]
  },
  {
   "cell_type": "code",
   "execution_count": 191,
   "id": "25c7df38",
   "metadata": {},
   "outputs": [
    {
     "data": {
      "text/plain": [
       "'inner'"
      ]
     },
     "execution_count": 191,
     "metadata": {},
     "output_type": "execute_result"
    }
   ],
   "source": [
    "fact.__name__"
   ]
  },
  {
   "cell_type": "code",
   "execution_count": 192,
   "id": "ae8c7cda",
   "metadata": {},
   "outputs": [
    {
     "data": {
      "text/plain": [
       "(<cell at 0x109b500d0: int object at 0x10751e910>,\n",
       " <cell at 0x109b50430: dict object at 0x109b5a080>,\n",
       " <cell at 0x109b50df0: function object at 0x109b40d30>)"
      ]
     },
     "execution_count": 192,
     "metadata": {},
     "output_type": "execute_result"
    }
   ],
   "source": [
    "fact.__closure__"
   ]
  },
  {
   "cell_type": "code",
   "execution_count": 193,
   "id": "20930873",
   "metadata": {},
   "outputs": [
    {
     "data": {
      "text/plain": [
       "6"
      ]
     },
     "execution_count": 193,
     "metadata": {},
     "output_type": "execute_result"
    }
   ],
   "source": [
    "fact(3)"
   ]
  },
  {
   "cell_type": "code",
   "execution_count": 194,
   "id": "c09b6055",
   "metadata": {},
   "outputs": [
    {
     "data": {
      "text/plain": [
       "120"
      ]
     },
     "execution_count": 194,
     "metadata": {},
     "output_type": "execute_result"
    }
   ],
   "source": [
    "fact(5)"
   ]
  },
  {
   "cell_type": "code",
   "execution_count": 195,
   "id": "e5805ab7",
   "metadata": {},
   "outputs": [
    {
     "data": {
      "text/plain": [
       "{'add': 1, 'mult': 2, 'fact': 2}"
      ]
     },
     "execution_count": 195,
     "metadata": {},
     "output_type": "execute_result"
    }
   ],
   "source": [
    "c"
   ]
  },
  {
   "cell_type": "code",
   "execution_count": 196,
   "id": "bdd48df6",
   "metadata": {},
   "outputs": [
    {
     "data": {
      "text/plain": [
       "3628800"
      ]
     },
     "execution_count": 196,
     "metadata": {},
     "output_type": "execute_result"
    }
   ],
   "source": [
    "fact(10)"
   ]
  },
  {
   "cell_type": "code",
   "execution_count": 197,
   "id": "0ea3dc84",
   "metadata": {},
   "outputs": [
    {
     "data": {
      "text/plain": [
       "{'add': 1, 'mult': 2, 'fact': 3}"
      ]
     },
     "execution_count": 197,
     "metadata": {},
     "output_type": "execute_result"
    }
   ],
   "source": [
    "c"
   ]
  },
  {
   "cell_type": "code",
   "execution_count": 198,
   "id": "41a23ca4",
   "metadata": {},
   "outputs": [
    {
     "data": {
      "text/plain": [
       "{'add': 1, 'mult': 2, 'fact': 3}"
      ]
     },
     "execution_count": 198,
     "metadata": {},
     "output_type": "execute_result"
    }
   ],
   "source": [
    "c"
   ]
  },
  {
   "cell_type": "code",
   "execution_count": null,
   "id": "ccfe6cf6",
   "metadata": {},
   "outputs": [],
   "source": []
  },
  {
   "cell_type": "code",
   "execution_count": null,
   "id": "1fff0f11",
   "metadata": {},
   "outputs": [],
   "source": []
  }
 ],
 "metadata": {
  "kernelspec": {
   "display_name": "Python 3",
   "language": "python",
   "name": "python3"
  },
  "language_info": {
   "codemirror_mode": {
    "name": "ipython",
    "version": 3
   },
   "file_extension": ".py",
   "mimetype": "text/x-python",
   "name": "python",
   "nbconvert_exporter": "python",
   "pygments_lexer": "ipython3",
   "version": "3.9.7"
  }
 },
 "nbformat": 4,
 "nbformat_minor": 5
}
