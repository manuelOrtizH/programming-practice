{
 "cells": [
  {
   "cell_type": "markdown",
   "id": "e94af38a",
   "metadata": {},
   "source": [
    "# Tuples as Data Structures and Named Tuples\n",
    "\n",
    "<br></br>\n",
    "\n",
    "read-only lists... at least that's how many introductions to Python will present tuples\n",
    "\n",
    "This isn't wrong, but there's a lot more going on with tuples...\n",
    "\n",
    "If you only thinh of tuples as read-only lists, you're going to miss out on some interesting ideas\n",
    "\n",
    "We really need to think of tuples also as data records **position of value has meaning**\n",
    "\n",
    "This is why we are going to start looking nat tuples before we even cover sequence types\n",
    "\n",
    "We are going to focus on tuples as **data records or structures** and **named tuples**"
   ]
  },
  {
   "cell_type": "markdown",
   "id": "fb973424",
   "metadata": {},
   "source": [
    "-----\n",
    "## Tuples as Data Structures\n",
    "\n",
    "**Tuples vs Lists vs Strings** (Sequence Types)\n",
    "\n",
    "- **all** are ***containers***\n",
    "\n",
    "- **all** ***order matters***\n",
    "\n",
    "- Tuples tend to be **Heterogeneous**, but are also Homogeneous\n",
    "\n",
    "- Lists tend to be **Homogeneous**, but are also Heterogeneous\n",
    "\n",
    "- Strings are only Homogeneous\n",
    "\n",
    "- **all** are ***indexable***\n",
    "\n",
    "- **all** are ***iterable***\n",
    "\n",
    "- Tuples/Strings are immutable, the length **cannot** be changed, the order **cannot** be changed, **cannot** do in-place sorts and **cannot** do in-place reversals\n",
    "\n",
    "- Lists are mutable, the length can be changed, the order can be changed, can do in-place sorts and can do in-place reversals\n",
    "\n"
   ]
  },
  {
   "cell_type": "markdown",
   "id": "aeb64b02",
   "metadata": {},
   "source": [
    "### Immutability of Tuples\n",
    "\n",
    "elements cannot be added or removed\n",
    "\n",
    "the order of elements cannot be changed\n",
    "\n",
    "works well for representing data structures:\n",
    "\n",
    "- Point(x,y)\n",
    "\n",
    "- Circle(x,y,r)\n",
    "\n",
    "Here, we gave meaning to the position of the elements in the tuple, of its fixed order characteristic\n",
    "\n",
    "\n",
    "\n",
    "### Tuples as Data Records\n",
    "\n",
    "Think of a tuple as a data record where the position of the data has meaning\n",
    "\n",
    "    london = ('London', 'UK', 8_780_000)\n",
    "    new_york = ('New York', 'USA', 8_500_000)\n",
    "\n",
    "Because tuples, strings and integers are immutable, we are guaranteed that the stored data won't change."
   ]
  },
  {
   "cell_type": "code",
   "execution_count": null,
   "id": "6533902b",
   "metadata": {},
   "outputs": [],
   "source": []
  },
  {
   "cell_type": "code",
   "execution_count": null,
   "id": "10178e64",
   "metadata": {},
   "outputs": [],
   "source": []
  },
  {
   "cell_type": "code",
   "execution_count": null,
   "id": "ff479153",
   "metadata": {
    "scrolled": true
   },
   "outputs": [],
   "source": []
  },
  {
   "cell_type": "code",
   "execution_count": null,
   "id": "72511b03",
   "metadata": {},
   "outputs": [],
   "source": []
  },
  {
   "cell_type": "code",
   "execution_count": null,
   "id": "0cf4e51d",
   "metadata": {},
   "outputs": [],
   "source": []
  }
 ],
 "metadata": {
  "kernelspec": {
   "display_name": "Python 3",
   "language": "python",
   "name": "python3"
  },
  "language_info": {
   "codemirror_mode": {
    "name": "ipython",
    "version": 3
   },
   "file_extension": ".py",
   "mimetype": "text/x-python",
   "name": "python",
   "nbconvert_exporter": "python",
   "pygments_lexer": "ipython3",
   "version": "3.9.7"
  }
 },
 "nbformat": 4,
 "nbformat_minor": 5
}
