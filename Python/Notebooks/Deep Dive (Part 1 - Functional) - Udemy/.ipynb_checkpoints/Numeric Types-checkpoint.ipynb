{
 "cells": [
  {
   "cell_type": "markdown",
   "id": "bdc67a90",
   "metadata": {},
   "source": [
    "# Numeric Types "
   ]
  },
  {
   "cell_type": "markdown",
   "id": "65f1a47b",
   "metadata": {},
   "source": [
    "----\n",
    "## Numbers"
   ]
  },
  {
   "cell_type": "markdown",
   "id": "d0eaa606",
   "metadata": {},
   "source": [
    "Integer Numbers. Python Type: int\n",
    "<br>\n",
    "Rational Numbers. Python Type: fractions.Fraction\n",
    "<br>\n",
    "Real Numbers. Python Type: float decimal.Decimal\n",
    "<br>\n",
    "Complex Numbers. Python Type: complex\n",
    "<br>\n",
    "Boolean. "
   ]
  },
  {
   "cell_type": "markdown",
   "id": "f1e05dc9",
   "metadata": {},
   "source": [
    "----\n",
    "## Integer: Data Types"
   ]
  },
  {
   "cell_type": "markdown",
   "id": "76628540",
   "metadata": {},
   "source": [
    "Integers are represented internally using base-2 (binary) digits, not decimal."
   ]
  },
  {
   "cell_type": "markdown",
   "id": "c5a5633f",
   "metadata": {},
   "source": [
    "The int object uses a variable number of bits.\n",
    "<br>\n",
    "Can use 4 bytes (32 bits), 8 bytes (64 bits), 12 bytes (96 bits), etc.\n",
    "<br>\n",
    "Since ints are actually objects, there is a further fixed overhead per integer\n",
    "<br>\n",
    "Theoretically limited only by the amount of memeory available."
   ]
  },
  {
   "cell_type": "code",
   "execution_count": 2,
   "id": "a5823474",
   "metadata": {},
   "outputs": [
    {
     "name": "stdout",
     "output_type": "stream",
     "text": [
      "<class 'int'>\n"
     ]
    }
   ],
   "source": [
    "print(type(100))"
   ]
  },
  {
   "cell_type": "code",
   "execution_count": 3,
   "id": "789d216e",
   "metadata": {},
   "outputs": [],
   "source": [
    "import sys"
   ]
  },
  {
   "cell_type": "code",
   "execution_count": 4,
   "id": "8774b23f",
   "metadata": {},
   "outputs": [
    {
     "data": {
      "text/plain": [
       "24"
      ]
     },
     "execution_count": 4,
     "metadata": {},
     "output_type": "execute_result"
    }
   ],
   "source": [
    "sys.getsizeof(0)"
   ]
  },
  {
   "cell_type": "markdown",
   "id": "2ec67446",
   "metadata": {},
   "source": [
    "Allow us to find out how much memory is used to store a particular value.\n",
    "<br>\n",
    "The result is 24 bytes."
   ]
  },
  {
   "cell_type": "code",
   "execution_count": 5,
   "id": "9e6d42bd",
   "metadata": {},
   "outputs": [
    {
     "data": {
      "text/plain": [
       "28"
      ]
     },
     "execution_count": 5,
     "metadata": {},
     "output_type": "execute_result"
    }
   ],
   "source": [
    "sys.getsizeof(1)"
   ]
  },
  {
   "cell_type": "code",
   "execution_count": 6,
   "id": "3f6f7ed2",
   "metadata": {},
   "outputs": [
    {
     "data": {
      "text/plain": [
       "160"
      ]
     },
     "execution_count": 6,
     "metadata": {},
     "output_type": "execute_result"
    }
   ],
   "source": [
    "sys.getsizeof(2**1000)"
   ]
  },
  {
   "cell_type": "code",
   "execution_count": 7,
   "id": "17ec6589",
   "metadata": {},
   "outputs": [
    {
     "data": {
      "text/plain": [
       "1088"
      ]
     },
     "execution_count": 7,
     "metadata": {},
     "output_type": "execute_result"
    }
   ],
   "source": [
    "(160 - 24) * 8"
   ]
  },
  {
   "cell_type": "markdown",
   "id": "361678cd",
   "metadata": {},
   "source": [
    "We used 1088 bits to store 160 bytes"
   ]
  },
  {
   "cell_type": "code",
   "execution_count": 8,
   "id": "447e7afb",
   "metadata": {},
   "outputs": [],
   "source": [
    "import time"
   ]
  },
  {
   "cell_type": "code",
   "execution_count": 9,
   "id": "c8a4bab3",
   "metadata": {},
   "outputs": [],
   "source": [
    "def calc(a):\n",
    "    for i in range(10000000):\n",
    "        a * 2"
   ]
  },
  {
   "cell_type": "code",
   "execution_count": 10,
   "id": "fa572fb6",
   "metadata": {},
   "outputs": [
    {
     "name": "stdout",
     "output_type": "stream",
     "text": [
      "0.5089969329999349\n"
     ]
    }
   ],
   "source": [
    "start = time.perf_counter()\n",
    "calc(10)\n",
    "end = time.perf_counter()\n",
    "print(end - start)"
   ]
  },
  {
   "cell_type": "code",
   "execution_count": 12,
   "id": "51ae30b2",
   "metadata": {},
   "outputs": [
    {
     "name": "stdout",
     "output_type": "stream",
     "text": [
      "0.8276703349999934\n"
     ]
    }
   ],
   "source": [
    "start = time.perf_counter()\n",
    "calc(2**100)\n",
    "end = time.perf_counter()\n",
    "print(end - start)"
   ]
  },
  {
   "cell_type": "code",
   "execution_count": 13,
   "id": "29ea638c",
   "metadata": {},
   "outputs": [
    {
     "name": "stdout",
     "output_type": "stream",
     "text": [
      "5.805058163000012\n"
     ]
    }
   ],
   "source": [
    "start = time.perf_counter()\n",
    "calc(2**10000)\n",
    "end = time.perf_counter()\n",
    "print(end - start)"
   ]
  },
  {
   "cell_type": "markdown",
   "id": "77fc9cc2",
   "metadata": {},
   "source": [
    "## Integers: Operations"
   ]
  },
  {
   "cell_type": "markdown",
   "id": "71f0889d",
   "metadata": {},
   "source": [
    "First, let's revisit long integer division\n",
    "<br>\n",
    "155 = numerator\n",
    "<br>\n",
    "////\n",
    "<br>\n",
    "4 = denominator\n",
    "<br>\n",
    "155 / 4 = 38 with remainder 3"
   ]
  },
  {
   "cell_type": "markdown",
   "id": "e8db041b",
   "metadata": {},
   "source": [
    "Put another way:\n",
    "<br>\n",
    "155 = 4 * 38 + 3"
   ]
  },
  {
   "cell_type": "code",
   "execution_count": 16,
   "id": "6ccef49f",
   "metadata": {},
   "outputs": [
    {
     "data": {
      "text/plain": [
       "38"
      ]
     },
     "execution_count": 16,
     "metadata": {},
     "output_type": "execute_result"
    }
   ],
   "source": [
    "155 // 4"
   ]
  },
  {
   "cell_type": "markdown",
   "id": "9a6d42c9",
   "metadata": {},
   "source": [
    "Is called the floor division"
   ]
  },
  {
   "cell_type": "code",
   "execution_count": 17,
   "id": "fabc6898",
   "metadata": {},
   "outputs": [
    {
     "data": {
      "text/plain": [
       "3"
      ]
     },
     "execution_count": 17,
     "metadata": {},
     "output_type": "execute_result"
    }
   ],
   "source": [
    "155 % 4"
   ]
  },
  {
   "cell_type": "markdown",
   "id": "e314445b",
   "metadata": {},
   "source": [
    "Is called the modulo operator (mod)"
   ]
  },
  {
   "cell_type": "markdown",
   "id": "32487a40",
   "metadata": {},
   "source": [
    "155 = 4 * (155 // 4) + (155 % 4)"
   ]
  },
  {
   "cell_type": "markdown",
   "id": "b327a308",
   "metadata": {},
   "source": [
    "These operators always satisfy the operation above, which is the next equation:"
   ]
  },
  {
   "cell_type": "markdown",
   "id": "083344e7",
   "metadata": {},
   "source": [
    "n = d * (n // d) + (n % d)"
   ]
  },
  {
   "cell_type": "markdown",
   "id": "d6130463",
   "metadata": {},
   "source": [
    "Let's see the floor division with negative numbers"
   ]
  },
  {
   "cell_type": "markdown",
   "id": "31b89efc",
   "metadata": {},
   "source": [
    "The floor of a real number <b>a</b> is the largest (in the standard number order) integer <= <b>a</b>"
   ]
  },
  {
   "cell_type": "markdown",
   "id": "8ecae864",
   "metadata": {},
   "source": [
    "------O------o----O\n",
    "<br>\n",
    "---- -4 --- -3.1 -3\n",
    "<br>\n",
    "Tip: Floor, in a line where we go from 0 to 100 and 0 to -100, floor will always go for the integer number from the left."
   ]
  },
  {
   "cell_type": "code",
   "execution_count": 23,
   "id": "ed7d66f0",
   "metadata": {},
   "outputs": [
    {
     "data": {
      "text/plain": [
       "-4.0"
      ]
     },
     "execution_count": 23,
     "metadata": {},
     "output_type": "execute_result"
    }
   ],
   "source": [
    "-3.1//1"
   ]
  },
  {
   "cell_type": "markdown",
   "id": "11d9491b",
   "metadata": {},
   "source": [
    "So, floor iis not quite the same as truncation"
   ]
  },
  {
   "cell_type": "code",
   "execution_count": 24,
   "id": "2cfa267c",
   "metadata": {},
   "outputs": [],
   "source": [
    "a = 135\n",
    "b = 4"
   ]
  },
  {
   "cell_type": "code",
   "execution_count": 25,
   "id": "1796a889",
   "metadata": {},
   "outputs": [
    {
     "data": {
      "text/plain": [
       "33.75"
      ]
     },
     "execution_count": 25,
     "metadata": {},
     "output_type": "execute_result"
    }
   ],
   "source": [
    "135 / 4"
   ]
  },
  {
   "cell_type": "code",
   "execution_count": 26,
   "id": "4a8f7aaf",
   "metadata": {},
   "outputs": [
    {
     "data": {
      "text/plain": [
       "33"
      ]
     },
     "execution_count": 26,
     "metadata": {},
     "output_type": "execute_result"
    }
   ],
   "source": [
    "135 // 4 "
   ]
  },
  {
   "cell_type": "code",
   "execution_count": 29,
   "id": "3f602306",
   "metadata": {},
   "outputs": [
    {
     "data": {
      "text/plain": [
       "-34"
      ]
     },
     "execution_count": 29,
     "metadata": {},
     "output_type": "execute_result"
    }
   ],
   "source": [
    "-135 // 4"
   ]
  },
  {
   "cell_type": "code",
   "execution_count": 27,
   "id": "dbebaa19",
   "metadata": {},
   "outputs": [
    {
     "data": {
      "text/plain": [
       "3"
      ]
     },
     "execution_count": 27,
     "metadata": {},
     "output_type": "execute_result"
    }
   ],
   "source": [
    "135 % 4"
   ]
  },
  {
   "cell_type": "code",
   "execution_count": 30,
   "id": "fd22c2b1",
   "metadata": {},
   "outputs": [
    {
     "data": {
      "text/plain": [
       "1"
      ]
     },
     "execution_count": 30,
     "metadata": {},
     "output_type": "execute_result"
    }
   ],
   "source": [
    "-135 % 4"
   ]
  },
  {
   "cell_type": "markdown",
   "id": "94716a89",
   "metadata": {},
   "source": [
    "With the equation:"
   ]
  },
  {
   "cell_type": "code",
   "execution_count": 28,
   "id": "d1b41c4c",
   "metadata": {},
   "outputs": [
    {
     "data": {
      "text/plain": [
       "135"
      ]
     },
     "execution_count": 28,
     "metadata": {},
     "output_type": "execute_result"
    }
   ],
   "source": [
    "4 * (135 // 4) + (135 % 4)"
   ]
  },
  {
   "cell_type": "code",
   "execution_count": 31,
   "id": "4ec87caf",
   "metadata": {},
   "outputs": [
    {
     "data": {
      "text/plain": [
       "-135"
      ]
     },
     "execution_count": 31,
     "metadata": {},
     "output_type": "execute_result"
    }
   ],
   "source": [
    "4 * (-135 // 4) + (-135 % 4)"
   ]
  },
  {
   "cell_type": "code",
   "execution_count": 37,
   "id": "6941c0d5",
   "metadata": {},
   "outputs": [
    {
     "data": {
      "text/plain": [
       "int"
      ]
     },
     "execution_count": 37,
     "metadata": {},
     "output_type": "execute_result"
    }
   ],
   "source": [
    "type(1 + 1)"
   ]
  },
  {
   "cell_type": "code",
   "execution_count": 38,
   "id": "03784c31",
   "metadata": {},
   "outputs": [
    {
     "data": {
      "text/plain": [
       "int"
      ]
     },
     "execution_count": 38,
     "metadata": {},
     "output_type": "execute_result"
    }
   ],
   "source": [
    "type(2 * 4)"
   ]
  },
  {
   "cell_type": "code",
   "execution_count": 39,
   "id": "5395f1da",
   "metadata": {},
   "outputs": [
    {
     "data": {
      "text/plain": [
       "int"
      ]
     },
     "execution_count": 39,
     "metadata": {},
     "output_type": "execute_result"
    }
   ],
   "source": [
    "type(4 - 10)"
   ]
  },
  {
   "cell_type": "code",
   "execution_count": 40,
   "id": "3cb78402",
   "metadata": {},
   "outputs": [
    {
     "data": {
      "text/plain": [
       "int"
      ]
     },
     "execution_count": 40,
     "metadata": {},
     "output_type": "execute_result"
    }
   ],
   "source": [
    "type(3 ** 6)"
   ]
  },
  {
   "cell_type": "code",
   "execution_count": 41,
   "id": "544b0ce7",
   "metadata": {},
   "outputs": [
    {
     "data": {
      "text/plain": [
       "float"
      ]
     },
     "execution_count": 41,
     "metadata": {},
     "output_type": "execute_result"
    }
   ],
   "source": [
    "type(2 / 3)"
   ]
  },
  {
   "cell_type": "code",
   "execution_count": 42,
   "id": "bcba7f14",
   "metadata": {},
   "outputs": [
    {
     "data": {
      "text/plain": [
       "int"
      ]
     },
     "execution_count": 42,
     "metadata": {},
     "output_type": "execute_result"
    }
   ],
   "source": [
    "type( 2 // 3)"
   ]
  },
  {
   "cell_type": "code",
   "execution_count": 43,
   "id": "73ef09be",
   "metadata": {},
   "outputs": [
    {
     "data": {
      "text/plain": [
       "float"
      ]
     },
     "execution_count": 43,
     "metadata": {},
     "output_type": "execute_result"
    }
   ],
   "source": [
    "type(10/2)"
   ]
  },
  {
   "cell_type": "code",
   "execution_count": 53,
   "id": "d1814155",
   "metadata": {},
   "outputs": [],
   "source": [
    "import math"
   ]
  },
  {
   "cell_type": "code",
   "execution_count": 54,
   "id": "3b48bac4",
   "metadata": {},
   "outputs": [
    {
     "data": {
      "text/plain": [
       "3"
      ]
     },
     "execution_count": 54,
     "metadata": {},
     "output_type": "execute_result"
    }
   ],
   "source": [
    "math.floor(3.15)"
   ]
  },
  {
   "cell_type": "code",
   "execution_count": 55,
   "id": "673db6ec",
   "metadata": {},
   "outputs": [
    {
     "data": {
      "text/plain": [
       "3"
      ]
     },
     "execution_count": 55,
     "metadata": {},
     "output_type": "execute_result"
    }
   ],
   "source": [
    "math.floor(3.99999)"
   ]
  },
  {
   "cell_type": "code",
   "execution_count": 65,
   "id": "62710704",
   "metadata": {},
   "outputs": [
    {
     "data": {
      "text/plain": [
       "-145"
      ]
     },
     "execution_count": 65,
     "metadata": {},
     "output_type": "execute_result"
    }
   ],
   "source": [
    "math.floor(-144.41)"
   ]
  },
  {
   "cell_type": "code",
   "execution_count": 68,
   "id": "9f9177e3",
   "metadata": {},
   "outputs": [
    {
     "data": {
      "text/plain": [
       "-3"
      ]
     },
     "execution_count": 68,
     "metadata": {},
     "output_type": "execute_result"
    }
   ],
   "source": [
    "math.floor(-3.0000000000000001)"
   ]
  },
  {
   "cell_type": "markdown",
   "id": "2401543b",
   "metadata": {},
   "source": [
    "Float has a limited position in Python"
   ]
  },
  {
   "cell_type": "code",
   "execution_count": 69,
   "id": "579459c5",
   "metadata": {},
   "outputs": [],
   "source": [
    "a = 33\n",
    "b = 16"
   ]
  },
  {
   "cell_type": "code",
   "execution_count": 72,
   "id": "803f8b52",
   "metadata": {},
   "outputs": [
    {
     "name": "stdout",
     "output_type": "stream",
     "text": [
      "2.0625\n",
      "2\n",
      "2\n"
     ]
    }
   ],
   "source": [
    "print(a/b)\n",
    "print(a // b)\n",
    "print(math.floor(a/b))"
   ]
  },
  {
   "cell_type": "code",
   "execution_count": 73,
   "id": "6a0f0068",
   "metadata": {},
   "outputs": [],
   "source": [
    "a = -33\n",
    "b = 16"
   ]
  },
  {
   "cell_type": "code",
   "execution_count": 74,
   "id": "896a27a0",
   "metadata": {},
   "outputs": [
    {
     "name": "stdout",
     "output_type": "stream",
     "text": [
      "-2.0625\n",
      "-3\n",
      "-3\n"
     ]
    }
   ],
   "source": [
    "print(a/b)\n",
    "print(a // b)\n",
    "print(math.floor(a/b))"
   ]
  },
  {
   "cell_type": "code",
   "execution_count": 75,
   "id": "f7217516",
   "metadata": {},
   "outputs": [
    {
     "name": "stdout",
     "output_type": "stream",
     "text": [
      "-2.0625\n",
      "-3\n",
      "-3\n",
      "-2\n"
     ]
    }
   ],
   "source": [
    "a = -33\n",
    "b = 16\n",
    "print(a/b)\n",
    "print(a // b)\n",
    "print(math.floor(a/b))\n",
    "print(math.trunc(a/b))"
   ]
  },
  {
   "cell_type": "code",
   "execution_count": 76,
   "id": "8d5a8b5e",
   "metadata": {},
   "outputs": [],
   "source": [
    "a = b * (a//b) + (a%b)"
   ]
  },
  {
   "cell_type": "code",
   "execution_count": 78,
   "id": "d86efa8b",
   "metadata": {},
   "outputs": [
    {
     "name": "stdout",
     "output_type": "stream",
     "text": [
      "13/4 = 3.25\n",
      "13//4 = 3\n",
      "13%4 = 1\n",
      "True\n"
     ]
    }
   ],
   "source": [
    "a = 13\n",
    "b = 4\n",
    "print(f'{a}/{b} = {a/b}')\n",
    "print(f'{a}//{b} = {a//b}')\n",
    "print(f'{a}%{b} = {a%b}')\n",
    "print(a == b * (a//b) + (a%b))"
   ]
  },
  {
   "cell_type": "code",
   "execution_count": 79,
   "id": "953a0407",
   "metadata": {},
   "outputs": [
    {
     "name": "stdout",
     "output_type": "stream",
     "text": [
      "-13/4 = -3.25\n",
      "-13//4 = -4\n",
      "-13%4 = 3\n",
      "True\n"
     ]
    }
   ],
   "source": [
    "a = -13\n",
    "b = 4\n",
    "print(f'{a}/{b} = {a/b}')\n",
    "print(f'{a}//{b} = {a//b}')\n",
    "print(f'{a}%{b} = {a%b}')\n",
    "print(a == b * (a//b) + (a%b))"
   ]
  },
  {
   "cell_type": "code",
   "execution_count": 80,
   "id": "0dfa3425",
   "metadata": {},
   "outputs": [
    {
     "name": "stdout",
     "output_type": "stream",
     "text": [
      "13/-4 = -3.25\n",
      "13//-4 = -4\n",
      "13%-4 = -3\n",
      "True\n"
     ]
    }
   ],
   "source": [
    "a = 13\n",
    "b = -4\n",
    "print(f'{a}/{b} = {a/b}')\n",
    "print(f'{a}//{b} = {a//b}')\n",
    "print(f'{a}%{b} = {a%b}')\n",
    "print(a == b * (a//b) + (a%b))"
   ]
  },
  {
   "cell_type": "code",
   "execution_count": 81,
   "id": "5b5c6c99",
   "metadata": {},
   "outputs": [
    {
     "name": "stdout",
     "output_type": "stream",
     "text": [
      "-13/-4 = 3.25\n",
      "-13//-4 = 3\n",
      "-13%-4 = -1\n",
      "True\n"
     ]
    }
   ],
   "source": [
    "a = -13\n",
    "b = -4\n",
    "print(f'{a}/{b} = {a/b}')\n",
    "print(f'{a}//{b} = {a//b}')\n",
    "print(f'{a}%{b} = {a%b}')\n",
    "print(a == b * (a//b) + (a%b))"
   ]
  },
  {
   "cell_type": "markdown",
   "id": "d1ec2d85",
   "metadata": {},
   "source": [
    "---\n",
    "## Integers: Constructors and Bases"
   ]
  },
  {
   "cell_type": "markdown",
   "id": "b7ad6efb",
   "metadata": {},
   "source": [
    "The <b>int</b> class provides multiple constructors\n",
    "<br>\n",
    "a = int(10)\n",
    "<br>\n",
    "a = int(-10)\n",
    "<br>"
   ]
  },
  {
   "cell_type": "markdown",
   "id": "d7aa7f92",
   "metadata": {},
   "source": [
    "Other (numerical) data types are also supported in the argument of the <b>int</b> constructor:\n",
    "<br>\n",
    "a = int(10.9) -> truncation a = 10\n",
    "<br>\n",
    "a = int(-10.9) -> truncation a = -10\n",
    "<br>\n",
    "a = int(True) -> a = 1\n",
    "<br>\n",
    "a = int(Decimal(\"10.9\")) -> truncation a = 10"
   ]
  },
  {
   "cell_type": "markdown",
   "id": "cd52b75c",
   "metadata": {},
   "source": [
    "As well as strings (that can be parsed to a number)\n",
    "<br>\n",
    "a = int(\"10\") -> a = 10"
   ]
  },
  {
   "cell_type": "markdown",
   "id": "87ed449f",
   "metadata": {},
   "source": [
    "### - Number Base"
   ]
  },
  {
   "cell_type": "markdown",
   "id": "f9ea8886",
   "metadata": {},
   "source": [
    "int(\"123\") -> (123)base(10)\n",
    "<br>\n",
    "When used with a string, constructor has an <b>optional second</b> parameter: <b>base</b> (2 <= base <= 36)\n",
    "<br>\n",
    "If base is not specified, the default is base 10 - as the example above.\n",
    "<br>\n",
    "\n",
    "int(\"1010\", 2) -> (10)base(10) \n",
    "\n",
    "<br>\n",
    "\n",
    "int(\"1010\", base=2) -> (10)base(10)\n",
    "\n",
    "<br>\n",
    "\n",
    "int(\"A12F\", base=16) -> (41263)base(10)\n",
    "\n",
    "<br>\n",
    "\n",
    "int(\"a12f\", base=16) -> (41263)base(10)\n",
    "\n",
    "<br>\n",
    "\n",
    "int(\"1010\", base=2) -> (10)base(10)\n",
    "\n",
    "<br>\n",
    "\n",
    "int(\"534\", base=8) -> (348)base(10)\n",
    "\n",
    "<br>\n",
    "\n",
    "int(\"A\", base=11) -> (10)base(10)\n",
    "\n",
    "<br>\n",
    "\n",
    "int(\"B\", 11) ValueError: invalid literal.."
   ]
  },
  {
   "cell_type": "markdown",
   "id": "0df2403a",
   "metadata": {},
   "source": [
    "### - Reverse Process: changing an integer from base 10 to another base\n",
    "<br>\n",
    "\n",
    "built-in functions:\n",
    "\n",
    "<br>\n",
    "\n",
    "- bin()  bin(10) -> '0b1010'\n",
    "- oct()  oct(10) -> '0o12'\n",
    "- hex()  hex(10) -> '0xa'\n",
    "\n",
    "<br>\n",
    "\n",
    "The prefixes in the strings help document the base of the number: int('0xA', 16) -> (10)base(10)\n",
    "<br>\n",
    "These prefixes are consistent with literal integers using a base prefix (no strings attached)\n",
    "\n",
    "<br>\n",
    "- a = 0b1010 a -> 10\n",
    "- a = 0o12 a -> 10\n",
    "- a = 0xA a -> 10\n",
    "<br>"
   ]
  },
  {
   "cell_type": "markdown",
   "id": "fc4d875b",
   "metadata": {},
   "source": [
    "### - What about other bases? Custom code"
   ]
  },
  {
   "cell_type": "markdown",
   "id": "13ff372f",
   "metadata": {},
   "source": [
    "<b>n</b>: number(base 10)\n",
    "<br>\n",
    "<b>b</b>: base (target base)\n",
    "    "
   ]
  },
  {
   "cell_type": "markdown",
   "id": "a806e24c",
   "metadata": {},
   "source": [
    "n = b * (n // b) + n % b\n",
    "<br>\n",
    "-> n= (n // b) * b + n % b"
   ]
  },
  {
   "cell_type": "code",
   "execution_count": 2,
   "id": "ac2b8d32",
   "metadata": {},
   "outputs": [],
   "source": [
    "n = 232\n",
    "b = 5"
   ]
  },
  {
   "cell_type": "markdown",
   "id": "efc5ff24",
   "metadata": {},
   "source": [
    "We are giving the number a different representation of a number. It's always a binary number insider our computer"
   ]
  },
  {
   "cell_type": "markdown",
   "id": "dfdf86fa",
   "metadata": {},
   "source": [
    "We want to know what number in base 5 is 232.\n",
    "<br>\n",
    "Could be:\n",
    "- 5^3\n",
    "- 5^2\n",
    "- 5^1\n",
    "- 5^0"
   ]
  },
  {
   "cell_type": "markdown",
   "id": "f95e9498",
   "metadata": {},
   "source": [
    "        232 = (232 // 5) * 5 + 232 % 5 = 46 * 5 + 2\n",
    "        <br>\n",
    "        = [46 * 5^1] + [2 * 5^0]      -> 5^1 = 46 which is too big for base 5\n",
    "        <br>\n",
    "        = [((46 // 5) * 5 + 46 % 5) * 5^1] + [2 * 5^0]\n",
    "        <br>\n",
    "        = [(9 * 5 + 1) * 5^1] + [2 * 5^0]     -> 5^2 = 9 which is too big for base 5\n",
    "        <br>\n",
    "        = [((9 // 5) * 5 + 9 % 5) * 5^2] + [1 + 5^1] + [2 * 5^0]\n",
    "        <br>\n",
    "        = [(1 * 5 + 4) * 5 ^2 ] + [1 * 5^1] + [2 * 5^0]\n",
    "        <br>\n",
    "        = [1 * 5^3] + [4 * 5^2] + [1 * 5^1] + [2 * 5^0]    -> 5^3 = 1 whis is ok.\n",
    "        \n",
    "        <br>\n",
    "        The above is: \n",
    "        div + 3rd mod + 2nd mod + 1st mod\n",
    "        \n",
    "        - 5^3 = 1\n",
    "        - 5^2 = 4\n",
    "        - 5^1 = 1\n",
    "        - 5^0 = 2"
   ]
  },
  {
   "cell_type": "markdown",
   "id": "cea960b1",
   "metadata": {},
   "source": [
    "### - Base Change Algorithm\n",
    "n = base-10 number (>=0)   b = base (>=2)\n",
    "<br>\n",
    "if b<2 or n<0: raise exception\n",
    "<br>\n",
    "if n == 0: return [0]\n",
    "<br>\n",
    "digits = [ ]\n",
    "<br>\n",
    "while n > 0:\n",
    "<br>\n",
    "    m = n % b\n",
    "    <br>\n",
    "    n = n//b\n",
    "    <br>\n",
    "    digits.insert(0,m)\n",
    "    \n",
    "<br>\n",
    "Example: n = 232, b = 5\n",
    "<br>\n",
    "digits = [1,4,1,2]\n",
    "<br>\n",
    "Example 2: n = 1485, b = 16\n",
    "<br>\n",
    "digits = [5,12,13]\n",
    "<br>\n",
    "\n",
    "This algorithm retursn a list of the digits in the specified base b (a representation of nbase10 in base b)\n",
    "<br>\n",
    "Usually we want to return an encoded number where digits higher than 9 use letters such as A-Z\n",
    "<br>\n",
    "We simply need to decide what character to use for the various digits in the base\n"
   ]
  },
  {
   "cell_type": "markdown",
   "id": "85e22120",
   "metadata": {},
   "source": [
    "### - Encodings\n",
    "Typically, we use 0-9 and A-Z for digits required in bases higher than 10.\n",
    "\n",
    "But we don't have to use letters or even statndar 0-9 digits to encode our number.\n",
    "\n",
    "We just need to map between the digits in our number, to a character of our choice.\n",
    "\n",
    "0 ->0\n",
    "\n",
    "1 -> 1\n",
    "\n",
    "0 -> a\n",
    "...\n",
    "36 -> *\n",
    "\n",
    "Python uses 0-9 and a-z(case insenstive) and is therefore limited to base <= 36\n",
    "\n",
    "The simples way to do this given a list of digits to encode, is to create a string with as many characaters as needed, and use their index(ordinal pos) for our encoding map.\n",
    "\n",
    "base b (>=2)\n",
    "<br>\n",
    "map = '...' (of length b)\n",
    "<br>\n",
    "digits = [...]\n",
    "<br>\n",
    "encoding = map[digits[0]] + map[digits[1]] + ...\n",
    "<br>\n",
    "Example: Base 12\n",
    "\n",
    "map = '0123456789ABC'\n",
    "<br>\n",
    "digits = [4,11,3,12]\n",
    "<br>\n",
    "encoding = '4B3C'\n"
   ]
  },
  {
   "cell_type": "markdown",
   "id": "48e61b01",
   "metadata": {},
   "source": [
    "### - Encoding Algorithm\n",
    "digits = [...]\n",
    "<br>\n",
    "map = '...'\n",
    "<br>\n",
    "encoding = ''\n",
    "<br>\n",
    "for d in digits:\n",
    "<br>\n",
    "    encoding += map[d]\n",
    "    \n",
    "or, more simply\n",
    "\n",
    "enconding = ''.join([map[d] for d in digits])"
   ]
  },
  {
   "cell_type": "code",
   "execution_count": 3,
   "id": "8afef81a",
   "metadata": {},
   "outputs": [
    {
     "data": {
      "text/plain": [
       "int"
      ]
     },
     "execution_count": 3,
     "metadata": {},
     "output_type": "execute_result"
    }
   ],
   "source": [
    "type(10)"
   ]
  },
  {
   "cell_type": "code",
   "execution_count": 4,
   "id": "1f90b923",
   "metadata": {},
   "outputs": [
    {
     "name": "stdout",
     "output_type": "stream",
     "text": [
      "Help on class int in module builtins:\n",
      "\n",
      "class int(object)\n",
      " |  int([x]) -> integer\n",
      " |  int(x, base=10) -> integer\n",
      " |  \n",
      " |  Convert a number or string to an integer, or return 0 if no arguments\n",
      " |  are given.  If x is a number, return x.__int__().  For floating point\n",
      " |  numbers, this truncates towards zero.\n",
      " |  \n",
      " |  If x is not a number or if base is given, then x must be a string,\n",
      " |  bytes, or bytearray instance representing an integer literal in the\n",
      " |  given base.  The literal can be preceded by '+' or '-' and be surrounded\n",
      " |  by whitespace.  The base defaults to 10.  Valid bases are 0 and 2-36.\n",
      " |  Base 0 means to interpret the base from the string as an integer literal.\n",
      " |  >>> int('0b100', base=0)\n",
      " |  4\n",
      " |  \n",
      " |  Built-in subclasses:\n",
      " |      bool\n",
      " |  \n",
      " |  Methods defined here:\n",
      " |  \n",
      " |  __abs__(self, /)\n",
      " |      abs(self)\n",
      " |  \n",
      " |  __add__(self, value, /)\n",
      " |      Return self+value.\n",
      " |  \n",
      " |  __and__(self, value, /)\n",
      " |      Return self&value.\n",
      " |  \n",
      " |  __bool__(self, /)\n",
      " |      self != 0\n",
      " |  \n",
      " |  __ceil__(...)\n",
      " |      Ceiling of an Integral returns itself.\n",
      " |  \n",
      " |  __divmod__(self, value, /)\n",
      " |      Return divmod(self, value).\n",
      " |  \n",
      " |  __eq__(self, value, /)\n",
      " |      Return self==value.\n",
      " |  \n",
      " |  __float__(self, /)\n",
      " |      float(self)\n",
      " |  \n",
      " |  __floor__(...)\n",
      " |      Flooring an Integral returns itself.\n",
      " |  \n",
      " |  __floordiv__(self, value, /)\n",
      " |      Return self//value.\n",
      " |  \n",
      " |  __format__(self, format_spec, /)\n",
      " |      Default object formatter.\n",
      " |  \n",
      " |  __ge__(self, value, /)\n",
      " |      Return self>=value.\n",
      " |  \n",
      " |  __getattribute__(self, name, /)\n",
      " |      Return getattr(self, name).\n",
      " |  \n",
      " |  __getnewargs__(self, /)\n",
      " |  \n",
      " |  __gt__(self, value, /)\n",
      " |      Return self>value.\n",
      " |  \n",
      " |  __hash__(self, /)\n",
      " |      Return hash(self).\n",
      " |  \n",
      " |  __index__(self, /)\n",
      " |      Return self converted to an integer, if self is suitable for use as an index into a list.\n",
      " |  \n",
      " |  __int__(self, /)\n",
      " |      int(self)\n",
      " |  \n",
      " |  __invert__(self, /)\n",
      " |      ~self\n",
      " |  \n",
      " |  __le__(self, value, /)\n",
      " |      Return self<=value.\n",
      " |  \n",
      " |  __lshift__(self, value, /)\n",
      " |      Return self<<value.\n",
      " |  \n",
      " |  __lt__(self, value, /)\n",
      " |      Return self<value.\n",
      " |  \n",
      " |  __mod__(self, value, /)\n",
      " |      Return self%value.\n",
      " |  \n",
      " |  __mul__(self, value, /)\n",
      " |      Return self*value.\n",
      " |  \n",
      " |  __ne__(self, value, /)\n",
      " |      Return self!=value.\n",
      " |  \n",
      " |  __neg__(self, /)\n",
      " |      -self\n",
      " |  \n",
      " |  __or__(self, value, /)\n",
      " |      Return self|value.\n",
      " |  \n",
      " |  __pos__(self, /)\n",
      " |      +self\n",
      " |  \n",
      " |  __pow__(self, value, mod=None, /)\n",
      " |      Return pow(self, value, mod).\n",
      " |  \n",
      " |  __radd__(self, value, /)\n",
      " |      Return value+self.\n",
      " |  \n",
      " |  __rand__(self, value, /)\n",
      " |      Return value&self.\n",
      " |  \n",
      " |  __rdivmod__(self, value, /)\n",
      " |      Return divmod(value, self).\n",
      " |  \n",
      " |  __repr__(self, /)\n",
      " |      Return repr(self).\n",
      " |  \n",
      " |  __rfloordiv__(self, value, /)\n",
      " |      Return value//self.\n",
      " |  \n",
      " |  __rlshift__(self, value, /)\n",
      " |      Return value<<self.\n",
      " |  \n",
      " |  __rmod__(self, value, /)\n",
      " |      Return value%self.\n",
      " |  \n",
      " |  __rmul__(self, value, /)\n",
      " |      Return value*self.\n",
      " |  \n",
      " |  __ror__(self, value, /)\n",
      " |      Return value|self.\n",
      " |  \n",
      " |  __round__(...)\n",
      " |      Rounding an Integral returns itself.\n",
      " |      Rounding with an ndigits argument also returns an integer.\n",
      " |  \n",
      " |  __rpow__(self, value, mod=None, /)\n",
      " |      Return pow(value, self, mod).\n",
      " |  \n",
      " |  __rrshift__(self, value, /)\n",
      " |      Return value>>self.\n",
      " |  \n",
      " |  __rshift__(self, value, /)\n",
      " |      Return self>>value.\n",
      " |  \n",
      " |  __rsub__(self, value, /)\n",
      " |      Return value-self.\n",
      " |  \n",
      " |  __rtruediv__(self, value, /)\n",
      " |      Return value/self.\n",
      " |  \n",
      " |  __rxor__(self, value, /)\n",
      " |      Return value^self.\n",
      " |  \n",
      " |  __sizeof__(self, /)\n",
      " |      Returns size in memory, in bytes.\n",
      " |  \n",
      " |  __sub__(self, value, /)\n",
      " |      Return self-value.\n",
      " |  \n",
      " |  __truediv__(self, value, /)\n",
      " |      Return self/value.\n",
      " |  \n",
      " |  __trunc__(...)\n",
      " |      Truncating an Integral returns itself.\n",
      " |  \n",
      " |  __xor__(self, value, /)\n",
      " |      Return self^value.\n",
      " |  \n",
      " |  as_integer_ratio(self, /)\n",
      " |      Return integer ratio.\n",
      " |      \n",
      " |      Return a pair of integers, whose ratio is exactly equal to the original int\n",
      " |      and with a positive denominator.\n",
      " |      \n",
      " |      >>> (10).as_integer_ratio()\n",
      " |      (10, 1)\n",
      " |      >>> (-10).as_integer_ratio()\n",
      " |      (-10, 1)\n",
      " |      >>> (0).as_integer_ratio()\n",
      " |      (0, 1)\n",
      " |  \n",
      " |  bit_length(self, /)\n",
      " |      Number of bits necessary to represent self in binary.\n",
      " |      \n",
      " |      >>> bin(37)\n",
      " |      '0b100101'\n",
      " |      >>> (37).bit_length()\n",
      " |      6\n",
      " |  \n",
      " |  conjugate(...)\n",
      " |      Returns self, the complex conjugate of any int.\n",
      " |  \n",
      " |  to_bytes(self, /, length, byteorder, *, signed=False)\n",
      " |      Return an array of bytes representing an integer.\n",
      " |      \n",
      " |      length\n",
      " |        Length of bytes object to use.  An OverflowError is raised if the\n",
      " |        integer is not representable with the given number of bytes.\n",
      " |      byteorder\n",
      " |        The byte order used to represent the integer.  If byteorder is 'big',\n",
      " |        the most significant byte is at the beginning of the byte array.  If\n",
      " |        byteorder is 'little', the most significant byte is at the end of the\n",
      " |        byte array.  To request the native byte order of the host system, use\n",
      " |        `sys.byteorder' as the byte order value.\n",
      " |      signed\n",
      " |        Determines whether two's complement is used to represent the integer.\n",
      " |        If signed is False and a negative integer is given, an OverflowError\n",
      " |        is raised.\n",
      " |  \n",
      " |  ----------------------------------------------------------------------\n",
      " |  Class methods defined here:\n",
      " |  \n",
      " |  from_bytes(bytes, byteorder, *, signed=False) from builtins.type\n",
      " |      Return the integer represented by the given array of bytes.\n",
      " |      \n",
      " |      bytes\n",
      " |        Holds the array of bytes to convert.  The argument must either\n",
      " |        support the buffer protocol or be an iterable object producing bytes.\n",
      " |        Bytes and bytearray are examples of built-in objects that support the\n",
      " |        buffer protocol.\n",
      " |      byteorder\n",
      " |        The byte order used to represent the integer.  If byteorder is 'big',\n",
      " |        the most significant byte is at the beginning of the byte array.  If\n",
      " |        byteorder is 'little', the most significant byte is at the end of the\n",
      " |        byte array.  To request the native byte order of the host system, use\n",
      " |        `sys.byteorder' as the byte order value.\n",
      " |      signed\n",
      " |        Indicates whether two's complement is used to represent the integer.\n",
      " |  \n",
      " |  ----------------------------------------------------------------------\n",
      " |  Static methods defined here:\n",
      " |  \n",
      " |  __new__(*args, **kwargs) from builtins.type\n",
      " |      Create and return a new object.  See help(type) for accurate signature.\n",
      " |  \n",
      " |  ----------------------------------------------------------------------\n",
      " |  Data descriptors defined here:\n",
      " |  \n",
      " |  denominator\n",
      " |      the denominator of a rational number in lowest terms\n",
      " |  \n",
      " |  imag\n",
      " |      the imaginary part of a complex number\n",
      " |  \n",
      " |  numerator\n",
      " |      the numerator of a rational number in lowest terms\n",
      " |  \n",
      " |  real\n",
      " |      the real part of a complex number\n",
      "\n"
     ]
    }
   ],
   "source": [
    "help(int)"
   ]
  },
  {
   "cell_type": "code",
   "execution_count": 6,
   "id": "10dded38",
   "metadata": {},
   "outputs": [
    {
     "data": {
      "text/plain": [
       "10"
      ]
     },
     "execution_count": 6,
     "metadata": {},
     "output_type": "execute_result"
    }
   ],
   "source": [
    "int(10.5)"
   ]
  },
  {
   "cell_type": "code",
   "execution_count": 7,
   "id": "842b7bcd",
   "metadata": {},
   "outputs": [
    {
     "data": {
      "text/plain": [
       "23"
      ]
     },
     "execution_count": 7,
     "metadata": {},
     "output_type": "execute_result"
    }
   ],
   "source": [
    "int('23')"
   ]
  },
  {
   "cell_type": "code",
   "execution_count": 8,
   "id": "d6db1061",
   "metadata": {},
   "outputs": [
    {
     "data": {
      "text/plain": [
       "1"
      ]
     },
     "execution_count": 8,
     "metadata": {},
     "output_type": "execute_result"
    }
   ],
   "source": [
    "int(True)"
   ]
  },
  {
   "cell_type": "code",
   "execution_count": 9,
   "id": "2b3c468d",
   "metadata": {},
   "outputs": [
    {
     "data": {
      "text/plain": [
       "0"
      ]
     },
     "execution_count": 9,
     "metadata": {},
     "output_type": "execute_result"
    }
   ],
   "source": [
    "int(False)"
   ]
  },
  {
   "cell_type": "code",
   "execution_count": 10,
   "id": "ad6849b0",
   "metadata": {},
   "outputs": [],
   "source": [
    "import fractions"
   ]
  },
  {
   "cell_type": "code",
   "execution_count": 12,
   "id": "075ad234",
   "metadata": {},
   "outputs": [],
   "source": [
    "a = fractions.Fraction(22,7)"
   ]
  },
  {
   "cell_type": "code",
   "execution_count": 13,
   "id": "8d45fe20",
   "metadata": {},
   "outputs": [
    {
     "data": {
      "text/plain": [
       "Fraction(22, 7)"
      ]
     },
     "execution_count": 13,
     "metadata": {},
     "output_type": "execute_result"
    }
   ],
   "source": [
    "a"
   ]
  },
  {
   "cell_type": "code",
   "execution_count": 14,
   "id": "4d38e4aa",
   "metadata": {},
   "outputs": [
    {
     "name": "stdout",
     "output_type": "stream",
     "text": [
      "22/7\n"
     ]
    }
   ],
   "source": [
    "print(a)"
   ]
  },
  {
   "cell_type": "code",
   "execution_count": 15,
   "id": "d9d07970",
   "metadata": {},
   "outputs": [
    {
     "data": {
      "text/plain": [
       "3.142857142857143"
      ]
     },
     "execution_count": 15,
     "metadata": {},
     "output_type": "execute_result"
    }
   ],
   "source": [
    "float(a)"
   ]
  },
  {
   "cell_type": "code",
   "execution_count": 16,
   "id": "3966c2ce",
   "metadata": {},
   "outputs": [
    {
     "data": {
      "text/plain": [
       "3"
      ]
     },
     "execution_count": 16,
     "metadata": {},
     "output_type": "execute_result"
    }
   ],
   "source": [
    "int(a)"
   ]
  },
  {
   "cell_type": "code",
   "execution_count": 17,
   "id": "0d79edc4",
   "metadata": {},
   "outputs": [
    {
     "data": {
      "text/plain": [
       "12345"
      ]
     },
     "execution_count": 17,
     "metadata": {},
     "output_type": "execute_result"
    }
   ],
   "source": [
    "int('12345')"
   ]
  },
  {
   "cell_type": "code",
   "execution_count": 18,
   "id": "599d93b5",
   "metadata": {},
   "outputs": [
    {
     "data": {
      "text/plain": [
       "5"
      ]
     },
     "execution_count": 18,
     "metadata": {},
     "output_type": "execute_result"
    }
   ],
   "source": [
    "int('101', 2)"
   ]
  },
  {
   "cell_type": "code",
   "execution_count": 19,
   "id": "41572946",
   "metadata": {},
   "outputs": [
    {
     "data": {
      "text/plain": [
       "255"
      ]
     },
     "execution_count": 19,
     "metadata": {},
     "output_type": "execute_result"
    }
   ],
   "source": [
    "int('FF', 16)"
   ]
  },
  {
   "cell_type": "code",
   "execution_count": 20,
   "id": "7d9aff33",
   "metadata": {},
   "outputs": [
    {
     "data": {
      "text/plain": [
       "255"
      ]
     },
     "execution_count": 20,
     "metadata": {},
     "output_type": "execute_result"
    }
   ],
   "source": [
    "int('ff', 16)"
   ]
  },
  {
   "cell_type": "code",
   "execution_count": 21,
   "id": "6e920cfb",
   "metadata": {},
   "outputs": [
    {
     "data": {
      "text/plain": [
       "10"
      ]
     },
     "execution_count": 21,
     "metadata": {},
     "output_type": "execute_result"
    }
   ],
   "source": [
    "int('A', 11)"
   ]
  },
  {
   "cell_type": "code",
   "execution_count": 22,
   "id": "0ea8d6d2",
   "metadata": {},
   "outputs": [
    {
     "ename": "ValueError",
     "evalue": "invalid literal for int() with base 11: 'B'",
     "output_type": "error",
     "traceback": [
      "\u001b[0;31m---------------------------------------------------------------------------\u001b[0m",
      "\u001b[0;31mValueError\u001b[0m                                Traceback (most recent call last)",
      "\u001b[0;32m<ipython-input-22-6579532e627d>\u001b[0m in \u001b[0;36m<module>\u001b[0;34m\u001b[0m\n\u001b[0;32m----> 1\u001b[0;31m \u001b[0mint\u001b[0m\u001b[0;34m(\u001b[0m\u001b[0;34m'B'\u001b[0m\u001b[0;34m,\u001b[0m \u001b[0;36m11\u001b[0m\u001b[0;34m)\u001b[0m\u001b[0;34m\u001b[0m\u001b[0;34m\u001b[0m\u001b[0m\n\u001b[0m",
      "\u001b[0;31mValueError\u001b[0m: invalid literal for int() with base 11: 'B'"
     ]
    }
   ],
   "source": [
    "int('B', 11)"
   ]
  },
  {
   "cell_type": "code",
   "execution_count": 23,
   "id": "a0b8c617",
   "metadata": {},
   "outputs": [
    {
     "data": {
      "text/plain": [
       "'0b1010'"
      ]
     },
     "execution_count": 23,
     "metadata": {},
     "output_type": "execute_result"
    }
   ],
   "source": [
    "bin(10)"
   ]
  },
  {
   "cell_type": "code",
   "execution_count": 24,
   "id": "a99ab05f",
   "metadata": {},
   "outputs": [
    {
     "data": {
      "text/plain": [
       "'0b101'"
      ]
     },
     "execution_count": 24,
     "metadata": {},
     "output_type": "execute_result"
    }
   ],
   "source": [
    "bin(5)"
   ]
  },
  {
   "cell_type": "code",
   "execution_count": 25,
   "id": "edc99003",
   "metadata": {},
   "outputs": [
    {
     "data": {
      "text/plain": [
       "'0o12'"
      ]
     },
     "execution_count": 25,
     "metadata": {},
     "output_type": "execute_result"
    }
   ],
   "source": [
    "oct(10)"
   ]
  },
  {
   "cell_type": "code",
   "execution_count": 26,
   "id": "8e70549f",
   "metadata": {},
   "outputs": [
    {
     "data": {
      "text/plain": [
       "'0xff'"
      ]
     },
     "execution_count": 26,
     "metadata": {},
     "output_type": "execute_result"
    }
   ],
   "source": [
    "hex(255)"
   ]
  },
  {
   "cell_type": "code",
   "execution_count": 27,
   "id": "08304035",
   "metadata": {},
   "outputs": [],
   "source": [
    "a = int('101',2)\n",
    "#instead, we can say\n",
    "b = 0b101"
   ]
  },
  {
   "cell_type": "code",
   "execution_count": 28,
   "id": "dc8dff8f",
   "metadata": {},
   "outputs": [
    {
     "data": {
      "text/plain": [
       "5"
      ]
     },
     "execution_count": 28,
     "metadata": {},
     "output_type": "execute_result"
    }
   ],
   "source": [
    "a"
   ]
  },
  {
   "cell_type": "code",
   "execution_count": 29,
   "id": "484af3c1",
   "metadata": {},
   "outputs": [
    {
     "data": {
      "text/plain": [
       "5"
      ]
     },
     "execution_count": 29,
     "metadata": {},
     "output_type": "execute_result"
    }
   ],
   "source": [
    "b"
   ]
  },
  {
   "cell_type": "code",
   "execution_count": 50,
   "id": "c6349940",
   "metadata": {},
   "outputs": [],
   "source": [
    "def from_base10(n,b): #convert from base 10 to any other base\n",
    "    if b < 2:\n",
    "        raise ValueError('Base b must be >= 2')\n",
    "    if n < 0:\n",
    "        raise ValueError('Number n must be >= 0')\n",
    "    if n == 0:\n",
    "        return [0]\n",
    "    digits = []\n",
    "    while n > 0:\n",
    "        #an option:\n",
    "#        m,n = n % b, n // b\n",
    "        #another equivalent way\n",
    "        n,m = divmod(n,b)\n",
    "#        print(f'n: {n}, m: {m}')\n",
    "        digits.insert(0,m)\n",
    " #       print(digits)\n",
    "    return digits"
   ]
  },
  {
   "cell_type": "code",
   "execution_count": 51,
   "id": "71efc3e2",
   "metadata": {},
   "outputs": [
    {
     "data": {
      "text/plain": [
       "[1, 0, 1, 0]"
      ]
     },
     "execution_count": 51,
     "metadata": {},
     "output_type": "execute_result"
    }
   ],
   "source": [
    "from_base10(10,2)"
   ]
  },
  {
   "cell_type": "code",
   "execution_count": 52,
   "id": "b991e0cf",
   "metadata": {},
   "outputs": [
    {
     "data": {
      "text/plain": [
       "[15, 15]"
      ]
     },
     "execution_count": 52,
     "metadata": {},
     "output_type": "execute_result"
    }
   ],
   "source": [
    "from_base10(255,16)"
   ]
  },
  {
   "cell_type": "code",
   "execution_count": 53,
   "id": "9e8b6d03",
   "metadata": {},
   "outputs": [],
   "source": [
    "def encode(digits, digit_map):\n",
    "    if max(digits) >= len(digit_map):\n",
    "        raise ValueError('digit_map is not long enought to encode the digits')\n",
    "    return ''.join([digit_map[d] for d in digits])"
   ]
  },
  {
   "cell_type": "code",
   "execution_count": 54,
   "id": "bf186ea7",
   "metadata": {},
   "outputs": [
    {
     "data": {
      "text/plain": [
       "'FF'"
      ]
     },
     "execution_count": 54,
     "metadata": {},
     "output_type": "execute_result"
    }
   ],
   "source": [
    "encode([15,15], '0123456789ABCDEF')"
   ]
  },
  {
   "cell_type": "code",
   "execution_count": 58,
   "id": "d338ecfa",
   "metadata": {},
   "outputs": [],
   "source": [
    "def rebase_from10(number, base):\n",
    "    digit_map = '0123456789ABCDEFGHIJKLMNOPRSTUVWXYZ'\n",
    "    if base < 2 or base > 36:\n",
    "        raise ValueError('Invalid base: 2 <= base <= 36')\n",
    "    sign = -1 if number < 0 else 1\n",
    "    number *= sign\n",
    "    digits = from_base10(number,base)\n",
    "    encoding = encode(digits, digit_map)\n",
    "    return '-'+encoding if sign == -1 else encoding"
   ]
  },
  {
   "cell_type": "code",
   "execution_count": 59,
   "id": "f595c620",
   "metadata": {},
   "outputs": [
    {
     "name": "stdout",
     "output_type": "stream",
     "text": [
      "1010\n",
      "10\n"
     ]
    }
   ],
   "source": [
    "e = rebase_from10(10,2)\n",
    "print(e)\n",
    "print(int(e,2))"
   ]
  },
  {
   "cell_type": "code",
   "execution_count": 60,
   "id": "13443ea8",
   "metadata": {},
   "outputs": [
    {
     "name": "stdout",
     "output_type": "stream",
     "text": [
      "D7B\n",
      "3451\n"
     ]
    }
   ],
   "source": [
    "e = rebase_from10(3451, 16)\n",
    "print(e)\n",
    "print(int(e,16))"
   ]
  },
  {
   "cell_type": "code",
   "execution_count": 63,
   "id": "cf852fff",
   "metadata": {},
   "outputs": [
    {
     "name": "stdout",
     "output_type": "stream",
     "text": [
      "-100111010\n",
      "-314\n"
     ]
    }
   ],
   "source": [
    "e = rebase_from10(-314, 2)\n",
    "print(e)\n",
    "print(int(e,2))"
   ]
  },
  {
   "cell_type": "markdown",
   "id": "a239448b",
   "metadata": {},
   "source": [
    "----\n",
    "## Rational numbers\n",
    "\n",
    "Rational numbers are fractions of integer numbers\n",
    "\n",
    "Any real number with a finite number of digits after the decimal point is also a rational nummber\n",
    "\n",
    "So, 8.3 / 4 is also rational\n",
    "\n",
    "as is 8.3/1.4\n",
    "\n"
   ]
  },
  {
   "cell_type": "markdown",
   "id": "c626a1dd",
   "metadata": {},
   "source": [
    "Rational numbers can be repreented in Python using Fraction class in the fractions module\n",
    "\n",
    "Fractions are automatically reduced\n",
    "\n",
    "Negative sign, if any, is always attached to the numerator\n",
    "<br>\n",
    "Fraction(1,-4) - > Fraction(-1,4)\n"
   ]
  },
  {
   "cell_type": "markdown",
   "id": "1d99a973",
   "metadata": {},
   "source": [
    "Fraction(numerator = 0, denominator = 1) *default values 0 and 1\n",
    "\n",
    "\n",
    "Fraction('10') = Fraction (10,1)\n",
    "<br>\n",
    "Fraaction('0.25') = Fraction(1,1)\n",
    "<br>\n",
    "Fraction('1/6') = Fraction(1,6)\n",
    "\n",
    "Standard artihmetic operators are supported: +,-,*,/ \n",
    "and result in Fraction objects as well"
   ]
  },
  {
   "cell_type": "markdown",
   "id": "6b62cf07",
   "metadata": {},
   "source": [
    "We can access the numerator and denomitaro of Fraction objetcts:\n",
    "\n",
    "x = Fraction(22,7)\n",
    "<br>\n",
    "x.numerator = 22\n",
    "<br>\n",
    "x.denominator = 7"
   ]
  },
  {
   "cell_type": "markdown",
   "id": "24e672a7",
   "metadata": {},
   "source": [
    "Every number we can store in the computer is finite, also <b>float</b> objects have <b>finite</b> precision.\n",
    "\n",
    "Any float object can be written as a fraction.\n",
    "\n",
    "Fraction(0.75) - > Fraction(3,4)\n",
    "\n",
    "### - Irrational numbers\n",
    "\n",
    "x = Fraction(math.pi) - > Fraction(884279..., 2814749...)\n",
    "<br>\n",
    "Event though <b>π</b> and <b>√2</b>  irrational:\n",
    "<br>\n",
    "- internally represented as floats\n",
    "- finite precision real numbers\n",
    "- expressible as a rational numbers\n",
    "\n",
    "**but is an aproxximation**"
   ]
  },
  {
   "cell_type": "markdown",
   "id": "abdbdc86",
   "metadata": {},
   "source": [
    "### - Converting a float to a Fraction has an important caveat\n",
    "\n",
    "What happens when we do not have the exact float representation?\n",
    "<br>\n",
    "Example: 3/10 = 0.33333333....\n",
    "\n",
    "So, we are going to have an approximation."
   ]
  },
  {
   "cell_type": "markdown",
   "id": "818d33a5",
   "metadata": {},
   "source": [
    "### Constraining the denominator\n",
    "Given a Fraction object, we can find an approximate equivalent fraction with a constrained denominator using *limit_denominator(max_denominator=100000)* instance method.\n",
    "\n",
    "i.e. finds the closes rational (which coud be a precisely equal) with a denominator that does not exceed *max_denominator*"
   ]
  },
  {
   "cell_type": "code",
   "execution_count": 64,
   "id": "92abb764",
   "metadata": {},
   "outputs": [],
   "source": [
    "from fractions import Fraction"
   ]
  },
  {
   "cell_type": "code",
   "execution_count": 66,
   "id": "974c6634",
   "metadata": {},
   "outputs": [
    {
     "name": "stdout",
     "output_type": "stream",
     "text": [
      "Help on module fractions:\n",
      "\n",
      "NAME\n",
      "    fractions - Fraction, infinite-precision, real numbers.\n",
      "\n",
      "CLASSES\n",
      "    numbers.Rational(numbers.Real)\n",
      "        Fraction\n",
      "    \n",
      "    class Fraction(numbers.Rational)\n",
      "     |  Fraction(numerator=0, denominator=None, *, _normalize=True)\n",
      "     |  \n",
      "     |  This class implements rational numbers.\n",
      "     |  \n",
      "     |  In the two-argument form of the constructor, Fraction(8, 6) will\n",
      "     |  produce a rational number equivalent to 4/3. Both arguments must\n",
      "     |  be Rational. The numerator defaults to 0 and the denominator\n",
      "     |  defaults to 1 so that Fraction(3) == 3 and Fraction() == 0.\n",
      "     |  \n",
      "     |  Fractions can also be constructed from:\n",
      "     |  \n",
      "     |    - numeric strings similar to those accepted by the\n",
      "     |      float constructor (for example, '-2.3' or '1e10')\n",
      "     |  \n",
      "     |    - strings of the form '123/456'\n",
      "     |  \n",
      "     |    - float and Decimal instances\n",
      "     |  \n",
      "     |    - other Rational instances (including integers)\n",
      "     |  \n",
      "     |  Method resolution order:\n",
      "     |      Fraction\n",
      "     |      numbers.Rational\n",
      "     |      numbers.Real\n",
      "     |      numbers.Complex\n",
      "     |      numbers.Number\n",
      "     |      builtins.object\n",
      "     |  \n",
      "     |  Methods defined here:\n",
      "     |  \n",
      "     |  __abs__(a)\n",
      "     |      abs(a)\n",
      "     |  \n",
      "     |  __add__(a, b)\n",
      "     |      a + b\n",
      "     |  \n",
      "     |  __bool__(a)\n",
      "     |      a != 0\n",
      "     |  \n",
      "     |  __ceil__(a)\n",
      "     |      math.ceil(a)\n",
      "     |  \n",
      "     |  __copy__(self)\n",
      "     |  \n",
      "     |  __deepcopy__(self, memo)\n",
      "     |  \n",
      "     |  __divmod__(a, b)\n",
      "     |      (a // b, a % b)\n",
      "     |  \n",
      "     |  __eq__(a, b)\n",
      "     |      a == b\n",
      "     |  \n",
      "     |  __floor__(a)\n",
      "     |      math.floor(a)\n",
      "     |  \n",
      "     |  __floordiv__(a, b)\n",
      "     |      a // b\n",
      "     |  \n",
      "     |  __ge__(a, b)\n",
      "     |      a >= b\n",
      "     |  \n",
      "     |  __gt__(a, b)\n",
      "     |      a > b\n",
      "     |  \n",
      "     |  __hash__(self)\n",
      "     |      hash(self)\n",
      "     |  \n",
      "     |  __le__(a, b)\n",
      "     |      a <= b\n",
      "     |  \n",
      "     |  __lt__(a, b)\n",
      "     |      a < b\n",
      "     |  \n",
      "     |  __mod__(a, b)\n",
      "     |      a % b\n",
      "     |  \n",
      "     |  __mul__(a, b)\n",
      "     |      a * b\n",
      "     |  \n",
      "     |  __neg__(a)\n",
      "     |      -a\n",
      "     |  \n",
      "     |  __pos__(a)\n",
      "     |      +a: Coerces a subclass instance to Fraction\n",
      "     |  \n",
      "     |  __pow__(a, b)\n",
      "     |      a ** b\n",
      "     |      \n",
      "     |      If b is not an integer, the result will be a float or complex\n",
      "     |      since roots are generally irrational. If b is an integer, the\n",
      "     |      result will be rational.\n",
      "     |  \n",
      "     |  __radd__(b, a)\n",
      "     |      a + b\n",
      "     |  \n",
      "     |  __rdivmod__(b, a)\n",
      "     |      (a // b, a % b)\n",
      "     |  \n",
      "     |  __reduce__(self)\n",
      "     |      Helper for pickle.\n",
      "     |  \n",
      "     |  __repr__(self)\n",
      "     |      repr(self)\n",
      "     |  \n",
      "     |  __rfloordiv__(b, a)\n",
      "     |      a // b\n",
      "     |  \n",
      "     |  __rmod__(b, a)\n",
      "     |      a % b\n",
      "     |  \n",
      "     |  __rmul__(b, a)\n",
      "     |      a * b\n",
      "     |  \n",
      "     |  __round__(self, ndigits=None)\n",
      "     |      round(self, ndigits)\n",
      "     |      \n",
      "     |      Rounds half toward even.\n",
      "     |  \n",
      "     |  __rpow__(b, a)\n",
      "     |      a ** b\n",
      "     |  \n",
      "     |  __rsub__(b, a)\n",
      "     |      a - b\n",
      "     |  \n",
      "     |  __rtruediv__(b, a)\n",
      "     |      a / b\n",
      "     |  \n",
      "     |  __str__(self)\n",
      "     |      str(self)\n",
      "     |  \n",
      "     |  __sub__(a, b)\n",
      "     |      a - b\n",
      "     |  \n",
      "     |  __truediv__(a, b)\n",
      "     |      a / b\n",
      "     |  \n",
      "     |  __trunc__(a)\n",
      "     |      trunc(a)\n",
      "     |  \n",
      "     |  as_integer_ratio(self)\n",
      "     |      Return the integer ratio as a tuple.\n",
      "     |      \n",
      "     |      Return a tuple of two integers, whose ratio is equal to the\n",
      "     |      Fraction and with a positive denominator.\n",
      "     |  \n",
      "     |  limit_denominator(self, max_denominator=1000000)\n",
      "     |      Closest Fraction to self with denominator at most max_denominator.\n",
      "     |      \n",
      "     |      >>> Fraction('3.141592653589793').limit_denominator(10)\n",
      "     |      Fraction(22, 7)\n",
      "     |      >>> Fraction('3.141592653589793').limit_denominator(100)\n",
      "     |      Fraction(311, 99)\n",
      "     |      >>> Fraction(4321, 8765).limit_denominator(10000)\n",
      "     |      Fraction(4321, 8765)\n",
      "     |  \n",
      "     |  ----------------------------------------------------------------------\n",
      "     |  Class methods defined here:\n",
      "     |  \n",
      "     |  from_decimal(dec) from abc.ABCMeta\n",
      "     |      Converts a finite Decimal instance to a rational number, exactly.\n",
      "     |  \n",
      "     |  from_float(f) from abc.ABCMeta\n",
      "     |      Converts a finite float to a rational number, exactly.\n",
      "     |      \n",
      "     |      Beware that Fraction.from_float(0.3) != Fraction(3, 10).\n",
      "     |  \n",
      "     |  ----------------------------------------------------------------------\n",
      "     |  Static methods defined here:\n",
      "     |  \n",
      "     |  __new__(cls, numerator=0, denominator=None, *, _normalize=True)\n",
      "     |      Constructs a Rational.\n",
      "     |      \n",
      "     |      Takes a string like '3/2' or '1.5', another Rational instance, a\n",
      "     |      numerator/denominator pair, or a float.\n",
      "     |      \n",
      "     |      Examples\n",
      "     |      --------\n",
      "     |      \n",
      "     |      >>> Fraction(10, -8)\n",
      "     |      Fraction(-5, 4)\n",
      "     |      >>> Fraction(Fraction(1, 7), 5)\n",
      "     |      Fraction(1, 35)\n",
      "     |      >>> Fraction(Fraction(1, 7), Fraction(2, 3))\n",
      "     |      Fraction(3, 14)\n",
      "     |      >>> Fraction('314')\n",
      "     |      Fraction(314, 1)\n",
      "     |      >>> Fraction('-35/4')\n",
      "     |      Fraction(-35, 4)\n",
      "     |      >>> Fraction('3.1415') # conversion from numeric string\n",
      "     |      Fraction(6283, 2000)\n",
      "     |      >>> Fraction('-47e-2') # string may include a decimal exponent\n",
      "     |      Fraction(-47, 100)\n",
      "     |      >>> Fraction(1.47)  # direct construction from float (exact conversion)\n",
      "     |      Fraction(6620291452234629, 4503599627370496)\n",
      "     |      >>> Fraction(2.25)\n",
      "     |      Fraction(9, 4)\n",
      "     |      >>> Fraction(Decimal('1.47'))\n",
      "     |      Fraction(147, 100)\n",
      "     |  \n",
      "     |  ----------------------------------------------------------------------\n",
      "     |  Readonly properties defined here:\n",
      "     |  \n",
      "     |  denominator\n",
      "     |  \n",
      "     |  numerator\n",
      "     |  \n",
      "     |  ----------------------------------------------------------------------\n",
      "     |  Data and other attributes defined here:\n",
      "     |  \n",
      "     |  __abstractmethods__ = frozenset()\n",
      "     |  \n",
      "     |  ----------------------------------------------------------------------\n",
      "     |  Methods inherited from numbers.Rational:\n",
      "     |  \n",
      "     |  __float__(self)\n",
      "     |      float(self) = self.numerator / self.denominator\n",
      "     |      \n",
      "     |      It's important that this conversion use the integer's \"true\"\n",
      "     |      division rather than casting one side to float before dividing\n",
      "     |      so that ratios of huge integers convert without overflowing.\n",
      "     |  \n",
      "     |  ----------------------------------------------------------------------\n",
      "     |  Methods inherited from numbers.Real:\n",
      "     |  \n",
      "     |  __complex__(self)\n",
      "     |      complex(self) == complex(float(self), 0)\n",
      "     |  \n",
      "     |  conjugate(self)\n",
      "     |      Conjugate is a no-op for Reals.\n",
      "     |  \n",
      "     |  ----------------------------------------------------------------------\n",
      "     |  Readonly properties inherited from numbers.Real:\n",
      "     |  \n",
      "     |  imag\n",
      "     |      Real numbers have no imaginary component.\n",
      "     |  \n",
      "     |  real\n",
      "     |      Real numbers are their real component.\n",
      "\n",
      "DATA\n",
      "    __all__ = ['Fraction']\n",
      "\n",
      "FILE\n",
      "    /usr/local/Cellar/python@3.9/3.9.7/Frameworks/Python.framework/Versions/3.9/lib/python3.9/fractions.py\n",
      "\n",
      "\n"
     ]
    }
   ],
   "source": [
    "help(fractions)"
   ]
  },
  {
   "cell_type": "code",
   "execution_count": 67,
   "id": "b87ce89a",
   "metadata": {},
   "outputs": [
    {
     "data": {
      "text/plain": [
       "Fraction(1, 1)"
      ]
     },
     "execution_count": 67,
     "metadata": {},
     "output_type": "execute_result"
    }
   ],
   "source": [
    "Fraction(1)"
   ]
  },
  {
   "cell_type": "code",
   "execution_count": 68,
   "id": "8fdde227",
   "metadata": {},
   "outputs": [
    {
     "data": {
      "text/plain": [
       "Fraction(2, 1)"
      ]
     },
     "execution_count": 68,
     "metadata": {},
     "output_type": "execute_result"
    }
   ],
   "source": [
    "Fraction(denominator = 1, numerator = 2)"
   ]
  },
  {
   "cell_type": "code",
   "execution_count": 69,
   "id": "9e5b8a79",
   "metadata": {},
   "outputs": [
    {
     "data": {
      "text/plain": [
       "Fraction(1, 6)"
      ]
     },
     "execution_count": 69,
     "metadata": {},
     "output_type": "execute_result"
    }
   ],
   "source": [
    "Fraction('1/6')"
   ]
  },
  {
   "cell_type": "code",
   "execution_count": 70,
   "id": "18a34419",
   "metadata": {},
   "outputs": [
    {
     "data": {
      "text/plain": [
       "Fraction(1, 2)"
      ]
     },
     "execution_count": 70,
     "metadata": {},
     "output_type": "execute_result"
    }
   ],
   "source": [
    "Fraction(numerator = 1, denominator = 2)"
   ]
  },
  {
   "cell_type": "code",
   "execution_count": 71,
   "id": "a6ef9381",
   "metadata": {},
   "outputs": [
    {
     "data": {
      "text/plain": [
       "Fraction(1, 8)"
      ]
     },
     "execution_count": 71,
     "metadata": {},
     "output_type": "execute_result"
    }
   ],
   "source": [
    "Fraction(0.125)"
   ]
  },
  {
   "cell_type": "code",
   "execution_count": 72,
   "id": "aaba8f43",
   "metadata": {},
   "outputs": [
    {
     "data": {
      "text/plain": [
       "Fraction(17, 12)"
      ]
     },
     "execution_count": 72,
     "metadata": {},
     "output_type": "execute_result"
    }
   ],
   "source": [
    "Fraction(2,3) + Fraction(3,4)"
   ]
  },
  {
   "cell_type": "code",
   "execution_count": 77,
   "id": "113cd335",
   "metadata": {},
   "outputs": [
    {
     "name": "stdout",
     "output_type": "stream",
     "text": [
      "1 / 8\n"
     ]
    }
   ],
   "source": [
    "x = Fraction(0.125)\n",
    "print(x.numerator,'/',x.denominator)"
   ]
  },
  {
   "cell_type": "code",
   "execution_count": 78,
   "id": "a9cac2c5",
   "metadata": {},
   "outputs": [
    {
     "data": {
      "text/plain": [
       "Fraction(884279719003555, 281474976710656)"
      ]
     },
     "execution_count": 78,
     "metadata": {},
     "output_type": "execute_result"
    }
   ],
   "source": [
    "import math\n",
    "x = Fraction(math.pi)\n",
    "x"
   ]
  },
  {
   "cell_type": "code",
   "execution_count": 79,
   "id": "5ba04d2e",
   "metadata": {},
   "outputs": [
    {
     "data": {
      "text/plain": [
       "3.141592653589793"
      ]
     },
     "execution_count": 79,
     "metadata": {},
     "output_type": "execute_result"
    }
   ],
   "source": [
    "float(x)"
   ]
  },
  {
   "cell_type": "markdown",
   "id": "2938dece",
   "metadata": {},
   "source": [
    "π is not rational, therefore an approximation of real numbers is represented"
   ]
  },
  {
   "cell_type": "code",
   "execution_count": 80,
   "id": "f1b2afa0",
   "metadata": {},
   "outputs": [],
   "source": [
    "y = Fraction(math.sqrt(2))"
   ]
  },
  {
   "cell_type": "code",
   "execution_count": 81,
   "id": "cac177ab",
   "metadata": {},
   "outputs": [
    {
     "data": {
      "text/plain": [
       "Fraction(6369051672525773, 4503599627370496)"
      ]
     },
     "execution_count": 81,
     "metadata": {},
     "output_type": "execute_result"
    }
   ],
   "source": [
    "y"
   ]
  },
  {
   "cell_type": "code",
   "execution_count": 82,
   "id": "39ac01e1",
   "metadata": {},
   "outputs": [
    {
     "data": {
      "text/plain": [
       "1.4142135623730951"
      ]
     },
     "execution_count": 82,
     "metadata": {},
     "output_type": "execute_result"
    }
   ],
   "source": [
    "float(y)"
   ]
  },
  {
   "cell_type": "code",
   "execution_count": 83,
   "id": "8a0bba2a",
   "metadata": {},
   "outputs": [],
   "source": [
    "a = 0.125\n",
    "b = 0.3"
   ]
  },
  {
   "cell_type": "code",
   "execution_count": 84,
   "id": "f9664c54",
   "metadata": {},
   "outputs": [
    {
     "name": "stdout",
     "output_type": "stream",
     "text": [
      "0.125\n"
     ]
    }
   ],
   "source": [
    "print(a)"
   ]
  },
  {
   "cell_type": "code",
   "execution_count": 85,
   "id": "f9f2c587",
   "metadata": {},
   "outputs": [
    {
     "name": "stdout",
     "output_type": "stream",
     "text": [
      "0.3\n"
     ]
    }
   ],
   "source": [
    "print(b)"
   ]
  },
  {
   "cell_type": "code",
   "execution_count": 86,
   "id": "520addd2",
   "metadata": {},
   "outputs": [
    {
     "data": {
      "text/plain": [
       "Fraction(1, 8)"
      ]
     },
     "execution_count": 86,
     "metadata": {},
     "output_type": "execute_result"
    }
   ],
   "source": [
    "Fraction(a)"
   ]
  },
  {
   "cell_type": "code",
   "execution_count": 87,
   "id": "3ac7fd35",
   "metadata": {},
   "outputs": [
    {
     "data": {
      "text/plain": [
       "Fraction(5404319552844595, 18014398509481984)"
      ]
     },
     "execution_count": 87,
     "metadata": {},
     "output_type": "execute_result"
    }
   ],
   "source": [
    "Fraction(b)"
   ]
  },
  {
   "cell_type": "markdown",
   "id": "0ec5f7bc",
   "metadata": {},
   "source": [
    "Python is trying to give us a nice dispplay, which is not in reality is not stored"
   ]
  },
  {
   "cell_type": "code",
   "execution_count": 90,
   "id": "e0595ad5",
   "metadata": {},
   "outputs": [
    {
     "data": {
      "text/plain": [
       "'0.30000'"
      ]
     },
     "execution_count": 90,
     "metadata": {},
     "output_type": "execute_result"
    }
   ],
   "source": [
    "format(b, '0.5f')"
   ]
  },
  {
   "cell_type": "code",
   "execution_count": 91,
   "id": "69412d88",
   "metadata": {},
   "outputs": [
    {
     "data": {
      "text/plain": [
       "'0.300000000000000'"
      ]
     },
     "execution_count": 91,
     "metadata": {},
     "output_type": "execute_result"
    }
   ],
   "source": [
    "format(b, '0.15f')"
   ]
  },
  {
   "cell_type": "code",
   "execution_count": 92,
   "id": "e096933c",
   "metadata": {},
   "outputs": [
    {
     "data": {
      "text/plain": [
       "'0.2999999999999999888977698'"
      ]
     },
     "execution_count": 92,
     "metadata": {},
     "output_type": "execute_result"
    }
   ],
   "source": [
    "format(b, '0.25f')"
   ]
  },
  {
   "cell_type": "markdown",
   "id": "91f56021",
   "metadata": {},
   "source": [
    "Now we can see that 0.3 is not actually stored as 0.3"
   ]
  },
  {
   "cell_type": "markdown",
   "id": "1d4c3464",
   "metadata": {},
   "source": [
    "That's why that we get an approximation with Fraction"
   ]
  },
  {
   "cell_type": "code",
   "execution_count": 94,
   "id": "7621b2ac",
   "metadata": {},
   "outputs": [
    {
     "data": {
      "text/plain": [
       "Fraction(5404319552844595, 18014398509481984)"
      ]
     },
     "execution_count": 94,
     "metadata": {},
     "output_type": "execute_result"
    }
   ],
   "source": [
    "Fraction(b)"
   ]
  },
  {
   "cell_type": "code",
   "execution_count": 95,
   "id": "a501942c",
   "metadata": {},
   "outputs": [
    {
     "data": {
      "text/plain": [
       "Fraction(3, 10)"
      ]
     },
     "execution_count": 95,
     "metadata": {},
     "output_type": "execute_result"
    }
   ],
   "source": [
    "x = Fraction(0.3)\n",
    "x.limit_denominator(10) #we dont want a denominator greater than 10"
   ]
  },
  {
   "cell_type": "code",
   "execution_count": 96,
   "id": "ab28073a",
   "metadata": {},
   "outputs": [
    {
     "data": {
      "text/plain": [
       "Fraction(884279719003555, 281474976710656)"
      ]
     },
     "execution_count": 96,
     "metadata": {},
     "output_type": "execute_result"
    }
   ],
   "source": [
    "x = Fraction(math.pi)\n",
    "x"
   ]
  },
  {
   "cell_type": "code",
   "execution_count": 97,
   "id": "f1cb2d9a",
   "metadata": {},
   "outputs": [
    {
     "data": {
      "text/plain": [
       "3.141592653589793"
      ]
     },
     "execution_count": 97,
     "metadata": {},
     "output_type": "execute_result"
    }
   ],
   "source": [
    "float(x)"
   ]
  },
  {
   "cell_type": "code",
   "execution_count": 98,
   "id": "a929347c",
   "metadata": {},
   "outputs": [
    {
     "data": {
      "text/plain": [
       "Fraction(22, 7)"
      ]
     },
     "execution_count": 98,
     "metadata": {},
     "output_type": "execute_result"
    }
   ],
   "source": [
    "x.limit_denominator(10)"
   ]
  },
  {
   "cell_type": "markdown",
   "id": "d6baf145",
   "metadata": {},
   "source": [
    "The closest fraction we get to x nad limited to 10"
   ]
  },
  {
   "cell_type": "code",
   "execution_count": 99,
   "id": "7e3102e4",
   "metadata": {},
   "outputs": [
    {
     "data": {
      "text/plain": [
       "3.142857142857143"
      ]
     },
     "execution_count": 99,
     "metadata": {},
     "output_type": "execute_result"
    }
   ],
   "source": [
    "22/7"
   ]
  },
  {
   "cell_type": "code",
   "execution_count": 100,
   "id": "ec8f694b",
   "metadata": {},
   "outputs": [
    {
     "data": {
      "text/plain": [
       "Fraction(311, 99)"
      ]
     },
     "execution_count": 100,
     "metadata": {},
     "output_type": "execute_result"
    }
   ],
   "source": [
    "x.limit_denominator(100)"
   ]
  },
  {
   "cell_type": "code",
   "execution_count": 101,
   "id": "ac666d17",
   "metadata": {},
   "outputs": [
    {
     "data": {
      "text/plain": [
       "3.1414141414141414"
      ]
     },
     "execution_count": 101,
     "metadata": {},
     "output_type": "execute_result"
    }
   ],
   "source": [
    "311/99"
   ]
  },
  {
   "cell_type": "markdown",
   "id": "7a09121c",
   "metadata": {},
   "source": [
    "---\n",
    "## Floats: Internal representation"
   ]
  },
  {
   "cell_type": "markdown",
   "id": "f4f5084f",
   "metadata": {},
   "source": [
    "The **float** class is Python's default implementation for representing real numbers.\n",
    "\n",
    "The Python (Cpython) float is implemented using the C double type which (usually!) implementes the IEEE 754 double-precision binary float, also called binary64.\n",
    "\n",
    "The float uses a fixed number of bytes -> 8 bytes = 64 bits.\n",
    "\n",
    "These 64 bits are used up as follows:\n",
    "\n",
    "sign - > 1 bit\n",
    "\n",
    "exponent -> 11 bits - > range[-1022, 1023]\n",
    "\n",
    "1.5e-5 -> 1.5 x 10^-5\n",
    "\n",
    "significant digits - > for simplicity,all digits except leading and trailing zeros.\n",
    "\n",
    "1.2345 has 5 significant digits.\n",
    "\n",
    "1234.5 has also 5 significan digits.\n",
    "\n",
    "12345000000 has also 5 signficant digits, it is just 12345 times 1000000.\n",
    "\n",
    "\n",
    "\n"
   ]
  },
  {
   "cell_type": "markdown",
   "id": "d1a4042b",
   "metadata": {},
   "source": [
    "### - Representation: decimal\n",
    "Numbers can be represented as base-10 integers and fractions:\n",
    "\n",
    "0.75 - >  7/10 + 5/100 - > 7 x 10^-1 + 5 x 10^-2\n",
    "<br>\n",
    "This means there are 2 significant digits.\n",
    "\n",
    "0.256 - > 2/10 + 5/100 + 6/1000 -> 2 x 10^-1 + 5 x 10^-2 + 6 x 10 ^-3\n",
    "<br>\n",
    "This means there are 3 significant digits.\n",
    "\n",
    "123.456 - > 1 x 100 + 2 x 10 + 3 x 1 + 4/10 + 5/100 + 6/1000 <br>\n",
    "          - > 1 x 10^2 + 2 x 10^1 + 3 x 10^0 + 4 x 10 ^-1 + 5 x 10^-2 + 6 x 10^-3\n",
    "<br>\n",
    "This means there are 6 significant digits\n",
    "\n",
    "\n",
    "In general: d = ∑n, i = -m, di x 10^i"
   ]
  },
  {
   "cell_type": "markdown",
   "id": "3b7501f7",
   "metadata": {},
   "source": [
    "Some number cannot be represented using a finite number of terms.\n",
    "\n",
    "Obviously numbers such as :\n",
    "- π = 3.14159...\n",
    "- √2 = 1.4142...\n",
    "\n",
    "but even some rational numbers : \n",
    "- 1/3 = 0.333333..."
   ]
  },
  {
   "cell_type": "markdown",
   "id": "6ecccb7a",
   "metadata": {},
   "source": [
    "### - Representation: binary\n",
    "Numbers in a computer are represented using bits, not decimal digits\n",
    "\n",
    "instead of powers of 10, we need to use powers of 2\n",
    "\n",
    "(0.11)base(2) = (1/2 + 1/4)base(10) = (0.5 + 0.25)base(10) = (0.75)base(10)\n",
    "<br> ========== (1 x 2^-1 + 1 x 2^-2)\n",
    "\n",
    "This representation is very similar to the one we use with decimal numbers but instead of using powers of 10, we use powers of 2 a binary representation.\n",
    "\n",
    "In general: d = ∑n, i = -m, di x 10^i"
   ]
  },
  {
   "cell_type": "markdown",
   "id": "2c8b33dc",
   "metadata": {},
   "source": [
    "The same problem that occurs when trying to represent 1/3 using a decimal exapansion also happens when trying to represent certain numbers using binary expansion.\n",
    "\n",
    "0.1 = 1/10\n",
    "\n",
    "(0.1)base(10) = (0.0 0011 0011 0011 ...)base(2)\n",
    "<br>\n",
    "= 0/2 + 0/4 + 0/8 + 1/16 + 1/32..."
   ]
  },
  {
   "cell_type": "markdown",
   "id": "a57474ba",
   "metadata": {},
   "source": [
    "So, some number that do have a finite decimal representation do not have a finite binary representation, and some do.\n",
    "\n",
    "(0.75)base(10) = (0.11)base(2)      finite\n",
    "<br>\n",
    "(0.8125)base(10) = (0.1101)base(2)  finite  exact float representation\n",
    "<br>\n",
    "(0.1)base(10) = (0 0011 0011 0011...)base(2)   infinite approxx float representation\n",
    "\n"
   ]
  },
  {
   "cell_type": "code",
   "execution_count": 102,
   "id": "fee596f1",
   "metadata": {},
   "outputs": [
    {
     "name": "stdout",
     "output_type": "stream",
     "text": [
      "Help on class float in module builtins:\n",
      "\n",
      "class float(object)\n",
      " |  float(x=0, /)\n",
      " |  \n",
      " |  Convert a string or number to a floating point number, if possible.\n",
      " |  \n",
      " |  Methods defined here:\n",
      " |  \n",
      " |  __abs__(self, /)\n",
      " |      abs(self)\n",
      " |  \n",
      " |  __add__(self, value, /)\n",
      " |      Return self+value.\n",
      " |  \n",
      " |  __bool__(self, /)\n",
      " |      self != 0\n",
      " |  \n",
      " |  __ceil__(self, /)\n",
      " |      Return the ceiling as an Integral.\n",
      " |  \n",
      " |  __divmod__(self, value, /)\n",
      " |      Return divmod(self, value).\n",
      " |  \n",
      " |  __eq__(self, value, /)\n",
      " |      Return self==value.\n",
      " |  \n",
      " |  __float__(self, /)\n",
      " |      float(self)\n",
      " |  \n",
      " |  __floor__(self, /)\n",
      " |      Return the floor as an Integral.\n",
      " |  \n",
      " |  __floordiv__(self, value, /)\n",
      " |      Return self//value.\n",
      " |  \n",
      " |  __format__(self, format_spec, /)\n",
      " |      Formats the float according to format_spec.\n",
      " |  \n",
      " |  __ge__(self, value, /)\n",
      " |      Return self>=value.\n",
      " |  \n",
      " |  __getattribute__(self, name, /)\n",
      " |      Return getattr(self, name).\n",
      " |  \n",
      " |  __getnewargs__(self, /)\n",
      " |  \n",
      " |  __gt__(self, value, /)\n",
      " |      Return self>value.\n",
      " |  \n",
      " |  __hash__(self, /)\n",
      " |      Return hash(self).\n",
      " |  \n",
      " |  __int__(self, /)\n",
      " |      int(self)\n",
      " |  \n",
      " |  __le__(self, value, /)\n",
      " |      Return self<=value.\n",
      " |  \n",
      " |  __lt__(self, value, /)\n",
      " |      Return self<value.\n",
      " |  \n",
      " |  __mod__(self, value, /)\n",
      " |      Return self%value.\n",
      " |  \n",
      " |  __mul__(self, value, /)\n",
      " |      Return self*value.\n",
      " |  \n",
      " |  __ne__(self, value, /)\n",
      " |      Return self!=value.\n",
      " |  \n",
      " |  __neg__(self, /)\n",
      " |      -self\n",
      " |  \n",
      " |  __pos__(self, /)\n",
      " |      +self\n",
      " |  \n",
      " |  __pow__(self, value, mod=None, /)\n",
      " |      Return pow(self, value, mod).\n",
      " |  \n",
      " |  __radd__(self, value, /)\n",
      " |      Return value+self.\n",
      " |  \n",
      " |  __rdivmod__(self, value, /)\n",
      " |      Return divmod(value, self).\n",
      " |  \n",
      " |  __repr__(self, /)\n",
      " |      Return repr(self).\n",
      " |  \n",
      " |  __rfloordiv__(self, value, /)\n",
      " |      Return value//self.\n",
      " |  \n",
      " |  __rmod__(self, value, /)\n",
      " |      Return value%self.\n",
      " |  \n",
      " |  __rmul__(self, value, /)\n",
      " |      Return value*self.\n",
      " |  \n",
      " |  __round__(self, ndigits=None, /)\n",
      " |      Return the Integral closest to x, rounding half toward even.\n",
      " |      \n",
      " |      When an argument is passed, work like built-in round(x, ndigits).\n",
      " |  \n",
      " |  __rpow__(self, value, mod=None, /)\n",
      " |      Return pow(value, self, mod).\n",
      " |  \n",
      " |  __rsub__(self, value, /)\n",
      " |      Return value-self.\n",
      " |  \n",
      " |  __rtruediv__(self, value, /)\n",
      " |      Return value/self.\n",
      " |  \n",
      " |  __sub__(self, value, /)\n",
      " |      Return self-value.\n",
      " |  \n",
      " |  __truediv__(self, value, /)\n",
      " |      Return self/value.\n",
      " |  \n",
      " |  __trunc__(self, /)\n",
      " |      Return the Integral closest to x between 0 and x.\n",
      " |  \n",
      " |  as_integer_ratio(self, /)\n",
      " |      Return integer ratio.\n",
      " |      \n",
      " |      Return a pair of integers, whose ratio is exactly equal to the original float\n",
      " |      and with a positive denominator.\n",
      " |      \n",
      " |      Raise OverflowError on infinities and a ValueError on NaNs.\n",
      " |      \n",
      " |      >>> (10.0).as_integer_ratio()\n",
      " |      (10, 1)\n",
      " |      >>> (0.0).as_integer_ratio()\n",
      " |      (0, 1)\n",
      " |      >>> (-.25).as_integer_ratio()\n",
      " |      (-1, 4)\n",
      " |  \n",
      " |  conjugate(self, /)\n",
      " |      Return self, the complex conjugate of any float.\n",
      " |  \n",
      " |  hex(self, /)\n",
      " |      Return a hexadecimal representation of a floating-point number.\n",
      " |      \n",
      " |      >>> (-0.1).hex()\n",
      " |      '-0x1.999999999999ap-4'\n",
      " |      >>> 3.14159.hex()\n",
      " |      '0x1.921f9f01b866ep+1'\n",
      " |  \n",
      " |  is_integer(self, /)\n",
      " |      Return True if the float is an integer.\n",
      " |  \n",
      " |  ----------------------------------------------------------------------\n",
      " |  Class methods defined here:\n",
      " |  \n",
      " |  __getformat__(typestr, /) from builtins.type\n",
      " |      You probably don't want to use this function.\n",
      " |      \n",
      " |        typestr\n",
      " |          Must be 'double' or 'float'.\n",
      " |      \n",
      " |      It exists mainly to be used in Python's test suite.\n",
      " |      \n",
      " |      This function returns whichever of 'unknown', 'IEEE, big-endian' or 'IEEE,\n",
      " |      little-endian' best describes the format of floating point numbers used by the\n",
      " |      C type named by typestr.\n",
      " |  \n",
      " |  __set_format__(typestr, fmt, /) from builtins.type\n",
      " |      You probably don't want to use this function.\n",
      " |      \n",
      " |        typestr\n",
      " |          Must be 'double' or 'float'.\n",
      " |        fmt\n",
      " |          Must be one of 'unknown', 'IEEE, big-endian' or 'IEEE, little-endian',\n",
      " |          and in addition can only be one of the latter two if it appears to\n",
      " |          match the underlying C reality.\n",
      " |      \n",
      " |      It exists mainly to be used in Python's test suite.\n",
      " |      \n",
      " |      Override the automatic determination of C-level floating point type.\n",
      " |      This affects how floats are converted to and from binary strings.\n",
      " |  \n",
      " |  fromhex(string, /) from builtins.type\n",
      " |      Create a floating-point number from a hexadecimal string.\n",
      " |      \n",
      " |      >>> float.fromhex('0x1.ffffp10')\n",
      " |      2047.984375\n",
      " |      >>> float.fromhex('-0x1p-1074')\n",
      " |      -5e-324\n",
      " |  \n",
      " |  ----------------------------------------------------------------------\n",
      " |  Static methods defined here:\n",
      " |  \n",
      " |  __new__(*args, **kwargs) from builtins.type\n",
      " |      Create and return a new object.  See help(type) for accurate signature.\n",
      " |  \n",
      " |  ----------------------------------------------------------------------\n",
      " |  Data descriptors defined here:\n",
      " |  \n",
      " |  imag\n",
      " |      the imaginary part of a complex number\n",
      " |  \n",
      " |  real\n",
      " |      the real part of a complex number\n",
      "\n"
     ]
    }
   ],
   "source": [
    "help(float)"
   ]
  },
  {
   "cell_type": "code",
   "execution_count": 103,
   "id": "2bf0dbee",
   "metadata": {},
   "outputs": [
    {
     "data": {
      "text/plain": [
       "10.0"
      ]
     },
     "execution_count": 103,
     "metadata": {},
     "output_type": "execute_result"
    }
   ],
   "source": [
    "float(10)"
   ]
  },
  {
   "cell_type": "code",
   "execution_count": 104,
   "id": "8defdc35",
   "metadata": {},
   "outputs": [
    {
     "data": {
      "text/plain": [
       "10.0"
      ]
     },
     "execution_count": 104,
     "metadata": {},
     "output_type": "execute_result"
    }
   ],
   "source": [
    "float(10.0)"
   ]
  },
  {
   "cell_type": "code",
   "execution_count": 105,
   "id": "2ecdc705",
   "metadata": {},
   "outputs": [
    {
     "data": {
      "text/plain": [
       "10.4"
      ]
     },
     "execution_count": 105,
     "metadata": {},
     "output_type": "execute_result"
    }
   ],
   "source": [
    "float('10.4')"
   ]
  },
  {
   "cell_type": "code",
   "execution_count": 106,
   "id": "ee8a7168",
   "metadata": {},
   "outputs": [
    {
     "ename": "ValueError",
     "evalue": "could not convert string to float: '22/7'",
     "output_type": "error",
     "traceback": [
      "\u001b[0;31m---------------------------------------------------------------------------\u001b[0m",
      "\u001b[0;31mValueError\u001b[0m                                Traceback (most recent call last)",
      "\u001b[0;32m<ipython-input-106-b1a86d0295b9>\u001b[0m in \u001b[0;36m<module>\u001b[0;34m\u001b[0m\n\u001b[0;32m----> 1\u001b[0;31m \u001b[0mfloat\u001b[0m\u001b[0;34m(\u001b[0m\u001b[0;34m'22/7'\u001b[0m\u001b[0;34m)\u001b[0m\u001b[0;34m\u001b[0m\u001b[0;34m\u001b[0m\u001b[0m\n\u001b[0m",
      "\u001b[0;31mValueError\u001b[0m: could not convert string to float: '22/7'"
     ]
    }
   ],
   "source": [
    "float('22/7')"
   ]
  },
  {
   "cell_type": "code",
   "execution_count": 108,
   "id": "6f22a629",
   "metadata": {},
   "outputs": [],
   "source": [
    "from fractions import Fraction"
   ]
  },
  {
   "cell_type": "code",
   "execution_count": 109,
   "id": "61f4fc66",
   "metadata": {},
   "outputs": [
    {
     "data": {
      "text/plain": [
       "3.142857142857143"
      ]
     },
     "execution_count": 109,
     "metadata": {},
     "output_type": "execute_result"
    }
   ],
   "source": [
    "a = Fraction('22/7')\n",
    "float(a)"
   ]
  },
  {
   "cell_type": "code",
   "execution_count": 110,
   "id": "b0f15d98",
   "metadata": {},
   "outputs": [
    {
     "name": "stdout",
     "output_type": "stream",
     "text": [
      "0.1\n"
     ]
    }
   ],
   "source": [
    "print(0.1)"
   ]
  },
  {
   "cell_type": "markdown",
   "id": "4f233f22",
   "metadata": {},
   "source": [
    "The problem is, as the previous example with 0.3, Python is showing a different display. Behind the scenes, this is not the real value."
   ]
  },
  {
   "cell_type": "code",
   "execution_count": 111,
   "id": "8f319544",
   "metadata": {},
   "outputs": [
    {
     "data": {
      "text/plain": [
       "'0.1000000000000000055511151'"
      ]
     },
     "execution_count": 111,
     "metadata": {},
     "output_type": "execute_result"
    }
   ],
   "source": [
    "format(0.1, '.25f')"
   ]
  },
  {
   "cell_type": "code",
   "execution_count": 112,
   "id": "2178a2b3",
   "metadata": {},
   "outputs": [
    {
     "name": "stdout",
     "output_type": "stream",
     "text": [
      "0.125\n"
     ]
    }
   ],
   "source": [
    "print(0.125)"
   ]
  },
  {
   "cell_type": "code",
   "execution_count": 113,
   "id": "1cba9ee4",
   "metadata": {},
   "outputs": [
    {
     "name": "stdout",
     "output_type": "stream",
     "text": [
      "0.125\n"
     ]
    }
   ],
   "source": [
    "print(1/8)"
   ]
  },
  {
   "cell_type": "code",
   "execution_count": 114,
   "id": "24cb41b0",
   "metadata": {},
   "outputs": [
    {
     "data": {
      "text/plain": [
       "'0.1250000000000000000000000'"
      ]
     },
     "execution_count": 114,
     "metadata": {},
     "output_type": "execute_result"
    }
   ],
   "source": [
    "format(0.125, '0.25f')"
   ]
  },
  {
   "cell_type": "code",
   "execution_count": 115,
   "id": "8648b187",
   "metadata": {},
   "outputs": [],
   "source": [
    "a = 0.1 + 0.1 + 0.1"
   ]
  },
  {
   "cell_type": "code",
   "execution_count": 116,
   "id": "9484d966",
   "metadata": {},
   "outputs": [],
   "source": [
    "b = 0.3"
   ]
  },
  {
   "cell_type": "code",
   "execution_count": 117,
   "id": "b4d956e2",
   "metadata": {},
   "outputs": [
    {
     "data": {
      "text/plain": [
       "False"
      ]
     },
     "execution_count": 117,
     "metadata": {},
     "output_type": "execute_result"
    }
   ],
   "source": [
    "a == b"
   ]
  },
  {
   "cell_type": "code",
   "execution_count": 118,
   "id": "39a1d9e4",
   "metadata": {},
   "outputs": [
    {
     "data": {
      "text/plain": [
       "'0.3000000000000000444089210'"
      ]
     },
     "execution_count": 118,
     "metadata": {},
     "output_type": "execute_result"
    }
   ],
   "source": [
    "format(a, '0.25f')"
   ]
  },
  {
   "cell_type": "code",
   "execution_count": 119,
   "id": "8ebec0ba",
   "metadata": {},
   "outputs": [
    {
     "data": {
      "text/plain": [
       "'0.2999999999999999888977698'"
      ]
     },
     "execution_count": 119,
     "metadata": {},
     "output_type": "execute_result"
    }
   ],
   "source": [
    "format(b, '0.25f')"
   ]
  },
  {
   "cell_type": "markdown",
   "id": "92539b34",
   "metadata": {},
   "source": [
    "**0.1** and **0.3** is exact in base 10, but not in binary representation, not in base 2"
   ]
  },
  {
   "cell_type": "markdown",
   "id": "af3877ad",
   "metadata": {},
   "source": [
    "----\n",
    "## Floats: Equality Testing"
   ]
  },
  {
   "cell_type": "code",
   "execution_count": 6,
   "id": "92aa0e78",
   "metadata": {},
   "outputs": [
    {
     "data": {
      "text/plain": [
       "'0.1000000000000000055511151'"
      ]
     },
     "execution_count": 6,
     "metadata": {},
     "output_type": "execute_result"
    }
   ],
   "source": [
    "x = 0.1\n",
    "format(x, '0.25f')"
   ]
  },
  {
   "cell_type": "code",
   "execution_count": 9,
   "id": "5abb31b2",
   "metadata": {},
   "outputs": [],
   "source": [
    "x = 0.125 + 0.125 + 0.125\n",
    "y = 0.375"
   ]
  },
  {
   "cell_type": "code",
   "execution_count": 10,
   "id": "545824ec",
   "metadata": {},
   "outputs": [
    {
     "data": {
      "text/plain": [
       "True"
      ]
     },
     "execution_count": 10,
     "metadata": {},
     "output_type": "execute_result"
    }
   ],
   "source": [
    "x == y"
   ]
  },
  {
   "cell_type": "code",
   "execution_count": 11,
   "id": "ec487adb",
   "metadata": {},
   "outputs": [],
   "source": [
    "x = 0.1 + 0.1 + 0.1\n",
    "y = 0.3"
   ]
  },
  {
   "cell_type": "code",
   "execution_count": 12,
   "id": "b336f6e3",
   "metadata": {},
   "outputs": [
    {
     "data": {
      "text/plain": [
       "False"
      ]
     },
     "execution_count": 12,
     "metadata": {},
     "output_type": "execute_result"
    }
   ],
   "source": [
    "x == y"
   ]
  },
  {
   "cell_type": "markdown",
   "id": "b81152c4",
   "metadata": {},
   "source": [
    "One option is to round"
   ]
  },
  {
   "cell_type": "code",
   "execution_count": 13,
   "id": "90daa246",
   "metadata": {},
   "outputs": [
    {
     "name": "stdout",
     "output_type": "stream",
     "text": [
      "0.3000000000000000444089210\n",
      "0.2999999999999999888977698\n"
     ]
    }
   ],
   "source": [
    "print(format(x,'.25f'))\n",
    "print(format(y,'.25f'))"
   ]
  },
  {
   "cell_type": "code",
   "execution_count": 14,
   "id": "bb298fa6",
   "metadata": {},
   "outputs": [
    {
     "data": {
      "text/plain": [
       "True"
      ]
     },
     "execution_count": 14,
     "metadata": {},
     "output_type": "execute_result"
    }
   ],
   "source": [
    "round(x,3) == round(y,3)"
   ]
  },
  {
   "cell_type": "markdown",
   "id": "1c72420e",
   "metadata": {},
   "source": [
    "The problem is that round is testing how close the numbers are within an absolute tolerance.\n",
    "\n",
    "That has problems, that absolutes tolerance can be a problem when comparing larger numbers."
   ]
  },
  {
   "cell_type": "code",
   "execution_count": 17,
   "id": "ee09941d",
   "metadata": {},
   "outputs": [
    {
     "data": {
      "text/plain": [
       "1.000000999999"
      ]
     },
     "execution_count": 17,
     "metadata": {},
     "output_type": "execute_result"
    }
   ],
   "source": [
    "x = 10000.01\n",
    "y = 10000.02\n",
    "y / x\n",
    "#Delta = 0.01"
   ]
  },
  {
   "cell_type": "code",
   "execution_count": 18,
   "id": "666a151b",
   "metadata": {},
   "outputs": [
    {
     "data": {
      "text/plain": [
       "2.0"
      ]
     },
     "execution_count": 18,
     "metadata": {},
     "output_type": "execute_result"
    }
   ],
   "source": [
    "x = 0.01\n",
    "y = 0.02\n",
    "y / x\n",
    "#Delta = 0.01"
   ]
  },
  {
   "cell_type": "markdown",
   "id": "20df02af",
   "metadata": {},
   "source": [
    "This is the issue, which we consider closest. Absolute tolerance could be a problem"
   ]
  },
  {
   "cell_type": "code",
   "execution_count": 19,
   "id": "d496e2c4",
   "metadata": {},
   "outputs": [
    {
     "data": {
      "text/plain": [
       "True"
      ]
     },
     "execution_count": 19,
     "metadata": {},
     "output_type": "execute_result"
    }
   ],
   "source": [
    "round(x,1) == round(y,1)"
   ]
  },
  {
   "cell_type": "code",
   "execution_count": 20,
   "id": "88522450",
   "metadata": {},
   "outputs": [
    {
     "data": {
      "text/plain": [
       "True"
      ]
     },
     "execution_count": 20,
     "metadata": {},
     "output_type": "execute_result"
    }
   ],
   "source": [
    "x = 10000.01\n",
    "y = 10000.02\n",
    "round(x,1) == round(y,1)"
   ]
  },
  {
   "cell_type": "markdown",
   "id": "b0573e93",
   "metadata": {},
   "source": [
    "For that reason, let's use the *isclose* method"
   ]
  },
  {
   "cell_type": "code",
   "execution_count": 21,
   "id": "37787094",
   "metadata": {},
   "outputs": [],
   "source": [
    "from math import isclose"
   ]
  },
  {
   "cell_type": "code",
   "execution_count": 22,
   "id": "2d478cc5",
   "metadata": {},
   "outputs": [
    {
     "name": "stdout",
     "output_type": "stream",
     "text": [
      "Help on built-in function isclose in module math:\n",
      "\n",
      "isclose(a, b, *, rel_tol=1e-09, abs_tol=0.0)\n",
      "    Determine whether two floating point numbers are close in value.\n",
      "    \n",
      "      rel_tol\n",
      "        maximum difference for being considered \"close\", relative to the\n",
      "        magnitude of the input values\n",
      "      abs_tol\n",
      "        maximum difference for being considered \"close\", regardless of the\n",
      "        magnitude of the input values\n",
      "    \n",
      "    Return True if a is close in value to b, and False otherwise.\n",
      "    \n",
      "    For the values to be considered close, the difference between them\n",
      "    must be smaller than at least one of the tolerances.\n",
      "    \n",
      "    -inf, inf and NaN behave similarly to the IEEE 754 Standard.  That\n",
      "    is, NaN is not close to anything, even itself.  inf and -inf are\n",
      "    only close to themselves.\n",
      "\n"
     ]
    }
   ],
   "source": [
    "help(isclose)"
   ]
  },
  {
   "cell_type": "code",
   "execution_count": 23,
   "id": "7ce5d885",
   "metadata": {},
   "outputs": [],
   "source": [
    "x = 0.1 + 0.1 + 0.1\n",
    "y = 0.3"
   ]
  },
  {
   "cell_type": "code",
   "execution_count": 24,
   "id": "60f68d32",
   "metadata": {},
   "outputs": [
    {
     "data": {
      "text/plain": [
       "True"
      ]
     },
     "execution_count": 24,
     "metadata": {},
     "output_type": "execute_result"
    }
   ],
   "source": [
    "isclose(x,y)"
   ]
  },
  {
   "cell_type": "code",
   "execution_count": 25,
   "id": "fb5f77ff",
   "metadata": {},
   "outputs": [
    {
     "data": {
      "text/plain": [
       "False"
      ]
     },
     "execution_count": 25,
     "metadata": {},
     "output_type": "execute_result"
    }
   ],
   "source": [
    "x == y"
   ]
  },
  {
   "cell_type": "code",
   "execution_count": 28,
   "id": "7a373136",
   "metadata": {},
   "outputs": [
    {
     "data": {
      "text/plain": [
       "True"
      ]
     },
     "execution_count": 28,
     "metadata": {},
     "output_type": "execute_result"
    }
   ],
   "source": [
    "x = 123456789.01\n",
    "y = 123456789.02\n",
    "isclose(x,y,rel_tol=0.01)"
   ]
  },
  {
   "cell_type": "code",
   "execution_count": 29,
   "id": "2a6aea8b",
   "metadata": {},
   "outputs": [
    {
     "data": {
      "text/plain": [
       "False"
      ]
     },
     "execution_count": 29,
     "metadata": {},
     "output_type": "execute_result"
    }
   ],
   "source": [
    "x = 0.01\n",
    "y = 0.02\n",
    "isclose(x,y,rel_tol=0.01)"
   ]
  },
  {
   "cell_type": "code",
   "execution_count": 30,
   "id": "baa01e33",
   "metadata": {},
   "outputs": [
    {
     "data": {
      "text/plain": [
       "False"
      ]
     },
     "execution_count": 30,
     "metadata": {},
     "output_type": "execute_result"
    }
   ],
   "source": [
    "x = 0.0000001\n",
    "y = 0.0000002\n",
    "isclose(x,y, rel_tol=0.01)"
   ]
  },
  {
   "cell_type": "markdown",
   "id": "7759eda2",
   "metadata": {},
   "source": [
    "In this case, we want to use the absolute tolerance."
   ]
  },
  {
   "cell_type": "code",
   "execution_count": 32,
   "id": "75236b1c",
   "metadata": {},
   "outputs": [
    {
     "data": {
      "text/plain": [
       "True"
      ]
     },
     "execution_count": 32,
     "metadata": {},
     "output_type": "execute_result"
    }
   ],
   "source": [
    "isclose(x,y, rel_tol = 0.01, abs_tol=0.01)"
   ]
  },
  {
   "cell_type": "code",
   "execution_count": 33,
   "id": "85a4f267",
   "metadata": {},
   "outputs": [
    {
     "name": "stdout",
     "output_type": "stream",
     "text": [
      "True\n",
      "True\n"
     ]
    }
   ],
   "source": [
    "x = 0.0000001\n",
    "y = 0.0000002\n",
    "\n",
    "a = 123456789.01\n",
    "b = 123456789.02\n",
    "\n",
    "print(isclose(x,y, abs_tol= 0.0001, rel_tol=0.01))\n",
    "print(isclose(a,b, abs_tol=0.0001, rel_tol=0.01))"
   ]
  },
  {
   "cell_type": "markdown",
   "id": "502a86b4",
   "metadata": {},
   "source": [
    "For small numbers we want absolute tolerances.\n",
    "\n",
    "For large numbers we want relative tolerances."
   ]
  },
  {
   "cell_type": "markdown",
   "id": "72343600",
   "metadata": {},
   "source": [
    "-----\n",
    "## Floats: Coercing to integers"
   ]
  },
  {
   "cell_type": "markdown",
   "id": "fb408f68",
   "metadata": {},
   "source": [
    "### - Truncation\n",
    "Truncating a float simply returns the integer portion of the number.\n",
    "i.e. ignores everyhting after the decimal point.\n"
   ]
  },
  {
   "cell_type": "markdown",
   "id": "de159422",
   "metadata": {},
   "source": [
    "###  + int constructor\n",
    "The int constructor accepts a float.\n",
    "\n",
    "Uses truncation ewhe casting the float to a int"
   ]
  },
  {
   "cell_type": "markdown",
   "id": "81d6eced",
   "metadata": {},
   "source": [
    "### - Floor\n",
    "The floor of a number is the largest integer less than (or equal to) the number.\n",
    "Recall also our discussion on integer division - aka floor division: //\n",
    "\n",
    "We defined floor division in combination with the mod operatio **n = d * (n // d) + (n % d))**\n",
    "\n",
    "But int fact, floor division defined that way yields the same result as taking the floor of the floating point division\n",
    "\n",
    "**a // b = floor(a / b)**"
   ]
  },
  {
   "cell_type": "markdown",
   "id": "dec37468",
   "metadata": {},
   "source": [
    "For positive numbers, Floor and Truncation are equivalent"
   ]
  },
  {
   "cell_type": "markdown",
   "id": "dbfbb7ce",
   "metadata": {},
   "source": [
    "### - Ceiling\n",
    "The ceiling of a number is the smalles integer **greater** than (or equal to ) the number"
   ]
  },
  {
   "cell_type": "markdown",
   "id": "72e65da3",
   "metadata": {},
   "source": [
    "----\n",
    "## Floats: Rounding"
   ]
  },
  {
   "cell_type": "markdown",
   "id": "907431a8",
   "metadata": {},
   "source": [
    "n = 0\n",
    "\n",
    "round to the closest multiple of 10^-0 = 1\n",
    "\n",
    "-1--x----2\n",
    "\n",
    "x = 1.23\n",
    "\n",
    "Round will round to the closest, which is 1\n",
    "\n",
    "\n",
    "++++++++++++++++++++++++++++++++++++++++++++++++++\n",
    "\n",
    "n = 1\n",
    "\n",
    "round to the closest multiple of 10^-1 = 0.1\n",
    "\n",
    "x = 1.23\n",
    "\n",
    "-1.2--x----1.3-\n",
    "\n",
    "round(1.23,1) = 1.2\n",
    "\n",
    "n = -1\n",
    "\n",
    "round to the closest multiple 10^-(-1) = 10\n",
    "\n",
    "x = 18.2\n",
    "\n",
    "-10-----x--20-\n",
    "\n",
    "round(18.2, -1) = 20"
   ]
  },
  {
   "cell_type": "markdown",
   "id": "404fb409",
   "metadata": {},
   "source": [
    "### - Ties\n",
    "\n",
    "x = 1.25\n",
    "\n",
    "-1.2-----x--1.3-\n",
    "\n",
    "We probably would expect **round(1.25,1)** to be 1.3 because there is no closest value\n",
    "\n",
    "Similarly, we would expect **round(-1.25,1)** to result in -1.3\n",
    "\n",
    "***We can say we are rounding away from zero***\n",
    "\n",
    "This type of roundis is called **rounding to neares, with ties away from zero**\n",
    "\n",
    "But in fact:  round(1.25,1) - > 1.2 towards 0\n",
    "\n",
    "___________  round(1.35, 1) - > 1.4 away from 0\n",
    "\n",
    "___________  round(-1.25, 1) - > -1.2 towards 0\n",
    "\n",
    "___________  round(-1.35, 1) - > -1.4 away from 0\n",
    "\n",
    "\n",
    "### - Bankers Rounding\n",
    "\n",
    "It rounds to the nearest value, with ties rounded to the nearest value with an **even** least significant digit.\n",
    "\n",
    "In case we have a tie:\n",
    "\n",
    "x = 1.25\n",
    "\n",
    "1.2----x----1.3\n",
    "\n",
    "\n",
    "from 1.2, 2 is even, so round(1.25,1) - > 1.2\n",
    "\n",
    "x = 1.35\n",
    "\n",
    "1.3----x----1.4\n",
    "\n",
    "Since 4 is even, so round(1.35,1) - > 1.4\n",
    "\n",
    "\n",
    "****we pick the last significant digit****\n",
    "\n"
   ]
  },
  {
   "cell_type": "markdown",
   "id": "921aec59",
   "metadata": {},
   "source": [
    "### Why Banker's Rounding?\n",
    "\n",
    "Less biased rounding than ties away from zero\n",
    "\n",
    "Consider averaging three numbers, and averaging the rounded values of each.\n",
    "\n",
    "If you really insist on rounding away from zero...\n",
    "\n",
    "One common (and partially incorrect) way to round to nearest unit that often comes up on the web is:\n",
    "\n",
    "int(x + 0.5)\n",
    "\n",
    "but, it does not work for negative numbers.\n",
    "\n",
    "-10.3 -> int(-10.3 + 0.5) = int(-9.8) = -9"
   ]
  },
  {
   "cell_type": "markdown",
   "id": "c9a3a9ca",
   "metadata": {},
   "source": [
    "If you really insist on rounding away from zero...\n",
    "\n",
    "The correct way to do it:\n",
    "\n",
    "sign(x) * int(abs(x)+ 0.5))\n",
    "\n",
    "_sign is a function where it return -1 or 1_"
   ]
  },
  {
   "cell_type": "code",
   "execution_count": 33,
   "id": "8ac56d17",
   "metadata": {},
   "outputs": [
    {
     "name": "stdout",
     "output_type": "stream",
     "text": [
      "Help on built-in function round in module builtins:\n",
      "\n",
      "round(number, ndigits=None)\n",
      "    Round a number to a given precision in decimal digits.\n",
      "    \n",
      "    The return value is an integer if ndigits is omitted or None.  Otherwise\n",
      "    the return value has the same type as the number.  ndigits may be negative.\n",
      "\n"
     ]
    }
   ],
   "source": [
    "help(round)"
   ]
  },
  {
   "cell_type": "code",
   "execution_count": 37,
   "id": "adc03293",
   "metadata": {},
   "outputs": [
    {
     "data": {
      "text/plain": [
       "(2, int)"
      ]
     },
     "execution_count": 37,
     "metadata": {},
     "output_type": "execute_result"
    }
   ],
   "source": [
    "a = round(1.9)\n",
    "a, type(a)"
   ]
  },
  {
   "cell_type": "code",
   "execution_count": 38,
   "id": "87a89a4c",
   "metadata": {},
   "outputs": [
    {
     "data": {
      "text/plain": [
       "(2.0, float)"
      ]
     },
     "execution_count": 38,
     "metadata": {},
     "output_type": "execute_result"
    }
   ],
   "source": [
    "a = round(1.9, 0)\n",
    "a, type(a)"
   ]
  },
  {
   "cell_type": "markdown",
   "id": "d1c4a466",
   "metadata": {},
   "source": [
    "n > 0"
   ]
  },
  {
   "cell_type": "code",
   "execution_count": 45,
   "id": "078f104c",
   "metadata": {},
   "outputs": [
    {
     "data": {
      "text/plain": [
       "(1.889, 1.89, 1.9, 2.0)"
      ]
     },
     "execution_count": 45,
     "metadata": {},
     "output_type": "execute_result"
    }
   ],
   "source": [
    "round(1.8888,3), round(1.8888,2), round(1.8888,1), round(1.8888,0),"
   ]
  },
  {
   "cell_type": "markdown",
   "id": "cd8e8ac0",
   "metadata": {},
   "source": [
    "n < 0"
   ]
  },
  {
   "cell_type": "code",
   "execution_count": 52,
   "id": "e725a334",
   "metadata": {},
   "outputs": [
    {
     "data": {
      "text/plain": [
       "(888.9, 889.0, 890.0, 900.0, 1000.0, 0.0)"
      ]
     },
     "execution_count": 52,
     "metadata": {},
     "output_type": "execute_result"
    }
   ],
   "source": [
    "round(888.88,1), round(888.88,0), round(888.88,-1), round(888.88,-2), round(888.88,-3), round(888.88,-4)"
   ]
  },
  {
   "cell_type": "code",
   "execution_count": 65,
   "id": "af1f4786",
   "metadata": {},
   "outputs": [
    {
     "data": {
      "text/plain": [
       "10000"
      ]
     },
     "execution_count": 65,
     "metadata": {},
     "output_type": "execute_result"
    }
   ],
   "source": [
    "round(9800,-4)"
   ]
  },
  {
   "cell_type": "code",
   "execution_count": null,
   "id": "22c42436",
   "metadata": {},
   "outputs": [],
   "source": []
  },
  {
   "cell_type": "markdown",
   "id": "8af74a95",
   "metadata": {},
   "source": [
    "#### Ties"
   ]
  },
  {
   "cell_type": "code",
   "execution_count": 68,
   "id": "c0e445b3",
   "metadata": {},
   "outputs": [
    {
     "data": {
      "text/plain": [
       "1.2"
      ]
     },
     "execution_count": 68,
     "metadata": {},
     "output_type": "execute_result"
    }
   ],
   "source": [
    "round(1.25,1)"
   ]
  },
  {
   "cell_type": "code",
   "execution_count": 70,
   "id": "d2314a51",
   "metadata": {},
   "outputs": [
    {
     "data": {
      "text/plain": [
       "1.4"
      ]
     },
     "execution_count": 70,
     "metadata": {},
     "output_type": "execute_result"
    }
   ],
   "source": [
    "round(1.35,1)"
   ]
  },
  {
   "cell_type": "code",
   "execution_count": 72,
   "id": "542abd89",
   "metadata": {},
   "outputs": [
    {
     "data": {
      "text/plain": [
       "(-1.2, -1.4)"
      ]
     },
     "execution_count": 72,
     "metadata": {},
     "output_type": "execute_result"
    }
   ],
   "source": [
    "round(-1.25, 1), round(-1.35, 1)"
   ]
  },
  {
   "cell_type": "code",
   "execution_count": 83,
   "id": "f521921b",
   "metadata": {},
   "outputs": [],
   "source": [
    "def _round(x):\n",
    "    #Onlly rounds integer values\n",
    "    from math import copysign\n",
    "    return int(x + 0.5 * copysign(1,x))"
   ]
  },
  {
   "cell_type": "code",
   "execution_count": 84,
   "id": "69d06a0c",
   "metadata": {},
   "outputs": [
    {
     "data": {
      "text/plain": [
       "(2, 2)"
      ]
     },
     "execution_count": 84,
     "metadata": {},
     "output_type": "execute_result"
    }
   ],
   "source": [
    "round(1.5), _round(1.5)"
   ]
  },
  {
   "cell_type": "code",
   "execution_count": 85,
   "id": "0c99b89e",
   "metadata": {},
   "outputs": [
    {
     "data": {
      "text/plain": [
       "(-2, -2)"
      ]
     },
     "execution_count": 85,
     "metadata": {},
     "output_type": "execute_result"
    }
   ],
   "source": [
    "round(-1.5), _round(-1.5)"
   ]
  },
  {
   "cell_type": "code",
   "execution_count": 86,
   "id": "9b3370a5",
   "metadata": {},
   "outputs": [
    {
     "data": {
      "text/plain": [
       "(2, 3)"
      ]
     },
     "execution_count": 86,
     "metadata": {},
     "output_type": "execute_result"
    }
   ],
   "source": [
    "round(2.5), _round(2.5)"
   ]
  },
  {
   "cell_type": "code",
   "execution_count": 90,
   "id": "b613f377",
   "metadata": {},
   "outputs": [
    {
     "data": {
      "text/plain": [
       "(-2, -3)"
      ]
     },
     "execution_count": 90,
     "metadata": {},
     "output_type": "execute_result"
    }
   ],
   "source": [
    "round(-2.5), _round(-2.5)"
   ]
  },
  {
   "cell_type": "code",
   "execution_count": 89,
   "id": "806d5209",
   "metadata": {},
   "outputs": [
    {
     "name": "stdout",
     "output_type": "stream",
     "text": [
      "Help on built-in function round in module builtins:\n",
      "\n",
      "round(number, ndigits=None)\n",
      "    Round a number to a given precision in decimal digits.\n",
      "    \n",
      "    The return value is an integer if ndigits is omitted or None.  Otherwise\n",
      "    the return value has the same type as the number.  ndigits may be negative.\n",
      "\n"
     ]
    }
   ],
   "source": []
  },
  {
   "cell_type": "markdown",
   "id": "81c9ab80",
   "metadata": {},
   "source": [
    "---\n",
    "## Decimals"
   ]
  },
  {
   "cell_type": "code",
   "execution_count": 1,
   "id": "a6807751",
   "metadata": {},
   "outputs": [],
   "source": [
    "import decimal\n",
    "from decimal import Decimal"
   ]
  },
  {
   "cell_type": "code",
   "execution_count": 2,
   "id": "26d4dcc9",
   "metadata": {},
   "outputs": [
    {
     "data": {
      "text/plain": [
       "Context(prec=28, rounding=ROUND_HALF_EVEN, Emin=-999999, Emax=999999, capitals=1, clamp=0, flags=[], traps=[InvalidOperation, DivisionByZero, Overflow])"
      ]
     },
     "execution_count": 2,
     "metadata": {},
     "output_type": "execute_result"
    }
   ],
   "source": [
    "decimal.getcontext()"
   ]
  },
  {
   "cell_type": "code",
   "execution_count": 5,
   "id": "514b36aa",
   "metadata": {},
   "outputs": [
    {
     "data": {
      "text/plain": [
       "'ROUND_HALF_EVEN'"
      ]
     },
     "execution_count": 5,
     "metadata": {},
     "output_type": "execute_result"
    }
   ],
   "source": [
    "decimal.getcontext().rounding"
   ]
  },
  {
   "cell_type": "code",
   "execution_count": 8,
   "id": "198eb05b",
   "metadata": {},
   "outputs": [],
   "source": [
    "decimal.getcontext().prec = 6"
   ]
  },
  {
   "cell_type": "code",
   "execution_count": 9,
   "id": "35ca64eb",
   "metadata": {},
   "outputs": [
    {
     "data": {
      "text/plain": [
       "Context(prec=28, rounding=ROUND_HALF_EVEN, Emin=-999999, Emax=999999, capitals=1, clamp=0, flags=[], traps=[InvalidOperation, DivisionByZero, Overflow])"
      ]
     },
     "execution_count": 9,
     "metadata": {},
     "output_type": "execute_result"
    }
   ],
   "source": [
    "decimal.getcontext()"
   ]
  },
  {
   "cell_type": "code",
   "execution_count": 19,
   "id": "6f62519b",
   "metadata": {},
   "outputs": [
    {
     "data": {
      "text/plain": [
       "decimal.Context"
      ]
     },
     "execution_count": 19,
     "metadata": {},
     "output_type": "execute_result"
    }
   ],
   "source": [
    "g_ctx = decimal.getcontext()\n",
    "type(g_ctx)"
   ]
  },
  {
   "cell_type": "code",
   "execution_count": 20,
   "id": "99fe14c8",
   "metadata": {},
   "outputs": [],
   "source": [
    "g_ctx.rounding = decimal.ROUND_HALF_UP"
   ]
  },
  {
   "cell_type": "code",
   "execution_count": 21,
   "id": "ab43a19c",
   "metadata": {},
   "outputs": [
    {
     "data": {
      "text/plain": [
       "str"
      ]
     },
     "execution_count": 21,
     "metadata": {},
     "output_type": "execute_result"
    }
   ],
   "source": [
    "type(decimal.ROUND_HALF_UP)"
   ]
  },
  {
   "cell_type": "code",
   "execution_count": 22,
   "id": "a9fbd00d",
   "metadata": {},
   "outputs": [
    {
     "data": {
      "text/plain": [
       "Context(prec=28, rounding=ROUND_HALF_EVEN, Emin=-999999, Emax=999999, capitals=1, clamp=0, flags=[], traps=[InvalidOperation, DivisionByZero, Overflow])"
      ]
     },
     "execution_count": 22,
     "metadata": {},
     "output_type": "execute_result"
    }
   ],
   "source": [
    "decimal.getcontext()"
   ]
  },
  {
   "cell_type": "code",
   "execution_count": 24,
   "id": "43839214",
   "metadata": {},
   "outputs": [],
   "source": [
    "g_ctx.prec = 28\n",
    "g_ctx.rounding = decimal.ROUND_HALF_EVEN"
   ]
  },
  {
   "cell_type": "code",
   "execution_count": 25,
   "id": "acb744aa",
   "metadata": {},
   "outputs": [
    {
     "data": {
      "text/plain": [
       "Context(prec=28, rounding=ROUND_HALF_EVEN, Emin=-999999, Emax=999999, capitals=1, clamp=0, flags=[], traps=[InvalidOperation, DivisionByZero, Overflow])"
      ]
     },
     "execution_count": 25,
     "metadata": {},
     "output_type": "execute_result"
    }
   ],
   "source": [
    "decimal.getcontext()"
   ]
  },
  {
   "cell_type": "code",
   "execution_count": 26,
   "id": "e24c3f6d",
   "metadata": {},
   "outputs": [
    {
     "data": {
      "text/plain": [
       "decimal.ContextManager"
      ]
     },
     "execution_count": 26,
     "metadata": {},
     "output_type": "execute_result"
    }
   ],
   "source": [
    "type(decimal.localcontext())"
   ]
  },
  {
   "cell_type": "code",
   "execution_count": 27,
   "id": "f33c21fb",
   "metadata": {},
   "outputs": [
    {
     "data": {
      "text/plain": [
       "decimal.Context"
      ]
     },
     "execution_count": 27,
     "metadata": {},
     "output_type": "execute_result"
    }
   ],
   "source": [
    "type(decimal.getcontext())"
   ]
  },
  {
   "cell_type": "code",
   "execution_count": 31,
   "id": "b76fcfe8",
   "metadata": {},
   "outputs": [],
   "source": [
    "x = Decimal('1.25')\n",
    "y = Decimal('1.35')"
   ]
  },
  {
   "cell_type": "code",
   "execution_count": 34,
   "id": "17a4134e",
   "metadata": {},
   "outputs": [
    {
     "name": "stdout",
     "output_type": "stream",
     "text": [
      "1.3\n",
      "1.4\n",
      "1.2\n",
      "1.4\n"
     ]
    }
   ],
   "source": [
    "with decimal.localcontext() as ctx:\n",
    "    ctx.prec = 6\n",
    "    ctx.rounding = decimal.ROUND_HALF_UP\n",
    "    print(round(x,1))\n",
    "    print(round(y,1))\n",
    "\n",
    "#The context in the module level is to ROUND_HALF_EVEN\n",
    "print(round(x,1))\n",
    "print(round(y,1))"
   ]
  },
  {
   "cell_type": "markdown",
   "id": "5077c0bf",
   "metadata": {},
   "source": [
    "-----\n",
    "## Decimals: Constructors and Contexts"
   ]
  },
  {
   "cell_type": "code",
   "execution_count": 42,
   "id": "a85d7cef",
   "metadata": {},
   "outputs": [],
   "source": [
    "import decimal\n",
    "from decimal import Decimal"
   ]
  },
  {
   "cell_type": "code",
   "execution_count": 43,
   "id": "4f5d033a",
   "metadata": {},
   "outputs": [
    {
     "name": "stdout",
     "output_type": "stream",
     "text": [
      "Help on class Decimal in module decimal:\n",
      "\n",
      "class Decimal(builtins.object)\n",
      " |  Decimal(value='0', context=None)\n",
      " |  \n",
      " |  Construct a new Decimal object. 'value' can be an integer, string, tuple,\n",
      " |  or another Decimal object. If no value is given, return Decimal('0'). The\n",
      " |  context does not affect the conversion and is only passed to determine if\n",
      " |  the InvalidOperation trap is active.\n",
      " |  \n",
      " |  Methods defined here:\n",
      " |  \n",
      " |  __abs__(self, /)\n",
      " |      abs(self)\n",
      " |  \n",
      " |  __add__(self, value, /)\n",
      " |      Return self+value.\n",
      " |  \n",
      " |  __bool__(self, /)\n",
      " |      self != 0\n",
      " |  \n",
      " |  __ceil__(...)\n",
      " |  \n",
      " |  __complex__(...)\n",
      " |  \n",
      " |  __copy__(...)\n",
      " |  \n",
      " |  __deepcopy__(...)\n",
      " |  \n",
      " |  __divmod__(self, value, /)\n",
      " |      Return divmod(self, value).\n",
      " |  \n",
      " |  __eq__(self, value, /)\n",
      " |      Return self==value.\n",
      " |  \n",
      " |  __float__(self, /)\n",
      " |      float(self)\n",
      " |  \n",
      " |  __floor__(...)\n",
      " |  \n",
      " |  __floordiv__(self, value, /)\n",
      " |      Return self//value.\n",
      " |  \n",
      " |  __format__(...)\n",
      " |      Default object formatter.\n",
      " |  \n",
      " |  __ge__(self, value, /)\n",
      " |      Return self>=value.\n",
      " |  \n",
      " |  __getattribute__(self, name, /)\n",
      " |      Return getattr(self, name).\n",
      " |  \n",
      " |  __gt__(self, value, /)\n",
      " |      Return self>value.\n",
      " |  \n",
      " |  __hash__(self, /)\n",
      " |      Return hash(self).\n",
      " |  \n",
      " |  __int__(self, /)\n",
      " |      int(self)\n",
      " |  \n",
      " |  __le__(self, value, /)\n",
      " |      Return self<=value.\n",
      " |  \n",
      " |  __lt__(self, value, /)\n",
      " |      Return self<value.\n",
      " |  \n",
      " |  __mod__(self, value, /)\n",
      " |      Return self%value.\n",
      " |  \n",
      " |  __mul__(self, value, /)\n",
      " |      Return self*value.\n",
      " |  \n",
      " |  __ne__(self, value, /)\n",
      " |      Return self!=value.\n",
      " |  \n",
      " |  __neg__(self, /)\n",
      " |      -self\n",
      " |  \n",
      " |  __pos__(self, /)\n",
      " |      +self\n",
      " |  \n",
      " |  __pow__(self, value, mod=None, /)\n",
      " |      Return pow(self, value, mod).\n",
      " |  \n",
      " |  __radd__(self, value, /)\n",
      " |      Return value+self.\n",
      " |  \n",
      " |  __rdivmod__(self, value, /)\n",
      " |      Return divmod(value, self).\n",
      " |  \n",
      " |  __reduce__(...)\n",
      " |      Helper for pickle.\n",
      " |  \n",
      " |  __repr__(self, /)\n",
      " |      Return repr(self).\n",
      " |  \n",
      " |  __rfloordiv__(self, value, /)\n",
      " |      Return value//self.\n",
      " |  \n",
      " |  __rmod__(self, value, /)\n",
      " |      Return value%self.\n",
      " |  \n",
      " |  __rmul__(self, value, /)\n",
      " |      Return value*self.\n",
      " |  \n",
      " |  __round__(...)\n",
      " |  \n",
      " |  __rpow__(self, value, mod=None, /)\n",
      " |      Return pow(value, self, mod).\n",
      " |  \n",
      " |  __rsub__(self, value, /)\n",
      " |      Return value-self.\n",
      " |  \n",
      " |  __rtruediv__(self, value, /)\n",
      " |      Return value/self.\n",
      " |  \n",
      " |  __sizeof__(...)\n",
      " |      Size of object in memory, in bytes.\n",
      " |  \n",
      " |  __str__(self, /)\n",
      " |      Return str(self).\n",
      " |  \n",
      " |  __sub__(self, value, /)\n",
      " |      Return self-value.\n",
      " |  \n",
      " |  __truediv__(self, value, /)\n",
      " |      Return self/value.\n",
      " |  \n",
      " |  __trunc__(...)\n",
      " |  \n",
      " |  adjusted(self, /)\n",
      " |      Return the adjusted exponent of the number.  Defined as exp + digits - 1.\n",
      " |  \n",
      " |  as_integer_ratio(self, /)\n",
      " |      Decimal.as_integer_ratio() -> (int, int)\n",
      " |      \n",
      " |      Return a pair of integers, whose ratio is exactly equal to the original\n",
      " |      Decimal and with a positive denominator. The ratio is in lowest terms.\n",
      " |      Raise OverflowError on infinities and a ValueError on NaNs.\n",
      " |  \n",
      " |  as_tuple(self, /)\n",
      " |      Return a tuple representation of the number.\n",
      " |  \n",
      " |  canonical(self, /)\n",
      " |      Return the canonical encoding of the argument.  Currently, the encoding\n",
      " |      of a Decimal instance is always canonical, so this operation returns its\n",
      " |      argument unchanged.\n",
      " |  \n",
      " |  compare(self, /, other, context=None)\n",
      " |      Compare self to other.  Return a decimal value:\n",
      " |      \n",
      " |      a or b is a NaN ==> Decimal('NaN')\n",
      " |      a < b           ==> Decimal('-1')\n",
      " |      a == b          ==> Decimal('0')\n",
      " |      a > b           ==> Decimal('1')\n",
      " |  \n",
      " |  compare_signal(self, /, other, context=None)\n",
      " |      Identical to compare, except that all NaNs signal.\n",
      " |  \n",
      " |  compare_total(self, /, other, context=None)\n",
      " |      Compare two operands using their abstract representation rather than\n",
      " |      their numerical value.  Similar to the compare() method, but the result\n",
      " |      gives a total ordering on Decimal instances.  Two Decimal instances with\n",
      " |      the same numeric value but different representations compare unequal\n",
      " |      in this ordering:\n",
      " |      \n",
      " |          >>> Decimal('12.0').compare_total(Decimal('12'))\n",
      " |          Decimal('-1')\n",
      " |      \n",
      " |      Quiet and signaling NaNs are also included in the total ordering. The result\n",
      " |      of this function is Decimal('0') if both operands have the same representation,\n",
      " |      Decimal('-1') if the first operand is lower in the total order than the second,\n",
      " |      and Decimal('1') if the first operand is higher in the total order than the\n",
      " |      second operand. See the specification for details of the total order.\n",
      " |      \n",
      " |      This operation is unaffected by context and is quiet: no flags are changed\n",
      " |      and no rounding is performed. As an exception, the C version may raise\n",
      " |      InvalidOperation if the second operand cannot be converted exactly.\n",
      " |  \n",
      " |  compare_total_mag(self, /, other, context=None)\n",
      " |      Compare two operands using their abstract representation rather than their\n",
      " |      value as in compare_total(), but ignoring the sign of each operand.\n",
      " |      \n",
      " |      x.compare_total_mag(y) is equivalent to x.copy_abs().compare_total(y.copy_abs()).\n",
      " |      \n",
      " |      This operation is unaffected by context and is quiet: no flags are changed\n",
      " |      and no rounding is performed. As an exception, the C version may raise\n",
      " |      InvalidOperation if the second operand cannot be converted exactly.\n",
      " |  \n",
      " |  conjugate(self, /)\n",
      " |      Return self.\n",
      " |  \n",
      " |  copy_abs(self, /)\n",
      " |      Return the absolute value of the argument.  This operation is unaffected by\n",
      " |      context and is quiet: no flags are changed and no rounding is performed.\n",
      " |  \n",
      " |  copy_negate(self, /)\n",
      " |      Return the negation of the argument.  This operation is unaffected by context\n",
      " |      and is quiet: no flags are changed and no rounding is performed.\n",
      " |  \n",
      " |  copy_sign(self, /, other, context=None)\n",
      " |      Return a copy of the first operand with the sign set to be the same as the\n",
      " |      sign of the second operand. For example:\n",
      " |      \n",
      " |          >>> Decimal('2.3').copy_sign(Decimal('-1.5'))\n",
      " |          Decimal('-2.3')\n",
      " |      \n",
      " |      This operation is unaffected by context and is quiet: no flags are changed\n",
      " |      and no rounding is performed. As an exception, the C version may raise\n",
      " |      InvalidOperation if the second operand cannot be converted exactly.\n",
      " |  \n",
      " |  exp(self, /, context=None)\n",
      " |      Return the value of the (natural) exponential function e**x at the given\n",
      " |      number.  The function always uses the ROUND_HALF_EVEN mode and the result\n",
      " |      is correctly rounded.\n",
      " |  \n",
      " |  fma(self, /, other, third, context=None)\n",
      " |      Fused multiply-add.  Return self*other+third with no rounding of the\n",
      " |      intermediate product self*other.\n",
      " |      \n",
      " |          >>> Decimal(2).fma(3, 5)\n",
      " |          Decimal('11')\n",
      " |  \n",
      " |  is_canonical(self, /)\n",
      " |      Return True if the argument is canonical and False otherwise.  Currently,\n",
      " |      a Decimal instance is always canonical, so this operation always returns\n",
      " |      True.\n",
      " |  \n",
      " |  is_finite(self, /)\n",
      " |      Return True if the argument is a finite number, and False if the argument\n",
      " |      is infinite or a NaN.\n",
      " |  \n",
      " |  is_infinite(self, /)\n",
      " |      Return True if the argument is either positive or negative infinity and\n",
      " |      False otherwise.\n",
      " |  \n",
      " |  is_nan(self, /)\n",
      " |      Return True if the argument is a (quiet or signaling) NaN and False\n",
      " |      otherwise.\n",
      " |  \n",
      " |  is_normal(self, /, context=None)\n",
      " |      Return True if the argument is a normal finite non-zero number with an\n",
      " |      adjusted exponent greater than or equal to Emin. Return False if the\n",
      " |      argument is zero, subnormal, infinite or a NaN.\n",
      " |  \n",
      " |  is_qnan(self, /)\n",
      " |      Return True if the argument is a quiet NaN, and False otherwise.\n",
      " |  \n",
      " |  is_signed(self, /)\n",
      " |      Return True if the argument has a negative sign and False otherwise.\n",
      " |      Note that both zeros and NaNs can carry signs.\n",
      " |  \n",
      " |  is_snan(self, /)\n",
      " |      Return True if the argument is a signaling NaN and False otherwise.\n",
      " |  \n",
      " |  is_subnormal(self, /, context=None)\n",
      " |      Return True if the argument is subnormal, and False otherwise. A number is\n",
      " |      subnormal if it is non-zero, finite, and has an adjusted exponent less\n",
      " |      than Emin.\n",
      " |  \n",
      " |  is_zero(self, /)\n",
      " |      Return True if the argument is a (positive or negative) zero and False\n",
      " |      otherwise.\n",
      " |  \n",
      " |  ln(self, /, context=None)\n",
      " |      Return the natural (base e) logarithm of the operand. The function always\n",
      " |      uses the ROUND_HALF_EVEN mode and the result is correctly rounded.\n",
      " |  \n",
      " |  log10(self, /, context=None)\n",
      " |      Return the base ten logarithm of the operand. The function always uses the\n",
      " |      ROUND_HALF_EVEN mode and the result is correctly rounded.\n",
      " |  \n",
      " |  logb(self, /, context=None)\n",
      " |      For a non-zero number, return the adjusted exponent of the operand as a\n",
      " |      Decimal instance.  If the operand is a zero, then Decimal('-Infinity') is\n",
      " |      returned and the DivisionByZero condition is raised. If the operand is\n",
      " |      an infinity then Decimal('Infinity') is returned.\n",
      " |  \n",
      " |  logical_and(self, /, other, context=None)\n",
      " |      Return the digit-wise 'and' of the two (logical) operands.\n",
      " |  \n",
      " |  logical_invert(self, /, context=None)\n",
      " |      Return the digit-wise inversion of the (logical) operand.\n",
      " |  \n",
      " |  logical_or(self, /, other, context=None)\n",
      " |      Return the digit-wise 'or' of the two (logical) operands.\n",
      " |  \n",
      " |  logical_xor(self, /, other, context=None)\n",
      " |      Return the digit-wise 'exclusive or' of the two (logical) operands.\n",
      " |  \n",
      " |  max(self, /, other, context=None)\n",
      " |      Maximum of self and other.  If one operand is a quiet NaN and the other is\n",
      " |      numeric, the numeric operand is returned.\n",
      " |  \n",
      " |  max_mag(self, /, other, context=None)\n",
      " |      Similar to the max() method, but the comparison is done using the absolute\n",
      " |      values of the operands.\n",
      " |  \n",
      " |  min(self, /, other, context=None)\n",
      " |      Minimum of self and other. If one operand is a quiet NaN and the other is\n",
      " |      numeric, the numeric operand is returned.\n",
      " |  \n",
      " |  min_mag(self, /, other, context=None)\n",
      " |      Similar to the min() method, but the comparison is done using the absolute\n",
      " |      values of the operands.\n",
      " |  \n",
      " |  next_minus(self, /, context=None)\n",
      " |      Return the largest number representable in the given context (or in the\n",
      " |      current default context if no context is given) that is smaller than the\n",
      " |      given operand.\n",
      " |  \n",
      " |  next_plus(self, /, context=None)\n",
      " |      Return the smallest number representable in the given context (or in the\n",
      " |      current default context if no context is given) that is larger than the\n",
      " |      given operand.\n",
      " |  \n",
      " |  next_toward(self, /, other, context=None)\n",
      " |      If the two operands are unequal, return the number closest to the first\n",
      " |      operand in the direction of the second operand.  If both operands are\n",
      " |      numerically equal, return a copy of the first operand with the sign set\n",
      " |      to be the same as the sign of the second operand.\n",
      " |  \n",
      " |  normalize(self, /, context=None)\n",
      " |      Normalize the number by stripping the rightmost trailing zeros and\n",
      " |      converting any result equal to Decimal('0') to Decimal('0e0').  Used\n",
      " |      for producing canonical values for members of an equivalence class.\n",
      " |      For example, Decimal('32.100') and Decimal('0.321000e+2') both normalize\n",
      " |      to the equivalent value Decimal('32.1').\n",
      " |  \n",
      " |  number_class(self, /, context=None)\n",
      " |      Return a string describing the class of the operand.  The returned value\n",
      " |      is one of the following ten strings:\n",
      " |      \n",
      " |          * '-Infinity', indicating that the operand is negative infinity.\n",
      " |          * '-Normal', indicating that the operand is a negative normal number.\n",
      " |          * '-Subnormal', indicating that the operand is negative and subnormal.\n",
      " |          * '-Zero', indicating that the operand is a negative zero.\n",
      " |          * '+Zero', indicating that the operand is a positive zero.\n",
      " |          * '+Subnormal', indicating that the operand is positive and subnormal.\n",
      " |          * '+Normal', indicating that the operand is a positive normal number.\n",
      " |          * '+Infinity', indicating that the operand is positive infinity.\n",
      " |          * 'NaN', indicating that the operand is a quiet NaN (Not a Number).\n",
      " |          * 'sNaN', indicating that the operand is a signaling NaN.\n",
      " |  \n",
      " |  quantize(self, /, exp, rounding=None, context=None)\n",
      " |      Return a value equal to the first operand after rounding and having the\n",
      " |      exponent of the second operand.\n",
      " |      \n",
      " |          >>> Decimal('1.41421356').quantize(Decimal('1.000'))\n",
      " |          Decimal('1.414')\n",
      " |      \n",
      " |      Unlike other operations, if the length of the coefficient after the quantize\n",
      " |      operation would be greater than precision, then an InvalidOperation is signaled.\n",
      " |      This guarantees that, unless there is an error condition, the quantized exponent\n",
      " |      is always equal to that of the right-hand operand.\n",
      " |      \n",
      " |      Also unlike other operations, quantize never signals Underflow, even if the\n",
      " |      result is subnormal and inexact.\n",
      " |      \n",
      " |      If the exponent of the second operand is larger than that of the first, then\n",
      " |      rounding may be necessary. In this case, the rounding mode is determined by the\n",
      " |      rounding argument if given, else by the given context argument; if neither\n",
      " |      argument is given, the rounding mode of the current thread's context is used.\n",
      " |  \n",
      " |  radix(self, /)\n",
      " |      Return Decimal(10), the radix (base) in which the Decimal class does\n",
      " |      all its arithmetic. Included for compatibility with the specification.\n",
      " |  \n",
      " |  remainder_near(self, /, other, context=None)\n",
      " |      Return the remainder from dividing self by other.  This differs from\n",
      " |      self % other in that the sign of the remainder is chosen so as to minimize\n",
      " |      its absolute value. More precisely, the return value is self - n * other\n",
      " |      where n is the integer nearest to the exact value of self / other, and\n",
      " |      if two integers are equally near then the even one is chosen.\n",
      " |      \n",
      " |      If the result is zero then its sign will be the sign of self.\n",
      " |  \n",
      " |  rotate(self, /, other, context=None)\n",
      " |      Return the result of rotating the digits of the first operand by an amount\n",
      " |      specified by the second operand.  The second operand must be an integer in\n",
      " |      the range -precision through precision. The absolute value of the second\n",
      " |      operand gives the number of places to rotate. If the second operand is\n",
      " |      positive then rotation is to the left; otherwise rotation is to the right.\n",
      " |      The coefficient of the first operand is padded on the left with zeros to\n",
      " |      length precision if necessary. The sign and exponent of the first operand are\n",
      " |      unchanged.\n",
      " |  \n",
      " |  same_quantum(self, /, other, context=None)\n",
      " |      Test whether self and other have the same exponent or whether both are NaN.\n",
      " |      \n",
      " |      This operation is unaffected by context and is quiet: no flags are changed\n",
      " |      and no rounding is performed. As an exception, the C version may raise\n",
      " |      InvalidOperation if the second operand cannot be converted exactly.\n",
      " |  \n",
      " |  scaleb(self, /, other, context=None)\n",
      " |      Return the first operand with the exponent adjusted the second.  Equivalently,\n",
      " |      return the first operand multiplied by 10**other. The second operand must be\n",
      " |      an integer.\n",
      " |  \n",
      " |  shift(self, /, other, context=None)\n",
      " |      Return the result of shifting the digits of the first operand by an amount\n",
      " |      specified by the second operand.  The second operand must be an integer in\n",
      " |      the range -precision through precision. The absolute value of the second\n",
      " |      operand gives the number of places to shift. If the second operand is\n",
      " |      positive, then the shift is to the left; otherwise the shift is to the\n",
      " |      right. Digits shifted into the coefficient are zeros. The sign and exponent\n",
      " |      of the first operand are unchanged.\n",
      " |  \n",
      " |  sqrt(self, /, context=None)\n",
      " |      Return the square root of the argument to full precision. The result is\n",
      " |      correctly rounded using the ROUND_HALF_EVEN rounding mode.\n",
      " |  \n",
      " |  to_eng_string(self, /, context=None)\n",
      " |      Convert to an engineering-type string.  Engineering notation has an exponent\n",
      " |      which is a multiple of 3, so there are up to 3 digits left of the decimal\n",
      " |      place. For example, Decimal('123E+1') is converted to Decimal('1.23E+3').\n",
      " |      \n",
      " |      The value of context.capitals determines whether the exponent sign is lower\n",
      " |      or upper case. Otherwise, the context does not affect the operation.\n",
      " |  \n",
      " |  to_integral(self, /, rounding=None, context=None)\n",
      " |      Identical to the to_integral_value() method.  The to_integral() name has been\n",
      " |      kept for compatibility with older versions.\n",
      " |  \n",
      " |  to_integral_exact(self, /, rounding=None, context=None)\n",
      " |      Round to the nearest integer, signaling Inexact or Rounded as appropriate if\n",
      " |      rounding occurs.  The rounding mode is determined by the rounding parameter\n",
      " |      if given, else by the given context. If neither parameter is given, then the\n",
      " |      rounding mode of the current default context is used.\n",
      " |  \n",
      " |  to_integral_value(self, /, rounding=None, context=None)\n",
      " |      Round to the nearest integer without signaling Inexact or Rounded.  The\n",
      " |      rounding mode is determined by the rounding parameter if given, else by\n",
      " |      the given context. If neither parameter is given, then the rounding mode\n",
      " |      of the current default context is used.\n",
      " |  \n",
      " |  ----------------------------------------------------------------------\n",
      " |  Class methods defined here:\n",
      " |  \n",
      " |  from_float(f, /) from builtins.type\n",
      " |      Class method that converts a float to a decimal number, exactly.\n",
      " |      Since 0.1 is not exactly representable in binary floating point,\n",
      " |      Decimal.from_float(0.1) is not the same as Decimal('0.1').\n",
      " |      \n",
      " |          >>> Decimal.from_float(0.1)\n",
      " |          Decimal('0.1000000000000000055511151231257827021181583404541015625')\n",
      " |          >>> Decimal.from_float(float('nan'))\n",
      " |          Decimal('NaN')\n",
      " |          >>> Decimal.from_float(float('inf'))\n",
      " |          Decimal('Infinity')\n",
      " |          >>> Decimal.from_float(float('-inf'))\n",
      " |          Decimal('-Infinity')\n",
      " |  \n",
      " |  ----------------------------------------------------------------------\n",
      " |  Static methods defined here:\n",
      " |  \n",
      " |  __new__(*args, **kwargs) from builtins.type\n",
      " |      Create and return a new object.  See help(type) for accurate signature.\n",
      " |  \n",
      " |  ----------------------------------------------------------------------\n",
      " |  Data descriptors defined here:\n",
      " |  \n",
      " |  imag\n",
      " |  \n",
      " |  real\n",
      "\n"
     ]
    }
   ],
   "source": [
    "help(Decimal)"
   ]
  },
  {
   "cell_type": "code",
   "execution_count": 44,
   "id": "a53b3567",
   "metadata": {},
   "outputs": [
    {
     "data": {
      "text/plain": [
       "Decimal('10')"
      ]
     },
     "execution_count": 44,
     "metadata": {},
     "output_type": "execute_result"
    }
   ],
   "source": [
    "Decimal(10)"
   ]
  },
  {
   "cell_type": "code",
   "execution_count": 45,
   "id": "67d45ea2",
   "metadata": {},
   "outputs": [
    {
     "data": {
      "text/plain": [
       "Decimal('10.1')"
      ]
     },
     "execution_count": 45,
     "metadata": {},
     "output_type": "execute_result"
    }
   ],
   "source": [
    "Decimal('10.1')"
   ]
  },
  {
   "cell_type": "code",
   "execution_count": 46,
   "id": "5511a0e6",
   "metadata": {},
   "outputs": [
    {
     "data": {
      "text/plain": [
       "Decimal('-3.1415')"
      ]
     },
     "execution_count": 46,
     "metadata": {},
     "output_type": "execute_result"
    }
   ],
   "source": [
    "\n",
    "Decimal('-3.1415')"
   ]
  },
  {
   "cell_type": "code",
   "execution_count": 47,
   "id": "15a016bd",
   "metadata": {},
   "outputs": [],
   "source": [
    "#With tuples\n",
    "t = (0, (3,1,4,1,5), -4)"
   ]
  },
  {
   "cell_type": "code",
   "execution_count": 48,
   "id": "72461da5",
   "metadata": {},
   "outputs": [
    {
     "data": {
      "text/plain": [
       "Decimal('3.1415')"
      ]
     },
     "execution_count": 48,
     "metadata": {},
     "output_type": "execute_result"
    }
   ],
   "source": [
    "Decimal(t)"
   ]
  },
  {
   "cell_type": "code",
   "execution_count": 50,
   "id": "624af6f9",
   "metadata": {},
   "outputs": [
    {
     "data": {
      "text/plain": [
       "Decimal('3.1415')"
      ]
     },
     "execution_count": 50,
     "metadata": {},
     "output_type": "execute_result"
    }
   ],
   "source": [
    "#0 for positive\n",
    "Decimal((0, (3,1,4,1,5), -4))"
   ]
  },
  {
   "cell_type": "code",
   "execution_count": 51,
   "id": "46d98ea8",
   "metadata": {},
   "outputs": [
    {
     "data": {
      "text/plain": [
       "Decimal('-3.1415')"
      ]
     },
     "execution_count": 51,
     "metadata": {},
     "output_type": "execute_result"
    }
   ],
   "source": [
    "#1 for negative\n",
    "Decimal((1, (3,1,4,1,5), -4))"
   ]
  },
  {
   "cell_type": "code",
   "execution_count": 54,
   "id": "bbdee4c8",
   "metadata": {},
   "outputs": [
    {
     "data": {
      "text/plain": [
       "Decimal('-314.15')"
      ]
     },
     "execution_count": 54,
     "metadata": {},
     "output_type": "execute_result"
    }
   ],
   "source": [
    "\n",
    "Decimal((1, (3,1,4,1,5), -2))"
   ]
  },
  {
   "cell_type": "code",
   "execution_count": 55,
   "id": "ab7d55ef",
   "metadata": {},
   "outputs": [
    {
     "data": {
      "text/plain": [
       "'0.1000000000000000055511151'"
      ]
     },
     "execution_count": 55,
     "metadata": {},
     "output_type": "execute_result"
    }
   ],
   "source": [
    "format(0.1, '.25f')"
   ]
  },
  {
   "cell_type": "code",
   "execution_count": 56,
   "id": "fc75f87f",
   "metadata": {
    "scrolled": true
   },
   "outputs": [
    {
     "data": {
      "text/plain": [
       "Decimal('0.1000000000000000055511151231257827021181583404541015625')"
      ]
     },
     "execution_count": 56,
     "metadata": {},
     "output_type": "execute_result"
    }
   ],
   "source": [
    "Decimal(0.1)"
   ]
  },
  {
   "cell_type": "markdown",
   "id": "3d09e481",
   "metadata": {},
   "source": [
    "In case you do not want the exact number, just get in the constructor a string"
   ]
  },
  {
   "cell_type": "code",
   "execution_count": 57,
   "id": "2b248f03",
   "metadata": {},
   "outputs": [
    {
     "data": {
      "text/plain": [
       "Decimal('0.1')"
      ]
     },
     "execution_count": 57,
     "metadata": {},
     "output_type": "execute_result"
    }
   ],
   "source": [
    "Decimal('0.1')"
   ]
  },
  {
   "cell_type": "code",
   "execution_count": 58,
   "id": "b7904b8e",
   "metadata": {},
   "outputs": [
    {
     "data": {
      "text/plain": [
       "False"
      ]
     },
     "execution_count": 58,
     "metadata": {},
     "output_type": "execute_result"
    }
   ],
   "source": [
    "Decimal(0.1) == Decimal('0.1')"
   ]
  },
  {
   "cell_type": "code",
   "execution_count": 59,
   "id": "5f1d1132",
   "metadata": {},
   "outputs": [
    {
     "data": {
      "text/plain": [
       "Context(prec=28, rounding=ROUND_HALF_EVEN, Emin=-999999, Emax=999999, capitals=1, clamp=0, flags=[], traps=[InvalidOperation, DivisionByZero, Overflow])"
      ]
     },
     "execution_count": 59,
     "metadata": {},
     "output_type": "execute_result"
    }
   ],
   "source": [
    "decimal.getcontext()"
   ]
  },
  {
   "cell_type": "code",
   "execution_count": 62,
   "id": "fdaaf7c3",
   "metadata": {},
   "outputs": [],
   "source": [
    "decimal.getcontext().prec = 2"
   ]
  },
  {
   "cell_type": "code",
   "execution_count": 63,
   "id": "cd15fcb0",
   "metadata": {},
   "outputs": [],
   "source": [
    "a = Decimal('0.12345')\n",
    "b = Decimal('0.12345')"
   ]
  },
  {
   "cell_type": "code",
   "execution_count": 64,
   "id": "31cd83df",
   "metadata": {},
   "outputs": [
    {
     "data": {
      "text/plain": [
       "(Decimal('0.12345'), Decimal('0.12345'))"
      ]
     },
     "execution_count": 64,
     "metadata": {},
     "output_type": "execute_result"
    }
   ],
   "source": [
    "a,b"
   ]
  },
  {
   "cell_type": "code",
   "execution_count": 65,
   "id": "411b957a",
   "metadata": {},
   "outputs": [
    {
     "data": {
      "text/plain": [
       "0.2469"
      ]
     },
     "execution_count": 65,
     "metadata": {},
     "output_type": "execute_result"
    }
   ],
   "source": [
    "0.12345 + 0.12345"
   ]
  },
  {
   "cell_type": "markdown",
   "id": "d98e3ef0",
   "metadata": {},
   "source": [
    "The precision did affect the sum, as we can see below:"
   ]
  },
  {
   "cell_type": "code",
   "execution_count": 70,
   "id": "699ae1bc",
   "metadata": {},
   "outputs": [
    {
     "name": "stdout",
     "output_type": "stream",
     "text": [
      "result with local context:  0.25\n",
      "result without local context:  0.24690\n"
     ]
    }
   ],
   "source": [
    "with decimal.localcontext() as ctx:\n",
    "    ctx.prec = 2\n",
    "    result = a + b\n",
    "    print('result with local context: ', result)\n",
    "print('result without local context: ', a+b)"
   ]
  },
  {
   "cell_type": "markdown",
   "id": "d07f4d61",
   "metadata": {},
   "source": [
    "-----\n",
    "## Decimals: Math Operations"
   ]
  },
  {
   "cell_type": "markdown",
   "id": "084eff7f",
   "metadata": {},
   "source": [
    "Some artihmetic operator don't work the same as floats or integers.\n",
    "\n",
    "**//** and **%** and also **divmod()**\n",
    "\n",
    "For integers, the **//** operator performs floor division - > a // b = floor(a/b)\n",
    "\n",
    "For Decimales, however, it performs truncated division - >  a // b = trunc(a/b)"
   ]
  },
  {
   "cell_type": "code",
   "execution_count": 74,
   "id": "a03e41d5",
   "metadata": {},
   "outputs": [],
   "source": [
    "import decimal\n",
    "from decimal import Decimal"
   ]
  },
  {
   "cell_type": "markdown",
   "id": "6951f12c",
   "metadata": {},
   "source": [
    "// and %"
   ]
  },
  {
   "cell_type": "markdown",
   "id": "c2ebcaeb",
   "metadata": {},
   "source": [
    "n = d * (n//d) + (n%d)"
   ]
  },
  {
   "cell_type": "markdown",
   "id": "b6903504",
   "metadata": {},
   "source": [
    "With integers"
   ]
  },
  {
   "cell_type": "code",
   "execution_count": 77,
   "id": "ea09feeb",
   "metadata": {},
   "outputs": [
    {
     "name": "stdout",
     "output_type": "stream",
     "text": [
      "3 1\n",
      "(3, 1)\n",
      "True\n"
     ]
    }
   ],
   "source": [
    "x = 10\n",
    "y = 3\n",
    "print(x//y, x%y)\n",
    "print(divmod(x,y))\n",
    "print(x == y * (x//y) + (x%y))"
   ]
  },
  {
   "cell_type": "markdown",
   "id": "7663e1b8",
   "metadata": {},
   "source": [
    "With decimals"
   ]
  },
  {
   "cell_type": "code",
   "execution_count": 78,
   "id": "f7e89fd6",
   "metadata": {},
   "outputs": [
    {
     "name": "stdout",
     "output_type": "stream",
     "text": [
      "3 1\n",
      "(Decimal('3'), Decimal('1'))\n",
      "True\n"
     ]
    }
   ],
   "source": [
    "x = Decimal(10)\n",
    "y = Decimal(3)\n",
    "print(x//y, x%y)\n",
    "print(divmod(x,y))\n",
    "print(x == y * (x//y) + (x%y))"
   ]
  },
  {
   "cell_type": "markdown",
   "id": "f834b5f3",
   "metadata": {},
   "source": [
    "With negative numbers"
   ]
  },
  {
   "cell_type": "code",
   "execution_count": 79,
   "id": "44b98a67",
   "metadata": {},
   "outputs": [
    {
     "name": "stdout",
     "output_type": "stream",
     "text": [
      "-4 2\n",
      "(-4, 2)\n",
      "True\n"
     ]
    }
   ],
   "source": [
    "x = -10\n",
    "y = 3\n",
    "print(x//y, x%y)\n",
    "print(divmod(x,y))\n",
    "print(x == y * (x//y) + (x%y))"
   ]
  },
  {
   "cell_type": "code",
   "execution_count": 80,
   "id": "8056085a",
   "metadata": {},
   "outputs": [
    {
     "name": "stdout",
     "output_type": "stream",
     "text": [
      "-3 -1\n",
      "(Decimal('-3'), Decimal('-1'))\n",
      "True\n"
     ]
    }
   ],
   "source": [
    "x = Decimal(-10)\n",
    "y = Decimal(3)\n",
    "print(x//y, x%y)\n",
    "print(divmod(x,y))\n",
    "print(x == y * (x//y) + (x%y))"
   ]
  },
  {
   "cell_type": "markdown",
   "id": "ce28e302",
   "metadata": {},
   "source": [
    "Other math functions"
   ]
  },
  {
   "cell_type": "code",
   "execution_count": 101,
   "id": "eef63582",
   "metadata": {},
   "outputs": [
    {
     "name": "stdout",
     "output_type": "stream",
     "text": [
      "-2.302585092994045684017991455\n",
      "1.105170918075647624811707826\n",
      "0.3162277660168379331998893544\n"
     ]
    }
   ],
   "source": [
    "a = Decimal('0.1')\n",
    "print(a.ln())\n",
    "print(a.exp())\n",
    "print(a.sqrt())"
   ]
  },
  {
   "cell_type": "markdown",
   "id": "b9cb00ba",
   "metadata": {},
   "source": [
    "This will be different if we work with float values, to be more specific, let's import the math module"
   ]
  },
  {
   "cell_type": "code",
   "execution_count": 102,
   "id": "d7e2442b",
   "metadata": {},
   "outputs": [],
   "source": [
    "import math"
   ]
  },
  {
   "cell_type": "code",
   "execution_count": 103,
   "id": "70a2ece4",
   "metadata": {
    "scrolled": true
   },
   "outputs": [
    {
     "data": {
      "text/plain": [
       "0.31622776601683794"
      ]
     },
     "execution_count": 103,
     "metadata": {},
     "output_type": "execute_result"
    }
   ],
   "source": [
    "math.sqrt(a)"
   ]
  },
  {
   "cell_type": "markdown",
   "id": "65b79175",
   "metadata": {},
   "source": [
    "What happens is that math first converts the decimal to float"
   ]
  },
  {
   "cell_type": "code",
   "execution_count": 104,
   "id": "a1d2dd17",
   "metadata": {},
   "outputs": [],
   "source": [
    "x = 0.01\n",
    "x_dec = Decimal(0.01)"
   ]
  },
  {
   "cell_type": "code",
   "execution_count": 105,
   "id": "30933c34",
   "metadata": {},
   "outputs": [],
   "source": [
    "root_float = math.sqrt(x)\n",
    "root_mixed = math.sqrt(x_dec)\n",
    "root_dec = x_dec.sqrt()"
   ]
  },
  {
   "cell_type": "code",
   "execution_count": 106,
   "id": "48894fea",
   "metadata": {},
   "outputs": [
    {
     "name": "stdout",
     "output_type": "stream",
     "text": [
      "root_float: 0.1, root_mixed: 0.1, root_dec: 0.1000000000000000010408340856\n"
     ]
    }
   ],
   "source": [
    "print(f'root_float: {root_float}, root_mixed: {root_mixed}, root_dec: {root_dec}')"
   ]
  },
  {
   "cell_type": "code",
   "execution_count": 107,
   "id": "b7510a57",
   "metadata": {},
   "outputs": [
    {
     "name": "stdout",
     "output_type": "stream",
     "text": [
      "root_float: 0.010000000000000002, root_mixed: 0.010000000000000002, root_dec: 0.01000000000000000020816681712\n"
     ]
    }
   ],
   "source": [
    "print(f'root_float: {root_float ** 2}, root_mixed: {root_mixed ** 2}, root_dec: {root_dec ** 2}')"
   ]
  },
  {
   "cell_type": "markdown",
   "id": "d246654d",
   "metadata": {},
   "source": [
    "----\n",
    "## Decimals: Performance Considerations"
   ]
  },
  {
   "cell_type": "markdown",
   "id": "d097be7c",
   "metadata": {},
   "source": [
    "There are some drawbacks to the Decimal class vs the float class\n",
    "\n",
    "- not as easy to code: construction via strings or tuples\n",
    "- not all mathmeatical functions that exist in the math module have a Decimal counterpart\n",
    "- more memory overhead\n",
    "- performance: much slower than floats (relatively)"
   ]
  },
  {
   "cell_type": "code",
   "execution_count": 108,
   "id": "a2b42057",
   "metadata": {},
   "outputs": [],
   "source": [
    "from decimal import Decimal\n",
    "import sys"
   ]
  },
  {
   "cell_type": "code",
   "execution_count": 115,
   "id": "5680d5b7",
   "metadata": {},
   "outputs": [],
   "source": [
    "a = 3.1415\n",
    "b = Decimal('3.1415')"
   ]
  },
  {
   "cell_type": "code",
   "execution_count": 110,
   "id": "dd1fd4e2",
   "metadata": {},
   "outputs": [
    {
     "data": {
      "text/plain": [
       "24"
      ]
     },
     "execution_count": 110,
     "metadata": {},
     "output_type": "execute_result"
    }
   ],
   "source": [
    "sys.getsizeof(a)"
   ]
  },
  {
   "cell_type": "code",
   "execution_count": 111,
   "id": "f795d1ad",
   "metadata": {},
   "outputs": [
    {
     "data": {
      "text/plain": [
       "104"
      ]
     },
     "execution_count": 111,
     "metadata": {},
     "output_type": "execute_result"
    }
   ],
   "source": [
    "sys.getsizeof(b)"
   ]
  },
  {
   "cell_type": "markdown",
   "id": "b4af6514",
   "metadata": {},
   "source": [
    "Every Decimal objects requieres larger memory"
   ]
  },
  {
   "cell_type": "code",
   "execution_count": 116,
   "id": "500a2990",
   "metadata": {},
   "outputs": [],
   "source": [
    "import time\n",
    "\n",
    "def run_float(n=1):\n",
    "    for i in range(n):\n",
    "        a = 3.1415\n",
    "        \n",
    "def run_decimal(n=1):\n",
    "    for i in range(n):\n",
    "        a = Decimal('3.1415')"
   ]
  },
  {
   "cell_type": "code",
   "execution_count": 117,
   "id": "19c2d371",
   "metadata": {},
   "outputs": [
    {
     "name": "stdout",
     "output_type": "stream",
     "text": [
      "float:  0.40164843100001235\n"
     ]
    }
   ],
   "source": [
    "n = 10000000\n",
    "start = time.perf_counter()\n",
    "run_float(n)\n",
    "end = time.perf_counter()\n",
    "print('float: ', end-start)"
   ]
  },
  {
   "cell_type": "code",
   "execution_count": 118,
   "id": "cb22b5ed",
   "metadata": {},
   "outputs": [
    {
     "name": "stdout",
     "output_type": "stream",
     "text": [
      "run_decimal:  2.4175517439998657\n"
     ]
    }
   ],
   "source": [
    "n = 10000000\n",
    "start = time.perf_counter()\n",
    "run_decimal(n)\n",
    "end = time.perf_counter()\n",
    "print('run_decimal: ', end-start)"
   ]
  },
  {
   "cell_type": "code",
   "execution_count": 119,
   "id": "ab022d4c",
   "metadata": {},
   "outputs": [],
   "source": [
    "\n",
    "\n",
    "def run_float(n=1):\n",
    "    a = 3.1415\n",
    "    for i in range(n):\n",
    "        a + a\n",
    "        \n",
    "def run_decimal(n=1):\n",
    "    a = Decimal('3.1415')\n",
    "    for i in range(n):\n",
    "       a + a"
   ]
  },
  {
   "cell_type": "code",
   "execution_count": 122,
   "id": "cc0bb422",
   "metadata": {},
   "outputs": [
    {
     "name": "stdout",
     "output_type": "stream",
     "text": [
      "float:  0.5072368400001324\n",
      "run_decimal:  0.9023858519999521\n"
     ]
    }
   ],
   "source": [
    "n = 10000000\n",
    "start = time.perf_counter()\n",
    "run_float(n)\n",
    "end = time.perf_counter()\n",
    "print('float: ', end-start)\n",
    "n = 10000000\n",
    "start = time.perf_counter()\n",
    "run_decimal(n)\n",
    "end = time.perf_counter()\n",
    "print('run_decimal: ', end-start)\n"
   ]
  },
  {
   "cell_type": "markdown",
   "id": "6530fde6",
   "metadata": {},
   "source": [
    "Square Root"
   ]
  },
  {
   "cell_type": "code",
   "execution_count": 123,
   "id": "36734266",
   "metadata": {},
   "outputs": [
    {
     "name": "stdout",
     "output_type": "stream",
     "text": [
      "float:  0.6278716020001411\n",
      "run_decimal:  40.30973671799984\n"
     ]
    }
   ],
   "source": [
    "import math\n",
    "\n",
    "def run_float(n=1):\n",
    "    a = 3.1415\n",
    "    for i in range(n):\n",
    "        math.sqrt(a)\n",
    "        \n",
    "def run_decimal(n=1):\n",
    "    a = Decimal('3.1415')\n",
    "    for i in range(n):\n",
    "       a.sqrt()\n",
    "    \n",
    "    \n",
    "n = 5000000\n",
    "start = time.perf_counter()\n",
    "run_float(n)\n",
    "end = time.perf_counter()\n",
    "print('float: ', end-start)\n",
    "n = 10000000\n",
    "start = time.perf_counter()\n",
    "run_decimal(n)\n",
    "end = time.perf_counter()\n",
    "print('run_decimal: ', end-start)\n"
   ]
  },
  {
   "cell_type": "markdown",
   "id": "7be99706",
   "metadata": {},
   "source": [
    "Substancially slower"
   ]
  },
  {
   "cell_type": "markdown",
   "id": "4864aa5b",
   "metadata": {},
   "source": []
  }
 ],
 "metadata": {
  "kernelspec": {
   "display_name": "Python 3",
   "language": "python",
   "name": "python3"
  },
  "language_info": {
   "codemirror_mode": {
    "name": "ipython",
    "version": 3
   },
   "file_extension": ".py",
   "mimetype": "text/x-python",
   "name": "python",
   "nbconvert_exporter": "python",
   "pygments_lexer": "ipython3",
   "version": "3.9.7"
  }
 },
 "nbformat": 4,
 "nbformat_minor": 5
}
