{
 "cells": [
  {
   "cell_type": "markdown",
   "id": "19895dcf",
   "metadata": {},
   "source": [
    "# Numeric Types "
   ]
  },
  {
   "cell_type": "markdown",
   "id": "bd6a4efa",
   "metadata": {},
   "source": [
    "----\n",
    "## Numbers"
   ]
  },
  {
   "cell_type": "markdown",
   "id": "5207fb40",
   "metadata": {},
   "source": [
    "Integer Numbers. Python Type: int\n",
    "<br>\n",
    "Rational Numbers. Python Type: fractions.Fraction\n",
    "<br>\n",
    "Real Numbers. Python Type: float decimal.Decimal\n",
    "<br>\n",
    "Complex Numbers. Python Type: complex\n",
    "<br>\n",
    "Boolean. "
   ]
  },
  {
   "cell_type": "markdown",
   "id": "20e76656",
   "metadata": {},
   "source": [
    "----\n",
    "## Integer: Data Types"
   ]
  },
  {
   "cell_type": "markdown",
   "id": "bdabc749",
   "metadata": {},
   "source": [
    "Integers are represented internally using base-2 (binary) digits, not decimal."
   ]
  },
  {
   "cell_type": "markdown",
   "id": "05cac651",
   "metadata": {},
   "source": [
    "The int object uses a variable number of bits.\n",
    "<br>\n",
    "Can use 4 bytes (32 bits), 8 bytes (64 bits), 12 bytes (96 bits), etc.\n",
    "<br>\n",
    "Since ints are actually objects, there is a further fixed overhead per integer\n",
    "<br>\n",
    "Theoretically limited only by the amount of memeory available."
   ]
  },
  {
   "cell_type": "code",
   "execution_count": 2,
   "id": "652b3a1f",
   "metadata": {},
   "outputs": [
    {
     "name": "stdout",
     "output_type": "stream",
     "text": [
      "<class 'int'>\n"
     ]
    }
   ],
   "source": [
    "print(type(100))"
   ]
  },
  {
   "cell_type": "code",
   "execution_count": 3,
   "id": "4d51a751",
   "metadata": {},
   "outputs": [],
   "source": [
    "import sys"
   ]
  },
  {
   "cell_type": "code",
   "execution_count": 4,
   "id": "0485791e",
   "metadata": {},
   "outputs": [
    {
     "data": {
      "text/plain": [
       "24"
      ]
     },
     "execution_count": 4,
     "metadata": {},
     "output_type": "execute_result"
    }
   ],
   "source": [
    "sys.getsizeof(0)"
   ]
  },
  {
   "cell_type": "markdown",
   "id": "1e52f29b",
   "metadata": {},
   "source": [
    "Allow us to find out how much memory is used to store a particular value.\n",
    "<br>\n",
    "The result is 24 bytes."
   ]
  },
  {
   "cell_type": "code",
   "execution_count": 5,
   "id": "b296fb9d",
   "metadata": {},
   "outputs": [
    {
     "data": {
      "text/plain": [
       "28"
      ]
     },
     "execution_count": 5,
     "metadata": {},
     "output_type": "execute_result"
    }
   ],
   "source": [
    "sys.getsizeof(1)"
   ]
  },
  {
   "cell_type": "code",
   "execution_count": 6,
   "id": "c8e7b572",
   "metadata": {},
   "outputs": [
    {
     "data": {
      "text/plain": [
       "160"
      ]
     },
     "execution_count": 6,
     "metadata": {},
     "output_type": "execute_result"
    }
   ],
   "source": [
    "sys.getsizeof(2**1000)"
   ]
  },
  {
   "cell_type": "code",
   "execution_count": 7,
   "id": "430f1146",
   "metadata": {},
   "outputs": [
    {
     "data": {
      "text/plain": [
       "1088"
      ]
     },
     "execution_count": 7,
     "metadata": {},
     "output_type": "execute_result"
    }
   ],
   "source": [
    "(160 - 24) * 8"
   ]
  },
  {
   "cell_type": "markdown",
   "id": "f8e28988",
   "metadata": {},
   "source": [
    "We used 1088 bits to store 160 bytes"
   ]
  },
  {
   "cell_type": "code",
   "execution_count": 8,
   "id": "ebd8ca33",
   "metadata": {},
   "outputs": [],
   "source": [
    "import time"
   ]
  },
  {
   "cell_type": "code",
   "execution_count": 9,
   "id": "4856f064",
   "metadata": {},
   "outputs": [],
   "source": [
    "def calc(a):\n",
    "    for i in range(10000000):\n",
    "        a * 2"
   ]
  },
  {
   "cell_type": "code",
   "execution_count": 10,
   "id": "8af994d8",
   "metadata": {},
   "outputs": [
    {
     "name": "stdout",
     "output_type": "stream",
     "text": [
      "0.5089969329999349\n"
     ]
    }
   ],
   "source": [
    "start = time.perf_counter()\n",
    "calc(10)\n",
    "end = time.perf_counter()\n",
    "print(end - start)"
   ]
  },
  {
   "cell_type": "code",
   "execution_count": 12,
   "id": "06e4e0a2",
   "metadata": {},
   "outputs": [
    {
     "name": "stdout",
     "output_type": "stream",
     "text": [
      "0.8276703349999934\n"
     ]
    }
   ],
   "source": [
    "start = time.perf_counter()\n",
    "calc(2**100)\n",
    "end = time.perf_counter()\n",
    "print(end - start)"
   ]
  },
  {
   "cell_type": "code",
   "execution_count": 13,
   "id": "36ee5b95",
   "metadata": {},
   "outputs": [
    {
     "name": "stdout",
     "output_type": "stream",
     "text": [
      "5.805058163000012\n"
     ]
    }
   ],
   "source": [
    "start = time.perf_counter()\n",
    "calc(2**10000)\n",
    "end = time.perf_counter()\n",
    "print(end - start)"
   ]
  },
  {
   "cell_type": "markdown",
   "id": "98e705da",
   "metadata": {},
   "source": [
    "## Integers: Operations"
   ]
  },
  {
   "cell_type": "markdown",
   "id": "2037c81c",
   "metadata": {},
   "source": [
    "First, let's revisit long integer division\n",
    "<br>\n",
    "155 = numerator\n",
    "<br>\n",
    "////\n",
    "<br>\n",
    "4 = denominator\n",
    "<br>\n",
    "155 / 4 = 38 with remainder 3"
   ]
  },
  {
   "cell_type": "markdown",
   "id": "038b2195",
   "metadata": {},
   "source": [
    "Put another way:\n",
    "<br>\n",
    "155 = 4 * 38 + 3"
   ]
  },
  {
   "cell_type": "code",
   "execution_count": 16,
   "id": "41cf4c66",
   "metadata": {},
   "outputs": [
    {
     "data": {
      "text/plain": [
       "38"
      ]
     },
     "execution_count": 16,
     "metadata": {},
     "output_type": "execute_result"
    }
   ],
   "source": [
    "155 // 4"
   ]
  },
  {
   "cell_type": "markdown",
   "id": "dad14f4e",
   "metadata": {},
   "source": [
    "Is called the floor division"
   ]
  },
  {
   "cell_type": "code",
   "execution_count": 17,
   "id": "882a8851",
   "metadata": {},
   "outputs": [
    {
     "data": {
      "text/plain": [
       "3"
      ]
     },
     "execution_count": 17,
     "metadata": {},
     "output_type": "execute_result"
    }
   ],
   "source": [
    "155 % 4"
   ]
  },
  {
   "cell_type": "markdown",
   "id": "815bf1a8",
   "metadata": {},
   "source": [
    "Is called the modulo operator (mod)"
   ]
  },
  {
   "cell_type": "markdown",
   "id": "2fd0a063",
   "metadata": {},
   "source": [
    "155 = 4 * (155 // 4) + (155 % 4)"
   ]
  },
  {
   "cell_type": "code",
   "execution_count": null,
   "id": "bf354225",
   "metadata": {},
   "outputs": [],
   "source": []
  }
 ],
 "metadata": {
  "kernelspec": {
   "display_name": "Python 3",
   "language": "python",
   "name": "python3"
  },
  "language_info": {
   "codemirror_mode": {
    "name": "ipython",
    "version": 3
   },
   "file_extension": ".py",
   "mimetype": "text/x-python",
   "name": "python",
   "nbconvert_exporter": "python",
   "pygments_lexer": "ipython3",
   "version": "3.9.7"
  }
 },
 "nbformat": 4,
 "nbformat_minor": 5
}
