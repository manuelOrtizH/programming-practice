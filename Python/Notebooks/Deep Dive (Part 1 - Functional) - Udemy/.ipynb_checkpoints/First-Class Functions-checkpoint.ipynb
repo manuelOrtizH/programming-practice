{
 "cells": [
  {
   "cell_type": "markdown",
   "id": "a0cc20d6",
   "metadata": {},
   "source": [
    "# First-Class Functions"
   ]
  },
  {
   "cell_type": "markdown",
   "id": "580321ba",
   "metadata": {},
   "source": [
    "### First-Class Objects\n",
    "\n",
    "can be passed to a function as an argument\n",
    "\n",
    "can be returned from a function\n",
    "\n",
    "can be assigned to a variable\n",
    "\n",
    "can be stored in a data structure \n",
    "\n",
    "Types such as **int,float,string,tuple,list** and many more are first-class objects.\n",
    "\n",
    "Functions(**function**) are also first-class objects\n",
    "\n",
    "\n",
    "### High-Order Functions\n",
    "\n",
    "Higher-order functions are functions that:\n",
    "\n",
    "take a function as an argument (e.g. the simple timer we wrote in the last section)\n",
    "\n",
    "and/or\n",
    "\n",
    "**return** a function"
   ]
  },
  {
   "cell_type": "markdown",
   "id": "dcb244e7",
   "metadata": {},
   "source": [
    "----\n",
    "## Docstrings and Annotations"
   ]
  },
  {
   "cell_type": "markdown",
   "id": "2769feec",
   "metadata": {},
   "source": [
    "We have seen the **help(x)** function before, it returns some documentation (if available)\n",
    "\n",
    "We can ocument our functions (and modules, classes, etc) to achieve the same result using **docstrings**\n",
    "\n",
    "If the first line in the function body is a string (not an assignmen, not a comment, just a string by itself), it will be interpreted as a **docstring**\n",
    "\n",
    "def my_func(a):\n",
    "    \"documentation for my_func\"\n",
    "    return a\n",
    "    \n",
    "help(my_func) - > \"documentation for my_func\"\n",
    "\n",
    "Multi-line docstring are achieved using... **multi-line strings!**\n",
    "\n",
    "**Where are docstrings stored?**\n",
    "\n",
    "    In the function's __doc__ property\n",
    "\n",
    "    def fact(n):\n",
    "        ''' Calculates...'''\n",
    "    \n",
    "    fact.__doc__ ->  'Calculates...'\n",
    "\n",
    "\n",
    "**Function Annotations**\n",
    "\n",
    "Function annotations give us an additional way to document our functions\n",
    "\n",
    "\n",
    "def my_func(a: <expression>, b: <expression>) -> <expression>:\n",
    "    \n",
    "    pass\n",
    "\n",
    "**note: -> return expression\n",
    "    \n",
    "    \n",
    "Example:\n",
    "    \n",
    "    \n",
    " "
   ]
  },
  {
   "cell_type": "code",
   "execution_count": 1,
   "id": "cc689e90",
   "metadata": {},
   "outputs": [],
   "source": [
    "def my_func(a: 'a string', b: 'a positive integer') -> 'a string':\n",
    "    return a * b"
   ]
  },
  {
   "cell_type": "code",
   "execution_count": 2,
   "id": "c6e52b2c",
   "metadata": {},
   "outputs": [
    {
     "name": "stdout",
     "output_type": "stream",
     "text": [
      "Help on function my_func in module __main__:\n",
      "\n",
      "my_func(a: 'a string', b: 'a positive integer') -> 'a string'\n",
      "\n"
     ]
    }
   ],
   "source": [
    "help(my_func)"
   ]
  },
  {
   "cell_type": "markdown",
   "id": "bb053198",
   "metadata": {},
   "source": [
    "    This annotation don't get stored in **__doc__**"
   ]
  },
  {
   "cell_type": "code",
   "execution_count": 3,
   "id": "f5272b7b",
   "metadata": {},
   "outputs": [],
   "source": [
    "my_func.__doc__"
   ]
  },
  {
   "cell_type": "markdown",
   "id": "5e19a29d",
   "metadata": {},
   "source": [
    "**Annotations can be any expression**\n",
    "\n",
    "(a: str, b:'int>0') -> str:\n",
    "\n",
    "(a: str, b: [1,2,3]) -> str:\n",
    "\n",
    "(a: str) -> 'a repeated' + str(max(x,y)) + 'times ':\n",
    "    return a * max(x,y)\n",
    "    \n",
    "Jusst like default values, where calculated and evaluated when the function was defined, so do annotations expressions\n",
    "\n",
    "So, the ***max*** expression may change and will not get evaluated"
   ]
  },
  {
   "cell_type": "markdown",
   "id": "312f0497",
   "metadata": {},
   "source": [
    "### Default values  **args, ***kwargs\n",
    "\n",
    "def my_func(a: str = 'xyz)\n",
    "\n",
    "        def my_func(a: str = 'xyz', *args: 'additional parameters', b: int =1, **kwargs: 'additional keywords arguments"
   ]
  },
  {
   "cell_type": "markdown",
   "id": "4d6ab564",
   "metadata": {},
   "source": [
    "**Where are annotations stored?**\n",
    "\n",
    "    In the __annotations__ property of the function\n",
    "    \n",
    "-> dictionary    \n",
    "\n",
    "**keys** are the parameters names for a return annotation, the key is **return**\n",
    "\n",
    "**values** are the annotations"
   ]
  },
  {
   "cell_type": "markdown",
   "id": "5577c924",
   "metadata": {},
   "source": [
    "**Where does Python use docstrings and annotation?**\n",
    "\n",
    "It doesn't\n",
    "\n",
    "Mainly used by external tools and modules\n",
    "\n",
    "Example: apps that generate documentation from our code"
   ]
  },
  {
   "cell_type": "code",
   "execution_count": 10,
   "id": "aad4d26f",
   "metadata": {},
   "outputs": [],
   "source": [
    "def my_func(a, b=1):\n",
    "    #This comment is not in the docs\n",
    "    '''returns a * b\n",
    "    some addiontal docs here\n",
    "    \n",
    "    Inputs:\n",
    "    \n",
    "    Outputs:\n",
    "    \n",
    "    \n",
    "    '''\n",
    "    return a * b"
   ]
  },
  {
   "cell_type": "markdown",
   "id": "d6c3c74f",
   "metadata": {},
   "source": [
    "**This is not a comment**, when using comments, it does not get documentated"
   ]
  },
  {
   "cell_type": "code",
   "execution_count": 11,
   "id": "435e3c20",
   "metadata": {},
   "outputs": [
    {
     "name": "stdout",
     "output_type": "stream",
     "text": [
      "Help on function my_func in module __main__:\n",
      "\n",
      "my_func(a, b=1)\n",
      "    returns a * b\n",
      "    some addiontal docs here\n",
      "    \n",
      "    Inputs:\n",
      "    \n",
      "    Outputs:\n",
      "\n"
     ]
    }
   ],
   "source": [
    "help(my_func)"
   ]
  },
  {
   "cell_type": "code",
   "execution_count": 12,
   "id": "bdfd84d3",
   "metadata": {},
   "outputs": [
    {
     "data": {
      "text/plain": [
       "'returns a * b\\n    some addiontal docs here\\n    \\n    Inputs:\\n    \\n    Outputs:\\n    \\n    \\n    '"
      ]
     },
     "execution_count": 12,
     "metadata": {},
     "output_type": "execute_result"
    }
   ],
   "source": [
    "my_func.__doc__"
   ]
  },
  {
   "cell_type": "code",
   "execution_count": 13,
   "id": "6093d2af",
   "metadata": {},
   "outputs": [],
   "source": [
    "def my_func(a: 'annotation for a',\n",
    "            b: 'annotation for b' = 1) -> 'something with a long annotation':\n",
    "    \n",
    "    return a * b"
   ]
  },
  {
   "cell_type": "code",
   "execution_count": 14,
   "id": "e8321d49",
   "metadata": {},
   "outputs": [
    {
     "name": "stdout",
     "output_type": "stream",
     "text": [
      "Help on function my_func in module __main__:\n",
      "\n",
      "my_func(a: 'annotation for a', b: 'annotation for b' = 1) -> 'something with a long annotation'\n",
      "\n"
     ]
    }
   ],
   "source": [
    "help(my_func)"
   ]
  },
  {
   "cell_type": "code",
   "execution_count": 15,
   "id": "a5d4860a",
   "metadata": {},
   "outputs": [],
   "source": [
    "my_func.__doc__"
   ]
  },
  {
   "cell_type": "code",
   "execution_count": 16,
   "id": "b7233707",
   "metadata": {},
   "outputs": [
    {
     "data": {
      "text/plain": [
       "{'a': 'annotation for a',\n",
       " 'b': 'annotation for b',\n",
       " 'return': 'something with a long annotation'}"
      ]
     },
     "execution_count": 16,
     "metadata": {},
     "output_type": "execute_result"
    }
   ],
   "source": [
    "my_func.__annotations__"
   ]
  },
  {
   "cell_type": "code",
   "execution_count": 17,
   "id": "4464938b",
   "metadata": {},
   "outputs": [],
   "source": [
    "def my_func(a: 'annotation for a',\n",
    "            b: 'annotation for b' = 1) -> 'something with a long annotation':\n",
    "    '''Some documentation'''\n",
    "    return a * b"
   ]
  },
  {
   "cell_type": "code",
   "execution_count": 18,
   "id": "a0867976",
   "metadata": {},
   "outputs": [
    {
     "data": {
      "text/plain": [
       "'Some documentation'"
      ]
     },
     "execution_count": 18,
     "metadata": {},
     "output_type": "execute_result"
    }
   ],
   "source": [
    "my_func.__doc__"
   ]
  },
  {
   "cell_type": "code",
   "execution_count": 22,
   "id": "9fc40ac9",
   "metadata": {},
   "outputs": [],
   "source": [
    "x = 3\n",
    "y = 5\n",
    "\n",
    "def my_func(a: 'some character',\n",
    "            b = max(x,y)) -> 'character a repeated ' + str(max(x,y)) + ' times':\n",
    "    print(b)\n",
    "    return a * max(x,y)"
   ]
  },
  {
   "cell_type": "code",
   "execution_count": 23,
   "id": "e1d69c3a",
   "metadata": {},
   "outputs": [
    {
     "name": "stdout",
     "output_type": "stream",
     "text": [
      "5\n"
     ]
    },
    {
     "data": {
      "text/plain": [
       "'aaaaa'"
      ]
     },
     "execution_count": 23,
     "metadata": {},
     "output_type": "execute_result"
    }
   ],
   "source": [
    "my_func('a')"
   ]
  },
  {
   "cell_type": "code",
   "execution_count": 24,
   "id": "87a198f3",
   "metadata": {},
   "outputs": [
    {
     "data": {
      "text/plain": [
       "{'a': 'some character', 'return': 'character a repeated 5 times'}"
      ]
     },
     "execution_count": 24,
     "metadata": {},
     "output_type": "execute_result"
    }
   ],
   "source": [
    "my_func.__annotations__"
   ]
  },
  {
   "cell_type": "markdown",
   "id": "966b5c8f",
   "metadata": {},
   "source": [
    "It actually calcualted the max. But let's be **careful**. At the time when the function is created, the **max** is calculated. Which means if I make a change in a variable, it some cases it won't get revaluated"
   ]
  },
  {
   "cell_type": "code",
   "execution_count": 25,
   "id": "5656567a",
   "metadata": {},
   "outputs": [
    {
     "name": "stdout",
     "output_type": "stream",
     "text": [
      "5\n"
     ]
    },
    {
     "data": {
      "text/plain": [
       "100"
      ]
     },
     "execution_count": 25,
     "metadata": {},
     "output_type": "execute_result"
    }
   ],
   "source": [
    "x = 10\n",
    "my_func(x)"
   ]
  },
  {
   "cell_type": "markdown",
   "id": "df10d760",
   "metadata": {},
   "source": [
    "As we see in this example, we still get printing 5 as max value, because this value did not get updated"
   ]
  },
  {
   "cell_type": "code",
   "execution_count": 26,
   "id": "fb1a0afd",
   "metadata": {},
   "outputs": [],
   "source": [
    "def my_func(a: str,\n",
    "            b: 'int > 0' = 1,\n",
    "            *args: 'some extra positional args',\n",
    "            k1: 'kw-only arg 1',\n",
    "            k2: 'kw-only arg 2' = 100,\n",
    "            **kwargs: 'some extra kw-only args') -> 'something':\n",
    "    print(a,b,args,k1,k2,kwargs)"
   ]
  },
  {
   "cell_type": "code",
   "execution_count": 27,
   "id": "487b81f2",
   "metadata": {},
   "outputs": [
    {
     "name": "stdout",
     "output_type": "stream",
     "text": [
      "Help on function my_func in module __main__:\n",
      "\n",
      "my_func(a: str, b: 'int > 0' = 1, *args: 'some extra positional args', k1: 'kw-only arg 1', k2: 'kw-only arg 2' = 100, **kwargs: 'some extra kw-only args') -> 'something'\n",
      "\n"
     ]
    }
   ],
   "source": [
    "help(my_func)"
   ]
  },
  {
   "cell_type": "code",
   "execution_count": 29,
   "id": "6e0a184f",
   "metadata": {},
   "outputs": [
    {
     "data": {
      "text/plain": [
       "{'a': str,\n",
       " 'b': 'int > 0',\n",
       " 'args': 'some extra positional args',\n",
       " 'k1': 'kw-only arg 1',\n",
       " 'k2': 'kw-only arg 2',\n",
       " 'kwargs': 'some extra kw-only args',\n",
       " 'return': 'something'}"
      ]
     },
     "execution_count": 29,
     "metadata": {},
     "output_type": "execute_result"
    }
   ],
   "source": [
    "my_func.__annotations__"
   ]
  },
  {
   "cell_type": "code",
   "execution_count": 30,
   "id": "6c004cc7",
   "metadata": {},
   "outputs": [
    {
     "name": "stdout",
     "output_type": "stream",
     "text": [
      "1 2 (3, 4, 5) 10 100 {'k3': 300, 'k4': 400}\n"
     ]
    }
   ],
   "source": [
    "my_func(1,2,3,4,5, k1 = 10, k3=300, k4 = 400)"
   ]
  },
  {
   "cell_type": "markdown",
   "id": "154b2315",
   "metadata": {},
   "source": [
    "----\n",
    "## Lambda Expressions\n",
    "\n",
    "Lambda expressions are simply another way to create **functions** ***anonymous functions***\n",
    "\n",
    "keyword -> lambda\n",
    "\n",
    "paramter list (optional) - > []\n",
    "\n",
    "expressions (this expression is evaluated and returned when the lambda functions is **called**\n",
    "\n",
    "The expression **returns a function object**\n",
    "\n",
    "    lambda [parameter list]: expression\n",
    "    \n",
    "the expression can be assigned to a variable\n",
    "\n",
    "passed as an argument to another function\n",
    "\n",
    "it is a **function**"
   ]
  },
  {
   "cell_type": "code",
   "execution_count": 32,
   "id": "bb292520",
   "metadata": {},
   "outputs": [
    {
     "data": {
      "text/plain": [
       "function"
      ]
     },
     "execution_count": 32,
     "metadata": {},
     "output_type": "execute_result"
    }
   ],
   "source": [
    "lambda x: x**2\n",
    "lambda x,y: x + y\n",
    "lambda: 'hello'\n",
    "lambda s: s[::-1].upper()\n",
    "type(lambda x: x**2) "
   ]
  },
  {
   "cell_type": "markdown",
   "id": "ce26aad0",
   "metadata": {},
   "source": [
    "Lambdas, or anonymous functions, are NOT equivalent to closures"
   ]
  },
  {
   "cell_type": "markdown",
   "id": "8380e33a",
   "metadata": {},
   "source": [
    "**Assigning a Lambda to a Variable Name**\n",
    "\n",
    "    my_func = lambda x: x**2\n",
    "\n",
    "    type(my_func)\n",
    "\n",
    "    my_func(3)"
   ]
  },
  {
   "cell_type": "markdown",
   "id": "703da6e7",
   "metadata": {},
   "source": [
    "**identical to:**\n",
    "\n",
    "    def my_func(x):\n",
    "        return x**2"
   ]
  },
  {
   "cell_type": "markdown",
   "id": "fe61ccc1",
   "metadata": {},
   "source": [
    "**Passins as an Argument to another Function**\n",
    "\n",
    "    def apply_func(x, fn):\n",
    "        return fn(x)\n",
    "        \n",
    "    apply_func(3, lambda x: x**2) -> 9\n",
    "     \n",
    "    apply_func(2, lambda x: x + 5)  -> 7\n",
    "    \n",
    "    apply_func('abc', lambda x: x[1:] * 3) -> bcbcbc\n",
    "    \n",
    "    \n",
    "equivalently:\n",
    "\n",
    "    def fn_1(x):\n",
    "        return x[1:] * 3\n",
    "        \n",
    "    apply_func('abc')\n",
    "    \n",
    "**Limitations**\n",
    "\n",
    "The \"body\" of a **lambda** is limited to a single expression\n",
    "\n",
    "no assignments \n",
    "\n",
    "    lambda x: x = 5  **incorrect**\n",
    "    \n",
    "no annotations\n",
    "\n",
    "    def func(x: int):  **correct\n",
    "        return x ** 2\n",
    "        \n",
    "        \n",
    "single **logical** line of code -> line-continuation is OK, but is still just **one** expression\n",
    "\n",
    "    lambda x: x * \\ \n",
    "        3"
   ]
  },
  {
   "cell_type": "code",
   "execution_count": 33,
   "id": "6cc6281e",
   "metadata": {},
   "outputs": [],
   "source": [
    "def sq(x):\n",
    "    return x**2"
   ]
  },
  {
   "cell_type": "code",
   "execution_count": 34,
   "id": "39216200",
   "metadata": {},
   "outputs": [
    {
     "data": {
      "text/plain": [
       "function"
      ]
     },
     "execution_count": 34,
     "metadata": {},
     "output_type": "execute_result"
    }
   ],
   "source": [
    "type(sq)"
   ]
  },
  {
   "cell_type": "code",
   "execution_count": 35,
   "id": "2cc9e837",
   "metadata": {},
   "outputs": [
    {
     "data": {
      "text/plain": [
       "<function __main__.sq(x)>"
      ]
     },
     "execution_count": 35,
     "metadata": {},
     "output_type": "execute_result"
    }
   ],
   "source": [
    "sq"
   ]
  },
  {
   "cell_type": "code",
   "execution_count": 36,
   "id": "d97295cf",
   "metadata": {},
   "outputs": [
    {
     "data": {
      "text/plain": [
       "<function __main__.<lambda>(x)>"
      ]
     },
     "execution_count": 36,
     "metadata": {},
     "output_type": "execute_result"
    }
   ],
   "source": [
    "lambda x: x**2"
   ]
  },
  {
   "cell_type": "code",
   "execution_count": 40,
   "id": "20f7bd3a",
   "metadata": {},
   "outputs": [],
   "source": [
    "f = sq"
   ]
  },
  {
   "cell_type": "code",
   "execution_count": 41,
   "id": "0a181564",
   "metadata": {},
   "outputs": [
    {
     "data": {
      "text/plain": [
       "(4435584912, 4435584912)"
      ]
     },
     "execution_count": 41,
     "metadata": {},
     "output_type": "execute_result"
    }
   ],
   "source": [
    "id(f), id(sq)"
   ]
  },
  {
   "cell_type": "code",
   "execution_count": 42,
   "id": "edafefdd",
   "metadata": {},
   "outputs": [
    {
     "data": {
      "text/plain": [
       "9"
      ]
     },
     "execution_count": 42,
     "metadata": {},
     "output_type": "execute_result"
    }
   ],
   "source": [
    "f(3)"
   ]
  },
  {
   "cell_type": "code",
   "execution_count": 43,
   "id": "da2748b6",
   "metadata": {},
   "outputs": [
    {
     "data": {
      "text/plain": [
       "9"
      ]
     },
     "execution_count": 43,
     "metadata": {},
     "output_type": "execute_result"
    }
   ],
   "source": [
    "sq(3)"
   ]
  },
  {
   "cell_type": "code",
   "execution_count": 44,
   "id": "69733aed",
   "metadata": {},
   "outputs": [
    {
     "data": {
      "text/plain": [
       "<function __main__.sq(x)>"
      ]
     },
     "execution_count": 44,
     "metadata": {},
     "output_type": "execute_result"
    }
   ],
   "source": [
    "f"
   ]
  },
  {
   "cell_type": "code",
   "execution_count": 45,
   "id": "fe57cde7",
   "metadata": {},
   "outputs": [],
   "source": [
    "f = lambda x: x**2"
   ]
  },
  {
   "cell_type": "code",
   "execution_count": 47,
   "id": "a6313dd1",
   "metadata": {},
   "outputs": [
    {
     "data": {
      "text/plain": [
       "<function __main__.<lambda>(x)>"
      ]
     },
     "execution_count": 47,
     "metadata": {},
     "output_type": "execute_result"
    }
   ],
   "source": [
    "f"
   ]
  },
  {
   "cell_type": "code",
   "execution_count": 48,
   "id": "7e8b2a9e",
   "metadata": {},
   "outputs": [
    {
     "data": {
      "text/plain": [
       "9"
      ]
     },
     "execution_count": 48,
     "metadata": {},
     "output_type": "execute_result"
    }
   ],
   "source": [
    "f(3)"
   ]
  },
  {
   "cell_type": "code",
   "execution_count": 49,
   "id": "4e5049bc",
   "metadata": {},
   "outputs": [],
   "source": [
    "g = lambda x, y=10: x+y"
   ]
  },
  {
   "cell_type": "markdown",
   "id": "cb46fd62",
   "metadata": {},
   "source": [
    "We can define default values in a lambda expression"
   ]
  },
  {
   "cell_type": "code",
   "execution_count": 50,
   "id": "94dbac60",
   "metadata": {},
   "outputs": [
    {
     "data": {
      "text/plain": [
       "<function __main__.<lambda>(x, y=10)>"
      ]
     },
     "execution_count": 50,
     "metadata": {},
     "output_type": "execute_result"
    }
   ],
   "source": [
    "g"
   ]
  },
  {
   "cell_type": "code",
   "execution_count": 51,
   "id": "431bd393",
   "metadata": {},
   "outputs": [
    {
     "data": {
      "text/plain": [
       "3"
      ]
     },
     "execution_count": 51,
     "metadata": {},
     "output_type": "execute_result"
    }
   ],
   "source": [
    "g(1,2)"
   ]
  },
  {
   "cell_type": "code",
   "execution_count": 52,
   "id": "c253d489",
   "metadata": {},
   "outputs": [
    {
     "data": {
      "text/plain": [
       "11"
      ]
     },
     "execution_count": 52,
     "metadata": {},
     "output_type": "execute_result"
    }
   ],
   "source": [
    "g(1)"
   ]
  },
  {
   "cell_type": "code",
   "execution_count": 53,
   "id": "ccc918a8",
   "metadata": {},
   "outputs": [],
   "source": [
    "f = lambda x, *args, y, **kwargs: (x, args, y, kwargs)"
   ]
  },
  {
   "cell_type": "code",
   "execution_count": 57,
   "id": "64be5f7d",
   "metadata": {},
   "outputs": [
    {
     "data": {
      "text/plain": [
       "(1, ('a', 'b'), 100, {'a': 1, 'b': 2})"
      ]
     },
     "execution_count": 57,
     "metadata": {},
     "output_type": "execute_result"
    }
   ],
   "source": [
    "f(1, 'a', 'b', y=100, a=1, b=2)"
   ]
  },
  {
   "cell_type": "code",
   "execution_count": 59,
   "id": "e66bebaa",
   "metadata": {},
   "outputs": [],
   "source": [
    "def apply_func(x,fn):\n",
    "    return fn(x)"
   ]
  },
  {
   "cell_type": "code",
   "execution_count": 60,
   "id": "36b03200",
   "metadata": {},
   "outputs": [
    {
     "data": {
      "text/plain": [
       "9"
      ]
     },
     "execution_count": 60,
     "metadata": {},
     "output_type": "execute_result"
    }
   ],
   "source": [
    "apply_func(3, sq)"
   ]
  },
  {
   "cell_type": "code",
   "execution_count": 63,
   "id": "dd546753",
   "metadata": {},
   "outputs": [],
   "source": [
    "def apply_lambda(x,l):\n",
    "    return l(x)"
   ]
  },
  {
   "cell_type": "code",
   "execution_count": 66,
   "id": "3f4a51b7",
   "metadata": {},
   "outputs": [
    {
     "data": {
      "text/plain": [
       "11"
      ]
     },
     "execution_count": 66,
     "metadata": {},
     "output_type": "execute_result"
    }
   ],
   "source": [
    "apply_lambda(x, lambda x: x+1)"
   ]
  },
  {
   "cell_type": "code",
   "execution_count": 67,
   "id": "9edef163",
   "metadata": {},
   "outputs": [],
   "source": [
    "def apply_func(fn, *args, **kwargs):\n",
    "    return fn(*args, **kwargs)"
   ]
  },
  {
   "cell_type": "code",
   "execution_count": 68,
   "id": "03255fca",
   "metadata": {},
   "outputs": [
    {
     "data": {
      "text/plain": [
       "9"
      ]
     },
     "execution_count": 68,
     "metadata": {},
     "output_type": "execute_result"
    }
   ],
   "source": [
    "apply_func(sq, 3)"
   ]
  },
  {
   "cell_type": "code",
   "execution_count": 70,
   "id": "f3a12623",
   "metadata": {},
   "outputs": [
    {
     "data": {
      "text/plain": [
       "9"
      ]
     },
     "execution_count": 70,
     "metadata": {},
     "output_type": "execute_result"
    }
   ],
   "source": [
    "apply_func(lambda x: x**2, 3)"
   ]
  },
  {
   "cell_type": "code",
   "execution_count": 71,
   "id": "3de76166",
   "metadata": {},
   "outputs": [
    {
     "data": {
      "text/plain": [
       "4"
      ]
     },
     "execution_count": 71,
     "metadata": {},
     "output_type": "execute_result"
    }
   ],
   "source": [
    "apply_func(lambda x, y: x+y, 2,2)"
   ]
  },
  {
   "cell_type": "code",
   "execution_count": 72,
   "id": "9493a569",
   "metadata": {},
   "outputs": [
    {
     "data": {
      "text/plain": [
       "6"
      ]
     },
     "execution_count": 72,
     "metadata": {},
     "output_type": "execute_result"
    }
   ],
   "source": [
    "apply_func(lambda x, y, z: x+y+z, 2,2, z = 2)"
   ]
  },
  {
   "cell_type": "code",
   "execution_count": 73,
   "id": "25093a11",
   "metadata": {},
   "outputs": [
    {
     "data": {
      "text/plain": [
       "21"
      ]
     },
     "execution_count": 73,
     "metadata": {},
     "output_type": "execute_result"
    }
   ],
   "source": [
    "apply_func(lambda x, *, y: x+y, 1, y = 20)"
   ]
  },
  {
   "cell_type": "code",
   "execution_count": 75,
   "id": "b8ffb475",
   "metadata": {},
   "outputs": [
    {
     "data": {
      "text/plain": [
       "36"
      ]
     },
     "execution_count": 75,
     "metadata": {},
     "output_type": "execute_result"
    }
   ],
   "source": [
    "apply_func(lambda *args: sum(args), 1,2,3,4,5,6,7,8)"
   ]
  },
  {
   "cell_type": "code",
   "execution_count": 76,
   "id": "b5b211e3",
   "metadata": {},
   "outputs": [
    {
     "data": {
      "text/plain": [
       "23"
      ]
     },
     "execution_count": 76,
     "metadata": {},
     "output_type": "execute_result"
    }
   ],
   "source": [
    "apply_func(sum, (1,2,3,4,6,7))"
   ]
  },
  {
   "cell_type": "markdown",
   "id": "c16e65b9",
   "metadata": {},
   "source": [
    "---\n",
    "## Lambdas and Sorting "
   ]
  },
  {
   "cell_type": "code",
   "execution_count": 77,
   "id": "0b1e5055",
   "metadata": {},
   "outputs": [
    {
     "name": "stdout",
     "output_type": "stream",
     "text": [
      "Help on built-in function sorted in module builtins:\n",
      "\n",
      "sorted(iterable, /, *, key=None, reverse=False)\n",
      "    Return a new list containing all items from the iterable in ascending order.\n",
      "    \n",
      "    A custom key function can be supplied to customize the sort order, and the\n",
      "    reverse flag can be set to request the result in descending order.\n",
      "\n"
     ]
    }
   ],
   "source": [
    "help(sorted)"
   ]
  },
  {
   "cell_type": "code",
   "execution_count": 78,
   "id": "1f12025e",
   "metadata": {},
   "outputs": [],
   "source": [
    "l = [1,5,6,20,2,4]"
   ]
  },
  {
   "cell_type": "code",
   "execution_count": 79,
   "id": "8178fa3f",
   "metadata": {},
   "outputs": [
    {
     "data": {
      "text/plain": [
       "[1, 2, 4, 5, 6, 20]"
      ]
     },
     "execution_count": 79,
     "metadata": {},
     "output_type": "execute_result"
    }
   ],
   "source": [
    "sorted(l)"
   ]
  },
  {
   "cell_type": "code",
   "execution_count": 81,
   "id": "dd3ab702",
   "metadata": {},
   "outputs": [],
   "source": [
    "l = ['c', 'B', 'D', 'a']"
   ]
  },
  {
   "cell_type": "code",
   "execution_count": 82,
   "id": "9bf058ea",
   "metadata": {},
   "outputs": [
    {
     "data": {
      "text/plain": [
       "['B', 'D', 'a', 'c']"
      ]
     },
     "execution_count": 82,
     "metadata": {},
     "output_type": "execute_result"
    }
   ],
   "source": [
    "sorted(l)"
   ]
  },
  {
   "cell_type": "code",
   "execution_count": 84,
   "id": "5373a304",
   "metadata": {},
   "outputs": [
    {
     "data": {
      "text/plain": [
       "97"
      ]
     },
     "execution_count": 84,
     "metadata": {},
     "output_type": "execute_result"
    }
   ],
   "source": [
    "ord('a')"
   ]
  },
  {
   "cell_type": "code",
   "execution_count": 86,
   "id": "747434cc",
   "metadata": {},
   "outputs": [
    {
     "data": {
      "text/plain": [
       "68"
      ]
     },
     "execution_count": 86,
     "metadata": {},
     "output_type": "execute_result"
    }
   ],
   "source": [
    "ord('B')"
   ]
  },
  {
   "cell_type": "code",
   "execution_count": 88,
   "id": "31a93a81",
   "metadata": {},
   "outputs": [
    {
     "data": {
      "text/plain": [
       "['a', 'B', 'c', 'D']"
      ]
     },
     "execution_count": 88,
     "metadata": {},
     "output_type": "execute_result"
    }
   ],
   "source": [
    "sorted(l, key=lambda s: s.upper())"
   ]
  },
  {
   "cell_type": "code",
   "execution_count": 89,
   "id": "b67a2280",
   "metadata": {},
   "outputs": [],
   "source": [
    "d = {'def': 300, 'abc': 200, 'ghi': 100}"
   ]
  },
  {
   "cell_type": "code",
   "execution_count": 91,
   "id": "96ff005a",
   "metadata": {},
   "outputs": [
    {
     "name": "stdout",
     "output_type": "stream",
     "text": [
      "def\n",
      "abc\n",
      "ghi\n"
     ]
    }
   ],
   "source": [
    "for e in d:\n",
    "    print(e)"
   ]
  },
  {
   "cell_type": "code",
   "execution_count": 98,
   "id": "35900989",
   "metadata": {},
   "outputs": [
    {
     "data": {
      "text/plain": [
       "['ghi', 'abc', 'def']"
      ]
     },
     "execution_count": 98,
     "metadata": {},
     "output_type": "execute_result"
    }
   ],
   "source": [
    "sorted(d, key=lambda e: d[e])"
   ]
  },
  {
   "cell_type": "code",
   "execution_count": 100,
   "id": "1af334e9",
   "metadata": {},
   "outputs": [],
   "source": [
    "def dist_sq(x):\n",
    "    return (x.real)**2 + (x.imag)**2"
   ]
  },
  {
   "cell_type": "code",
   "execution_count": 101,
   "id": "a8a3ddb3",
   "metadata": {},
   "outputs": [
    {
     "data": {
      "text/plain": [
       "2.0"
      ]
     },
     "execution_count": 101,
     "metadata": {},
     "output_type": "execute_result"
    }
   ],
   "source": [
    "dist_sq(1+1j)"
   ]
  },
  {
   "cell_type": "code",
   "execution_count": 102,
   "id": "778fd8d1",
   "metadata": {},
   "outputs": [],
   "source": [
    "l = [3+3j, 1-1j, 0, 3+0j]"
   ]
  },
  {
   "cell_type": "code",
   "execution_count": 103,
   "id": "15f5b6cc",
   "metadata": {},
   "outputs": [
    {
     "ename": "TypeError",
     "evalue": "'<' not supported between instances of 'complex' and 'complex'",
     "output_type": "error",
     "traceback": [
      "\u001b[0;31m----------------------------------------------------\u001b[0m",
      "\u001b[0;31mTypeError\u001b[0m          Traceback (most recent call last)",
      "\u001b[0;32m<ipython-input-103-04dc31ea0310>\u001b[0m in \u001b[0;36m<module>\u001b[0;34m\u001b[0m\n\u001b[0;32m----> 1\u001b[0;31m \u001b[0msorted\u001b[0m\u001b[0;34m(\u001b[0m\u001b[0ml\u001b[0m\u001b[0;34m)\u001b[0m\u001b[0;34m\u001b[0m\u001b[0;34m\u001b[0m\u001b[0m\n\u001b[0m",
      "\u001b[0;31mTypeError\u001b[0m: '<' not supported between instances of 'complex' and 'complex'"
     ]
    }
   ],
   "source": [
    "sorted(l)"
   ]
  },
  {
   "cell_type": "code",
   "execution_count": 104,
   "id": "fa01e6bf",
   "metadata": {},
   "outputs": [
    {
     "data": {
      "text/plain": [
       "[0, (1-1j), (3+0j), (3+3j)]"
      ]
     },
     "execution_count": 104,
     "metadata": {},
     "output_type": "execute_result"
    }
   ],
   "source": [
    "sorted(l,key=dist_sq)"
   ]
  },
  {
   "cell_type": "code",
   "execution_count": 105,
   "id": "f44897be",
   "metadata": {},
   "outputs": [
    {
     "data": {
      "text/plain": [
       "[0, (1-1j), (3+0j), (3+3j)]"
      ]
     },
     "execution_count": 105,
     "metadata": {},
     "output_type": "execute_result"
    }
   ],
   "source": [
    "sorted(l, key=lambda x: (x.real)**2 + (x.imag)**2)"
   ]
  },
  {
   "cell_type": "code",
   "execution_count": 106,
   "id": "2149bf3f",
   "metadata": {},
   "outputs": [],
   "source": [
    "l = ['Cleese', 'Idle', 'Palin','Chapman', ' Gilliam', 'Jones']"
   ]
  },
  {
   "cell_type": "code",
   "execution_count": 107,
   "id": "488e00f7",
   "metadata": {},
   "outputs": [
    {
     "data": {
      "text/plain": [
       "[' Gilliam', 'Chapman', 'Cleese', 'Idle', 'Jones', 'Palin']"
      ]
     },
     "execution_count": 107,
     "metadata": {},
     "output_type": "execute_result"
    }
   ],
   "source": [
    "sorted(l)"
   ]
  },
  {
   "cell_type": "code",
   "execution_count": 110,
   "id": "6f168012",
   "metadata": {},
   "outputs": [
    {
     "data": {
      "text/plain": [
       "['Cleese', 'Idle', ' Gilliam', 'Palin', 'Chapman', 'Jones']"
      ]
     },
     "execution_count": 110,
     "metadata": {},
     "output_type": "execute_result"
    }
   ],
   "source": [
    "sorted(l, key=lambda c: c[-1])"
   ]
  },
  {
   "cell_type": "markdown",
   "id": "93b4f317",
   "metadata": {},
   "source": [
    "-----\n",
    "## Challenge: Randomizing an Iterable using Sorted"
   ]
  },
  {
   "cell_type": "code",
   "execution_count": 4,
   "id": "19217648",
   "metadata": {},
   "outputs": [],
   "source": [
    "import random"
   ]
  },
  {
   "cell_type": "code",
   "execution_count": 5,
   "id": "bafe1a44",
   "metadata": {},
   "outputs": [
    {
     "name": "stdout",
     "output_type": "stream",
     "text": [
      "Help on built-in function random:\n",
      "\n",
      "random() method of random.Random instance\n",
      "    random() -> x in the interval [0, 1).\n",
      "\n"
     ]
    }
   ],
   "source": [
    "help(random.random)"
   ]
  },
  {
   "cell_type": "code",
   "execution_count": 6,
   "id": "657fba55",
   "metadata": {},
   "outputs": [
    {
     "data": {
      "text/plain": [
       "0.00391866968400878"
      ]
     },
     "execution_count": 6,
     "metadata": {},
     "output_type": "execute_result"
    }
   ],
   "source": [
    "random.random()"
   ]
  },
  {
   "cell_type": "code",
   "execution_count": 7,
   "id": "222d5c4e",
   "metadata": {},
   "outputs": [],
   "source": [
    "l = [1,2,3,4,5,6,7,8,9,10]"
   ]
  },
  {
   "cell_type": "markdown",
   "id": "8fd1fd35",
   "metadata": {},
   "source": [
    "Write a piece of code that will randomize a list"
   ]
  },
  {
   "cell_type": "code",
   "execution_count": 13,
   "id": "f21ec5bf",
   "metadata": {},
   "outputs": [
    {
     "data": {
      "text/plain": [
       "[4, 10, 8, 3, 5, 6, 7, 1, 2, 9]"
      ]
     },
     "execution_count": 13,
     "metadata": {},
     "output_type": "execute_result"
    }
   ],
   "source": [
    "sorted(l, key= lambda e: random.random())"
   ]
  },
  {
   "cell_type": "markdown",
   "id": "5c4ec9fb",
   "metadata": {},
   "source": [
    "----\n",
    "## Functions Introspection\n",
    "\n",
    "**Functions are first-class objects**\n",
    "\n",
    "They have attributes \n",
    "\n",
    "We can attach our own attributes\n",
    "\n",
    "The **dir()** function\n",
    "\n",
    "**dir()** is a built-in fucntion that, given an object as an argument, wiil return a list of valid attributes for that object\n",
    "\n",
    "**dir(my_func)**\n",
    "\n"
   ]
  },
  {
   "cell_type": "code",
   "execution_count": 14,
   "id": "dece4930",
   "metadata": {},
   "outputs": [],
   "source": [
    "def my_func(a: 'mandatory positional',\n",
    "            b: 'optional positional' = 1,\n",
    "            c=2,\n",
    "            *args: 'add extra positional here',\n",
    "            kw1,\n",
    "            kw2=100,\n",
    "            kw3=200,\n",
    "            **kwargs: 'provide extra kw-only here') -> 'does nothing':\n",
    "    '''\n",
    "    This function does nothing but does have various parameteres and annotations.\n",
    "    '''\n",
    "    i = 10\n",
    "    j = 20"
   ]
  },
  {
   "cell_type": "code",
   "execution_count": 15,
   "id": "8d6fb6b3",
   "metadata": {},
   "outputs": [
    {
     "data": {
      "text/plain": [
       "'\\n    This function does nothing but does have various parameteres and annotations.\\n    '"
      ]
     },
     "execution_count": 15,
     "metadata": {},
     "output_type": "execute_result"
    }
   ],
   "source": [
    "my_func.__doc__"
   ]
  },
  {
   "cell_type": "code",
   "execution_count": 17,
   "id": "8ffdd181",
   "metadata": {},
   "outputs": [
    {
     "data": {
      "text/plain": [
       "['__annotations__',\n",
       " '__call__',\n",
       " '__class__',\n",
       " '__closure__',\n",
       " '__code__',\n",
       " '__defaults__',\n",
       " '__delattr__',\n",
       " '__dict__',\n",
       " '__dir__',\n",
       " '__doc__',\n",
       " '__eq__',\n",
       " '__format__',\n",
       " '__ge__',\n",
       " '__get__',\n",
       " '__getattribute__',\n",
       " '__globals__',\n",
       " '__gt__',\n",
       " '__hash__',\n",
       " '__init__',\n",
       " '__init_subclass__',\n",
       " '__kwdefaults__',\n",
       " '__le__',\n",
       " '__lt__',\n",
       " '__module__',\n",
       " '__name__',\n",
       " '__ne__',\n",
       " '__new__',\n",
       " '__qualname__',\n",
       " '__reduce__',\n",
       " '__reduce_ex__',\n",
       " '__repr__',\n",
       " '__setattr__',\n",
       " '__sizeof__',\n",
       " '__str__',\n",
       " '__subclasshook__']"
      ]
     },
     "execution_count": 17,
     "metadata": {},
     "output_type": "execute_result"
    }
   ],
   "source": [
    "dir(my_func)"
   ]
  },
  {
   "cell_type": "code",
   "execution_count": 18,
   "id": "b77b21b5",
   "metadata": {},
   "outputs": [
    {
     "data": {
      "text/plain": [
       "'my_func'"
      ]
     },
     "execution_count": 18,
     "metadata": {},
     "output_type": "execute_result"
    }
   ],
   "source": [
    "my_func.__name__"
   ]
  },
  {
   "cell_type": "code",
   "execution_count": 19,
   "id": "2308a3bf",
   "metadata": {},
   "outputs": [
    {
     "data": {
      "text/plain": [
       "4625623504"
      ]
     },
     "execution_count": 19,
     "metadata": {},
     "output_type": "execute_result"
    }
   ],
   "source": [
    "id(my_func)"
   ]
  },
  {
   "cell_type": "code",
   "execution_count": 24,
   "id": "7766dbf4",
   "metadata": {},
   "outputs": [],
   "source": [
    "def func_call(f):\n",
    "    print(id(f))\n",
    "    print(f.__name__)"
   ]
  },
  {
   "cell_type": "code",
   "execution_count": 25,
   "id": "79ba6c29",
   "metadata": {},
   "outputs": [
    {
     "name": "stdout",
     "output_type": "stream",
     "text": [
      "4625623504\n",
      "my_func\n"
     ]
    }
   ],
   "source": [
    "func_call(my_func)"
   ]
  },
  {
   "cell_type": "code",
   "execution_count": 26,
   "id": "6d114374",
   "metadata": {},
   "outputs": [
    {
     "data": {
      "text/plain": [
       "(1, 2)"
      ]
     },
     "execution_count": 26,
     "metadata": {},
     "output_type": "execute_result"
    }
   ],
   "source": [
    "my_func.__defaults__"
   ]
  },
  {
   "cell_type": "code",
   "execution_count": 27,
   "id": "47cd0212",
   "metadata": {},
   "outputs": [
    {
     "data": {
      "text/plain": [
       "{'kw2': 100, 'kw3': 200}"
      ]
     },
     "execution_count": 27,
     "metadata": {},
     "output_type": "execute_result"
    }
   ],
   "source": [
    "my_func.__kwdefaults__"
   ]
  },
  {
   "cell_type": "markdown",
   "id": "9b76e772",
   "metadata": {},
   "source": [
    "----\n",
    "## Callables\n",
    "\n",
    "Any object that can be called using **()** operator, callables always return a value like **functions** and **methods** but it goes beyond just those two...\n",
    "\n",
    "many other objects in Python are also callable\n",
    "\n",
    "To see if an object is callable, we can use the built-in function: **callable**"
   ]
  },
  {
   "cell_type": "code",
   "execution_count": 1,
   "id": "1c73b87a",
   "metadata": {},
   "outputs": [
    {
     "data": {
      "text/plain": [
       "True"
      ]
     },
     "execution_count": 1,
     "metadata": {},
     "output_type": "execute_result"
    }
   ],
   "source": [
    "callable(print)"
   ]
  },
  {
   "cell_type": "code",
   "execution_count": 5,
   "id": "bd78894e",
   "metadata": {},
   "outputs": [
    {
     "data": {
      "text/plain": [
       "True"
      ]
     },
     "execution_count": 5,
     "metadata": {},
     "output_type": "execute_result"
    }
   ],
   "source": [
    "l = [1,2,3]\n",
    "callable(l.append)"
   ]
  },
  {
   "cell_type": "code",
   "execution_count": 6,
   "id": "fb9cb780",
   "metadata": {},
   "outputs": [
    {
     "name": "stdout",
     "output_type": "stream",
     "text": [
      "[1, 2, 3, 4]\n",
      "None\n"
     ]
    }
   ],
   "source": [
    "result = l.append(4)\n",
    "print(l)\n",
    "print(result)"
   ]
  },
  {
   "cell_type": "code",
   "execution_count": 7,
   "id": "3d8745be",
   "metadata": {},
   "outputs": [
    {
     "data": {
      "text/plain": [
       "True"
      ]
     },
     "execution_count": 7,
     "metadata": {},
     "output_type": "execute_result"
    }
   ],
   "source": [
    "s = 'abc'\n",
    "callable(s.upper)"
   ]
  },
  {
   "cell_type": "code",
   "execution_count": 8,
   "id": "2b032158",
   "metadata": {},
   "outputs": [],
   "source": [
    "from decimal import Decimal"
   ]
  },
  {
   "cell_type": "code",
   "execution_count": 9,
   "id": "5b2f5879",
   "metadata": {},
   "outputs": [
    {
     "data": {
      "text/plain": [
       "True"
      ]
     },
     "execution_count": 9,
     "metadata": {},
     "output_type": "execute_result"
    }
   ],
   "source": [
    "callable(Decimal)"
   ]
  },
  {
   "cell_type": "code",
   "execution_count": 12,
   "id": "a7211dbc",
   "metadata": {},
   "outputs": [],
   "source": [
    "class MyClass:\n",
    "    def __init__(self,x=0):\n",
    "        print('initializing')\n",
    "        self.counter = x\n",
    "        \n",
    "    def __call__(self, x=1):\n",
    "        print('updating counter...')\n",
    "        self.counter += x"
   ]
  },
  {
   "cell_type": "code",
   "execution_count": 13,
   "id": "9f3d672d",
   "metadata": {},
   "outputs": [
    {
     "name": "stdout",
     "output_type": "stream",
     "text": [
      "initializing\n"
     ]
    }
   ],
   "source": [
    "b = MyClass()"
   ]
  },
  {
   "cell_type": "code",
   "execution_count": 14,
   "id": "9a3b4212",
   "metadata": {},
   "outputs": [
    {
     "name": "stdout",
     "output_type": "stream",
     "text": [
      "updating counter...\n"
     ]
    }
   ],
   "source": [
    "MyClass.__call__(b,10)"
   ]
  },
  {
   "cell_type": "code",
   "execution_count": 15,
   "id": "789e9683",
   "metadata": {},
   "outputs": [
    {
     "data": {
      "text/plain": [
       "10"
      ]
     },
     "execution_count": 15,
     "metadata": {},
     "output_type": "execute_result"
    }
   ],
   "source": [
    "b.counter"
   ]
  },
  {
   "cell_type": "code",
   "execution_count": 16,
   "id": "a0d7406c",
   "metadata": {},
   "outputs": [
    {
     "data": {
      "text/plain": [
       "True"
      ]
     },
     "execution_count": 16,
     "metadata": {},
     "output_type": "execute_result"
    }
   ],
   "source": [
    "callable(b)"
   ]
  },
  {
   "cell_type": "code",
   "execution_count": 17,
   "id": "7c6d66fb",
   "metadata": {},
   "outputs": [
    {
     "name": "stdout",
     "output_type": "stream",
     "text": [
      "updating counter...\n"
     ]
    }
   ],
   "source": [
    "b()"
   ]
  },
  {
   "cell_type": "code",
   "execution_count": 18,
   "id": "85497a2f",
   "metadata": {},
   "outputs": [
    {
     "data": {
      "text/plain": [
       "11"
      ]
     },
     "execution_count": 18,
     "metadata": {},
     "output_type": "execute_result"
    }
   ],
   "source": [
    "b.counter"
   ]
  },
  {
   "cell_type": "code",
   "execution_count": 19,
   "id": "04aea3b8",
   "metadata": {},
   "outputs": [
    {
     "name": "stdout",
     "output_type": "stream",
     "text": [
      "updating counter...\n"
     ]
    }
   ],
   "source": [
    "b(100)"
   ]
  },
  {
   "cell_type": "code",
   "execution_count": 20,
   "id": "d992ba0e",
   "metadata": {},
   "outputs": [
    {
     "data": {
      "text/plain": [
       "111"
      ]
     },
     "execution_count": 20,
     "metadata": {},
     "output_type": "execute_result"
    }
   ],
   "source": [
    "b.counter"
   ]
  },
  {
   "cell_type": "code",
   "execution_count": 21,
   "id": "ce41c97e",
   "metadata": {},
   "outputs": [
    {
     "data": {
      "text/plain": [
       "type"
      ]
     },
     "execution_count": 21,
     "metadata": {},
     "output_type": "execute_result"
    }
   ],
   "source": [
    "type(MyClass)"
   ]
  },
  {
   "cell_type": "markdown",
   "id": "fa0b21c6",
   "metadata": {},
   "source": [
    "---\n",
    "## Map, Filter, Zip and List Comprehensions\n",
    "\n",
    "**map(func, *iterables)**\n",
    "\n",
    "it will return an iterator that calculates the function applied to each element of the iterables\n",
    "\n",
    "**filter(func, iterable)**\n",
    "\n",
    "it will return an iterator that contains all the elements of the iterable for which the function called on it is Truthy\n",
    "\n",
    "If the function is **None**, it simply returns the elements of **iterable** that are Thruthy\n",
    "\n",
    "**zip(*iterables)**\n",
    "\n",
    "it will return one iterable. COmbines each element of the iterables.\n",
    "\n",
    "[1,2,3,4].\n",
    "\n",
    "              -> (1,10), (2,20)...\n",
    "\n",
    "[10,20,30,40]. "
   ]
  },
  {
   "cell_type": "code",
   "execution_count": 22,
   "id": "a704b404",
   "metadata": {},
   "outputs": [],
   "source": [
    "def fact(n):\n",
    "    return 1 if n<2 else n*fact(n-1)"
   ]
  },
  {
   "cell_type": "code",
   "execution_count": 23,
   "id": "00f51716",
   "metadata": {},
   "outputs": [
    {
     "data": {
      "text/plain": [
       "6"
      ]
     },
     "execution_count": 23,
     "metadata": {},
     "output_type": "execute_result"
    }
   ],
   "source": [
    "fact(3)"
   ]
  },
  {
   "cell_type": "code",
   "execution_count": 24,
   "id": "e115523a",
   "metadata": {},
   "outputs": [
    {
     "data": {
      "text/plain": [
       "24"
      ]
     },
     "execution_count": 24,
     "metadata": {},
     "output_type": "execute_result"
    }
   ],
   "source": [
    "fact(4)"
   ]
  },
  {
   "cell_type": "code",
   "execution_count": 27,
   "id": "82347263",
   "metadata": {},
   "outputs": [
    {
     "data": {
      "text/plain": [
       "[1, 1, 2, 6, 24]"
      ]
     },
     "execution_count": 27,
     "metadata": {},
     "output_type": "execute_result"
    }
   ],
   "source": [
    "list(map(fact, range(5)))"
   ]
  },
  {
   "cell_type": "code",
   "execution_count": 28,
   "id": "a82c4795",
   "metadata": {},
   "outputs": [
    {
     "data": {
      "text/plain": [
       "[11, 22, 33]"
      ]
     },
     "execution_count": 28,
     "metadata": {},
     "output_type": "execute_result"
    }
   ],
   "source": [
    "l1 = [1,2,3,4,5]\n",
    "l2 = [10,20,30]\n",
    "list(map(lambda x,y: x+y, l1,l2))"
   ]
  },
  {
   "cell_type": "code",
   "execution_count": 33,
   "id": "3619fc27",
   "metadata": {},
   "outputs": [
    {
     "data": {
      "text/plain": [
       "range(0, 25)"
      ]
     },
     "execution_count": 33,
     "metadata": {},
     "output_type": "execute_result"
    }
   ],
   "source": [
    "x = range(25)\n",
    "x"
   ]
  },
  {
   "cell_type": "code",
   "execution_count": 32,
   "id": "9492b10b",
   "metadata": {},
   "outputs": [
    {
     "data": {
      "text/plain": [
       "[0, 3, 6, 9, 12, 15, 18, 21, 24]"
      ]
     },
     "execution_count": 32,
     "metadata": {},
     "output_type": "execute_result"
    }
   ],
   "source": [
    "list(filter(lambda e: e%3==0, x))"
   ]
  },
  {
   "cell_type": "code",
   "execution_count": 39,
   "id": "68c2f1c5",
   "metadata": {},
   "outputs": [
    {
     "data": {
      "text/plain": [
       "[1, 4, 'a', True, 13]"
      ]
     },
     "execution_count": 39,
     "metadata": {},
     "output_type": "execute_result"
    }
   ],
   "source": [
    "list(filter(None, [1,0,4,'a', '', True, None, False, 13 or 0]))"
   ]
  },
  {
   "cell_type": "code",
   "execution_count": 41,
   "id": "42885634",
   "metadata": {},
   "outputs": [],
   "source": [
    "l1 = [1,2,3,4]\n",
    "l2 = [10,20,30,40]\n",
    "l3 = 'python'"
   ]
  },
  {
   "cell_type": "code",
   "execution_count": 42,
   "id": "4403363a",
   "metadata": {},
   "outputs": [
    {
     "data": {
      "text/plain": [
       "[(1, 10, 'p'), (2, 20, 'y'), (3, 30, 't'), (4, 40, 'h')]"
      ]
     },
     "execution_count": 42,
     "metadata": {},
     "output_type": "execute_result"
    }
   ],
   "source": [
    "list(zip(l1,l2,l3))"
   ]
  },
  {
   "cell_type": "code",
   "execution_count": 43,
   "id": "aec58044",
   "metadata": {},
   "outputs": [
    {
     "data": {
      "text/plain": [
       "[(0, 'p'), (1, 'y'), (2, 't'), (3, 'h'), (4, 'o'), (5, 'n')]"
      ]
     },
     "execution_count": 43,
     "metadata": {},
     "output_type": "execute_result"
    }
   ],
   "source": [
    "list(zip(range(10000), 'python'))"
   ]
  },
  {
   "cell_type": "code",
   "execution_count": 49,
   "id": "6e8ed3a7",
   "metadata": {},
   "outputs": [
    {
     "data": {
      "text/plain": [
       "[0, 1, 2, 3, 4, 5, 6, 7, 8, 9]"
      ]
     },
     "execution_count": 49,
     "metadata": {},
     "output_type": "execute_result"
    }
   ],
   "source": [
    "l = range(10)\n",
    "list(l)"
   ]
  },
  {
   "cell_type": "code",
   "execution_count": 50,
   "id": "ce77d866",
   "metadata": {},
   "outputs": [
    {
     "data": {
      "text/plain": [
       "[1, 1, 2, 6, 24, 120, 720, 5040, 40320, 362880]"
      ]
     },
     "execution_count": 50,
     "metadata": {},
     "output_type": "execute_result"
    }
   ],
   "source": [
    "list(map(fact,l))"
   ]
  },
  {
   "cell_type": "code",
   "execution_count": 51,
   "id": "89721c05",
   "metadata": {},
   "outputs": [
    {
     "data": {
      "text/plain": [
       "[1, 1, 2, 6, 24, 120, 720, 5040, 40320, 362880]"
      ]
     },
     "execution_count": 51,
     "metadata": {},
     "output_type": "execute_result"
    }
   ],
   "source": [
    "[fact(x) for x in l]"
   ]
  },
  {
   "cell_type": "code",
   "execution_count": 54,
   "id": "f9058c9c",
   "metadata": {},
   "outputs": [
    {
     "data": {
      "text/plain": [
       "<generator object <genexpr> at 0x1075f36d0>"
      ]
     },
     "execution_count": 54,
     "metadata": {},
     "output_type": "execute_result"
    }
   ],
   "source": [
    "(fact(x) for x in l)"
   ]
  },
  {
   "cell_type": "markdown",
   "id": "9eb1cf13",
   "metadata": {},
   "source": [
    "**Generator** is similar to map, filter and zip. It doesn't actually calcualte everything"
   ]
  },
  {
   "cell_type": "code",
   "execution_count": 55,
   "id": "64282b51",
   "metadata": {},
   "outputs": [],
   "source": [
    "l1 = [1,2,3,4,5,6]\n",
    "l2 = [10,20,30,40]"
   ]
  },
  {
   "cell_type": "code",
   "execution_count": 56,
   "id": "2a1a5e34",
   "metadata": {},
   "outputs": [
    {
     "data": {
      "text/plain": [
       "[11, 22, 33, 44]"
      ]
     },
     "execution_count": 56,
     "metadata": {},
     "output_type": "execute_result"
    }
   ],
   "source": [
    "list(map(lambda x,y: x+y, l1,l2))"
   ]
  },
  {
   "cell_type": "code",
   "execution_count": 58,
   "id": "3e53d23e",
   "metadata": {},
   "outputs": [
    {
     "data": {
      "text/plain": [
       "[11, 22, 33, 44]"
      ]
     },
     "execution_count": 58,
     "metadata": {},
     "output_type": "execute_result"
    }
   ],
   "source": [
    "[x+y for x,y in zip(l1,l2)]"
   ]
  },
  {
   "cell_type": "code",
   "execution_count": 59,
   "id": "fc8677a5",
   "metadata": {},
   "outputs": [
    {
     "data": {
      "text/plain": [
       "[22, 44]"
      ]
     },
     "execution_count": 59,
     "metadata": {},
     "output_type": "execute_result"
    }
   ],
   "source": [
    "list(filter(lambda x: x%2 == 0, map(lambda x,y: x+y, l1,l2)))"
   ]
  },
  {
   "cell_type": "code",
   "execution_count": 60,
   "id": "4002e210",
   "metadata": {},
   "outputs": [
    {
     "data": {
      "text/plain": [
       "[22, 44]"
      ]
     },
     "execution_count": 60,
     "metadata": {},
     "output_type": "execute_result"
    }
   ],
   "source": [
    "[x+y for x,y in zip(l1,l2) if (x+y)%2 == 0]"
   ]
  },
  {
   "cell_type": "code",
   "execution_count": null,
   "id": "0c528004",
   "metadata": {},
   "outputs": [],
   "source": []
  }
 ],
 "metadata": {
  "kernelspec": {
   "display_name": "Python 3",
   "language": "python",
   "name": "python3"
  },
  "language_info": {
   "codemirror_mode": {
    "name": "ipython",
    "version": 3
   },
   "file_extension": ".py",
   "mimetype": "text/x-python",
   "name": "python",
   "nbconvert_exporter": "python",
   "pygments_lexer": "ipython3",
   "version": "3.9.7"
  }
 },
 "nbformat": 4,
 "nbformat_minor": 5
}
