{
 "cells": [
  {
   "cell_type": "markdown",
   "id": "883d2b62",
   "metadata": {},
   "source": [
    "# Writing Pythonic Code\n",
    "From Chapter 6 of 'Beyond the Basic Stuff With Python' by Al Sweigart"
   ]
  },
  {
   "cell_type": "code",
   "execution_count": 44,
   "id": "77293677",
   "metadata": {},
   "outputs": [],
   "source": [
    "import this\n",
    "import copy\n",
    "import collections"
   ]
  },
  {
   "cell_type": "markdown",
   "id": "8c755fd3",
   "metadata": {},
   "source": [
    "## Use the with Statement Instead of open() and close()"
   ]
  },
  {
   "cell_type": "markdown",
   "id": "a15d801a",
   "metadata": {},
   "source": [
    "The open() function will return a file object that contains methods for reading or writing a file. When you’re done, the file object’s close() method makes the file available to other programs for reading and writing. You can use these functions individually. But doing so is unpythonic."
   ]
  },
  {
   "cell_type": "code",
   "execution_count": 8,
   "id": "79b8571a",
   "metadata": {},
   "outputs": [],
   "source": [
    "#Unpythonic Example\n",
    "file_obj = open('woah.txt', 'w+')\n",
    "file_obj.write('Woah, Man!!')\n",
    "file_obj.close()"
   ]
  },
  {
   "cell_type": "markdown",
   "id": "d6673c40",
   "metadata": {},
   "source": [
    "Writing code this way can lead to unclosed files if, say, an error occurs in a try block and the program skips the call to close()."
   ]
  },
  {
   "cell_type": "code",
   "execution_count": 9,
   "id": "b905cf3e",
   "metadata": {},
   "outputs": [
    {
     "name": "stdout",
     "output_type": "stream",
     "text": [
      "Some error ocurred\n"
     ]
    }
   ],
   "source": [
    "#Unpythonic Example\n",
    "try:\n",
    "    file_obj = open('woah.txt', 'w+')\n",
    "    error = 42/0 #Triggers error\n",
    "    file_obj.close() #This line never runss\n",
    "except:\n",
    "    print('Some error ocurred')"
   ]
  },
  {
   "cell_type": "markdown",
   "id": "3ee1f80a",
   "metadata": {},
   "source": [
    "Upon reaching the zero divide error, the execution moves to the except block, skipping the close() call and leaving the file open. This can lead to file corruption bugs later that are hard to trace back to the try block.\n",
    "<br>\n",
    "\n",
    "\n",
    "Instead, you can use the with statement to automatically call close() when the execution leaves the with statement’s block. The following pythonic example demonstrates it\n",
    "\n"
   ]
  },
  {
   "cell_type": "code",
   "execution_count": 5,
   "id": "38debbd8",
   "metadata": {},
   "outputs": [],
   "source": [
    "with open('woah.txt', 'w') as file_object:\n",
    "    file_object.write('Woah Man, you gotta leave somethings behind')"
   ]
  },
  {
   "cell_type": "markdown",
   "id": "b947c6d5",
   "metadata": {},
   "source": [
    "Even though there’s no explicit call to close(), the with statement will know to call it when the execution leaves the block."
   ]
  },
  {
   "cell_type": "markdown",
   "id": "e858567c",
   "metadata": {},
   "source": [
    "----"
   ]
  },
  {
   "cell_type": "markdown",
   "id": "644cf0d1",
   "metadata": {},
   "source": [
    "## Use is to Compare with None Instead of =="
   ]
  },
  {
   "cell_type": "markdown",
   "id": "c5b17cba",
   "metadata": {},
   "source": [
    "The *==* equality operator compares two object’s values, whereas the *is* identity operator compares two object’s identities. <b>Programming Jargon</b> covers value and identity. Two objects can store equivalent values, but being two separate objects means they have separate identities. However, whenever you compare a value to *None*, you should almost always use the *is* operator rather than the *==* operator.\n",
    "\n",
    "In some cases, the expression *spam == None* could evaluate to True even when *spam* merely contains *None*. This can happen due to <b>overloading</b> the *==* operator, which <b>Pythonic OOP</b> chapter covers it. \n",
    "\n",
    "But *spam* is *None* will check whether the value in the *spam* variable is literally None. Because *None* is the only value of the NoneType data type, there is only one None object in any Python program. If a variable is set to None, the is None comparison will always evaluate to True."
   ]
  },
  {
   "cell_type": "code",
   "execution_count": 5,
   "id": "723cf12d",
   "metadata": {},
   "outputs": [
    {
     "name": "stdout",
     "output_type": "stream",
     "text": [
      "hola\n",
      "spam == None:  True\n",
      "spam is None:  False\n"
     ]
    }
   ],
   "source": [
    "class SomeClass:\n",
    "    def __eq__(self, other):\n",
    "        if other is None:\n",
    "            return True\n",
    "        \n",
    "    def sendMessage(self, msg):\n",
    "        print(msg)\n",
    "\n",
    "spam = SomeClass()\n",
    "print('spam == None: ', spam == None)\n",
    "print('spam is None: ', spam is None)"
   ]
  },
  {
   "cell_type": "markdown",
   "id": "4cc26711",
   "metadata": {},
   "source": [
    "-----"
   ]
  },
  {
   "cell_type": "markdown",
   "id": "75fe896a",
   "metadata": {},
   "source": [
    "## Formatting Strings"
   ]
  },
  {
   "cell_type": "markdown",
   "id": "ecd8e353",
   "metadata": {},
   "source": [
    "### Use Raw Strings If Your String Has Many Backslashes"
   ]
  },
  {
   "cell_type": "markdown",
   "id": "5ac52bce",
   "metadata": {},
   "source": [
    "Raw strings are string literals that have an r prefix, and they don’t treat the backslash characters as escape characters. Instead, they just put the backslashes into the string. \n",
    "\n",
    "This raw string (notice the r prefix) produces the same string value while being more readable:"
   ]
  },
  {
   "cell_type": "code",
   "execution_count": 10,
   "id": "a3e54e47",
   "metadata": {},
   "outputs": [
    {
     "name": "stdout",
     "output_type": "stream",
     "text": [
      "Unpythonic way: The file is in C:\\Users\\Al\\Desktop\\Info...\n",
      "Pythonic way: The file is in C:\\\\Users\\\\Al\\\\Desktop\\Info...\n"
     ]
    }
   ],
   "source": [
    "print('Unpythonic way: The file is in C:\\\\Users\\\\Al\\\\Desktop\\Info...')\n",
    "print(r'Pythonic way: The file is in C:\\\\Users\\\\Al\\\\Desktop\\Info...')"
   ]
  },
  {
   "cell_type": "markdown",
   "id": "9e90a0e1",
   "metadata": {},
   "source": [
    "### Format Strings with F-Strings\n",
    "But as of Python 3.6, f-strings (short for format strings) offer a more convenient way to create strings that include other strings. Just like how raw strings are prefixed with an r before the first quote, f-strings are prefixed with an f. You can include variable names in between braces in the f-string to insert the strings stored in those variables:"
   ]
  },
  {
   "cell_type": "code",
   "execution_count": 16,
   "id": "f1297755",
   "metadata": {},
   "outputs": [
    {
     "data": {
      "text/plain": [
       "'Hello, Manuel. Today is Saturday and it is 2021'"
      ]
     },
     "execution_count": 16,
     "metadata": {},
     "output_type": "execute_result"
    }
   ],
   "source": [
    "name, day, year = 'Manuel', 'Saturday', 2020\n",
    "f'Hello, {name}. Today is {day} and it is {year+1}'"
   ]
  },
  {
   "cell_type": "markdown",
   "id": "4727dcca",
   "metadata": {},
   "source": [
    "-----"
   ]
  },
  {
   "cell_type": "markdown",
   "id": "c9803de3",
   "metadata": {},
   "source": [
    "## Making Shallow Copies of Lists"
   ]
  },
  {
   "cell_type": "markdown",
   "id": "f303ca16",
   "metadata": {},
   "source": [
    "The *slice* syntax can easily create new strings or lists from existing ones."
   ]
  },
  {
   "cell_type": "code",
   "execution_count": 17,
   "id": "d466e8c3",
   "metadata": {},
   "outputs": [
    {
     "data": {
      "text/plain": [
       "'world'"
      ]
     },
     "execution_count": 17,
     "metadata": {},
     "output_type": "execute_result"
    }
   ],
   "source": [
    "'Hello, world!'[7:12] #Create a string from a larger string"
   ]
  },
  {
   "cell_type": "code",
   "execution_count": 18,
   "id": "8ddd049f",
   "metadata": {},
   "outputs": [
    {
     "data": {
      "text/plain": [
       "['dog', 'cat', 'lion']"
      ]
     },
     "execution_count": 18,
     "metadata": {},
     "output_type": "execute_result"
    }
   ],
   "source": [
    "['dog','cat', 'lion', 'tiger'][:-1] #Create a list from a larger list"
   ]
  },
  {
   "cell_type": "markdown",
   "id": "58de34ad",
   "metadata": {},
   "source": [
    "The colon (:) separates the starting and ending indexes of the items to put in the new list you’re creating. If you omit the starting index before the colon, as in 'Hello, world!'[:5], the starting index defaults to 0. If you omit the ending index after the colon, as in ['cat', 'dog', 'rat', 'eel'][2:], the ending index defaults to the end of the list.\n",
    "\n",
    "If you omit both indexes, the starting index is 0 (the start of the list) and the ending index is the end of the list. This effectively creates a copy of the list:"
   ]
  },
  {
   "cell_type": "code",
   "execution_count": 23,
   "id": "8a5946ef",
   "metadata": {},
   "outputs": [
    {
     "name": "stdout",
     "output_type": "stream",
     "text": [
      "Equal ids?: False\n"
     ]
    }
   ],
   "source": [
    "animals = ['cat', 'dog', 'elephant']\n",
    "copy = animals[:]\n",
    "print(f'Equal ids?: {id(animals) == id(copy)}')"
   ]
  },
  {
   "cell_type": "markdown",
   "id": "af20f8d8",
   "metadata": {},
   "source": [
    "But the [:] does look a bit odd, and using the copy module’s copy() function to produce a shallow copy of the list is more readable:"
   ]
  },
  {
   "cell_type": "code",
   "execution_count": 26,
   "id": "322ed246",
   "metadata": {},
   "outputs": [
    {
     "name": "stdout",
     "output_type": "stream",
     "text": [
      "Equal ids?: False\n"
     ]
    }
   ],
   "source": [
    "#Pythonic Example\n",
    "names = ['Manuel', 'Alonso', 'El Pingo']\n",
    "copy_names = copy.copy(names)\n",
    "print(f'Equal ids?: {id(names) == id(copy_names)}')"
   ]
  },
  {
   "cell_type": "markdown",
   "id": "f7de0ec1",
   "metadata": {},
   "source": [
    "## Pythonic Ways to Use Dictionaries"
   ]
  },
  {
   "cell_type": "markdown",
   "id": "aec5d47e",
   "metadata": {},
   "source": [
    "### Use get() and setdefault() with Dictionaries"
   ]
  },
  {
   "cell_type": "markdown",
   "id": "ab7875bc",
   "metadata": {},
   "source": [
    "Trying to access a dictionary key that doesn’t exist will result in a KeyError error, so programmers will often write unpythonic code to avoid the situation, like this:\n",
    "\n"
   ]
  },
  {
   "cell_type": "code",
   "execution_count": 31,
   "id": "24b4a963",
   "metadata": {},
   "outputs": [
    {
     "name": "stdout",
     "output_type": "stream",
     "text": [
      "I do not have any turtles\n"
     ]
    }
   ],
   "source": [
    "#Unpythonic Example\n",
    "my_pets = {'dogs': 2, 'cats': 1}\n",
    "if 'turtles' in my_pets: \n",
    "    print('I have', my_pets['turtles'] ,'turtles')\n",
    "else:\n",
    "    print('I do not have any turtles')"
   ]
  },
  {
   "cell_type": "markdown",
   "id": "36e453bf",
   "metadata": {},
   "source": [
    "This pattern happens so often that dictionaries have a get() method that allows you to specify a default value to return when a key doesn’t exist in the dictionary. The following pythonic code is equivalent to the previous example:"
   ]
  },
  {
   "cell_type": "code",
   "execution_count": 33,
   "id": "d9367566",
   "metadata": {},
   "outputs": [
    {
     "name": "stdout",
     "output_type": "stream",
     "text": [
      "I have 0 turtles\n"
     ]
    }
   ],
   "source": [
    "#Pythonic Example\n",
    "my_pets = {'dogs': 2, 'cats': 1}\n",
    "print('I have', my_pets.get('turtles', 0), 'turtles')"
   ]
  },
  {
   "cell_type": "markdown",
   "id": "9322b204",
   "metadata": {},
   "source": [
    "The my_pets.get('turtles', 0) call checks whether the key 'turtles' exists in the my_pets dictionary. If it does, the method call returns the value for the 'turtles' key. If it doesn’t, it returns the second argument, 0, instead. Using the get() method to specify a default value to use for nonexistent keys is shorter and more readable than using if-else statements.\n",
    "\n",
    "Conversely, you might want to set a default value if a key doesn’t exist. For example, if the dictionary in my_pets doesn’t have a 'turtles' key, the instruction my_pets['turtles'] += 10 would result in a KeyError error. You might want to add code that checks for the key’s absence and sets a default value:"
   ]
  },
  {
   "cell_type": "code",
   "execution_count": 35,
   "id": "e5324afc",
   "metadata": {},
   "outputs": [
    {
     "data": {
      "text/plain": [
       "{'dogs': 2, 'cats': 1, 'turtles': 10}"
      ]
     },
     "execution_count": 35,
     "metadata": {},
     "output_type": "execute_result"
    }
   ],
   "source": [
    "#Unpythonic Example\n",
    "my_pets = {'dogs': 2, 'cats': 1}\n",
    "if 'turtles' not in my_pets:\n",
    "    my_pets['turtles'] = 0\n",
    "    \n",
    "my_pets['turtles'] += 10\n",
    "my_pets"
   ]
  },
  {
   "cell_type": "markdown",
   "id": "22d15116",
   "metadata": {},
   "source": [
    "But because this pattern is also common, dictionaries have a more pythonic setdefault() method. The following code is equivalent to the previous example:"
   ]
  },
  {
   "cell_type": "code",
   "execution_count": 41,
   "id": "df3e5f88",
   "metadata": {},
   "outputs": [
    {
     "data": {
      "text/plain": [
       "{'dogs': 2, 'cats': 1, 'turtles': 10}"
      ]
     },
     "execution_count": 41,
     "metadata": {},
     "output_type": "execute_result"
    }
   ],
   "source": [
    "#Pythonic Example\n",
    "my_pets = {'dogs': 2, 'cats': 1}\n",
    "my_pets.setdefault('turtles', 0)\n",
    "\n",
    "my_pets['turtles'] += 10\n",
    "my_pets"
   ]
  },
  {
   "cell_type": "markdown",
   "id": "348a4830",
   "metadata": {},
   "source": [
    "### Use collections.defaultdict for Default Values\n",
    "You can use the collections.defaultdict class to eliminate KeyError errors entirely. This class lets you create a default dictionary by importing the collections module and calling collections.defaultdict(), passing it a data type to use for a default value. For example, by passing int to collections.defaultdict(), you can make a dictionary-like object that uses 0 for a default value of nonexistent keys."
   ]
  },
  {
   "cell_type": "code",
   "execution_count": 56,
   "id": "4b48e560",
   "metadata": {},
   "outputs": [
    {
     "data": {
      "text/plain": [
       "defaultdict(int, {})"
      ]
     },
     "execution_count": 56,
     "metadata": {},
     "output_type": "execute_result"
    }
   ],
   "source": [
    "scores = collections.defaultdict(int)\n",
    "scores"
   ]
  },
  {
   "cell_type": "code",
   "execution_count": 57,
   "id": "f09b0ee0",
   "metadata": {},
   "outputs": [
    {
     "data": {
      "text/plain": [
       "defaultdict(int, {'A1': 1})"
      ]
     },
     "execution_count": 57,
     "metadata": {},
     "output_type": "execute_result"
    }
   ],
   "source": [
    "scores['A1'] += 1\n",
    "scores"
   ]
  },
  {
   "cell_type": "code",
   "execution_count": 58,
   "id": "d6be4913",
   "metadata": {},
   "outputs": [
    {
     "data": {
      "text/plain": [
       "0"
      ]
     },
     "execution_count": 58,
     "metadata": {},
     "output_type": "execute_result"
    }
   ],
   "source": [
    "scores['Zophie']"
   ]
  },
  {
   "cell_type": "code",
   "execution_count": 59,
   "id": "509c579c",
   "metadata": {},
   "outputs": [
    {
     "data": {
      "text/plain": [
       "defaultdict(int, {'A1': 1, 'Zophie': 40})"
      ]
     },
     "execution_count": 59,
     "metadata": {},
     "output_type": "execute_result"
    }
   ],
   "source": [
    "scores['Zophie'] += 40\n",
    "scores"
   ]
  },
  {
   "cell_type": "code",
   "execution_count": 62,
   "id": "e2ea1693",
   "metadata": {},
   "outputs": [
    {
     "data": {
      "text/plain": [
       "defaultdict(int, {'A1': 1, 'Zophie': 40, 'Z': 80})"
      ]
     },
     "execution_count": 62,
     "metadata": {},
     "output_type": "execute_result"
    }
   ],
   "source": [
    "scores['Z'] = 2*scores['Zophie']\n",
    "scores"
   ]
  },
  {
   "cell_type": "markdown",
   "id": "8c829784",
   "metadata": {},
   "source": [
    "Note that you’re passing the int() function, not calling it, so you omit the parentheses after int in collections.defaultdict(int). You can also pass list to use an empty list as the default value."
   ]
  },
  {
   "cell_type": "code",
   "execution_count": 66,
   "id": "03b74d34",
   "metadata": {},
   "outputs": [
    {
     "name": "stdout",
     "output_type": "stream",
     "text": [
      "Books read in 2021  ['El principito', 'El amor en los tiempos del cólera']\n",
      "Books read in 2020  None\n",
      "Default dict books ready in 2019:  []\n"
     ]
    }
   ],
   "source": [
    "#Pythonic way\n",
    "books_by_year = collections.defaultdict(list)\n",
    "books_by_year['2021'].append('El principito')\n",
    "books_by_year['2021'].append('El amor en los tiempos del cólera')\n",
    "print('Books read in 2021 ', books_by_year.get('2021', 'None'))\n",
    "print('Books read in 2020 ', books_by_year.get('2020', 'None'))\n",
    "print('Default dict books ready in 2019: ', books_by_year['2019'])\n"
   ]
  },
  {
   "cell_type": "code",
   "execution_count": 67,
   "id": "24ed39ae",
   "metadata": {},
   "outputs": [
    {
     "name": "stdout",
     "output_type": "stream",
     "text": [
      "Books read in 2021  ['El principito', 'El amor en los tiempos del cólera']\n",
      "Books read in 2020  None\n"
     ]
    },
    {
     "ename": "KeyError",
     "evalue": "'2019'",
     "output_type": "error",
     "traceback": [
      "\u001b[0;31m---------------------------------------------------------------------------\u001b[0m",
      "\u001b[0;31mKeyError\u001b[0m                                  Traceback (most recent call last)",
      "\u001b[0;32m<ipython-input-67-e25cc4b3066c>\u001b[0m in \u001b[0;36m<module>\u001b[0;34m\u001b[0m\n\u001b[1;32m      5\u001b[0m \u001b[0mprint\u001b[0m\u001b[0;34m(\u001b[0m\u001b[0;34m'Books read in 2021 '\u001b[0m\u001b[0;34m,\u001b[0m \u001b[0mbooks_by_year\u001b[0m\u001b[0;34m.\u001b[0m\u001b[0mget\u001b[0m\u001b[0;34m(\u001b[0m\u001b[0;34m'2021'\u001b[0m\u001b[0;34m,\u001b[0m \u001b[0;34m'None'\u001b[0m\u001b[0;34m)\u001b[0m\u001b[0;34m)\u001b[0m\u001b[0;34m\u001b[0m\u001b[0;34m\u001b[0m\u001b[0m\n\u001b[1;32m      6\u001b[0m \u001b[0mprint\u001b[0m\u001b[0;34m(\u001b[0m\u001b[0;34m'Books read in 2020 '\u001b[0m\u001b[0;34m,\u001b[0m \u001b[0mbooks_by_year\u001b[0m\u001b[0;34m.\u001b[0m\u001b[0mget\u001b[0m\u001b[0;34m(\u001b[0m\u001b[0;34m'2020'\u001b[0m\u001b[0;34m,\u001b[0m \u001b[0;34m'None'\u001b[0m\u001b[0;34m)\u001b[0m\u001b[0;34m)\u001b[0m\u001b[0;34m\u001b[0m\u001b[0;34m\u001b[0m\u001b[0m\n\u001b[0;32m----> 7\u001b[0;31m \u001b[0mprint\u001b[0m\u001b[0;34m(\u001b[0m\u001b[0;34m'Default dict books ready in 2019: '\u001b[0m\u001b[0;34m,\u001b[0m \u001b[0mbooks_by_year\u001b[0m\u001b[0;34m[\u001b[0m\u001b[0;34m'2019'\u001b[0m\u001b[0;34m]\u001b[0m\u001b[0;34m)\u001b[0m\u001b[0;34m\u001b[0m\u001b[0;34m\u001b[0m\u001b[0m\n\u001b[0m",
      "\u001b[0;31mKeyError\u001b[0m: '2019'"
     ]
    }
   ],
   "source": [
    "#Unpythonic way\n",
    "books_by_year = {'2021': []}\n",
    "books_by_year['2021'].append('El principito')\n",
    "books_by_year['2021'].append('El amor en los tiempos del cólera')\n",
    "print('Books read in 2021 ', books_by_year.get('2021', 'None'))\n",
    "print('Books read in 2020 ', books_by_year.get('2020', 'None'))\n",
    "print('Default dict books ready in 2019b: ', books_by_year['2019'])"
   ]
  },
  {
   "cell_type": "markdown",
   "id": "2b77d224",
   "metadata": {},
   "source": [
    "### Use Dictionaries Instead of a switch Statement\n",
    "Languages such as Java have a switch statement, which is a kind of if-elif-else statement that runs code based on which one of many values a specific variable contains. Python doesn’t have a switch statement, so Python programmers sometimes write code like the following example:"
   ]
  },
  {
   "cell_type": "code",
   "execution_count": 69,
   "id": "1032b6a4",
   "metadata": {},
   "outputs": [
    {
     "data": {
      "text/plain": [
       "'Personal day off'"
      ]
     },
     "execution_count": 69,
     "metadata": {},
     "output_type": "execute_result"
    }
   ],
   "source": [
    "season = 'Autumn' #option which isn't in the switch-alike example\n",
    "holiday = ''\n",
    "if season == 'Winter':\n",
    "    holiday = 'New Year\\'s Day'\n",
    "elif season == 'Spring':\n",
    "    holiday = 'May Day'\n",
    "elif season == 'Summer':\n",
    "    holiday = 'Juneteenth'\n",
    "elif season == 'Fall':\n",
    "    holiday = 'Halloween'\n",
    "else:\n",
    "    holiday = 'Personal day off' \n",
    "\n",
    "holiday"
   ]
  },
  {
   "cell_type": "markdown",
   "id": "b63c3dd1",
   "metadata": {},
   "source": [
    "This code isn’t necessarily unpythonic, but it’s a bit verbose. By default, Java switch statements have “fall-through” that requires each block to end with a break statement. Otherwise, the execution continues on to the next block. Forgetting to add this break statement is a common source of bugs. But all the if-elif statements in our Python example can be repetitive. Some Python programmers prefer to set up a dictionary value instead of using if-elif statements"
   ]
  },
  {
   "cell_type": "code",
   "execution_count": 74,
   "id": "86f3bc8f",
   "metadata": {},
   "outputs": [
    {
     "data": {
      "text/plain": [
       "'Personal day off'"
      ]
     },
     "execution_count": 74,
     "metadata": {},
     "output_type": "execute_result"
    }
   ],
   "source": [
    "season = 'Autumn'\n",
    "holiday = {'Winter': 'New Year\\'s Day',\n",
    "           'Spring': 'May Day',\n",
    "           'Summer': 'Juneteenth',\n",
    "           'Fall':   'Halloween'}.get(season, 'Personal day off')\n",
    "holiday"
   ]
  },
  {
   "cell_type": "code",
   "execution_count": 4,
   "id": "2243ac5a",
   "metadata": {},
   "outputs": [],
   "source": [
    "def getV(val):\n",
    "    return val+2\n",
    "    \n",
    "season = 'Winter'\n",
    "holiday = {'Winter': [getV(10), 'MM1'],\n",
    "           'Spring': getV(298),\n",
    "           'Summer': getV(298),\n",
    "           'Fall':   getV(298)}.get(season, 'Personal day off')\n"
   ]
  },
  {
   "cell_type": "markdown",
   "id": "44c893a3",
   "metadata": {},
   "source": [
    "----"
   ]
  },
  {
   "cell_type": "markdown",
   "id": "ceedbab4",
   "metadata": {},
   "source": [
    "## Conditional Expressions: Python’s “Ugly” Ternary Operator"
   ]
  },
  {
   "cell_type": "markdown",
   "id": "aa84229c",
   "metadata": {},
   "source": [
    "<b>Ternary operators</b> (officially called conditional expressions, or sometimes ternary selection expressions, in Python) evaluate an expression to one of two values based on a condition."
   ]
  },
  {
   "cell_type": "code",
   "execution_count": 75,
   "id": "7c33704b",
   "metadata": {},
   "outputs": [
    {
     "data": {
      "text/plain": [
       "'Access granted'"
      ]
     },
     "execution_count": 75,
     "metadata": {},
     "output_type": "execute_result"
    }
   ],
   "source": [
    "#Pythonic way\n",
    "condition = True\n",
    "if condition:\n",
    "    message = 'Access granted'\n",
    "else:\n",
    "    message = 'Access denied'\n",
    "    \n",
    "message"
   ]
  },
  {
   "cell_type": "markdown",
   "id": "c7cc09ca",
   "metadata": {},
   "source": [
    "Ternary simply means an operator with three inputs, but in programming it’s synonymous with conditional expression. Conditional expressions also offer a more concise one-liner for code that fits this pattern. In Python, they’re implemented with an odd arrangement of the if and else keywords:"
   ]
  },
  {
   "cell_type": "code",
   "execution_count": 77,
   "id": "cec3b302",
   "metadata": {},
   "outputs": [
    {
     "name": "stdout",
     "output_type": "stream",
     "text": [
      "Access granted\n",
      "Access denied\n"
     ]
    }
   ],
   "source": [
    "#Pythonic way\n",
    "value_if_true = 'Access granted'\n",
    "value_if_false = 'Access denied'\n",
    "condition = True\n",
    "print(value_if_true if condition else value_if_false)\n",
    "condition = False\n",
    "print(value_if_true if condition else value_if_false)"
   ]
  },
  {
   "cell_type": "code",
   "execution_count": 78,
   "id": "f68a12e7",
   "metadata": {},
   "outputs": [
    {
     "data": {
      "text/plain": [
       "'Access granted'"
      ]
     },
     "execution_count": 78,
     "metadata": {},
     "output_type": "execute_result"
    }
   ],
   "source": [
    "#Unpythonic Way\n",
    "value_if_true = 'Access granted'\n",
    "value_if_false = 'Access denied'\n",
    "condition = True\n",
    "condition and value_if_true or value_if_false"
   ]
  },
  {
   "cell_type": "markdown",
   "id": "c8c4dedc",
   "metadata": {},
   "source": [
    "This condition and valueIfTrue or valueIfFalse style of pseudo-ternary operator has a subtle bug: if valueIfTrue is a falsey value (such as 0, False, None, or the blank string), the expression unexpectedly evaluates to valueIfFalse if condition is True.\n",
    "\n",
    "But programmers continued to use this fake ternary operator anyway, and “Why doesn’t Python have a ternary operator?” became a perennial question to the Python core developers. Conditional expressions were created so programmers would stop asking for a ternary operator and wouldn’t use the bug-prone pseudo-ternary operator. But conditional expressions are also ugly enough to discourage programmers from using them. Although beautiful may be better than ugly, Python’s “ugly” ternary operator is an example of a case when practicality beats purity.\n",
    "\n",
    "Conditional expressions aren’t exactly pythonic, but they’re not unpythonic, either. If you do use them, avoid nesting conditional expressions inside other conditional expressions:"
   ]
  },
  {
   "cell_type": "code",
   "execution_count": 80,
   "id": "90710945",
   "metadata": {},
   "outputs": [
    {
     "data": {
      "text/plain": [
       "'adult'"
      ]
     },
     "execution_count": 80,
     "metadata": {},
     "output_type": "execute_result"
    }
   ],
   "source": [
    "#Unpythonic way\n",
    "#UGLY and DIFFICULT TO READ\n",
    "age = 30\n",
    "age_range = 'child' if age < 13 else 'teenager' if age >= 13 and age < 18 else 'adult'\n",
    "age_range"
   ]
  },
  {
   "cell_type": "markdown",
   "id": "aa1853a4",
   "metadata": {},
   "source": [
    "## Working with Variable Values\n",
    "You’ll often need to check and modify the values that variables store. Python has several ways of doing this."
   ]
  },
  {
   "cell_type": "markdown",
   "id": "0773a5d6",
   "metadata": {},
   "source": [
    "### Chaining Assignment and Comparison Operators\n",
    "When you have to check whether a number is within a certain range, you might use the Boolean and operator like this:"
   ]
  },
  {
   "cell_type": "code",
   "execution_count": 84,
   "id": "d05bfd92",
   "metadata": {},
   "outputs": [
    {
     "name": "stdout",
     "output_type": "stream",
     "text": [
      "Is in range\n"
     ]
    }
   ],
   "source": [
    "#Unpythonic example\n",
    "num = 75\n",
    "if 42 < num and num < 99:\n",
    "    print('Is in range')"
   ]
  },
  {
   "cell_type": "code",
   "execution_count": 87,
   "id": "3d1743c8",
   "metadata": {},
   "outputs": [
    {
     "name": "stdout",
     "output_type": "stream",
     "text": [
      "Is in range\n"
     ]
    }
   ],
   "source": [
    "#Pythonic example\n",
    "if 42 < num < 99:\n",
    "    print('Is in range')"
   ]
  },
  {
   "cell_type": "markdown",
   "id": "7db0c158",
   "metadata": {},
   "source": [
    "To check whether all three of these variables are the same, you can use the and operator, or more simply, chain the == comparison operator for equality."
   ]
  },
  {
   "cell_type": "code",
   "execution_count": 88,
   "id": "064637df",
   "metadata": {},
   "outputs": [
    {
     "data": {
      "text/plain": [
       "True"
      ]
     },
     "execution_count": 88,
     "metadata": {},
     "output_type": "execute_result"
    }
   ],
   "source": [
    "#Pythonic example\n",
    "spam = eggs = bacon = 'string'\n",
    "spam == eggs == bacon == 'string'"
   ]
  },
  {
   "cell_type": "markdown",
   "id": "74ad27ef",
   "metadata": {},
   "source": [
    "### Checking Whether a Variable Is One of Many Values"
   ]
  },
  {
   "cell_type": "code",
   "execution_count": 92,
   "id": "1cd5a16d",
   "metadata": {},
   "outputs": [
    {
     "data": {
      "text/plain": [
       "True"
      ]
     },
     "execution_count": 92,
     "metadata": {},
     "output_type": "execute_result"
    }
   ],
   "source": [
    "#Pythonic example\n",
    "animal = 'cat'\n",
    "animal in ('dog', 'moose', 'cat')"
   ]
  }
 ],
 "metadata": {
  "kernelspec": {
   "display_name": "Python 3",
   "language": "python",
   "name": "python3"
  },
  "language_info": {
   "codemirror_mode": {
    "name": "ipython",
    "version": 3
   },
   "file_extension": ".py",
   "mimetype": "text/x-python",
   "name": "python",
   "nbconvert_exporter": "python",
   "pygments_lexer": "ipython3",
   "version": "3.9.4"
  }
 },
 "nbformat": 4,
 "nbformat_minor": 5
}
