{
 "cells": [
  {
   "cell_type": "markdown",
   "id": "a38829b3",
   "metadata": {},
   "source": [
    "# Lists - Intermediate\n",
    "From Chapter 4 of 'Automate The Boring Stuff With Python by Al Sweigart"
   ]
  },
  {
   "cell_type": "code",
   "execution_count": 34,
   "id": "bacee8a9",
   "metadata": {},
   "outputs": [],
   "source": [
    "import copy"
   ]
  },
  {
   "cell_type": "markdown",
   "id": "d803aa5a",
   "metadata": {},
   "source": [
    "### The in and not in Operators\n",
    "You can determine whether a value is or isn’t in a list with the in and not in operators. Like other operators, in and not in are used in expressions and connect two values: a value to look for in a list and the list where it may be found. These expressions will evaluate to a Boolean value."
   ]
  },
  {
   "cell_type": "code",
   "execution_count": 13,
   "id": "52db2318",
   "metadata": {},
   "outputs": [
    {
     "name": "stdout",
     "output_type": "stream",
     "text": [
      "Lucas es un nombre de gato\n",
      "Firulais no es un nombre de gato\n"
     ]
    }
   ],
   "source": [
    "def verify_names(cat_names):\n",
    "    if 'Lucas' in cat_names:\n",
    "       print('Lucas es un nombre de gato')\n",
    "    if 'Firulais' not in cat_names:\n",
    "       print('Firulais no es un nombre de gato')\n",
    "    else:\n",
    "        print('Firulais es un nombre de gato')\n",
    "    \n",
    "cat_names = ['Michi', 'Lucas']\n",
    "verify_names(cat_names)"
   ]
  },
  {
   "cell_type": "markdown",
   "id": "8d8681a6",
   "metadata": {},
   "source": [
    "---"
   ]
  },
  {
   "cell_type": "markdown",
   "id": "959fdf78",
   "metadata": {},
   "source": [
    "### The Multiple Assignment Trick "
   ]
  },
  {
   "cell_type": "markdown",
   "id": "4efb69bf",
   "metadata": {},
   "source": [
    "The number of variables and the length of the list must be exactly equal, or Python will give you a ValueError:"
   ]
  },
  {
   "cell_type": "code",
   "execution_count": 18,
   "id": "6706a603",
   "metadata": {},
   "outputs": [
    {
     "ename": "ValueError",
     "evalue": "too many values to unpack (expected 3)",
     "output_type": "error",
     "traceback": [
      "\u001b[0;31m---------------------------------------------------------------------------\u001b[0m",
      "\u001b[0;31mValueError\u001b[0m                                Traceback (most recent call last)",
      "\u001b[0;32m<ipython-input-18-02b912de92eb>\u001b[0m in \u001b[0;36m<module>\u001b[0;34m\u001b[0m\n\u001b[1;32m      1\u001b[0m \u001b[0mcat_names\u001b[0m \u001b[0;34m=\u001b[0m \u001b[0;34m[\u001b[0m\u001b[0;34m'Félix'\u001b[0m\u001b[0;34m,\u001b[0m \u001b[0;34m'Benito'\u001b[0m\u001b[0;34m,\u001b[0m \u001b[0;34m'Lucas'\u001b[0m\u001b[0;34m,\u001b[0m \u001b[0;34m'Michi'\u001b[0m\u001b[0;34m]\u001b[0m\u001b[0;34m\u001b[0m\u001b[0;34m\u001b[0m\u001b[0m\n\u001b[0;32m----> 2\u001b[0;31m \u001b[0mboring\u001b[0m\u001b[0;34m,\u001b[0m \u001b[0mcartoon\u001b[0m\u001b[0;34m,\u001b[0m \u001b[0mlove\u001b[0m\u001b[0;34m,\u001b[0m \u001b[0;34m=\u001b[0m \u001b[0mcat_names\u001b[0m\u001b[0;34m\u001b[0m\u001b[0;34m\u001b[0m\u001b[0m\n\u001b[0m",
      "\u001b[0;31mValueError\u001b[0m: too many values to unpack (expected 3)"
     ]
    }
   ],
   "source": [
    "cat_names = ['Félix', 'Benito', 'Lucas', 'Michi']\n",
    "boring, cartoon, love, = cat_names"
   ]
  },
  {
   "cell_type": "code",
   "execution_count": 22,
   "id": "420de0d5",
   "metadata": {},
   "outputs": [
    {
     "name": "stdout",
     "output_type": "stream",
     "text": [
      "Array:  ['Félix', 'Benito', 'Lucas', 'Michi']\n",
      "Félix\n",
      "Benito\n",
      "Lucas\n",
      "Michi\n"
     ]
    }
   ],
   "source": [
    "cat_names = ['Félix', 'Benito', 'Lucas', 'Michi']\n",
    "boring, cartoon, love, nickname = cat_names\n",
    "print(\"Array: \", cat_names)\n",
    "print(boring)\n",
    "print(cartoon)\n",
    "print(love)\n",
    "print(nickname)"
   ]
  },
  {
   "cell_type": "markdown",
   "id": "8c2da5a4",
   "metadata": {},
   "source": [
    "---"
   ]
  },
  {
   "cell_type": "markdown",
   "id": "a4232ba2",
   "metadata": {},
   "source": [
    "### Using the enumerate() Function with Lists"
   ]
  },
  {
   "cell_type": "code",
   "execution_count": 24,
   "id": "e2c06655",
   "metadata": {},
   "outputs": [
    {
     "name": "stdout",
     "output_type": "stream",
     "text": [
      "0.- I drive my PT Cruiser car.\n",
      "1.- I drive my Fiat car.\n",
      "2.- I drive my Dodge car.\n",
      "3.- I drive my Nissan car.\n"
     ]
    }
   ],
   "source": [
    "cars = ['PT Cruiser', 'Fiat', 'Dodge', 'Nissan']\n",
    "for index, car in enumerate(cars):\n",
    "    print(str(index) + \".- I drive my \" + car + \" car.\" )"
   ]
  },
  {
   "cell_type": "markdown",
   "id": "273b66be",
   "metadata": {},
   "source": [
    "---"
   ]
  },
  {
   "cell_type": "markdown",
   "id": "5bf7539b",
   "metadata": {},
   "source": [
    "### Mutable and Inmutable Data Types\n",
    "But lists and strings are different in an important way. A list value is a mutable data type: it can have values added, removed, or changed. However, a string is immutable: it cannot be changed. "
   ]
  },
  {
   "cell_type": "code",
   "execution_count": 28,
   "id": "198233b4",
   "metadata": {},
   "outputs": [
    {
     "name": "stdout",
     "output_type": "stream",
     "text": [
      "You can access to a single character, like the 3rd character:  a\n"
     ]
    },
    {
     "ename": "TypeError",
     "evalue": "'str' object does not support item assignment",
     "output_type": "error",
     "traceback": [
      "\u001b[0;31m---------------------------------------------------------------------------\u001b[0m",
      "\u001b[0;31mTypeError\u001b[0m                                 Traceback (most recent call last)",
      "\u001b[0;32m<ipython-input-28-63a6ff861405>\u001b[0m in \u001b[0;36m<module>\u001b[0;34m\u001b[0m\n\u001b[1;32m      1\u001b[0m \u001b[0mstring\u001b[0m \u001b[0;34m=\u001b[0m \u001b[0;34m'Starman'\u001b[0m\u001b[0;34m\u001b[0m\u001b[0;34m\u001b[0m\u001b[0m\n\u001b[1;32m      2\u001b[0m \u001b[0mprint\u001b[0m\u001b[0;34m(\u001b[0m\u001b[0;34m\"You can access to a single character, like the 3rd character: \"\u001b[0m\u001b[0;34m,\u001b[0m \u001b[0mstring\u001b[0m\u001b[0;34m[\u001b[0m\u001b[0;36m2\u001b[0m\u001b[0;34m]\u001b[0m\u001b[0;34m)\u001b[0m\u001b[0;34m\u001b[0m\u001b[0;34m\u001b[0m\u001b[0m\n\u001b[0;32m----> 3\u001b[0;31m \u001b[0mstring\u001b[0m\u001b[0;34m[\u001b[0m\u001b[0;34m-\u001b[0m\u001b[0;36m1\u001b[0m\u001b[0;34m]\u001b[0m \u001b[0;34m=\u001b[0m \u001b[0;34m's'\u001b[0m\u001b[0;34m\u001b[0m\u001b[0;34m\u001b[0m\u001b[0m\n\u001b[0m",
      "\u001b[0;31mTypeError\u001b[0m: 'str' object does not support item assignment"
     ]
    }
   ],
   "source": [
    "string = 'Starman'\n",
    "print(\"You can access to a single character, like the 3rd character: \", string[2])\n",
    "string[-1] = 's'"
   ]
  },
  {
   "cell_type": "markdown",
   "id": "c4168ada",
   "metadata": {},
   "source": [
    "References are particularly important for understanding how arguments get passed to functions. When a function is called, the values of the arguments are copied to the parameter variables. For lists, and dictionaries, this means a copy of the reference is used for the parameter."
   ]
  },
  {
   "cell_type": "code",
   "execution_count": 41,
   "id": "eee71c1f",
   "metadata": {},
   "outputs": [
    {
     "name": "stdout",
     "output_type": "stream",
     "text": [
      "This is the initial list:  ['Penguin', 'Doggy', 'Chicken']\n",
      "This is my REFERENCE created of my initial list:  ['Penguin', 'Doggy', 'Chicken']\n"
     ]
    }
   ],
   "source": [
    "initial_list = ['Penguin', 'Doggy', 'Chicken']\n",
    "print(\"This is the initial list: \", initial_list)\n",
    "reference_to_initial_list = initial_list\n",
    "print(\"This is my REFERENCE created of my initial list: \", reference_to_initial_list)"
   ]
  },
  {
   "cell_type": "markdown",
   "id": "8e5efb66",
   "metadata": {},
   "source": [
    "Now, if we change a value of the <b>reference_to_initial_list</b>, we will be changing as well the <b>initial_list</b>"
   ]
  },
  {
   "cell_type": "code",
   "execution_count": 42,
   "id": "81eaca00",
   "metadata": {},
   "outputs": [
    {
     "name": "stdout",
     "output_type": "stream",
     "text": [
      "This is the initial list AFTER the change in the reference:  ['Penguin', 'Doggy', 'Cat']\n",
      "This is my REFERENCE created of my initial list AFTER the change in the reference:  ['Penguin', 'Doggy', 'Cat']\n"
     ]
    }
   ],
   "source": [
    "reference_to_initial_list[-1] = 'Cat'\n",
    "print(\"This is the initial list AFTER the change in the reference: \", initial_list)\n",
    "print(\"This is my REFERENCE created of my initial list AFTER the change in the reference: \", reference_to_initial_list)"
   ]
  },
  {
   "cell_type": "markdown",
   "id": "ca745c63",
   "metadata": {},
   "source": [
    "### The copy Module’s copy() and deepcopy() Functions\n",
    "Although passing around references is often the handiest way to deal with lists and dictionaries, if the function modifies the list or dictionary that is passed, you may not want these changes in the original list or dictionary value. For this, Python provides a module named copy that provides both the copy() and deepcopy() functions. The first of these, copy.copy(), can be used to make a duplicate copy of a mutable value like a list or dictionary, not just a copy of a reference."
   ]
  },
  {
   "cell_type": "code",
   "execution_count": 43,
   "id": "1aeb38c9",
   "metadata": {},
   "outputs": [
    {
     "name": "stdout",
     "output_type": "stream",
     "text": [
      "This is the initial list:  ['Penguin', 'Doggy', 'Chicken']\n",
      "This is my copy of my initial list:  ['Penguin', 'Doggy', 'Chicken']\n"
     ]
    }
   ],
   "source": [
    "initial_list = ['Penguin', 'Doggy', 'Chicken']\n",
    "print(\"This is the initial list: \", initial_list)\n",
    "copy_of_initial_list = copy.copy(initial_list)\n",
    "print(\"This is my copy of my initial list: \", copy_of_initial_list)"
   ]
  },
  {
   "cell_type": "code",
   "execution_count": 44,
   "id": "c3378d22",
   "metadata": {},
   "outputs": [
    {
     "name": "stdout",
     "output_type": "stream",
     "text": [
      "This is the initial list AFTER the change in the copy:  ['Penguin', 'Doggy', 'Chicken']\n",
      "This is my REFERENCE created of my initial list AFTER the change in the copy:  ['Penguin', 'Doggy', 'Cat']\n"
     ]
    }
   ],
   "source": [
    "copy_of_initial_list[-1] = 'Cat'\n",
    "print(\"This is the initial list AFTER the change in the copy: \", initial_list)\n",
    "print(\"This is my REFERENCE created of my initial list AFTER the change in the copy: \", reference_to_initial_list)"
   ]
  },
  {
   "cell_type": "code",
   "execution_count": 2,
   "id": "f7ad612c",
   "metadata": {},
   "outputs": [
    {
     "name": "stdout",
     "output_type": "stream",
     "text": [
      "[1, 2, 3, 4, 5, 6]\n"
     ]
    }
   ],
   "source": []
  },
  {
   "cell_type": "code",
   "execution_count": 4,
   "id": "40e868d7",
   "metadata": {},
   "outputs": [
    {
     "name": "stdout",
     "output_type": "stream",
     "text": [
      "[1, 2, 3, 4, 5, 6]\n",
      "[1, 2, 3, 4, 5, 10]\n"
     ]
    }
   ],
   "source": []
  }
 ],
 "metadata": {
  "kernelspec": {
   "display_name": "Python 3",
   "language": "python",
   "name": "python3"
  },
  "language_info": {
   "codemirror_mode": {
    "name": "ipython",
    "version": 3
   },
   "file_extension": ".py",
   "mimetype": "text/x-python",
   "name": "python",
   "nbconvert_exporter": "python",
   "pygments_lexer": "ipython3",
   "version": "3.9.6"
  }
 },
 "nbformat": 4,
 "nbformat_minor": 5
}
