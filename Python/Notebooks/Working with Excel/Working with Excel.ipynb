{
 "cells": [
  {
   "cell_type": "code",
   "execution_count": 14,
   "id": "509b6d5e",
   "metadata": {},
   "outputs": [],
   "source": [
    "#pip install openpyxl"
   ]
  },
  {
   "cell_type": "markdown",
   "id": "848dfd25",
   "metadata": {},
   "source": [
    "# Working with Excel\n",
    "From Chapter 13 of 'Automate The Boring Stuff With Python' by Al Sweigart"
   ]
  },
  {
   "cell_type": "code",
   "execution_count": 38,
   "id": "acd98413",
   "metadata": {},
   "outputs": [],
   "source": [
    "import openpyxl as pyxl\n",
    "from openpyxl.utils import get_column_letter, column_index_from_string"
   ]
  },
  {
   "cell_type": "markdown",
   "id": "b817d8e5",
   "metadata": {},
   "source": [
    "## Reading Excel Documents\n",
    "The examples in this chapter will use a spreadsheet named example.xlsx."
   ]
  },
  {
   "cell_type": "code",
   "execution_count": 6,
   "id": "7ce7f406",
   "metadata": {},
   "outputs": [
    {
     "data": {
      "text/plain": [
       "openpyxl.workbook.workbook.Workbook"
      ]
     },
     "execution_count": 6,
     "metadata": {},
     "output_type": "execute_result"
    }
   ],
   "source": [
    "loaded_excel = pyxl.load_workbook('example.xlsx')\n",
    "type(loaded_excel)"
   ]
  },
  {
   "cell_type": "markdown",
   "id": "f4611ccc",
   "metadata": {},
   "source": [
    "---"
   ]
  },
  {
   "cell_type": "markdown",
   "id": "c89285f9",
   "metadata": {},
   "source": [
    "## Getting Sheets from the Workbook\n"
   ]
  },
  {
   "cell_type": "code",
   "execution_count": 7,
   "id": "5442f2f0",
   "metadata": {},
   "outputs": [
    {
     "data": {
      "text/plain": [
       "['Sheet1', 'Sheet2', 'Sheet3']"
      ]
     },
     "execution_count": 7,
     "metadata": {},
     "output_type": "execute_result"
    }
   ],
   "source": [
    "loaded_excel.sheetnames"
   ]
  },
  {
   "cell_type": "code",
   "execution_count": 8,
   "id": "bdc0b8b7",
   "metadata": {},
   "outputs": [
    {
     "data": {
      "text/plain": [
       "<Worksheet \"Sheet1\">"
      ]
     },
     "execution_count": 8,
     "metadata": {},
     "output_type": "execute_result"
    }
   ],
   "source": [
    "loaded_excel.active"
   ]
  },
  {
   "cell_type": "markdown",
   "id": "8ad430cd",
   "metadata": {},
   "source": [
    "---"
   ]
  },
  {
   "cell_type": "markdown",
   "id": "e31018ed",
   "metadata": {},
   "source": [
    "## Getting Cells from the Sheets"
   ]
  },
  {
   "cell_type": "code",
   "execution_count": 15,
   "id": "a3e1e0c6",
   "metadata": {},
   "outputs": [
    {
     "name": "stdout",
     "output_type": "stream",
     "text": [
      "Cell from the sheet <Cell 'Sheet1'.A1>\n",
      "Value from cell A1:  2015-04-05 13:34:02\n",
      "Value from cell B1:  Apples\n",
      "Value from cell C1:  73\n"
     ]
    }
   ],
   "source": [
    "sheet_1 = loaded_excel['Sheet1']\n",
    "print(\"Cell from the sheet\", sheet_1['A1']) \n",
    "print(\"Value from cell A1: \", sheet_1['A1'].value) \n",
    "print(\"Value from cell B1: \", sheet_1['B1'].value)\n",
    "print(\"Value from cell C1: \", sheet_1['C1'].value)"
   ]
  },
  {
   "cell_type": "markdown",
   "id": "2d307f73",
   "metadata": {},
   "source": [
    "OpenPyXL will automatically interpret the dates in column A and return them as datetime values rather than strings. The datetime data type is explained in <b>Manage Datetime</b>."
   ]
  },
  {
   "cell_type": "markdown",
   "id": "0a3a1914",
   "metadata": {},
   "source": [
    "### Get a cell using the sheet’s cell() "
   ]
  },
  {
   "cell_type": "code",
   "execution_count": 27,
   "id": "3e57dcab",
   "metadata": {},
   "outputs": [
    {
     "name": "stdout",
     "output_type": "stream",
     "text": [
      "<Cell 'Sheet1'.B1>\n",
      "Value of row 1, column 2:  Apples\n",
      "Row 1: Apples\n",
      "Row 3: Pears\n",
      "Row 5: Apples\n",
      "Row 7: Strawberries\n"
     ]
    }
   ],
   "source": [
    "r1_c2 = sheet_1.cell(row=1, column=2)\n",
    "print(r1_c2)\n",
    "print(\"Value of row 1, column 2: \", r1_c2.value)\n",
    "for i in range(1,8,2):\n",
    "    print('Row ' + str(i) + \": \" + sheet_1.cell(row=i, column=2).value)"
   ]
  },
  {
   "cell_type": "markdown",
   "id": "15d5387c",
   "metadata": {},
   "source": [
    "### Size of the sheet with the Worksheet object’s max_row and max_column attributes"
   ]
  },
  {
   "cell_type": "code",
   "execution_count": 30,
   "id": "11a66cdd",
   "metadata": {},
   "outputs": [
    {
     "name": "stdout",
     "output_type": "stream",
     "text": [
      "Maximum row from Sheet 1:  7\n",
      "Maximum column from Sheet 1:  3\n"
     ]
    }
   ],
   "source": [
    "print(\"Maximum row from Sheet 1: \", sheet_1.max_row)\n",
    "print(\"Maximum column from Sheet 1: \", sheet_1.max_column)"
   ]
  },
  {
   "cell_type": "markdown",
   "id": "874db927",
   "metadata": {},
   "source": [
    "---"
   ]
  },
  {
   "cell_type": "markdown",
   "id": "c5c5b610",
   "metadata": {},
   "source": [
    "## Converting Between Column Letters and Numbers"
   ]
  },
  {
   "cell_type": "markdown",
   "id": "c66a9c4a",
   "metadata": {},
   "source": [
    "Using:<br>\n",
    "    <b>- get_column_letter</b> <br>\n",
    "    <b>- column_index_from_string</b>"
   ]
  },
  {
   "cell_type": "code",
   "execution_count": 40,
   "id": "96fe27ae",
   "metadata": {},
   "outputs": [
    {
     "name": "stdout",
     "output_type": "stream",
     "text": [
      "Maximum column from Sheet 1:  C\n",
      "Column index from 'A':  1\n",
      "Column index from 'AA':  27\n"
     ]
    }
   ],
   "source": [
    "print(\"Maximum column from Sheet 1: \", get_column_letter(sheet_1.max_column))\n",
    "print(\"Column index from 'A': \", column_index_from_string('A'))\n",
    "print(\"Column index from 'AA': \", column_index_from_string('AA'))"
   ]
  },
  {
   "cell_type": "markdown",
   "id": "eee605f0",
   "metadata": {},
   "source": [
    "<b>Make a tuple around a range of Cells, getting all the cells with their respective data</b>"
   ]
  },
  {
   "cell_type": "code",
   "execution_count": 50,
   "id": "ad3d4a2c",
   "metadata": {},
   "outputs": [
    {
     "name": "stdout",
     "output_type": "stream",
     "text": [
      "Cells from A1 to C3 ((<Cell 'Sheet1'.A1>, <Cell 'Sheet1'.B1>, <Cell 'Sheet1'.C1>), (<Cell 'Sheet1'.A2>, <Cell 'Sheet1'.B2>, <Cell 'Sheet1'.C2>), (<Cell 'Sheet1'.A3>, <Cell 'Sheet1'.B3>, <Cell 'Sheet1'.C3>))\n"
     ]
    }
   ],
   "source": [
    "tuple_w_cells = tuple(sheet_1['A1':'C3'])\n",
    "print('Cells from A1 to C3', tuple_w_cells)"
   ]
  },
  {
   "cell_type": "code",
   "execution_count": 58,
   "id": "414093f7",
   "metadata": {},
   "outputs": [
    {
     "name": "stdout",
     "output_type": "stream",
     "text": [
      "A1 2015-04-05 13:34:02\n",
      "B1 Apples\n",
      "C1 73\n",
      "A2 2015-04-05 03:41:23\n",
      "B2 Cherries\n",
      "C2 85\n",
      "A3 2015-04-06 12:46:51\n",
      "B3 Pears\n",
      "C3 14\n",
      "A4 2015-04-08 08:59:43\n",
      "B4 Oranges\n",
      "C4 52\n",
      "A5 2015-04-10 02:07:00\n",
      "B5 Apples\n",
      "C5 152\n",
      "A6 2015-04-10 18:10:37\n",
      "B6 Bananas\n",
      "C6 23\n",
      "A7 2015-04-10 02:40:46\n",
      "B7 Strawberries\n",
      "C7 98\n"
     ]
    }
   ],
   "source": [
    "#We get the initial column, which is: A1 and also, we get the final column, for that case\n",
    "#we use the funcions get_column_letter(max_column) + max_row = C7 \n",
    "i_c = 'A1'\n",
    "f_c = get_column_letter(sheet_1.max_column) + str(sheet_1.max_row)\n",
    "for row_column in sheet_1[i_c: f_c]:\n",
    "    for cell in row_column:\n",
    "        print(cell.coordinate, cell.value)"
   ]
  },
  {
   "cell_type": "markdown",
   "id": "723ce436",
   "metadata": {},
   "source": [
    "----"
   ]
  },
  {
   "cell_type": "markdown",
   "id": "229ea294",
   "metadata": {},
   "source": [
    "## Writing Excel Documents"
   ]
  },
  {
   "cell_type": "markdown",
   "id": "8d5f9b6e",
   "metadata": {},
   "source": [
    "Let's create a new Workbook"
   ]
  },
  {
   "cell_type": "code",
   "execution_count": 59,
   "id": "006ad5aa",
   "metadata": {},
   "outputs": [
    {
     "data": {
      "text/plain": [
       "['Sheet']"
      ]
     },
     "execution_count": 59,
     "metadata": {},
     "output_type": "execute_result"
    }
   ],
   "source": [
    "#Create blank workbook\n",
    "my_wb = pyxl.Workbook()\n",
    "#It starts with one Sheet\n",
    "my_wb.sheetnames"
   ]
  },
  {
   "cell_type": "markdown",
   "id": "d5ca7cb4",
   "metadata": {},
   "source": [
    "sheet = my_wb.active\n",
    "sheet.title"
   ]
  },
  {
   "cell_type": "markdown",
   "id": "3e5ed07d",
   "metadata": {},
   "source": [
    "Let's change the sheet title"
   ]
  },
  {
   "cell_type": "code",
   "execution_count": 61,
   "id": "30fe1c7e",
   "metadata": {},
   "outputs": [],
   "source": [
    "sheet.title = 'Sheet desde Python'"
   ]
  },
  {
   "cell_type": "code",
   "execution_count": 62,
   "id": "1a9e836c",
   "metadata": {},
   "outputs": [
    {
     "data": {
      "text/plain": [
       "['Sheet desde Python']"
      ]
     },
     "execution_count": 62,
     "metadata": {},
     "output_type": "execute_result"
    }
   ],
   "source": [
    "my_wb.sheetnames"
   ]
  },
  {
   "cell_type": "markdown",
   "id": "b880b38b",
   "metadata": {},
   "source": [
    "Let's save the workbook"
   ]
  },
  {
   "cell_type": "code",
   "execution_count": 63,
   "id": "07c5a328",
   "metadata": {},
   "outputs": [],
   "source": [
    "my_wb.save('my_workbook.xlsx')"
   ]
  },
  {
   "attachments": {
    "Screen%20Shot%202021-05-06%20at%2022.17.54.png": {
     "image/png": "[encoded data removed]"
    }
   },
   "cell_type": "markdown",
   "id": "eca5123d",
   "metadata": {},
   "source": [
    "![Screen%20Shot%202021-05-06%20at%2022.17.54.png](attachment:Screen%20Shot%202021-05-06%20at%2022.17.54.png)\n",
    "<p style='text-align: center;' >It is stored in the folder</p>"
   ]
  },
  {
   "cell_type": "markdown",
   "id": "a49ac4ab",
   "metadata": {},
   "source": [
    "## Creating and Removing Sheets and Writing Values to Cells\n",
    "Sheets can be added to and removed from a workbook with the create_sheet() method and del operator."
   ]
  },
  {
   "cell_type": "code",
   "execution_count": null,
   "id": "6df45801",
   "metadata": {},
   "outputs": [],
   "source": []
  }
 ],
 "metadata": {
  "kernelspec": {
   "display_name": "Python 3",
   "language": "python",
   "name": "python3"
  },
  "language_info": {
   "codemirror_mode": {
    "name": "ipython",
    "version": 3
   },
   "file_extension": ".py",
   "mimetype": "text/x-python",
   "name": "python",
   "nbconvert_exporter": "python",
   "pygments_lexer": "ipython3",
   "version": "3.9.4"
  }
 },
 "nbformat": 4,
 "nbformat_minor": 5
}
