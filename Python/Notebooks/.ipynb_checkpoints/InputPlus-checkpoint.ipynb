{
 "cells": [
  {
   "cell_type": "markdown",
   "id": "90695594",
   "metadata": {},
   "source": [
    "# INPUT PLUS\n",
    "From Chapter 8 of 'Automate The Boring Stuff With Python by Al Sweigart"
   ]
  },
  {
   "cell_type": "code",
   "execution_count": 3,
   "id": "7d2d4112",
   "metadata": {},
   "outputs": [],
   "source": [
    "import pyinputplus as pyip"
   ]
  },
  {
   "cell_type": "markdown",
   "id": "be2a3ff8",
   "metadata": {},
   "source": [
    "# Honorable Mentions\n",
    "\n",
    "\n",
    "### inputStr() \n",
    "Is like the built-in input() function but has the general PyInputPlus features. You can also pass a custom validation function to it\n",
    "\n",
    "### inputDatetime() \n",
    "Ensures the user enters a date and time\n",
    "\n",
    "### inputYesNo() \n",
    "Ensures the user enters a “yes” or “no” response\n",
    "\n",
    "### inputBool() \n",
    "Is similar to inputYesNo(), but takes a “True” or “False” response and returns a Boolean value\n",
    "\n",
    "### inputEmail() \n",
    "Ensures the user enters a valid email address\n",
    "\n",
    "### inputFilepath() \n",
    "Ensures the user enters a valid file path and filename, and can optionally check that a file with that name exists\n",
    "\n",
    "### inputPassword()\n",
    "Is like the built-in input(), but displays * characters as the user types so that passwords, or other sensitive information, aren’t displayed on the screen\n"
   ]
  },
  {
   "cell_type": "markdown",
   "id": "846ff90c",
   "metadata": {},
   "source": [
    "------------------------------------------------------------------------------------------------------------------------------------------------------------------------------------------------------------------------------------"
   ]
  },
  {
   "cell_type": "markdown",
   "id": "792bc912",
   "metadata": {},
   "source": [
    "### inputNum() \n",
    "Ensures the user enters a number and returns an int or float, depending on if the number has a decimal point in it"
   ]
  },
  {
   "cell_type": "code",
   "execution_count": 10,
   "id": "dff9aaa6",
   "metadata": {},
   "outputs": [
    {
     "name": "stdout",
     "output_type": "stream",
     "text": [
      "pio \n",
      "'pio' is not a number.\n",
      "\n",
      "Blank values are not allowed.\n",
      "9\n"
     ]
    }
   ],
   "source": [
    "response_num = pyip.inputNum()"
   ]
  },
  {
   "cell_type": "code",
   "execution_count": 6,
   "id": "9cae4f53",
   "metadata": {},
   "outputs": [
    {
     "name": "stdout",
     "output_type": "stream",
     "text": [
      "Enter a number: 8\n",
      "Number must be at minimum 9.\n",
      "Enter a number: 3\n",
      "Number must be at minimum 9.\n",
      "Enter a number: 9\n"
     ]
    }
   ],
   "source": [
    "response_num = pyip.inputNum('Enter a number: ', min = 9)"
   ]
  },
  {
   "cell_type": "code",
   "execution_count": 7,
   "id": "b8eec9a9",
   "metadata": {},
   "outputs": [
    {
     "name": "stdout",
     "output_type": "stream",
     "text": [
      "Enter a number: 1\n",
      "Number must be greater than 2.\n",
      "Enter a number: 0\n",
      "Number must be greater than 2.\n",
      "Enter a number: 2\n",
      "Number must be greater than 2.\n",
      "Enter a number: 3\n"
     ]
    }
   ],
   "source": [
    "response_num = pyip.inputNum('Enter a number: ', greaterThan = 2)"
   ]
  },
  {
   "cell_type": "code",
   "execution_count": 9,
   "id": "6015dcb2",
   "metadata": {},
   "outputs": [
    {
     "name": "stdout",
     "output_type": "stream",
     "text": [
      "Enter a number: 3\n",
      "Number must be at minimum 9.\n",
      "Enter a number: 14\n",
      "Number must be less than 12.\n",
      "Enter a number: 10\n"
     ]
    }
   ],
   "source": [
    "response_num = pyip.inputNum('Enter a number: ', min=9, lessThan=12)"
   ]
  },
  {
   "cell_type": "markdown",
   "id": "ecc1c8bc",
   "metadata": {},
   "source": [
    "------------------------------------------------------------------------------------------------------------------------------------------------------------------------------------------------------------------------------------"
   ]
  },
  {
   "cell_type": "markdown",
   "id": "3cf90f18",
   "metadata": {},
   "source": [
    "### inputChoice() \n",
    "Ensures the user enters one of the provided choices"
   ]
  },
  {
   "cell_type": "code",
   "execution_count": 11,
   "id": "4d0b54e0",
   "metadata": {},
   "outputs": [
    {
     "name": "stdout",
     "output_type": "stream",
     "text": [
      "Please select one of: Penguin, Dog\n",
      "1\n",
      "'1' is not a valid choice.\n",
      "Please select one of: Penguin, Dog\n",
      "Pinguino\n",
      "'Pinguino' is not a valid choice.\n",
      "Please select one of: Penguin, Dog\n",
      "Dog\n"
     ]
    }
   ],
   "source": [
    " response_choice = pyip.inputChoice(['Penguin', 'Dog'])"
   ]
  },
  {
   "cell_type": "markdown",
   "id": "fa2f2946",
   "metadata": {},
   "source": [
    "------------------------------------------------------------------------------------------------------------------------------------------------------------------------------------------------------------------------------------"
   ]
  },
  {
   "cell_type": "markdown",
   "id": "cae921f8",
   "metadata": {},
   "source": [
    "### inputMenu() \n",
    "Is similar to inputChoice(), but provides a menu with numbered or lettered options"
   ]
  },
  {
   "cell_type": "code",
   "execution_count": 13,
   "id": "34dfdd14",
   "metadata": {},
   "outputs": [
    {
     "name": "stdout",
     "output_type": "stream",
     "text": [
      "Please select one of the following:\n",
      "* Penguin\n",
      "* Dog\n",
      "Penguin\n"
     ]
    }
   ],
   "source": [
    "response_choice = pyip.inputMenu(['Penguin', 'Dog'])"
   ]
  },
  {
   "cell_type": "code",
   "execution_count": 18,
   "id": "a3273643",
   "metadata": {},
   "outputs": [
    {
     "name": "stdout",
     "output_type": "stream",
     "text": [
      "Please select one of the following:\n",
      "A. Penguin\n",
      "B. Dog\n",
      "B\n"
     ]
    }
   ],
   "source": [
    "response_choice = pyip.inputMenu(['Penguin', 'Dog'], lettered = True)"
   ]
  },
  {
   "cell_type": "code",
   "execution_count": 20,
   "id": "13f62902",
   "metadata": {},
   "outputs": [
    {
     "name": "stdout",
     "output_type": "stream",
     "text": [
      "Please select one of the following:\n",
      "1. Penguin\n",
      "2. Dog\n",
      "1\n"
     ]
    }
   ],
   "source": [
    "response_choice = pyip.inputMenu(['Penguin', 'Dog'], numbered = True)"
   ]
  },
  {
   "cell_type": "code",
   "execution_count": 19,
   "id": "f8638f42",
   "metadata": {},
   "outputs": [
    {
     "name": "stdout",
     "output_type": "stream",
     "text": [
      "Please select one of the following:\n",
      "* Penguin\n",
      "* Dog\n",
      "penguin\n",
      "'penguin' is not a valid choice.\n",
      "Please select one of the following:\n",
      "* Penguin\n",
      "* Dog\n",
      "Penguin\n"
     ]
    }
   ],
   "source": [
    "response_choice = pyip.inputMenu(['Penguin', 'Dog'], caseSensitive = True)"
   ]
  },
  {
   "cell_type": "markdown",
   "id": "bf25d6e3",
   "metadata": {},
   "source": [
    "------------------------------------------------------------------------------------------------------------------------------------------------------------------------------------------------------------------------------------"
   ]
  },
  {
   "cell_type": "markdown",
   "id": "1919c524",
   "metadata": {},
   "source": [
    "## inputCustom()"
   ]
  },
  {
   "cell_type": "markdown",
   "id": "aeebee32",
   "metadata": {},
   "source": [
    "### Passing a Custom Validation Function \n",
    "You can write a function to perform your own custom validation logic by passing the function to inputCustom(). For example, say you want the user to enter a series of digits that adds up to 10. There is no pyinputplus.inputAddsUpToTen() function, but you can create your own function."
   ]
  },
  {
   "cell_type": "code",
   "execution_count": 35,
   "id": "f009bc2b",
   "metadata": {},
   "outputs": [
    {
     "name": "stdout",
     "output_type": "stream",
     "text": [
      "13\n",
      "The digits must add up to 10, not 4.\n",
      "55\n"
     ]
    },
    {
     "data": {
      "text/plain": [
       "'The digits add up to 10, :) '"
      ]
     },
     "execution_count": 35,
     "metadata": {},
     "output_type": "execute_result"
    }
   ],
   "source": [
    "def addsUpToTen(nums):\n",
    "    num_list = list(nums)\n",
    "    for i, digit in enumerate(num_list):\n",
    "        num_list[i] = int(digit)\n",
    "    if sum(num_list) != 10:\n",
    "        raise Exception('The digits must add up to 10, not %s.'%(sum(num_list)))\n",
    "    return int(nums)\n",
    "\n",
    "response_custom = pyip.inputCustom(addsUpToTen)\n",
    "\"The digits add up to 10, :) \""
   ]
  },
  {
   "cell_type": "code",
   "execution_count": null,
   "id": "e1324ded",
   "metadata": {},
   "outputs": [],
   "source": []
  },
  {
   "cell_type": "markdown",
   "id": "5757c3cc",
   "metadata": {},
   "source": [
    "------------------------------------------------------------------------------------------------------------------------------------------------------------------------------------------------------------------------------------"
   ]
  },
  {
   "cell_type": "code",
   "execution_count": null,
   "id": "65417a37",
   "metadata": {},
   "outputs": [],
   "source": []
  }
 ],
 "metadata": {
  "kernelspec": {
   "display_name": "Python 3",
   "language": "python",
   "name": "python3"
  },
  "language_info": {
   "codemirror_mode": {
    "name": "ipython",
    "version": 3
   },
   "file_extension": ".py",
   "mimetype": "text/x-python",
   "name": "python",
   "nbconvert_exporter": "python",
   "pygments_lexer": "ipython3",
   "version": "3.9.4"
  }
 },
 "nbformat": 4,
 "nbformat_minor": 5
}
