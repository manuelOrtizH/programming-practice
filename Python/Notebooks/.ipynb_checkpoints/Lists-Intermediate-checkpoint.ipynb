{
 "cells": [
  {
   "cell_type": "markdown",
   "id": "998eea2f",
   "metadata": {},
   "source": [
    "# Lists - Intermediate\n",
    "From Chapter 4 of 'Automate The Boring Stuff With Python by Al Sweigart"
   ]
  },
  {
   "cell_type": "markdown",
   "id": "cd299355",
   "metadata": {},
   "source": [
    "### The in and not in Operators\n",
    "You can determine whether a value is or isn’t in a list with the in and not in operators. Like other operators, in and not in are used in expressions and connect two values: a value to look for in a list and the list where it may be found. These expressions will evaluate to a Boolean value."
   ]
  },
  {
   "cell_type": "code",
   "execution_count": 13,
   "id": "4e744f89",
   "metadata": {},
   "outputs": [
    {
     "name": "stdout",
     "output_type": "stream",
     "text": [
      "Lucas es un nombre de gato\n",
      "Firulais no es un nombre de gato\n"
     ]
    }
   ],
   "source": [
    "def verify_names(cat_names):\n",
    "    if 'Lucas' in cat_names:\n",
    "       print('Lucas es un nombre de gato')\n",
    "    if 'Firulais' not in cat_names:\n",
    "       print('Firulais no es un nombre de gato')\n",
    "    else:\n",
    "        print('Firulais es un nombre de gato')\n",
    "    \n",
    "cat_names = ['Michi', 'Lucas']\n",
    "verify_names(cat_names)"
   ]
  },
  {
   "cell_type": "markdown",
   "id": "3784fe5d",
   "metadata": {},
   "source": [
    "---"
   ]
  },
  {
   "cell_type": "markdown",
   "id": "3f9edb56",
   "metadata": {},
   "source": [
    "### The Multiple Assignment Trick "
   ]
  },
  {
   "cell_type": "markdown",
   "id": "b8db9854",
   "metadata": {},
   "source": [
    "The number of variables and the length of the list must be exactly equal, or Python will give you a ValueError:"
   ]
  },
  {
   "cell_type": "code",
   "execution_count": 18,
   "id": "1369b6f7",
   "metadata": {},
   "outputs": [
    {
     "ename": "ValueError",
     "evalue": "too many values to unpack (expected 3)",
     "output_type": "error",
     "traceback": [
      "\u001b[0;31m---------------------------------------------------------------------------\u001b[0m",
      "\u001b[0;31mValueError\u001b[0m                                Traceback (most recent call last)",
      "\u001b[0;32m<ipython-input-18-02b912de92eb>\u001b[0m in \u001b[0;36m<module>\u001b[0;34m\u001b[0m\n\u001b[1;32m      1\u001b[0m \u001b[0mcat_names\u001b[0m \u001b[0;34m=\u001b[0m \u001b[0;34m[\u001b[0m\u001b[0;34m'Félix'\u001b[0m\u001b[0;34m,\u001b[0m \u001b[0;34m'Benito'\u001b[0m\u001b[0;34m,\u001b[0m \u001b[0;34m'Lucas'\u001b[0m\u001b[0;34m,\u001b[0m \u001b[0;34m'Michi'\u001b[0m\u001b[0;34m]\u001b[0m\u001b[0;34m\u001b[0m\u001b[0;34m\u001b[0m\u001b[0m\n\u001b[0;32m----> 2\u001b[0;31m \u001b[0mboring\u001b[0m\u001b[0;34m,\u001b[0m \u001b[0mcartoon\u001b[0m\u001b[0;34m,\u001b[0m \u001b[0mlove\u001b[0m\u001b[0;34m,\u001b[0m \u001b[0;34m=\u001b[0m \u001b[0mcat_names\u001b[0m\u001b[0;34m\u001b[0m\u001b[0;34m\u001b[0m\u001b[0m\n\u001b[0m",
      "\u001b[0;31mValueError\u001b[0m: too many values to unpack (expected 3)"
     ]
    }
   ],
   "source": [
    "cat_names = ['Félix', 'Benito', 'Lucas', 'Michi']\n",
    "boring, cartoon, love, = cat_names"
   ]
  },
  {
   "cell_type": "code",
   "execution_count": 22,
   "id": "6ab90265",
   "metadata": {},
   "outputs": [
    {
     "name": "stdout",
     "output_type": "stream",
     "text": [
      "Array:  ['Félix', 'Benito', 'Lucas', 'Michi']\n",
      "Félix\n",
      "Benito\n",
      "Lucas\n",
      "Michi\n"
     ]
    }
   ],
   "source": [
    "cat_names = ['Félix', 'Benito', 'Lucas', 'Michi']\n",
    "boring, cartoon, love, nickname = cat_names\n",
    "print(\"Array: \", cat_names)\n",
    "print(boring)\n",
    "print(cartoon)\n",
    "print(love)\n",
    "print(nickname)"
   ]
  },
  {
   "cell_type": "markdown",
   "id": "ff819ee8",
   "metadata": {},
   "source": [
    "---"
   ]
  },
  {
   "cell_type": "markdown",
   "id": "b8dd610c",
   "metadata": {},
   "source": [
    "### Using the enumerate() Function with Lists"
   ]
  },
  {
   "cell_type": "code",
   "execution_count": 24,
   "id": "d47f7f6b",
   "metadata": {},
   "outputs": [
    {
     "name": "stdout",
     "output_type": "stream",
     "text": [
      "0.- I drive my PT Cruiser car.\n",
      "1.- I drive my Fiat car.\n",
      "2.- I drive my Dodge car.\n",
      "3.- I drive my Nissan car.\n"
     ]
    }
   ],
   "source": [
    "cars = ['PT Cruiser', 'Fiat', 'Dodge', 'Nissan']\n",
    "for index, car in enumerate(cars):\n",
    "    print(str(index) + \".- I drive my \" + car + \" car.\" )"
   ]
  },
  {
   "cell_type": "markdown",
   "id": "2266099c",
   "metadata": {},
   "source": [
    "---"
   ]
  },
  {
   "cell_type": "markdown",
   "id": "4d0f73a8",
   "metadata": {},
   "source": [
    "### Mutable and Inmutable Data Types\n",
    "But lists and strings are different in an important way. A list value is a mutable data type: it can have values added, removed, or changed. However, a string is immutable: it cannot be changed. "
   ]
  },
  {
   "cell_type": "code",
   "execution_count": 28,
   "id": "306272ed",
   "metadata": {},
   "outputs": [
    {
     "name": "stdout",
     "output_type": "stream",
     "text": [
      "You can access to a single character, like the 3rd character:  a\n"
     ]
    },
    {
     "ename": "TypeError",
     "evalue": "'str' object does not support item assignment",
     "output_type": "error",
     "traceback": [
      "\u001b[0;31m---------------------------------------------------------------------------\u001b[0m",
      "\u001b[0;31mTypeError\u001b[0m                                 Traceback (most recent call last)",
      "\u001b[0;32m<ipython-input-28-63a6ff861405>\u001b[0m in \u001b[0;36m<module>\u001b[0;34m\u001b[0m\n\u001b[1;32m      1\u001b[0m \u001b[0mstring\u001b[0m \u001b[0;34m=\u001b[0m \u001b[0;34m'Starman'\u001b[0m\u001b[0;34m\u001b[0m\u001b[0;34m\u001b[0m\u001b[0m\n\u001b[1;32m      2\u001b[0m \u001b[0mprint\u001b[0m\u001b[0;34m(\u001b[0m\u001b[0;34m\"You can access to a single character, like the 3rd character: \"\u001b[0m\u001b[0;34m,\u001b[0m \u001b[0mstring\u001b[0m\u001b[0;34m[\u001b[0m\u001b[0;36m2\u001b[0m\u001b[0;34m]\u001b[0m\u001b[0;34m)\u001b[0m\u001b[0;34m\u001b[0m\u001b[0;34m\u001b[0m\u001b[0m\n\u001b[0;32m----> 3\u001b[0;31m \u001b[0mstring\u001b[0m\u001b[0;34m[\u001b[0m\u001b[0;34m-\u001b[0m\u001b[0;36m1\u001b[0m\u001b[0;34m]\u001b[0m \u001b[0;34m=\u001b[0m \u001b[0;34m's'\u001b[0m\u001b[0;34m\u001b[0m\u001b[0;34m\u001b[0m\u001b[0m\n\u001b[0m",
      "\u001b[0;31mTypeError\u001b[0m: 'str' object does not support item assignment"
     ]
    }
   ],
   "source": [
    "string = 'Starman'\n",
    "print(\"You can access to a single character, like the 3rd character: \", string[2])\n",
    "string[-1] = 's'"
   ]
  },
  {
   "cell_type": "markdown",
   "id": "fdac20e0",
   "metadata": {},
   "source": [
    "References are particularly important for understanding how arguments get passed to functions. When a function is called, the values of the arguments are copied to the parameter variables. For lists, and dictionaries, this means a copy of the reference is used for the parameter."
   ]
  },
  {
   "cell_type": "code",
   "execution_count": 29,
   "id": "f3052265",
   "metadata": {},
   "outputs": [
    {
     "name": "stdout",
     "output_type": "stream",
     "text": [
      "This is the initial list:  ['Penguin', 'Doggy', 'Chicken']\n"
     ]
    }
   ],
   "source": [
    "initial_list = ['Penguin', 'Doggy', 'Chicken']\n",
    "print(\"This is the initial list: \", initial_list)\n",
    "reference_to_initial_list = initial_list\n",
    "print(\"This is my reference created of my initial list: \", reference_to_initial_list)"
   ]
  }
 ],
 "metadata": {
  "kernelspec": {
   "display_name": "Python 3",
   "language": "python",
   "name": "python3"
  },
  "language_info": {
   "codemirror_mode": {
    "name": "ipython",
    "version": 3
   },
   "file_extension": ".py",
   "mimetype": "text/x-python",
   "name": "python",
   "nbconvert_exporter": "python",
   "pygments_lexer": "ipython3",
   "version": "3.9.4"
  }
 },
 "nbformat": 4,
 "nbformat_minor": 5
}
