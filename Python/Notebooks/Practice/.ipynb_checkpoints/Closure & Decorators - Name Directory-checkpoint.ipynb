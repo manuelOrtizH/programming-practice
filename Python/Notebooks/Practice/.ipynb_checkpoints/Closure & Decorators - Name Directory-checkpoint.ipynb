{
 "cells": [
  {
   "cell_type": "markdown",
   "id": "817f205c",
   "metadata": {},
   "source": [
    "Let's use decorators to build a name directory! You are given some information about **N** people. Each person has a first name, last name, age and sex. Print their names in a specific format sorted by their age in ascending order i.e. the youngest person's name should be printed first. For two people of the same age, print them in the order of their input.\n",
    "\n",
    "For Henry Davids, the output should be:\n",
    "\n",
    "    Mr. Henry Davids\n",
    "    \n",
    "For Mary George, the output should be:\n",
    "\n",
    "    Ms. Mary George\n"
   ]
  },
  {
   "cell_type": "code",
   "execution_count": 10,
   "id": "ea0f241a",
   "metadata": {},
   "outputs": [],
   "source": [
    "from operator import itemgetter"
   ]
  },
  {
   "cell_type": "code",
   "execution_count": 89,
   "id": "7a732407",
   "metadata": {},
   "outputs": [],
   "source": [
    "person_a = 'Mike Thomson 20 M'\n",
    "person_b = 'Robert Bustle 32 M'\n",
    "person_c = 'Andria Bustle 30 F'\n",
    "\n",
    "l = [person_a, person_b, person_c]\n"
   ]
  },
  {
   "cell_type": "code",
   "execution_count": 90,
   "id": "02fe4f5c",
   "metadata": {},
   "outputs": [],
   "source": [
    "def person_lister(fn):\n",
    "    def inner(people):\n",
    "        res = []\n",
    "        for sorted_person in sorted(people, key=lambda a: itemgetter(2)(a.split(' '))):\n",
    "            res.append(fn(sorted_person.split(' ')))\n",
    "        return res\n",
    "    return inner"
   ]
  },
  {
   "cell_type": "code",
   "execution_count": 91,
   "id": "4a296db8",
   "metadata": {},
   "outputs": [],
   "source": [
    "@person_lister\n",
    "def name_format(person):\n",
    "    return (\"Mr. \" if person[3] == \"M\" else \"Ms. \") + person[0] + \" \" + person[1]"
   ]
  },
  {
   "cell_type": "code",
   "execution_count": 92,
   "id": "839c214c",
   "metadata": {},
   "outputs": [
    {
     "name": "stdout",
     "output_type": "stream",
     "text": [
      "Mr. Kevin Michael\n",
      "Mr. Michael Michael\n",
      "Mr. Kevin Jake\n",
      "Mr. Michael Kevin\n",
      "Mr. Michael Jake\n",
      "Mr. Jake Jake\n",
      "Mr. Kevin Kevin\n",
      "Mr. Jake Kevin\n",
      "Mr. Micheal Micheal\n",
      "Mr. Jake Michael\n"
     ]
    }
   ],
   "source": [
    "print(*name_format(l), sep='\\n')"
   ]
  }
 ],
 "metadata": {
  "kernelspec": {
   "display_name": "Python 3",
   "language": "python",
   "name": "python3"
  },
  "language_info": {
   "codemirror_mode": {
    "name": "ipython",
    "version": 3
   },
   "file_extension": ".py",
   "mimetype": "text/x-python",
   "name": "python",
   "nbconvert_exporter": "python",
   "pygments_lexer": "ipython3",
   "version": "3.9.7"
  }
 },
 "nbformat": 4,
 "nbformat_minor": 5
}
