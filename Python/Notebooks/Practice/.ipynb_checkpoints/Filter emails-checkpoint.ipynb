{
 "cells": [
  {
   "cell_type": "markdown",
   "id": "0f24b93d",
   "metadata": {},
   "source": [
    "You are given an integer  followed by  email addresses. Your task is to print a list containing only valid email addresses in lexicographical order.\n",
    "\n",
    "\n",
    "Valid email addresses must follow these rules:\n",
    "\n",
    "- It must have the username@websitename.extension format type.\n",
    "- The username can only contain letters, digits, dashes and underscores [a - z], [A - Z], [0 - 9], [_ - ].\n",
    "- The website name can only have letters and digits [a - z], [A - Z], [0 - 9].\n",
    "- The extension can only contain letters [a - z], [A - Z].\n",
    "- The maximum length of the extension is 3."
   ]
  },
  {
   "cell_type": "code",
   "execution_count": 354,
   "id": "d2bd93bc",
   "metadata": {},
   "outputs": [],
   "source": [
    "import re"
   ]
  },
  {
   "cell_type": "code",
   "execution_count": 458,
   "id": "954f2c1b",
   "metadata": {},
   "outputs": [
    {
     "data": {
      "text/plain": [
       "['lara@hackerrank\\\\.com',\n",
       " 'brian-23@hackerrank.com',\n",
       " 'britts_54@hackerrank.com']"
      ]
     },
     "execution_count": 458,
     "metadata": {},
     "output_type": "execute_result"
    }
   ],
   "source": [
    "a = 'lara@hackerrank.com'\n",
    "b = 'brian-23@hackerrank.com'\n",
    "c = 'britts_54@hackerrank.com'\n",
    "\n",
    "emails = [a,b,c]\n",
    "emails"
   ]
  },
  {
   "cell_type": "code",
   "execution_count": 459,
   "id": "194ec7ab",
   "metadata": {},
   "outputs": [],
   "source": [
    "email = re.compile(r'\\b[a-zA-Z0-9_-]+@[a-zA-Z0-9]+\\.[a-zA-Z]{3}\\b')"
   ]
  },
  {
   "cell_type": "code",
   "execution_count": 460,
   "id": "8fdf44a7",
   "metadata": {},
   "outputs": [],
   "source": [
    "filtered_sorted_emails = sorted(list(filter(lambda e: email.match(e), emails)))"
   ]
  },
  {
   "cell_type": "code",
   "execution_count": 461,
   "id": "cc259f09",
   "metadata": {},
   "outputs": [
    {
     "data": {
      "text/plain": [
       "['brian-23@hackerrank.com', 'britts_54@hackerrank.com']"
      ]
     },
     "execution_count": 461,
     "metadata": {},
     "output_type": "execute_result"
    }
   ],
   "source": [
    "filtered_sorted_emails"
   ]
  },
  {
   "cell_type": "code",
   "execution_count": null,
   "id": "9a01c7df",
   "metadata": {},
   "outputs": [],
   "source": []
  },
  {
   "cell_type": "code",
   "execution_count": null,
   "id": "da1e864a",
   "metadata": {},
   "outputs": [],
   "source": []
  },
  {
   "cell_type": "code",
   "execution_count": null,
   "id": "0bb6fd88",
   "metadata": {},
   "outputs": [],
   "source": []
  },
  {
   "cell_type": "code",
   "execution_count": null,
   "id": "b4b2b7ba",
   "metadata": {},
   "outputs": [],
   "source": []
  },
  {
   "cell_type": "code",
   "execution_count": null,
   "id": "89fa2e14",
   "metadata": {},
   "outputs": [],
   "source": []
  },
  {
   "cell_type": "code",
   "execution_count": null,
   "id": "99377d39",
   "metadata": {},
   "outputs": [],
   "source": []
  }
 ],
 "metadata": {
  "kernelspec": {
   "display_name": "Python 3",
   "language": "python",
   "name": "python3"
  },
  "language_info": {
   "codemirror_mode": {
    "name": "ipython",
    "version": 3
   },
   "file_extension": ".py",
   "mimetype": "text/x-python",
   "name": "python",
   "nbconvert_exporter": "python",
   "pygments_lexer": "ipython3",
   "version": "3.9.7"
  }
 },
 "nbformat": 4,
 "nbformat_minor": 5
}
