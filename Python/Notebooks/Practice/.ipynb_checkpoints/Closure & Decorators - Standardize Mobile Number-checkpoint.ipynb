{
 "cells": [
  {
   "cell_type": "markdown",
   "id": "8cc6ccee",
   "metadata": {},
   "source": [
    "You are given **N** mobile numbers. Sort them in ascending order then print them in the standard format shown below:\n",
    "\n",
    "    +91 xxxxx xxxxx\n",
    "    \n",
    "The given mobile numbers may have +91, 91 or 0 written before the actual 10 digit number. Alternatively, there may not be any prefix at all."
   ]
  },
  {
   "cell_type": "markdown",
   "id": "7ef5ea2f",
   "metadata": {},
   "source": [
    "To solve the above question, make a list of the mobile numbers and pass it to a function that sorts the array in ascending order. Make a decorator that standardizes the mobile numbers and apply it to the function."
   ]
  },
  {
   "cell_type": "code",
   "execution_count": 467,
   "id": "e30422ec",
   "metadata": {},
   "outputs": [],
   "source": [
    "from functools import wraps"
   ]
  },
  {
   "cell_type": "code",
   "execution_count": 491,
   "id": "2082a807",
   "metadata": {},
   "outputs": [],
   "source": [
    "num_a = '07895462130'\n",
    "num_b = '919875641230'\n",
    "num_c = '9195969878'\n",
    "\n",
    "l = [num_a,num_b,num_c]"
   ]
  },
  {
   "cell_type": "code",
   "execution_count": 492,
   "id": "a0268a4e",
   "metadata": {},
   "outputs": [],
   "source": [
    "def wrapper(fn):\n",
    "    len_num = 10\n",
    "    def fun(l):\n",
    "        for i in range(len(l)):\n",
    "            after_pref = len(l[i]) - len(l[i][:-(len_num+1):-1])\n",
    "            l[i] = '+91 ' + ' '.join([l[i][j:j+5] for j in range(after_pref, len(l[i]) + 1, 5)])\n",
    "        return fn(l)\n",
    "    return fun"
   ]
  },
  {
   "cell_type": "code",
   "execution_count": 493,
   "id": "a47770fb",
   "metadata": {},
   "outputs": [],
   "source": [
    "@wrapper\n",
    "def sort_phone(l):\n",
    "    print(*sorted(l), sep='\\n')"
   ]
  },
  {
   "cell_type": "code",
   "execution_count": 494,
   "id": "188a7672",
   "metadata": {},
   "outputs": [
    {
     "name": "stdout",
     "output_type": "stream",
     "text": [
      "+91 78954 62130 \n",
      "+91 91959 69878 \n",
      "+91 98756 41230 \n"
     ]
    }
   ],
   "source": [
    "sort_phone(l)"
   ]
  },
  {
   "cell_type": "code",
   "execution_count": 481,
   "id": "3e59a5d8",
   "metadata": {},
   "outputs": [
    {
     "data": {
      "text/plain": [
       "5"
      ]
     },
     "execution_count": 481,
     "metadata": {},
     "output_type": "execute_result"
    }
   ],
   "source": []
  },
  {
   "cell_type": "code",
   "execution_count": 435,
   "id": "785f5252",
   "metadata": {},
   "outputs": [],
   "source": []
  },
  {
   "cell_type": "code",
   "execution_count": null,
   "id": "f51c5ba7",
   "metadata": {},
   "outputs": [],
   "source": []
  },
  {
   "cell_type": "code",
   "execution_count": null,
   "id": "6a786976",
   "metadata": {},
   "outputs": [],
   "source": []
  },
  {
   "cell_type": "code",
   "execution_count": null,
   "id": "6dc01af8",
   "metadata": {},
   "outputs": [],
   "source": []
  }
 ],
 "metadata": {
  "kernelspec": {
   "display_name": "Python 3",
   "language": "python",
   "name": "python3"
  },
  "language_info": {
   "codemirror_mode": {
    "name": "ipython",
    "version": 3
   },
   "file_extension": ".py",
   "mimetype": "text/x-python",
   "name": "python",
   "nbconvert_exporter": "python",
   "pygments_lexer": "ipython3",
   "version": "3.9.7"
  }
 },
 "nbformat": 4,
 "nbformat_minor": 5
}
