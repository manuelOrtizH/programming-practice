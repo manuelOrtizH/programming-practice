{
 "cells": [
  {
   "cell_type": "markdown",
   "id": "bf2a792e",
   "metadata": {},
   "source": [
    "You are given a space separated list of integers. If all the integers are positive, then you need to check if any integer is a palindromic integer."
   ]
  },
  {
   "cell_type": "code",
   "execution_count": 44,
   "id": "f7dfb44d",
   "metadata": {},
   "outputs": [],
   "source": [
    "n = 5\n",
    "l = [12,9,61,5,14]"
   ]
  },
  {
   "cell_type": "code",
   "execution_count": 48,
   "id": "925cc4f2",
   "metadata": {},
   "outputs": [
    {
     "name": "stdout",
     "output_type": "stream",
     "text": [
      "12\n",
      "9\n",
      "61\n",
      "5\n",
      "14\n"
     ]
    }
   ],
   "source": [
    "for each in l:\n",
    "    str_num = str(each)\n",
    "    if str_num[::-1] == each:\n",
    "        print('the same')"
   ]
  },
  {
   "cell_type": "code",
   "execution_count": 46,
   "id": "78941fb1",
   "metadata": {},
   "outputs": [
    {
     "data": {
      "text/plain": [
       "True"
      ]
     },
     "execution_count": 46,
     "metadata": {},
     "output_type": "execute_result"
    }
   ],
   "source": [
    "all(l)"
   ]
  },
  {
   "cell_type": "code",
   "execution_count": 47,
   "id": "e09bdefe",
   "metadata": {},
   "outputs": [
    {
     "data": {
      "text/plain": [
       "[False, False, False, False, False]"
      ]
     },
     "execution_count": 47,
     "metadata": {},
     "output_type": "execute_result"
    }
   ],
   "source": [
    "list(map(lambda el: str(el)[::-1] == el and False, l))"
   ]
  },
  {
   "cell_type": "code",
   "execution_count": null,
   "id": "82bea8f0",
   "metadata": {},
   "outputs": [],
   "source": []
  },
  {
   "cell_type": "code",
   "execution_count": null,
   "id": "285ca4ab",
   "metadata": {},
   "outputs": [],
   "source": []
  },
  {
   "cell_type": "code",
   "execution_count": null,
   "id": "6983a9c3",
   "metadata": {},
   "outputs": [],
   "source": []
  }
 ],
 "metadata": {
  "kernelspec": {
   "display_name": "Python 3",
   "language": "python",
   "name": "python3"
  },
  "language_info": {
   "codemirror_mode": {
    "name": "ipython",
    "version": 3
   },
   "file_extension": ".py",
   "mimetype": "text/x-python",
   "name": "python",
   "nbconvert_exporter": "python",
   "pygments_lexer": "ipython3",
   "version": "3.9.7"
  }
 },
 "nbformat": 4,
 "nbformat_minor": 5
}
