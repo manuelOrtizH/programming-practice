{
 "cells": [
  {
   "cell_type": "markdown",
   "id": "99738a95",
   "metadata": {},
   "source": [
    "Let's learn some new Python concepts! You have to generate a list of the first N fibonacci numbers, 0 being the first number. Then, apply the map function and a lambda expression to cube each fibonacci number and print the list."
   ]
  },
  {
   "cell_type": "code",
   "execution_count": 230,
   "id": "aaba2a86",
   "metadata": {},
   "outputs": [],
   "source": [
    "# Case Base\n",
    "# {0:0,1:1}"
   ]
  },
  {
   "cell_type": "code",
   "execution_count": 247,
   "id": "5911d34a",
   "metadata": {},
   "outputs": [],
   "source": [
    "#Dictionary-Rec\n",
    "def fibo(n, dic_fibo = {0:0, 1:1, 2:1}):\n",
    "    print(dic_fibo)\n",
    "    if n not in dic_fibo.keys():  \n",
    "        dic_fibo[n] = fibo(n-1, dic_fibo) + fibo(n-2, dic_fibo)\n",
    "    return dic_fibo[n]\n"
   ]
  },
  {
   "cell_type": "code",
   "execution_count": 397,
   "id": "a1cb9b67",
   "metadata": {},
   "outputs": [],
   "source": [
    "def fibo_memo(n, table=[0,1,1]):\n",
    "    if n == 0:\n",
    "        return []\n",
    "    elif n>0 and n<3:\n",
    "        return table[:n]\n",
    "    else:  \n",
    "        for i in range(len(table),n):\n",
    "            table.append(((table[i-1] ) +( table[i-2])))\n",
    "\n",
    "    return table"
   ]
  },
  {
   "cell_type": "code",
   "execution_count": 399,
   "id": "b597c2ed",
   "metadata": {},
   "outputs": [
    {
     "data": {
      "text/plain": [
       "[0]"
      ]
     },
     "execution_count": 399,
     "metadata": {},
     "output_type": "execute_result"
    }
   ],
   "source": [
    "fibo_memo(1)"
   ]
  },
  {
   "cell_type": "code",
   "execution_count": null,
   "id": "f902c8e5",
   "metadata": {},
   "outputs": [],
   "source": []
  },
  {
   "cell_type": "code",
   "execution_count": null,
   "id": "8f0c921f",
   "metadata": {},
   "outputs": [],
   "source": []
  },
  {
   "cell_type": "code",
   "execution_count": null,
   "id": "ac30ead5",
   "metadata": {},
   "outputs": [],
   "source": []
  },
  {
   "cell_type": "code",
   "execution_count": null,
   "id": "7ce707bc",
   "metadata": {},
   "outputs": [],
   "source": []
  }
 ],
 "metadata": {
  "kernelspec": {
   "display_name": "Python 3",
   "language": "python",
   "name": "python3"
  },
  "language_info": {
   "codemirror_mode": {
    "name": "ipython",
    "version": 3
   },
   "file_extension": ".py",
   "mimetype": "text/x-python",
   "name": "python",
   "nbconvert_exporter": "python",
   "pygments_lexer": "ipython3",
   "version": "3.9.7"
  }
 },
 "nbformat": 4,
 "nbformat_minor": 5
}
