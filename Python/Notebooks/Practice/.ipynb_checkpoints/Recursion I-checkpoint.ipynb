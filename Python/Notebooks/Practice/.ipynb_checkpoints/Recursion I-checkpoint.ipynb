{
 "cells": [
  {
   "cell_type": "markdown",
   "id": "04dd4975",
   "metadata": {},
   "source": [
    "----\n",
    "### 1.\n",
    "#### The function my-count returns the number of elements contained in its input list. Do not use the predefined count function. "
   ]
  },
  {
   "cell_type": "code",
   "execution_count": 33,
   "id": "4d26ae09",
   "metadata": {},
   "outputs": [],
   "source": [
    "def my_count(fn,l, c=0):\n",
    "    counter = c\n",
    "    for e in l:\n",
    "        counter = fn(counter)\n",
    "    return counter"
   ]
  },
  {
   "cell_type": "code",
   "execution_count": 34,
   "id": "20e5d871",
   "metadata": {},
   "outputs": [
    {
     "data": {
      "text/plain": [
       "5"
      ]
     },
     "execution_count": 34,
     "metadata": {},
     "output_type": "execute_result"
    }
   ],
   "source": [
    "_counter = lambda c: c+1\n",
    "my_count(_counter,[1,2,3,4,5])"
   ]
  },
  {
   "cell_type": "code",
   "execution_count": 3,
   "id": "24f8b6ce",
   "metadata": {},
   "outputs": [],
   "source": [
    "def my_count(my_list):\n",
    "    if not my_list:\n",
    "        return 0\n",
    "\n",
    "    return 1 + my_count(my_list[1:]) "
   ]
  },
  {
   "cell_type": "code",
   "execution_count": 4,
   "id": "e42e21aa",
   "metadata": {},
   "outputs": [
    {
     "data": {
      "text/plain": [
       "11"
      ]
     },
     "execution_count": 4,
     "metadata": {},
     "output_type": "execute_result"
    }
   ],
   "source": [
    "my_count([1,2,3,4,5,6,7,8,9,10,'z'])"
   ]
  },
  {
   "cell_type": "markdown",
   "id": "02ec2fb5",
   "metadata": {},
   "source": [
    "----\n",
    "### 2.\n",
    "####  The function add-list returns the sum of all the elements of its input list, or 0 if its empty. Assume that all the elements in the input list are numbers"
   ]
  },
  {
   "cell_type": "code",
   "execution_count": 23,
   "id": "de91b457",
   "metadata": {},
   "outputs": [],
   "source": [
    "def add_list(fn, l):\n",
    "    result = l[0]\n",
    "    for e in l[1:]:\n",
    "        result = fn(result, e)\n",
    "    return result"
   ]
  },
  {
   "cell_type": "code",
   "execution_count": 24,
   "id": "84fe7fc6",
   "metadata": {},
   "outputs": [
    {
     "data": {
      "text/plain": [
       "15"
      ]
     },
     "execution_count": 24,
     "metadata": {},
     "output_type": "execute_result"
    }
   ],
   "source": [
    "_reduce = lambda a,b: a+b\n",
    "add_list(_reduce,[1,2,3,4,5])"
   ]
  },
  {
   "cell_type": "code",
   "execution_count": 5,
   "id": "f6b845fc",
   "metadata": {},
   "outputs": [],
   "source": [
    "def add_list(l):\n",
    "    if not l:\n",
    "        return 0\n",
    "    return l[0] + add_list(l[1:])"
   ]
  },
  {
   "cell_type": "code",
   "execution_count": 6,
   "id": "f7eb5f04",
   "metadata": {},
   "outputs": [
    {
     "data": {
      "text/plain": [
       "20"
      ]
     },
     "execution_count": 6,
     "metadata": {},
     "output_type": "execute_result"
    }
   ],
   "source": [
    "add_list([5,5,5,5])"
   ]
  },
  {
   "cell_type": "markdown",
   "id": "469265c5",
   "metadata": {},
   "source": [
    "-----\n",
    "### 3.\n",
    "#### The function ****member?**** takes two arguments, any data x and a list lst. Returns true if x is contained inside the list lst, false otherwise. "
   ]
  },
  {
   "cell_type": "code",
   "execution_count": 53,
   "id": "b57ad09b",
   "metadata": {},
   "outputs": [],
   "source": [
    "def is_member(fn,x,l):\n",
    "    is_contain = False\n",
    "    for e in l:\n",
    "        is_contain = fn(e,x)\n",
    "        if is_contain:\n",
    "            return is_contain\n",
    "    return is_contain"
   ]
  },
  {
   "cell_type": "code",
   "execution_count": 55,
   "id": "53408e5b",
   "metadata": {},
   "outputs": [
    {
     "data": {
      "text/plain": [
       "False"
      ]
     },
     "execution_count": 55,
     "metadata": {},
     "output_type": "execute_result"
    }
   ],
   "source": [
    "_member = lambda e,x: e == x\n",
    "is_member(_member, 'a', ['d', 'g', 'h'])"
   ]
  },
  {
   "cell_type": "code",
   "execution_count": 7,
   "id": "0930f238",
   "metadata": {},
   "outputs": [],
   "source": [
    "def is_member(x,l):\n",
    "    if not l:\n",
    "        return False\n",
    "    if x == l[0]:\n",
    "        return True\n",
    "    return is_member(x,l[1:])"
   ]
  },
  {
   "cell_type": "code",
   "execution_count": 20,
   "id": "3bb1bc37",
   "metadata": {},
   "outputs": [
    {
     "data": {
      "text/plain": [
       "False"
      ]
     },
     "execution_count": 20,
     "metadata": {},
     "output_type": "execute_result"
    }
   ],
   "source": [
    "is_member('a', ['b'])"
   ]
  },
  {
   "cell_type": "markdown",
   "id": "628b8942",
   "metadata": {},
   "source": [
    "----\n",
    "### 4.\n",
    "####  The function list-of-symbols? takes a list lst as its argument. It returns true if all the elements (possibly zero) contained in lst are symbols, or false otherwise."
   ]
  },
  {
   "cell_type": "code",
   "execution_count": 15,
   "id": "2ed88e76",
   "metadata": {},
   "outputs": [],
   "source": [
    "import string"
   ]
  },
  {
   "cell_type": "code",
   "execution_count": 21,
   "id": "31e0306c",
   "metadata": {},
   "outputs": [
    {
     "name": "stdout",
     "output_type": "stream",
     "text": [
      "Help on module string:\n",
      "\n",
      "NAME\n",
      "    string - A collection of string constants.\n",
      "\n",
      "DESCRIPTION\n",
      "    Public module variables:\n",
      "    \n",
      "    whitespace -- a string containing all ASCII whitespace\n",
      "    ascii_lowercase -- a string containing all ASCII lowercase letters\n",
      "    ascii_uppercase -- a string containing all ASCII uppercase letters\n",
      "    ascii_letters -- a string containing all ASCII letters\n",
      "    digits -- a string containing all ASCII decimal digits\n",
      "    hexdigits -- a string containing all ASCII hexadecimal digits\n",
      "    octdigits -- a string containing all ASCII octal digits\n",
      "    punctuation -- a string containing all ASCII punctuation characters\n",
      "    printable -- a string containing all ASCII characters considered printable\n",
      "\n",
      "CLASSES\n",
      "    builtins.object\n",
      "        Formatter\n",
      "        Template\n",
      "    \n",
      "    class Formatter(builtins.object)\n",
      "     |  Methods defined here:\n",
      "     |  \n",
      "     |  check_unused_args(self, used_args, args, kwargs)\n",
      "     |  \n",
      "     |  convert_field(self, value, conversion)\n",
      "     |  \n",
      "     |  format(self, format_string, /, *args, **kwargs)\n",
      "     |  \n",
      "     |  format_field(self, value, format_spec)\n",
      "     |  \n",
      "     |  get_field(self, field_name, args, kwargs)\n",
      "     |      # given a field_name, find the object it references.\n",
      "     |      #  field_name:   the field being looked up, e.g. \"0.name\"\n",
      "     |      #                 or \"lookup[3]\"\n",
      "     |      #  used_args:    a set of which args have been used\n",
      "     |      #  args, kwargs: as passed in to vformat\n",
      "     |  \n",
      "     |  get_value(self, key, args, kwargs)\n",
      "     |  \n",
      "     |  parse(self, format_string)\n",
      "     |      # returns an iterable that contains tuples of the form:\n",
      "     |      # (literal_text, field_name, format_spec, conversion)\n",
      "     |      # literal_text can be zero length\n",
      "     |      # field_name can be None, in which case there's no\n",
      "     |      #  object to format and output\n",
      "     |      # if field_name is not None, it is looked up, formatted\n",
      "     |      #  with format_spec and conversion and then used\n",
      "     |  \n",
      "     |  vformat(self, format_string, args, kwargs)\n",
      "     |  \n",
      "     |  ----------------------------------------------------------------------\n",
      "     |  Data descriptors defined here:\n",
      "     |  \n",
      "     |  __dict__\n",
      "     |      dictionary for instance variables (if defined)\n",
      "     |  \n",
      "     |  __weakref__\n",
      "     |      list of weak references to the object (if defined)\n",
      "    \n",
      "    class Template(builtins.object)\n",
      "     |  Template(template)\n",
      "     |  \n",
      "     |  A string class for supporting $-substitutions.\n",
      "     |  \n",
      "     |  Methods defined here:\n",
      "     |  \n",
      "     |  __init__(self, template)\n",
      "     |      Initialize self.  See help(type(self)) for accurate signature.\n",
      "     |  \n",
      "     |  safe_substitute(self, mapping={}, /, **kws)\n",
      "     |  \n",
      "     |  substitute(self, mapping={}, /, **kws)\n",
      "     |  \n",
      "     |  ----------------------------------------------------------------------\n",
      "     |  Class methods defined here:\n",
      "     |  \n",
      "     |  __init_subclass__() from builtins.type\n",
      "     |      This method is called when a class is subclassed.\n",
      "     |      \n",
      "     |      The default implementation does nothing. It may be\n",
      "     |      overridden to extend subclasses.\n",
      "     |  \n",
      "     |  ----------------------------------------------------------------------\n",
      "     |  Data descriptors defined here:\n",
      "     |  \n",
      "     |  __dict__\n",
      "     |      dictionary for instance variables (if defined)\n",
      "     |  \n",
      "     |  __weakref__\n",
      "     |      list of weak references to the object (if defined)\n",
      "     |  \n",
      "     |  ----------------------------------------------------------------------\n",
      "     |  Data and other attributes defined here:\n",
      "     |  \n",
      "     |  braceidpattern = None\n",
      "     |  \n",
      "     |  delimiter = '$'\n",
      "     |  \n",
      "     |  flags = re.IGNORECASE\n",
      "     |  \n",
      "     |  idpattern = '(?a:[_a-z][_a-z0-9]*)'\n",
      "     |  \n",
      "     |  pattern = re.compile('\\n            \\\\$(?:\\n              ...identifie...\n",
      "\n",
      "FUNCTIONS\n",
      "    capwords(s, sep=None)\n",
      "        capwords(s [,sep]) -> string\n",
      "        \n",
      "        Split the argument into words using split, capitalize each\n",
      "        word using capitalize, and join the capitalized words using\n",
      "        join.  If the optional second argument sep is absent or None,\n",
      "        runs of whitespace characters are replaced by a single space\n",
      "        and leading and trailing whitespace are removed, otherwise\n",
      "        sep is used to split and join the words.\n",
      "\n",
      "DATA\n",
      "    __all__ = ['ascii_letters', 'ascii_lowercase', 'ascii_uppercase', 'cap...\n",
      "    ascii_letters = 'abcdefghijklmnopqrstuvwxyzABCDEFGHIJKLMNOPQRSTUVWXYZ'\n",
      "    ascii_lowercase = 'abcdefghijklmnopqrstuvwxyz'\n",
      "    ascii_uppercase = 'ABCDEFGHIJKLMNOPQRSTUVWXYZ'\n",
      "    digits = '0123456789'\n",
      "    hexdigits = '0123456789abcdefABCDEF'\n",
      "    octdigits = '01234567'\n",
      "    printable = '0123456789abcdefghijklmnopqrstuvwxyzABCDEFGHIJKLMNOPQRSTU...\n",
      "    punctuation = '!\"#$%&\\'()*+,-./:;<=>?@[\\\\]^_`{|}~'\n",
      "    whitespace = ' \\t\\n\\r\\x0b\\x0c'\n",
      "\n",
      "FILE\n",
      "    /usr/local/Cellar/python@3.9/3.9.7/Frameworks/Python.framework/Versions/3.9/lib/python3.9/string.py\n",
      "\n",
      "\n"
     ]
    }
   ],
   "source": [
    "help(string)"
   ]
  },
  {
   "cell_type": "code",
   "execution_count": 34,
   "id": "2f5fc1a1",
   "metadata": {},
   "outputs": [],
   "source": [
    "def list_symbols(fn,l):\n",
    "    is_letter = False\n",
    "    for e in l:\n",
    "        is_letter = fn(e)\n",
    "    return is_letter"
   ]
  },
  {
   "cell_type": "code",
   "execution_count": 35,
   "id": "5d18c0c8",
   "metadata": {},
   "outputs": [
    {
     "data": {
      "text/plain": [
       "False"
      ]
     },
     "execution_count": 35,
     "metadata": {},
     "output_type": "execute_result"
    }
   ],
   "source": [
    "_symbols = lambda e: False if e is int else e in [string.ascii_letters]\n",
    "list_symbols(_symbols,['a', 'B', 2, 'z'])"
   ]
  },
  {
   "cell_type": "code",
   "execution_count": 42,
   "id": "ecb29821",
   "metadata": {},
   "outputs": [],
   "source": [
    "def list_symbols(l, is_symbol=False):\n",
    "    if not l:\n",
    "        return is_symbol\n",
    "    print(l[0])\n",
    "    \n",
    "    if l[0] in string.ascii_letters:\n",
    "        is_symbol = True\n",
    "    else:\n",
    "        is_symbol = False\n",
    "        return is_symbol\n",
    "    \n",
    "    return list_symbols(l[1:], is_symbol)\n",
    "    "
   ]
  },
  {
   "cell_type": "code",
   "execution_count": 43,
   "id": "505489ce",
   "metadata": {},
   "outputs": [
    {
     "name": "stdout",
     "output_type": "stream",
     "text": [
      "a\n",
      "in ascii\n"
     ]
    },
    {
     "data": {
      "text/plain": [
       "True"
      ]
     },
     "execution_count": 43,
     "metadata": {},
     "output_type": "execute_result"
    }
   ],
   "source": [
    "list_symbols(['a'])"
   ]
  },
  {
   "cell_type": "code",
   "execution_count": 36,
   "id": "a436a873",
   "metadata": {},
   "outputs": [
    {
     "data": {
      "text/plain": [
       "True"
      ]
     },
     "execution_count": 36,
     "metadata": {},
     "output_type": "execute_result"
    }
   ],
   "source": [
    "'a' in string.ascii_letters"
   ]
  },
  {
   "cell_type": "code",
   "execution_count": null,
   "id": "a97f81c5",
   "metadata": {},
   "outputs": [],
   "source": []
  }
 ],
 "metadata": {
  "kernelspec": {
   "display_name": "Python 3",
   "language": "python",
   "name": "python3"
  },
  "language_info": {
   "codemirror_mode": {
    "name": "ipython",
    "version": 3
   },
   "file_extension": ".py",
   "mimetype": "text/x-python",
   "name": "python",
   "nbconvert_exporter": "python",
   "pygments_lexer": "ipython3",
   "version": "3.9.7"
  }
 },
 "nbformat": 4,
 "nbformat_minor": 5
}
