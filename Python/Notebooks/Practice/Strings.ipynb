{
 "cells": [
  {
   "cell_type": "code",
   "execution_count": 44,
   "metadata": {},
   "outputs": [
    {
     "name": "stdout",
     "output_type": "stream",
     "text": [
      "['hello', 'world']\n"
     ]
    },
    {
     "data": {
      "text/plain": [
       "'world hello'"
      ]
     },
     "execution_count": 44,
     "metadata": {},
     "output_type": "execute_result"
    }
   ],
   "source": [
    "s = 'hello world'\n",
    "\n",
    "stack = []\n",
    "i = 0\n",
    "word = ''\n",
    "while i < len(s):\n",
    "    \n",
    "    if s[i]==' ':\n",
    "        if word:\n",
    "            stack.append(word)\n",
    "            word = ''\n",
    "    else:\n",
    "        word+=s[i]\n",
    "    i+=1\n",
    "\n",
    "stack.append(word)\n",
    "\n",
    "\n",
    "res = ' '.join(stack[-1::-1])\n",
    "res"
   ]
  },
  {
   "cell_type": "markdown",
   "metadata": {},
   "source": [
    "### Summary Ranges"
   ]
  },
  {
   "cell_type": "code",
   "execution_count": 86,
   "metadata": {},
   "outputs": [
    {
     "data": {
      "text/plain": [
       "['0->2', '4->5', '7']"
      ]
     },
     "execution_count": 86,
     "metadata": {},
     "output_type": "execute_result"
    }
   ],
   "source": [
    "from operator import sub\n",
    "\n",
    "def check_range(initial_range,final_range, res):\n",
    "    if final_range > initial_range:\n",
    "        res.append(str(initial_range) + '->' + str(final_range))\n",
    "    else:\n",
    "        res.append(str(initial_range))\n",
    "\n",
    "def summaryRanges(nums):\n",
    "    initial_range = 0\n",
    "    final_range = 0\n",
    "    if nums:\n",
    "        final_range = initial_range = nums[0]\n",
    "    else: return nums\n",
    "    res = [] \n",
    "    \n",
    "    for i in range(1, len(nums)):\n",
    "        if (nums[i] - nums[i-1]) == 1:\n",
    "            final_range = nums[i]\n",
    "        else:\n",
    "            check_range(initial_range, final_range, res)\n",
    "            initial_range = final_range = nums[i]\n",
    "    #Last elements of range\n",
    "    check_range(initial_range, final_range, res)\n",
    "    \n",
    "    return res\n",
    "\n",
    "numsA = [0,1,2,4,5,7]\n",
    "numsB = [0,2,3,4,6,8,9]\n",
    "summaryRanges(numsA)"
   ]
  },
  {
   "cell_type": "code",
   "execution_count": 13,
   "metadata": {},
   "outputs": [
    {
     "data": {
      "text/plain": [
       "'acccacccaccc'"
      ]
     },
     "execution_count": 13,
     "metadata": {},
     "output_type": "execute_result"
    }
   ],
   "source": [
    "def decodeString(s):\n",
    "    def dfs(s,times,index):\n",
    " \n",
    "        if not s:\n",
    "            return s\n",
    "\n",
    "        newString = \"\"\n",
    "        t = ''\n",
    "        i = index\n",
    "        while i<len(s):\n",
    "            if s[i].isnumeric():\n",
    "                t+=s[i]\n",
    "            elif s[i] == ']':\n",
    "                newString += times * newString\n",
    "                return newString, i\n",
    "            elif s[i] == '[':\n",
    "                times = int(t)\n",
    "                to_concat, index = dfs(s, times, i+1)\n",
    "                newString+=to_concat\n",
    "                i = index\n",
    "                t = ''\n",
    "            else:\n",
    "                newString+=s[i]\n",
    "            i+=1\n",
    "        return newString,i\n",
    "    return dfs(s,1,0)[0]\n",
    "\n",
    "s1 = \"3[a2[c]]\"\n",
    "s2 = \"2[abc]3[cd]ef\"\n",
    "decodeString(s2)"
   ]
  },
  {
   "cell_type": "code",
   "execution_count": null,
   "metadata": {},
   "outputs": [],
   "source": []
  }
 ],
 "metadata": {
  "kernelspec": {
   "display_name": "Python 3.10.5 64-bit",
   "language": "python",
   "name": "python3"
  },
  "language_info": {
   "codemirror_mode": {
    "name": "ipython",
    "version": 3
   },
   "file_extension": ".py",
   "mimetype": "text/x-python",
   "name": "python",
   "nbconvert_exporter": "python",
   "pygments_lexer": "ipython3",
   "version": "3.10.5"
  },
  "orig_nbformat": 4,
  "vscode": {
   "interpreter": {
    "hash": "aee8b7b246df8f9039afb4144a1f6fd8d2ca17a180786b69acc140d282b71a49"
   }
  }
 },
 "nbformat": 4,
 "nbformat_minor": 2
}
