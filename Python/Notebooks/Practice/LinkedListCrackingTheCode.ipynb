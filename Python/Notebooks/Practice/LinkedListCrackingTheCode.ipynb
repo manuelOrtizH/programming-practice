{
 "cells": [
  {
   "cell_type": "markdown",
   "metadata": {},
   "source": [
    "#"
   ]
  },
  {
   "cell_type": "markdown",
   "metadata": {},
   "source": [
    "# Linked Lists Problems from Cracking the Coding Interview"
   ]
  },
  {
   "cell_type": "code",
   "execution_count": 1,
   "metadata": {},
   "outputs": [],
   "source": [
    "class Node:\n",
    "    def __init__(self, data=0):\n",
    "        self.data = data\n",
    "        self.next = None\n",
    "    \n",
    "    def display(self):\n",
    "        nodes_data = []\n",
    "        while self:\n",
    "            nodes_data.append(self.data)\n",
    "            self = self.next\n",
    "        print(nodes_data)\n",
    "    \n",
    "    def append(self, *args): \n",
    "        for arg in args: \n",
    "            while self.next:\n",
    "                self = self.next\n",
    "            self.next = Node(arg)\n",
    "\n",
    "    def pop(self):\n",
    "        prev = None\n",
    "        while self.next:\n",
    "            self, prev = self.next, self\n",
    "        prev.next = None\n",
    "\n",
    "    def length(self):\n",
    "        i = 1\n",
    "        while self.next:\n",
    "            i+=1\n",
    "            self = self.next\n",
    "        return i\n",
    "\n"
   ]
  },
  {
   "cell_type": "markdown",
   "metadata": {},
   "source": [
    "-----\n",
    "### Return Kth to Last: \n",
    "Implement an algorithm to find the kth to last element of a singly linked list.\n",
    "\n",
    "Hints: #8, #25, #47, #67, # 726 "
   ]
  },
  {
   "cell_type": "code",
   "execution_count": 20,
   "metadata": {},
   "outputs": [
    {
     "name": "stdout",
     "output_type": "stream",
     "text": [
      "[1, 2, 3, 4, 5, 6, 7, 8, 9, 10]\n",
      "[2, 3, 4, 5, 6, 7, 8, 9, 10]\n"
     ]
    }
   ],
   "source": [
    "def from_k_to_last(head, k):\n",
    "    if k>head.length():\n",
    "        return None\n",
    "    actual = head\n",
    "    new_head = None\n",
    "    i = 0\n",
    "    while i<k-1: actual, i = actual.next, i+1\n",
    "    new_head = actual\n",
    "    return new_head\n",
    "    \n",
    "llist = head = Node(1)\n",
    "llist.append(2,3,4,5,6,7,8,9,10)\n",
    "\n",
    "llist.display()\n",
    "result = from_k_to_last(head, 2)\n",
    "\n",
    "if result:\n",
    "    result.display()\n",
    "else:\n",
    "    print('The K is greater than the total length of the LL')"
   ]
  },
  {
   "cell_type": "code",
   "execution_count": 31,
   "metadata": {},
   "outputs": [
    {
     "name": "stdout",
     "output_type": "stream",
     "text": [
      "[4, 5, 6, 7, 8, 9, 10]\n"
     ]
    }
   ],
   "source": [
    "def rec_from_k_to_last(head,k):\n",
    "    if k==1:\n",
    "        return head\n",
    "    head = rec_from_k_to_last(head.next, k-1)\n",
    "    return head\n",
    "\n",
    "llist = head = Node(1)\n",
    "llist.append(2,3,4,5,6,7,8,9,10)\n",
    "\n",
    "result = rec_from_k_to_last(head, 4)\n",
    "\n",
    "if result:\n",
    "    result.display()\n",
    "else:\n",
    "    print('The K is greater than the total length of the LL')"
   ]
  },
  {
   "cell_type": "markdown",
   "metadata": {},
   "source": [
    "-------\n",
    "### Delete Middle Node\n",
    " Implement an algorithm to delete a node in the middle (i.e., any node but\n",
    "the first and last node, not necessarily the exact middle) of a singly linked list, given only access to\n",
    "that node.\n",
    "\n",
    "    EXAMPLE\n",
    "    Input: the node c from the linked list a - >b- >c - >d - >e- >f\n",
    "    Result: nothing is returned, but the new linked list looks like a - >b- >d - >e- >f\n",
    "    Hints: #72 "
   ]
  },
  {
   "cell_type": "code",
   "execution_count": 90,
   "metadata": {},
   "outputs": [
    {
     "name": "stdout",
     "output_type": "stream",
     "text": [
      "[1, 2, 3, 5, 6]\n"
     ]
    }
   ],
   "source": [
    "def delete_middle_node(head):\n",
    "    fast = middle = head\n",
    "    while True:\n",
    "        if not fast or not fast.next: break\n",
    "        fast, middle = fast.next.next, middle.next\n",
    "    actual = head\n",
    "    \n",
    "    if middle and middle.next:\n",
    "        while actual.next != middle:\n",
    "            actual = actual.next\n",
    "        actual.next = actual.next.next\n",
    "\n",
    "    head.display()\n",
    "\n",
    "llist = head = Node(1)\n",
    "llist.append(2,3,4,5,6)\n",
    "delete_middle_node(head)"
   ]
  },
  {
   "cell_type": "code",
   "execution_count": null,
   "metadata": {},
   "outputs": [],
   "source": []
  }
 ],
 "metadata": {
  "kernelspec": {
   "display_name": "Python 3.10.5 64-bit",
   "language": "python",
   "name": "python3"
  },
  "language_info": {
   "codemirror_mode": {
    "name": "ipython",
    "version": 3
   },
   "file_extension": ".py",
   "mimetype": "text/x-python",
   "name": "python",
   "nbconvert_exporter": "python",
   "pygments_lexer": "ipython3",
   "version": "3.10.5"
  },
  "orig_nbformat": 4,
  "vscode": {
   "interpreter": {
    "hash": "aee8b7b246df8f9039afb4144a1f6fd8d2ca17a180786b69acc140d282b71a49"
   }
  }
 },
 "nbformat": 4,
 "nbformat_minor": 2
}
