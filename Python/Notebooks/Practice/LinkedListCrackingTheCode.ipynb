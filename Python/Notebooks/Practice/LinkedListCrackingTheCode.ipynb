{
 "cells": [
  {
   "cell_type": "markdown",
   "metadata": {},
   "source": [
    "#"
   ]
  },
  {
   "cell_type": "markdown",
   "metadata": {},
   "source": [
    "# Linked Lists Problems from Cracking the Coding Interview"
   ]
  },
  {
   "cell_type": "code",
   "execution_count": 4,
   "metadata": {},
   "outputs": [],
   "source": [
    "class Node:\n",
    "    def __init__(self, data=None):\n",
    "        self.data = data\n",
    "        self.next = None\n",
    "    \n",
    "    def display(self):\n",
    "        nodes_data = []\n",
    "        while self:\n",
    "            nodes_data.append(self.data)\n",
    "            self = self.next\n",
    "        print(nodes_data)\n",
    "    \n",
    "    def append(self, *args): \n",
    "        for arg in args: \n",
    "            while self.next:\n",
    "                self = self.next\n",
    "            self.next = Node(arg)\n",
    "\n",
    "    def pop(self):\n",
    "        prev = None\n",
    "        while self.next:\n",
    "            self, prev = self.next, self\n",
    "        prev.next = None\n",
    "\n",
    "    def length(self):\n",
    "        i = 1\n",
    "        while self.next:\n",
    "            i+=1\n",
    "            self = self.next\n",
    "        return i\n",
    "\n"
   ]
  },
  {
   "cell_type": "markdown",
   "metadata": {},
   "source": [
    "-----\n",
    "### Return Kth to Last: \n",
    "Implement an algorithm to find the kth to last element of a singly linked list.\n",
    "\n",
    "Hints: #8, #25, #47, #67, # 726 "
   ]
  },
  {
   "cell_type": "code",
   "execution_count": 20,
   "metadata": {},
   "outputs": [
    {
     "name": "stdout",
     "output_type": "stream",
     "text": [
      "[1, 2, 3, 4, 5, 6, 7, 8, 9, 10]\n",
      "[2, 3, 4, 5, 6, 7, 8, 9, 10]\n"
     ]
    }
   ],
   "source": [
    "def from_k_to_last(head, k):\n",
    "    if k>head.length():\n",
    "        return None\n",
    "    actual = head\n",
    "    new_head = None\n",
    "    i = 0\n",
    "    while i<k-1: actual, i = actual.next, i+1\n",
    "    new_head = actual\n",
    "    return new_head\n",
    "    \n",
    "llist = head = Node(1)\n",
    "llist.append(2,3,4,5,6,7,8,9,10)\n",
    "\n",
    "llist.display()\n",
    "result = from_k_to_last(head, 2)\n",
    "\n",
    "if result:\n",
    "    result.display()\n",
    "else:\n",
    "    print('The K is greater than the total length of the LL')"
   ]
  },
  {
   "cell_type": "code",
   "execution_count": 31,
   "metadata": {},
   "outputs": [
    {
     "name": "stdout",
     "output_type": "stream",
     "text": [
      "[4, 5, 6, 7, 8, 9, 10]\n"
     ]
    }
   ],
   "source": [
    "def rec_from_k_to_last(head,k):\n",
    "    if k==1:\n",
    "        return head\n",
    "    head = rec_from_k_to_last(head.next, k-1)\n",
    "    return head\n",
    "\n",
    "llist = head = Node(1)\n",
    "llist.append(2,3,4,5,6,7,8,9,10)\n",
    "\n",
    "result = rec_from_k_to_last(head, 4)\n",
    "\n",
    "if result:\n",
    "    result.display()\n",
    "else:\n",
    "    print('The K is greater than the total length of the LL')"
   ]
  },
  {
   "cell_type": "markdown",
   "metadata": {},
   "source": [
    "-------\n",
    "### Delete Middle Node\n",
    " Implement an algorithm to delete a node in the middle (i.e., any node but\n",
    "the first and last node, not necessarily the exact middle) of a singly linked list, given only access to\n",
    "that node.\n",
    "\n",
    "    EXAMPLE\n",
    "    Input: the node c from the linked list a - >b- >c - >d - >e- >f\n",
    "    Result: nothing is returned, but the new linked list looks like a - >b- >d - >e- >f\n",
    "    Hints: #72 "
   ]
  },
  {
   "cell_type": "code",
   "execution_count": 90,
   "metadata": {},
   "outputs": [
    {
     "name": "stdout",
     "output_type": "stream",
     "text": [
      "[1, 2, 3, 5, 6]\n"
     ]
    }
   ],
   "source": [
    "def delete_middle_node(head):\n",
    "    fast = middle = head\n",
    "    while True:\n",
    "        if not fast or not fast.next: break\n",
    "        fast, middle = fast.next.next, middle.next\n",
    "    actual = head\n",
    "    \n",
    "    if middle and middle.next:\n",
    "        while actual.next != middle:\n",
    "            actual = actual.next\n",
    "        actual.next = actual.next.next\n",
    "\n",
    "    head.display()\n",
    "\n",
    "llist = head = Node(1)\n",
    "llist.append(2,3,4,5,6)\n",
    "delete_middle_node(head)"
   ]
  },
  {
   "cell_type": "markdown",
   "metadata": {},
   "source": [
    "-----\n",
    "### Sum Lists\n",
    " You have two numbers represented by a linked list, where each node contains a single\n",
    "digit. The digits are stored in reverse order, such that the 1 's digit is at the head of the list. Write a\n",
    "function that adds the two numbers and returns the sum as a linked list.\n",
    "\n",
    "    EXAMPLE\n",
    "    Input: (7-> 1 -> 6) + (5 -> 9 -> 2).Thatis,617 + 295.\n",
    "    Output: 2 -> 1 -> 9. That is, 912.\n",
    "    FOLLOW UP\n",
    "    Suppose the digits are stored in forward order. Repeat the above problem.\n",
    "    EXAMPLE\n",
    "    Input: (6 -> 1 -> 7) + (2 -> 9 -> 5).Thatis,617 + 295.\n",
    "    Output: 9 -> 1 -> 2. That is, 912."
   ]
  },
  {
   "cell_type": "code",
   "execution_count": 162,
   "metadata": {},
   "outputs": [
    {
     "name": "stdout",
     "output_type": "stream",
     "text": [
      "[0, 9, 5, 1]\n"
     ]
    }
   ],
   "source": [
    "############################################ BACKWARDS ############################################\n",
    "def sum_lists(head1, head2, is_backwards=True):\n",
    "    n1, n2 = head1, head2\n",
    "    digits = []\n",
    "    s = False\n",
    "    i = 0\n",
    "    while n1 or n2:\n",
    "        a = n1.data if n1 else 0\n",
    "        b = n2.data if n2 else 0\n",
    "        n = a+b+s\n",
    "        m = n%10\n",
    "        digits.append(m)\n",
    "        s = n!=m\n",
    "        n1, n2 = n1 and n1.next, n2 and n2.next\n",
    "        i+=1\n",
    "    head = Node(digits[0])\n",
    "    head.append(*digits[1:])\n",
    "    return head\n",
    "\n",
    "def rec_sum_lists(node1,node2, s=False, digits=[]):\n",
    "    if not node1 and not node2:\n",
    "        head = Node(digits[0])\n",
    "        head.append(*digits[1:])\n",
    "        return head\n",
    "    \n",
    "    a = node1.data if node1 else 0\n",
    "    b = node2.data if node2 else 0\n",
    "    n = a+b+s\n",
    "    m = n%10\n",
    "    digits.append(m)\n",
    "    return rec_sum_lists(node1 and node1.next, node2 and node2.next, n!=m, digits)\n",
    "    \n",
    "\n",
    "\n",
    "\n",
    "# llist1 = head1 = Node(7)\n",
    "# llist1.append(1,6)\n",
    "# llist2 = head2 = Node(5)\n",
    "# llist2.append(9,2)\n",
    "\n",
    "llist1 = head1 = Node(0)\n",
    "llist1.append(4,5,1)\n",
    "llist2 = head2 = Node(0)\n",
    "llist2.append(5)\n",
    "\n",
    "result = rec_sum_lists(head1,head2)\n",
    "result.display()\n",
    "\n"
   ]
  },
  {
   "cell_type": "code",
   "execution_count": 178,
   "metadata": {},
   "outputs": [
    {
     "name": "stdout",
     "output_type": "stream",
     "text": [
      "[9, 1, 2]\n"
     ]
    }
   ],
   "source": [
    "def sum_lists(head1, head2):\n",
    "    digits = [head1.data+head2.data]\n",
    "    n1, n2 = head1.next, head2.next\n",
    "    s = False\n",
    "    i = 1\n",
    "    while n1 or n2:\n",
    "        a = n1.data if n1 else 0\n",
    "        b = n2.data if n2 else 0\n",
    "        n = a+b\n",
    "        m = n%10\n",
    "        digits.append(m)\n",
    "        s = n!=m\n",
    "        digits[i-1] += s\n",
    "        n1, n2 = n1 and n1.next, n2 and n2.next\n",
    "        i+=1\n",
    "    head = Node(digits[0])\n",
    "    head.append(*digits[1:])\n",
    "    return head\n",
    "\n",
    "def rec_sum_lists(node1,node2, s=False, digits=[]):\n",
    "    if not digits:\n",
    "        n = node1.data+node2.data\n",
    "        node1, node2 = node1.next, node2.next\n",
    "        digits.append(n)\n",
    "    \n",
    "    if not node1 and not node2:\n",
    "        head = Node(digits[0])\n",
    "        head.append(*digits[1:])\n",
    "        return head\n",
    "    \n",
    "    a = node1.data if node1 else 0\n",
    "    b = node2.data if node2 else 0\n",
    "    n = a+b\n",
    "    m = n%10\n",
    "    s = n!=m\n",
    "    digits[len(digits)-1] += s\n",
    "    digits.append(m)\n",
    "    return rec_sum_lists(node1 and node1.next, node2 and node2.next, s, digits)\n",
    "\n",
    "############################################ FORWARDS ############################################\n",
    "llist1 = head1 = Node(6)\n",
    "llist1.append(1,7)\n",
    "llist2 = head2 = Node(2)\n",
    "llist2.append(9,5)\n",
    "\n",
    "# llist1 = head1 = Node(1)\n",
    "# llist1.append(5,4,0)\n",
    "# llist2 = head2 = Node(5)\n",
    "# llist2.append(0)\n",
    "\n",
    "result = rec_sum_lists(head1,head2)\n",
    "result.display()"
   ]
  },
  {
   "cell_type": "code",
   "execution_count": 52,
   "metadata": {},
   "outputs": [
    {
     "name": "stdout",
     "output_type": "stream",
     "text": [
      "le presta a su vecino\n"
     ]
    }
   ],
   "source": [
    "n = 10\n",
    "if n != (n%10):\n",
    "    print('le presta a su vecino')"
   ]
  },
  {
   "cell_type": "code",
   "execution_count": null,
   "metadata": {},
   "outputs": [],
   "source": []
  }
 ],
 "metadata": {
  "kernelspec": {
   "display_name": "Python 3.10.5 64-bit",
   "language": "python",
   "name": "python3"
  },
  "language_info": {
   "codemirror_mode": {
    "name": "ipython",
    "version": 3
   },
   "file_extension": ".py",
   "mimetype": "text/x-python",
   "name": "python",
   "nbconvert_exporter": "python",
   "pygments_lexer": "ipython3",
   "version": "3.10.5"
  },
  "orig_nbformat": 4,
  "vscode": {
   "interpreter": {
    "hash": "aee8b7b246df8f9039afb4144a1f6fd8d2ca17a180786b69acc140d282b71a49"
   }
  }
 },
 "nbformat": 4,
 "nbformat_minor": 2
}
