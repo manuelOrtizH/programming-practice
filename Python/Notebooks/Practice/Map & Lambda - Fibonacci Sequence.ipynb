{
 "cells": [
  {
   "cell_type": "markdown",
   "id": "99738a95",
   "metadata": {},
   "source": [
    "Let's learn some new Python concepts! You have to generate a list of the first N fibonacci numbers, 0 being the first number. Then, apply the map function and a lambda expression to cube each fibonacci number and print the list."
   ]
  },
  {
   "cell_type": "code",
   "execution_count": 1,
   "id": "aaba2a86",
   "metadata": {},
   "outputs": [],
   "source": [
    "# Case Base\n",
    "# {0:0,1:1}"
   ]
  },
  {
   "cell_type": "code",
   "execution_count": 2,
   "id": "5911d34a",
   "metadata": {},
   "outputs": [],
   "source": [
    "#Dictionary-Rec\n",
    "def fibo(n, dic_fibo = {0:0, 1:1, 2:1}):\n",
    "    print(dic_fibo)\n",
    "    if n not in dic_fibo.keys():  \n",
    "        dic_fibo[n] = fibo(n-1, dic_fibo) + fibo(n-2, dic_fibo)\n",
    "    return dic_fibo[n]\n"
   ]
  },
  {
   "cell_type": "code",
   "execution_count": 3,
   "id": "a1cb9b67",
   "metadata": {},
   "outputs": [],
   "source": [
    "def fibo_memo(n, table=[0,1,1]):\n",
    "    if n == 0:\n",
    "        return []\n",
    "    elif n>0 and n<3:\n",
    "        return table[:n]\n",
    "    else:  \n",
    "        for i in range(len(table),n):\n",
    "            table.append(((table[i-1] ) +( table[i-2])))\n",
    "\n",
    "    return table"
   ]
  },
  {
   "cell_type": "code",
   "execution_count": 4,
   "id": "b597c2ed",
   "metadata": {},
   "outputs": [
    {
     "data": {
      "text/plain": [
       "[0,\n",
       " 1,\n",
       " 1,\n",
       " 2,\n",
       " 3,\n",
       " 5,\n",
       " 8,\n",
       " 13,\n",
       " 21,\n",
       " 34,\n",
       " 55,\n",
       " 89,\n",
       " 144,\n",
       " 233,\n",
       " 377,\n",
       " 610,\n",
       " 987,\n",
       " 1597,\n",
       " 2584,\n",
       " 4181,\n",
       " 6765,\n",
       " 10946,\n",
       " 17711,\n",
       " 28657,\n",
       " 46368,\n",
       " 75025,\n",
       " 121393,\n",
       " 196418,\n",
       " 317811,\n",
       " 514229,\n",
       " 832040,\n",
       " 1346269,\n",
       " 2178309,\n",
       " 3524578,\n",
       " 5702887]"
      ]
     },
     "execution_count": 4,
     "metadata": {},
     "output_type": "execute_result"
    }
   ],
   "source": [
    "fibo_memo(35)"
   ]
  },
  {
   "cell_type": "code",
   "execution_count": null,
   "id": "f902c8e5",
   "metadata": {},
   "outputs": [],
   "source": []
  },
  {
   "cell_type": "code",
   "execution_count": null,
   "id": "8f0c921f",
   "metadata": {},
   "outputs": [],
   "source": []
  },
  {
   "cell_type": "code",
   "execution_count": null,
   "id": "ac30ead5",
   "metadata": {},
   "outputs": [],
   "source": []
  },
  {
   "cell_type": "code",
   "execution_count": null,
   "id": "7ce707bc",
   "metadata": {},
   "outputs": [],
   "source": []
  }
 ],
 "metadata": {
  "kernelspec": {
   "display_name": "Python 3.10.5 64-bit",
   "language": "python",
   "name": "python3"
  },
  "language_info": {
   "codemirror_mode": {
    "name": "ipython",
    "version": 3
   },
   "file_extension": ".py",
   "mimetype": "text/x-python",
   "name": "python",
   "nbconvert_exporter": "python",
   "pygments_lexer": "ipython3",
   "version": "3.10.5"
  },
  "vscode": {
   "interpreter": {
    "hash": "aee8b7b246df8f9039afb4144a1f6fd8d2ca17a180786b69acc140d282b71a49"
   }
  }
 },
 "nbformat": 4,
 "nbformat_minor": 5
}
