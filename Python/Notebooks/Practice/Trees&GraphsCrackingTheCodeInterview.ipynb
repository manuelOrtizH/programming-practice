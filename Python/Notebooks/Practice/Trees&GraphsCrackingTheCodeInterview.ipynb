{
 "cells": [
  {
   "cell_type": "markdown",
   "metadata": {},
   "source": [
    "# Trees and Graphs"
   ]
  },
  {
   "cell_type": "code",
   "execution_count": 74,
   "metadata": {},
   "outputs": [],
   "source": [
    "class ListNode:\n",
    "    def __init__(self, data=None):\n",
    "        self.data = data\n",
    "        self.next = None\n",
    "    \n",
    "    def display(self):\n",
    "        nodes_data = []\n",
    "        while self:\n",
    "            nodes_data.append(self.data)\n",
    "            self = self.next\n",
    "        print(nodes_data)\n",
    "    \n",
    "    def append(self, *args): \n",
    "        for arg in args: \n",
    "            while self.next:\n",
    "                self = self.next\n",
    "            self.next = Node(arg)\n",
    "\n",
    "    def pop(self):\n",
    "        prev = None\n",
    "        while self.next:\n",
    "            self, prev = self.next, self\n",
    "        prev.next = None\n",
    "\n",
    "    def length(self):\n",
    "        i = 1\n",
    "        while self.next:\n",
    "            i+=1\n",
    "            self = self.next\n",
    "        return i\n",
    "\n"
   ]
  },
  {
   "cell_type": "code",
   "execution_count": 93,
   "metadata": {},
   "outputs": [],
   "source": [
    "class Node:\n",
    "    def __init__(self, data=None, left=None, right=None):\n",
    "        self.data = data\n",
    "        self.left = left\n",
    "        self.right = right\n",
    "\n",
    "\n",
    "def visit(node):\n",
    "    print(node.data)\n",
    "\n",
    "def in_order_traversal(node):\n",
    "    if node:\n",
    "        in_order_traversal(node.left)\n",
    "        visit(node)\n",
    "        in_order_traversal(node.right)\n",
    "\n",
    "def in_preorder_traversal(node):\n",
    "    if node:\n",
    "        visit(node)\n",
    "        in_preorder_traversal(node.left)\n",
    "        in_preorder_traversal(node.right)\n",
    "\n",
    "\n"
   ]
  },
  {
   "cell_type": "code",
   "execution_count": 107,
   "metadata": {},
   "outputs": [
    {
     "name": "stdout",
     "output_type": "stream",
     "text": [
      "8\n",
      "5\n",
      "9\n"
     ]
    }
   ],
   "source": [
    "root = Node(2, Node(7, Node(12), Node(6)), Node(5, Node(8), Node(9)))\n",
    "\n",
    "\n",
    "\n",
    "def rec_find_node(node, val):\n",
    "    if not node:\n",
    "        return None\n",
    "    if node.data == val:\n",
    "        return node\n",
    "    if val < node.data:\n",
    "        return rec_find_node(node.left, val)\n",
    "    return rec_find_node(node.right,val)\n",
    "    \n",
    "\n",
    "def find_node(node,val):\n",
    "    while node:\n",
    "        if val < node.data:\n",
    "            node = node.left\n",
    "        elif val > node.data:\n",
    "            node = node.right\n",
    "        else:\n",
    "            return node\n",
    "        \n",
    "    return None\n",
    "\n",
    "\n",
    "node = rec_find_node(root, 5)\n",
    "in_order_traversal(node)"
   ]
  },
  {
   "cell_type": "code",
   "execution_count": null,
   "metadata": {},
   "outputs": [],
   "source": []
  },
  {
   "cell_type": "code",
   "execution_count": null,
   "metadata": {},
   "outputs": [],
   "source": []
  }
 ],
 "metadata": {
  "kernelspec": {
   "display_name": "Python 3.10.5 64-bit",
   "language": "python",
   "name": "python3"
  },
  "language_info": {
   "codemirror_mode": {
    "name": "ipython",
    "version": 3
   },
   "file_extension": ".py",
   "mimetype": "text/x-python",
   "name": "python",
   "nbconvert_exporter": "python",
   "pygments_lexer": "ipython3",
   "version": "3.10.5"
  },
  "orig_nbformat": 4,
  "vscode": {
   "interpreter": {
    "hash": "aee8b7b246df8f9039afb4144a1f6fd8d2ca17a180786b69acc140d282b71a49"
   }
  }
 },
 "nbformat": 4,
 "nbformat_minor": 2
}
