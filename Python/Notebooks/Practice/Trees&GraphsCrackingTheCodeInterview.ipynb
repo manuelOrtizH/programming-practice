{
 "cells": [
  {
   "cell_type": "markdown",
   "metadata": {},
   "source": [
    "# Trees and Graphs"
   ]
  },
  {
   "cell_type": "code",
   "execution_count": 74,
   "metadata": {},
   "outputs": [],
   "source": []
  },
  {
   "cell_type": "code",
   "execution_count": 54,
   "metadata": {},
   "outputs": [],
   "source": [
    "class Node:\n",
    "    def __init__(self, data=None, left=None, right=None):\n",
    "        self.data = data\n",
    "        self.left = left\n",
    "        self.right = right\n",
    "\n",
    "\n",
    "def visit(node):\n",
    "    print(node.data)\n",
    "\n",
    "def in_order_traversal(node):\n",
    "    if node:\n",
    "        in_order_traversal(node.left)\n",
    "        visit(node)\n",
    "        in_order_traversal(node.right)\n",
    "\n",
    "def in_preorder_traversal(node):\n",
    "    if node:\n",
    "        visit(node)\n",
    "        in_preorder_traversal(node.left)\n",
    "        in_preorder_traversal(node.right)\n",
    "\n",
    "\n"
   ]
  },
  {
   "cell_type": "markdown",
   "metadata": {},
   "source": [
    "### Find Node in BST"
   ]
  },
  {
   "cell_type": "code",
   "execution_count": 197,
   "metadata": {},
   "outputs": [
    {
     "name": "stdout",
     "output_type": "stream",
     "text": [
      "8\n",
      "5\n",
      "9\n"
     ]
    }
   ],
   "source": [
    "root = Node(2, Node(7, Node(12), Node(6)), Node(5, Node(8), Node(9)))\n",
    "\n",
    "def recFindInBST(node, val):\n",
    "    if not node:\n",
    "        return None\n",
    "    if node.data == val:\n",
    "        return node\n",
    "    if val < node.data:\n",
    "        return recFindInBST(node.left, val)\n",
    "    return recFindInBST(node.right,val)\n",
    "    \n",
    "\n",
    "def findInBST(node,val):\n",
    "    while node:\n",
    "        if val < node.data:\n",
    "            node = node.left\n",
    "        elif val > node.data:\n",
    "            node = node.right\n",
    "        else:\n",
    "            return node\n",
    "        \n",
    "    return None\n",
    "\n",
    "\n",
    "node = findInBST(root, 5)\n",
    "in_order_traversal(node)"
   ]
  },
  {
   "cell_type": "markdown",
   "metadata": {},
   "source": [
    "### Find if is a valid BST"
   ]
  },
  {
   "cell_type": "code",
   "execution_count": 196,
   "metadata": {},
   "outputs": [
    {
     "data": {
      "text/plain": [
       "False"
      ]
     },
     "execution_count": 196,
     "metadata": {},
     "output_type": "execute_result"
    }
   ],
   "source": [
    "# def isValidBST(root):\n",
    "#     stack = []\n",
    "#     left_most = -1\n",
    "#     while stack or root:\n",
    "#         #Fill all left side\n",
    "#         while root:\n",
    "#             stack.append(root)\n",
    "#             print('Adding to stack: ', root.data)\n",
    "#             root = root.left\n",
    "            \n",
    "#         print('stack: ', [node.data for node in stack])\n",
    "#         root = stack.pop()\n",
    "#         print('popped: ', root.data)\n",
    "#         print(f'is root ({root.data}) <= left_most ({left_most}) {\"Yes\" if root.data <= left_most  else  \"No\"} ')\n",
    "#         if root.data <= left_most:\n",
    "#             return False\n",
    "#         left_most = root.data\n",
    "#         print('left most now: ', left_most)\n",
    "#         root = root.right\n",
    "#         print('root to right is: ', root.data if root else None)\n",
    "#         print('----------------------------------------')\n",
    "        \n",
    "#     return True\n",
    "class Solution:\n",
    "    def __init__(self):\n",
    "        self.left_most = None\n",
    "\n",
    "    def isValidBST(self, root):\n",
    "        if not root:\n",
    "            return True\n",
    "\n",
    "        left = self.isValidBST(root.left)\n",
    "        if self.left_most and root.data <= self.left_most.data:\n",
    "            return False\n",
    "        self.left_most = root \n",
    "        \n",
    "        right = self.isValidBST(root.right)\n",
    "        return left and right\n",
    "    \n",
    "\n",
    "rootA = Node(2, Node(1), Node(3))\n",
    "rootB = Node(5, Node(1), Node(4, Node(3), Node(6)))\n",
    "rootC = Node(1, left= Node(1))\n",
    "rootD = Node(5, Node(4), Node(6, Node(3), Node(7)))\n",
    "rootE = Node(8, \n",
    "            left=Node(2, \n",
    "                left=Node(1), \n",
    "                right=Node(9)), \n",
    "            right=Node(12, \n",
    "                left=Node(11), \n",
    "                right=Node(13)))\n",
    "sol = Solution()\n",
    "sol.isValidBST(rootE)\n"
   ]
  },
  {
   "cell_type": "markdown",
   "metadata": {},
   "source": [
    "### Height of a Tree"
   ]
  },
  {
   "cell_type": "code",
   "execution_count": 326,
   "metadata": {},
   "outputs": [
    {
     "data": {
      "text/plain": [
       "2"
      ]
     },
     "execution_count": 326,
     "metadata": {},
     "output_type": "execute_result"
    }
   ],
   "source": [
    "def find_height(root):\n",
    "    if not root:\n",
    "        return -1\n",
    "\n",
    "    l = 1 + find_height(root.left)\n",
    "    r = 1 + find_height(root.right)\n",
    "\n",
    "    return max(l,r)\n",
    "\n",
    "def maximum_depth(root):\n",
    "    if not root:\n",
    "        return 0\n",
    "\n",
    "    l = 1 + find_height(root.left)\n",
    "    r = 1 + find_height(root.right)\n",
    "\n",
    "    return l if l>r else r\n",
    "\n",
    "root = Node(1, \n",
    "        left= Node(2, \n",
    "            left= Node(4), \n",
    "            right=Node(5)),\n",
    "        right=Node(3))\n",
    "\n",
    "\n",
    "\n",
    "find_height(root)"
   ]
  },
  {
   "cell_type": "markdown",
   "metadata": {},
   "source": [
    "### Maximum Depth of a Tree\n",
    "\n"
   ]
  },
  {
   "cell_type": "code",
   "execution_count": 258,
   "metadata": {},
   "outputs": [
    {
     "data": {
      "text/plain": [
       "3"
      ]
     },
     "execution_count": 258,
     "metadata": {},
     "output_type": "execute_result"
    }
   ],
   "source": [
    "def maximum_depth(root):\n",
    "    if not root:\n",
    "        return 0\n",
    "\n",
    "    l = 1 + maximum_depth(root.left)\n",
    "    r = 1 + maximum_depth(root.right)\n",
    "\n",
    "    return l if l>r else r\n",
    "\n",
    "def _maximum_depth(root):\n",
    "    queue = [root] if root else None\n",
    "    depth = 0\n",
    "    while queue:\n",
    "        depth+=1\n",
    "        for _ in queue:\n",
    "            root = queue.pop(0)\n",
    "            if root.left:\n",
    "                queue.append(root.left)\n",
    "            if root.right:\n",
    "                queue.append(root.right)\n",
    "\n",
    "    return depth\n",
    "        \n",
    "        \n",
    "\n",
    "rootA = Node(3, Node(9), Node(20, Node(15), Node(7)))\n",
    "rootB = Node(4, Node(2, Node(4), Node(5)), Node(3))\n",
    "_maximum_depth(rootB)\n"
   ]
  },
  {
   "cell_type": "markdown",
   "metadata": {},
   "source": [
    "### Convert Sorted Array to Binary Search Tree"
   ]
  },
  {
   "cell_type": "code",
   "execution_count": 69,
   "metadata": {},
   "outputs": [
    {
     "name": "stdout",
     "output_type": "stream",
     "text": [
      "-10\n",
      "-3\n",
      "0\n",
      "5\n",
      "9\n"
     ]
    }
   ],
   "source": [
    "import math\n",
    "def sortedArrayToBST(nums):\n",
    "    nodes, center_node = len(nums), 0\n",
    "    if not nums: \n",
    "        return\n",
    "    center_node = nodes//2\n",
    "    root = Node(nums[center_node])\n",
    "    root.left = sortedArrayToBST(nums[0:center_node])\n",
    "    root.right = sortedArrayToBST(nums[center_node+1:])\n",
    "    return root\n",
    "\n",
    "\n",
    "nums = [-10, -3, 0, 5, 9]\n",
    "root = sortedArrayToBST(nums)"
   ]
  },
  {
   "cell_type": "code",
   "execution_count": 72,
   "metadata": {},
   "outputs": [
    {
     "data": {
      "text/plain": [
       "1"
      ]
     },
     "execution_count": 72,
     "metadata": {},
     "output_type": "execute_result"
    }
   ],
   "source": [
    "level = 1\n",
    "nodes_in_total = lambda level: (2**level)*2\n",
    "nodes_in_total(level)\n",
    "\n",
    "\n",
    "def total_nodes(levels):\n",
    "    r = 0\n",
    "    for l in range(0,levels):\n",
    "        r+=nodes_in_total(l)\n",
    "    return r+1\n",
    "\n",
    "total_nodes(3)\n",
    "\n",
    "l = [-10,-3]\n",
    "\n",
    "len(l)//2"
   ]
  },
  {
   "cell_type": "markdown",
   "metadata": {},
   "source": [
    "### Balance a Binary Search Tree"
   ]
  },
  {
   "cell_type": "code",
   "execution_count": 83,
   "metadata": {},
   "outputs": [
    {
     "name": "stdout",
     "output_type": "stream",
     "text": [
      "1\n",
      "2\n",
      "3\n",
      "4\n"
     ]
    }
   ],
   "source": [
    "def sortedArrayToBST(nums):\n",
    "    nodes, center_node = len(nums), 0\n",
    "    if not nums: \n",
    "        return\n",
    "    center_node = nodes//2\n",
    "    root = Node(nums[center_node])\n",
    "    root.left = sortedArrayToBST(nums[0:center_node])\n",
    "    root.right = sortedArrayToBST(nums[center_node+1:])\n",
    "    return root\n",
    "\n",
    "def add_num(data, nums):\n",
    "    nums.append(data)\n",
    "\n",
    "def tree_to_list(root, nums):\n",
    "    if root:\n",
    "        tree_to_list(root.left, nums)\n",
    "        add_num(root.data, nums)\n",
    "        tree_to_list(root.right, nums)\n",
    "    return nums\n",
    "\n",
    "\n",
    "def balanceBST(root):\n",
    "    nums = tree_to_list(root,[])\n",
    "    return sortedArrayToBST(nums)\n",
    "    \n",
    "\n",
    "root = Node(1, left=None, right=Node(2, left=None, right=Node(3, left=None, right=Node(4))))\n",
    "in_order_traversal(root)"
   ]
  },
  {
   "cell_type": "markdown",
   "metadata": {},
   "source": [
    "### Insert into a Binary Search Tree"
   ]
  },
  {
   "cell_type": "code",
   "execution_count": 95,
   "metadata": {},
   "outputs": [
    {
     "name": "stdout",
     "output_type": "stream",
     "text": [
      "1\n",
      "2\n",
      "3\n",
      "4\n",
      "5\n",
      "7\n"
     ]
    }
   ],
   "source": [
    "# def insertIntoBST(root, val):\n",
    "#     actual = root\n",
    "#     while actual:\n",
    "#         if val>actual.data:\n",
    "#             if actual.right:\n",
    "#                 actual = actual.right\n",
    "#             else:\n",
    "#                 actual.right = Node(val)\n",
    "#                 return root\n",
    "#         elif val<actual.data:\n",
    "#             if actual.left:\n",
    "#                 actual = actual.left\n",
    "#             else:\n",
    "#                 actual.left = Node(val)\n",
    "#                 return root\n",
    "#     return root\n",
    "\n",
    "def insertIntoBST(root,val):\n",
    "    if not root:\n",
    "        return Node(val)\n",
    "\n",
    "    if val>root.data:\n",
    "        root.right = insertIntoBST(root.right, val)\n",
    "    elif val<root.data:\n",
    "        root.left = insertIntoBST(root.left, val)\n",
    "    return root\n",
    "\n",
    "root = Node(4, \n",
    "        left=Node(2,\n",
    "            left=Node(1),\n",
    "            right=Node(3)),\n",
    "        right=Node(7))\n",
    "\n",
    "result = insertIntoBST(root, 5)\n",
    "in_order_traversal(result)"
   ]
  },
  {
   "cell_type": "markdown",
   "metadata": {},
   "source": [
    "### Delete Node in BST"
   ]
  },
  {
   "cell_type": "code",
   "execution_count": 220,
   "metadata": {},
   "outputs": [
    {
     "ename": "AttributeError",
     "evalue": "'NoneType' object has no attribute 'data'",
     "output_type": "error",
     "traceback": [
      "\u001b[0;31m---------------------------------------------------------------------------\u001b[0m",
      "\u001b[0;31mAttributeError\u001b[0m                            Traceback (most recent call last)",
      "\u001b[1;32m/Users/manuelortiz/Documents/Coding/programming-practice/Python/Notebooks/Practice/Trees&GraphsCrackingTheCodeInterview.ipynb Cell 20\u001b[0m in \u001b[0;36m<cell line: 60>\u001b[0;34m()\u001b[0m\n\u001b[1;32m     <a href='vscode-notebook-cell:/Users/manuelortiz/Documents/Coding/programming-practice/Python/Notebooks/Practice/Trees%26GraphsCrackingTheCodeInterview.ipynb#X32sZmlsZQ%3D%3D?line=47'>48</a>\u001b[0m rootB \u001b[39m=\u001b[39m Node(\u001b[39m0\u001b[39m)\n\u001b[1;32m     <a href='vscode-notebook-cell:/Users/manuelortiz/Documents/Coding/programming-practice/Python/Notebooks/Practice/Trees%26GraphsCrackingTheCodeInterview.ipynb#X32sZmlsZQ%3D%3D?line=49'>50</a>\u001b[0m rootC \u001b[39m=\u001b[39m Node(\u001b[39m5\u001b[39m, \n\u001b[1;32m     <a href='vscode-notebook-cell:/Users/manuelortiz/Documents/Coding/programming-practice/Python/Notebooks/Practice/Trees%26GraphsCrackingTheCodeInterview.ipynb#X32sZmlsZQ%3D%3D?line=50'>51</a>\u001b[0m         left\u001b[39m=\u001b[39mNode(\u001b[39m3\u001b[39m,\n\u001b[1;32m     <a href='vscode-notebook-cell:/Users/manuelortiz/Documents/Coding/programming-practice/Python/Notebooks/Practice/Trees%26GraphsCrackingTheCodeInterview.ipynb#X32sZmlsZQ%3D%3D?line=51'>52</a>\u001b[0m             left\u001b[39m=\u001b[39mNode(\u001b[39m2\u001b[39m),\n\u001b[0;32m   (...)\u001b[0m\n\u001b[1;32m     <a href='vscode-notebook-cell:/Users/manuelortiz/Documents/Coding/programming-practice/Python/Notebooks/Practice/Trees%26GraphsCrackingTheCodeInterview.ipynb#X32sZmlsZQ%3D%3D?line=54'>55</a>\u001b[0m             left\u001b[39m=\u001b[39m\u001b[39mNone\u001b[39;00m,\n\u001b[1;32m     <a href='vscode-notebook-cell:/Users/manuelortiz/Documents/Coding/programming-practice/Python/Notebooks/Practice/Trees%26GraphsCrackingTheCodeInterview.ipynb#X32sZmlsZQ%3D%3D?line=55'>56</a>\u001b[0m             right\u001b[39m=\u001b[39mNode(\u001b[39m7\u001b[39m)))\n\u001b[0;32m---> <a href='vscode-notebook-cell:/Users/manuelortiz/Documents/Coding/programming-practice/Python/Notebooks/Practice/Trees%26GraphsCrackingTheCodeInterview.ipynb#X32sZmlsZQ%3D%3D?line=59'>60</a>\u001b[0m a \u001b[39m=\u001b[39m deleteNode(rootC, \u001b[39m5\u001b[39;49m)\n\u001b[1;32m     <a href='vscode-notebook-cell:/Users/manuelortiz/Documents/Coding/programming-practice/Python/Notebooks/Practice/Trees%26GraphsCrackingTheCodeInterview.ipynb#X32sZmlsZQ%3D%3D?line=60'>61</a>\u001b[0m \u001b[39mprint\u001b[39m(\u001b[39m'\u001b[39m\u001b[39m-----------\u001b[39m\u001b[39m'\u001b[39m)\n\u001b[1;32m     <a href='vscode-notebook-cell:/Users/manuelortiz/Documents/Coding/programming-practice/Python/Notebooks/Practice/Trees%26GraphsCrackingTheCodeInterview.ipynb#X32sZmlsZQ%3D%3D?line=61'>62</a>\u001b[0m a\n",
      "\u001b[1;32m/Users/manuelortiz/Documents/Coding/programming-practice/Python/Notebooks/Practice/Trees&GraphsCrackingTheCodeInterview.ipynb Cell 20\u001b[0m in \u001b[0;36mdeleteNode\u001b[0;34m(root, key)\u001b[0m\n\u001b[1;32m     <a href='vscode-notebook-cell:/Users/manuelortiz/Documents/Coding/programming-practice/Python/Notebooks/Practice/Trees%26GraphsCrackingTheCodeInterview.ipynb#X32sZmlsZQ%3D%3D?line=26'>27</a>\u001b[0m     \u001b[39mreturn\u001b[39;00m root\n\u001b[1;32m     <a href='vscode-notebook-cell:/Users/manuelortiz/Documents/Coding/programming-practice/Python/Notebooks/Practice/Trees%26GraphsCrackingTheCodeInterview.ipynb#X32sZmlsZQ%3D%3D?line=28'>29</a>\u001b[0m \u001b[39mif\u001b[39;00m root\u001b[39m.\u001b[39mdata \u001b[39m==\u001b[39m key:\n\u001b[0;32m---> <a href='vscode-notebook-cell:/Users/manuelortiz/Documents/Coding/programming-practice/Python/Notebooks/Practice/Trees%26GraphsCrackingTheCodeInterview.ipynb#X32sZmlsZQ%3D%3D?line=29'>30</a>\u001b[0m     subtree \u001b[39m=\u001b[39m re_arrange(root,key)\n\u001b[1;32m     <a href='vscode-notebook-cell:/Users/manuelortiz/Documents/Coding/programming-practice/Python/Notebooks/Practice/Trees%26GraphsCrackingTheCodeInterview.ipynb#X32sZmlsZQ%3D%3D?line=30'>31</a>\u001b[0m     \u001b[39mreturn\u001b[39;00m subtree\n\u001b[1;32m     <a href='vscode-notebook-cell:/Users/manuelortiz/Documents/Coding/programming-practice/Python/Notebooks/Practice/Trees%26GraphsCrackingTheCodeInterview.ipynb#X32sZmlsZQ%3D%3D?line=32'>33</a>\u001b[0m \u001b[39melif\u001b[39;00m key\u001b[39m<\u001b[39mroot\u001b[39m.\u001b[39mdata:\n",
      "\u001b[1;32m/Users/manuelortiz/Documents/Coding/programming-practice/Python/Notebooks/Practice/Trees&GraphsCrackingTheCodeInterview.ipynb Cell 20\u001b[0m in \u001b[0;36mre_arrange\u001b[0;34m(root, key)\u001b[0m\n\u001b[1;32m     <a href='vscode-notebook-cell:/Users/manuelortiz/Documents/Coding/programming-practice/Python/Notebooks/Practice/Trees%26GraphsCrackingTheCodeInterview.ipynb#X32sZmlsZQ%3D%3D?line=16'>17</a>\u001b[0m \u001b[39melse\u001b[39;00m:\n\u001b[1;32m     <a href='vscode-notebook-cell:/Users/manuelortiz/Documents/Coding/programming-practice/Python/Notebooks/Practice/Trees%26GraphsCrackingTheCodeInterview.ipynb#X32sZmlsZQ%3D%3D?line=17'>18</a>\u001b[0m     res \u001b[39m=\u001b[39m left_most_right_node(root\u001b[39m.\u001b[39mleft, key)\n\u001b[0;32m---> <a href='vscode-notebook-cell:/Users/manuelortiz/Documents/Coding/programming-practice/Python/Notebooks/Practice/Trees%26GraphsCrackingTheCodeInterview.ipynb#X32sZmlsZQ%3D%3D?line=19'>20</a>\u001b[0m     root\u001b[39m.\u001b[39mdata \u001b[39m=\u001b[39m res\u001b[39m.\u001b[39;49mdata\n\u001b[1;32m     <a href='vscode-notebook-cell:/Users/manuelortiz/Documents/Coding/programming-practice/Python/Notebooks/Practice/Trees%26GraphsCrackingTheCodeInterview.ipynb#X32sZmlsZQ%3D%3D?line=20'>21</a>\u001b[0m     res \u001b[39m=\u001b[39m \u001b[39mNone\u001b[39;00m\n\u001b[1;32m     <a href='vscode-notebook-cell:/Users/manuelortiz/Documents/Coding/programming-practice/Python/Notebooks/Practice/Trees%26GraphsCrackingTheCodeInterview.ipynb#X32sZmlsZQ%3D%3D?line=21'>22</a>\u001b[0m     \u001b[39mreturn\u001b[39;00m res\n",
      "\u001b[0;31mAttributeError\u001b[0m: 'NoneType' object has no attribute 'data'"
     ]
    }
   ],
   "source": [
    "\n",
    "def left_most_right_node(root, key):\n",
    "    if not root.left and not root.right:\n",
    "        return\n",
    "    \n",
    "    if key<root.data:\n",
    "        root = left_most_right_node(root.left, key)\n",
    "    else:\n",
    "        root = left_most_right_node(root.right, key)\n",
    "    return root\n",
    "\n",
    "\n",
    "def re_arrange(root,key): \n",
    "    if not root.left and not root.right:\n",
    "        return None\n",
    "    elif not root.left or not root.right:\n",
    "        return root.right or root.left \n",
    "    else:\n",
    "        res = left_most_right_node(root.left, key)\n",
    "        \n",
    "        root.data = res.data\n",
    "        res = None\n",
    "        return res\n",
    "\n",
    "\n",
    "def deleteNode(root, key):\n",
    "    if not root:\n",
    "        return root\n",
    "    \n",
    "    if root.data == key:\n",
    "        subtree = re_arrange(root,key)\n",
    "        return subtree\n",
    "            \n",
    "    elif key<root.data:\n",
    "        root.left = deleteNode(root.left, key)\n",
    "    else:\n",
    "        root.right = deleteNode(root.right, key)\n",
    "    return root\n",
    "    \n",
    "\n",
    "rootA = Node(5, \n",
    "        left=Node(3, \n",
    "            left=Node(2),\n",
    "            right=Node(4)),\n",
    "        right=Node(6, \n",
    "            left=None, \n",
    "            right=Node(7)))\n",
    "\n",
    "rootB = Node(0)\n",
    "\n",
    "rootC = Node(5, \n",
    "        left=Node(3,\n",
    "            left=Node(2),\n",
    "            right=Node(4)),\n",
    "        right=Node(6, \n",
    "            left=None,\n",
    "            right=Node(7)))\n",
    "\n",
    "\n",
    "\n",
    "a = deleteNode(rootC, 5)\n",
    "print('-----------')\n",
    "a"
   ]
  },
  {
   "cell_type": "code",
   "execution_count": null,
   "metadata": {},
   "outputs": [],
   "source": []
  }
 ],
 "metadata": {
  "kernelspec": {
   "display_name": "Python 3.10.5 64-bit",
   "language": "python",
   "name": "python3"
  },
  "language_info": {
   "codemirror_mode": {
    "name": "ipython",
    "version": 3
   },
   "file_extension": ".py",
   "mimetype": "text/x-python",
   "name": "python",
   "nbconvert_exporter": "python",
   "pygments_lexer": "ipython3",
   "version": "3.10.5"
  },
  "orig_nbformat": 4,
  "vscode": {
   "interpreter": {
    "hash": "aee8b7b246df8f9039afb4144a1f6fd8d2ca17a180786b69acc140d282b71a49"
   }
  }
 },
 "nbformat": 4,
 "nbformat_minor": 2
}
