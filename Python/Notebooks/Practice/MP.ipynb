{
 "cells": [
  {
   "cell_type": "code",
   "execution_count": 5,
   "id": "00b300f2",
   "metadata": {},
   "outputs": [],
   "source": [
    "class MyClass:\n",
    "    pass\n",
    "\n",
    "a = MyClass()\n",
    "a.speak = 'speaking'\n"
   ]
  },
  {
   "cell_type": "code",
   "execution_count": 6,
   "id": "609392dd",
   "metadata": {},
   "outputs": [
    {
     "data": {
      "text/plain": [
       "'speaking'"
      ]
     },
     "execution_count": 6,
     "metadata": {},
     "output_type": "execute_result"
    }
   ],
   "source": [
    "a.speak"
   ]
  },
  {
   "cell_type": "code",
   "execution_count": null,
   "id": "4d53c313",
   "metadata": {},
   "outputs": [],
   "source": []
  }
 ],
 "metadata": {
  "kernelspec": {
   "display_name": "Python 3",
   "language": "python",
   "name": "python3"
  },
  "language_info": {
   "codemirror_mode": {
    "name": "ipython",
    "version": 3
   },
   "file_extension": ".py",
   "mimetype": "text/x-python",
   "name": "python",
   "nbconvert_exporter": "python",
   "pygments_lexer": "ipython3",
   "version": "3.9.7"
  }
 },
 "nbformat": 4,
 "nbformat_minor": 5
}
