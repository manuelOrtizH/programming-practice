{
 "cells": [
  {
   "cell_type": "markdown",
   "id": "04dd4975",
   "metadata": {},
   "source": [
    "----\n",
    "### 1.\n",
    "#### The function my-count returns the number of elements contained in its input list. Do not use the predefined count function. "
   ]
  },
  {
   "cell_type": "code",
   "execution_count": 33,
   "id": "4d26ae09",
   "metadata": {},
   "outputs": [],
   "source": [
    "def my_count(fn,l, c=0):\n",
    "    counter = c\n",
    "    for e in l:\n",
    "        counter = fn(counter)\n",
    "    return counter"
   ]
  },
  {
   "cell_type": "code",
   "execution_count": 34,
   "id": "20e5d871",
   "metadata": {},
   "outputs": [
    {
     "data": {
      "text/plain": [
       "5"
      ]
     },
     "execution_count": 34,
     "metadata": {},
     "output_type": "execute_result"
    }
   ],
   "source": [
    "_counter = lambda c: c+1\n",
    "my_count(_counter,[1,2,3,4,5])"
   ]
  },
  {
   "cell_type": "code",
   "execution_count": 3,
   "id": "6b3b17b3",
   "metadata": {},
   "outputs": [],
   "source": [
    "def my_count(my_list):\n",
    "    if not my_list:\n",
    "        return 0\n",
    "    return 1 + my_count(my_list[1:]) "
   ]
  },
  {
   "cell_type": "code",
   "execution_count": 4,
   "id": "62455a9f",
   "metadata": {},
   "outputs": [
    {
     "data": {
      "text/plain": [
       "11"
      ]
     },
     "execution_count": 4,
     "metadata": {},
     "output_type": "execute_result"
    }
   ],
   "source": [
    "my_count([1,2,3,4,5,6,7,8,9,10,'z'])"
   ]
  },
  {
   "cell_type": "markdown",
   "id": "02ec2fb5",
   "metadata": {},
   "source": [
    "----\n",
    "### 2.\n",
    "####  The function add-list returns the sum of all the elements of its input list, or 0 if its empty. Assume that all the elements in the input list are numbers"
   ]
  },
  {
   "cell_type": "code",
   "execution_count": 23,
   "id": "de91b457",
   "metadata": {},
   "outputs": [],
   "source": [
    "def add_list(fn, l):\n",
    "    result = l[0]\n",
    "    for e in l[1:]:\n",
    "        result = fn(result, e)\n",
    "    return result"
   ]
  },
  {
   "cell_type": "code",
   "execution_count": 24,
   "id": "84fe7fc6",
   "metadata": {},
   "outputs": [
    {
     "data": {
      "text/plain": [
       "15"
      ]
     },
     "execution_count": 24,
     "metadata": {},
     "output_type": "execute_result"
    }
   ],
   "source": [
    "_reduce = lambda a,b: a+b\n",
    "add_list(_reduce,[1,2,3,4,5])"
   ]
  },
  {
   "cell_type": "code",
   "execution_count": 5,
   "id": "3a59ad14",
   "metadata": {},
   "outputs": [],
   "source": [
    "def add_list(l):\n",
    "    if not l:\n",
    "        return 0\n",
    "    return l[0] + add_list(l[1:])"
   ]
  },
  {
   "cell_type": "code",
   "execution_count": 6,
   "id": "ce122f72",
   "metadata": {},
   "outputs": [
    {
     "data": {
      "text/plain": [
       "20"
      ]
     },
     "execution_count": 6,
     "metadata": {},
     "output_type": "execute_result"
    }
   ],
   "source": [
    "add_list([5,5,5,5])"
   ]
  },
  {
   "cell_type": "markdown",
   "id": "469265c5",
   "metadata": {},
   "source": [
    "-----\n",
    "### 3.\n",
    "#### The function ****member?**** takes two arguments, any data x and a list lst. Returns true if x is contained inside the list lst, false otherwise. "
   ]
  },
  {
   "cell_type": "code",
   "execution_count": 53,
   "id": "b57ad09b",
   "metadata": {},
   "outputs": [],
   "source": [
    "def is_member(fn,x,l):\n",
    "    is_contain = False\n",
    "    for e in l:\n",
    "        is_contain = fn(e,x)\n",
    "        if is_contain:\n",
    "            return is_contain\n",
    "    return is_contain"
   ]
  },
  {
   "cell_type": "code",
   "execution_count": 55,
   "id": "53408e5b",
   "metadata": {},
   "outputs": [
    {
     "data": {
      "text/plain": [
       "False"
      ]
     },
     "execution_count": 55,
     "metadata": {},
     "output_type": "execute_result"
    }
   ],
   "source": [
    "_member = lambda e,x: e == x\n",
    "is_member(_member, 'a', ['d', 'g', 'h'])"
   ]
  },
  {
   "cell_type": "code",
   "execution_count": 7,
   "id": "f6b777e4",
   "metadata": {},
   "outputs": [],
   "source": [
    "def is_member(x,l):\n",
    "    if not l:\n",
    "        return False\n",
    "    if x == l[0]:\n",
    "        return True\n",
    "    return is_member(x,l[1:])"
   ]
  },
  {
   "cell_type": "code",
   "execution_count": 20,
   "id": "f6223cac",
   "metadata": {},
   "outputs": [
    {
     "data": {
      "text/plain": [
       "False"
      ]
     },
     "execution_count": 20,
     "metadata": {},
     "output_type": "execute_result"
    }
   ],
   "source": [
    "is_member('a', ['b'])"
   ]
  },
  {
   "cell_type": "markdown",
   "id": "628b8942",
   "metadata": {},
   "source": [
    "----\n",
    "### 4.\n",
    "####  The function list-of-symbols? takes a list lst as its argument. It returns true if all the elements (possibly zero) contained in lst are symbols, or false otherwise."
   ]
  },
  {
   "cell_type": "code",
   "execution_count": 15,
   "id": "2ed88e76",
   "metadata": {},
   "outputs": [],
   "source": [
    "import string"
   ]
  },
  {
   "cell_type": "code",
   "execution_count": 94,
   "id": "2f5fc1a1",
   "metadata": {},
   "outputs": [],
   "source": [
    "def list_symbols(fn,l):\n",
    "    is_letter = False\n",
    "    for e in l:\n",
    "        is_letter = fn(e)\n",
    "    return is_letter"
   ]
  },
  {
   "cell_type": "code",
   "execution_count": 97,
   "id": "5d18c0c8",
   "metadata": {},
   "outputs": [
    {
     "data": {
      "text/plain": [
       "True"
      ]
     },
     "execution_count": 97,
     "metadata": {},
     "output_type": "execute_result"
    }
   ],
   "source": [
    "_symbols = lambda e: True if str(e) in string.ascii_letters else False\n",
    "list_symbols(_symbols,['a', 'B', 2, 'z'])"
   ]
  },
  {
   "cell_type": "code",
   "execution_count": 88,
   "id": "ecb29821",
   "metadata": {},
   "outputs": [],
   "source": [
    "def list_symbols(l, is_symbol=True):\n",
    "    if not l:\n",
    "        return is_symbol\n",
    "    if str(l[0]) in string.ascii_letters:\n",
    "        is_symbol = True\n",
    "    else:\n",
    "        is_symbol = False\n",
    "        return is_symbol\n",
    "    return list_symbols(l[1:], is_symbol)"
   ]
  },
  {
   "cell_type": "code",
   "execution_count": 89,
   "id": "505489ce",
   "metadata": {},
   "outputs": [
    {
     "data": {
      "text/plain": [
       "True"
      ]
     },
     "execution_count": 89,
     "metadata": {},
     "output_type": "execute_result"
    }
   ],
   "source": [
    "list_symbols(['a','b'])"
   ]
  },
  {
   "cell_type": "code",
   "execution_count": 90,
   "id": "d0017928",
   "metadata": {},
   "outputs": [
    {
     "data": {
      "text/plain": [
       "True"
      ]
     },
     "execution_count": 90,
     "metadata": {},
     "output_type": "execute_result"
    }
   ],
   "source": [
    "list_symbols([])"
   ]
  },
  {
   "cell_type": "code",
   "execution_count": 91,
   "id": "9764a4bc",
   "metadata": {},
   "outputs": [
    {
     "data": {
      "text/plain": [
       "False"
      ]
     },
     "execution_count": 91,
     "metadata": {},
     "output_type": "execute_result"
    }
   ],
   "source": [
    "list_symbols([1,2,3])"
   ]
  },
  {
   "cell_type": "code",
   "execution_count": 92,
   "id": "85c1da0c",
   "metadata": {},
   "outputs": [
    {
     "data": {
      "text/plain": [
       "False"
      ]
     },
     "execution_count": 92,
     "metadata": {},
     "output_type": "execute_result"
    }
   ],
   "source": [
    "list_symbols([1,'v',3])"
   ]
  },
  {
   "cell_type": "markdown",
   "id": "59ad61f6",
   "metadata": {},
   "source": [
    "----\n",
    "### 5.\n",
    "#### The function my-last returns the last element of its input list, or nil of its empty. Do not use the predefined last function. "
   ]
  },
  {
   "cell_type": "code",
   "execution_count": 100,
   "id": "d7e2225b",
   "metadata": {},
   "outputs": [],
   "source": [
    "def my_last(l):\n",
    "    if not l:\n",
    "        return []\n",
    "    if len(l) == 1:\n",
    "        return l[0]\n",
    "    return my_last(l[1:])"
   ]
  },
  {
   "cell_type": "code",
   "execution_count": 101,
   "id": "ffd24509",
   "metadata": {},
   "outputs": [
    {
     "data": {
      "text/plain": [
       "[]"
      ]
     },
     "execution_count": 101,
     "metadata": {},
     "output_type": "execute_result"
    }
   ],
   "source": [
    "my_last([])"
   ]
  },
  {
   "cell_type": "code",
   "execution_count": 102,
   "id": "a51a14fb",
   "metadata": {},
   "outputs": [
    {
     "data": {
      "text/plain": [
       "4"
      ]
     },
     "execution_count": 102,
     "metadata": {},
     "output_type": "execute_result"
    }
   ],
   "source": [
    "my_last([1,2,3,4])"
   ]
  },
  {
   "cell_type": "code",
   "execution_count": 103,
   "id": "84e5a074",
   "metadata": {},
   "outputs": [
    {
     "data": {
      "text/plain": [
       "'a'"
      ]
     },
     "execution_count": 103,
     "metadata": {},
     "output_type": "execute_result"
    }
   ],
   "source": [
    "my_last(['a'])"
   ]
  },
  {
   "cell_type": "code",
   "execution_count": 104,
   "id": "dffaa710",
   "metadata": {},
   "outputs": [
    {
     "data": {
      "text/plain": [
       "'d'"
      ]
     },
     "execution_count": 104,
     "metadata": {},
     "output_type": "execute_result"
    }
   ],
   "source": [
    "my_last(['a', 'b', 'z', 'd'])"
   ]
  },
  {
   "cell_type": "markdown",
   "id": "8f9f8201",
   "metadata": {},
   "source": [
    "----\n",
    "### 6.\n",
    "#### The function cons-end takes two arguments, any data x and a list lst. Returns a list composed by the same elements of lst but with x at the end"
   ]
  },
  {
   "cell_type": "code",
   "execution_count": 121,
   "id": "9b655536",
   "metadata": {},
   "outputs": [],
   "source": [
    "def cons_end(l, x):\n",
    "    if not l:\n",
    "        return [x]\n",
    "    return [l[0]] + cons_end(l[1:], x)"
   ]
  },
  {
   "cell_type": "code",
   "execution_count": 122,
   "id": "db803b0b",
   "metadata": {},
   "outputs": [
    {
     "data": {
      "text/plain": [
       "['a', 'x']"
      ]
     },
     "execution_count": 122,
     "metadata": {},
     "output_type": "execute_result"
    }
   ],
   "source": [
    "cons_end(['a'], 'x')"
   ]
  },
  {
   "cell_type": "code",
   "execution_count": 123,
   "id": "da84b94f",
   "metadata": {},
   "outputs": [
    {
     "data": {
      "text/plain": [
       "[1, 2, 3, 4, 5, 'x']"
      ]
     },
     "execution_count": 123,
     "metadata": {},
     "output_type": "execute_result"
    }
   ],
   "source": [
    "cons_end([1,2,3,4,5], 'x')"
   ]
  },
  {
   "cell_type": "markdown",
   "id": "6d4caad0",
   "metadata": {},
   "source": [
    "-----\n",
    "### 7.\n",
    "#### The function my-butlast returns a list with the same elements as its input list but excluding the last element, or nil of its empty. Do not use the predefined butlast function."
   ]
  },
  {
   "cell_type": "code",
   "execution_count": 154,
   "id": "03bce24d",
   "metadata": {},
   "outputs": [],
   "source": [
    "def my_butlast(l):\n",
    "    if len(l) == 1 or not l:\n",
    "        return []\n",
    "    return [l[0]] + my_butlast(l[1:])"
   ]
  },
  {
   "cell_type": "code",
   "execution_count": 159,
   "id": "c3aa93bb",
   "metadata": {},
   "outputs": [
    {
     "data": {
      "text/plain": [
       "[1]"
      ]
     },
     "execution_count": 159,
     "metadata": {},
     "output_type": "execute_result"
    }
   ],
   "source": [
    "my_butlast([1,2])"
   ]
  },
  {
   "cell_type": "code",
   "execution_count": 160,
   "id": "ca2e2d71",
   "metadata": {},
   "outputs": [
    {
     "data": {
      "text/plain": [
       "[]"
      ]
     },
     "execution_count": 160,
     "metadata": {},
     "output_type": "execute_result"
    }
   ],
   "source": [
    "my_butlast([])"
   ]
  },
  {
   "cell_type": "code",
   "execution_count": 166,
   "id": "28887703",
   "metadata": {},
   "outputs": [
    {
     "data": {
      "text/plain": [
       "['m', 'a', 'n', 'u', ['u']]"
      ]
     },
     "execution_count": 166,
     "metadata": {},
     "output_type": "execute_result"
    }
   ],
   "source": [
    "my_butlast(['m','a','n','u', ['u'], 'e'])"
   ]
  },
  {
   "cell_type": "markdown",
   "id": "b0bf4c0c",
   "metadata": {},
   "source": [
    "-----\n",
    "### 8.\n",
    "#### The function my-concat returns the resulting list of appending the two lists it takes as input. Do not use the predefined concat function."
   ]
  },
  {
   "cell_type": "code",
   "execution_count": 180,
   "id": "33dd0db9",
   "metadata": {},
   "outputs": [],
   "source": [
    "def my_concat(l1,l2):\n",
    "    if not l2 or not l1:\n",
    "        return []\n",
    "    if l1:\n",
    "        return my_concat(l1[1:], l2)"
   ]
  },
  {
   "cell_type": "code",
   "execution_count": null,
   "id": "c4c83748",
   "metadata": {},
   "outputs": [],
   "source": []
  },
  {
   "cell_type": "code",
   "execution_count": null,
   "id": "ca35ec6f",
   "metadata": {},
   "outputs": [],
   "source": []
  },
  {
   "cell_type": "code",
   "execution_count": null,
   "id": "f6bf26a4",
   "metadata": {},
   "outputs": [],
   "source": []
  }
 ],
 "metadata": {
  "kernelspec": {
   "display_name": "Python 3",
   "language": "python",
   "name": "python3"
  },
  "language_info": {
   "codemirror_mode": {
    "name": "ipython",
    "version": 3
   },
   "file_extension": ".py",
   "mimetype": "text/x-python",
   "name": "python",
   "nbconvert_exporter": "python",
   "pygments_lexer": "ipython3",
   "version": "3.9.7"
  }
 },
 "nbformat": 4,
 "nbformat_minor": 5
}
