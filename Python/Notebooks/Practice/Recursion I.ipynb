{
 "cells": [
  {
   "cell_type": "markdown",
   "id": "04dd4975",
   "metadata": {},
   "source": [
    "----\n",
    "### 1.\n",
    "#### The function my-count returns the number of elements contained in its input list. Do not use the predefined count function. "
   ]
  },
  {
   "cell_type": "code",
   "execution_count": 33,
   "id": "4d26ae09",
   "metadata": {},
   "outputs": [],
   "source": [
    "def my_count(fn,l, c=0):\n",
    "    counter = c\n",
    "    for e in l:\n",
    "        counter = fn(counter)\n",
    "    return counter"
   ]
  },
  {
   "cell_type": "code",
   "execution_count": 34,
   "id": "20e5d871",
   "metadata": {},
   "outputs": [
    {
     "data": {
      "text/plain": [
       "5"
      ]
     },
     "execution_count": 34,
     "metadata": {},
     "output_type": "execute_result"
    }
   ],
   "source": [
    "_counter = lambda c: c+1\n",
    "my_count(_counter,[1,2,3,4,5])"
   ]
  },
  {
   "cell_type": "markdown",
   "id": "02ec2fb5",
   "metadata": {},
   "source": [
    "----\n",
    "### 2.\n",
    "####  The function add-list returns the sum of all the elements of its input list, or 0 if its empty. Assume that all the elements in the input list are numbers"
   ]
  },
  {
   "cell_type": "code",
   "execution_count": 23,
   "id": "de91b457",
   "metadata": {},
   "outputs": [],
   "source": [
    "def add_list(fn, l):\n",
    "    result = l[0]\n",
    "    for e in l[1:]:\n",
    "        result = fn(result, e)\n",
    "    return result"
   ]
  },
  {
   "cell_type": "code",
   "execution_count": 24,
   "id": "84fe7fc6",
   "metadata": {},
   "outputs": [
    {
     "data": {
      "text/plain": [
       "15"
      ]
     },
     "execution_count": 24,
     "metadata": {},
     "output_type": "execute_result"
    }
   ],
   "source": [
    "_reduce = lambda a,b: a+b\n",
    "add_list(_reduce,[1,2,3,4,5])"
   ]
  },
  {
   "cell_type": "markdown",
   "id": "469265c5",
   "metadata": {},
   "source": [
    "-----\n",
    "### 3.\n",
    "#### The function ****member?**** takes two arguments, any data x and a list lst. Returns true if x is contained inside the list lst, false otherwise. "
   ]
  },
  {
   "cell_type": "code",
   "execution_count": 53,
   "id": "b57ad09b",
   "metadata": {},
   "outputs": [],
   "source": [
    "def is_member(fn,x,l):\n",
    "    is_contain = False\n",
    "    for e in l:\n",
    "        is_contain = fn(e,x)\n",
    "        if is_contain:\n",
    "            return is_contain\n",
    "    return is_contain"
   ]
  },
  {
   "cell_type": "code",
   "execution_count": 55,
   "id": "53408e5b",
   "metadata": {},
   "outputs": [
    {
     "data": {
      "text/plain": [
       "False"
      ]
     },
     "execution_count": 55,
     "metadata": {},
     "output_type": "execute_result"
    }
   ],
   "source": [
    "_member = lambda e,x: e == x\n",
    "is_member(_member, 'a', ['d', 'g', 'h'])"
   ]
  },
  {
   "cell_type": "markdown",
   "id": "628b8942",
   "metadata": {},
   "source": [
    "----\n",
    "### 4.\n",
    "####  The function list-of-symbols? takes a list lst as its argument. It returns true if all the elements (possibly zero) contained in lst are symbols, or false otherwise."
   ]
  },
  {
   "cell_type": "code",
   "execution_count": 59,
   "id": "2ed88e76",
   "metadata": {},
   "outputs": [],
   "source": [
    "import string"
   ]
  },
  {
   "cell_type": "code",
   "execution_count": 60,
   "id": "2f5fc1a1",
   "metadata": {},
   "outputs": [],
   "source": [
    "def list_symbols(fn,l):\n",
    "    is_letter = False\n",
    "    for e in l:\n",
    "        is_letter = fn(e)\n",
    "    return is_letter"
   ]
  },
  {
   "cell_type": "code",
   "execution_count": 83,
   "id": "5d18c0c8",
   "metadata": {},
   "outputs": [
    {
     "ename": "TypeError",
     "evalue": "'in <string>' requires string as left operand, not int",
     "output_type": "error",
     "traceback": [
      "\u001b[0;31m---------------------------------------------------------------------------\u001b[0m",
      "\u001b[0;31mTypeError\u001b[0m                                 Traceback (most recent call last)",
      "\u001b[0;32m<ipython-input-83-55b7b3966699>\u001b[0m in \u001b[0;36m<module>\u001b[0;34m\u001b[0m\n\u001b[1;32m      1\u001b[0m \u001b[0m_symbols\u001b[0m \u001b[0;34m=\u001b[0m \u001b[0;32mlambda\u001b[0m \u001b[0me\u001b[0m\u001b[0;34m:\u001b[0m \u001b[0;32mFalse\u001b[0m \u001b[0;32mif\u001b[0m \u001b[0me\u001b[0m \u001b[0;32mis\u001b[0m \u001b[0mint\u001b[0m \u001b[0;32melse\u001b[0m \u001b[0me\u001b[0m \u001b[0;32min\u001b[0m \u001b[0mstring\u001b[0m\u001b[0;34m.\u001b[0m\u001b[0mascii_letters\u001b[0m\u001b[0;34m\u001b[0m\u001b[0;34m\u001b[0m\u001b[0m\n\u001b[0;32m----> 2\u001b[0;31m \u001b[0mlist_symbols\u001b[0m\u001b[0;34m(\u001b[0m\u001b[0m_symbols\u001b[0m\u001b[0;34m,\u001b[0m\u001b[0;34m[\u001b[0m\u001b[0;34m'a'\u001b[0m\u001b[0;34m,\u001b[0m \u001b[0;34m'B'\u001b[0m\u001b[0;34m,\u001b[0m \u001b[0;36m2\u001b[0m\u001b[0;34m,\u001b[0m \u001b[0;34m'z'\u001b[0m\u001b[0;34m]\u001b[0m\u001b[0;34m)\u001b[0m\u001b[0;34m\u001b[0m\u001b[0;34m\u001b[0m\u001b[0m\n\u001b[0m",
      "\u001b[0;32m<ipython-input-60-8c2da0134b51>\u001b[0m in \u001b[0;36mlist_symbols\u001b[0;34m(fn, l)\u001b[0m\n\u001b[1;32m      2\u001b[0m     \u001b[0mis_letter\u001b[0m \u001b[0;34m=\u001b[0m \u001b[0;32mFalse\u001b[0m\u001b[0;34m\u001b[0m\u001b[0;34m\u001b[0m\u001b[0m\n\u001b[1;32m      3\u001b[0m     \u001b[0;32mfor\u001b[0m \u001b[0me\u001b[0m \u001b[0;32min\u001b[0m \u001b[0ml\u001b[0m\u001b[0;34m:\u001b[0m\u001b[0;34m\u001b[0m\u001b[0;34m\u001b[0m\u001b[0m\n\u001b[0;32m----> 4\u001b[0;31m         \u001b[0mis_letter\u001b[0m \u001b[0;34m=\u001b[0m \u001b[0mfn\u001b[0m\u001b[0;34m(\u001b[0m\u001b[0me\u001b[0m\u001b[0;34m)\u001b[0m\u001b[0;34m\u001b[0m\u001b[0;34m\u001b[0m\u001b[0m\n\u001b[0m\u001b[1;32m      5\u001b[0m     \u001b[0;32mreturn\u001b[0m \u001b[0mis_letter\u001b[0m\u001b[0;34m\u001b[0m\u001b[0;34m\u001b[0m\u001b[0m\n",
      "\u001b[0;32m<ipython-input-83-55b7b3966699>\u001b[0m in \u001b[0;36m<lambda>\u001b[0;34m(e)\u001b[0m\n\u001b[0;32m----> 1\u001b[0;31m \u001b[0m_symbols\u001b[0m \u001b[0;34m=\u001b[0m \u001b[0;32mlambda\u001b[0m \u001b[0me\u001b[0m\u001b[0;34m:\u001b[0m \u001b[0;32mFalse\u001b[0m \u001b[0;32mif\u001b[0m \u001b[0me\u001b[0m \u001b[0;32mis\u001b[0m \u001b[0mint\u001b[0m \u001b[0;32melse\u001b[0m \u001b[0me\u001b[0m \u001b[0;32min\u001b[0m \u001b[0mstring\u001b[0m\u001b[0;34m.\u001b[0m\u001b[0mascii_letters\u001b[0m\u001b[0;34m\u001b[0m\u001b[0;34m\u001b[0m\u001b[0m\n\u001b[0m\u001b[1;32m      2\u001b[0m \u001b[0mlist_symbols\u001b[0m\u001b[0;34m(\u001b[0m\u001b[0m_symbols\u001b[0m\u001b[0;34m,\u001b[0m\u001b[0;34m[\u001b[0m\u001b[0;34m'a'\u001b[0m\u001b[0;34m,\u001b[0m \u001b[0;34m'B'\u001b[0m\u001b[0;34m,\u001b[0m \u001b[0;36m2\u001b[0m\u001b[0;34m,\u001b[0m \u001b[0;34m'z'\u001b[0m\u001b[0;34m]\u001b[0m\u001b[0;34m)\u001b[0m\u001b[0;34m\u001b[0m\u001b[0;34m\u001b[0m\u001b[0m\n",
      "\u001b[0;31mTypeError\u001b[0m: 'in <string>' requires string as left operand, not int"
     ]
    }
   ],
   "source": [
    "_symbols = lambda e: False if e is int else e in string.ascii_letters\n",
    "list_symbols(_symbols,['a', 'B', 2, 'z'])"
   ]
  },
  {
   "cell_type": "code",
   "execution_count": null,
   "id": "ecb29821",
   "metadata": {},
   "outputs": [],
   "source": []
  },
  {
   "cell_type": "code",
   "execution_count": null,
   "id": "505489ce",
   "metadata": {},
   "outputs": [],
   "source": []
  }
 ],
 "metadata": {
  "kernelspec": {
   "display_name": "Python 3",
   "language": "python",
   "name": "python3"
  },
  "language_info": {
   "codemirror_mode": {
    "name": "ipython",
    "version": 3
   },
   "file_extension": ".py",
   "mimetype": "text/x-python",
   "name": "python",
   "nbconvert_exporter": "python",
   "pygments_lexer": "ipython3",
   "version": "3.9.7"
  }
 },
 "nbformat": 4,
 "nbformat_minor": 5
}
