{
 "cells": [
  {
   "cell_type": "markdown",
   "id": "b09a2480",
   "metadata": {},
   "source": [
    "You are given a space separated list of integers. If all the integers are positive, then you need to check if any integer is a palindromic integer."
   ]
  },
  {
   "cell_type": "code",
   "execution_count": 93,
   "id": "bd7c5d95",
   "metadata": {},
   "outputs": [],
   "source": [
    "n = 5\n",
    "l = [12,29,-61,55,14]"
   ]
  },
  {
   "cell_type": "code",
   "execution_count": 94,
   "id": "46a293f1",
   "metadata": {},
   "outputs": [
    {
     "data": {
      "text/plain": [
       "False"
      ]
     },
     "execution_count": 94,
     "metadata": {},
     "output_type": "execute_result"
    }
   ],
   "source": [
    "all(map(lambda el: False if el<0 else True ,l)) and any(map(lambda el: str(el)[::-1] == str(el), l)) "
   ]
  },
  {
   "cell_type": "code",
   "execution_count": null,
   "id": "ba1a6141",
   "metadata": {},
   "outputs": [],
   "source": []
  },
  {
   "cell_type": "code",
   "execution_count": null,
   "id": "0eda7125",
   "metadata": {},
   "outputs": [],
   "source": []
  },
  {
   "cell_type": "code",
   "execution_count": null,
   "id": "4612e81e",
   "metadata": {},
   "outputs": [],
   "source": []
  },
  {
   "cell_type": "code",
   "execution_count": null,
   "id": "3898727c",
   "metadata": {},
   "outputs": [],
   "source": []
  },
  {
   "cell_type": "code",
   "execution_count": null,
   "id": "c8704c9e",
   "metadata": {},
   "outputs": [],
   "source": []
  }
 ],
 "metadata": {
  "kernelspec": {
   "display_name": "Python 3",
   "language": "python",
   "name": "python3"
  },
  "language_info": {
   "codemirror_mode": {
    "name": "ipython",
    "version": 3
   },
   "file_extension": ".py",
   "mimetype": "text/x-python",
   "name": "python",
   "nbconvert_exporter": "python",
   "pygments_lexer": "ipython3",
   "version": "3.9.7"
  }
 },
 "nbformat": 4,
 "nbformat_minor": 5
}
