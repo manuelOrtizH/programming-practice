{
 "cells": [
  {
   "cell_type": "markdown",
   "id": "5e89827c",
   "metadata": {},
   "source": [
    "You are given an integer  followed by  email addresses. Your task is to print a list containing only valid email addresses in lexicographical order.\n",
    "\n",
    "\n",
    "Valid email addresses must follow these rules:\n",
    "\n",
    "- It must have the username@websitename.extension format type.\n",
    "- The username can only contain letters, digits, dashes and underscores [a - z], [A - Z], [0 - 9], [_ - ].\n",
    "- The website name can only have letters and digits [a - z], [A - Z], [0 - 9].\n",
    "- The extension can only contain letters [a - z], [A - Z].\n",
    "- The maximum length of the extension is 3."
   ]
  },
  {
   "cell_type": "code",
   "execution_count": 354,
   "id": "cf2ef350",
   "metadata": {},
   "outputs": [],
   "source": [
    "import re"
   ]
  },
  {
   "cell_type": "code",
   "execution_count": 458,
   "id": "f2fa37e4",
   "metadata": {},
   "outputs": [
    {
     "data": {
      "text/plain": [
       "['lara@hackerrank\\\\.com',\n",
       " 'brian-23@hackerrank.com',\n",
       " 'britts_54@hackerrank.com']"
      ]
     },
     "execution_count": 458,
     "metadata": {},
     "output_type": "execute_result"
    }
   ],
   "source": [
    "a = 'lara@hackerrank.com'\n",
    "b = 'brian-23@hackerrank.com'\n",
    "c = 'britts_54@hackerrank.com'\n",
    "\n",
    "emails = [a,b,c]\n",
    "emails"
   ]
  },
  {
   "cell_type": "code",
   "execution_count": 486,
   "id": "b480e32b",
   "metadata": {},
   "outputs": [],
   "source": [
    "email = re.compile(r'\\b[a-zA-Z0-9_-]+@[a-zA-Z0-9]+\\.[a-zA-Z]{3}\\b')"
   ]
  },
  {
   "cell_type": "code",
   "execution_count": 487,
   "id": "5ccbfa5f",
   "metadata": {},
   "outputs": [],
   "source": [
    "filtered_sorted_emails = sorted(list(filter(lambda e: email.match(e), emails)))"
   ]
  },
  {
   "cell_type": "code",
   "execution_count": 488,
   "id": "cb109e22",
   "metadata": {},
   "outputs": [
    {
     "data": {
      "text/plain": [
       "['brian-23@hackerrank.com', 'britts_54@hackerrank.com']"
      ]
     },
     "execution_count": 488,
     "metadata": {},
     "output_type": "execute_result"
    }
   ],
   "source": [
    "filtered_sorted_emails"
   ]
  },
  {
   "cell_type": "code",
   "execution_count": null,
   "id": "43e3313e",
   "metadata": {},
   "outputs": [],
   "source": []
  },
  {
   "cell_type": "code",
   "execution_count": null,
   "id": "8b3f0cce",
   "metadata": {},
   "outputs": [],
   "source": []
  },
  {
   "cell_type": "code",
   "execution_count": null,
   "id": "05f510ec",
   "metadata": {},
   "outputs": [],
   "source": []
  },
  {
   "cell_type": "code",
   "execution_count": null,
   "id": "7d90c441",
   "metadata": {},
   "outputs": [],
   "source": []
  },
  {
   "cell_type": "code",
   "execution_count": null,
   "id": "1be43fca",
   "metadata": {},
   "outputs": [],
   "source": []
  },
  {
   "cell_type": "code",
   "execution_count": null,
   "id": "4a1445c9",
   "metadata": {},
   "outputs": [],
   "source": []
  }
 ],
 "metadata": {
  "kernelspec": {
   "display_name": "Python 3",
   "language": "python",
   "name": "python3"
  },
  "language_info": {
   "codemirror_mode": {
    "name": "ipython",
    "version": 3
   },
   "file_extension": ".py",
   "mimetype": "text/x-python",
   "name": "python",
   "nbconvert_exporter": "python",
   "pygments_lexer": "ipython3",
   "version": "3.9.7"
  }
 },
 "nbformat": 4,
 "nbformat_minor": 5
}
