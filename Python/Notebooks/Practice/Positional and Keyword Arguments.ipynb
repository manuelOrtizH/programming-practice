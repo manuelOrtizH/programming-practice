{
 "cells": [
  {
   "cell_type": "markdown",
   "id": "962306bd",
   "metadata": {},
   "source": [
    "## Only Positional arguments"
   ]
  },
  {
   "cell_type": "code",
   "execution_count": 1,
   "id": "75919b59",
   "metadata": {},
   "outputs": [],
   "source": [
    "def ex1(a,b,c):\n",
    "    print(f'a={a}, b={b}, c={c}')"
   ]
  },
  {
   "cell_type": "code",
   "execution_count": 2,
   "id": "3cb10a82",
   "metadata": {},
   "outputs": [
    {
     "name": "stdout",
     "output_type": "stream",
     "text": [
      "a=10, b=20, c=30\n"
     ]
    }
   ],
   "source": [
    "ex1(10,20,30)"
   ]
  },
  {
   "cell_type": "markdown",
   "id": "09fa7e25",
   "metadata": {},
   "source": [
    "We can unpack with positional arguments"
   ]
  },
  {
   "cell_type": "code",
   "execution_count": 3,
   "id": "a6463b45",
   "metadata": {},
   "outputs": [
    {
     "name": "stdout",
     "output_type": "stream",
     "text": [
      "a=1, b=2, c=(3, 4)\n"
     ]
    }
   ],
   "source": [
    "list = [1,2,(3,4)]\n",
    "ex1(*list)"
   ]
  },
  {
   "cell_type": "code",
   "execution_count": 14,
   "id": "938c9f72",
   "metadata": {},
   "outputs": [],
   "source": [
    "def ex2(*args):\n",
    "    print(f'args={args}')"
   ]
  },
  {
   "cell_type": "code",
   "execution_count": 15,
   "id": "eac27235",
   "metadata": {},
   "outputs": [
    {
     "name": "stdout",
     "output_type": "stream",
     "text": [
      "args=(1, 2, 3, 4, 5, 5, 6, 7, 8)\n"
     ]
    }
   ],
   "source": [
    "ex2(1,2,3,4,5,5,6,7,8)"
   ]
  },
  {
   "cell_type": "markdown",
   "id": "1ed9f259",
   "metadata": {},
   "source": [
    "Having a dictionary and unpacking only its keywords, we will get it as string argument, not as keywords"
   ]
  },
  {
   "cell_type": "code",
   "execution_count": 19,
   "id": "1b270613",
   "metadata": {
    "scrolled": true
   },
   "outputs": [
    {
     "name": "stdout",
     "output_type": "stream",
     "text": [
      "args=(1, 2, 3, 4, 5, 'k1', 'k2')\n"
     ]
    }
   ],
   "source": [
    "l = [1,2,3,4,5]\n",
    "d = {'k1': 1, 'k2': 2}\n",
    "\n",
    "ex2(*l,*d)"
   ]
  },
  {
   "cell_type": "markdown",
   "id": "a37f3848",
   "metadata": {},
   "source": [
    "But, when we deal with the entire dictionary, Python will read it as keyword arguments"
   ]
  },
  {
   "cell_type": "code",
   "execution_count": 20,
   "id": "5a14a325",
   "metadata": {},
   "outputs": [
    {
     "ename": "TypeError",
     "evalue": "ex2() got an unexpected keyword argument 'k1'",
     "output_type": "error",
     "traceback": [
      "\u001b[0;31m---------------------------------------------------------------------------\u001b[0m",
      "\u001b[0;31mTypeError\u001b[0m                                 Traceback (most recent call last)",
      "\u001b[0;32m<ipython-input-20-aa1244d3438b>\u001b[0m in \u001b[0;36m<module>\u001b[0;34m\u001b[0m\n\u001b[1;32m      2\u001b[0m \u001b[0md\u001b[0m \u001b[0;34m=\u001b[0m \u001b[0;34m{\u001b[0m\u001b[0;34m'k1'\u001b[0m\u001b[0;34m:\u001b[0m \u001b[0;36m1\u001b[0m\u001b[0;34m,\u001b[0m \u001b[0;34m'k2'\u001b[0m\u001b[0;34m:\u001b[0m \u001b[0;36m2\u001b[0m\u001b[0;34m}\u001b[0m\u001b[0;34m\u001b[0m\u001b[0;34m\u001b[0m\u001b[0m\n\u001b[1;32m      3\u001b[0m \u001b[0;34m\u001b[0m\u001b[0m\n\u001b[0;32m----> 4\u001b[0;31m \u001b[0mex2\u001b[0m\u001b[0;34m(\u001b[0m\u001b[0;34m*\u001b[0m\u001b[0ml\u001b[0m\u001b[0;34m,\u001b[0m\u001b[0;34m**\u001b[0m\u001b[0md\u001b[0m\u001b[0;34m)\u001b[0m\u001b[0;34m\u001b[0m\u001b[0;34m\u001b[0m\u001b[0m\n\u001b[0m",
      "\u001b[0;31mTypeError\u001b[0m: ex2() got an unexpected keyword argument 'k1'"
     ]
    }
   ],
   "source": [
    "l = [1,2,3,4,5]\n",
    "d = {'k1': 1, 'k2': 2}\n",
    "\n",
    "ex2(*l,**d)"
   ]
  },
  {
   "cell_type": "markdown",
   "id": "73054b3f",
   "metadata": {},
   "source": [
    "## Only keyword arguments"
   ]
  },
  {
   "cell_type": "code",
   "execution_count": 21,
   "id": "797921b3",
   "metadata": {},
   "outputs": [],
   "source": [
    "def ex3(a,b,c):\n",
    "    print(f'a={a}, b={b}, c={c}')"
   ]
  },
  {
   "cell_type": "code",
   "execution_count": 22,
   "id": "cc711dbb",
   "metadata": {},
   "outputs": [
    {
     "name": "stdout",
     "output_type": "stream",
     "text": [
      "a=1, b=2, c=3\n"
     ]
    }
   ],
   "source": [
    "ex3(1,2,3)"
   ]
  },
  {
   "cell_type": "code",
   "execution_count": 24,
   "id": "63d00baf",
   "metadata": {},
   "outputs": [
    {
     "name": "stdout",
     "output_type": "stream",
     "text": [
      "a=10, b=20, c=30\n"
     ]
    }
   ],
   "source": [
    "ex3(10,20,c=30)"
   ]
  },
  {
   "cell_type": "markdown",
   "id": "c30ebcab",
   "metadata": {},
   "source": [
    "When we deal with keyword arguments, when we define a keyword argument, is necessary to define the rest with the same structure, with a keyword,"
   ]
  },
  {
   "cell_type": "code",
   "execution_count": 25,
   "id": "561fc742",
   "metadata": {},
   "outputs": [
    {
     "ename": "SyntaxError",
     "evalue": "positional argument follows keyword argument (<ipython-input-25-054b30b645a0>, line 1)",
     "output_type": "error",
     "traceback": [
      "\u001b[0;36m  File \u001b[0;32m\"<ipython-input-25-054b30b645a0>\"\u001b[0;36m, line \u001b[0;32m1\u001b[0m\n\u001b[0;31m    ex3(a=2,32,4)\u001b[0m\n\u001b[0m                ^\u001b[0m\n\u001b[0;31mSyntaxError\u001b[0m\u001b[0;31m:\u001b[0m positional argument follows keyword argument\n"
     ]
    }
   ],
   "source": [
    "ex3(a=2,32,4)"
   ]
  },
  {
   "cell_type": "code",
   "execution_count": 26,
   "id": "b861e94e",
   "metadata": {},
   "outputs": [
    {
     "name": "stdout",
     "output_type": "stream",
     "text": [
      "a=2, b=2, c=3\n"
     ]
    }
   ],
   "source": [
    "ex3(a=2,b=2,c=3)"
   ]
  },
  {
   "cell_type": "code",
   "execution_count": 28,
   "id": "52e5b13f",
   "metadata": {},
   "outputs": [
    {
     "name": "stdout",
     "output_type": "stream",
     "text": [
      "a=10, b=2, c=1\n"
     ]
    }
   ],
   "source": [
    "ex3(b=2,c=1,a=10)"
   ]
  },
  {
   "cell_type": "markdown",
   "id": "fbe540cb",
   "metadata": {},
   "source": [
    "In this case below, we have keyweords in the parameters, even so, they only serve as a default value"
   ]
  },
  {
   "cell_type": "code",
   "execution_count": 29,
   "id": "c72e86dd",
   "metadata": {},
   "outputs": [],
   "source": [
    "def ex4(a=10,b=10,c=20):\n",
    "    print(f'a={a}, b={b}, c={c}')"
   ]
  },
  {
   "cell_type": "code",
   "execution_count": 30,
   "id": "fc5583c9",
   "metadata": {},
   "outputs": [
    {
     "name": "stdout",
     "output_type": "stream",
     "text": [
      "a=10, b=10, c=20\n"
     ]
    }
   ],
   "source": [
    "ex4()"
   ]
  },
  {
   "cell_type": "markdown",
   "id": "24cf7f60",
   "metadata": {},
   "source": [
    "Still, we have to use keyword argument in the moment we define one argument with a keyword"
   ]
  },
  {
   "cell_type": "code",
   "execution_count": 33,
   "id": "78d6aadd",
   "metadata": {},
   "outputs": [
    {
     "ename": "SyntaxError",
     "evalue": "positional argument follows keyword argument (<ipython-input-33-d7036a6a3f90>, line 1)",
     "output_type": "error",
     "traceback": [
      "\u001b[0;36m  File \u001b[0;32m\"<ipython-input-33-d7036a6a3f90>\"\u001b[0;36m, line \u001b[0;32m1\u001b[0m\n\u001b[0;31m    ex4(1,b=20,1)\u001b[0m\n\u001b[0m                ^\u001b[0m\n\u001b[0;31mSyntaxError\u001b[0m\u001b[0;31m:\u001b[0m positional argument follows keyword argument\n"
     ]
    }
   ],
   "source": [
    "ex4(1,b=20,1)"
   ]
  },
  {
   "cell_type": "markdown",
   "id": "17a4d8e2",
   "metadata": {},
   "source": [
    "## Positional and Keyword arguments"
   ]
  },
  {
   "cell_type": "code",
   "execution_count": 52,
   "id": "b6b662dd",
   "metadata": {},
   "outputs": [],
   "source": [
    "def ex5(a=10, b=20, *args, c):\n",
    "    print(f'a={a}, b={b}, args={args}, c={c}')"
   ]
  },
  {
   "cell_type": "markdown",
   "id": "f2797784",
   "metadata": {},
   "source": [
    "After args, as said above, we need keyword arguments"
   ]
  },
  {
   "cell_type": "code",
   "execution_count": 61,
   "id": "5db277b4",
   "metadata": {
    "scrolled": true
   },
   "outputs": [
    {
     "ename": "TypeError",
     "evalue": "ex5() missing 1 required keyword-only argument: 'c'",
     "output_type": "error",
     "traceback": [
      "\u001b[0;31m---------------------------------------------------------------------------\u001b[0m",
      "\u001b[0;31mTypeError\u001b[0m                                 Traceback (most recent call last)",
      "\u001b[0;32m<ipython-input-61-f7cde26f7b45>\u001b[0m in \u001b[0;36m<module>\u001b[0;34m\u001b[0m\n\u001b[0;32m----> 1\u001b[0;31m \u001b[0mex5\u001b[0m\u001b[0;34m(\u001b[0m\u001b[0;36m1\u001b[0m\u001b[0;34m,\u001b[0m\u001b[0;36m2\u001b[0m\u001b[0;34m,\u001b[0m\u001b[0;36m3\u001b[0m\u001b[0;34m,\u001b[0m\u001b[0;36m4\u001b[0m\u001b[0;34m,\u001b[0m\u001b[0;36m5\u001b[0m\u001b[0;34m,\u001b[0m\u001b[0;36m5\u001b[0m\u001b[0;34m,\u001b[0m\u001b[0;36m6\u001b[0m\u001b[0;34m,\u001b[0m \u001b[0;36m10\u001b[0m\u001b[0;34m)\u001b[0m\u001b[0;34m\u001b[0m\u001b[0;34m\u001b[0m\u001b[0m\n\u001b[0m",
      "\u001b[0;31mTypeError\u001b[0m: ex5() missing 1 required keyword-only argument: 'c'"
     ]
    }
   ],
   "source": [
    "ex5(1,2,3,4,5,5,6, 10)"
   ]
  },
  {
   "cell_type": "code",
   "execution_count": 53,
   "id": "864694ea",
   "metadata": {},
   "outputs": [
    {
     "name": "stdout",
     "output_type": "stream",
     "text": [
      "a=1, b=2, args=(3, 4, 5, 5, 6), c=10\n"
     ]
    }
   ],
   "source": [
    "ex5(1,2,3,4,5,5,6, c=10)"
   ]
  },
  {
   "cell_type": "markdown",
   "id": "3163425b",
   "metadata": {},
   "source": [
    "This cannot happen because after every keyword argument, **must exist only keyword arguments**"
   ]
  },
  {
   "cell_type": "code",
   "execution_count": 55,
   "id": "28026ba0",
   "metadata": {},
   "outputs": [
    {
     "ename": "SyntaxError",
     "evalue": "positional argument follows keyword argument (<ipython-input-55-8650b5e77377>, line 1)",
     "output_type": "error",
     "traceback": [
      "\u001b[0;36m  File \u001b[0;32m\"<ipython-input-55-8650b5e77377>\"\u001b[0;36m, line \u001b[0;32m1\u001b[0m\n\u001b[0;31m    ex5(a=244,b=222,94,213,12,'asda', c='nanana')\u001b[0m\n\u001b[0m                                                ^\u001b[0m\n\u001b[0;31mSyntaxError\u001b[0m\u001b[0;31m:\u001b[0m positional argument follows keyword argument\n"
     ]
    }
   ],
   "source": [
    "ex5(a=244,b=222,94,213,12,'asda', c='nanana')"
   ]
  },
  {
   "cell_type": "markdown",
   "id": "391bc48d",
   "metadata": {},
   "source": [
    "#### * without args"
   ]
  },
  {
   "cell_type": "code",
   "execution_count": 59,
   "id": "2bc69503",
   "metadata": {},
   "outputs": [],
   "source": [
    "def ex6(a=10, b=20, *, c):\n",
    "    print(f'a={a}, b={b}, c={c}')"
   ]
  },
  {
   "cell_type": "code",
   "execution_count": 60,
   "id": "a8fae92d",
   "metadata": {},
   "outputs": [
    {
     "name": "stdout",
     "output_type": "stream",
     "text": [
      "a=1, b=2, c=10\n"
     ]
    }
   ],
   "source": [
    "ex6(1,2, c=10)"
   ]
  },
  {
   "cell_type": "markdown",
   "id": "609ef8f7",
   "metadata": {},
   "source": [
    "As is described as TypeError, the star won't take any number of positional arguments, the star means that, from the star and on, we should declare only keyword arguments and before getting to the star, we need at least 2 positional arguments (could be more) just following the ex6 function"
   ]
  },
  {
   "cell_type": "code",
   "execution_count": 62,
   "id": "4d30456f",
   "metadata": {},
   "outputs": [
    {
     "ename": "TypeError",
     "evalue": "ex6() takes from 0 to 2 positional arguments but 6 positional arguments (and 1 keyword-only argument) were given",
     "output_type": "error",
     "traceback": [
      "\u001b[0;31m---------------------------------------------------------------------------\u001b[0m",
      "\u001b[0;31mTypeError\u001b[0m                                 Traceback (most recent call last)",
      "\u001b[0;32m<ipython-input-62-005d0adf0410>\u001b[0m in \u001b[0;36m<module>\u001b[0;34m\u001b[0m\n\u001b[0;32m----> 1\u001b[0;31m \u001b[0mex6\u001b[0m\u001b[0;34m(\u001b[0m\u001b[0;36m1\u001b[0m\u001b[0;34m,\u001b[0m\u001b[0;36m2\u001b[0m\u001b[0;34m,\u001b[0m \u001b[0;36m2\u001b[0m\u001b[0;34m,\u001b[0m\u001b[0;36m3\u001b[0m\u001b[0;34m,\u001b[0m\u001b[0;36m4\u001b[0m\u001b[0;34m,\u001b[0m\u001b[0;36m5\u001b[0m\u001b[0;34m,\u001b[0m \u001b[0mc\u001b[0m\u001b[0;34m=\u001b[0m\u001b[0;36m10\u001b[0m\u001b[0;34m)\u001b[0m\u001b[0;34m\u001b[0m\u001b[0;34m\u001b[0m\u001b[0m\n\u001b[0m",
      "\u001b[0;31mTypeError\u001b[0m: ex6() takes from 0 to 2 positional arguments but 6 positional arguments (and 1 keyword-only argument) were given"
     ]
    }
   ],
   "source": [
    "ex6(1,2, 2,3,4,5, c=10)"
   ]
  },
  {
   "cell_type": "code",
   "execution_count": 65,
   "id": "45dbfda4",
   "metadata": {},
   "outputs": [
    {
     "name": "stdout",
     "output_type": "stream",
     "text": [
      "a=3, b=1, c=2\n"
     ]
    }
   ],
   "source": [
    "ex6(b=1,c=2,a=3)"
   ]
  }
 ],
 "metadata": {
  "kernelspec": {
   "display_name": "Python 3",
   "language": "python",
   "name": "python3"
  },
  "language_info": {
   "codemirror_mode": {
    "name": "ipython",
    "version": 3
   },
   "file_extension": ".py",
   "mimetype": "text/x-python",
   "name": "python",
   "nbconvert_exporter": "python",
   "pygments_lexer": "ipython3",
   "version": "3.9.7"
  }
 },
 "nbformat": 4,
 "nbformat_minor": 5
}
