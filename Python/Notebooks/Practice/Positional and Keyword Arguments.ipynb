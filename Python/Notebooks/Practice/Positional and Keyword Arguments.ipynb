{
 "cells": [
  {
   "cell_type": "markdown",
   "id": "dcce56fb",
   "metadata": {},
   "source": [
    "## Only Positional arguments"
   ]
  },
  {
   "cell_type": "code",
   "execution_count": 1,
   "id": "6abddc4a",
   "metadata": {},
   "outputs": [],
   "source": [
    "def ex1(a,b,c):\n",
    "    print(f'a={a}, b={b}, c={c}')"
   ]
  },
  {
   "cell_type": "code",
   "execution_count": 2,
   "id": "f8dba68d",
   "metadata": {},
   "outputs": [
    {
     "name": "stdout",
     "output_type": "stream",
     "text": [
      "a=10, b=20, c=30\n"
     ]
    }
   ],
   "source": [
    "ex1(10,20,30)"
   ]
  },
  {
   "cell_type": "markdown",
   "id": "1daff33f",
   "metadata": {},
   "source": [
    "We can unpack with positional arguments"
   ]
  },
  {
   "cell_type": "code",
   "execution_count": 3,
   "id": "47d7c808",
   "metadata": {},
   "outputs": [
    {
     "name": "stdout",
     "output_type": "stream",
     "text": [
      "a=1, b=2, c=(3, 4)\n"
     ]
    }
   ],
   "source": [
    "list = [1,2,(3,4)]\n",
    "ex1(*list)"
   ]
  },
  {
   "cell_type": "code",
   "execution_count": 14,
   "id": "5b567516",
   "metadata": {},
   "outputs": [],
   "source": [
    "def ex2(*args):\n",
    "    print(f'args={args}')"
   ]
  },
  {
   "cell_type": "code",
   "execution_count": 15,
   "id": "f30db742",
   "metadata": {},
   "outputs": [
    {
     "name": "stdout",
     "output_type": "stream",
     "text": [
      "args=(1, 2, 3, 4, 5, 5, 6, 7, 8)\n"
     ]
    }
   ],
   "source": [
    "ex2(1,2,3,4,5,5,6,7,8)"
   ]
  },
  {
   "cell_type": "markdown",
   "id": "a4b77aa2",
   "metadata": {},
   "source": [
    "Having a dictionary and unpacking only its keywords, we will get it as string argument, not as keywords"
   ]
  },
  {
   "cell_type": "code",
   "execution_count": 19,
   "id": "ecdac948",
   "metadata": {
    "scrolled": true
   },
   "outputs": [
    {
     "name": "stdout",
     "output_type": "stream",
     "text": [
      "args=(1, 2, 3, 4, 5, 'k1', 'k2')\n"
     ]
    }
   ],
   "source": [
    "l = [1,2,3,4,5]\n",
    "d = {'k1': 1, 'k2': 2}\n",
    "\n",
    "ex2(*l,*d)"
   ]
  },
  {
   "cell_type": "markdown",
   "id": "67c9a665",
   "metadata": {},
   "source": [
    "But, when we deal with the entire dictionary, Python will read it as keyword arguments"
   ]
  },
  {
   "cell_type": "code",
   "execution_count": 20,
   "id": "a87c7be4",
   "metadata": {},
   "outputs": [
    {
     "ename": "TypeError",
     "evalue": "ex2() got an unexpected keyword argument 'k1'",
     "output_type": "error",
     "traceback": [
      "\u001b[0;31m---------------------------------------------------------------------------\u001b[0m",
      "\u001b[0;31mTypeError\u001b[0m                                 Traceback (most recent call last)",
      "\u001b[0;32m<ipython-input-20-aa1244d3438b>\u001b[0m in \u001b[0;36m<module>\u001b[0;34m\u001b[0m\n\u001b[1;32m      2\u001b[0m \u001b[0md\u001b[0m \u001b[0;34m=\u001b[0m \u001b[0;34m{\u001b[0m\u001b[0;34m'k1'\u001b[0m\u001b[0;34m:\u001b[0m \u001b[0;36m1\u001b[0m\u001b[0;34m,\u001b[0m \u001b[0;34m'k2'\u001b[0m\u001b[0;34m:\u001b[0m \u001b[0;36m2\u001b[0m\u001b[0;34m}\u001b[0m\u001b[0;34m\u001b[0m\u001b[0;34m\u001b[0m\u001b[0m\n\u001b[1;32m      3\u001b[0m \u001b[0;34m\u001b[0m\u001b[0m\n\u001b[0;32m----> 4\u001b[0;31m \u001b[0mex2\u001b[0m\u001b[0;34m(\u001b[0m\u001b[0;34m*\u001b[0m\u001b[0ml\u001b[0m\u001b[0;34m,\u001b[0m\u001b[0;34m**\u001b[0m\u001b[0md\u001b[0m\u001b[0;34m)\u001b[0m\u001b[0;34m\u001b[0m\u001b[0;34m\u001b[0m\u001b[0m\n\u001b[0m",
      "\u001b[0;31mTypeError\u001b[0m: ex2() got an unexpected keyword argument 'k1'"
     ]
    }
   ],
   "source": [
    "l = [1,2,3,4,5]\n",
    "d = {'k1': 1, 'k2': 2}\n",
    "\n",
    "ex2(*l,**d)"
   ]
  },
  {
   "cell_type": "markdown",
   "id": "662bcf10",
   "metadata": {},
   "source": [
    "## Only keyword arguments"
   ]
  },
  {
   "cell_type": "code",
   "execution_count": 21,
   "id": "d7de1a0c",
   "metadata": {},
   "outputs": [],
   "source": [
    "def ex3(a,b,c):\n",
    "    print(f'a={a}, b={b}, c={c}')"
   ]
  },
  {
   "cell_type": "code",
   "execution_count": 22,
   "id": "fa89e63c",
   "metadata": {},
   "outputs": [
    {
     "name": "stdout",
     "output_type": "stream",
     "text": [
      "a=1, b=2, c=3\n"
     ]
    }
   ],
   "source": [
    "ex3(1,2,3)"
   ]
  },
  {
   "cell_type": "code",
   "execution_count": 24,
   "id": "71ddfe6c",
   "metadata": {},
   "outputs": [
    {
     "name": "stdout",
     "output_type": "stream",
     "text": [
      "a=10, b=20, c=30\n"
     ]
    }
   ],
   "source": [
    "ex3(10,20,c=30)"
   ]
  },
  {
   "cell_type": "markdown",
   "id": "0e996660",
   "metadata": {},
   "source": [
    "When we deal with keyword arguments, when we define a keyword argument, is necessary to define the rest with the same structure, with a keyword,"
   ]
  },
  {
   "cell_type": "code",
   "execution_count": 25,
   "id": "4d20e876",
   "metadata": {},
   "outputs": [
    {
     "ename": "SyntaxError",
     "evalue": "positional argument follows keyword argument (<ipython-input-25-054b30b645a0>, line 1)",
     "output_type": "error",
     "traceback": [
      "\u001b[0;36m  File \u001b[0;32m\"<ipython-input-25-054b30b645a0>\"\u001b[0;36m, line \u001b[0;32m1\u001b[0m\n\u001b[0;31m    ex3(a=2,32,4)\u001b[0m\n\u001b[0m                ^\u001b[0m\n\u001b[0;31mSyntaxError\u001b[0m\u001b[0;31m:\u001b[0m positional argument follows keyword argument\n"
     ]
    }
   ],
   "source": [
    "ex3(a=2,32,4)"
   ]
  },
  {
   "cell_type": "code",
   "execution_count": 26,
   "id": "fdf8a025",
   "metadata": {},
   "outputs": [
    {
     "name": "stdout",
     "output_type": "stream",
     "text": [
      "a=2, b=2, c=3\n"
     ]
    }
   ],
   "source": [
    "ex3(a=2,b=2,c=3)"
   ]
  },
  {
   "cell_type": "code",
   "execution_count": 28,
   "id": "746eca57",
   "metadata": {},
   "outputs": [
    {
     "name": "stdout",
     "output_type": "stream",
     "text": [
      "a=10, b=2, c=1\n"
     ]
    }
   ],
   "source": [
    "ex3(b=2,c=1,a=10)"
   ]
  },
  {
   "cell_type": "markdown",
   "id": "75b5396b",
   "metadata": {},
   "source": [
    "In this case below, we have keyweords in the parameters, even so, they only serve as a default value"
   ]
  },
  {
   "cell_type": "code",
   "execution_count": 29,
   "id": "9058cd9e",
   "metadata": {},
   "outputs": [],
   "source": [
    "def ex4(a=10,b=10,c=20):\n",
    "    print(f'a={a}, b={b}, c={c}')"
   ]
  },
  {
   "cell_type": "code",
   "execution_count": 30,
   "id": "211dc7db",
   "metadata": {},
   "outputs": [
    {
     "name": "stdout",
     "output_type": "stream",
     "text": [
      "a=10, b=10, c=20\n"
     ]
    }
   ],
   "source": [
    "ex4()"
   ]
  },
  {
   "cell_type": "markdown",
   "id": "01ed3bba",
   "metadata": {},
   "source": [
    "Still, we have to use keyword argument in the moment we define one argument with a keyword"
   ]
  },
  {
   "cell_type": "code",
   "execution_count": 33,
   "id": "b3da51cc",
   "metadata": {},
   "outputs": [
    {
     "ename": "SyntaxError",
     "evalue": "positional argument follows keyword argument (<ipython-input-33-d7036a6a3f90>, line 1)",
     "output_type": "error",
     "traceback": [
      "\u001b[0;36m  File \u001b[0;32m\"<ipython-input-33-d7036a6a3f90>\"\u001b[0;36m, line \u001b[0;32m1\u001b[0m\n\u001b[0;31m    ex4(1,b=20,1)\u001b[0m\n\u001b[0m                ^\u001b[0m\n\u001b[0;31mSyntaxError\u001b[0m\u001b[0;31m:\u001b[0m positional argument follows keyword argument\n"
     ]
    }
   ],
   "source": [
    "ex4(1,b=20,1)"
   ]
  },
  {
   "cell_type": "markdown",
   "id": "25b47839",
   "metadata": {},
   "source": [
    "## Positional and Keyword arguments"
   ]
  },
  {
   "cell_type": "code",
   "execution_count": 52,
   "id": "091fcb36",
   "metadata": {},
   "outputs": [],
   "source": [
    "def ex5(a=10, b=20, *args, c):\n",
    "    print(f'a={a}, b={b}, args={args}, c={c}')"
   ]
  },
  {
   "cell_type": "markdown",
   "id": "fa8f6c79",
   "metadata": {},
   "source": [
    "After args, as said above, we need keyword arguments"
   ]
  },
  {
   "cell_type": "code",
   "execution_count": 61,
   "id": "dcef1431",
   "metadata": {
    "scrolled": true
   },
   "outputs": [
    {
     "ename": "TypeError",
     "evalue": "ex5() missing 1 required keyword-only argument: 'c'",
     "output_type": "error",
     "traceback": [
      "\u001b[0;31m---------------------------------------------------------------------------\u001b[0m",
      "\u001b[0;31mTypeError\u001b[0m                                 Traceback (most recent call last)",
      "\u001b[0;32m<ipython-input-61-f7cde26f7b45>\u001b[0m in \u001b[0;36m<module>\u001b[0;34m\u001b[0m\n\u001b[0;32m----> 1\u001b[0;31m \u001b[0mex5\u001b[0m\u001b[0;34m(\u001b[0m\u001b[0;36m1\u001b[0m\u001b[0;34m,\u001b[0m\u001b[0;36m2\u001b[0m\u001b[0;34m,\u001b[0m\u001b[0;36m3\u001b[0m\u001b[0;34m,\u001b[0m\u001b[0;36m4\u001b[0m\u001b[0;34m,\u001b[0m\u001b[0;36m5\u001b[0m\u001b[0;34m,\u001b[0m\u001b[0;36m5\u001b[0m\u001b[0;34m,\u001b[0m\u001b[0;36m6\u001b[0m\u001b[0;34m,\u001b[0m \u001b[0;36m10\u001b[0m\u001b[0;34m)\u001b[0m\u001b[0;34m\u001b[0m\u001b[0;34m\u001b[0m\u001b[0m\n\u001b[0m",
      "\u001b[0;31mTypeError\u001b[0m: ex5() missing 1 required keyword-only argument: 'c'"
     ]
    }
   ],
   "source": [
    "ex5(1,2,3,4,5,5,6, 10)"
   ]
  },
  {
   "cell_type": "code",
   "execution_count": 53,
   "id": "a20c04c6",
   "metadata": {},
   "outputs": [
    {
     "name": "stdout",
     "output_type": "stream",
     "text": [
      "a=1, b=2, args=(3, 4, 5, 5, 6), c=10\n"
     ]
    }
   ],
   "source": [
    "ex5(1,2,3,4,5,5,6, c=10)"
   ]
  },
  {
   "cell_type": "markdown",
   "id": "241fe6ab",
   "metadata": {},
   "source": [
    "This cannot happen because after every keyword argument, **must exist only keyword arguments**"
   ]
  },
  {
   "cell_type": "code",
   "execution_count": 55,
   "id": "3a5535d8",
   "metadata": {},
   "outputs": [
    {
     "ename": "SyntaxError",
     "evalue": "positional argument follows keyword argument (<ipython-input-55-8650b5e77377>, line 1)",
     "output_type": "error",
     "traceback": [
      "\u001b[0;36m  File \u001b[0;32m\"<ipython-input-55-8650b5e77377>\"\u001b[0;36m, line \u001b[0;32m1\u001b[0m\n\u001b[0;31m    ex5(a=244,b=222,94,213,12,'asda', c='nanana')\u001b[0m\n\u001b[0m                                                ^\u001b[0m\n\u001b[0;31mSyntaxError\u001b[0m\u001b[0;31m:\u001b[0m positional argument follows keyword argument\n"
     ]
    }
   ],
   "source": [
    "ex5(a=244,b=222,94,213,12,'asda', c='nanana')"
   ]
  },
  {
   "cell_type": "markdown",
   "id": "aaafa286",
   "metadata": {},
   "source": [
    "#### * without args"
   ]
  },
  {
   "cell_type": "code",
   "execution_count": 59,
   "id": "acce4569",
   "metadata": {},
   "outputs": [],
   "source": [
    "def ex6(a=10, b=20, *, c):\n",
    "    print(f'a={a}, b={b}, c={c}')"
   ]
  },
  {
   "cell_type": "code",
   "execution_count": 60,
   "id": "5abcde5b",
   "metadata": {},
   "outputs": [
    {
     "name": "stdout",
     "output_type": "stream",
     "text": [
      "a=1, b=2, c=10\n"
     ]
    }
   ],
   "source": [
    "ex6(1,2, c=10)"
   ]
  },
  {
   "cell_type": "markdown",
   "id": "f8a528aa",
   "metadata": {},
   "source": [
    "As is described as TypeError, the star won't take any number of positional arguments, the star means that, from the star and on, we should declare only keyword arguments and before getting to the star, we need at least 2 positional arguments (could be more) just following the ex6 function"
   ]
  },
  {
   "cell_type": "code",
   "execution_count": 62,
   "id": "7d1da34d",
   "metadata": {},
   "outputs": [
    {
     "ename": "TypeError",
     "evalue": "ex6() takes from 0 to 2 positional arguments but 6 positional arguments (and 1 keyword-only argument) were given",
     "output_type": "error",
     "traceback": [
      "\u001b[0;31m---------------------------------------------------------------------------\u001b[0m",
      "\u001b[0;31mTypeError\u001b[0m                                 Traceback (most recent call last)",
      "\u001b[0;32m<ipython-input-62-005d0adf0410>\u001b[0m in \u001b[0;36m<module>\u001b[0;34m\u001b[0m\n\u001b[0;32m----> 1\u001b[0;31m \u001b[0mex6\u001b[0m\u001b[0;34m(\u001b[0m\u001b[0;36m1\u001b[0m\u001b[0;34m,\u001b[0m\u001b[0;36m2\u001b[0m\u001b[0;34m,\u001b[0m \u001b[0;36m2\u001b[0m\u001b[0;34m,\u001b[0m\u001b[0;36m3\u001b[0m\u001b[0;34m,\u001b[0m\u001b[0;36m4\u001b[0m\u001b[0;34m,\u001b[0m\u001b[0;36m5\u001b[0m\u001b[0;34m,\u001b[0m \u001b[0mc\u001b[0m\u001b[0;34m=\u001b[0m\u001b[0;36m10\u001b[0m\u001b[0;34m)\u001b[0m\u001b[0;34m\u001b[0m\u001b[0;34m\u001b[0m\u001b[0m\n\u001b[0m",
      "\u001b[0;31mTypeError\u001b[0m: ex6() takes from 0 to 2 positional arguments but 6 positional arguments (and 1 keyword-only argument) were given"
     ]
    }
   ],
   "source": [
    "ex6(1,2, 2,3,4,5, c=10)"
   ]
  },
  {
   "cell_type": "code",
   "execution_count": 65,
   "id": "4caaa0ef",
   "metadata": {},
   "outputs": [
    {
     "name": "stdout",
     "output_type": "stream",
     "text": [
      "a=3, b=1, c=2\n"
     ]
    }
   ],
   "source": [
    "ex6(b=1,c=2,a=3)"
   ]
  },
  {
   "cell_type": "code",
   "execution_count": null,
   "id": "7b62ad46",
   "metadata": {},
   "outputs": [],
   "source": []
  }
 ],
 "metadata": {
  "kernelspec": {
   "display_name": "Python 3",
   "language": "python",
   "name": "python3"
  },
  "language_info": {
   "codemirror_mode": {
    "name": "ipython",
    "version": 3
   },
   "file_extension": ".py",
   "mimetype": "text/x-python",
   "name": "python",
   "nbconvert_exporter": "python",
   "pygments_lexer": "ipython3",
   "version": "3.9.7"
  }
 },
 "nbformat": 4,
 "nbformat_minor": 5
}
