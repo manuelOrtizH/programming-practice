{
 "cells": [
  {
   "cell_type": "markdown",
   "id": "ad7874e6",
   "metadata": {},
   "source": [
    "# Common Python Gotchas\n",
    "From Chapter 8 of 'Beyond the Basic Stuff With Python' by Al Sweigart"
   ]
  },
  {
   "cell_type": "markdown",
   "id": "b5f0445a",
   "metadata": {},
   "source": [
    "## Don’t Copy Mutable Values Without copy.copy() and copy.deepcopy()"
   ]
  },
  {
   "cell_type": "markdown",
   "id": "1b4a0ab2",
   "metadata": {},
   "source": [
    "It’s better to think of variables as labels or name tags that refer to objects rather than as boxes that contain objects. This mental model is especially useful when it comes to modifying mutable objects: objects such as lists, dictionaries, and sets whose value can mutate (that is, change). A common gotcha occurs when copying one variable that refers to a mutable object to another variable and thinking that the actual object is being copied. In Python, assignment statements never copy objects; they only copy the references to an object. (Python developer Ned Batchelder has a great PyCon 2015 talk on this idea titled, “Facts and Myths about Python Names and Values.” Watch it at https://youtu.be/_AEJHKGk9ns.)"
   ]
  },
  {
   "cell_type": "code",
   "execution_count": 10,
   "id": "fde4f38a",
   "metadata": {},
   "outputs": [
    {
     "name": "stdout",
     "output_type": "stream",
     "text": [
      "Spam:  ['cat', 'dog', 'eel']\n",
      "Cheese:  ['cat', 'dog', 'eel']\n",
      "Spam after adding MOOSE:  ['cat', 'dog', 'MOOSE']\n",
      "Cheese:  ['cat', 'dog', 'MOOSE']\n",
      "Id cheese:  4420793728\n",
      "Id spam:  4420793728\n"
     ]
    }
   ],
   "source": [
    "spam = ['cat', 'dog', 'eel']\n",
    "cheese = spam\n",
    "print(\"Spam: \", spam)\n",
    "print(\"Cheese: \", cheese)\n",
    "\n",
    "spam[2] = 'MOOSE'\n",
    "print(\"Spam after adding MOOSE: \", spam)\n",
    "\n",
    "print(\"Cheese: \", cheese)\n",
    "print(\"Id cheese: \", id(cheese)) \n",
    "print(\"Id spam: \", id(spam))"
   ]
  },
  {
   "cell_type": "markdown",
   "id": "99748247",
   "metadata": {},
   "source": [
    "## Don’t Use Mutable Values for Default Arguments"
   ]
  },
  {
   "cell_type": "code",
   "execution_count": null,
   "id": "c2fec904",
   "metadata": {},
   "outputs": [],
   "source": []
  }
 ],
 "metadata": {
  "kernelspec": {
   "display_name": "Python 3",
   "language": "python",
   "name": "python3"
  },
  "language_info": {
   "codemirror_mode": {
    "name": "ipython",
    "version": 3
   },
   "file_extension": ".py",
   "mimetype": "text/x-python",
   "name": "python",
   "nbconvert_exporter": "python",
   "pygments_lexer": "ipython3",
   "version": "3.9.6"
  }
 },
 "nbformat": 4,
 "nbformat_minor": 5
}
